{
 "cells": [
  {
   "cell_type": "code",
   "execution_count": 3,
   "metadata": {},
   "outputs": [
    {
     "name": "stdout",
     "output_type": "stream",
     "text": [
      "cwd: /home/opisthofulax/PhD/projects/complex-networks/LRG-Signed\n"
     ]
    }
   ],
   "source": [
    "%matplotlib inline\n",
    "#\n",
    "from LRGSG_package.LRGSG import *\n",
    "#\n",
    "move_to_rootf(print_tf=True)\n",
    "plt.style.use('nb/nb_plotsheet.mplstyle')\n",
    "#\n",
    "figpath = \"data/plot/paper/suppinf/\""
   ]
  },
  {
   "cell_type": "code",
   "execution_count": 7,
   "metadata": {},
   "outputs": [],
   "source": [
    "l = Lattice2D(16, pflip=0.103, with_positions=True)\n",
    "l.flip_sel_edges(l.neg_weights_dict['randXERR']['G'])"
   ]
  },
  {
   "cell_type": "code",
   "execution_count": null,
   "metadata": {},
   "outputs": [],
   "source": [
    "def map_values(value):\n",
    "    if value == -1:\n",
    "        return 'r'\n",
    "    elif value == 1:\n",
    "        return 'blue'\n",
    "    else:\n",
    "        return value"
   ]
  },
  {
   "cell_type": "code",
   "execution_count": 19,
   "metadata": {},
   "outputs": [
    {
     "ename": "ValueError",
     "evalue": "invalid literal for int() with base 10: 'r'",
     "output_type": "error",
     "traceback": [
      "\u001b[0;31m---------------------------------------------------------------------------\u001b[0m",
      "\u001b[0;31mValueError\u001b[0m                                Traceback (most recent call last)",
      "Cell \u001b[0;32mIn[19], line 2\u001b[0m\n\u001b[1;32m      1\u001b[0m arr \u001b[38;5;241m=\u001b[39m np\u001b[38;5;241m.\u001b[39marray(\u001b[38;5;28mlist\u001b[39m(nx\u001b[38;5;241m.\u001b[39mget_edge_attributes(l\u001b[38;5;241m.\u001b[39mG, \u001b[38;5;124m'\u001b[39m\u001b[38;5;124mweight\u001b[39m\u001b[38;5;124m'\u001b[39m)\u001b[38;5;241m.\u001b[39mvalues()))\n\u001b[0;32m----> 2\u001b[0m arr[arr \u001b[38;5;241m==\u001b[39m \u001b[38;5;241m-\u001b[39m\u001b[38;5;241m1\u001b[39m] \u001b[38;5;241m=\u001b[39m \u001b[38;5;124m'\u001b[39m\u001b[38;5;124mr\u001b[39m\u001b[38;5;124m'\u001b[39m\n\u001b[1;32m      3\u001b[0m arr[arr \u001b[38;5;241m==\u001b[39m \u001b[38;5;241m1\u001b[39m] \u001b[38;5;241m=\u001b[39m \u001b[38;5;124m'\u001b[39m\u001b[38;5;124mb\u001b[39m\u001b[38;5;124m'\u001b[39m\n\u001b[1;32m      4\u001b[0m nx\u001b[38;5;241m.\u001b[39mdraw(l\u001b[38;5;241m.\u001b[39mG, pos \u001b[38;5;241m=\u001b[39m nx\u001b[38;5;241m.\u001b[39mget_node_attributes(l\u001b[38;5;241m.\u001b[39mG, \u001b[38;5;124m'\u001b[39m\u001b[38;5;124mpos\u001b[39m\u001b[38;5;124m'\u001b[39m), edge_color\u001b[38;5;241m=\u001b[39marr )\n",
      "\u001b[0;31mValueError\u001b[0m: invalid literal for int() with base 10: 'r'"
     ]
    }
   ],
   "source": [
    "arr = list(nx.get_edge_attributes(l.G, 'weight').values())\n",
    "arr[arr == -1] = 'r'\n",
    "arr[arr == 1] = 'b'\n",
    "nx.draw(l.G, pos = nx.get_node_attributes(l.G, 'pos'), edge_color=arr)"
   ]
  },
  {
   "cell_type": "code",
   "execution_count": null,
   "metadata": {},
   "outputs": [],
   "source": [
    "List = 2**np.arange(4, 9)\n",
    "plist = np.concatenate((np.logspace(-3, np.log10(0.05), num=5),\n",
    "                        np.linspace(1e-2, 0.2, num=10),\n",
    "                        np.linspace(0.2, 0.5, num=5)))\n",
    "geometry_cell_dict = {'squared': ['single', 'square', 'cross'],\n",
    "                      'triangular': ['single', 'triangle', 'cross'],\n",
    "                      'hexagonal': ['single', 'hexagon', 'cross']}"
   ]
  },
  {
   "cell_type": "code",
   "execution_count": null,
   "metadata": {},
   "outputs": [],
   "source": [
    "dict_max = {}\n",
    "for geo, cellst in geometry_cell_dict.items():\n",
    "    dict_max[geo] = {}\n",
    "    for c in cellst:\n",
    "        dict_max[geo][c] = {}\n",
    "        for L in List:\n",
    "            l = Lattice2D(L, geo=geo, sgpath=\"cluster_data/\")\n",
    "            search_dir = l.phtrapath\n",
    "            output_file_name = os.path.join(search_dir, f'cat_{c}.txt')\n",
    "            if not os.path.exists(output_file_name):\n",
    "                print(search_dir, end='\\r')\n",
    "                #\n",
    "                matching_files = find_matching_files(search_dir, c)\n",
    "                # Concatenate the found files into the output file\n",
    "                with open(output_file_name, 'w') as outfile:\n",
    "                    for fname in matching_files:\n",
    "                        # Construct the full path to open the file\n",
    "                        file_path = os.path.join(search_dir, fname)\n",
    "                        with open(file_path, 'r') as infile:\n",
    "                            outfile.write(infile.read())\n",
    "            print(\"loading \", search_dir, end='\\r')\n",
    "            dict_max[geo][c][L] = np.loadtxt(output_file_name, delimiter=',')\n",
    "                        # Optionally, write a newline character between files"
   ]
  },
  {
   "cell_type": "code",
   "execution_count": null,
   "metadata": {},
   "outputs": [],
   "source": [
    "for geo, cellst in geometry_cell_dict.items():\n",
    "    fig, ax = plt.subplots()\n",
    "    for c, cc in zip(cellst, ['red', 'green', 'blue']):\n",
    "        for L in list(dict_max[geo][c].keys()):\n",
    "            arr = dict_max[geo][c][L]\n",
    "            column_index = 5\n",
    "            try:\n",
    "                sorted_indices = np.argsort(arr[:, column_index])\n",
    "                sorted_arr = arr[sorted_indices]\n",
    "                ax.plot(sorted_arr[:, 5], sorted_arr[:, 1], 'o-', c=cc, ms=10)\n",
    "            except IndexError:\n",
    "                pass"
   ]
  },
  {
   "cell_type": "code",
   "execution_count": null,
   "metadata": {},
   "outputs": [],
   "source": []
  }
 ],
 "metadata": {
  "kernelspec": {
   "display_name": "LRG-Signed",
   "language": "python",
   "name": "python3"
  },
  "language_info": {
   "codemirror_mode": {
    "name": "ipython",
    "version": 3
   },
   "file_extension": ".py",
   "mimetype": "text/x-python",
   "name": "python",
   "nbconvert_exporter": "python",
   "pygments_lexer": "ipython3",
   "version": "3.9.18"
  }
 },
 "nbformat": 4,
 "nbformat_minor": 2
}
