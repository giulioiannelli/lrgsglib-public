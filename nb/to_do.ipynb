{
 "cells": [
  {
   "cell_type": "markdown",
   "metadata": {},
   "source": [
    "## TO DO:\n",
    "\n",
    "- finisci tagli X e Z ERR\n",
    "- DA VEDERE IN 3D\n",
    "- manda distribuzione intertempi random walk\n",
    "- keep the number of negative links when flipping Z\n",
    "- plot con le celle in differenti geometrie\n",
    "- decomposizione del groud state in autostati\n",
    "\n"
   ]
  },
  {
   "cell_type": "markdown",
   "metadata": {},
   "source": []
  }
 ],
 "metadata": {
  "language_info": {
   "name": "python"
  }
 },
 "nbformat": 4,
 "nbformat_minor": 2
}
