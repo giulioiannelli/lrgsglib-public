{
 "cells": [
  {
   "cell_type": "markdown",
   "metadata": {},
   "source": [
    "## TO DO:\n",
    "\n",
    "- DA VEDERE IN 3D\n",
    "- tagli sul triangolare\n",
    "- plot con le celle in differenti geometrie\n",
    "- manda distribuzione intertempi random walk\n",
    "- conta i cluster della minoranza (correggi perCluster)\n",
    "- decomposizione del groud state in autostati"
   ]
  },
  {
   "cell_type": "markdown",
   "metadata": {},
   "source": []
  }
 ],
 "metadata": {
  "language_info": {
   "name": "python"
  }
 },
 "nbformat": 4,
 "nbformat_minor": 2
}
