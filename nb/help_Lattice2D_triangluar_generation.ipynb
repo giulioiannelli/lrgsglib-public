{
 "cells": [
  {
   "cell_type": "code",
   "execution_count": 1,
   "metadata": {},
   "outputs": [],
   "source": [
    "import networkx as nx"
   ]
  },
  {
   "cell_type": "code",
   "execution_count": 1,
   "metadata": {},
   "outputs": [],
   "source": [
    "def re_triangular_lattice_graph(\n",
    "    m, n, periodic=False, with_positions=True, create_using=None\n",
    "):\n",
    "    from numpy import sqrt\n",
    "    from networkx import empty_graph, NetworkXError, set_node_attributes\n",
    "    from networkx.algorithms.minors import contracted_nodes\n",
    "    H = empty_graph(0, create_using)\n",
    "    if n == 0 or m == 0:\n",
    "        return H\n",
    "    if periodic:\n",
    "        if n < 5 or m < 3:\n",
    "            msg = f\"m > 2 and n > 4 required for periodic. m={m}, n={n}\"\n",
    "            raise NetworkXError(msg)\n",
    "\n",
    "    N = (n + 1) // 2  # number of nodes in row\n",
    "    rows = range(m + 1)\n",
    "    cols = range(N + 1)\n",
    "    # Make grid\n",
    "    print(\"add edge 1\")\n",
    "    H.add_edges_from(((i, j), (i + 1, j)) for j in rows for i in cols[:N])\n",
    "    print(\"add edge 2\")\n",
    "    H.add_edges_from(((i, j), (i, j + 1)) for j in rows[:m] for i in cols)\n",
    "    # add diagonals\n",
    "    print(\"add edge 3\")\n",
    "    H.add_edges_from(((i, j), (i + 1, j + 1)) for j in rows[1:m:2] for i in cols[:N])\n",
    "    print(\"add edge 4\")\n",
    "    H.add_edges_from(((i + 1, j), (i, j + 1)) for j in rows[:m:2] for i in cols[:N])\n",
    "    # identify boundary nodes if periodic\n",
    "    print(\"periodicity\")\n",
    "    if periodic is True:\n",
    "        for i in cols:\n",
    "            H = contracted_nodes(H, (i, 0), (i, m))\n",
    "        for j in rows[:m]:\n",
    "            H = contracted_nodes(H, (0, j), (N, j))\n",
    "    elif n % 2:\n",
    "        # remove extra nodes\n",
    "        H.remove_nodes_from((N, j) for j in rows[1::2])\n",
    "\n",
    "    # Add position node attributes\n",
    "    if with_positions:\n",
    "        ii = (i for i in cols for j in rows)\n",
    "        jj = (j for i in cols for j in rows)\n",
    "        xx = (0.5 * (j % 2) + i for i in cols for j in rows)\n",
    "        h = sqrt(3) / 2\n",
    "        if periodic:\n",
    "            yy = (h * j + 0.01 * i * i for i in cols for j in rows)\n",
    "        else:\n",
    "            yy = (h * j for i in cols for j in rows)\n",
    "        pos = {(i, j): (x, y) for i, j, x, y in zip(ii, jj, xx, yy) if (i, j) in H}\n",
    "        set_node_attributes(H, pos, \"pos\")\n",
    "    return H"
   ]
  },
  {
   "cell_type": "code",
   "execution_count": 3,
   "metadata": {},
   "outputs": [],
   "source": [
    "G = nx.triangular_lattice_graph(512, 256, periodic=True)"
   ]
  },
  {
   "cell_type": "code",
   "execution_count": null,
   "metadata": {},
   "outputs": [],
   "source": []
  }
 ],
 "metadata": {
  "kernelspec": {
   "display_name": "LRG-Signed",
   "language": "python",
   "name": "python3"
  },
  "language_info": {
   "codemirror_mode": {
    "name": "ipython",
    "version": 3
   },
   "file_extension": ".py",
   "mimetype": "text/x-python",
   "name": "python",
   "nbconvert_exporter": "python",
   "pygments_lexer": "ipython3",
   "version": "3.9.18"
  }
 },
 "nbformat": 4,
 "nbformat_minor": 2
}
