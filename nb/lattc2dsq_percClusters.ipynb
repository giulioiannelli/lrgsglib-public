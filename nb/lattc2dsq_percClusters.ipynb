{
 "cells": [
  {
   "cell_type": "code",
   "execution_count": null,
   "metadata": {},
   "outputs": [],
   "source": [
    "%matplotlib inline\n",
    "#\n",
    "from LRGSG_package.LRGSG import *\n",
    "move_to_rootf(print_tf=True)"
   ]
  },
  {
   "cell_type": "code",
   "execution_count": null,
   "metadata": {},
   "outputs": [],
   "source": [
    "p = 0.108"
   ]
  },
  {
   "cell_type": "code",
   "execution_count": null,
   "metadata": {},
   "outputs": [],
   "source": [
    "for L in [8, 16, 32, 64, 128, 256]:\n",
    "    merged_dict = Counter()\n",
    "    number_of_averages = 4096 // L\n",
    "    lattice = Lattice2D(L, pflip=p)\n",
    "    filename = f'{lattice.lrgsgpath}p={p:.3g}_na={number_of_averages}.pickle'\n",
    "    if os.path.exists(filename):\n",
    "        continue\n",
    "    for avg in tqdm(range(number_of_averages)):\n",
    "        lattice.flip_random_fract_edges()\n",
    "        dist_dict = lattice.cluster_distribution_list()\n",
    "        merged_dict += Counter(dist_dict)\n",
    "        lattice.unflip_all()\n",
    "        delattr(lattice, \"eigV\")\n",
    "\n",
    "\n",
    "    with open(filename, 'wb') as file:\n",
    "        pickle.dump(list(merged_dict.values()), file)"
   ]
  },
  {
   "cell_type": "code",
   "execution_count": null,
   "metadata": {},
   "outputs": [],
   "source": [
    "for side in [64, 128, 256]:\n",
    "    fpath = f\"data/l2d_squared/lrgsg/N={side**2}/p={p:.3g}_na={4096//side}.pickle\"\n",
    "    with open(fpath, 'rb') as file:\n",
    "        prova = pickle.load(file)\n",
    "    binc, hist, bw = log_binning(prova, 20)\n",
    "    hist1 = hist/bw\n",
    "    np.where(hist1==0., np.inf, hist1)\n",
    "    plt.plot(binc, np.where(hist1==0., np.inf, hist1), 'h-', label=f\"{side}\")\n",
    "plt.plot(binc, 1000*(1.0*np.array(binc))**(-2.05))\n",
    "\n",
    "#\n",
    "plt.legend()\n",
    "plt.xscale('log')\n",
    "plt.yscale('log')"
   ]
  },
  {
   "cell_type": "markdown",
   "metadata": {},
   "source": [
    "1000 medie, up to 1024, progressive save"
   ]
  }
 ],
 "metadata": {
  "kernelspec": {
   "display_name": "LRG-Signed",
   "language": "python",
   "name": "python3"
  },
  "language_info": {
   "codemirror_mode": {
    "name": "ipython",
    "version": 3
   },
   "file_extension": ".py",
   "mimetype": "text/x-python",
   "name": "python",
   "nbconvert_exporter": "python",
   "pygments_lexer": "ipython3",
   "version": "3.12.0"
  }
 },
 "nbformat": 4,
 "nbformat_minor": 2
}
