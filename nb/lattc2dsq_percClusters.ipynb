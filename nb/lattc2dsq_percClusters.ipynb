{
 "cells": [
  {
   "cell_type": "code",
   "execution_count": 1,
   "metadata": {},
   "outputs": [
    {
     "name": "stdout",
     "output_type": "stream",
     "text": [
      "cwd: /home/opisthofulax/PhD/projects/complex-networks/LRG-Signed\n"
     ]
    }
   ],
   "source": [
    "%matplotlib inline\n",
    "#\n",
    "from LRGSG_package.LRGSG import *\n",
    "move_to_rootf(print_tf=True)"
   ]
  },
  {
   "cell_type": "code",
   "execution_count": 2,
   "metadata": {},
   "outputs": [],
   "source": [
    "p = 0.103"
   ]
  },
  {
   "cell_type": "code",
   "execution_count": 1,
   "metadata": {},
   "outputs": [
    {
     "ename": "NameError",
     "evalue": "name 'tqdm' is not defined",
     "output_type": "error",
     "traceback": [
      "\u001b[0;31m---------------------------------------------------------------------------\u001b[0m",
      "\u001b[0;31mNameError\u001b[0m                                 Traceback (most recent call last)",
      "Cell \u001b[0;32mIn[1], line 1\u001b[0m\n\u001b[0;32m----> 1\u001b[0m \u001b[38;5;28;01mfor\u001b[39;00m L \u001b[38;5;129;01min\u001b[39;00m \u001b[43mtqdm\u001b[49m([\u001b[38;5;241m8\u001b[39m, \u001b[38;5;241m16\u001b[39m, \u001b[38;5;241m32\u001b[39m, \u001b[38;5;241m64\u001b[39m, \u001b[38;5;241m128\u001b[39m, \u001b[38;5;241m256\u001b[39m, \u001b[38;5;241m512\u001b[39m, \u001b[38;5;241m1024\u001b[39m]):\n\u001b[1;32m      2\u001b[0m     merged_dict \u001b[38;5;241m=\u001b[39m Counter()\n\u001b[1;32m      3\u001b[0m     number_of_averages \u001b[38;5;241m=\u001b[39m \u001b[38;5;241m4096\u001b[39m \u001b[38;5;241m/\u001b[39m\u001b[38;5;241m/\u001b[39m L\n",
      "\u001b[0;31mNameError\u001b[0m: name 'tqdm' is not defined"
     ]
    }
   ],
   "source": [
    "for L in tqdm([8, 16, 32, 64, 128, 256, 512, 1024]):\n",
    "    merged_dict = Counter()\n",
    "    number_of_averages = 4096 // L\n",
    "    lattice = Lattice2D(L, pflip=p)\n",
    "    filename = f'{lattice.lrgsgpath}p={p:.3g}_na={number_of_averages}.pickle'\n",
    "    if os.path.exists(filename):\n",
    "        continue\n",
    "    for avg in range(number_of_averages):\n",
    "        lattice.flip_random_fract_edges()\n",
    "        dist_dict = lattice.cluster_distribution_list()\n",
    "        merged_dict += Counter(dist_dict)\n",
    "        lattice.unflip_all()\n",
    "        delattr(lattice, \"eigV\")\n",
    "\n",
    "\n",
    "    with open(filename, 'wb') as file:\n",
    "        pickle.dump(list(merged_dict.values()), file)"
   ]
  },
  {
   "cell_type": "code",
   "execution_count": null,
   "metadata": {},
   "outputs": [],
   "source": [
    "side = 16\n",
    "fpath = f\"data/l2d_squared/lrgsg/N={side**2}/p={p:.3g}_na={4096//side**2}.pickle\""
   ]
  },
  {
   "cell_type": "code",
   "execution_count": null,
   "metadata": {},
   "outputs": [],
   "source": [
    "with open(fpath, 'rb') as file:\n",
    "    prova = pickle.load(file)"
   ]
  },
  {
   "cell_type": "code",
   "execution_count": null,
   "metadata": {},
   "outputs": [],
   "source": [
    "binc, hist, bw = log_binning(prova, 8)"
   ]
  },
  {
   "cell_type": "code",
   "execution_count": null,
   "metadata": {},
   "outputs": [],
   "source": [
    "plt.plot(binc, hist/bw, 'h-')\n",
    "plt.plot(binc, 1000*(1.0*np.array(binc))**(-2.05))\n",
    "#\n",
    "plt.xscale('log')\n",
    "plt.yscale('log')"
   ]
  },
  {
   "cell_type": "code",
   "execution_count": null,
   "metadata": {},
   "outputs": [],
   "source": []
  }
 ],
 "metadata": {
  "kernelspec": {
   "display_name": "LRG-Signed",
   "language": "python",
   "name": "python3"
  },
  "language_info": {
   "codemirror_mode": {
    "name": "ipython",
    "version": 3
   },
   "file_extension": ".py",
   "mimetype": "text/x-python",
   "name": "python",
   "nbconvert_exporter": "python",
   "pygments_lexer": "ipython3",
   "version": "3.9.18"
  }
 },
 "nbformat": 4,
 "nbformat_minor": 2
}
