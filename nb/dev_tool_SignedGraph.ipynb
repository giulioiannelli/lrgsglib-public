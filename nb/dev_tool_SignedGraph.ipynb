{
 "cells": [
  {
   "cell_type": "code",
   "execution_count": 1,
   "metadata": {},
   "outputs": [
    {
     "name": "stdout",
     "output_type": "stream",
     "text": [
      "cwd: /home/giulio/PhD/projects/complex-networks/LRG-Signed\n"
     ]
    }
   ],
   "source": [
    "%matplotlib inline\n",
    "#\n",
    "from LRGSG_package.LRGSG import *\n",
    "from LRGSG_package.config.SignedGraph import SignedGraph_DEV\n",
    "#\n",
    "move_to_rootf(print_tf=True)"
   ]
  },
  {
   "cell_type": "code",
   "execution_count": 2,
   "metadata": {},
   "outputs": [],
   "source": [
    "signed_graph = SignedGraph_DEV()\n",
    "\n",
    "# Create a NetworkX graph (e.g., a 2D grid graph)\n",
    "nx_grid_graph = nx.grid_2d_graph(3, 3)\n",
    "\n",
    "# Call the method to assign attributes from the NetworkX graph\n",
    "signed_graph.assign_attributes_from_nx_graph(nx_grid_graph)"
   ]
  },
  {
   "cell_type": "code",
   "execution_count": 12,
   "metadata": {},
   "outputs": [
    {
     "name": "stdout",
     "output_type": "stream",
     "text": [
      "graph_attr_dict_factory <class 'dict'>\n",
      "node_dict_factory <class 'dict'>\n",
      "node_attr_dict_factory <class 'dict'>\n",
      "adjlist_outer_dict_factory <class 'dict'>\n",
      "adjlist_inner_dict_factory <class 'dict'>\n",
      "edge_attr_dict_factory <class 'dict'>\n",
      "graph {}\n",
      "_node {(0, 0): {}, (0, 1): {}, (0, 2): {}, (1, 0): {}, (1, 1): {}, (1, 2): {}, (2, 0): {}, (2, 1): {}, (2, 2): {}}\n",
      "_adj {(0, 0): {(1, 0): {}, (0, 1): {}}, (0, 1): {(1, 1): {}, (0, 0): {}, (0, 2): {}}, (0, 2): {(1, 2): {}, (0, 1): {}}, (1, 0): {(0, 0): {}, (2, 0): {}, (1, 1): {}}, (1, 1): {(0, 1): {}, (2, 1): {}, (1, 0): {}, (1, 2): {}}, (1, 2): {(0, 2): {}, (2, 2): {}, (1, 1): {}}, (2, 0): {(1, 0): {}, (2, 1): {}}, (2, 1): {(1, 1): {}, (2, 0): {}, (2, 2): {}}, (2, 2): {(1, 2): {}, (2, 1): {}}}\n"
     ]
    }
   ],
   "source": [
    "for attr_name,v in nx_grid_graph.__dict__.items():\n",
    "    print(attr_name, v)"
   ]
  },
  {
   "cell_type": "code",
   "execution_count": 7,
   "metadata": {},
   "outputs": [
    {
     "data": {
      "text/plain": [
       "<networkx.classes.graph.Graph at 0x7f13586d5b50>"
      ]
     },
     "execution_count": 7,
     "metadata": {},
     "output_type": "execute_result"
    }
   ],
   "source": [
    "nx_grid_graph = nx.grid_2d_graph(3, 3)\n",
    "\n",
    "nx_grid_graph"
   ]
  },
  {
   "cell_type": "code",
   "execution_count": 4,
   "metadata": {},
   "outputs": [
    {
     "data": {
      "text/plain": [
       "dict_values([])"
      ]
     },
     "execution_count": 4,
     "metadata": {},
     "output_type": "execute_result"
    }
   ],
   "source": [
    "nx.get_edge_attributes(SignedGraph_DEV(), \"weight\").values()"
   ]
  },
  {
   "cell_type": "code",
   "execution_count": 2,
   "metadata": {},
   "outputs": [
    {
     "data": {
      "text/plain": [
       "<matplotlib.lines.Line2D at 0x7fa477c39bb0>"
      ]
     },
     "execution_count": 2,
     "metadata": {},
     "output_type": "execute_result"
    },
    {
     "data": {
      "image/png": "[encoded data removed]",
      "text/plain": [
       "<Figure size 640x480 with 1 Axes>"
      ]
     },
     "metadata": {},
     "output_type": "display_data"
    }
   ],
   "source": [
    "arr = np.loadtxt('data/l2d_triangular/phtra/L1=32_L2=55/out.txt', delimiter=\",\")\n",
    "plt.plot(arr[:, -2], arr[:, 0], 'o')\n",
    "plt.axvline(1-0.93)"
   ]
  },
  {
   "cell_type": "code",
   "execution_count": null,
   "metadata": {},
   "outputs": [],
   "source": []
  }
 ],
 "metadata": {
  "kernelspec": {
   "display_name": "LRG-Signed",
   "language": "python",
   "name": "python3"
  },
  "language_info": {
   "codemirror_mode": {
    "name": "ipython",
    "version": 3
   },
   "file_extension": ".py",
   "mimetype": "text/x-python",
   "name": "python",
   "nbconvert_exporter": "python",
   "pygments_lexer": "ipython3",
   "version": "3.9.16"
  }
 },
 "nbformat": 4,
 "nbformat_minor": 2
}
