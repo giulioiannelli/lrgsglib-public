{
 "cells": [
  {
   "cell_type": "code",
   "execution_count": 2,
   "metadata": {},
   "outputs": [
    {
     "name": "stdout",
     "output_type": "stream",
     "text": [
      "cwd: /home/opisthofulax/PhD/projects/complex-networks/LRG-Signed\n"
     ]
    }
   ],
   "source": [
    "%matplotlib inline\n",
    "#\n",
    "from LRGSG_package.shared import *\n",
    "from LRGSG_package.config.const import *\n",
    "from LRGSG_package.config.plotlib import inset_axes, restr_twilight\n",
    "from LRGSG_package.config.utils import read_files_to_2d_array\n",
    "from LRGSG_package.LRGSG import move_to_rootf, Lattice2D\n",
    "#\n",
    "move_to_rootf(print_tf=True)\n",
    "plt.style.use(\"ipynb/nb_plotsheet.mplstyle\")\n",
    "#\n",
    "figpath = \"data/plot/paper/suppinf/\"\n",
    "figsubpathstr = ['phtra']\n",
    "paths = {str: f\"{figpath}{str}/\" for str in figsubpathstr}\n",
    "for path in paths.values(): os.makedirs(path, exist_ok=True)\n",
    "#\n",
    "axvline_kwarg = dict(ls=':', color='k')\n",
    "xlabelinset_kwargs = dict(labelpad=0, fontsize=18)\n",
    "ylabelinset_kwargs = dict(rotation=90, labelpad=10, va=\"center\",fontsize=18)\n",
    "axins_tickparams_kwargs = dict(axis='both', which='major', size=7, width=1.25, labelsize=16)\n",
    "axlegend_kwargs = dict(ncol=1, loc='lower left', fontsize=18)"
   ]
  },
  {
   "cell_type": "code",
   "execution_count": 3,
   "metadata": {},
   "outputs": [],
   "source": [
    "sides = [8, 16, 32, 48, 64, 96, 128]\n",
    "datpath = \"plot/paper/suppinf/phase_transition_l2d/\"\n",
    "geometry_cell_dict = {'squared': L2D_RAND_CELL_LIST,\n",
    "                    'triangular': L2D_RAND_CELL_LIST,\n",
    "                    'hexagonal': L2D_RAND_CELL_LIST}"
   ]
  },
  {
   "cell_type": "code",
   "execution_count": 7,
   "metadata": {},
   "outputs": [],
   "source": [
    "pc = {}\n",
    "for geo,cells in geometry_cell_dict.items():\n",
    "    pc[geo] = {}\n",
    "    for cell in cells:\n",
    "        pc[geo][cell] = []\n",
    "        fig, ax = plt.subplots(figsize=(6, 6))\n",
    "        axins = inset_axes(ax, width=2, height=2)\n",
    "        axins.axvline(x=L2D_P_C_DICT[geo], **axvline_kwarg)\n",
    "        for i, L in enumerate(sides):\n",
    "            col = restr_twilight(i/len(sides))\n",
    "            l = Lattice2D(L, geo=geo, \n",
    "                          initNwDict=True, \n",
    "                          with_positions=False,\n",
    "                          sgpath=datpath)\n",
    "            data = read_files_to_2d_array(l.phtrapath, cell)\n",
    "            data = data[np.argsort(data[:, 0])]\n",
    "            #\n",
    "            pinf = gaussian_filter(data[:, 5], sigma=2)\n",
    "            #\n",
    "            chi = gaussian_filter(data[:, 7]*l.N, sigma=1)\n",
    "            #\n",
    "            x_scaled = data[:, 0]\n",
    "            #\n",
    "            pinfplot, = ax.plot(x_scaled, pinf, \n",
    "                    c=col, marker='', lw=2,\n",
    "                    label=f\"${l.N}$\")\n",
    "            chiplot, = axins.plot(x_scaled, chi,\n",
    "                          lw=2,zorder=-i,c=col, marker='')\n",
    "        ax.legend(title=f\"{geo[:3]} - {cell[-4:]}\", title_fontsize = 13, **axlegend_kwargs)\n",
    "        ax.set_xlabel(r'$p$')\n",
    "        ax.set_ylabel(r'$P_\\infty$')\n",
    "        axins.yaxis.set_major_locator(plt.MaxNLocator(3))\n",
    "        axins.tick_params(**axins_tickparams_kwargs)\n",
    "        axins.set_xlabel(r'$p$', **xlabelinset_kwargs)\n",
    "        axins.set_ylabel(r'$\\chi$', **ylabelinset_kwargs)\n",
    "        # axins.axvline(x=0.5)\n",
    "        fname = f\"phtra_{geo}_{cell}\"\n",
    "        fig.savefig(f\"{paths['phtra']}{fname}.pdf\", \n",
    "                    bbox_inches='tight', transparent=True)\n",
    "        plt.close('all')"
   ]
  },
  {
   "cell_type": "code",
   "execution_count": 49,
   "metadata": {},
   "outputs": [],
   "source": [
    "pc = {}\n",
    "for geo,cells in geometry_cell_dict.items():\n",
    "    pc[geo] = {}\n",
    "    for cell in cells:\n",
    "        pc[geo][cell] = []\n",
    "        fig, ax = plt.subplots(figsize=(6, 6))\n",
    "        axins = inset_axes(ax, width=2, height=2)\n",
    "        for i, L in enumerate(sides):\n",
    "            col = restr_twilight(i/len(sides))\n",
    "            l = Lattice2D(L, geo=geo, \n",
    "                          initNwDict=True, \n",
    "                          with_positions=False,\n",
    "                          sgpath=datpath)\n",
    "            data = read_files_to_2d_array(l.phtrapath, cell)\n",
    "            data = data[np.argsort(data[:, 0])]\n",
    "            #\n",
    "            pinf = gaussian_filter(data[:, 5], sigma=3)\n",
    "            pinf_scaled = (L**(15/144))*pinf\n",
    "            #\n",
    "            chi = gaussian_filter(data[:, 7]*l.N, sigma=1)\n",
    "            chi_scaled = (L**(-129/72))*chi\n",
    "            #\n",
    "            pc_val = data[np.argmax(chi), 0]\n",
    "            x_scaled = L**(3/4)*(data[:, 0] - pc_val)\n",
    "            #\n",
    "            pinfplot, = ax.plot(x_scaled, pinf_scaled, \n",
    "                    c=col, marker='',zorder=-i,lw=2,\n",
    "                    label=f\"${l.N}$\")\n",
    "            chiplot, = axins.plot(x_scaled, chi_scaled,\n",
    "                          lw=2,zorder=-i,c=col, marker='')\n",
    "            pc[geo][cell].append(pc_val)\n",
    "        ax.legend(title=f\"{cell}\", title_fontsize = 13, **axlegend_kwargs)\n",
    "        ax.set_xlabel(r'$L^{(1/\\nu)}(p-p_c)$')\n",
    "        ax.set_ylabel(r'$L^{\\beta/\\nu}P_\\infty$')\n",
    "        axins.yaxis.set_major_locator(plt.MaxNLocator(3))\n",
    "        axins.tick_params(**axins_tickparams_kwargs)\n",
    "        axins.set_xlabel(r'$L^{(1/\\nu)}(p-p_c)$', **xlabelinset_kwargs)\n",
    "        axins.set_ylabel(r'$L^{-\\gamma/\\nu}\\chi$', **ylabelinset_kwargs)\n",
    "        axins.set_xbound([-2.25, 2.25])\n",
    "        fname = f\"collapse_{geo}_{cell}\"\n",
    "        fig.savefig(f\"{figpath}phtra/{fname}.pdf\", \n",
    "                    bbox_inches='tight', transparent=True)\n",
    "        plt.close('all')\n"
   ]
  }
 ],
 "metadata": {
  "kernelspec": {
   "display_name": "LRG-Signed",
   "language": "python",
   "name": "python3"
  },
  "language_info": {
   "codemirror_mode": {
    "name": "ipython",
    "version": 3
   },
   "file_extension": ".py",
   "mimetype": "text/x-python",
   "name": "python",
   "nbconvert_exporter": "python",
   "pygments_lexer": "ipython3",
   "version": "3.9.18"
  }
 },
 "nbformat": 4,
 "nbformat_minor": 2
}
