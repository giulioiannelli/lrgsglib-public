{
 "cells": [
  {
   "cell_type": "code",
   "execution_count": 1,
   "metadata": {},
   "outputs": [
    {
     "name": "stdout",
     "output_type": "stream",
     "text": [
      "cwd: /home/opisthofulax/PhD/projects/complex-networks/LRG-Signed\n"
     ]
    }
   ],
   "source": [
    "%matplotlib inline\n",
    "#\n",
    "from LRGSG_package.LRGSG import *\n",
    "move_to_rootf(print_tf=True)\n",
    "plt.style.use('nb/nb_plotsheet.mplstyle')\n",
    "\n",
    "#\n",
    "subdatapath = os.path.join('plot', 'paper', 'suppinf/')\n",
    "fullpath = os.path.join(\"data\", subdatapath)"
   ]
  },
  {
   "cell_type": "code",
   "execution_count": 2,
   "metadata": {},
   "outputs": [
    {
     "name": "stdout",
     "output_type": "stream",
     "text": [
      "squared single\n",
      "squared singleZERR\n",
      "squared singleXERR\n",
      "triangular single\n",
      "triangular singleZERR\n",
      "triangular singleXERR\n",
      "hexagonal single\n",
      "hexagonal singleZERR\n",
      "hexagonal singleXERR\n",
      "computing 512\r"
     ]
    }
   ],
   "source": [
    "sizes = 2**np.arange(3, 10)\n",
    "#\n",
    "for geometry in ['squared', 'triangular', 'hexagonal']:\n",
    "    for cell in ['single', 'singleZERR', 'singleXERR']:\n",
    "        print(geometry, cell)\n",
    "        lattices = {}\n",
    "        #\n",
    "        for side in sizes:\n",
    "            lattices[side] = Lattice2D(#\n",
    "                side1 = side,\n",
    "                geo = geometry,\n",
    "                sgpath=subdatapath, \n",
    "            )\n",
    "            lattices[side].flip_sel_edges(\n",
    "                lattices[side].neg_weights_dict[cell]['G']\n",
    "            )\n",
    "        #\n",
    "        eigvpath = f\"{lattices[side].lrgsgpath}eigV0_{cell}.npy\"\n",
    "        #\n",
    "        if os.path.exists(eigvpath):\n",
    "            continue\n",
    "        else:\n",
    "            print(f\"computing {side}\", end=\"\\r\")\n",
    "            lattices[side].compute_k_eigvV()\n",
    "            with open(eigvpath, 'wb') as f:\n",
    "                np.save(f, np.abs(lattices[side].eigV))"
   ]
  },
  {
   "cell_type": "code",
   "execution_count": null,
   "metadata": {},
   "outputs": [],
   "source": []
  }
 ],
 "metadata": {
  "kernelspec": {
   "display_name": "LRG-Signed",
   "language": "python",
   "name": "python3"
  },
  "language_info": {
   "codemirror_mode": {
    "name": "ipython",
    "version": 3
   },
   "file_extension": ".py",
   "mimetype": "text/x-python",
   "name": "python",
   "nbconvert_exporter": "python",
   "pygments_lexer": "ipython3",
   "version": "3.9.18"
  }
 },
 "nbformat": 4,
 "nbformat_minor": 2
}
