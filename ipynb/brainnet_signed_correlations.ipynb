{
 "cells": [
  {
   "cell_type": "code",
   "execution_count": 1,
   "id": "d9349945",
   "metadata": {},
   "outputs": [
    {
     "name": "stdout",
     "output_type": "stream",
     "text": [
      "Current working directory: /home/opisthofulax/Documents/PhD/projects/complex-networks/lrgsglib\n"
     ]
    }
   ],
   "source": [
    "from lrgsglib.core import *\n",
    "from lrgsglib.brain.shared import *\n",
    "#\n",
    "move_to_rootf()\n",
    "#\n",
    "path_real_data = PATHDATA / \"real_data\"\n",
    "path_brain_data = path_real_data / \"brain\""
   ]
  },
  {
   "cell_type": "code",
   "execution_count": null,
   "id": "fba26b16",
   "metadata": {},
   "outputs": [
    {
     "name": "stdout",
     "output_type": "stream",
     "text": [
      "[get_dataset_dir] Dataset found in data/real_data/brain/fsl\n"
     ]
    }
   ],
   "source": [
    "atlas = nil_dats.fetch_atlas_harvard_oxford(\"cort-maxprob-thr50-2mm\",\n",
    "                                            data_dir=path_brain_data)\n",
    "atlas_filename = atlas.maps\n",
    "atlas_img = nil_img.load_img(atlas_filename)\n",
    "atlas_data = atlas_img.get_fdata()\n",
    "#\n",
    "rois = atlas.labels\n",
    "rois_label_map = {i: ll for i,ll in enumerate(rois[1:])}\n",
    "roi_indices = np.unique(list(rois_label_map.keys()))\n",
    "#\n",
    "template = nil_dats.load_mni152_template()"
   ]
  },
  {
   "cell_type": "code",
   "execution_count": null,
   "id": "8dd40bc8",
   "metadata": {},
   "outputs": [
    {
     "data": {
      "text/plain": [
       "nibabel.nifti1.Nifti1Image"
      ]
     },
     "execution_count": 5,
     "metadata": {},
     "output_type": "execute_result"
    }
   ],
   "source": []
  },
  {
   "cell_type": "code",
   "execution_count": null,
   "id": "6b8aeab4",
   "metadata": {},
   "outputs": [],
   "source": []
  }
 ],
 "metadata": {
  "kernelspec": {
   "display_name": "lrgsgenv",
   "language": "python",
   "name": "python3"
  },
  "language_info": {
   "codemirror_mode": {
    "name": "ipython",
    "version": 3
   },
   "file_extension": ".py",
   "mimetype": "text/x-python",
   "name": "python",
   "nbconvert_exporter": "python",
   "pygments_lexer": "ipython3",
   "version": "3.12.3"
  }
 },
 "nbformat": 4,
 "nbformat_minor": 5
}
