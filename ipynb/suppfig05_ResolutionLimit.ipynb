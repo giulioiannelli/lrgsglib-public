{
 "cells": [
  {
   "cell_type": "code",
   "execution_count": 2,
   "metadata": {},
   "outputs": [
    {
     "name": "stdout",
     "output_type": "stream",
     "text": [
      "cwd: /home/opisthofulax/PhD/projects/complex-networks/lrgsglib\n"
     ]
    }
   ],
   "source": [
    "%matplotlib inline\n",
    "#\n",
    "from lrgsglib.shared import *\n",
    "from lrgsglib.config.utils import *\n",
    "from lrgsglib.core import gaussian_filter, Lattice2D, \\\n",
    "    read_files_to_2d_array, move_to_rootf, eigV_for_lattice2D,\\\n",
    "    create_symmetric_log_bins, bin_eigenvalues\n",
    "from matplotlib.ticker import SymmetricalLogLocator\n",
    "from matplotlib.colors import ListedColormap, Normalize\n",
    "from matplotlib.colorbar import ColorbarBase\n",
    "#\n",
    "move_to_rootf()\n",
    "plt.style.use(\"ipynb/nb_plotsheet.mplstyle\")\n",
    "#\n",
    "subDatPth = os.path.join('plot', 'paper', 'suppinf', '')\n",
    "sgPath = os.path.join(subDatPth, 'spectra_test_1', '')\n",
    "sgPath2 = os.path.join(subDatPth, 'spectra_test_2', '')\n",
    "datPth = os.path.join('data', subDatPth)\n",
    "subPthStr = ['spectra_test_1', 'spectra_test_2', 'res_limit']\n",
    "datPthDict = {s: os.path.join(datPth, s, '') for s in subPthStr}\n",
    "for path in datPthDict.values(): os.makedirs(path, exist_ok=True)\n",
    "minExpRL = np.rint(np.log10(np.finfo(np.float64).eps)).astype(int)"
   ]
  },
  {
   "cell_type": "markdown",
   "metadata": {},
   "source": [
    "## Precision issues"
   ]
  },
  {
   "cell_type": "markdown",
   "metadata": {},
   "source": [
    "### A matter of `np.float32` and `np.float64`"
   ]
  },
  {
   "cell_type": "code",
   "execution_count": 2,
   "metadata": {},
   "outputs": [],
   "source": [
    "p = 0.09\n",
    "side = 128\n",
    "howmany = 6\n",
    "seed = 2\n",
    "npyList = [np.float32, np.float64]"
   ]
  },
  {
   "cell_type": "code",
   "execution_count": 3,
   "metadata": {},
   "outputs": [],
   "source": [
    "start_letter = 'a'  # Change this to start from a different letter\n",
    "total_subplots = howmany*2\n",
    "alphabet = string.ascii_lowercase\n",
    "start_index = alphabet.index(start_letter.lower())\n",
    "labels = [fr\"\\textbf{{({alphabet[(start_index + i) % 26]})}}\" for i in range(total_subplots)]"
   ]
  },
  {
   "cell_type": "code",
   "execution_count": 4,
   "metadata": {},
   "outputs": [],
   "source": [
    "fig, ax = plt.subplots(ncols=howmany, nrows=len(npyList), \n",
    "                       figsize=(30, 30*2/howmany), constrained_layout=True)\n",
    "cmap = ListedColormap(['black', 'red', 'white'])\n",
    "norm = Normalize(vmin=-1, vmax=1)\n",
    "#\n",
    "for cont,npty in enumerate(npyList):\n",
    "    np.random.seed(seed)\n",
    "    random.seed(seed)\n",
    "    #\n",
    "    l = Lattice2D(side, pflip=p)\n",
    "    l.flip_random_fract_edges()\n",
    "    l.compute_k_eigvV(howmany=howmany, MODE_dynspec=\"scipy\", typf=npty)\n",
    "    #\n",
    "    axxClabList = zip(ax[cont,:], labels[cont*howmany:(cont+1)*howmany])\n",
    "    for i, (axx, current_label) in enumerate(axxClabList):\n",
    "        eius = l.eigV[i].reshape(l.syshape)\n",
    "        ei = flip_to_positive_majority_adapted(eius)\n",
    "        result = sign_with_threshold(ei, threshold=np.finfo(npty).eps)\n",
    "        im = axx.imshow(result, cmap=cmap, interpolation='none')\n",
    "        axx.set_xticks([])\n",
    "        axx.set_yticks([])\n",
    "        if cont == 0:\n",
    "            axx.set_xlabel(fr\"$|\\lambda_{i+1}\\rangle$\")\n",
    "        axx.text(0.05, 0.9, current_label, transform=axx.transAxes, fontsize=50,\n",
    "                 fontweight='bold', color='black', ha='left', va='center', \n",
    "                 bbox=dict(facecolor='white', alpha=0.8, edgecolor='none', \n",
    "                           pad=10))\n",
    "    minExpRL = np.rint(np.log10(np.finfo(npty).eps)).astype(int)\n",
    "    cbar = fig.colorbar(plt.cm.ScalarMappable(norm=norm, cmap=cmap), \n",
    "                        ax=ax[cont, :], extendfrac='auto', pad=0.01,\n",
    "                        orientation='vertical', extend='both')\n",
    "    cbar.set_ticks([-1, 0, 1])\n",
    "    cbar.set_ticklabels(['$-1$', fr'$< |10^{{{minExpRL}}}|$', '$+1$'], \n",
    "                        va='center', rotation='vertical')\n",
    "    cbar.ax.tick_params(axis='y', pad=15)\n",
    "#\n",
    "ax[0,0].set_ylabel(\"float32\")\n",
    "ax[1,0].set_ylabel(\"float64\")\n",
    "#\n",
    "fig.savefig(os.path.join(datPthDict['res_limit'], f\"howmany{howmany}_comparison_res_limit.pdf\"),\n",
    "            bbox_inches=\"tight\")\n",
    "plt.close('all')"
   ]
  },
  {
   "cell_type": "markdown",
   "metadata": {},
   "source": [
    "### A matter of $p$ and $L$"
   ]
  },
  {
   "cell_type": "code",
   "execution_count": 5,
   "metadata": {},
   "outputs": [],
   "source": [
    "pList = [0.01, 0.07, 0.103, 0.2, 0.5]\n",
    "LList = [16, 32, 64, 128, 256]\n",
    "npty = np.float64\n",
    "seed = 12430184"
   ]
  },
  {
   "cell_type": "code",
   "execution_count": 6,
   "metadata": {},
   "outputs": [],
   "source": [
    "start_letter = 'm'  # Change this to start from a different letter\n",
    "total_subplots = 2*max(len(pList), len(LList))\n",
    "alphabet = string.ascii_lowercase\n",
    "start_index = alphabet.index(start_letter.lower())\n",
    "labels = [fr\"\\textbf{{({alphabet[(start_index + i) % 26]})}}\" for i in range(total_subplots)]"
   ]
  },
  {
   "cell_type": "code",
   "execution_count": 7,
   "metadata": {},
   "outputs": [],
   "source": [
    "cmap = ListedColormap(['black', 'red', 'white'])\n",
    "def process_subplot(ax, side, p, seed, npty):\n",
    "    np.random.seed(seed)\n",
    "    random.seed(seed)\n",
    "    l = Lattice2D(side, pflip=p)\n",
    "    l.flip_random_fract_edges()\n",
    "    l.compute_k_eigvV(howmany=1, MODE_dynspec=\"scipy\", typf=npty)\n",
    "    eius = l.eigV[0].reshape(l.syshape)\n",
    "    ei = flip_to_positive_majority_adapted(eius)\n",
    "    result = sign_with_threshold(ei, threshold=np.finfo(npty).eps)\n",
    "    ax.imshow(result, cmap=cmap, interpolation='none')\n",
    "    ax.set_xticks([])\n",
    "    ax.set_yticks([])"
   ]
  },
  {
   "cell_type": "code",
   "execution_count": 8,
   "metadata": {},
   "outputs": [],
   "source": [
    "fig, ax = plt.subplots(nrows=2, ncols=max(len(pList), len(LList)), \n",
    "                       figsize=(30, 30*2/max(len(pList), len(LList))), constrained_layout=True)\n",
    "#\n",
    "L = 128\n",
    "for i, p in enumerate(pList):\n",
    "    process_subplot(ax[0, i], L, p, seed, npty)\n",
    "    ax[0, i].set_xlabel(fr\"$p={p:.3g}$\")\n",
    "ax[0, 0].set_ylabel(f\"Lattice side: {L}\")\n",
    "#\n",
    "p = 0.103\n",
    "for i, L in enumerate(LList):\n",
    "    process_subplot(ax[1, i], L, p, seed, npty)\n",
    "    ax[1, i].set_xlabel(f\"$L={L}$\")\n",
    "ax[1, 0].set_ylabel(fr\"$p={p:.3g}$\")\n",
    "for axx, current_label in zip(flatten(ax), labels):\n",
    "    axx.text(0.05, 0.9, current_label, transform=axx.transAxes, fontsize=50, \n",
    "             fontweight='bold', color='black', ha='left', va='center', \n",
    "             bbox=dict(facecolor='white', alpha=0.8, edgecolor='none', pad=10))\n",
    "\n",
    "norm = Normalize(vmin=-1, vmax=1)  \n",
    "cbar = fig.colorbar(plt.cm.ScalarMappable(norm=norm, cmap=cmap), \n",
    "                    ax=ax.ravel().tolist(), extendfrac='auto', pad=0.01,\n",
    "                    orientation='vertical', extend='both')\n",
    "cbar.set_ticks([-1, 0, 1])\n",
    "cbar.set_ticklabels(['$-1$', fr'$< |10^{{{minExpRL}}}|$', '$+1$'], \n",
    "                    va='center', rotation='vertical')\n",
    "cbar.ax.tick_params(axis='y', pad=15) \n",
    "fig.savefig(os.path.join(datPthDict['res_limit'], \"pN_comparison_res_limit.pdf\"), \n",
    "            bbox_inches=\"tight\")\n",
    "plt.close('all')"
   ]
  },
  {
   "cell_type": "markdown",
   "metadata": {},
   "source": [
    "## Spectral values"
   ]
  },
  {
   "cell_type": "markdown",
   "metadata": {},
   "source": [
    "### Spectral Distribution"
   ]
  },
  {
   "cell_type": "code",
   "execution_count": null,
   "metadata": {},
   "outputs": [],
   "source": [
    "pflip = 0.103\n",
    "labelIn = 'e'\n",
    "l2ddatpath = sgPath2\n",
    "nAvg = 10000\n",
    "howmany = 1\n",
    "minval = 1e-2\n",
    "mode = 'scipy'\n",
    "geo = 'squared'\n",
    "alphabet = string.ascii_lowercase\n",
    "start_index = alphabet.index(labelIn.lower())\n",
    "labels = [fr\"\\textbf{{{alphabet[(start_index + i) % 26]})}}\" for i in range(2)]"
   ]
  },
  {
   "cell_type": "code",
   "execution_count": null,
   "metadata": {},
   "outputs": [],
   "source": [
    "fig, ax = plt.subplots(figsize=(16, 10), ncols=2, \n",
    "                       gridspec_kw={'width_ratios': [6, 4]})\n",
    "for side in 2**np.arange(4, 10):\n",
    "    l = Lattice2D(side, geo, pflip=pflip, sgpath=l2ddatpath)\n",
    "    kwplot = dict(label=f\"{l.N}\", zorder=1/side)\n",
    "    #\n",
    "    workDir = l.spectpath\n",
    "    fnameBase = f\"dist{howmany}_{pflip:.3g}_{mode}\"\n",
    "    fname = f\"{workDir}{fnameBase}_{nAvg}.pkl\"\n",
    "    #\n",
    "    try:\n",
    "        with open(fname, \"rb\") as f:\n",
    "            listOfCounters = pk.load(f)\n",
    "    except FileNotFoundError:\n",
    "        navgdone, _ = os.path.splitext(\n",
    "            find_matching_files(workDir, fnameBase)[0].split('_')[-1])\n",
    "        navgdone = int(navgdone)\n",
    "        fname = f\"{workDir}{fnameBase}_{navgdone}.pkl\"\n",
    "        with open(fname, \"rb\") as f:\n",
    "            listOfCounters = pk.load(f)\n",
    "    for ii,i in enumerate(listOfCounters):\n",
    "        k, v = zip(*sorted(dict(i).items()))\n",
    "        k = np.array(k)\n",
    "        #\n",
    "        smthY = gaussian_filter(v, sigma=1)\n",
    "        normY = smthY / np.trapz(smthY, k)\n",
    "        cumY = np.cumsum(normY * np.diff(k, prepend=k[0]))\n",
    "        #\n",
    "        posX, negX = k[k > 0], k[k < 0]\n",
    "        posY, negY = normY[k > 0], normY[k < 0]\n",
    "        #\n",
    "        plpl, = ax[0].plot(posX, posY, 'h-', **kwplot)\n",
    "        ax[0].plot(negX, negY, 'h-', color=plpl.get_color(), **kwplot)\n",
    "        ax[1].plot(k, cumY, 'h-', **kwplot)\n",
    "        if np.min(np.abs(k)) < minval: minval = np.min(np.abs(k))\n",
    "\n",
    "for i, (axx,xpos) in enumerate(zip(ax, [0.03, 0.57])):\n",
    "    locator = SymmetricalLogLocator(linthresh=minval, base=10)\n",
    "    axx.set_xscale('symlog', linthresh=minval)\n",
    "    ticks = np.array([-1, -1e-15, 0, 1e-15, 1])\n",
    "    axx.set_xticks(ticks)\n",
    "    axx.xaxis.set_minor_locator(locator)\n",
    "    axx.set_xlabel(r\"$|\\lambda_0\\rangle_i$\")\n",
    "    axx.set_yscale('log')\n",
    "    axx.text(xpos, 0.9, labels[i], transform=fig.transFigure, fontsize=50, \n",
    "                fontweight='bold', color='black', ha='left', va='center', \n",
    "                bbox=dict(facecolor='white', alpha=0.8, edgecolor='none', \n",
    "                        pad=10))\n",
    "\n",
    "ax[0].axvline(np.finfo(np.float64).eps, color='k', linestyle='--', lw=1)\n",
    "ax[0].axvline(-np.finfo(np.float64).eps, color='k', linestyle='--', lw=1)\n",
    "ax[0].set_ylabel(fr\"$P(|\\lambda_0\\rangle)$\")\n",
    "ax[1].set_ylabel(fr\"$C(|\\lambda_0\\rangle)$\")\n",
    "ax[1].axhline(0.5, color='k', linestyle='--', lw=1)\n",
    "ax[1].legend(fontsize=25)\n",
    "#\n",
    "fig.tight_layout()\n",
    "fig.savefig(os.path.join(datPthDict['res_limit'], f\"dist_{side}_{pflip:.3g}_{nAvg}.pdf\"),\n",
    "            bbox_inches='tight', transparent=True)\n",
    "plt.close('all')"
   ]
  },
  {
   "cell_type": "markdown",
   "metadata": {},
   "source": [
    "## Other"
   ]
  },
  {
   "cell_type": "markdown",
   "metadata": {},
   "source": [
    "### Smallest eigenvalue Signed Laplacian"
   ]
  },
  {
   "cell_type": "code",
   "execution_count": null,
   "metadata": {},
   "outputs": [],
   "source": [
    "geo = 'squared'\n",
    "#\n",
    "nAvg = 500\n",
    "bins_count = 500\n",
    "period = 20\n",
    "workDir = \"data/plot/dev_tool_Lattice2D/\"\n",
    "os.makedirs(workDir, exist_ok=True)\n",
    "for mode in ['scipy', 'numpy']:\n",
    "    for side in [16, 32, 64]:\n",
    "        for pflip in [0.01, 0.05, 0.103, 0.2]:\n",
    "            #\n",
    "            fnameBase = f\"dist_{side}_{pflip:.3g}_{mode}\"\n",
    "            fname = f\"{workDir}{fnameBase}_{nAvg}.pkl\"\n",
    "\n",
    "            if not os.path.exists(fname):\n",
    "                # Setup and initial calculation\n",
    "                initial_eig = np.abs(eigV_for_lattice2D(side, pflip=pflip, geo=geo, mode=mode))\n",
    "                bins, bin_centers = create_symmetric_log_bins(np.min(initial_eig), np.max(initial_eig), bins_count)\n",
    "\n",
    "                bin_counter = Counter()\n",
    "                fnameOld = \"\"\n",
    "                nAvgDone = 0\n",
    "                fnameExists = glob.glob(f\"{workDir}{fnameBase}*\")\n",
    "                if fnameExists:\n",
    "                    nAvgDone = int(os.path.splitext(fnameExists[0].split('_')[-1])[0])\n",
    "                    fnameOld = fnameExists[0]\n",
    "                nAvgNeed = nAvg - nAvgDone\n",
    "                for current_period in range((nAvgNeed // period) + bool(nAvgNeed % period)):\n",
    "                    batch_size = min(nAvgNeed - current_period * period, period)\n",
    "                    eig_values = np.concatenate([eigV_for_lattice2D(side, pflip=pflip, geo=geo, mode=mode) for _ in range(batch_size)])\n",
    "                    bin_counter.update(bin_eigenvalues(eig_values, bins, bin_centers))\n",
    "                    fnameNew = f\"{workDir}{fnameBase}_{nAvgDone + (current_period + 1) * period}.pkl\"\n",
    "                    try:\n",
    "                        os.rename(fnameOld, fnameNew)\n",
    "                    except FileNotFoundError:\n",
    "                        pass\n",
    "                    with open(fnameNew, \"wb\") as f:\n",
    "                        pk.dump(dict(bin_counter), f)\n",
    "                    fnameOld = fnameNew\n",
    "\n",
    "                # At the end, save the final state if needed\n",
    "                if nAvgNeed % period:\n",
    "                    fnameNew = f\"{workDir}{fnameBase}_{nAvg}.pkl\"\n",
    "                    os.rename(fnameOld, fnameNew)\n",
    "                    with open(fnameNew, \"wb\") as f:\n",
    "                        pk.dump(dict(bin_counter), f)\n"
   ]
  },
  {
   "cell_type": "code",
   "execution_count": null,
   "metadata": {},
   "outputs": [],
   "source": [
    "\n",
    "pflip = 0.2"
   ]
  },
  {
   "cell_type": "code",
   "execution_count": null,
   "metadata": {},
   "outputs": [],
   "source": [
    "for side in [16, 32, 64, 96]:\n",
    "    mode = 'scipy'\n",
    "    fnameBase = f\"dist_{side}_{pflip:.3g}_{mode}\"\n",
    "    fname = f\"{workDir}{fnameBase}_{nAvg}.pkl\"\n",
    "    with open(fname, \"rb\") as f:\n",
    "        k, v = zip(*sorted(pk.load(f).items()))\n",
    "    plt.axvline(np.finfo(np.float64).eps, color='k', linestyle='--', lw=1)\n",
    "    plt.axvline(-np.finfo(np.float64).eps, color='k', linestyle='--', lw=1)\n",
    "    plt.plot(k, v, 'o')\n",
    "\n",
    "    plt.title(fr\"$P(|\\lambda_0\\rangle)$, N={side**2}, {mode}, $p={pflip}$, #{nAvg}\")\n",
    "    plt.xscale('symlog', linthresh=1e-17)\n",
    "    plt.yscale('log')\n",
    "    plt.xlabel(r\"$|\\lambda_0\\rangle_i$\")\n",
    "    plt.ylabel(r\"$P(|\\lambda_0\\rangle_i)$\")\n",
    "    # plt.savefig(f\"{workDir}dist_{side}_{pflip:.3g}_{nAvg}.png\")\n",
    "    plt.show()"
   ]
  },
  {
   "cell_type": "code",
   "execution_count": null,
   "metadata": {},
   "outputs": [],
   "source": [
    "fig, ax = plt.subplots(ncols=2, figsize=(10, 5))\n",
    "    # k, v = zip(*sorted(pk.load(f).items()))\n",
    "pflip = 0.5\n",
    "nAvg = 10000\n",
    "howmany = 1\n",
    "mode = 'scipy'\n",
    "geo = 'squared'\n",
    "for side in [16, 32, 64, 128, 256, 512]:\n",
    "# howmany = 1\n",
    "    l = Lattice2D(side, pflip=pflip, geo=geo, sgpath=\"cluster_data/spectra_test_1/\")\n",
    "    fnameBase = f\"dist{howmany}_{pflip:.3g}_{mode}\"\n",
    "    workDir = l.spectpath\n",
    "    fname = f\"{workDir}{fnameBase}_{nAvg}.pkl\"\n",
    "    try:\n",
    "        with open(fname, \"rb\") as f:\n",
    "            listOfCounters = pk.load(f)\n",
    "    except FileNotFoundError:\n",
    "        navgdone, _ = os.path.splitext(find_matching_files(workDir, fnameBase)[0].split('_')[-1])\n",
    "        navgdone = int(navgdone)\n",
    "        fname = f\"{workDir}{fnameBase}_{navgdone}.pkl\"\n",
    "        with open(fname, \"rb\") as f:\n",
    "            listOfCounters = pk.load(f)\n",
    "    minval = 1e-2\n",
    "    for ii,i in enumerate(listOfCounters):\n",
    "        k, v = zip(*sorted(dict(i).items()))\n",
    "        smthY = gaussian_filter(v, sigma=2)\n",
    "        area = np.trapz(smthY, k)\n",
    "        normY = smthY / area\n",
    "        cumY = np.cumsum(normY * np.diff(k, prepend=k[0]))\n",
    "\n",
    "        ax[0].plot(k, normY, '-', label=f\"{ii:.3g}\")\n",
    "        ax[1].plot(k, cumY, '-', label=f\"{ii:.3g}\")\n",
    "        if np.min(np.abs(k)) < minval:\n",
    "            minval = np.min(np.abs(k))\n",
    "\n",
    "fig.suptitle(fr\"N={side**2}, {mode}, $p={pflip}$, {geo} #{nAvg}\")\n",
    "# ax[0].title(fr\"$P(|\\lambda_0\\rangle)$\")\n",
    "# ax[1].title(fr\"$C(|\\lambda_0\\rangle)$\")\n",
    "\n",
    "for axx in ax:\n",
    "    locator = SymmetricalLogLocator(linthresh=minval/10, subs=[1.0], base=10)\n",
    "    axx.set_xscale('symlog', linthresh=minval/10)\n",
    "    axx.xaxis.set_major_locator(locator)\n",
    "    labels = axx.get_xticklabels()\n",
    "    # Set visibility of every second label to False\n",
    "    for label in labels[::2]:\n",
    "        if label.get_text() == '$\\\\mathdefault{0}$':\n",
    "            continue\n",
    "        label.set_visible(False)\n",
    "    axx.set_xlabel(r\"$|\\lambda_0\\rangle_i$\")\n",
    "    # axx.legend(ncol=2)\n",
    "\n",
    "\n",
    "ax[0].axvline(np.finfo(np.float64).eps, color='k', linestyle='--', lw=1)\n",
    "ax[0].axvline(-np.finfo(np.float64).eps, color='k', linestyle='--', lw=1)\n",
    "ax[0].set_yscale('log')\n",
    "ax[0].set_ylabel(fr\"$P(|\\lambda_0\\rangle)$\")\n",
    "ax[1].set_ylabel(fr\"$C(|\\lambda_0\\rangle)$\")\n",
    "\n",
    "labels = []\n",
    "handles = []\n",
    "for a in ax:\n",
    "    for handle, label in zip(*a.get_legend_handles_labels()):\n",
    "        handles.append(handle)\n",
    "        labels.append(label)\n",
    "\n",
    "# ax[1].set_yscale('log')\n",
    "plt.savefig(f\"{workDir}dist_{side}_{pflip:.3g}_{nAvg}.png\")\n",
    "# plt.show()"
   ]
  },
  {
   "cell_type": "code",
   "execution_count": null,
   "metadata": {},
   "outputs": [],
   "source": [
    "pflip = 0.2"
   ]
  },
  {
   "cell_type": "code",
   "execution_count": null,
   "metadata": {},
   "outputs": [],
   "source": [
    "for side in [16, 32, 64]:\n",
    "    mode = 'scipy'\n",
    "    fnameBase = f\"dist_{side}_{pflip:.3g}_{mode}\"\n",
    "    fname = f\"{workDir}{fnameBase}_{nAvg}.pkl\"\n",
    "    with open(fname, \"rb\") as f:\n",
    "        k, v = zip(*sorted(pk.load(f).items()))\n",
    "    plt.axvline(np.finfo(np.float64).eps, color='k', linestyle='--', lw=1)\n",
    "    plt.axvline(-np.finfo(np.float64).eps, color='k', linestyle='--', lw=1)\n",
    "    plt.plot(k, v, 'o')\n",
    "    #\n",
    "    mode = 'numpy'\n",
    "    fnameBase = f\"dist_{side}_{pflip:.3g}_{mode}\"\n",
    "    fname = f\"{workDir}{fnameBase}_{nAvg}.pkl\"\n",
    "    with open(fname, \"rb\") as f:\n",
    "        k, v = zip(*sorted(pk.load(f).items()))\n",
    "    plt.plot(k, v, 'o')\n",
    "\n",
    "    plt.title(fr\"$P(|\\lambda_0\\rangle)$, N={side**2}, {mode}, $p={pflip}$, #{nAvg}\")\n",
    "    plt.xscale('symlog', linthresh=1e-17)\n",
    "    plt.yscale('log')\n",
    "    plt.xlabel(r\"$|\\lambda_0\\rangle_i$\")\n",
    "    plt.ylabel(r\"$P(|\\lambda_0\\rangle_i)$\")\n",
    "    # plt.savefig(f\"{workDir}dist_{side}_{pflip:.3g}_{nAvg}.png\")\n",
    "    plt.show()"
   ]
  },
  {
   "cell_type": "markdown",
   "metadata": {},
   "source": [
    "#### $\\min|\\lambda_0\\rangle$"
   ]
  },
  {
   "cell_type": "code",
   "execution_count": null,
   "metadata": {},
   "outputs": [],
   "source": [
    "mode = 'scipy'\n",
    "pflip = 0.\n",
    "for side in [16, 32, 64, 96]:\n",
    "    fnameBase = f\"dist_{side}_{pflip:.3g}_{mode}\"\n",
    "    fname = f\"{workDir}{fnameBase}_{nAvg}.pkl\"\n",
    "    with open(fname, \"rb\") as f:\n",
    "        k, v = zip(*sorted(pk.load(f).items()))\n",
    "    plt.plot(side**2, min(np.abs(k)), 'o' , label=f\"{side**2}\")\n",
    "plt.yscale('log')\n",
    "plt.xscale('log')\n",
    "plt.legend()\n",
    "plt.savefig(f\"{workDir}minl0_{pflip:.3g}_{nAvg}.png\")"
   ]
  },
  {
   "cell_type": "code",
   "execution_count": null,
   "metadata": {},
   "outputs": [],
   "source": [
    "%matplotlib inline\n",
    "#\n",
    "from lrgsglib.shared import *\n",
    "from lrgsglib.config.utils import *\n",
    "from lrgsglib.core import gaussian_filter, Lattice2D, \\\n",
    "    read_files_to_2d_array, move_to_rootf\n",
    "#\n",
    "move_to_rootf(True)"
   ]
  },
  {
   "cell_type": "code",
   "execution_count": null,
   "metadata": {},
   "outputs": [],
   "source": [
    "plt.figure()\n",
    "for p in np.linspace(0.01, 0.5, num=20):\n",
    "    stdarr = []\n",
    "    for na in range(100):\n",
    "        l = Lattice2D(32, pflip=p, geo='squared')\n",
    "        l.flip_random_fract_edges()\n",
    "        l.compute_k_eigvV(MODE_dynspec='numpy')\n",
    "        stdarr.append(np.std(np.diff(l.eigv)))\n",
    "    plt.scatter(p, np.mean(stdarr), marker='o', c='k')"
   ]
  },
  {
   "cell_type": "code",
   "execution_count": null,
   "metadata": {},
   "outputs": [],
   "source": [
    "p=0.5\n",
    "l = Lattice2D(128, pflip=p, geo='squared')\n",
    "l.flip_random_fract_edges()\n",
    "l.compute_k_eigvV(MODE_dynspec='numpy')\n"
   ]
  },
  {
   "cell_type": "code",
   "execution_count": null,
   "metadata": {},
   "outputs": [],
   "source": [
    "plt.plot(l.eigv)"
   ]
  },
  {
   "cell_type": "code",
   "execution_count": null,
   "metadata": {},
   "outputs": [],
   "source": [
    "plt.plot(np.diff(l.eigv))"
   ]
  },
  {
   "cell_type": "code",
   "execution_count": null,
   "metadata": {},
   "outputs": [],
   "source": [
    "side = 32\n",
    "for p in np.linspace(0.01, 0.5):\n",
    "    l = Lattice2D(side, pflip=p, geo='squared')\n",
    "    l.flip_random_fract_edges()\n",
    "    l.compute_k_eigvV(MODE_dynspec='numpy')\n",
    "    matrix1 = l.sLp.todense().astype(np.float64)\n",
    "    V1, E1 = l.eigv, l.eigV.T\n",
    "    np.allclose(matrix1 @ V1, V1 @ np.diag(E1))"
   ]
  },
  {
   "cell_type": "code",
   "execution_count": null,
   "metadata": {},
   "outputs": [],
   "source": [
    "\n",
    "# Setup and initial calculation\n",
    "initial_eig = np.abs(eigV_for_lattice(side, pflip=pflip, geo=geo, mode=mode))\n",
    "bins, bin_centers = create_symmetric_log_bins(np.min(initial_eig), np.max(initial_eig), bins_count)\n",
    "\n",
    "bin_counter = Counter()\n",
    "fnameOld = \"\"\n",
    "if not os.path.exists(fname):\n",
    "    nAvgDone = 0\n",
    "    fnameExists = glob.glob(f\"{workDir}{fnameBase}*\")\n",
    "    if fnameExists:\n",
    "        nAvgDone = int(os.path.splitext(fnameExists[0].split('_')[-1])[0])\n",
    "        fnameOld = fnameExists[0]\n",
    "    nAvgNeed = nAvg - nAvgDone\n",
    "    for current_period in range((nAvgNeed // period) + bool(nAvgNeed % period)):\n",
    "        batch_size = min(nAvgNeed - current_period * period, period)\n",
    "        eig_values = np.concatenate([eigV_for_lattice(side, pflip=pflip, geo=geo, mode=mode) for _ in range(batch_size)])\n",
    "        bin_counter.update(bin_eigenvalues(eig_values, bins, bin_centers))\n",
    "        fnameNew = f\"{workDir}{fnameBase}_{nAvgDone + (current_period + 1) * period}.pkl\"\n",
    "        try:\n",
    "            os.rename(fnameOld, fnameNew)\n",
    "        except FileNotFoundError:\n",
    "            pass\n",
    "        with open(fnameNew, \"wb\") as f:\n",
    "            pk.dump(dict(bin_counter), f)\n",
    "        fnameOld = fnameNew\n",
    "\n",
    "    # At the end, save the final state if needed\n",
    "    if nAvgNeed % period:\n",
    "        fnameNew = f\"{workDir}{fnameBase}_{nAvg}.pkl\"\n",
    "        os.rename(fnameOld, fnameNew)\n",
    "        with open(fnameNew, \"wb\") as f:\n",
    "            pk.dump(dict(bin_counter), f)\n"
   ]
  },
  {
   "cell_type": "code",
   "execution_count": null,
   "metadata": {},
   "outputs": [],
   "source": [
    "mode = 'scipy'\n",
    "fnameBase = f\"dist_{side}_{pflip:.3g}_{mode}\"\n",
    "fname = f\"{workDir}{fnameBase}_{nAvg}.pkl\"\n",
    "with open(fname, \"rb\") as f:\n",
    "    k, v = zip(*sorted(pk.load(f).items()))\n",
    "plt.axvline(np.finfo(np.float64).eps, color='k', linestyle='--', lw=1)\n",
    "plt.axvline(-np.finfo(np.float64).eps, color='k', linestyle='--', lw=1)\n",
    "plt.plot(k, v, 'o')\n",
    "#\n",
    "mode = 'numpy'\n",
    "fnameBase = f\"dist_{side}_{pflip:.3g}_{mode}\"\n",
    "fname = f\"{workDir}{fnameBase}_{nAvg}.pkl\"\n",
    "with open(fname, \"rb\") as f:\n",
    "    k, v = zip(*sorted(pk.load(f).items()))\n",
    "plt.plot(k, v, 'o')\n",
    "\n",
    "plt.title(fr\"$P(|\\lambda_0\\rangle)$, N={side**2}, {mode}, $p={pflip}$, #{nAvg}\")\n",
    "plt.xscale('symlog', linthresh=1e-17)\n",
    "plt.yscale('log')\n",
    "plt.savefig(f\"{workDir}dist_{side}_{pflip:.3g}_{nAvg}.png\")"
   ]
  },
  {
   "cell_type": "code",
   "execution_count": null,
   "metadata": {},
   "outputs": [],
   "source": []
  },
  {
   "cell_type": "code",
   "execution_count": null,
   "metadata": {},
   "outputs": [],
   "source": [
    "def eigV_for_lattice(side, mode='scipy', **kwargs):\n",
    "    l = Lattice2D(side, **kwargs)\n",
    "    l.flip_random_fract_edges()\n",
    "    l.compute_k_eigvV(MODE_dynspec=mode)\n",
    "    return flip_to_positive_majority(l.eigV[0])\n",
    "def create_symmetric_log_bins(min_val, max_val, num_bins, incMagn = 2):\n",
    "    \"\"\"Creates symmetric logarithmic bins.\"\"\"\n",
    "    bins_positive = np.logspace(np.log10(min_val)-incMagn, np.log10(max_val)+incMagn, num_bins//2)\n",
    "    bins_negative = -np.flip(bins_positive)\n",
    "    return np.concatenate((bins_negative, [0], bins_positive))\n",
    "def bin_eigenvalues(eig_values, bins):\n",
    "    \"\"\"Bins eigenvalues and counts occurrences in each bin.\"\"\"\n",
    "    indices = np.digitize(eig_values, bins, right=True)\n",
    "    return Counter(indices)"
   ]
  },
  {
   "cell_type": "code",
   "execution_count": null,
   "metadata": {},
   "outputs": [],
   "source": [
    "# Setup\n",
    "side = 64\n",
    "geo = 'squared'\n",
    "pflip = 0.103\n",
    "#\n",
    "nAvg = 200\n",
    "bins_count = 500\n",
    "period = 20\n",
    "#\n",
    "workDir = \"data/plot/dev_tool_Lattice2D/\"\n",
    "mode = 'numpy'\n",
    "fnameBase = f\"dist_{side}_{pflip:.3g}_{mode}\"\n",
    "fname = f\"{workDir}{fnameBase}_{nAvg}.pkl\""
   ]
  },
  {
   "cell_type": "code",
   "execution_count": null,
   "metadata": {},
   "outputs": [],
   "source": [
    "# Get initial eigenvalues to define bins\n",
    "initial_eig = np.abs(eigV_for_lattice(side, pflip=pflip, geo=geo, mode=mode))\n",
    "print(np.log10(np.max(initial_eig))+4)\n",
    "bins = create_symmetric_log_bins(np.min(initial_eig), np.max(initial_eig), \n",
    "                                 bins_count)\n",
    "#\n",
    "bin_counter = Counter()\n",
    "fnameOld = \"\"\n",
    "if not os.path.exists(fname):\n",
    "    nAvgDone = 0\n",
    "    fnameExists = glob.glob(f\"{workDir}{fnameBase}*\")\n",
    "    if fnameExists:\n",
    "        nAvgDone = int(os.path.splitext(fnameExists[0].split('_')[-1])[0])\n",
    "        fnameOld = fnameExists[0]\n",
    "    nAvgNeed = nAvg - nAvgDone\n",
    "    for current_period in range((nAvgNeed // period) + bool(nAvgNeed % period)):\n",
    "        batch_size = min(nAvgNeed - current_period * period, period)\n",
    "        eig_values = np.concatenate([eigV_for_lattice(side, pflip=pflip, geo=geo, mode=mode) for _ in range(batch_size)])\n",
    "        bin_counter.update(bin_eigenvalues(eig_values, bins))\n",
    "        fnameNew = f\"{workDir}{fnameBase}_{nAvgDone + (current_period + 1) * period}.pkl\"\n",
    "        try:\n",
    "            os.rename(fnameOld, fnameNew)\n",
    "        except FileNotFoundError:\n",
    "            pass\n",
    "        with open(fnameNew, \"wb\") as f:\n",
    "            pk.dump(dict(bin_counter), f)\n",
    "        fnameOld = fnameNew\n",
    "\n",
    "    # At the end, save the final state if needed\n",
    "    if nAvgNeed % period:\n",
    "        fnameNew = f\"{workDir}{fnameBase}_{nAvg}.pkl\"\n",
    "        os.rename(fnameOld, fnameNew)\n",
    "        with open(fnameNew, \"wb\") as f:\n",
    "            pk.dump(dict(bin_counter), f)"
   ]
  },
  {
   "cell_type": "code",
   "execution_count": null,
   "metadata": {},
   "outputs": [],
   "source": [
    "mode = 'scipy'\n",
    "fnameBase = f\"dist_{side}_{pflip:.3g}_{mode}\"\n",
    "fname = f\"{workDir}{fnameBase}_{nAvg}.pkl\"\n",
    "k,v = zip(*pk.load(open(fname, \"rb\")).items())\n",
    "binsv = bins[np.array(k)-1]\n",
    "plt.plot(binsv, v, 'o')\n",
    "#\n",
    "mode = 'numpy'\n",
    "fnameBase = f\"dist_{side}_{pflip:.3g}_{mode}\"\n",
    "fname = f\"{workDir}{fnameBase}_{nAvg}.pkl\"\n",
    "k,v = zip(*pk.load(open(fname, \"rb\")).items())\n",
    "binsv = bins[np.array(k)-1]\n",
    "plt.plot(binsv, v, 'o')\n",
    "#\n",
    "plt.title(fr\"$P(|\\lambda_0\\rangle)$, N={side**2}, {mode}, $p={pflip}$, #{nAvg}\")\n",
    "plt.axvline(np.finfo(np.float64).eps, color='k', linestyle='--', lw=1)\n",
    "plt.axvline(-np.finfo(np.float64).eps, color='k', linestyle='--', lw=1)\n",
    "plt.xscale('symlog', linthresh=1e-17)\n",
    "plt.yscale('log')\n",
    "plt.savefig(f\"{workDir}dist_{side}_{pflip:.3g}_{nAvg}_{mode}.png\")"
   ]
  },
  {
   "cell_type": "code",
   "execution_count": null,
   "metadata": {},
   "outputs": [],
   "source": [
    "l = Lattice2D(128, pflip=0.103, geo='squared')\n",
    "l.flip_random_fract_edges()\n",
    "l.compute_k_eigvV(MODE_dynspec='scipy')\n",
    "np.max(flip_to_positive_majority(l.eigV[0]))"
   ]
  },
  {
   "cell_type": "code",
   "execution_count": null,
   "metadata": {},
   "outputs": [],
   "source": [
    "l = Lattice2D(64, pflip=0.103, geo='squared')\n",
    "l.flip_random_fract_edges()\n",
    "l.compute_k_eigvV(MODE_dynspec='scipy')\n",
    "#\n",
    "outp, outm = symlog_binning(flip_to_positive_majority(l.eigV[0].flatten()))\n",
    "plt.plot(outp[0], outp[1], marker='o', lw=1)\n",
    "plt.plot(outm[0], outm[1], marker='o', lw=1)\n",
    "plt.xscale('symlog', linthresh=1e-20)\n",
    "plt.yscale('log')\n",
    "plt.axvline(np.finfo(np.float64).eps, color='k', linestyle='--', lw=1)\n",
    "plt.axvline(-np.finfo(np.float64).eps, color='k', linestyle='--', lw=1)"
   ]
  },
  {
   "cell_type": "markdown",
   "metadata": {},
   "source": [
    "### phtra plot"
   ]
  },
  {
   "cell_type": "code",
   "execution_count": null,
   "metadata": {},
   "outputs": [],
   "source": [
    "perc = pd.read_csv(\"/home/opisthofulax/PhD/projects/complex-networks/LRG-Signed/data/plot/tmp/OrderP_L64\",\n",
    "                       sep=',', header=None)\n",
    "l = Lattice2D(64, geo='squared', \n",
    "            initNwDict=True, \n",
    "            with_positions=False,\n",
    "            sgpath=\"plot/paper/suppinf/phase_transition_l2d/\"\n",
    ")\n",
    "data = read_files_to_2d_array(l.phtrapath, 'rand')\n",
    "data = data[np.argsort(data[:, 0])]\n",
    "#\n",
    "pinf2 = gaussian_filter(data[:, 5], sigma=2)\n",
    "#\n",
    "chi = gaussian_filter(data[:, 7]*l.N, sigma=1)\n",
    "#\n",
    "x_scaled = data[:, 0]\n",
    "#\n",
    "chi_scaled = gaussian_filter(perc[3]*64**2,sigma=0)\n",
    "\n",
    "chiplot, = plt.plot(perc[5], chi_scaled,\n",
    "                          lw=2, marker='')\n",
    "chiplot, = plt.plot(x_scaled, chi,\n",
    "                          lw=2, marker='')"
   ]
  },
  {
   "cell_type": "markdown",
   "metadata": {},
   "source": [
    "### precision problems"
   ]
  },
  {
   "cell_type": "code",
   "execution_count": null,
   "metadata": {},
   "outputs": [],
   "source": []
  },
  {
   "cell_type": "code",
   "execution_count": null,
   "metadata": {},
   "outputs": [],
   "source": [
    "flatten(ax)"
   ]
  },
  {
   "cell_type": "code",
   "execution_count": null,
   "metadata": {},
   "outputs": [],
   "source": [
    "np.random.seed(0)\n",
    "random.seed(0)\n",
    "fig, ax = plt.subplots(ncols=5, figsize=(35,7))\n"
   ]
  },
  {
   "cell_type": "code",
   "execution_count": null,
   "metadata": {},
   "outputs": [],
   "source": [
    "fig, ax = plt.subplots(ncols=5, nrows=5, figsize=(35,35))\n",
    "for i in range(10):\n",
    "    l = Lattice2D(128, pflip=0.12)\n",
    "    l.flip_random_fract_edges()\n",
    "    l.compute_k_eigvV(howmany=2)\n",
    "    ei = l.eigV[0].reshape(l.syshape)\n",
    "    result = sign_with_threshold(ei, threshold=1e-15)\n",
    "    ax[i//5][i%5].imshow(result, cmap=cmap, interpolation=None)"
   ]
  },
  {
   "cell_type": "code",
   "execution_count": null,
   "metadata": {},
   "outputs": [],
   "source": [
    "k, v = l.cluster_distribution_list().keys(), l.cluster_distribution_list().values()\n",
    "plt.plot(k, v, marker='o', lw=0)\n",
    "plt.yscale('log')\n",
    "plt.xscale('log')"
   ]
  },
  {
   "cell_type": "markdown",
   "metadata": {},
   "source": [
    "### Distribution of values first eigenstate"
   ]
  },
  {
   "cell_type": "code",
   "execution_count": null,
   "metadata": {},
   "outputs": [],
   "source": [
    "%matplotlib inline\n",
    "#\n",
    "from lrgsglib.shared import *\n",
    "from lrgsglib.config.utils import *\n",
    "from lrgsglib.core import gaussian_filter, Lattice2D, \\\n",
    "    read_files_to_2d_array, move_to_rootf\n",
    "#\n",
    "move_to_rootf(True)"
   ]
  },
  {
   "cell_type": "code",
   "execution_count": null,
   "metadata": {},
   "outputs": [],
   "source": [
    "l = Lattice2D(64, pflip=0.1, geo='squared')\n",
    "l.flip_random_fract_edges()\n",
    "l.compute_k_eigvV(MODE_dynspec='numpy')"
   ]
  },
  {
   "cell_type": "code",
   "execution_count": null,
   "metadata": {},
   "outputs": [],
   "source": [
    "outp, outm = symlog_binning(flip_to_positive_majority(l.eigV[0].flatten()))\n",
    "plt.plot(outp[0], outp[1], marker='o', lw=1)\n",
    "plt.plot(outm[0], outm[1], marker='o', lw=1)\n",
    "plt.xscale('symlog', linthresh=1e-20)\n",
    "plt.yscale('log')\n",
    "plt.axvline(np.finfo(np.float64).eps, color='k', linestyle='--', lw=1)\n",
    "plt.axvline(-np.finfo(np.float64).eps, color='k', linestyle='--', lw=1)"
   ]
  },
  {
   "cell_type": "code",
   "execution_count": null,
   "metadata": {},
   "outputs": [],
   "source": [
    "def flip_edges_optimized(graph, fraction=0.5):\n",
    "    \"\"\"\n",
    "    Flips the sign of a fraction of the +1 edges in the graph to -1 using more concise NetworkX functions.\n",
    "\n",
    "    Parameters:\n",
    "    - graph: A networkx graph where edges have a 'weight' attribute.\n",
    "    - fraction: Fraction of +1 weighted edges to flip. Value between 0 and 1.\n",
    "\n",
    "    Returns:\n",
    "    - The modified graph with some edges flipped.\n",
    "    \"\"\"\n",
    "    # Ensure the fraction is between 0 and 1\n",
    "    if not (0 <= fraction <= 1):\n",
    "        raise ValueError(\"Fraction must be between 0 and 1.\")\n",
    "    \n",
    "    # Find all edges with weight +1\n",
    "    \n",
    "    # Calculate the number of edges to flip\n",
    "    num_to_flip = int(graph.number_of_edges() * fraction)\n",
    "    \n",
    "    # Randomly select a subset of positive edges to flip\n",
    "    edges_to_flip = random.sample(list(graph.edges()), k=num_to_flip)\n",
    "    \n",
    "    # Prepare a dictionary with the selected edges and their new weight\n",
    "    flipped_edges = {graph[i][j]: -1 for (i, j) in edges_to_flip}\n",
    "    \n",
    "    # Use set_edge_attributes to apply the new weights\n",
    "    nx.set_edge_attributes(graph, flipped_edges, 'weight')\n",
    "    \n",
    "    return graph"
   ]
  },
  {
   "cell_type": "code",
   "execution_count": null,
   "metadata": {},
   "outputs": [],
   "source": [
    "G = nx.grid_2d_graph(128, 128, periodic=True)\n",
    "nx.set_edge_attributes(G, +1, 'weight')\n",
    "flip_edges_optimized(G, 0.5)"
   ]
  },
  {
   "cell_type": "code",
   "execution_count": null,
   "metadata": {},
   "outputs": [],
   "source": [
    "G[(0, 0)][(0, 1)]"
   ]
  },
  {
   "cell_type": "code",
   "execution_count": null,
   "metadata": {},
   "outputs": [],
   "source": [
    "\n",
    "\n",
    "# plt.xlim(-1.5, 1)"
   ]
  },
  {
   "cell_type": "code",
   "execution_count": null,
   "metadata": {},
   "outputs": [],
   "source": [
    "np.where(np.isnan(l.eigV[0].flatten()))"
   ]
  },
  {
   "cell_type": "code",
   "execution_count": null,
   "metadata": {},
   "outputs": [],
   "source": [
    "np.isnan(np.logl.eigV[0].flatten()).any()"
   ]
  },
  {
   "cell_type": "code",
   "execution_count": null,
   "metadata": {},
   "outputs": [],
   "source": []
  }
 ],
 "metadata": {
  "kernelspec": {
   "display_name": "LRG-Signed",
   "language": "python",
   "name": "python3"
  },
  "language_info": {
   "codemirror_mode": {
    "name": "ipython",
    "version": 3
   },
   "file_extension": ".py",
   "mimetype": "text/x-python",
   "name": "python",
   "nbconvert_exporter": "python",
   "pygments_lexer": "ipython3",
   "version": "3.12.3"
  }
 },
 "nbformat": 4,
 "nbformat_minor": 2
}
