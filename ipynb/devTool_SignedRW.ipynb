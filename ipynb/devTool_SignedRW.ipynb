{
 "cells": [
  {
   "cell_type": "markdown",
   "metadata": {},
   "source": [
    "# Developer Tools / Signed Random Walk"
   ]
  },
  {
   "cell_type": "markdown",
   "metadata": {},
   "source": [
    "### `import packages.needed` "
   ]
  },
  {
   "cell_type": "code",
   "execution_count": 1,
   "metadata": {},
   "outputs": [],
   "source": [
    "%matplotlib inline\n",
    "#\n",
    "from lrgsglib.shared import *\n",
    "from lrgsglib.config.utils import log_binning\n",
    "from lrgsglib.core import Lattice2D, SignedRW, move_to_rootf\n",
    "from lrgsglib.Ccore.stocproc.signedRw.Lattices import random_walker\n",
    "#"
   ]
  },
  {
   "cell_type": "code",
   "execution_count": 2,
   "metadata": {},
   "outputs": [
    {
     "name": "stdout",
     "output_type": "stream",
     "text": [
      "Current working directory: /home/opisthofulax/PhD/projects/complex-networks/lrgsglib\n"
     ]
    }
   ],
   "source": [
    "move_to_rootf()\n",
    "#\n",
    "nbPath = os.path.join('ipynb')\n",
    "nbdatPath = os.path.join(nbPath, 'data')\n",
    "nbpltPath = os.path.join(nbdatPath, 'plot')\n",
    "nbmplssPath = os.path.join('ipynb', 'nb_plotsheet.mplstyle')\n",
    "#\n",
    "plt.style.use(nbmplssPath)"
   ]
  },
  {
   "cell_type": "markdown",
   "metadata": {},
   "source": [
    "## C++ (boost) implementation"
   ]
  },
  {
   "cell_type": "markdown",
   "metadata": {},
   "source": [
    "### Lattice 2D: distributions of distances"
   ]
  },
  {
   "cell_type": "code",
   "execution_count": 3,
   "metadata": {},
   "outputs": [],
   "source": [
    "setting = {0: [fr'$x_0 = (L/2, L/2)$', 'pbc'],\n",
    "           1: [fr'$x_0 = (L/2, L/2)$', 'fbc'],\n",
    "           2: [fr'$x_0 = \\mathrm{{rand}}$', 'pbc'],\n",
    "           3: [fr'$x_0 = \\mathrm{{rand}}$', 'fbc']\n",
    "}\n",
    "mode = 0\n",
    "#\n",
    "side = 10\n",
    "geo = 'squared'\n",
    "navg1 = 5000\n",
    "navg2 = navg1\n",
    "pflipList = [0.001, 0.01, 0.025, 0.05, 0.08, 0.1, 0.12, 0.15, \n",
    "             0.18, 0.25, 0.5, 0.75, 0.9]"
   ]
  },
  {
   "cell_type": "code",
   "execution_count": 4,
   "metadata": {},
   "outputs": [],
   "source": [
    "for geo in ['squared', 'triangular']:\n",
    "    for mode in [0, 1, 2, 3]:\n",
    "        def assign_random_signs(edge_list, p_flip):\n",
    "            rand_p = np.random.rand(len(edge_list))\n",
    "            signs = [1 if p_flip < rand_p[i] else -1 for i in range(len(edge_list))]\n",
    "            return signs\n",
    "        #\n",
    "        def run_single_realization(edgeList, signs, width, height, coordination_number, Nnodes):\n",
    "            walker = random_walker.RandomWalker(edgeList, signs, width, height, coordination_number)\n",
    "            match mode:\n",
    "                case 0|1:\n",
    "                    start_node = width * (height // 2) + (width // 2)\n",
    "                case 2|3:\n",
    "                    start_node = np.random.randint(0, Nnodes-1)\n",
    "            walker.walk(start_node)\n",
    "            return walker.get_step_distance(), walker.get_euclidean_distance()\n",
    "        l = Lattice2D(side, geo=geo, pbc=False)\n",
    "        #\n",
    "        edgeList = list(l.GraphReprDict['H'].edges())\n",
    "        nodeList = l.nodeList\n",
    "        euD = {}\n",
    "        stD = {}\n",
    "        for pflip in pflipList:\n",
    "            step_distances = []\n",
    "            euclidean_distances = []\n",
    "            stopped_nodes = []\n",
    "            for _ in range(navg2):\n",
    "                signs = assign_random_signs(edgeList, pflip)\n",
    "                stp, euc = run_single_realization(edgeList, signs, l.side1, l.side2, l.z, l.N)\n",
    "                step_distances.append(stp)\n",
    "                euclidean_distances.append(euc)\n",
    "            euD[pflip] = euclidean_distances\n",
    "            stD[pflip] = step_distances\n",
    "        fname = f'Lattice2DRw_{side}_setting{mode}_{geo}_{navg2}.png'\n",
    "        strTit = fr'Setting: {side} {geo}, {' -- '.join(setting[mode])} \\\n",
    "            $n_{{\\mathrm{{a}}}}= {navg2}$'\n",
    "        #\n",
    "        fig, ax = plt.subplots(ncols=2)\n",
    "        fig.suptitle(strTit, fontsize=24, y=.9)\n",
    "        #\n",
    "        ax[0].set_xlabel(r'Displacement $\\abs{x-x_0}$')\n",
    "        ax[1].set_xlabel(r'$p$')\n",
    "        ax[0].set_ylabel(r'$P(x)$')\n",
    "        ax[1].set_ylabel(r'$x_{\\max}/L$, $\\sigma_x/L$')\n",
    "        #\n",
    "        # ax[1].set_xscale('log')\n",
    "        #\n",
    "        for pflip in pflipList:\n",
    "            x, pdf = powerlaw.pdf(euD[pflip], xmin=1)\n",
    "            ax[0].loglog(x[1:], pdf, label=f'$p = {pflip:.3}$')\n",
    "            ax[1].plot(pflip, np.max(euD[pflip])/l.side1, 'kh')\n",
    "            ax[1].plot(pflip, np.std(euD[pflip])/l.side1, 'rh')\n",
    "\n",
    "        # ax[1].plot(pflipList,0.01*np.array(pflipList)**(-1/1.75), '--', label=r'$\\propto p^{-1/1.75}$')\n",
    "        ax[1].axvline(l.p_c, color='purple', linestyle='--', label=fr'$p={l.p_c}$')\n",
    "\n",
    "        ax[0].legend(ncols=3)\n",
    "        ax[1].legend()\n",
    "        fig.tight_layout()\n",
    "        fig.savefig(os.path.join(nbpltPath, fname), bbox_inches='tight', dpi=300)\n",
    "        plt.close()"
   ]
  },
  {
   "cell_type": "code",
   "execution_count": 5,
   "metadata": {},
   "outputs": [],
   "source": [
    "def assign_random_signs(edge_list, p_flip):\n",
    "    rand_p = np.random.rand(len(edge_list))\n",
    "    signs = [1 if p_flip < rand_p[i] else -1 for i in range(len(edge_list))]\n",
    "    return signs\n",
    "#\n",
    "def run_single_realization(edgeList, signs, width, height, coordination_number, Nnodes):\n",
    "    walker = random_walker.RandomWalker(edgeList, signs, width, height, coordination_number)\n",
    "    match mode:\n",
    "        case 0|1:\n",
    "            start_node = width * (height // 2) + (width // 2)\n",
    "        case 2|3:\n",
    "            start_node = np.random.randint(0, Nnodes-1)\n",
    "    walker.walk(start_node)\n",
    "    return walker.get_step_distance(), walker.get_euclidean_distance()"
   ]
  },
  {
   "cell_type": "code",
   "execution_count": null,
   "metadata": {},
   "outputs": [],
   "source": [
    "l = Lattice2D(side, geo=geo, pbc=False)\n",
    "#\n",
    "edgeList = list(l.GraphReprDict['H'].edges())\n",
    "nodeList = l.nodeList"
   ]
  },
  {
   "cell_type": "code",
   "execution_count": null,
   "metadata": {},
   "outputs": [],
   "source": [
    "euD = {}\n",
    "stD = {}\n",
    "for pflip in pflipList:\n",
    "    step_distances = []\n",
    "    euclidean_distances = []\n",
    "    stopped_nodes = []\n",
    "    for _ in range(navg2):\n",
    "        signs = assign_random_signs(edgeList, pflip)\n",
    "        stp, euc = run_single_realization(edgeList, signs, l.side1, l.side2, l.z, l.N)\n",
    "        step_distances.append(stp)\n",
    "        euclidean_distances.append(euc)\n",
    "    euD[pflip] = euclidean_distances\n",
    "    stD[pflip] = step_distances"
   ]
  },
  {
   "cell_type": "code",
   "execution_count": null,
   "metadata": {},
   "outputs": [],
   "source": [
    "fname = f'Lattice2DRw_{side}_setting{mode}_{geo}_{navg2}.pdf'\n",
    "strTit = fr'Setting: {side} {geo}, {' -- '.join(setting[mode])},\\\n",
    "    $n_{{\\mathrm{{a}}}}= {navg2}$'\n",
    "#\n",
    "fig, ax = plt.subplots(ncols=2)\n",
    "fig.suptitle(strTit, fontsize=24, y=.9)\n",
    "#\n",
    "ax[0].set_xlabel(r'Displacement $\\abs{x-x_0}$')\n",
    "ax[1].set_xlabel(r'$p$')\n",
    "ax[0].set_ylabel(r'$P(x)$')\n",
    "ax[1].set_ylabel(r'$x_{\\max}/L$, $\\sigma_x/L$')\n",
    "#\n",
    "# ax[1].set_xscale('log')\n",
    "#\n",
    "for pflip in pflipList:\n",
    "    x, pdf = powerlaw.pdf(euD[pflip], xmin=1)\n",
    "    ax[0].loglog(x[1:], pdf, label=f'$p = {pflip:.3}$')\n",
    "    ax[1].plot(pflip, np.max(euD[pflip])/l.side1, 'kh')\n",
    "    ax[1].plot(pflip, np.std(euD[pflip])/l.side1, 'rh')\n",
    "\n",
    "ax[1].plot(pflipList,0.01*np.array(pflipList)**(-1/1.75), '--', label=r'$\\propto p^{-1/1.75}$')\n",
    "ax[1].axvline(0.1, color='purple', linestyle='--', label=r'$p=0.103$')\n",
    "ax[1].axvline(0.5, color='b', linestyle='--', label=r'$p=0.5$')\n",
    "\n",
    "ax[0].legend(ncols=3)\n",
    "ax[1].legend()\n",
    "fig.tight_layout()\n",
    "fig.savefig(os.path.join(nbpltPath, fname), bbox_inches='tight')"
   ]
  },
  {
   "cell_type": "markdown",
   "metadata": {},
   "source": [
    "---------------------------"
   ]
  },
  {
   "cell_type": "markdown",
   "metadata": {},
   "source": [
    "## Misc"
   ]
  },
  {
   "cell_type": "code",
   "execution_count": null,
   "metadata": {},
   "outputs": [],
   "source": [
    "def process_signed_random_walk(data):\n",
    "    \"\"\"\n",
    "    Processes a list of node-sign pairs to determine the distribution of unique nodes\n",
    "    within clusters of consecutive identical signs.\n",
    "\n",
    "    Args:\n",
    "    data (list of tuples): List where each tuple contains a node (as a tuple) and a sign (+1 or -1).\n",
    "\n",
    "    Returns:\n",
    "    dict: A dictionary where keys are signs and values are lists of counts of unique nodes per cluster.\n",
    "    \"\"\"\n",
    "    cluster_sizes = defaultdict(list)\n",
    "    if not data:\n",
    "        return dict(cluster_sizes)  # Return an empty dictionary if data is empty\n",
    "\n",
    "    current_cluster = set()\n",
    "    current_sign = data[0][1]\n",
    "\n",
    "    for node, sign in data:\n",
    "        if sign != current_sign:\n",
    "            # Store size of the current cluster and reset\n",
    "            cluster_sizes[current_sign].append(len(current_cluster))\n",
    "            current_cluster = set()\n",
    "            current_sign = sign\n",
    "        current_cluster.add(node)\n",
    "\n",
    "    # Add the last cluster\n",
    "    cluster_sizes[current_sign].append(len(current_cluster))\n",
    "\n",
    "    return dict(cluster_sizes)"
   ]
  },
  {
   "cell_type": "code",
   "execution_count": null,
   "metadata": {},
   "outputs": [],
   "source": [
    "def euclidean_distance(p1, p2):\n",
    "    return np.sqrt((p1[0] - p2[0])**2 + (p1[1] - p2[1])**2)\n",
    "\n",
    "def max_distance(states):\n",
    "    initial_state = states[0][0]\n",
    "    max_dist = 0\n",
    "    \n",
    "    for state in states:\n",
    "        current_state = state[0]\n",
    "        distance = euclidean_distance(initial_state, current_state)\n",
    "        if distance > max_dist:\n",
    "            max_dist = distance\n",
    "    \n",
    "    return max_dist"
   ]
  },
  {
   "cell_type": "code",
   "execution_count": null,
   "metadata": {},
   "outputs": [],
   "source": [
    "l = Lattice2D(10, pflip=0.5, geo='triangular')\n",
    "l.flip_random_fract_edges()\n",
    "srw = SignedRW(l, simTime=100,  stopSim=True,\n",
    "        initMode=\"random\", \n",
    "        runMode=\"py\",\n",
    "        storeMode=\"sequential\",\n",
    "        storeFreq=1)"
   ]
  },
  {
   "cell_type": "code",
   "execution_count": null,
   "metadata": {},
   "outputs": [],
   "source": [
    "side = 64\n",
    "navg = 500\n",
    "simtime = 10000\n",
    "pflipList = [0.1, 0.2]"
   ]
  },
  {
   "cell_type": "code",
   "execution_count": null,
   "metadata": {},
   "outputs": [],
   "source": [
    "maDict = {}\n",
    "for pflip in pflipList:\n",
    "    maxD = []\n",
    "    maxL = []\n",
    "    maDict[pflip] = {}\n",
    "    for i in range(navg):\n",
    "        l = Lattice2D(side, pflip=pflip, geo='triangular')\n",
    "        l.flip_random_fract_edges()\n",
    "        srw = SignedRW(l, simTime=simtime,  stopSim=True,\n",
    "                initMode=\"random\", \n",
    "                runMode=\"py\",\n",
    "                storeMode=\"sequential\",\n",
    "                storeFreq=1)\n",
    "        srw.run()\n",
    "        if srw.StopFlag:\n",
    "            maxD.append(max_distance(srw.s_tList))\n",
    "            maxL.append(len(srw.s_tList))\n",
    "    maDict[pflip]['maxD'] = np.array(maxD)\n",
    "    maDict[pflip]['maxL'] = np.array(maxL)\n",
    "    # arr = np.array(maxD)\n",
    "    # arr = arr[arr != 0]\n",
    "    # maDict[pflip] = {}\n",
    "    # ['mean'] = np.mean(arr)\n",
    "    # maDict[pflip]['max'] = max(arr)\n",
    "    # # fit = powerlaw.Fit(arr)\n",
    "    # # fit.plot_ccdf(color='b', linewidth=2)\n",
    "    # edges, hist = powerlaw.pdf(arr)\n",
    "    # bin_centers = (edges[1:]+edges[:-1])/2.0\n",
    "    # plt.loglog(bin_centers, hist, label=f\"pflip={pflip:.3g}\")\n",
    "# plt.legend()"
   ]
  },
  {
   "cell_type": "code",
   "execution_count": null,
   "metadata": {},
   "outputs": [],
   "source": [
    "for pflip in pflipList:\n",
    "    arr = maDict[pflip]['maxD']\n",
    "    arr = arr[arr != 0]\n",
    "    # arr_sorted = np.sort(arr)\n",
    "    # # Calculate the CCDF\n",
    "    # ccdf = np.arange(1, len(arr_sorted) + 1)[::-1] / len(arr_sorted)\n",
    "    # # Plot the CCDF on a log-log scale\n",
    "    # plt.loglog(arr_sorted, ccdf, marker='o', linestyle='none')\n",
    "    edges, hist = powerlaw.ccdf(arr)\n",
    "    bin_centers = (edges[1:]+edges[:-1])/2.0\n",
    "    plt.plot(bin_centers, hist, label=f\"pflip={pflip:.3g}\")\n",
    "# plt.axvline(63, c='k', ls='--')\n",
    "# plt.axhline(0.5, c='k', ls='--')\n",
    "plt.xscale('log')\n",
    "plt.yscale('log')\n",
    "\n",
    "plt.legend()\n",
    "plt.show()"
   ]
  },
  {
   "cell_type": "code",
   "execution_count": null,
   "metadata": {},
   "outputs": [],
   "source": [
    "for pflip in pflipList:\n",
    "    arr = maDict[pflip]['maxL']\n",
    "    edges, hist = powerlaw.ccdf(arr)\n",
    "    # arr_sorted = np.sort(arr)\n",
    "\n",
    "    # # Calculate the CCDF\n",
    "    # ccdf = np.arange(1, len(arr_sorted) + 1)[::-1] / len(arr_sorted)\n",
    "\n",
    "    # # Plot the CCDF on a log-log scale\n",
    "    # plt.loglog(arr_sorted, ccdf, marker='o', linestyle='none')\n",
    "    bin_centers = (edges[1:]+edges[:-1])/2.0\n",
    "    plt.loglog(bin_centers, hist[:-1])"
   ]
  },
  {
   "cell_type": "code",
   "execution_count": null,
   "metadata": {},
   "outputs": [],
   "source": [
    "np.mean(arr)"
   ]
  },
  {
   "cell_type": "code",
   "execution_count": null,
   "metadata": {},
   "outputs": [],
   "source": [
    "l = Lattice2D(side, pflip=pflipList[0], with_positions=True)\n",
    "l.flip_random_fract_edges()"
   ]
  },
  {
   "cell_type": "code",
   "execution_count": null,
   "metadata": {},
   "outputs": [],
   "source": [
    "nx.draw(l.G, pos=l.get_node_pos(), edge_color=l.get_edge_color())"
   ]
  },
  {
   "cell_type": "code",
   "execution_count": null,
   "metadata": {},
   "outputs": [],
   "source": [
    "side = 12\n",
    "navg = 100\n",
    "simtime = 100\n",
    "pflipList = [0.01, 0.04, 0.06, 0.08, 0.103, 0.25, 0.5]\n",
    "#\n",
    "data = {}\n",
    "#\n",
    "for pflip in pflipList:\n",
    "    data[pflip] = []\n",
    "    for na in range(navg):\n",
    "        l = Lattice2D(side, pflip=pflip)\n",
    "        l.flip_random_fract_edges()\n",
    "        srw = SignedRW(l, simTime=simtime,, stopSim=True, \n",
    "                initMode=\"random\", \n",
    "                runMode=\"py\",\n",
    "                storeMode=\"sequential\",\n",
    "                storeFreq=1)\n",
    "        srw.run()\n",
    "        data[pflip].extend(srw.s_tList)\n",
    "    cluster_sizes = process_signed_random_walk(data[pflip])\n",
    "    edges, hist = powerlaw.pdf(cluster_sizes[-1], xmin=1)\n",
    "    bin_centers = (edges[1:]+edges[:-1])/2.0\n",
    "    plt.loglog(bin_centers, hist)\n",
    "    edges, hist = powerlaw.pdf(cluster_sizes[1], xmin=1)\n",
    "    bin_centers = (edges[1:]+edges[:-1])/2.0\n",
    "    plt.loglog(bin_centers, hist)\n",
    "    plt.xlabel(r'$\\tau$')\n",
    "    plt.ylabel(r'$P(\\tau)$')\n",
    "    plt.title(fr'$p={pflip:.3g}$')\n",
    "    plt.show()"
   ]
  },
  {
   "cell_type": "code",
   "execution_count": null,
   "metadata": {},
   "outputs": [],
   "source": [
    "cluster_sizes"
   ]
  },
  {
   "cell_type": "code",
   "execution_count": null,
   "metadata": {},
   "outputs": [],
   "source": [
    "fig, ax = plt.subplots()\n",
    "l_ini = Lattice2D(32)\n",
    "mmax = l_ini.Ne//10\n",
    "for i in range(1, mmax, mmax//8):\n",
    "    print(\"Current value of p:\", i/l_ini.Ne)  # Debugging statement to check p\n",
    "    l = Lattice2D(32, pflip=i/l_ini.Ne)\n",
    "    l.flip_random_fract_edges()\n",
    "    srw = SignedRW(l, simTime=2000, \n",
    "               initMode=\"random\", \n",
    "               runMode=\"py\",\n",
    "               storeMode=\"sequential\",\n",
    "               storeFreq=1)\n",
    "    srw.run()\n",
    "    a = np.array(srw.s_tList, dtype=object)[:, 1].astype(int)\n",
    "    changes = np.where(np.diff(a) != 0)[0] + 1\n",
    "    sequence_lengths = np.diff(np.hstack(([0], changes, [len(a)])))\n",
    "    # print(sequence_lengths)\n",
    "    # b, h, w = log_binning(sequence_lengths, binnum=15)\n",
    "    # ax.plot(b, h/w)\n",
    "    edges, hist = powerlaw.pdf(sequence_lengths, xmin=1)\n",
    "    bin_centers = (edges[1:]+edges[:-1])/2.0\n",
    "    ax.loglog(bin_centers, hist)\n",
    "plt.show()"
   ]
  },
  {
   "cell_type": "code",
   "execution_count": null,
   "metadata": {},
   "outputs": [],
   "source": [
    "fig, ax = plt.subplots()\n",
    "for p in [0.01, 0.05, 0.08, 0.1, 0.2, 0.5]:\n",
    "    print(\"Current value of p:\", p)  # Debugging statement to check p\n",
    "    l = Lattice2D(128, pflip=p)\n",
    "    l.flip_random_fract_edges()\n",
    "    srw = SignedRW(l, simTime=2000, \n",
    "               initMode=\"random\", \n",
    "               runMode=\"py\",\n",
    "               storeMode=\"sequential\",\n",
    "               storeFreq=1)\n",
    "    srw.run()\n",
    "    a = np.array(srw.s_tList, dtype=object)[:, 1].astype(int)\n",
    "    changes = np.where(np.diff(a) != 0)[0] + 1\n",
    "    sequence_lengths = np.diff(np.hstack(([0], changes, [len(a)])))\n",
    "    print(sequence_lengths)\n",
    "    # b, h, w = log_binning(sequence_lengths, binnum=15)\n",
    "    # ax.plot(b, h/w)\n",
    "    edges, hist = powerlaw.pdf(sequence_lengths)\n",
    "    bin_centers = (edges[1:]+edges[:-1])/2.0\n",
    "    ax.loglog(bin_centers, hist)\n",
    "plt.show()"
   ]
  },
  {
   "cell_type": "code",
   "execution_count": null,
   "metadata": {},
   "outputs": [],
   "source": [
    "b, h, w = log_binning(sequence_lengths, binnum=15)\n",
    "plt.plot(b, h/w)\n",
    "plt.yscale(\"log\")\n",
    "plt.xscale(\"log\")"
   ]
  },
  {
   "cell_type": "code",
   "execution_count": null,
   "metadata": {},
   "outputs": [],
   "source": [
    "a.alpha"
   ]
  },
  {
   "cell_type": "code",
   "execution_count": null,
   "metadata": {},
   "outputs": [],
   "source": []
  }
 ],
 "metadata": {
  "kernelspec": {
   "display_name": "LRG-Signed",
   "language": "python",
   "name": "python3"
  },
  "language_info": {
   "codemirror_mode": {
    "name": "ipython",
    "version": 3
   },
   "file_extension": ".py",
   "mimetype": "text/x-python",
   "name": "python",
   "nbconvert_exporter": "python",
   "pygments_lexer": "ipython3",
   "version": "3.12.3"
  }
 },
 "nbformat": 4,
 "nbformat_minor": 2
}
