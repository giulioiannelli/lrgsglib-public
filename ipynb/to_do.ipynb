{
 "cells": [
  {
   "cell_type": "markdown",
   "metadata": {},
   "source": [
    "## TO DO:\n",
    "\n",
    "- manda distribuzione intertempi random walk\n",
    "- keep the number of negative links when flipping Z\n",
    "- roba di threshold\n",
    "- trova modo di andare a double precision,\n",
    "- sympy may be usefulin computing eigenv\n",
    "- `from mpmath import mp, matrix` allow higher precision computation\n",
    "- the smallest eigenvalues in the `scipy.sparse.linalg` module are better computed as the largest of the inverse matrix\n",
    "- plot con le celle in differenti geometrie\n",
    "- decomposizione del groud state in autostati\n",
    "- try to see the lattice eigenvectors with and without PBC\n",
    "-  compare the biggest path with the size of the system\n",
    "    - by taking the biggest path (radius of the same colored path)\n",
    "- replica symmetry breaking of eigenstates\n"
   ]
  },
  {
   "cell_type": "markdown",
   "metadata": {},
   "source": [
    "## Bug fixing\n",
    "- low dimensions grid they work not good\n",
    "- mapping between nodes and links in 2D triangular w/without pbc\n",
    "- SigedGraph: make dirs with os.path.join"
   ]
  },
  {
   "cell_type": "markdown",
   "metadata": {},
   "source": [
    "## Mix Ideas"
   ]
  },
  {
   "cell_type": "markdown",
   "metadata": {},
   "source": [
    "- percolation game, isotropic percolation\n",
    "- e controllare fluttuazioni\n",
    "- "
   ]
  },
  {
   "cell_type": "markdown",
   "metadata": {},
   "source": [
    "## fix random walk\n",
    "- valore massimo e valore medio di $r_{\\max}$ del random walk\n",
    "- stop simulation either touching border either flipping sign"
   ]
  },
  {
   "cell_type": "code",
   "execution_count": null,
   "metadata": {},
   "outputs": [],
   "source": []
  },
  {
   "cell_type": "code",
   "execution_count": 2,
   "metadata": {},
   "outputs": [
    {
     "data": {
      "text/plain": [
       "int"
      ]
     },
     "execution_count": 2,
     "metadata": {},
     "output_type": "execute_result"
    }
   ],
   "source": [
    "type(10**4)"
   ]
  },
  {
   "cell_type": "code",
   "execution_count": null,
   "metadata": {},
   "outputs": [],
   "source": []
  }
 ],
 "metadata": {
  "kernelspec": {
   "display_name": "LRG-Signed",
   "language": "python",
   "name": "python3"
  },
  "language_info": {
   "codemirror_mode": {
    "name": "ipython",
    "version": 3
   },
   "file_extension": ".py",
   "mimetype": "text/x-python",
   "name": "python",
   "nbconvert_exporter": "python",
   "pygments_lexer": "ipython3",
   "version": "3.9.18"
  }
 },
 "nbformat": 4,
 "nbformat_minor": 2
}
