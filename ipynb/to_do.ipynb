{
 "cells": [
  {
   "cell_type": "markdown",
   "metadata": {},
   "source": [
    "## TO DO:\n",
    "\n",
    "- manda distribuzione intertempi random walk\n",
    "- keep the number of negative links when flipping Z\n",
    "- roba di threshold\n",
    "- trova modo di andare a double precision,\n",
    "- sympy may be usefulin computing eigenv\n",
    "- `from mpmath import mp, matrix` allow higher precision computation\n",
    "- the smallest eigenvalues in the `scipy.sparse.linalg` module are better computed as the largest of the inverse matrix\n",
    "- plot con le celle in differenti geometrie\n",
    "- decomposizione del groud state in autostati\n",
    "- try to see the lattice eigenvectors with and without PBC\n",
    "-  compare the biggest path with the size of the system\n",
    "    - by taking the biggest path (radius of the same colored path)\n",
    "- replica symmetry breaking of eigenstates\n"
   ]
  },
  {
   "cell_type": "markdown",
   "metadata": {},
   "source": [
    "## Bug fixing\n",
    "- low dimensions grid they work not good\n",
    "- mapping between nodes and links in 2D triangular w/without pbc\n",
    "- SigedGraph: make dirs with os.path.join"
   ]
  },
  {
   "cell_type": "markdown",
   "metadata": {},
   "source": [
    "- put generating log in Serializers"
   ]
  },
  {
   "cell_type": "markdown",
   "metadata": {},
   "source": [
    "## Mix Ideas"
   ]
  },
  {
   "cell_type": "markdown",
   "metadata": {},
   "source": [
    "- percolation game, isotropic percolation\n",
    "- e controllare fluttuazioni\n",
    "- "
   ]
  },
  {
   "cell_type": "markdown",
   "metadata": {},
   "source": [
    "## fix random walk\n",
    "- valore massimo e valore medio di $r_{\\max}$ del random walk\n",
    "- stop simulation either touching border either flipping sign"
   ]
  },
  {
   "cell_type": "markdown",
   "metadata": {},
   "source": [
    "## 02/10/24"
   ]
  },
  {
   "cell_type": "markdown",
   "metadata": {},
   "source": [
    "- decomposizione spettrale partendo da autostato 0, vedere come si apre\n",
    "- y vs x, energia per numero di autostato\n",
    "- vedere la scaletta e inversione degli autostati in energia\n",
    "- diffusion of random walker on the lattice see exponente of distanza quadratica media"
   ]
  }
 ],
 "metadata": {
  "kernelspec": {
   "display_name": "lrgsgenv",
   "language": "python",
   "name": "python3"
  },
  "language_info": {
   "codemirror_mode": {
    "name": "ipython",
    "version": 3
   },
   "file_extension": ".py",
   "mimetype": "text/x-python",
   "name": "python",
   "nbconvert_exporter": "python",
   "pygments_lexer": "ipython3",
   "version": "3.12.3"
  }
 },
 "nbformat": 4,
 "nbformat_minor": 2
}
