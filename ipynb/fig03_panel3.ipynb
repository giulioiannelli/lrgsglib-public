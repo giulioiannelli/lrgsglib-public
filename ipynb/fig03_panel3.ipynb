{
 "cells": [
  {
   "cell_type": "markdown",
   "metadata": {},
   "source": [
    "# Panel 3"
   ]
  },
  {
   "cell_type": "markdown",
   "metadata": {},
   "source": [
    "### `import packages.needed`"
   ]
  },
  {
   "cell_type": "code",
   "execution_count": 1,
   "metadata": {},
   "outputs": [
    {
     "name": "stdout",
     "output_type": "stream",
     "text": [
      "Current working directory: /home/opisthofulax/PhD/projects/complex-networks/lrgsglib\n"
     ]
    }
   ],
   "source": [
    "%matplotlib inline\n",
    "#\n",
    "from lrgsglib.core import *\n",
    "#\n",
    "move_to_rootf()\n",
    "plt.style.use('ipynb/nb_plotsheet.mplstyle')\n",
    "#\n",
    "datpath = os.path.join('data')\n",
    "subdatapath = os.path.join('plot', 'paper', 'panel_3/')\n",
    "Isingdatapath = os.path.join(subdatapath, 'Ising')\n",
    "plotpath = os.path.join(datpath, Isingdatapath)\n",
    "plot_ene = os.path.join(plotpath, \"plot_ene\", \"\")\n",
    "plot_eigV = os.path.join(plotpath, \"plot_energy_eigV\", \"\")\n",
    "#\n",
    "os.makedirs(plot_ene, exist_ok=True)\n",
    "os.makedirs(plot_eigV, exist_ok=True)"
   ]
  },
  {
   "cell_type": "markdown",
   "metadata": {},
   "source": [
    "## Energy shots comparison"
   ]
  },
  {
   "cell_type": "markdown",
   "metadata": {},
   "source": [
    "### Data"
   ]
  },
  {
   "cell_type": "code",
   "execution_count": 5,
   "metadata": {},
   "outputs": [],
   "source": [
    "side = 10\n",
    "geo = 'squared'\n",
    "pflip = 0.4\n",
    "T_ising = 0.5\n",
    "navg = 2\n",
    "thrmSTEP = 200\n",
    "eqSTEP = 0\n",
    "gsN = 0\n",
    "how_gsN = 5\n",
    "howmany = 5\n",
    "cell = 'randXERR'\n",
    "init_nw_dict = True\n",
    "id_string = 'test2'\n",
    "#\n",
    "IMPORT = False\n",
    "args = dict(side1=side, geo=geo, pflip=pflip, sgpath=Isingdatapath,\n",
    "            import_on=IMPORT, init_nw_dict=init_nw_dict)\n",
    "#\n",
    "np.random.seed(4)\n",
    "random.seed(0)"
   ]
  },
  {
   "cell_type": "code",
   "execution_count": 6,
   "metadata": {},
   "outputs": [],
   "source": [
    "l = Lattice2D(**args)\n",
    "l.flip_sel_edges(l.nwDict[cell]['G'])\n",
    "l.compute_k_eigvV(howmany=howmany)\n",
    "if not l.import_on: l.export_edgel_bin(expoName=f\"p={pflip:.3g}\")"
   ]
  },
  {
   "cell_type": "code",
   "execution_count": 7,
   "metadata": {},
   "outputs": [
    {
     "data": {
      "text/plain": [
       "[10, 1, 90, 9]"
      ]
     },
     "execution_count": 7,
     "metadata": {},
     "output_type": "execute_result"
    }
   ],
   "source": [
    "list(l.G.neighbors(0))"
   ]
  },
  {
   "cell_type": "code",
   "execution_count": 13,
   "metadata": {},
   "outputs": [],
   "source": [
    "l = Lattice2D(side1= 10, pflip=0.1, init_nw_dict=True)\n",
    "tmplst = l.nwDict.rNodeFlip['G']\n",
    "# grph = self.l.GraphReprDict[on_graph]\n",
    "# _ = 0\n",
    "# patternList = []\n",
    "# while _ < len(tmplst):\n",
    "#     leval = [all([nnn['weight'] == -1 for nnn in grph[nn]])\n",
    "#             for nn in grph.neighbors(_)]\n",
    "#     if any(leval):\n",
    "#         tmplst.pop(_)  # Removing the element\n",
    "#     else:\n",
    "#         patternList.append([k for k in self.get_links_XERR(tmplst[_], on_graph)])\n",
    "#         _ += 1 "
   ]
  },
  {
   "cell_type": "code",
   "execution_count": 14,
   "metadata": {},
   "outputs": [
    {
     "data": {
      "text/plain": [
       "[41, 39, 59, 6, 53, 24, 70, 81, 10, 92]"
      ]
     },
     "execution_count": 14,
     "metadata": {},
     "output_type": "execute_result"
    }
   ],
   "source": [
    "tmplst"
   ]
  },
  {
   "cell_type": "code",
   "execution_count": 8,
   "metadata": {},
   "outputs": [
    {
     "name": "stdout",
     "output_type": "stream",
     "text": [
      "10 {0: {'weight': -1}, 20: {'weight': -1}, 11: {'weight': -1}, 19: {'weight': -1}}\n",
      "1 {0: {'weight': 1}, 11: {'weight': -1}, 2: {'weight': -1}, 91: {'weight': 1}}\n",
      "90 {0: {'weight': 1}, 80: {'weight': 1}, 91: {'weight': 1}, 99: {'weight': -1}}\n",
      "9 {0: {'weight': 1}, 8: {'weight': -1}, 19: {'weight': -1}, 99: {'weight': -1}}\n"
     ]
    }
   ],
   "source": [
    "for nn in l.G.neighbors(0):\n",
    "    print(nn, l.G[nn])"
   ]
  },
  {
   "cell_type": "code",
   "execution_count": null,
   "metadata": {},
   "outputs": [],
   "source": [
    "for ic in [\"uniform\"]+[f\"ground_state_{n}\" for n in range(how_gsN)]:\n",
    "    ising_dyn = IsingDynamics(sg=l, T=T_ising, ic=ic, runlang=\"C2\", \n",
    "                              in_suffix=f\"p={pflip:.3g}\", out_suffix=ic,\n",
    "                              id_string=id_string)\n",
    "    ising_dyn.run(thrmSTEP=thrmSTEP, eqSTEP=eqSTEP)"
   ]
  },
  {
   "cell_type": "markdown",
   "metadata": {},
   "source": [
    "### Frames"
   ]
  },
  {
   "cell_type": "code",
   "execution_count": null,
   "metadata": {},
   "outputs": [],
   "source": [
    "fsize = 10\n",
    "in_suffix = lambda ic: '_'.join([f\"p={pflip:.3g}\", ic, id_string])\n",
    "out_suffix = lambda ic: '_'.join([f\"p={pflip:.3g}\", f\"T={T_ising:.3g}\", \n",
    "                                  ic, id_string])\n",
    "def frame_import(basename, suffix):\n",
    "    fName = f\"{basename}_{suffix}.bin\"\n",
    "    fpath = os.path.join(l.isingpath, fName)\n",
    "    return np.fromfile(fpath, dtype=\"int8\")\n",
    "#\n",
    "initFrames = [frame_import(\"s\", in_suffix(ic)).reshape(*l.syshape)\n",
    "              for ic in [\"uniform\"]+[f\"ground_state_{n}\" \n",
    "                                     for n in range(how_gsN)]]\n",
    "lastFrames = [frame_import(\"sOut\", out_suffix(ic)).reshape(-1, *l.syshape)\n",
    "              for ic in [\"uniform\"]+[f\"ground_state_{n}\" \n",
    "                                     for n in range(how_gsN)]]\n",
    "#\n",
    "fig, ax = plt.subplots(ncols=how_gsN, nrows=2, \n",
    "                       figsize=(how_gsN*fsize, 2*fsize))\n",
    "# #\n",
    "kwimshowD = dict(cmap=credcblu, origin=\"lower\")\n",
    "for i in range(how_gsN):\n",
    "    ax[0][i].imshow(initFrames[i], **kwimshowD)\n",
    "    ax[1][i].imshow(lastFrames[i][-1], **kwimshowD)\n",
    "    ax[0][i].axis(\"off\")\n",
    "    ax[1][i].axis(\"off\")\n",
    "# #\n",
    "fig.tight_layout()\n",
    "fname = '_'.join([f\"Ising{l.N}\", \"frames\", out_suffix(\"all_ic\")])+\".pdf\"\n",
    "fig.savefig(os.path.join(plot_ene, fname), transparent=True)"
   ]
  },
  {
   "cell_type": "code",
   "execution_count": null,
   "metadata": {},
   "outputs": [],
   "source": [
    "fsize = 10\n",
    "out_suffix = lambda ic: '_'.join([f\"p={pflip:.3g}\", f\"T={T_ising:.3g}\", \n",
    "                                  ic, id_string])\n",
    "def ene_import(basename, suffix):\n",
    "    fName = f\"{basename}_{suffix}.bin\"\n",
    "    fpath = os.path.join(l.isingpath, fName)\n",
    "    return np.fromfile(fpath, dtype=\"float\")\n",
    "#\n",
    "ene = [ene_import(\"ene\", out_suffix(ic))\n",
    "              for ic in [\"uniform\"]+[f\"ground_state_{n}\" \n",
    "                                     for n in range(how_gsN)]]\n",
    "x = np.arange(0, ene[0].size)+1\n",
    "#\n",
    "fig, ax = plt.subplots(figsize=(12, 8))\n",
    "#\n",
    "for en in ene[1:]:\n",
    "    ax.plot(x, en/4, '-')\n",
    "ax.plot(x, ene[0]/4, 'k-', lw=3)\n",
    "ax.set_xscale('log')\n",
    "ax.set_xlabel(f\"MC steps\")\n",
    "ax.set_ylabel(f\"$E/N$\")\n",
    "# \n",
    "\n",
    "zoomXrange = (10, len(x))\n",
    "zoomYrange = (-.85, -.75)  # Range of points to display in the inset\n",
    "inset_ax = ax.inset_axes([0.05, 0.2, 0.8, 0.5], \n",
    "                         xlim=zoomXrange, ylim=zoomYrange, \n",
    "                         xticklabels=[], yticklabels=[])  # Position and size of the inset\n",
    "for en in ene[1:]:\n",
    "    inset_ax.plot(x, en/4, '-')\n",
    "inset_ax.plot(x, ene[0]/4, 'k-', lw=3)\n",
    "# ene = ene[:zoom_range]\n",
    "# ene0 = ene0[:zoom_range]\n",
    "# ene1 = ene1[:zoom_range]\n",
    "# ene2 = ene2[:zoom_range]\n",
    "# ene3 = ene3[:zoom_range]\n",
    "# ene4 = ene4[:zoom_range]\n",
    "# # Plot the same data in the inset, focusing on the last part of the curves\n",
    "# inset_ax.plot(x, ene / 4, 'k-', lw=2)\n",
    "# inset_ax.plot(x, ene0 / 4, '-', lw=2)\n",
    "# inset_ax.plot(x, ene1 / 4, '-', lw=2)\n",
    "# inset_ax.plot(x, ene2 / 4, '-', lw=2)\n",
    "# inset_ax.plot(x, ene3 / 4, '-', lw=2)\n",
    "# inset_ax.plot(x, ene4 / 4, '-', lw=2)\n",
    "# inset_ax.set_ybound(-.85, -0.75)\n",
    "# # ax.indicate_inset_zoom(inset_ax, edgecolor=\"k\", lw=3)\n",
    "# # mark_inset(ax, inset_ax, loc1=2, loc2=4, fc=\"none\", ec=\"red\", lw=2)\n",
    "# # ax.indicate_inset_zoom(inset_ax, edgecolor=\"black\")\n",
    "mark_inset(ax, inset_ax, loc1=1, loc2=3, fc=\"none\", ec=\"0.5\")\n",
    "inset_ax.set_xscale('log')\n",
    "inset_ax.set_xticklabels([])\n",
    "\n",
    "# # ax.set_xlim(200000, 250000)\n",
    "# fname = f\"Ising{l.N}_ene_p={pflip:.3g}_T={T_ising:.3g}.pdf\"\n",
    "fig.tight_layout() \n",
    "fname = '_'.join([f\"Ising{l.N}\", \"ene\", out_suffix(\"all_ic\")])+\".pdf\"\n",
    "fig.savefig(os.path.join(plot_ene, fname), transparent=True)"
   ]
  },
  {
   "cell_type": "markdown",
   "metadata": {},
   "source": [
    "- maybe there is a scale argument that only in the limit N to infty \n",
    "- perfect degeneracy takes place"
   ]
  },
  {
   "cell_type": "code",
   "execution_count": null,
   "metadata": {},
   "outputs": [],
   "source": [
    "fig, ax = plt.subplots(ncols=2, figsize=(18, 10))\n",
    "#\n",
    "path = os.path.join(l.isingpath, f\"s_sqr_p={pflip:.3g}.bin\")\n",
    "initFrame = np.fromfile(path, dtype=\"int8\").reshape(*l.syshape)\n",
    "#flip_to_positive_majority_adapted(np.sign(l.eigV[0].reshape(l.syshape)))\n",
    "    \n",
    "codestr = ising_dyn.id_string_isingdyn\n",
    "basename = f\"sOut_sqr_p={pflip:.3g}_T={T_ising:.3g}_{codestr}.bin\"\n",
    "path = os.path.join(l.isingpath, basename)\n",
    "lastFrame = flip_to_positive_majority_adapted(ising_dyn.s.reshape(*l.syshape))\n",
    "c = flip_to_positive_majority_adapted(np.sign(l.eigV[1].reshape(l.syshape)))\n",
    "#\n",
    "l.load_vec_on_nodes(initFrame.flatten(), attr='sI')\n",
    "l.load_vec_on_nodes(lastFrame.flatten(), attr='sF')\n",
    "ferroGroup, antiGroup = l.classify_ferroAntiferro_regions(attr_str='sI')\n",
    "sI = np.zeros(l.syshape)\n",
    "sI[np.unravel_index(ferroGroup, l.syshape)] = 1\n",
    "antiGroup = np.array(antiGroup, dtype=np.intp)\n",
    "sI[np.unravel_index(antiGroup, l.syshape)] = -1\n",
    "ferroGroup, antiGroup = l.classify_ferroAntiferro_regions(attr_str='sF')\n",
    "sF = np.zeros(l.syshape)\n",
    "sF[np.unravel_index(ferroGroup, l.syshape)] = 1\n",
    "antiGroup = np.array(antiGroup, dtype=np.intp)\n",
    "sF[np.unravel_index(antiGroup, l.syshape)] = -1\n",
    "#\n",
    "cmap = ListedColormap([cred, cblu])\n",
    "cmap2 = ListedColormap(['purple', 'white', 'orange'])\n",
    "diff_cmap = restr_twilight\n",
    "norm = Normalize(vmin=-1, vmax=1)  \n",
    "\n",
    "kwargsImshow = {'interpolation': 'none', 'cmap': cmap}\n",
    "kwargsImshow2 = {'interpolation': 'none', 'cmap': cmap2}\n",
    "kwargsImshowd = {'interpolation': 'none', 'cmap': diff_cmap}\n",
    "ax[0].imshow(initFrame, **kwargsImshow)\n",
    "ax[1].imshow(lastFrame, **kwargsImshow)\n",
    "for axx in ax.ravel():\n",
    "    axx.axis('off')\n",
    "    divider = make_axes_locatable(axx)\n",
    "    cax = divider.append_axes(\"right\", size=\"5%\", pad=0.2)\n",
    "    cbar = fig.colorbar(plt.cm.ScalarMappable(norm=norm, cmap=cmap), \n",
    "                        cax=cax, extendfrac='auto', pad=0.01,\n",
    "                        orientation='vertical', extend='both')\n",
    "    cbar.set_ticks([-1, 1])\n",
    "    cbar.set_ticklabels([\"\", \"\"])\n",
    "    cbar.ax.tick_params(axis='y', pad=-50)\n",
    "    cbar_ticks = cbar.get_ticks()\n",
    "    for s,y,c in zip(['+', '-'], [.5, -.5], ['w', 'k']):\n",
    "        cbar.ax.text(.55, y, fr'$\\bm{{{s}}}$', c=c, ha='center', va='center', fontsize=20)\n",
    "    cbar.set_ticks([])\n",
    "fig.savefig(os.path.join(datpath, Isingdatapath, f\"init_last_{codestr}.pdf\"), \n",
    "            bbox_inches='tight', transparent=True)"
   ]
  },
  {
   "cell_type": "code",
   "execution_count": null,
   "metadata": {},
   "outputs": [],
   "source": []
  },
  {
   "cell_type": "code",
   "execution_count": null,
   "metadata": {},
   "outputs": [],
   "source": [
    "eigV = flip_to_positive_majority_adapted(np.sign(l.eigV[0].reshape(l.syshape)))\n",
    "fig, ax = plt.subplots(figsize=(6, 6))\n",
    "ax.imshow(eigV, interpolation='none', cmap=cmap)\n",
    "ax.axis('off')\n",
    "fig.savefig(os.path.join(datpath, Isingdatapath, f\"eigV_{codestr}.pdf\"), \n",
    "            bbox_inches='tight', transparent=True)"
   ]
  },
  {
   "cell_type": "code",
   "execution_count": null,
   "metadata": {},
   "outputs": [],
   "source": [
    "ising_dyn.id_string_isingdyn, pflip"
   ]
  },
  {
   "cell_type": "code",
   "execution_count": null,
   "metadata": {},
   "outputs": [],
   "source": [
    "path = os.path.join(l.isingpath, f\"ene_sqr_p={pflip:.3g}_T={T_ising:.3g}_{ising_dyn.id_string_isingdyn}.bin\")\n",
    "ene = np.fromfile(path, dtype=\"float\")\n",
    "path = os.path.join(l.isingpath, f\"ene_sqr_p={pflip:.3g}_T={T_ising:.3g}_{ising_dyn.id_string_isingdyn}.bin\")\n",
    "ene2 = np.fromfile(path, dtype=\"float\")\n",
    "path = os.path.join(l.isingpath, f\"magn_sqr_p={pflip:.3g}_T={T_ising:.3g}_{ising_dyn.id_string_isingdyn}.bin\")\n",
    "magn = np.fromfile(path, dtype=\"float\")"
   ]
  },
  {
   "cell_type": "markdown",
   "metadata": {},
   "source": [
    "- anneal and quench energy to prove paramagnetic effects (with T)\n",
    "- minfty\n",
    "- - magnetizzatione abs\n",
    "- check node and remove from the list possible already selected.\n",
    "- ultrametricity of the solution"
   ]
  },
  {
   "cell_type": "code",
   "execution_count": null,
   "metadata": {},
   "outputs": [],
   "source": [
    "x = np.arange(0, ene.size)+1\n",
    "fig, ax = plt.subplots(figsize=(16, 10))\n",
    "fig.tight_layout() \n",
    "ax.plot(x, ene/4, '-', lw=3, c=cred)\n",
    "ax.axhline(l.compute_rbim_energy_eigV(0)/2, ls='--', lw=3, c=cblu)\n",
    "ax.set_xscale('log')\n",
    "ax.set_xlabel(r\"MC steps ($\\Delta t = 1/N$)\")\n",
    "ax.set_ylabel(r\"$E/N$\")\n",
    "# ax.set_ybound(-1, 0)\n",
    "\n",
    "plt.show()"
   ]
  },
  {
   "cell_type": "code",
   "execution_count": null,
   "metadata": {},
   "outputs": [],
   "source": [
    "x = np.arange(0, ene.size)+1\n",
    "fig, ax = plt.subplots(ncols=2, figsize=(10, 6))\n",
    "fig.tight_layout() \n",
    "ax[0].plot(x, ene/4, '-', label='Energy')\n",
    "ax[1].plot(x, magn, '-', label='Magn')\n",
    "ax[0].set_xscale('log')\n",
    "ax[0].set_ylabel('Energy')\n",
    "ax[1].set_ylabel('Magnetization')\n",
    "ax[0].set_ybound(-1, 0)\n",
    "ax[1].set_ybound(-1, 1)\n",
    "plt.show()"
   ]
  },
  {
   "cell_type": "markdown",
   "metadata": {},
   "source": [
    "### $\\langle m_\\infty\\rangle$"
   ]
  },
  {
   "cell_type": "markdown",
   "metadata": {},
   "source": [
    "## Energy levels"
   ]
  },
  {
   "cell_type": "code",
   "execution_count": null,
   "metadata": {},
   "outputs": [],
   "source": [
    "side = 64\n",
    "geo = 'squared'\n",
    "cell = 'randXERR'\n",
    "pbc = True\n",
    "pflip = 0.12\n",
    "pflip2 = 0.5\n",
    "howmany = 100"
   ]
  },
  {
   "cell_type": "code",
   "execution_count": null,
   "metadata": {},
   "outputs": [],
   "source": [
    "l = Lattice2D(side, geo, pbc=pbc, pflip=pflip, init_nw_dict=True)\n",
    "l.flip_sel_edges(l.nwDict[cell]['G'])\n",
    "l.compute_k_eigvV(howmany=howmany, MODE_dynspec=\"scipy\")\n",
    "l2 = Lattice2D(side, geo, pbc=pbc, pflip=pflip2, init_nw_dict=True)\n",
    "l2.flip_sel_edges(l2.nwDict[cell]['G'])\n",
    "l2.compute_k_eigvV(howmany=howmany, MODE_dynspec=\"scipy\")"
   ]
  },
  {
   "cell_type": "code",
   "execution_count": null,
   "metadata": {},
   "outputs": [],
   "source": [
    "energies = np.array([l.compute_rbim_energy_eigV(_)/2 for _ in range(howmany)])\n",
    "energies2 = np.array([l2.compute_rbim_energy_eigV(_)/2 for _ in range(howmany)])\n",
    "en0, en02 = energies[np.argmax(np.abs(energies))], energies2[np.argmax(np.abs(energies))]"
   ]
  },
  {
   "cell_type": "code",
   "execution_count": null,
   "metadata": {},
   "outputs": [],
   "source": [
    "original_cmap = plt.cm.twilight\n",
    "n_colors = 256  # Number of colors in the original colormap\n",
    "cut_off = int(n_colors * 0.8)  # Exclude the last 20% of the colormap\n",
    "colors = original_cmap(np.linspace(0, cut_off / n_colors, n_colors))\n",
    "modified_cmap = LinearSegmentedColormap.from_list('modified_twilight', colors)\n",
    "discrete_colors = modified_cmap(np.linspace(0, 1, len(energies)))\n",
    "listed_cmap = ListedColormap(discrete_colors)\n",
    "boundaries = np.arange(len(energies) + 1)  # Shift by 0.5 to center the intervals\n",
    "norm = BoundaryNorm(boundaries, listed_cmap.N, clip=True)"
   ]
  },
  {
   "cell_type": "code",
   "execution_count": null,
   "metadata": {},
   "outputs": [],
   "source": [
    "fig, ax = plt.subplots(figsize=(10, 10), ncols=2, width_ratios=[1, 1])\n",
    "\n",
    "inset_ax = ax[1].inset_axes([.4, .15, 0.5, 0.6], \n",
    "                            ylim=(min(energies2)-0.005, max(energies2)+0.005), \n",
    "                            xlim=(.8, .98), xticklabels=[], zorder=100000)  # Position and size of the inset\n",
    "for i, (en, en2) in enumerate(zip(energies, energies2)):\n",
    "    color = listed_cmap(i / len(energies)) if i != 0 else 'red'\n",
    "    kwAxDict = dict(lw=4, color=color, zorder=1/(i+1))\n",
    "    ax[0].axhline(en, 0.05, 1-0.05, **kwAxDict)\n",
    "    inset_ax.axhline(en2, 0.05, 1-0.05, **kwAxDict)\n",
    "    ax[1].axhline(en2, 0.05, 1-0.05, **kwAxDict)\n",
    "# ax.relim()\n",
    "# ax.autoscale_view()\n",
    "for axx in ax:\n",
    "    axx.spines['top'].set_visible(False)\n",
    "    axx.spines['right'].set_visible(False)\n",
    "    axx.spines['bottom'].set_visible(False)\n",
    "    axx.yaxis.set_ticks_position('left')\n",
    "    axx.spines['left'].set_position(('outward', 10))\n",
    "    axx.grid(True)\n",
    "    axx.set_xticks([])\n",
    "    ymin = min(min(energies), min(energies2))-0.005\n",
    "    ymax = max(max(energies), max(energies2))+0.005\n",
    "    axx.set_ylim(ymin, ymax)\n",
    "    axx.yaxis.set_major_locator(MultipleLocator(0.1))\n",
    "    # axx.set_yticks()\n",
    "fig.tight_layout()\n",
    "ax[0].set_ylabel(r\"$E/N$\")\n",
    "ax[0].set_title(f\"$p={pflip:.3g}$\")\n",
    "ax[1].set_title(f\"$p={pflip2:.3g}$\")\n",
    "# ax[1].set_yticklabels([])\n",
    "#\n",
    "mark_inset(ax[1], inset_ax, loc1=2, loc2=4, fc=\"none\", ec=\"k\", zorder=len(energies)+1000)\n",
    "inset_ax.set_xticks([])\n",
    "inset_ax.tick_params(labelsize=20)\n",
    "from matplotlib.ticker import MultipleLocator\n",
    "\n",
    "# inset_ax.set_yticks([])\n",
    "inset_ax.yaxis.set_major_locator(MultipleLocator(0.02))  # Major ticks at intervals of 4\n",
    "#\n",
    "sm = plt.cm.ScalarMappable(cmap=listed_cmap, norm=norm)\n",
    "cbar = fig.colorbar(sm, ax=ax.ravel().tolist())\n",
    "cbar.set_ticks(np.arange(0, len(energies)+1, 20))\n",
    "fig.savefig(os.path.join(plot_eigV, f\"{cell}_p={pflip:.3g}-{pflip2:.3g}.pdf\"), \n",
    "            bbox_inches='tight', transparent=True)\n",
    "# plt.close('all')"
   ]
  },
  {
   "cell_type": "markdown",
   "metadata": {},
   "source": [
    "### Simulated Annealing Reverse (local minima stability test)"
   ]
  },
  {
   "cell_type": "code",
   "execution_count": null,
   "metadata": {},
   "outputs": [],
   "source": [
    "side = 32\n",
    "geo = 'squared'\n",
    "pflip = 0.25\n",
    "gsN = 3\n",
    "cell = \"randXERR\"\n",
    "IMPORT = False\n",
    "args = {'import_on': True} if IMPORT else {}\n",
    "T_0 = 0.1\n",
    "T_F = 1\n",
    "cmap = ListedColormap([cred, cblu])"
   ]
  },
  {
   "cell_type": "code",
   "execution_count": null,
   "metadata": {},
   "outputs": [],
   "source": [
    "l = Lattice2D(side1=side, sgpath=Isingdatapath, geo=geo, pflip=pflip,\n",
    "            init_nw_dict=True, seed=0, **args)\n",
    "l.flip_sel_edges(l.nwDict[cell]['G'])\n",
    "l.compute_k_eigvV(howmany=10)\n",
    "if not l.import_on:\n",
    "    l.export_edgel_bin()\n",
    "#\n",
    "ising_dyn = IsingDynamics(sg=l, ic=f\"custom\", runlang=\"C2\")\n",
    "#\n",
    "kwargsImshow = dict(cmap=cmap, origin='lower')\n",
    "for T in np.linspace(T_0, T_F, num=9):\n",
    "    fig, ax = plt.subplots(1, 3, figsize=(12, 4))\n",
    "    ising_dyn.init_ising_dynamics(custom=l.bin_eigV(which=gsN), randstring_OPT=False)\n",
    "    ax[0].imshow(ising_dyn.s.reshape(*l.syshape), **kwargsImshow)\n",
    "    ising_dyn.run(T_ising=T, thrmSTEP=4, eqSTEP=8, out_suffix=\"test_sa\")\n",
    "    ax[1].imshow(ising_dyn.s.reshape(*l.syshape), **kwargsImshow)\n",
    "    ising_dyn.export_s_init()\n",
    "    ising_dyn.run(T_ising=T_0, thrmSTEP=4, eqSTEP=0, out_suffix=f\"cool={T:.3g}\")\n",
    "    ax[2].imshow(ising_dyn.s.reshape(*l.syshape), **kwargsImshow)\n",
    "    for axx in ax:\n",
    "        axx.axis('off')\n",
    "    ax[0].set_title(fr\"$T = {T_0:.3g}$\")\n",
    "    ax[1].set_title(fr\"$T = {T:.3g} |\\lambda_{gsN}\\rangle$\")\n",
    "    ax[2].set_title(fr\"$T = {T_0:.3g}$\")\n",
    "    fig.savefig(os.path.join(datpath, Isingdatapath, f\"IsingDyn_{cell}_{gsN}_T={T:.3g}.pdf\"),\n",
    "                bbox_inches='tight', transparent=True)\n",
    "    plt.close('all')"
   ]
  },
  {
   "cell_type": "markdown",
   "metadata": {},
   "source": [
    "## Phase Diagram"
   ]
  },
  {
   "cell_type": "code",
   "execution_count": null,
   "metadata": {},
   "outputs": [],
   "source": [
    "J = 1\n",
    "k_B = 1\n",
    "T = np.linspace(1e-2, 5, 500)\n",
    "p = 0.5 * (1 + np.exp(J / (k_B * T)))**-1\n",
    "#\n",
    "fig, ax = plt.subplots(figsize=(8, 5))\n",
    "#\n",
    "ax.plot(p, T, lw=2, ls='--', marker='', label='Nishimori Line', color='k')\n",
    "# ax.axvline(0.4, lw=2, ls='--', color='k')\n",
    "#\n",
    "ax.set_ylim(0, 3)\n",
    "ax.set_xlim(-.005, .5)\n",
    "#\n",
    "ax.set_xticks([0, 0.103, 0.5])\n",
    "ax.set_xticklabels([r\"0\", r\"\\(p_{\\mathrm{c}}\\)\", r\"0.5\"])\n",
    "ax.set_yticks([0, 2.2])\n",
    "ax.set_yticklabels([r\"0\", r\"\\(T_{\\mathrm{c}}\\)\"])\n",
    "#\n",
    "ax.tick_params(axis='both', which='both', labelsize=30)\n",
    "#\n",
    "fig.savefig(os.path.join(datpath, subdatapath, 'phase_diagram.pdf'), \n",
    "            bbox_inches='tight', transparent=True)\n",
    "plt.close('all')"
   ]
  }
 ],
 "metadata": {
  "kernelspec": {
   "display_name": "lrgsgenv",
   "language": "python",
   "name": "python3"
  },
  "language_info": {
   "codemirror_mode": {
    "name": "ipython",
    "version": 3
   },
   "file_extension": ".py",
   "mimetype": "text/x-python",
   "name": "python",
   "nbconvert_exporter": "python",
   "pygments_lexer": "ipython3",
   "version": "3.12.3"
  }
 },
 "nbformat": 4,
 "nbformat_minor": 2
}
