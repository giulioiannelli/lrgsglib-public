{
 "cells": [
  {
   "cell_type": "markdown",
   "metadata": {},
   "source": [
    "# Panel 3"
   ]
  },
  {
   "cell_type": "markdown",
   "metadata": {},
   "source": [
    "### `import packages.needed`"
   ]
  },
  {
   "cell_type": "code",
   "execution_count": 2,
   "metadata": {},
   "outputs": [
    {
     "name": "stdout",
     "output_type": "stream",
     "text": [
      "The autoreload extension is already loaded. To reload it, use:\n",
      "  %reload_ext autoreload\n",
      "Current working directory: /home/opisthofulax/PhD/projects/complex-networks/lrgsglib\n"
     ]
    }
   ],
   "source": [
    "%load_ext autoreload\n",
    "%autoreload 2\n",
    "%matplotlib widget\n",
    "#\n",
    "from lrgsglib.core import *\n",
    "#\n",
    "move_to_rootf(print_tf=True)\n",
    "plt.style.use('ipynb/nb_plotsheet.mplstyle')\n",
    "#\n",
    "path_paper = PATHPLOT / Path(PATHNPAPR)\n",
    "path_panel3 = path_paper / Path('panel_3')\n",
    "path_eris_xerr = path_panel3 / Path('er_ising_xerr')\n",
    "path_phase_diagram = path_panel3 / Path('phase_diagram')"
   ]
  },
  {
   "cell_type": "markdown",
   "metadata": {},
   "source": [
    "### Fig. (a): Phase Diagram \n",
    "Expressions for the Nishimori line as function of $T$ and $p$\n",
    "\n",
    "$$\\mathrm{nishi}_p(T)=\\frac12​(1+e^{k_B ​TJ}​)-1,\\qquad\n",
    "\\mathrm{nishi}_T(p) = \\frac{J}{k_B \\ln\\left(\\frac{1}{2p} - 1\\right)}$$"
   ]
  },
  {
   "cell_type": "code",
   "execution_count": null,
   "metadata": {},
   "outputs": [],
   "source": [
    "phd = 'xerr' or 'serr'\n",
    "J, k_B, p_c = 1, 1, 0.103\n",
    "nishi_p = lambda T: 0.5 * (1 + np.exp(J / (k_B * T)))**(-1)\n",
    "nishi_T = lambda p: J * (k_B*np.log(1/(2*p)-1))**(-1)\n",
    "#\n",
    "T_c, T_max, p_max = 2.2, 2.5, 0.5\n",
    "TlinSpace = np.linspace(1e-2, T_max, 100)\n",
    "pSglinSpace = np.linspace(p_c, p_max)\n",
    "TSglinSpace = 0*np.ones(len(pSglinSpace))\n",
    "critPoints = np.array([[0, p_c], [T_c, 0]])\n",
    "#\n",
    "kwNishiLine = dict(ls='-.', lw=1, marker='', c='k', clip_on=True)\n",
    "kwCritPoints = dict(marker='o', c='r', clip_on=False, zorder=1e3)\n",
    "kwSgLine = dict(lw=2, ls='-', c='#8030ff', marker='', clip_on=False, zorder=9e1)"
   ]
  },
  {
   "cell_type": "code",
   "execution_count": null,
   "metadata": {},
   "outputs": [],
   "source": [
    "fig, ax = plt.subplots(figsize=(8, 5))\n",
    "#\n",
    "ax.plot(nishi_p(TlinSpace), TlinSpace, **kwNishiLine)\n",
    "ax.scatter(*critPoints, **kwCritPoints)\n",
    "ax.plot(pSglinSpace, TSglinSpace, **kwSgLine)\n",
    "#\n",
    "ax.set_ylim(0, T_max)\n",
    "ax.set_xlim(0, p_max)\n",
    "#\n",
    "if phd == 'xerr':\n",
    "    xticks = [0, p_c, 0.4, 0.5]\n",
    "    xticklabels = [r\"0\", r\"\\(p_{\\mathrm{c}}\\)\", r\"0.4\", r\"0.5\"]\n",
    "elif phd == 'serr':\n",
    "    xticks = [0, p_c, 0.5]\n",
    "    xticklabels = [r\"0\", r\"\\(p_{\\mathrm{c}}\\)\", r\"0.5\"]\n",
    "yticks = [0, T_c]\n",
    "yticklabels = [r\"0\", r\"\\(T_{\\mathrm{c}}^{\\text{\\Large Ising}}\\)\"]\n",
    "ax.set_xticks(xticks)\n",
    "ax.set_yticks(yticks)\n",
    "ax.set_xticklabels(xtick)\n",
    "ax.set_yticklabels([r\"0\", r\"\\(T_{\\mathrm{c}}^{\\text{\\Large Ising}}\\)\"])\n",
    "#\n",
    "ax.tick_params(axis='both', which='both', labelsize=30)\n",
    "#\n",
    "ax.text(p_max/3, T_max/2, r'\\emph{Nishimori Line}', fontsize=16)\n",
    "ax.text(p_c, 0.1, r'\\emph{Spin Glass}', c='#8030ff', fontsize=20)\n",
    "#\n",
    "fig.savefig(os.path.join(path_phase_diagram, 'phase_diagram.pdf'), \n",
    "            bbox_inches='tight', transparent=True)\n",
    "plt.close('all')"
   ]
  },
  {
   "cell_type": "code",
   "execution_count": null,
   "metadata": {},
   "outputs": [],
   "source": []
  }
 ],
 "metadata": {
  "kernelspec": {
   "display_name": "lrgsgenv",
   "language": "python",
   "name": "python3"
  },
  "language_info": {
   "codemirror_mode": {
    "name": "ipython",
    "version": 3
   },
   "file_extension": ".py",
   "mimetype": "text/x-python",
   "name": "python",
   "nbconvert_exporter": "python",
   "pygments_lexer": "ipython3",
   "version": "3.12.3"
  }
 },
 "nbformat": 4,
 "nbformat_minor": 2
}
