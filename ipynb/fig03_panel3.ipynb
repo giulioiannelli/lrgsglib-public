{
 "cells": [
  {
   "cell_type": "markdown",
   "metadata": {},
   "source": [
    "# Panel 3"
   ]
  },
  {
   "cell_type": "markdown",
   "metadata": {},
   "source": [
    "### `import packages.needed`"
   ]
  },
  {
   "cell_type": "code",
   "execution_count": 1,
   "metadata": {},
   "outputs": [
    {
     "name": "stdout",
     "output_type": "stream",
     "text": [
      "Current working directory: /home/opisthofulax/PhD/projects/complex-networks/lrgsglib\n"
     ]
    }
   ],
   "source": [
    "%matplotlib inline\n",
    "#\n",
    "from lrgsglib.core import *\n",
    "#\n",
    "move_to_rootf()\n",
    "plt.style.use('ipynb/nb_plotsheet.mplstyle')\n",
    "#\n",
    "datpath = os.path.join('data')\n",
    "subdatapath = os.path.join('plot', 'paper', 'panel_3/')\n",
    "Isingdatapath = os.path.join(subdatapath, 'Ising')\n",
    "plotpath = os.path.join(datpath, Isingdatapath)\n",
    "plot_ene = os.path.join(plotpath, \"plot_ene\", \"\")\n",
    "plot_phd = os.path.join(plotpath, \"plot_ph_dia\", \"\")\n",
    "plot_eigV = os.path.join(plotpath, \"plot_energy_eigV\", \"\")\n",
    "clusterdatapath = os.path.join('cluster_data', 'cluster_data_ising')\n",
    "\n",
    "#\n",
    "os.makedirs(plot_ene, exist_ok=True)\n",
    "os.makedirs(plot_eigV, exist_ok=True)\n",
    "os.makedirs(plot_phd, exist_ok=True)"
   ]
  },
  {
   "cell_type": "markdown",
   "metadata": {},
   "source": [
    "## Energy shots comparison"
   ]
  },
  {
   "cell_type": "markdown",
   "metadata": {},
   "source": [
    "### X frames"
   ]
  },
  {
   "cell_type": "code",
   "execution_count": 2,
   "metadata": {},
   "outputs": [],
   "source": [
    "side = 48\n",
    "pflip = 0.25\n",
    "geo = 'squared'\n",
    "cell = 'randXERR'\n",
    "runlang = 'C3'\n",
    "howmany = 100\n",
    "numEigVdat = 5\n",
    "thrmSTEP = 80\n",
    "eqSTEP = 0\n",
    "seed = 123456\n",
    "T_0 = 0.1\n",
    "T_c = 2/np.log(1 + np.sqrt(2))\n",
    "T_F = 3\n",
    "Tlist = np.concatenate([np.linspace(T_0, T_c, 10), np.linspace(T_c, T_F, 3)])\n",
    "l2dDict = dict(side1=side, geo=geo, pflip=pflip, sgpath=Isingdatapath, \n",
    "               init_nw_dict=True, seed=seed)\n",
    "#\n",
    "l = Lattice2D(**l2dDict)\n",
    "l.flip_sel_edges(l.nwDict[cell]['G'])\n",
    "l.compute_k_eigvV(howmany=howmany)\n",
    "energies = np.array([l.compute_rbim_energy_eigV(_)/2 for _ in range(howmany)])\n",
    "eigVidxs = np.argsort(energies)[:numEigVdat]"
   ]
  },
  {
   "cell_type": "code",
   "execution_count": 3,
   "metadata": {},
   "outputs": [],
   "source": [
    "for ii, i in enumerate(eigVidxs):\n",
    "    for T in Tlist:\n",
    "        outs = f'{cell[-4:]}{thrmSTEP}gs{i}'.replace('.', '')\n",
    "        fname = f'sout_p={pflip:.3g}_T={T:.3g}_{outs}'+BIN\n",
    "        if os.path.exists(os.path.join(l.isingpath, fname)):\n",
    "            continue\n",
    "        idstr = f'{cell}_{seed}'\n",
    "        isd = IsingDynamics(l, T=T, ic=f'ground_state_{i}', runlang=runlang,\n",
    "                            id_string=idstr, out_suffix=outs)\n",
    "        l.export_edgel_bin(exName=idstr)\n",
    "        isd.run(thrmSTEP=thrmSTEP, eqSTEP=eqSTEP)\n",
    "        #begin cooling\n",
    "        init = isd.s\n",
    "        isd2 = IsingDynamics(l, T=T_0, ic=f'custom', runlang=runlang,\n",
    "                    id_string=idstr, out_suffix=outs+f\"cooling_{T:.3g}\")\n",
    "        isd2.init_ising_dynamics(init)\n",
    "        isd2.run(thrmSTEP=thrmSTEP, eqSTEP=eqSTEP)\n",
    "        isd.remove_run_c_files()\n",
    "        isd2.remove_run_c_files()"
   ]
  },
  {
   "cell_type": "code",
   "execution_count": null,
   "metadata": {},
   "outputs": [],
   "source": [
    "Tset = list(set(extract_values_from_filenames(os.listdir(l.isingpath), \n",
    "                                              r\"T=([\\d.]+)_\")))"
   ]
  },
  {
   "cell_type": "code",
   "execution_count": null,
   "metadata": {},
   "outputs": [],
   "source": [
    "T = Tset[2]\n",
    "gs = eigVidxs[0]\n",
    "outs = f'{cell[-4:]}{thrmSTEP}gs{gs}'.replace('.', '')\n",
    "frames = np.fromfile(os.path.join(l.isingpath, \n",
    "                                  f'sout_p={pflip:.3g}_T={T:.3g}_{outs}'+BIN), \n",
    "                                  dtype=np.int8).reshape(-1, *l.syshape)\n",
    "coolingFname = f'sout_p={pflip:.3g}_T={0.1:.3g}_{outs}cooling_{T:.3g}'+BIN\n",
    "frames2 = np.fromfile(os.path.join(l.isingpath, coolingFname),\n",
    "                      dtype=np.int8).reshape(-1, *l.syshape)"
   ]
  },
  {
   "cell_type": "code",
   "execution_count": null,
   "metadata": {},
   "outputs": [],
   "source": [
    "fig, ax = plt.subplots(4, len(frames)//2, figsize=(10, 8))\n",
    "coutn = 0\n",
    "for axx in ax:\n",
    "    for axxx in axx:\n",
    "        axxx.axis('off'), \n",
    "        axxx.imshow(frames[coutn] if coutn < len(frames) else -frames2[coutn-len(frames)], cmap=credcblu)\n",
    "        coutn += 1\n",
    "fig.tight_layout()\n",
    "fig.savefig(os.path.join(plot_eigV, f'{cell}_{seed}_{thrmSTEP}_T={T:.3g}_gs{gs}.pdf'))"
   ]
  },
  {
   "cell_type": "code",
   "execution_count": null,
   "metadata": {},
   "outputs": [],
   "source": [
    "fig, ax = plt.subplots(figsize=(16, 8))\n",
    "for T in Tlist[::2]:\n",
    "    frames = np.fromfile(os.path.join(l.isingpath, \n",
    "                                  f'ene_p={pflip:.3g}_T={T:.3g}_{outs}'+BIN), \n",
    "                                  dtype=float)\n",
    "    ax.plot(frames/4, ls='-', marker='', zorder=1/T, label=fr'$T={T:.3g}$', rasterized=True)\n",
    "ax.set_xlabel(r'MC steps ($\\Delta t = 1/N$)')\n",
    "ax.set_ylabel(r'$E/N$')\n",
    "ax.legend(fontsize=35, loc='upper right')\n",
    "fig.savefig(os.path.join(plot_ene, f'{cell}_{seed}_{thrmSTEP}_T={T:.3g}_gs{gs}.pdf'), transparent=True)"
   ]
  },
  {
   "cell_type": "markdown",
   "metadata": {},
   "source": [
    "### S frames"
   ]
  },
  {
   "cell_type": "code",
   "execution_count": null,
   "metadata": {},
   "outputs": [],
   "source": [
    "side = 48\n",
    "pflip = 0.25\n",
    "geo = 'squared'\n",
    "cell = 'rand'\n",
    "runlang = 'C3'\n",
    "howmany = 100\n",
    "numEigVdat = 5\n",
    "thrmSTEP = 80\n",
    "eqSTEP = 0\n",
    "seed = 123456\n",
    "T_0 = 0.1\n",
    "T_c = 2/np.log(1 + np.sqrt(2))\n",
    "T_F = 3\n",
    "Tlist = np.concatenate([np.linspace(T_0, T_c, 10), np.linspace(T_c, T_F, 3)])\n",
    "l2dDict = dict(side1=side, geo=geo, pflip=pflip, sgpath=Isingdatapath, \n",
    "               init_nw_dict=True, seed=seed)\n",
    "#\n",
    "l = Lattice2D(**l2dDict)\n",
    "l.flip_sel_edges(l.nwDict[cell]['G'])\n",
    "l.compute_k_eigvV(howmany=howmany)\n",
    "energies = np.array([l.compute_rbim_energy_eigV(_)/2 for _ in range(howmany)])\n",
    "eigVidxs = np.argsort(energies)[:numEigVdat]"
   ]
  },
  {
   "cell_type": "code",
   "execution_count": null,
   "metadata": {},
   "outputs": [],
   "source": [
    "for ii, i in enumerate(eigVidxs):\n",
    "    for T in Tlist:\n",
    "        outs = f'{cell[-4:]}{thrmSTEP}gs{i}'.replace('.', '')\n",
    "        fname = f'sout_p={pflip:.3g}_T={T:.3g}_{outs}'+BIN\n",
    "        if os.path.exists(os.path.join(l.isingpath, fname)):\n",
    "            continue\n",
    "        idstr = f'{cell}_{seed}'\n",
    "        isd = IsingDynamics(l, T=T, ic=f'ground_state_{i}', runlang=runlang,\n",
    "                            id_string=idstr, out_suffix=outs)\n",
    "        l.export_edgel_bin(exName=idstr)\n",
    "        isd.run(thrmSTEP=thrmSTEP, eqSTEP=eqSTEP)\n",
    "        #begin cooling\n",
    "        init = isd.s\n",
    "        isd2 = IsingDynamics(l, T=T_0, ic=f'custom', runlang=runlang,\n",
    "                    id_string=idstr, out_suffix=outs+f\"cooling_{T:.3g}\")\n",
    "        isd2.init_ising_dynamics(init)\n",
    "        isd2.run(thrmSTEP=thrmSTEP, eqSTEP=eqSTEP)\n",
    "        isd.remove_run_c_files()\n",
    "        isd2.remove_run_c_files()"
   ]
  },
  {
   "cell_type": "code",
   "execution_count": null,
   "metadata": {},
   "outputs": [],
   "source": [
    "Tset = list(set(extract_values_from_filenames(os.listdir(l.isingpath), r\"T=([\\d.]+)_\")))"
   ]
  },
  {
   "cell_type": "code",
   "execution_count": null,
   "metadata": {},
   "outputs": [],
   "source": [
    "T = Tset[2]\n",
    "gs = eigVidxs[0]\n",
    "outs = f'{cell[-4:]}{thrmSTEP}gs{gs}'.replace('.', '')\n",
    "frames = np.fromfile(os.path.join(l.isingpath, \n",
    "                                  f'sout_p={pflip:.3g}_T={T:.3g}_{outs}'+BIN), \n",
    "                                  dtype=np.int8).reshape(-1, *l.syshape)\n",
    "frames2 = np.fromfile(os.path.join(l.isingpath, \n",
    "                                   f'sout_p={pflip:.3g}_T={0.1:.3g}_{outs}cooling_{T:.3g}'+BIN), \n",
    "                                   dtype=np.int8).reshape(-1, *l.syshape)"
   ]
  },
  {
   "cell_type": "code",
   "execution_count": null,
   "metadata": {},
   "outputs": [],
   "source": [
    "fig, ax = plt.subplots(4, len(frames)//2, figsize=(10, 8))\n",
    "coutn = 0\n",
    "for axx in ax:\n",
    "    for axxx in axx:\n",
    "        axxx.axis('off'), \n",
    "        axxx.imshow(frames[coutn] if coutn < len(frames) else -frames2[coutn-len(frames)], cmap=credcblu)\n",
    "        coutn += 1\n",
    "fig.tight_layout()\n",
    "fig.savefig(os.path.join(plot_eigV, f'{cell}_{seed}_{thrmSTEP}_T={T:.3g}_gs{gs}.pdf'))"
   ]
  },
  {
   "cell_type": "code",
   "execution_count": null,
   "metadata": {},
   "outputs": [],
   "source": [
    "fig, ax = plt.subplots(figsize=(16, 8))\n",
    "for T in Tlist[::2]:\n",
    "    frames = np.fromfile(os.path.join(l.isingpath, \n",
    "                                  f'ene_p={pflip:.3g}_T={T:.3g}_{outs}'+BIN), \n",
    "                                  dtype=float)\n",
    "    ax.plot(frames/4, ls='-', marker='', zorder=1/T, label=fr'$T={T:.3g}$', rasterized=True)\n",
    "ax.set_xlabel(r'MC steps ($\\Delta t = 1/N$)')\n",
    "ax.set_ylabel(r'$E/N$')\n",
    "ax.legend(fontsize=35, loc='upper right')\n",
    "fig.savefig(os.path.join(plot_ene, f'{cell}_{seed}_{thrmSTEP}_T={T:.3g}_gs{gs}.pdf'), transparent=True)"
   ]
  },
  {
   "cell_type": "markdown",
   "metadata": {},
   "source": [
    "### $\\langle m_\\infty\\rangle$, XERR"
   ]
  },
  {
   "cell_type": "code",
   "execution_count": null,
   "metadata": {},
   "outputs": [],
   "source": [
    "sizes = [16, 32, 64]\n",
    "sffx = 'gs0_X'\n",
    "l = Lattice2D(side1=sizes[-2], sgpath=clusterdatapath)"
   ]
  },
  {
   "cell_type": "code",
   "execution_count": null,
   "metadata": {},
   "outputs": [],
   "source": [
    "def interpolate_data(P, T, variances, num_points=1000):\n",
    "    \"\"\"\n",
    "    Interpolates the data over a grid of specified density.\n",
    "    P, T are meshgrids of p and T values.\n",
    "    variances is the matrix of computed variances.\n",
    "    num_points is how dense the new grid should be.\n",
    "    \"\"\"\n",
    "    # Create the points where we have data\n",
    "    points = np.array([P.flatten(), T.flatten()]).T\n",
    "    values = variances.flatten()\n",
    "\n",
    "    # Create a grid where we want to interpolate\n",
    "    p_new = np.linspace(P.min(), P.max(), num_points)\n",
    "    t_new = np.linspace(T.min(), T.max(), num_points)\n",
    "    P_new, T_new = np.meshgrid(p_new, t_new)\n",
    "\n",
    "    # Interpolate using linear or cubic interpolation\n",
    "    variances_new = griddata(points, values, (P_new, T_new), method='cubic', fill_value=np.nan)\n",
    "\n",
    "    return P_new, T_new, variances_new\n",
    "def gen_valid_lines(filename):\n",
    "    \"\"\" Generator that yields only valid lines with exactly two numeric entries. \"\"\"\n",
    "    with open(filename, 'r') as file:\n",
    "        for line in file:\n",
    "            parts = line.strip().split()\n",
    "            if len(parts) == 2:  # Only yield lines with exactly two numeric entries\n",
    "                try:\n",
    "                    # Convert to float to ensure they are numeric\n",
    "                    float(parts[0]), float(parts[1])\n",
    "                    yield line\n",
    "                except ValueError:\n",
    "                    continue  # Skip lines that cannot be converted to float\n",
    "def read_and_compute_variance(filepath):\n",
    "    \"\"\" Reads a two-column file and computes the variance of the first column. \"\"\"\n",
    "    data = np.loadtxt(gen_valid_lines(filepath))\n",
    "    mask = np.abs(data) <= 1\n",
    "    filtered_array = data[mask]\n",
    "    return np.mean(np.abs(filtered_array))\n",
    "def prepare_data_for_plotting(search_dir):\n",
    "    filenames = os.listdir(search_dir)\n",
    "    p_values = set(extract_values_from_filenames(filenames, r\"p=([\\d.]+)\"))\n",
    "    T_values = set(extract_values_from_filenames(filenames, r\"T=([\\d.]+)\"))\n",
    "    \n",
    "    # Create a meshgrid for p and T\n",
    "    P, T = np.meshgrid(sorted(p_values), sorted(T_values))\n",
    "    variance_matrix = np.zeros(P.shape)\n",
    "    \n",
    "    # Map filenames to their p and T values\n",
    "    file_map = {}\n",
    "    for filename in filenames:\n",
    "        p = float(re.search(r\"p=([\\d.]+)\", filename).group(1))\n",
    "        t = float(re.search(r\"T=([\\d.]+)\", filename).group(1))\n",
    "        file_map[(p, t)] = filename\n",
    "\n",
    "    # Compute variance for each p, T combination\n",
    "    for (i, j), p in np.ndenumerate(P):\n",
    "        t = T[i, j]\n",
    "        filepath = os.path.join(search_dir, file_map.get((p, t)))\n",
    "        if filepath:\n",
    "            variance_matrix[i, j] = read_and_compute_variance(filepath)\n",
    "    \n",
    "    return P, T, variance_matrix\n",
    "\n",
    "def plot_surface(P, T, variances, elev=10, azim=40, T_value=2.2):\n",
    "    fig = plt.figure()\n",
    "    ax = fig.add_subplot(111, projection='3d')\n",
    "\n",
    "    surf = ax.plot_surface(P, T, variances, cmap=restr_twilight, edgecolor='k', lw=0.2)\n",
    "    clb = fig.colorbar(surf, ax=ax, pad=0, shrink=0.8)\n",
    "    # fig.colorbar(surf, ax=ax, label=r'$\\avg*{m_{\\infty}^{\\mathrm{GC}}}$')\n",
    "    ax.set_xlabel('$p$', labelpad=30)\n",
    "    ax.set_ylabel('$T$', labelpad=30)\n",
    "    ax.set_zlim(0, 1)\n",
    "    ax.zaxis.set_tick_params(pad=15)  # Increase pad to move labels away from the axis\n",
    "    intersection_z = variances[T == T_value]\n",
    "    ax.scatter(P[T == T_value], np.full_like(intersection_z, T_value), intersection_z, color='black')\n",
    "\n",
    "\n",
    "    ax.set_title(r'$\\avg*{m_{\\infty}^{\\mathrm{GC}}}$')\n",
    "    ax.view_init(elev=elev, azim=azim)\n",
    "    fig.tight_layout()\n",
    "    return fig, ax\n",
    "\n"
   ]
  },
  {
   "cell_type": "code",
   "execution_count": null,
   "metadata": {},
   "outputs": [],
   "source": [
    "# Assuming the directory path is stored in `isingpath`\n",
    "P, T, variances = prepare_data_for_plotting(l.isingpath)\n",
    "P_new, T_new, variances_new = interpolate_data(P, T, variances)\n",
    "\n",
    "fig, ax = plot_surface(P_new, T_new, variances_new)\n",
    "fig.savefig(os.path.join(plotpath, 'variance_surface.png'), dpi=300)"
   ]
  },
  {
   "cell_type": "markdown",
   "metadata": {},
   "source": [
    "### Data"
   ]
  },
  {
   "cell_type": "code",
   "execution_count": null,
   "metadata": {},
   "outputs": [],
   "source": [
    "side = 10\n",
    "geo = 'squared'\n",
    "pflip = 0.4\n",
    "T_ising = 0.5\n",
    "navg = 2\n",
    "thrmSTEP = 200\n",
    "eqSTEP = 0\n",
    "gsN = 0\n",
    "how_gsN = 5\n",
    "howmany = 5\n",
    "cell = 'randXERR'\n",
    "init_nw_dict = True\n",
    "id_string = 'test2'\n",
    "#\n",
    "IMPORT = False\n",
    "args = dict(side1=side, geo=geo, pflip=pflip, sgpath=Isingdatapath,\n",
    "            import_on=IMPORT, init_nw_dict=init_nw_dict)\n",
    "#\n",
    "np.random.seed(4)\n",
    "random.seed(0)"
   ]
  },
  {
   "cell_type": "code",
   "execution_count": null,
   "metadata": {},
   "outputs": [],
   "source": [
    "l = Lattice2D(**args)\n",
    "l.flip_sel_edges(l.nwDict[cell]['G'])\n",
    "l.compute_k_eigvV(howmany=howmany)\n",
    "if not l.import_on: l.export_edgel_bin(expoName=f\"p={pflip:.3g}\")"
   ]
  },
  {
   "cell_type": "code",
   "execution_count": null,
   "metadata": {},
   "outputs": [],
   "source": [
    "for ic in [\"uniform\"]+[f\"ground_state_{n}\" for n in range(how_gsN)]:\n",
    "    ising_dyn = IsingDynamics(sg=l, T=T_ising, ic=ic, runlang=\"C2\", \n",
    "                              in_suffix=f\"p={pflip:.3g}\", out_suffix=ic,\n",
    "                              id_string=id_string)\n",
    "    ising_dyn.run(thrmSTEP=thrmSTEP, eqSTEP=eqSTEP)"
   ]
  },
  {
   "cell_type": "markdown",
   "metadata": {},
   "source": [
    "### Frames"
   ]
  },
  {
   "cell_type": "code",
   "execution_count": null,
   "metadata": {},
   "outputs": [],
   "source": [
    "fsize = 10\n",
    "in_suffix = lambda ic: '_'.join([f\"p={pflip:.3g}\", ic, id_string])\n",
    "out_suffix = lambda ic: '_'.join([f\"p={pflip:.3g}\", f\"T={T_ising:.3g}\", \n",
    "                                  ic, id_string])\n",
    "def frame_import(basename, suffix):\n",
    "    fName = f\"{basename}_{suffix}.bin\"\n",
    "    fpath = os.path.join(l.isingpath, fName)\n",
    "    return np.fromfile(fpath, dtype=\"int8\")\n",
    "#\n",
    "initFrames = [frame_import(\"s\", in_suffix(ic)).reshape(*l.syshape)\n",
    "              for ic in [\"uniform\"]+[f\"ground_state_{n}\" \n",
    "                                     for n in range(how_gsN)]]\n",
    "lastFrames = [frame_import(\"sOut\", out_suffix(ic)).reshape(-1, *l.syshape)\n",
    "              for ic in [\"uniform\"]+[f\"ground_state_{n}\" \n",
    "                                     for n in range(how_gsN)]]\n",
    "#\n",
    "fig, ax = plt.subplots(ncols=how_gsN, nrows=2, \n",
    "                       figsize=(how_gsN*fsize, 2*fsize))\n",
    "# #\n",
    "kwimshowD = dict(cmap=credcblu, origin=\"lower\")\n",
    "for i in range(how_gsN):\n",
    "    ax[0][i].imshow(initFrames[i], **kwimshowD)\n",
    "    ax[1][i].imshow(lastFrames[i][-1], **kwimshowD)\n",
    "    ax[0][i].axis(\"off\")\n",
    "    ax[1][i].axis(\"off\")\n",
    "# #\n",
    "fig.tight_layout()\n",
    "fname = '_'.join([f\"Ising{l.N}\", \"frames\", out_suffix(\"all_ic\")])+\".pdf\"\n",
    "fig.savefig(os.path.join(plot_ene, fname), transparent=True)"
   ]
  },
  {
   "cell_type": "code",
   "execution_count": null,
   "metadata": {},
   "outputs": [],
   "source": [
    "fsize = 10\n",
    "out_suffix = lambda ic: '_'.join([f\"p={pflip:.3g}\", f\"T={T_ising:.3g}\", \n",
    "                                  ic, id_string])\n",
    "def ene_import(basename, suffix):\n",
    "    fName = f\"{basename}_{suffix}.bin\"\n",
    "    fpath = os.path.join(l.isingpath, fName)\n",
    "    return np.fromfile(fpath, dtype=\"float\")\n",
    "#\n",
    "ene = [ene_import(\"ene\", out_suffix(ic))\n",
    "              for ic in [\"uniform\"]+[f\"ground_state_{n}\" \n",
    "                                     for n in range(how_gsN)]]\n",
    "x = np.arange(0, ene[0].size)+1\n",
    "#\n",
    "fig, ax = plt.subplots(figsize=(12, 8))\n",
    "#\n",
    "for en in ene[1:]:\n",
    "    ax.plot(x, en/4, '-')\n",
    "ax.plot(x, ene[0]/4, 'k-', lw=3)\n",
    "ax.set_xscale('log')\n",
    "ax.set_xlabel(f\"MC steps\")\n",
    "ax.set_ylabel(f\"$E/N$\")\n",
    "# \n",
    "\n",
    "zoomXrange = (10, len(x))\n",
    "zoomYrange = (-.85, -.75)  # Range of points to display in the inset\n",
    "inset_ax = ax.inset_axes([0.05, 0.2, 0.8, 0.5], \n",
    "                         xlim=zoomXrange, ylim=zoomYrange, \n",
    "                         xticklabels=[], yticklabels=[])  # Position and size of the inset\n",
    "for en in ene[1:]:\n",
    "    inset_ax.plot(x, en/4, '-')\n",
    "inset_ax.plot(x, ene[0]/4, 'k-', lw=3)\n",
    "\n",
    "mark_inset(ax, inset_ax, loc1=1, loc2=3, fc=\"none\", ec=\"0.5\")\n",
    "inset_ax.set_xscale('log')\n",
    "inset_ax.set_xticklabels([])\n",
    "\n",
    "# # ax.set_xlim(200000, 250000)\n",
    "# fname = f\"Ising{l.N}_ene_p={pflip:.3g}_T={T_ising:.3g}.pdf\"\n",
    "fig.tight_layout() \n",
    "fname = '_'.join([f\"Ising{l.N}\", \"ene\", out_suffix(\"all_ic\")])+\".pdf\"\n",
    "fig.savefig(os.path.join(plot_ene, fname), transparent=True)"
   ]
  },
  {
   "cell_type": "markdown",
   "metadata": {},
   "source": [
    "- maybe there is a scale argument that only in the limit N to infty \n",
    "- perfect degeneracy takes place"
   ]
  },
  {
   "cell_type": "code",
   "execution_count": null,
   "metadata": {},
   "outputs": [],
   "source": [
    "fig, ax = plt.subplots(ncols=2, figsize=(18, 10))\n",
    "#\n",
    "path = os.path.join(l.isingpath, f\"s_sqr_p={pflip:.3g}.bin\")\n",
    "initFrame = np.fromfile(path, dtype=\"int8\").reshape(*l.syshape)\n",
    "#flip_to_positive_majority_adapted(np.sign(l.eigV[0].reshape(l.syshape)))\n",
    "    \n",
    "codestr = ising_dyn.id_string_isingdyn\n",
    "basename = f\"sOut_sqr_p={pflip:.3g}_T={T_ising:.3g}_{codestr}.bin\"\n",
    "path = os.path.join(l.isingpath, basename)\n",
    "lastFrame = flip_to_positive_majority_adapted(ising_dyn.s.reshape(*l.syshape))\n",
    "c = flip_to_positive_majority_adapted(np.sign(l.eigV[1].reshape(l.syshape)))\n",
    "#\n",
    "l.load_vec_on_nodes(initFrame.flatten(), attr='sI')\n",
    "l.load_vec_on_nodes(lastFrame.flatten(), attr='sF')\n",
    "ferroGroup, antiGroup = l.classify_ferroAntiferro_regions(attr_str='sI')\n",
    "sI = np.zeros(l.syshape)\n",
    "sI[np.unravel_index(ferroGroup, l.syshape)] = 1\n",
    "antiGroup = np.array(antiGroup, dtype=np.intp)\n",
    "sI[np.unravel_index(antiGroup, l.syshape)] = -1\n",
    "ferroGroup, antiGroup = l.classify_ferroAntiferro_regions(attr_str='sF')\n",
    "sF = np.zeros(l.syshape)\n",
    "sF[np.unravel_index(ferroGroup, l.syshape)] = 1\n",
    "antiGroup = np.array(antiGroup, dtype=np.intp)\n",
    "sF[np.unravel_index(antiGroup, l.syshape)] = -1\n",
    "#\n",
    "cmap = ListedColormap([cred, cblu])\n",
    "cmap2 = ListedColormap(['purple', 'white', 'orange'])\n",
    "diff_cmap = restr_twilight\n",
    "norm = Normalize(vmin=-1, vmax=1)  \n",
    "\n",
    "kwargsImshow = {'interpolation': 'none', 'cmap': cmap}\n",
    "kwargsImshow2 = {'interpolation': 'none', 'cmap': cmap2}\n",
    "kwargsImshowd = {'interpolation': 'none', 'cmap': diff_cmap}\n",
    "ax[0].imshow(initFrame, **kwargsImshow)\n",
    "ax[1].imshow(lastFrame, **kwargsImshow)\n",
    "for axx in ax.ravel():\n",
    "    axx.axis('off')\n",
    "    divider = make_axes_locatable(axx)\n",
    "    cax = divider.append_axes(\"right\", size=\"5%\", pad=0.2)\n",
    "    cbar = fig.colorbar(plt.cm.ScalarMappable(norm=norm, cmap=cmap), \n",
    "                        cax=cax, extendfrac='auto', pad=0.01,\n",
    "                        orientation='vertical', extend='both')\n",
    "    cbar.set_ticks([-1, 1])\n",
    "    cbar.set_ticklabels([\"\", \"\"])\n",
    "    cbar.ax.tick_params(axis='y', pad=-50)\n",
    "    cbar_ticks = cbar.get_ticks()\n",
    "    for s,y,c in zip(['+', '-'], [.5, -.5], ['w', 'k']):\n",
    "        cbar.ax.text(.55, y, fr'$\\bm{{{s}}}$', c=c, ha='center', va='center', fontsize=20)\n",
    "    cbar.set_ticks([])\n",
    "fig.savefig(os.path.join(datpath, Isingdatapath, f\"init_last_{codestr}.pdf\"), \n",
    "            bbox_inches='tight', transparent=True)"
   ]
  },
  {
   "cell_type": "code",
   "execution_count": null,
   "metadata": {},
   "outputs": [],
   "source": []
  },
  {
   "cell_type": "code",
   "execution_count": null,
   "metadata": {},
   "outputs": [],
   "source": [
    "eigV = flip_to_positive_majority_adapted(np.sign(l.eigV[0].reshape(l.syshape)))\n",
    "fig, ax = plt.subplots(figsize=(6, 6))\n",
    "ax.imshow(eigV, interpolation='none', cmap=cmap)\n",
    "ax.axis('off')\n",
    "fig.savefig(os.path.join(datpath, Isingdatapath, f\"eigV_{codestr}.pdf\"), \n",
    "            bbox_inches='tight', transparent=True)"
   ]
  },
  {
   "cell_type": "code",
   "execution_count": null,
   "metadata": {},
   "outputs": [],
   "source": [
    "ising_dyn.id_string_isingdyn, pflip"
   ]
  },
  {
   "cell_type": "code",
   "execution_count": null,
   "metadata": {},
   "outputs": [],
   "source": [
    "path = os.path.join(l.isingpath, f\"ene_sqr_p={pflip:.3g}_T={T_ising:.3g}_{ising_dyn.id_string_isingdyn}.bin\")\n",
    "ene = np.fromfile(path, dtype=\"float\")\n",
    "path = os.path.join(l.isingpath, f\"ene_sqr_p={pflip:.3g}_T={T_ising:.3g}_{ising_dyn.id_string_isingdyn}.bin\")\n",
    "ene2 = np.fromfile(path, dtype=\"float\")\n",
    "path = os.path.join(l.isingpath, f\"magn_sqr_p={pflip:.3g}_T={T_ising:.3g}_{ising_dyn.id_string_isingdyn}.bin\")\n",
    "magn = np.fromfile(path, dtype=\"float\")"
   ]
  },
  {
   "cell_type": "markdown",
   "metadata": {},
   "source": [
    "- anneal and quench energy to prove paramagnetic effects (with T)\n",
    "- minfty\n",
    "- - magnetizzatione abs\n",
    "- check node and remove from the list possible already selected.\n",
    "- ultrametricity of the solution"
   ]
  },
  {
   "cell_type": "code",
   "execution_count": null,
   "metadata": {},
   "outputs": [],
   "source": [
    "x = np.arange(0, ene.size)+1\n",
    "fig, ax = plt.subplots(figsize=(16, 10))\n",
    "fig.tight_layout() \n",
    "ax.plot(x, ene/4, '-', lw=3, c=cred)\n",
    "ax.axhline(l.compute_rbim_energy_eigV(0)/2, ls='--', lw=3, c=cblu)\n",
    "ax.set_xscale('log')\n",
    "ax.set_xlabel(r\"MC steps ($\\Delta t = 1/N$)\")\n",
    "ax.set_ylabel(r\"$E/N$\")\n",
    "# ax.set_ybound(-1, 0)\n",
    "\n",
    "plt.show()"
   ]
  },
  {
   "cell_type": "code",
   "execution_count": null,
   "metadata": {},
   "outputs": [],
   "source": [
    "x = np.arange(0, ene.size)+1\n",
    "fig, ax = plt.subplots(ncols=2, figsize=(10, 6))\n",
    "fig.tight_layout() \n",
    "ax[0].plot(x, ene/4, '-', label='Energy')\n",
    "ax[1].plot(x, magn, '-', label='Magn')\n",
    "ax[0].set_xscale('log')\n",
    "ax[0].set_ylabel('Energy')\n",
    "ax[1].set_ylabel('Magnetization')\n",
    "ax[0].set_ybound(-1, 0)\n",
    "ax[1].set_ybound(-1, 1)\n",
    "plt.show()"
   ]
  },
  {
   "cell_type": "markdown",
   "metadata": {},
   "source": [
    "### Simulated Annealing Reverse (local minima stability test)"
   ]
  },
  {
   "cell_type": "code",
   "execution_count": null,
   "metadata": {},
   "outputs": [],
   "source": [
    "side = 32\n",
    "geo = 'squared'\n",
    "pflip = 0.25\n",
    "gsN = 3\n",
    "cell = \"randXERR\"\n",
    "IMPORT = False\n",
    "args = {'import_on': True} if IMPORT else {}\n",
    "T_0 = 0.1\n",
    "T_F = 1\n",
    "cmap = ListedColormap([cred, cblu])"
   ]
  },
  {
   "cell_type": "code",
   "execution_count": null,
   "metadata": {},
   "outputs": [],
   "source": [
    "l = Lattice2D(side1=side, sgpath=Isingdatapath, geo=geo, pflip=pflip,\n",
    "            init_nw_dict=True, seed=0, **args)\n",
    "l.flip_sel_edges(l.nwDict[cell]['G'])\n",
    "l.compute_k_eigvV(howmany=10)\n",
    "if not l.import_on:\n",
    "    l.export_edgel_bin()\n",
    "#\n",
    "ising_dyn = IsingDynamics(sg=l, ic=f\"custom\", runlang=\"C2\")\n",
    "#\n",
    "kwargsImshow = dict(cmap=cmap, origin='lower')\n",
    "for T in np.linspace(T_0, T_F, num=9):\n",
    "    fig, ax = plt.subplots(1, 3, figsize=(12, 4))\n",
    "    ising_dyn.init_ising_dynamics(custom=l.bin_eigV(which=gsN), randstring_OPT=False)\n",
    "    ax[0].imshow(ising_dyn.s.reshape(*l.syshape), **kwargsImshow)\n",
    "    ising_dyn.run(T_ising=T, thrmSTEP=4, eqSTEP=8, out_suffix=\"test_sa\")\n",
    "    ax[1].imshow(ising_dyn.s.reshape(*l.syshape), **kwargsImshow)\n",
    "    ising_dyn.export_s_init()\n",
    "    ising_dyn.run(T_ising=T_0, thrmSTEP=4, eqSTEP=0, out_suffix=f\"cool={T:.3g}\")\n",
    "    ax[2].imshow(ising_dyn.s.reshape(*l.syshape), **kwargsImshow)\n",
    "    for axx in ax:\n",
    "        axx.axis('off')\n",
    "    ax[0].set_title(fr\"$T = {T_0:.3g}$\")\n",
    "    ax[1].set_title(fr\"$T = {T:.3g} |\\lambda_{gsN}\\rangle$\")\n",
    "    ax[2].set_title(fr\"$T = {T_0:.3g}$\")\n",
    "    fig.savefig(os.path.join(datpath, Isingdatapath, f\"IsingDyn_{cell}_{gsN}_T={T:.3g}.pdf\"),\n",
    "                bbox_inches='tight', transparent=True)\n",
    "    plt.close('all')"
   ]
  },
  {
   "cell_type": "markdown",
   "metadata": {},
   "source": [
    "## Energy levels (b)"
   ]
  },
  {
   "cell_type": "code",
   "execution_count": null,
   "metadata": {},
   "outputs": [],
   "source": [
    "side = 64\n",
    "geo = 'squared'\n",
    "cell = 'rand'\n",
    "pbc = True\n",
    "pflip = 0.08\n",
    "pflip2 = 0.25\n",
    "howmany = 100"
   ]
  },
  {
   "cell_type": "code",
   "execution_count": null,
   "metadata": {},
   "outputs": [],
   "source": [
    "l = Lattice2D(side, geo, pbc=pbc, pflip=pflip, init_nw_dict=True)\n",
    "l.flip_sel_edges(l.nwDict[cell]['G'])\n",
    "l.compute_k_eigvV(howmany=howmany, MODE_dynspec=\"scipy\")\n",
    "l2 = Lattice2D(side, geo, pbc=pbc, pflip=pflip2, init_nw_dict=True)\n",
    "l2.flip_sel_edges(l2.nwDict[cell]['G'])\n",
    "l2.compute_k_eigvV(howmany=howmany, MODE_dynspec=\"scipy\")"
   ]
  },
  {
   "cell_type": "code",
   "execution_count": null,
   "metadata": {},
   "outputs": [],
   "source": [
    "energies = np.array([l.compute_rbim_energy_eigV(_)/2 for _ in range(howmany)])\n",
    "energies2 = np.array([l2.compute_rbim_energy_eigV(_)/2 for _ in range(howmany)])\n",
    "en0, en02 = energies[np.argmax(np.abs(energies))], energies2[np.argmax(np.abs(energies))]"
   ]
  },
  {
   "cell_type": "code",
   "execution_count": null,
   "metadata": {},
   "outputs": [],
   "source": [
    "original_cmap = plt.cm.twilight\n",
    "n_colors = 256  # Number of colors in the original colormap\n",
    "cut_off = int(n_colors * 0.8)  # Exclude the last 20% of the colormap\n",
    "colors = original_cmap(np.linspace(0, cut_off / n_colors, n_colors))\n",
    "modified_cmap = LinearSegmentedColormap.from_list('modified_twilight', colors)\n",
    "discrete_colors = modified_cmap(np.linspace(0, 1, len(energies)))\n",
    "listed_cmap = ListedColormap(discrete_colors)\n",
    "boundaries = np.arange(len(energies) + 1)  # Shift by 0.5 to center the intervals\n",
    "norm = BoundaryNorm(boundaries, listed_cmap.N, clip=True)"
   ]
  },
  {
   "cell_type": "code",
   "execution_count": null,
   "metadata": {},
   "outputs": [],
   "source": [
    "fig, ax = plt.subplots(figsize=(10, 10), ncols=2, width_ratios=[1, 1])\n",
    "\n",
    "inset_ax = ax[1].inset_axes([.4, .15, 0.5, 0.6], \n",
    "                            ylim=(min(energies2)-0.005, max(energies2)+0.005), \n",
    "                            xlim=(.8, .98), xticklabels=[], zorder=100000)\n",
    "\n",
    "for i, (en, en2) in enumerate(zip(energies, energies2)):\n",
    "    color = listed_cmap(i / len(energies)) if i != 0 else 'red'\n",
    "    kwAxDict = dict(lw=4, color=color, zorder=1/(i+1))\n",
    "    ax[0].axhline(en, 0.05, 1-0.05, **kwAxDict)\n",
    "    inset_ax.axhline(en2, 0.05, 1-0.05, **kwAxDict)\n",
    "    ax[1].axhline(en2, 0.05, 1-0.05, **kwAxDict)\n",
    "# ax.relim()\n",
    "# ax.autoscale_view()\n",
    "for axx in ax:\n",
    "    axx.spines['top'].set_visible(False)\n",
    "    axx.spines['right'].set_visible(False)\n",
    "    axx.spines['bottom'].set_visible(False)\n",
    "    axx.yaxis.set_ticks_position('left')\n",
    "    axx.spines['left'].set_position(('outward', 10))\n",
    "    axx.grid(True)\n",
    "    axx.set_xticks([])\n",
    "    ymin = min(min(energies), min(energies2))-0.005\n",
    "    ymax = max(max(energies), max(energies2))+0.005\n",
    "    axx.set_ylim(ymin, ymax)\n",
    "    axx.yaxis.set_major_locator(MultipleLocator(0.1))\n",
    "fig.tight_layout()\n",
    "mark_inset(ax[1], inset_ax, loc1=2, loc2=4, fc=\"none\", ec=\"k\",\n",
    "           zorder=len(energies)+1000)\n",
    "inset_ax.set_xticks([])\n",
    "inset_ax.tick_params(labelsize=20)\n",
    "inset_ax.yaxis.set_major_locator(MultipleLocator(0.02))\n",
    "#\n",
    "ax[0].set_ylabel(r\"$E(\\lvert\\lambda_i\\rangle)/N$\")\n",
    "ax[0].set_title(f\"$p={pflip:.3g}$\")\n",
    "ax[1].set_title(f\"$p={pflip2:.3g}$\")\n",
    "#\n",
    "sm = plt.cm.ScalarMappable(cmap=listed_cmap, norm=norm)\n",
    "cbar = fig.colorbar(sm, ax=ax.ravel().tolist())\n",
    "cbar.set_ticks(np.arange(0, len(energies)+1, 20))\n",
    "#\n",
    "fig.savefig(os.path.join(plot_eigV, f\"{cell}_p={pflip:.3g}-{pflip2:.3g}.pdf\"), \n",
    "            transparent=True)\n",
    "plt.close('all')"
   ]
  },
  {
   "cell_type": "markdown",
   "metadata": {},
   "source": [
    "## Phase Diagram (a)"
   ]
  },
  {
   "cell_type": "code",
   "execution_count": null,
   "metadata": {},
   "outputs": [],
   "source": [
    "J = 1\n",
    "k_B = 1\n",
    "T = np.linspace(1e-2, 5, 100)\n",
    "nishi_p = lambda T: 0.5 * (1 + np.exp(J / (k_B * T)))**-1\n",
    "x_sg = np.linspace(0.103, 0.5, num=10)\n",
    "y_sg = np.ones(10)*0"
   ]
  },
  {
   "cell_type": "code",
   "execution_count": null,
   "metadata": {},
   "outputs": [],
   "source": [
    "fig, ax = plt.subplots(figsize=(8, 5))\n",
    "#\n",
    "ax.plot(nishi_p(T), T, lw=1, ls='-.', marker='', label='Nishimori Line', color='k')\n",
    "# ax.axvline(0.4, lw=2, ls='--', color='k')\n",
    "#\n",
    "ax.scatter(0, 2.2, marker='o', c='r', clip_on=False, zorder=1000)\n",
    "ax.scatter(0.103, 0, marker='o', c='r', clip_on=False, zorder=1000)\n",
    "ax.plot(x_sg, y_sg, lw=2, ls='-', c='#8030ff', marker='', label='Spin Glass', clip_on=False, zorder=900)\n",
    "ax.axhline(2.2, ls='--', c='k')\n",
    "ax.set_ylim(0, 3)\n",
    "ax.set_xlim(0, 0.5)\n",
    "# |#\n",
    "ax.set_xticks([0, 0.103, 0.4, 0.5])\n",
    "ax.set_xticklabels([r\"0\", r\"\\(p_{\\mathrm{c}}\\)\", r\"0.4\", r\"0.5\"])\n",
    "ax.set_yticks([0, 2.2])\n",
    "ax.set_yticklabels([r\"0\", r\"\\(T_{\\mathrm{c}}^{\\text{\\Large Ising}}\\)\"])\n",
    "#\n",
    "ax.tick_params(axis='both', which='both', labelsize=30)\n",
    "#\n",
    "\n",
    "# Choose the point to place the text\n",
    "y_text = 1\n",
    "x_text = nishi_p(y_text)\n",
    "\n",
    "# Calculate the angle for the text rotation\n",
    "dy = np.sin(x_text + 0.1) - np.sin(x_text - 0.1)  # Derivative approximation\n",
    "dx = 0.2  # Change in x used for derivative approximation\n",
    "angle = np.arctan2(dy, dx) * (180 / np.pi)  # Convert radians to degrees\n",
    "\n",
    "# Place the text\n",
    "ax.text(x_text-0.05, y_text, r'\\emph{Nishimori Line}', rotation=angle, fontsize=10, rotation_mode='anchor')\n",
    "y_text = 0.1\n",
    "x_text = 0.12\n",
    "# Place the text\n",
    "ax.text(x_text, y_text, r'\\emph{Spin Glass}', c='#8030ff', fontsize=20, rotation_mode='anchor')\n",
    "#\n",
    "fig.savefig(os.path.join(plot_phd, 'phase_diagram.pdf'), \n",
    "            bbox_inches='tight', transparent=True)\n",
    "plt.close('all')"
   ]
  }
 ],
 "metadata": {
  "kernelspec": {
   "display_name": "lrgsgenv",
   "language": "python",
   "name": "python3"
  },
  "language_info": {
   "codemirror_mode": {
    "name": "ipython",
    "version": 3
   },
   "file_extension": ".py",
   "mimetype": "text/x-python",
   "name": "python",
   "nbconvert_exporter": "python",
   "pygments_lexer": "ipython3",
   "version": "3.12.3"
  }
 },
 "nbformat": 4,
 "nbformat_minor": 2
}
