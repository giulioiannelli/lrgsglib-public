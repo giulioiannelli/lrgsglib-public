{
 "cells": [
  {
   "cell_type": "markdown",
   "metadata": {},
   "source": [
    "# Panel 3"
   ]
  },
  {
   "cell_type": "markdown",
   "metadata": {},
   "source": [
    "### `import packages.needed`"
   ]
  },
  {
   "cell_type": "code",
   "execution_count": 17,
   "metadata": {},
   "outputs": [
    {
     "name": "stdout",
     "output_type": "stream",
     "text": [
      "The autoreload extension is already loaded. To reload it, use:\n",
      "  %reload_ext autoreload\n",
      "Current working directory: /home/opisthofulax/PhD/projects/complex-networks/lrgsglib\n"
     ]
    }
   ],
   "source": [
    "%load_ext autoreload\n",
    "%autoreload 2\n",
    "%matplotlib widget\n",
    "#\n",
    "from lrgsglib.core import *\n",
    "#\n",
    "move_to_rootf(print_tf=True)\n",
    "plt.style.use('ipynb/nb_plotsheet.mplstyle')\n",
    "#\n",
    "path_paper = PATHPLOT / Path(PATHNPAPR)\n",
    "path_panel3 = path_paper / Path('panel_3')\n",
    "path_eris_xerr = path_panel3 / Path('er_ising_xerr')\n",
    "path_phase_diagram = path_panel3 / Path('phase_diagram')\n",
    "path_l2dcorrect = path_panel3 / Path('l2d_squared_cluster')"
   ]
  },
  {
   "cell_type": "markdown",
   "metadata": {},
   "source": [
    "### Fig. (a): Phase Diagram \n",
    "Expressions for the Nishimori line as function of $T$ and $p$\n",
    "\n",
    "$$\\mathrm{nishi}_p(T)=\\frac12​(1+e^{k_B ​TJ}​)-1,\\qquad\n",
    "\\mathrm{nishi}_T(p) = \\frac{J}{k_B \\ln\\left(\\frac{1}{2p} - 1\\right)}$$"
   ]
  },
  {
   "cell_type": "code",
   "execution_count": 9,
   "metadata": {},
   "outputs": [],
   "source": [
    "phd = 'serr' or 'xerr'\n",
    "J, k_B, p_c = 1, 1, 0.103\n",
    "nishi_p = lambda T: 0.5 * (1 + np.exp(J / (k_B * T)))**(-1)\n",
    "nishi_T = lambda p: J * (k_B*np.log(1/(2*p)-1))**(-1)\n",
    "#\n",
    "T_c, T_max, p_max = 2.2, 2.5, 0.5\n",
    "TlinSpace = np.linspace(1e-2, T_max, 100)\n",
    "#\n",
    "kwNishiLine = dict(ls='-.', lw=1, marker='', c='k', clip_on=True)\n",
    "kwCritPoints = dict(marker='o', c='r', clip_on=False, zorder=1e3)\n",
    "kwSgLine = dict(lw=2, ls='-', c='#8030ff', marker='', clip_on=False, zorder=9e1)"
   ]
  },
  {
   "cell_type": "code",
   "execution_count": 10,
   "metadata": {},
   "outputs": [],
   "source": [
    "fig, ax = plt.subplots(figsize=(8, 5))\n",
    "#\n",
    "ax.set_ylim(0, T_max)\n",
    "ax.set_xlim(0, p_max)\n",
    "#\n",
    "match phd:\n",
    "    case 'xerr':\n",
    "        xticks = [0, p_c, 0.4, 0.5]\n",
    "        xticklabels = [r\"0\", r\"\\(p_{\\mathrm{c}}^{(1)}\\)\", r\"\\(p_{\\mathrm{c}}^{(2)}\\)\", r\"0.5\"]\n",
    "        p_c1 = 0.4\n",
    "    case 'serr':\n",
    "        p_c1 = p_c\n",
    "        xticks = [0, p_c, 0.5]\n",
    "        xticklabels = [r\"0\", r\"\\(p_{\\mathrm{c}}\\)\", r\"0.5\"]\n",
    "        ax.text(p_max/3, T_max/2, r'\\emph{Nishimori Line}', fontsize=16)\n",
    "        ax.plot(nishi_p(TlinSpace), TlinSpace, **kwNishiLine)\n",
    "#\n",
    "critPoints = np.array([[0, p_c1], [T_c, 0]])\n",
    "pSglinSpace = np.linspace(p_c1, p_max)\n",
    "TSglinSpace = 0*np.ones(len(pSglinSpace))\n",
    "yticks = [0, T_c]\n",
    "yticklabels = [r\"0\", r\"\\(T_{\\mathrm{c}}^{\\text{\\Large Ising}}\\)\"]\n",
    "#\n",
    "ax.text(p_c1-.05*p_c1, 0.1, r'\\emph{Spin Glass}', c='#8030ff', fontsize=20)\n",
    "ax.set_xticks(xticks)\n",
    "ax.set_yticks(yticks)\n",
    "ax.set_xticklabels(xticklabels)\n",
    "ax.set_yticklabels(yticklabels)\n",
    "#\n",
    "ax.scatter(*critPoints, **kwCritPoints)\n",
    "ax.plot(pSglinSpace, TSglinSpace, **kwSgLine)\n",
    "#\n",
    "ax.tick_params(axis='both', which='both', labelsize=30)\n",
    "#\n",
    "#\n",
    "fig.savefig(os.path.join(path_phase_diagram, f'phase_diagram_{phd}.pdf'), \n",
    "            bbox_inches='tight', transparent=True)\n",
    "plt.close('all')"
   ]
  },
  {
   "cell_type": "markdown",
   "metadata": {},
   "source": [
    "### Fig. (e): Phase diagram numercal "
   ]
  },
  {
   "cell_type": "code",
   "execution_count": 18,
   "metadata": {},
   "outputs": [],
   "source": [
    "side = 64\n",
    "neigen = 2\n",
    "cell = 'randXERR'\n",
    "tt = 'long'"
   ]
  },
  {
   "cell_type": "code",
   "execution_count": 19,
   "metadata": {},
   "outputs": [],
   "source": [
    "lattice = Lattice2D(side, path_data=path_l2dcorrect)\n",
    "fnames = os.listdir(lattice.isingpath)\n",
    "p_values = extract_values_from_filenames(fnames, r\"p=([\\d.]+)\", unique=True)\n",
    "p_T_dict = {p: extract_values_from_filenames(fnames, rf\"p={p}_T=([\\d.]+)\") \n",
    "            for p in p_values}"
   ]
  },
  {
   "cell_type": "code",
   "execution_count": 21,
   "metadata": {},
   "outputs": [],
   "source": [
    "averages = []\n",
    "for p in p_values:\n",
    "    for T in p_T_dict[p]:\n",
    "        filename = f\"outcl0_p={p}_T={T}_gs{neigen}{cell}{tt}.txt\"\n",
    "        filepath = os.path.join(lattice.isingpath, filename)\n",
    "        if os.path.exists(filepath):\n",
    "            try:\n",
    "                data = np.loadtxt(filepath)\n",
    "                data = data[np.all(np.abs(data) <= 1, axis=1)]\n",
    "                avg_abs_col1 = np.mean(np.abs(data[:, 0]))\n",
    "                averages.append((float(p), float(T), avg_abs_col1))\n",
    "            except:\n",
    "                pass\n",
    "averages = np.array(averages)"
   ]
  },
  {
   "cell_type": "code",
   "execution_count": 22,
   "metadata": {},
   "outputs": [],
   "source": [
    "p_values_plot = averages[:, 0]\n",
    "T_values_plot = averages[:, 1]\n",
    "avg_abs_col1_plot = averages[:, 2]\n",
    "x, y, z = interpolate_grid_data(p_values_plot, T_values_plot, avg_abs_col1_plot)\n",
    "z_smoothed = gaussian_filter(z, sigma=3)  # Adjust sigma for more/less smoothing"
   ]
  },
  {
   "cell_type": "code",
   "execution_count": null,
   "metadata": {},
   "outputs": [],
   "source": [
    "fig, ax = plt.subplots(figsize=(8, 6))\n",
    "cnt = ax.contourf(x, y, z_smoothed, levels=50, cmap=restr_twilight)\n",
    "div = make_axes_locatable(ax)\n",
    "cax = div.append_axes('right', '5%', '5%')\n",
    "cb = fig.colorbar(cnt, cax=cax)\n",
    "\n",
    "ax.set_xlabel(r'$p$', labelpad=20)\n",
    "ax.set_ylabel(r'$T$', labelpad=20)\n",
    "cb.set_label(r'$\\expval{m_{\\infty}^{\\mathrm{GC}}}$', loc='top')\n",
    "\n",
    "\n",
    "for c in cnt.collections:\n",
    "    c.set_edgecolor(\"face\")\n",
    "\n",
    "\n",
    "fig.savefig(path_l2dcorrect / Path(f'PhDiaL2D_{side}_{cell}.pdf'), \n",
    "                bbox_inches='tight', transparent=True)\n",
    "plt.close('all')"
   ]
  },
  {
   "cell_type": "code",
   "execution_count": null,
   "metadata": {},
   "outputs": [],
   "source": []
  }
 ],
 "metadata": {
  "kernelspec": {
   "display_name": "lrgsgenv",
   "language": "python",
   "name": "python3"
  },
  "language_info": {
   "codemirror_mode": {
    "name": "ipython",
    "version": 3
   },
   "file_extension": ".py",
   "mimetype": "text/x-python",
   "name": "python",
   "nbconvert_exporter": "python",
   "pygments_lexer": "ipython3",
   "version": "3.12.3"
  }
 },
 "nbformat": 4,
 "nbformat_minor": 2
}
