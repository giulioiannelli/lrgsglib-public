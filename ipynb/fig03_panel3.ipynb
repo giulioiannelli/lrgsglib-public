{
 "cells": [
  {
   "cell_type": "markdown",
   "metadata": {},
   "source": [
    "# Panel 3"
   ]
  },
  {
   "cell_type": "markdown",
   "metadata": {},
   "source": [
    "### `import packages.needed`"
   ]
  },
  {
   "cell_type": "code",
   "execution_count": 84,
   "metadata": {},
   "outputs": [
    {
     "name": "stdout",
     "output_type": "stream",
     "text": [
      "The autoreload extension is already loaded. To reload it, use:\n",
      "  %reload_ext autoreload\n",
      "Current working directory: /home/opisthofulax/PhD/projects/complex-networks/lrgsglib\n"
     ]
    }
   ],
   "source": [
    "%load_ext autoreload\n",
    "%autoreload 2\n",
    "%matplotlib inline\n",
    "#\n",
    "from lrgsglib.core import *\n",
    "#\n",
    "move_to_rootf(print_tf=True)\n",
    "plt.style.use('ipynb/nb_plotsheet.mplstyle')\n",
    "#\n",
    "path_paper = PATHPLOT / Path(PATHNPAPR)\n",
    "path_panel3 = path_paper / Path('panel_3')\n",
    "# path_eris_xerr = path_panel3 / Path('er_ising_xerr')\n",
    "path_phase_diagram = path_panel3 / Path('phase_diagram')\n",
    "path_l2dgs2 = path_panel3 / Path('l2d_gs2_xerr')\n",
    "path_l2dgs0 = path_panel3 / Path('l2d_gs0_xerr')\n",
    "path_l2dgs0r = path_panel3 / Path('l2d_gs0_r')"
   ]
  },
  {
   "cell_type": "markdown",
   "metadata": {},
   "source": [
    "### Fig. (a): Phase Diagram \n",
    "Expressions for the Nishimori line as function of $T$ and $p$\n",
    "\n",
    "$$\\mathrm{nishi}_p(T)=\\frac12​(1+e^{k_B ​TJ}​)-1,\\qquad\n",
    "\\mathrm{nishi}_T(p) = \\frac{J}{k_B \\ln\\left(\\frac{1}{2p} - 1\\right)}$$"
   ]
  },
  {
   "cell_type": "code",
   "execution_count": 9,
   "metadata": {},
   "outputs": [],
   "source": [
    "phd = 'serr' or 'xerr'\n",
    "J, k_B, p_c = 1, 1, 0.103\n",
    "nishi_p = lambda T: 0.5 * (1 + np.exp(J / (k_B * T)))**(-1)\n",
    "nishi_T = lambda p: J * (k_B*np.log(1/(2*p)-1))**(-1)\n",
    "#\n",
    "T_c, T_max, p_max = 2.2, 2.5, 0.5\n",
    "TlinSpace = np.linspace(1e-2, T_max, 100)\n",
    "#\n",
    "kwNishiLine = dict(ls='-.', lw=1, marker='', c='k', clip_on=True)\n",
    "kwCritPoints = dict(marker='o', c='r', clip_on=False, zorder=1e3)\n",
    "kwSgLine = dict(lw=2, ls='-', c='#8030ff', marker='', clip_on=False, zorder=9e1)"
   ]
  },
  {
   "cell_type": "code",
   "execution_count": 10,
   "metadata": {},
   "outputs": [],
   "source": [
    "fig, ax = plt.subplots(figsize=(8, 5))\n",
    "#\n",
    "ax.set_ylim(0, T_max)\n",
    "ax.set_xlim(0, p_max)\n",
    "#\n",
    "match phd:\n",
    "    case 'xerr':\n",
    "        xticks = [0, p_c, 0.4, 0.5]\n",
    "        xticklabels = [r\"0\", r\"\\(p_{\\mathrm{c}}^{(1)}\\)\", r\"\\(p_{\\mathrm{c}}^{(2)}\\)\", r\"0.5\"]\n",
    "        p_c1 = 0.4\n",
    "    case 'serr':\n",
    "        p_c1 = p_c\n",
    "        xticks = [0, p_c, 0.5]\n",
    "        xticklabels = [r\"0\", r\"\\(p_{\\mathrm{c}}\\)\", r\"0.5\"]\n",
    "        ax.text(p_max/3, T_max/2, r'\\emph{Nishimori Line}', fontsize=16)\n",
    "        ax.plot(nishi_p(TlinSpace), TlinSpace, **kwNishiLine)\n",
    "#\n",
    "critPoints = np.array([[0, p_c1], [T_c, 0]])\n",
    "pSglinSpace = np.linspace(p_c1, p_max)\n",
    "TSglinSpace = 0*np.ones(len(pSglinSpace))\n",
    "yticks = [0, T_c]\n",
    "yticklabels = [r\"0\", r\"\\(T_{\\mathrm{c}}^{\\text{\\Large Ising}}\\)\"]\n",
    "#\n",
    "ax.text(p_c1-.05*p_c1, 0.1, r'\\emph{Spin Glass}', c='#8030ff', fontsize=20)\n",
    "ax.set_xticks(xticks)\n",
    "ax.set_yticks(yticks)\n",
    "ax.set_xticklabels(xticklabels)\n",
    "ax.set_yticklabels(yticklabels)\n",
    "#\n",
    "ax.scatter(*critPoints, **kwCritPoints)\n",
    "ax.plot(pSglinSpace, TSglinSpace, **kwSgLine)\n",
    "#\n",
    "ax.tick_params(axis='both', which='both', labelsize=30)\n",
    "#\n",
    "#\n",
    "fig.savefig(os.path.join(path_phase_diagram, f'phase_diagram_{phd}.pdf'), \n",
    "            bbox_inches='tight', transparent=True)\n",
    "plt.close('all')"
   ]
  },
  {
   "cell_type": "markdown",
   "metadata": {},
   "source": [
    "### Fig. (e): Phase diagram numerical $\\lambda_2$ "
   ]
  },
  {
   "cell_type": "code",
   "execution_count": 2,
   "metadata": {},
   "outputs": [],
   "source": [
    "side = 64\n",
    "neigen = 2\n",
    "cell = 'randXERR'\n",
    "tt = 'long'"
   ]
  },
  {
   "cell_type": "code",
   "execution_count": 3,
   "metadata": {},
   "outputs": [],
   "source": [
    "lattice = Lattice2D(side, path_data=path_l2dgs2)\n",
    "fnames = os.listdir(lattice.isingpath)\n",
    "p_values = extract_values_from_filenames(fnames, r\"p=([\\d.]+)\", unique=True)\n",
    "p_T_dict = {p: extract_values_from_filenames(fnames, rf\"p={p}_T=([\\d.]+)\") \n",
    "            for p in p_values}"
   ]
  },
  {
   "cell_type": "code",
   "execution_count": 4,
   "metadata": {},
   "outputs": [],
   "source": [
    "averages = []\n",
    "for p in p_values:\n",
    "    for T in p_T_dict[p]:\n",
    "        filename = f\"outcl0_p={p}_T={T}_gs{neigen}{cell}{tt}.txt\"\n",
    "        filepath = os.path.join(lattice.isingpath, filename)\n",
    "        if os.path.exists(filepath):\n",
    "            try:\n",
    "                data = np.loadtxt(filepath)\n",
    "                data = data[np.all(np.abs(data) <= 1, axis=1)]\n",
    "                avg_abs_col1 = np.mean(np.abs(data[:, 0]))\n",
    "                averages.append((float(p), float(T), avg_abs_col1))\n",
    "            except:\n",
    "                pass\n",
    "averages = np.array(averages)"
   ]
  },
  {
   "cell_type": "code",
   "execution_count": 5,
   "metadata": {},
   "outputs": [],
   "source": [
    "p_values_plot = averages[:, 0]\n",
    "T_values_plot = averages[:, 1]\n",
    "avg_abs_col1_plot = averages[:, 2]\n",
    "x, y, z = interpolate_grid_data(p_values_plot, T_values_plot, avg_abs_col1_plot, \n",
    "                                method='nearest', num_points=100)\n",
    "z_smoothed = gaussian_filter(z, sigma=5)  # Adjust sigma for more/less smoothing"
   ]
  },
  {
   "cell_type": "code",
   "execution_count": 44,
   "metadata": {},
   "outputs": [],
   "source": [
    "fig = plt.figure(figsize=(10, 8))\n",
    "ax = fig.add_subplot(111, projection='3d')\n",
    "im = ax.plot_surface(x, y, z_smoothed, cmap=restr_twilight, rasterized=True,\n",
    "                edgecolor='k', lw=0.1)\n",
    "\n",
    "cax = fig.add_subplot(1,30,30)\n",
    "   \n",
    "fig.colorbar(im, cax=cax)\n",
    "\n",
    "ax.set_xlabel(r'$p$', labelpad=20)\n",
    "ax.set_ylabel(r'$T$', labelpad=20)\n",
    "ax.set_title(r'$\\left\\langle{m_{\\infty}^{\\mathrm{GC}}}\\right\\rangle$')\n",
    "ax.set_zticks([0, 0.5, 1])\n",
    "ax.set_yticks(np.linspace(0, 4, num=5))\n",
    "ax.view_init(elev=35, azim=30)\n",
    "# ax.set_box_aspect([1,1,1])\n",
    "ax.zaxis.set_tick_params(pad=15)\n",
    "ax.set_zlim(0, 1)\n",
    "# ax.text(1, 0, 1.4, r'\\textbf{(d)}', fontsize=40, \n",
    "#                 fontweight='bold', color='black')\n",
    "fig.savefig(path_l2dgs2 / Path(f'PhDiaL2D_3d_{side}_{cell}.pdf'), \n",
    "                bbox_inches='tight', transparent=True, dpi=200)\n",
    "plt.close('all')"
   ]
  },
  {
   "cell_type": "markdown",
   "metadata": {},
   "source": [
    "### Fig. (f): Phase diagram at $p=0$ numerical $\\lambda_2$ "
   ]
  },
  {
   "cell_type": "code",
   "execution_count": 151,
   "metadata": {},
   "outputs": [],
   "source": [
    "sides = [32, 48, 64]\n",
    "neigen = 2\n",
    "cell = 'randXERR'\n",
    "tt = 'long'"
   ]
  },
  {
   "cell_type": "code",
   "execution_count": 152,
   "metadata": {},
   "outputs": [],
   "source": [
    "T_values_plot = {}\n",
    "z_values_plot = {}\n",
    "chi_values_plot = {}\n",
    "for side in sides:\n",
    "    # Initialize lattice and get filenames\n",
    "    lattice = Lattice2D(side, path_data=path_l2dgs2)\n",
    "    fnames = os.listdir(lattice.isingpath)\n",
    "    \n",
    "    # Extract p values\n",
    "    p_values = extract_values_from_filenames(fnames, r\"p=([\\d.]+)\", unique=True)\n",
    "    \n",
    "    # Find the smallest p value\n",
    "    min_p = min(p_values)\n",
    "    \n",
    "    # Get the corresponding T values for this p\n",
    "    T_values = extract_values_from_filenames(fnames, rf\"p={min_p}_T=([\\d.]+)\")\n",
    "    \n",
    "    averages = []\n",
    "    variances = []\n",
    "    # Iterate through T values and compute averages\n",
    "    for T in T_values:\n",
    "        filename = f\"outcl0_p={min_p}_T={T}_gs{neigen}{cell}{tt}.txt\"\n",
    "        filepath = os.path.join(lattice.isingpath, filename)\n",
    "        if os.path.exists(filepath):\n",
    "            try:\n",
    "                data = np.loadtxt(filepath)\n",
    "                data = data[np.all(np.abs(data) <= 1, axis=1)]\n",
    "                avg_abs_col1 = np.mean(np.abs(data[:, 0]))\n",
    "                var_abs_col1 = np.std(np.abs(data[:, 0]))\n",
    "                averages.append((float(T), avg_abs_col1))\n",
    "                variances.append((float(T), var_abs_col1))\n",
    "            except:\n",
    "                pass\n",
    "\n",
    "    averages = np.array(averages)\n",
    "    variances = np.array(variances)\n",
    "    \n",
    "    # Extract T and z values\n",
    "    T_values_plot[side] = averages[:, 0]\n",
    "    z_values_plot[side] = averages[:, 1]\n",
    "    chi_values_plot[side] = variances[:, 1]\n",
    "\n",
    "    # Plot z vs T for this side valu"
   ]
  },
  {
   "cell_type": "code",
   "execution_count": 153,
   "metadata": {},
   "outputs": [],
   "source": [
    "fig, ax = plt.subplots(figsize=(10, 8))  # Create a single figure with axes\n",
    "inset_ax = ax.inset_axes([0.15, 0.1, 0.4, 0.4])\n",
    "ax.axvline(x=2.269, ls='--', color='k', lw=2)\n",
    "inset_ax.axvline(x=2.269, ls='--', color='k', lw=2)\n",
    "\n",
    "for cont,side in enumerate(sides[::-1]):\n",
    "    col = restr_twilight((cont+1)/len(sides))\n",
    "    ax.plot(T_values_plot[side], z_values_plot[side], '-', lw=3, color=col, label=f'{side}')\n",
    "    inset_ax.plot(T_values_plot[side], gaussian_filter(chi_values_plot[side], sigma=0.5)*side, '-', lw=3, color=col, label=f'{side}')\n",
    "\n",
    "# Customize the plot\n",
    "ax.set_xlabel(r'$T$')\n",
    "ax.set_ylabel(r'$\\left\\langle{m_{\\infty}^{\\mathrm{GC}}}\\right\\rangle$')\n",
    "ax.legend(fontsize=24)\n",
    "inset_ax.set_ylabel(r'$\\chi$')\n",
    "\n",
    "fig.savefig(path_l2dgs2 / Path(f'PhDiaL2D_2d_{cell}.pdf'), \n",
    "            bbox_inches='tight', transparent=True)\n",
    "plt.close('all')"
   ]
  },
  {
   "cell_type": "code",
   "execution_count": 14,
   "metadata": {},
   "outputs": [],
   "source": [
    "fig, ax = plt.subplots(figsize=(8, 8))\n",
    "cnt = ax.contourf(x, y, z, levels=200, cmap=restr_twilight, antialiased=False)\n",
    "div = make_axes_locatable(ax)\n",
    "cax = div.append_axes('right', '5%', '5%')\n",
    "cb = fig.colorbar(cnt, cax=cax)\n",
    "\n",
    "ax.set_xlabel(r'$p$', labelpad=20)\n",
    "ax.set_ylabel(r'$T$', labelpad=20)\n",
    "cb.set_label(r'$\\expval{m_{\\infty, 2}^{\\mathrm{GC}}}$', rotation=270, labelpad=50)\n",
    "\n",
    "cnt.set_edgecolor(\"face\")\n",
    "\n",
    "fig.savefig(path_l2dgs2 / Path(f'PhDiaL2D_{side}_{cell}.pdf'), \n",
    "                bbox_inches='tight', transparent=True)\n",
    "plt.close('all')"
   ]
  },
  {
   "cell_type": "markdown",
   "metadata": {},
   "source": [
    "### Fig. (g): Phase Diagram numerical $\\lambda_0$"
   ]
  },
  {
   "cell_type": "code",
   "execution_count": 163,
   "metadata": {},
   "outputs": [],
   "source": [
    "sides = [32, 48, 64]\n",
    "neigen = 0\n",
    "tt = 'r'"
   ]
  },
  {
   "cell_type": "code",
   "execution_count": 195,
   "metadata": {},
   "outputs": [],
   "source": [
    "T_values_plot = {}\n",
    "z_values_plot = {}\n",
    "chi_values_plot = {}\n",
    "for side in sides:\n",
    "    # Initialize lattice and get filenames\n",
    "    lattice = Lattice2D(side, path_data=path_l2dgs0r)\n",
    "    fnames = os.listdir(lattice.isingpath)\n",
    "    \n",
    "    # Extract p values\n",
    "    p_values = extract_values_from_filenames(fnames, r\"p=([\\d.]+)\", unique=True)\n",
    "    \n",
    "    # Find the smallest p value\n",
    "    min_p = 0.147\n",
    "    # Get the corresponding T values for this p\n",
    "    T_values = extract_values_from_filenames(fnames, f\"p={min_p}\"+r\"_T=([\\d.]+)\")\n",
    "    \n",
    "    averages = []\n",
    "    variances = []\n",
    "    # Iterate through T values and compute averages\n",
    "    for T in T_values:\n",
    "        filename = f\"outcl0_p={min_p}_T={T}_gs{neigen}_{tt}.txt\"\n",
    "        filepath = os.path.join(lattice.isingpath, filename)\n",
    "        if os.path.exists(filepath):\n",
    "            try:\n",
    "                data = np.loadtxt(filepath)\n",
    "                data = data[np.all(np.abs(data) <= 1, axis=1)]\n",
    "                avg_abs_col1 = np.mean(np.abs(data[:, 0]))\n",
    "                var_abs_col1 = np.std(np.abs(data[:, 0]))\n",
    "                averages.append((float(T), avg_abs_col1))\n",
    "                variances.append((float(T), var_abs_col1))\n",
    "            except:\n",
    "                pass\n",
    "\n",
    "    averages = np.array(averages)\n",
    "    variances = np.array(variances)\n",
    "    \n",
    "    # Extract T and z values\n",
    "    T_values_plot[side] = averages[:, 0]\n",
    "    z_values_plot[side] = averages[:, 1]\n",
    "    chi_values_plot[side] = variances[:, 1]\n"
   ]
  },
  {
   "cell_type": "code",
   "execution_count": 196,
   "metadata": {},
   "outputs": [],
   "source": [
    "fig, ax = plt.subplots(figsize=(10, 8))  # Create a single figure with axes\n",
    "inset_ax = ax.inset_axes([0.5, 0.2, 0.4, 0.4])\n",
    "ax.axvline(x=1.09, ls='--', color='k', lw=2)\n",
    "inset_ax.axvline(x=1.09, ls='--', color='k', lw=2)\n",
    "\n",
    "for cont,side in enumerate(sides[::-1]):\n",
    "    col = restr_twilight((cont+1)/len(sides))\n",
    "    ax.plot(T_values_plot[side], z_values_plot[side], '-', lw=3, color=col, label=f'{side}')\n",
    "    inset_ax.plot(T_values_plot[side], gaussian_filter(chi_values_plot[side], sigma=0)*side, '-', lw=3, color=col, label=f'{side}')\n",
    "\n",
    "# Customize the plot\n",
    "ax.set_xlabel(r'$T$')\n",
    "ax.set_ylabel(r'$\\left\\langle{m_{\\infty}^{\\mathrm{GC}}}\\right\\rangle$')\n",
    "ax.legend(fontsize=24)\n",
    "inset_ax.set_ylabel(r'$\\chi$')\n",
    "\n",
    "fig.savefig(path_l2dgs2 / Path(f'PhDiaL2D_2d_{tt}.pdf'), \n",
    "            bbox_inches='tight', transparent=True)\n",
    "plt.close('all')"
   ]
  },
  {
   "cell_type": "markdown",
   "metadata": {},
   "source": [
    "### Fig. (f): magnGC single slice "
   ]
  },
  {
   "cell_type": "code",
   "execution_count": null,
   "metadata": {},
   "outputs": [],
   "source": [
    "sizes = [16, 32, 64]\n",
    "sffx = 'gs0_r'"
   ]
  },
  {
   "cell_type": "code",
   "execution_count": null,
   "metadata": {},
   "outputs": [],
   "source": [
    "\n",
    "fig, ax = plt.subplots(figsize=(10, 8))\n",
    "inset_bounds = [0.65, 0.55, 0.3, 0.4]  # Position and size of the inset\n",
    "\n",
    "# Create an inset plot using inset_axes\n",
    "ax_inset = ax.inset_axes(inset_bounds)\n",
    "colr = 1/len(sizes)\n",
    "for i, side in enumerate(sizes):\n",
    "    l = Lattice2D(side1=side, sgpath=clusterdatapath)\n",
    "    P, T, mgcinf, vargcinf = get_meangc(l.isingpath, custromstr=sffx)\n",
    "    P = sorted(list(P))\n",
    "    P_sel = P[0]\n",
    "    color = restr_twilight(P_sel/max(P))\n",
    "    x = sorted(mgcinf[P_sel].keys())\n",
    "    sorted_values = np.array([mgcinf[P_sel][key] for key in x])\n",
    "    y = sorted_values\n",
    "    sorted_values = np.array([vargcinf[P_sel][key] for key in x])\n",
    "    y2 = sorted_values\n",
    "    # y1 = gaussian_filter(y, sigma=3)\n",
    "    # y2 = y1[::-1]\n",
    "    # y = y2#np.concatenate([y1[:len(y1)//2], y2[:len(y1)//2:-1]])\n",
    "    ax.plot(x, y, marker='o', ls='-', lw=3, color=restr_twilight((i+1)*colr), label=f'$L={side}$')\n",
    "    ax_inset.plot(x, y2*l.N, marker='o', ls='-', color=restr_twilight((i+1)*colr))\n",
    "# ax_inset.set_yticks([])\n",
    "ax_inset.set_xticks([0, 2.2, 4])\n",
    "ax_inset.set_ylabel(r'$\\chi$')\n",
    "ax.set_ylabel(r'$\\avg*{m_{\\infty}^{\\mathrm{GC}}}$')\n",
    "for axx in [ax, ax_inset]:\n",
    "    axx.set_xlabel(r'$T$')\n",
    "ax_inset.axvline(x=2.2, color='k', ls='--')\n",
    "ax_inset.tick_params(axis='both', which='major', labelsize=28)\n",
    "ax.legend(loc='lower left', fontsize=28)\n",
    "fig.savefig(os.path.join(plotpath, f'magnGC_{sffx}_{P_sel}.pdf'), bbox_inches='tight', transparent=True)"
   ]
  }
 ],
 "metadata": {
  "kernelspec": {
   "display_name": "lrgsgenv",
   "language": "python",
   "name": "python3"
  },
  "language_info": {
   "codemirror_mode": {
    "name": "ipython",
    "version": 3
   },
   "file_extension": ".py",
   "mimetype": "text/x-python",
   "name": "python",
   "nbconvert_exporter": "python",
   "pygments_lexer": "ipython3",
   "version": "3.12.3"
  }
 },
 "nbformat": 4,
 "nbformat_minor": 2
}
