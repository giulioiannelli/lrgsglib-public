{
 "cells": [
  {
   "cell_type": "code",
   "execution_count": 1,
   "metadata": {},
   "outputs": [],
   "source": [
    "# from lrgsglib.Ccore.statsys.RBIsingM.base import ising_model\n",
    "from lrgsglib.shared import *\n",
    "from lrgsglib.core import *\n",
    "from lrgsglib.Ccore.statsys.RBIsingM.storer import ising_model_store"
   ]
  },
  {
   "cell_type": "code",
   "execution_count": 2,
   "metadata": {},
   "outputs": [
    {
     "name": "stdout",
     "output_type": "stream",
     "text": [
      "Current working directory: /home/opisthofulax/PhD/projects/complex-networks/lrgsglib\n"
     ]
    }
   ],
   "source": [
    "move_to_rootf()"
   ]
  },
  {
   "cell_type": "code",
   "execution_count": null,
   "metadata": {},
   "outputs": [],
   "source": [
    "def assign_random_signs(edge_list, p_flip):\n",
    "    rand_p = np.random.rand(len(edge_list))\n",
    "    signs = [1 if p_flip < rand_p[i] else -1 for i in range(len(edge_list))]\n",
    "    return signs"
   ]
  },
  {
   "cell_type": "code",
   "execution_count": null,
   "metadata": {},
   "outputs": [],
   "source": [
    "temperature = 1\n",
    "pflip = 0\n",
    "side = 50\n",
    "navg = 5\n",
    "steps = side**2\n",
    "frameRate = 1\n",
    "#\n",
    "l = Lattice2D(side, geo='squared', pbc=True)\n",
    "#\n",
    "edgeList = list(l.GraphReprDict['H'].edges())\n",
    "nodeList = l.nodeList\n",
    "signs = assign_random_signs(edgeList, pflip)\n",
    "# #\n",
    "# model = ising_model_store.IsingModel(edgeList, signs, side, side, \n",
    "#                                         temperature, \"asynchronous\")\n",
    "# model.simulate(steps, frameRate)"
   ]
  },
  {
   "cell_type": "code",
   "execution_count": null,
   "metadata": {},
   "outputs": [],
   "source": [
    "magn = []\n",
    "ene = []\n",
    "for _ in range(navg):\n",
    "    model = ising_model_store.IsingModel(edgeList, signs, side, side, \n",
    "                                         temperature, \"asynchronous\")\n",
    "    model.simulate(steps, frameRate)\n",
    "    magn.append([model.getFrameMagnetizations()])\n",
    "    ene.append([model.getFrameEnergies()])"
   ]
  },
  {
   "cell_type": "code",
   "execution_count": null,
   "metadata": {},
   "outputs": [],
   "source": [
    "for en in ene:\n",
    "    tt = en[0]\n",
    "    eneNorm = tt\n",
    "    plt.plot(np.linspace(1, len(eneNorm), num=len(eneNorm)), eneNorm, '-')\n",
    "# plt.plot(magn, 'h')\n",
    "plt.xscale('log')\n"
   ]
  },
  {
   "cell_type": "code",
   "execution_count": 3,
   "metadata": {},
   "outputs": [],
   "source": [
    "side = 50\n",
    "pflip = 0.\n",
    "T_ising = 1\n",
    "IMPORT = False\n",
    "if IMPORT:\n",
    "    args = {'import_on': True}\n",
    "else:\n",
    "    args = {}\n",
    "\n",
    "sqlatt = Lattice2D(\n",
    "    side1=side,\n",
    "    geo=\"squared\",\n",
    "    pflip=pflip,\n",
    "    **args\n",
    ")\n",
    "\n",
    "ising_dyn = IsingDynamics(\n",
    "    sg=sqlatt, \n",
    "    T=T_ising, \n",
    "    nstepsIsing=1000, \n",
    "    ic=\"uniform\",\n",
    "    runlang=\"C0\", \n",
    "    # NoClust = 5\n",
    ")\n",
    "if not sqlatt.import_on:\n",
    "    sqlatt.flip_random_fract_edges()\n",
    "    sqlatt.export_graph()\n",
    "    sqlatt.export_adj_bin()\n"
   ]
  },
  {
   "cell_type": "code",
   "execution_count": 4,
   "metadata": {},
   "outputs": [],
   "source": [
    "energies = []\n",
    "for i in range(10):\n",
    "    ising_dyn.init_ising_dynamics()\n",
    "    ising_dyn.run()\n",
    "    sfxstr = ising_dyn.id_string_isingdyn if ising_dyn.id_string_isingdyn else \"\\\"\\\"\"\n",
    "    enepath = f\"{sqlatt.isingpath}ene_{sqlatt.stdFname}_T={ising_dyn.T:.3g}_{sfxstr}.bin\"\n",
    "    ene = np.fromfile(enepath, dtype=float)\n",
    "    energies.append(ene)"
   ]
  },
  {
   "cell_type": "code",
   "execution_count": null,
   "metadata": {},
   "outputs": [],
   "source": [
    "for ene in energies:\n",
    "    x = np.linspace(1, len(ene), num=len(ene))\n",
    "    plt.plot(x, ene, '-')\n",
    "plt.xscale('log')"
   ]
  },
  {
   "cell_type": "code",
   "execution_count": null,
   "metadata": {},
   "outputs": [],
   "source": [
    "energies"
   ]
  },
  {
   "cell_type": "code",
   "execution_count": null,
   "metadata": {},
   "outputs": [],
   "source": [
    "for i in range(10):\n",
    "    if np.abs(magn[i][-1]) != 1.:\n",
    "        plt.imshow(np.array(model_asynchronous.getFrameSpins()[-1]).reshape(side, side))\n",
    "        plt.colorbar()\n",
    "        plt.show()"
   ]
  },
  {
   "cell_type": "code",
   "execution_count": null,
   "metadata": {},
   "outputs": [],
   "source": [
    "magn = model_asynchronous.getFrameMagnetizations()\n",
    "plt.plot(np.linspace(1, len(magn),  num=len(magn)), np.array(magn), '-')"
   ]
  },
  {
   "cell_type": "code",
   "execution_count": null,
   "metadata": {},
   "outputs": [],
   "source": [
    "width = 100\n",
    "height = 100\n",
    "temperature = 0\n",
    "steps = 1000\n",
    "frameRate = 100\n",
    "\n",
    "edge_list, sign_list = create_edge_list_and_signs(width, height)\n",
    "edge_list = [(int(edge[0]), int(edge[1])) for edge in edge_list]\n",
    "\n",
    "# Initialize Ising model in sequential mode\n",
    "# model_sequential = ising_model.IsingModel(edge_list, sign_list, width, height, temperature, \"sequential\")\n",
    "# spins_sequential = model_sequential.getSpins()\n",
    "# print(\"Spins before sequential simulation:\")\n",
    "# print(list(spins_sequential))\n",
    "# model_sequential.simulate(steps)\n",
    "# spins_sequential = model_sequential.getSpins()\n",
    "# print(\"Spins after sequential simulation:\")\n",
    "# print(list(spins_sequential))\n",
    "\n",
    "# Initialize Ising model in asynchronous mode\n",
    "model_asynchronous = ising_model_store.IsingModel(edge_list, sign_list, width, height, temperature, \"synchronous\")\n",
    "spins_asynchronous = model_asynchronous.getSpins()\n",
    "print(\"Spins after asynchronous simulation:\")\n",
    "print(list(spins_asynchronous))\n",
    "model_asynchronous.simulate(steps, frameRate)\n",
    "spins_asynchronous = model_asynchronous.getSpins()\n",
    "print(\"Spins after asynchronous simulation:\")\n",
    "print(list(spins_asynchronous))\n"
   ]
  },
  {
   "cell_type": "code",
   "execution_count": null,
   "metadata": {},
   "outputs": [],
   "source": [
    "import matplotlib.pyplot as plt \n",
    "import numpy as np\n",
    "plt.imshow(np.array(model_asynchronous.getFrameSpins()[-1]).reshape(width, height), cmap='gray', interpolation='nearest')"
   ]
  },
  {
   "cell_type": "code",
   "execution_count": null,
   "metadata": {},
   "outputs": [],
   "source": [
    "ene = model_asynchronous.getFrameEnergies()\n",
    "plt.plot(np.linspace(1, len(ene),  num=len(ene)), np.array(ene), 'o')\n"
   ]
  },
  {
   "cell_type": "code",
   "execution_count": null,
   "metadata": {},
   "outputs": [],
   "source": [
    "import matplotlib.pyplot as plt \n",
    "\n",
    "# plt.hist(list(spins_sequential))\n",
    "plt.hist(list(spins_asynchronous))"
   ]
  },
  {
   "cell_type": "code",
   "execution_count": null,
   "metadata": {},
   "outputs": [],
   "source": []
  },
  {
   "cell_type": "code",
   "execution_count": null,
   "metadata": {},
   "outputs": [],
   "source": []
  }
 ],
 "metadata": {
  "kernelspec": {
   "display_name": "lrgsgenv",
   "language": "python",
   "name": "python3"
  },
  "language_info": {
   "codemirror_mode": {
    "name": "ipython",
    "version": 3
   },
   "file_extension": ".py",
   "mimetype": "text/x-python",
   "name": "python",
   "nbconvert_exporter": "python",
   "pygments_lexer": "ipython3",
   "version": "3.12.3"
  }
 },
 "nbformat": 4,
 "nbformat_minor": 2
}
