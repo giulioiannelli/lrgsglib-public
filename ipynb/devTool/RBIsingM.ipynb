{
 "cells": [
  {
   "cell_type": "code",
   "execution_count": 1,
   "metadata": {},
   "outputs": [
    {
     "name": "stdout",
     "output_type": "stream",
     "text": [
      "Current working directory: /home/opisthofulax/PhD/projects/complex-networks/lrgsglib\n"
     ]
    }
   ],
   "source": [
    "%matplotlib inline\n",
    "#\n",
    "from lrgsglib.core import *\n",
    "# from lrgsglib.Ccore.statsys.RBIsingM.storer import ising_model_store\n",
    "move_to_rootf()\n",
    "plt.style.use('ipynb/nb_plotsheet.mplstyle')\n",
    "#\n",
    "datpath = os.path.join('data')\n",
    "Isingdatapath = os.path.join(datpath, 'devTools', 'RBIsingM')\n",
    "plotpath = os.path.join(Isingdatapath, 'plot')\n",
    "clusterdatapath = os.path.join('cluster_data', 'cluster_data_ising')\n",
    "os.makedirs(plotpath, exist_ok=True)"
   ]
  },
  {
   "cell_type": "code",
   "execution_count": 63,
   "metadata": {},
   "outputs": [],
   "source": [
    "lattice = Lattice2D(32, pflip=0.25, init_nw_dict=True)\n",
    "lattice.flip_sel_edges(lattice.nwDict['randXERR']['G'])\n",
    "#\n",
    "isdy = IsingDynamics(lattice, T=0.5, ic='ground_state_1', runlang=\"C3\", )\n",
    "isdy.init_ising_dynamics()\n",
    "lattice.export_edgel_bin()\n",
    "isdy.export_ising_clust(which=1, val=-1)\n",
    "isdy.run(verbose=False, thrmSTEP=100)"
   ]
  },
  {
   "cell_type": "code",
   "execution_count": 64,
   "metadata": {},
   "outputs": [],
   "source": [
    "coords = list(itemgetter(*list(isdy.sg.biggestClSet[0]))(lattice.nodeMap['H']['G']))\n",
    "array = np.zeros((32, 32), dtype=int)\n",
    "\n",
    "# Set entries in coords to +1\n",
    "for x, y in coords:\n",
    "    array[x, y] = 1"
   ]
  },
  {
   "cell_type": "code",
   "execution_count": null,
   "metadata": {},
   "outputs": [
    {
     "data": {
      "text/plain": [
       "<matplotlib.image.AxesImage at 0x73a1499c7ef0>"
      ]
     },
     "execution_count": 86,
     "metadata": {},
     "output_type": "execute_result"
    },
    {
     "data": {
      "image/png": "[encoded data removed]",
      "text/plain": [
       "<Figure size 1000x500 with 2 Axes>"
      ]
     },
     "metadata": {},
     "output_type": "display_data"
    }
   ],
   "source": [
    "fig, (ax1, ax2) = plt.subplots(1, 2, figsize=(10, 5))\n",
    "ax1.imshow(isdy.s_0.reshape(*lattice.syshape), cmap='binary', origin='lower')\n",
    "ax1.imshow(array, cmap=cmap_rb)\n",
    "ax2.imshow(isdy.s.reshape(*lattice.syshape), cmap='binary', origin='lower')\n",
    "ax2.imshow(array, cmap=cmap_rb)"
   ]
  },
  {
   "cell_type": "code",
   "execution_count": 85,
   "metadata": {},
   "outputs": [
    {
     "data": {
      "image/png": "[encoded data removed]",
      "text/html": [
       "<div style=\"vertical-align: middle;\"><strong>rb_cmap</strong> </div><div class=\"cmap\"><img alt=\"rb_cmap colormap\" title=\"rb_cmap\" style=\"border: 1px solid #555;\" src=\"data:image/png;base64,iVBORw0KGgoAAAANSUhEUgAAAgAAAABACAYAAABsv8+/AAAAFnRFWHRUaXRsZQByYl9jbWFwIGNvbG9ybWFwKhTCAAAAABx0RVh0RGVzY3JpcHRpb24AcmJfY21hcCBjb2xvcm1hcI06c3kAAAAwdEVYdEF1dGhvcgBNYXRwbG90bGliIHYzLjguNCwgaHR0cHM6Ly9tYXRwbG90bGliLm9yZ2TOsrQAAAAydEVYdFNvZnR3YXJlAE1hdHBsb3RsaWIgdjMuOC40LCBodHRwczovL21hdHBsb3RsaWIub3JnSmgtkwAAASxJREFUeJzt1kENwDAAA7F0/Dl3j7HY2VIUCnfudvdtO8d77733//89AwByBAAABAkAAAgSAAAQJAAAIEgAAECQAACAIAEAAEECAACCBAAABAkAAAgSAAAQJAAAIEgAAECQAACAIAEAAEECAACCBAAABAkAAAgSAAAQJAAAIEgAAECQAACAIAEAAEECAACCBAAABAkAAAgSAAAQJAAAIEgAAECQAACAIAEAAEECAACCBAAABAkAAAgSAAAQJAAAIEgAAECQAACAIAEAAEECAACCBAAABAkAAAgSAAAQJAAAIEgAAECQAACAIAEAAEECAACCBAAABAkAAAgSAAAQJAAAIEgAAECQAACAIAEAAEECAACCBAAABAkAAAgSAAAQJAAAIEgAAECQAACAoBeOWAKMQSx51wAAAABJRU5ErkJggg==\"></div><div style=\"vertical-align: middle; max-width: 514px; display: flex; justify-content: space-between;\"><div style=\"float: left;\"><div title=\"#ff0000ff\" style=\"display: inline-block; width: 1em; height: 1em; margin: 0; vertical-align: middle; border: 1px solid #555; background-color: #ff0000ff;\"></div> under</div><div style=\"margin: 0 auto; display: inline-block;\">bad <div title=\"#00000000\" style=\"display: inline-block; width: 1em; height: 1em; margin: 0; vertical-align: middle; border: 1px solid #555; background-color: #00000000;\"></div></div><div style=\"float: right;\">over <div title=\"#ffffff00\" style=\"display: inline-block; width: 1em; height: 1em; margin: 0; vertical-align: middle; border: 1px solid #555; background-color: #ffffff00;\"></div></div>"
      ],
      "text/plain": [
       "<matplotlib.colors.LinearSegmentedColormap at 0x73a152bafa40>"
      ]
     },
     "execution_count": 85,
     "metadata": {},
     "output_type": "execute_result"
    }
   ],
   "source": [
    "import matplotlib.colors\n",
    "\n",
    "\n",
    "c_white = matplotlib.colors.colorConverter.to_rgba('white',alpha = 0)\n",
    "c_black= matplotlib.colors.colorConverter.to_rgba('red',alpha = 1)\n",
    "cmap_rb = matplotlib.colors.LinearSegmentedColormap.from_list('rb_cmap',[c_black,c_white],512)\n",
    "\n",
    "\n",
    "cmap_rb"
   ]
  },
  {
   "cell_type": "markdown",
   "metadata": {},
   "source": [
    "## Ising dynamics over signed graphs"
   ]
  },
  {
   "cell_type": "markdown",
   "metadata": {},
   "source": [
    "### LAttice2D"
   ]
  },
  {
   "cell_type": "code",
   "execution_count": null,
   "metadata": {},
   "outputs": [],
   "source": [
    "side=64\n",
    "pflip = 0.25\n",
    "T = 0.5\n",
    "remove_files = True\n",
    "eig_init = 2"
   ]
  },
  {
   "cell_type": "code",
   "execution_count": null,
   "metadata": {},
   "outputs": [],
   "source": [
    "l = Lattice2D(side1=side, pflip=pflip, dataOut=Isingdatapath, init_nw_dict=True)\n",
    "l.flip_sel_edges(l.nwDict['randXERR']['G'])\n",
    "# l.compute_k_eigvV(howmany=eig_init+1)\n",
    "isdy = IsingDynamics(l, T=T, ic=f'ground_state_2', runlang='C1', rndStr=True)\n",
    "isdy.init_ising_dynamics()\n",
    "l.export_edgel_bin(exName=isdy.id_string_isingdyn)\n",
    "isdy.export_ising_clust(which=1)\n",
    "# if remove_files:\n",
    "#     isdy.remove_run_c_files(remove_stderr=True)\n",
    "#     er.remove_edgl_file()"
   ]
  },
  {
   "cell_type": "code",
   "execution_count": null,
   "metadata": {},
   "outputs": [],
   "source": [
    "isdy.run(verbose=False, thrmSTEP=50)"
   ]
  },
  {
   "cell_type": "code",
   "execution_count": null,
   "metadata": {},
   "outputs": [],
   "source": [
    "fig, ax = plt.subplots(1, 2, figsize=(12, 6))\n",
    "im = ax[1].imshow(isdy.s.reshape(*l.syshape))\n",
    "plt.colorbar(im)\n",
    "im = ax[0].imshow(l.get_eigV_bin_check(2).reshape(*l.syshape))\n",
    "plt.colorbar(im)"
   ]
  },
  {
   "cell_type": "markdown",
   "metadata": {},
   "source": [
    "### Erdos-Renyi"
   ]
  },
  {
   "cell_type": "code",
   "execution_count": null,
   "metadata": {},
   "outputs": [],
   "source": [
    "n = 400\n",
    "p = 8/n\n",
    "pflip = 0.2\n",
    "T = 2\n",
    "remove_files = True\n",
    "eig_init = 2"
   ]
  },
  {
   "cell_type": "code",
   "execution_count": null,
   "metadata": {},
   "outputs": [],
   "source": [
    "er = ErdosRenyi(n=n, p=p, pflip=pflip, dataOut=Isingdatapath, init_nw_dict=True)\n",
    "er.flip_sel_edges(er.nwDict['randXERR']['G'])\n",
    "er.compute_k_eigvV(howmany=eig_init+1)\n",
    "isdy = IsingDynamics(er, T=T, ic=f'ground_state_2', runlang='C1', rndStr=True)\n",
    "isdy.init_ising_dynamics()\n",
    "er.export_edgel_bin(exName=isdy.id_string_isingdyn)\n",
    "isdy.export_ising_clust(which=2)\n",
    "# if remove_files:\n",
    "#     isdy.remove_run_c_files(remove_stderr=True)\n",
    "#     er.remove_edgl_file()"
   ]
  },
  {
   "cell_type": "code",
   "execution_count": null,
   "metadata": {},
   "outputs": [],
   "source": [
    "isdy.run(verbose=False)"
   ]
  },
  {
   "cell_type": "code",
   "execution_count": null,
   "metadata": {},
   "outputs": [],
   "source": [
    "nx.draw(er.G, node_color=isdy.s, edge_color=er.get_edge_color())"
   ]
  },
  {
   "cell_type": "code",
   "execution_count": null,
   "metadata": {},
   "outputs": [],
   "source": [
    "nx.draw(er.G, node_color=-np.sign(er.eigV[2]))"
   ]
  },
  {
   "cell_type": "markdown",
   "metadata": {},
   "source": [
    "## OLD"
   ]
  },
  {
   "cell_type": "code",
   "execution_count": null,
   "metadata": {},
   "outputs": [],
   "source": [
    "size = 1024\n",
    "k = 10\n",
    "p = k/size\n",
    "pflip = 0.01"
   ]
  },
  {
   "cell_type": "code",
   "execution_count": null,
   "metadata": {},
   "outputs": [],
   "source": [
    "er = ErdosRenyi(20000, p, pflip=0.5)\n",
    "er.flip_random_fract_edges()\n",
    "er.compute_k_eigvV()"
   ]
  },
  {
   "cell_type": "code",
   "execution_count": null,
   "metadata": {},
   "outputs": [],
   "source": [
    "min(np.abs(er.eigV[0]))"
   ]
  },
  {
   "cell_type": "code",
   "execution_count": null,
   "metadata": {},
   "outputs": [],
   "source": [
    "N = 0\n",
    "while N != size:\n",
    "    er = ErdosRenyi(size, p, pflip=pflip, init_nw_dict=True)\n",
    "    N = er.N"
   ]
  },
  {
   "cell_type": "code",
   "execution_count": null,
   "metadata": {},
   "outputs": [],
   "source": [
    "size = 64\n",
    "for i,pflip in enumerate([0.1, 0.45]):\n",
    "    er = Lattice2D(size, pflip=pflip)\n",
    "    er.flip_random_fract_edges()\n",
    "    # er.compute_k_eigvV()\n",
    "    # er.flip_sel_edges(list(set(er.nwDict['randXERR']['G'])))\n",
    "    # er.export_edgel_bin()\n",
    "    er.compute_k_eigvV(MODE_dynspec='numpy')\n",
    "    # er.load_eigV_on_g(binarize=True)\n",
    "    # er.make_clustersYN(f'eigV0', +1)\n",
    "    plt.hist(er.eigv, bins=60, density=True)\n",
    "plt.yscale('log')"
   ]
  },
  {
   "cell_type": "code",
   "execution_count": null,
   "metadata": {},
   "outputs": [],
   "source": [
    "e = ((7, 24),(6, 25))\n",
    "tuple(sorted(e))"
   ]
  },
  {
   "cell_type": "code",
   "execution_count": null,
   "metadata": {},
   "outputs": [],
   "source": [
    "for size in [100, 500, 1000, 2000]:\n",
    "    er = ErdosRenyi(size, p, pflip=0.4)\n",
    "    er.flip_random_fract_edges()\n",
    "    # er.compute_k_eigvV()\n",
    "    # er.flip_sel_edges(list(set(er.nwDict['randXERR']['G'])))\n",
    "    # er.export_edgel_bin()\n",
    "    er.compute_k_eigvV(MODE_dynspec='numpy')\n",
    "    # er.load_eigV_on_g(binarize=True)\n",
    "    # er.make_clustersYN(f'eigV0', +1)\n",
    "    plt.hist(er.eigv, bins=80, density=True)\n",
    "plt.yscale('log')"
   ]
  },
  {
   "cell_type": "code",
   "execution_count": null,
   "metadata": {},
   "outputs": [],
   "source": []
  },
  {
   "cell_type": "code",
   "execution_count": null,
   "metadata": {},
   "outputs": [],
   "source": [
    "isi = IsingDynamics(er, T=10, ic='ground_state_0', runlang=\"C1\", NoClust=1)\n",
    "isi.init_ising_dynamics()\n",
    "isi.export_s_init()\n",
    "isi.export_ising_clust()\n",
    "isi.run(eqSTEP=50)"
   ]
  },
  {
   "cell_type": "code",
   "execution_count": null,
   "metadata": {},
   "outputs": [],
   "source": [
    "nx.draw(er.G, edge_color=er.get_edge_color(), node_size=10)"
   ]
  },
  {
   "cell_type": "code",
   "execution_count": null,
   "metadata": {},
   "outputs": [],
   "source": [
    "er.flip_random_fract_edges()\n"
   ]
  },
  {
   "cell_type": "code",
   "execution_count": null,
   "metadata": {},
   "outputs": [],
   "source": [
    "isi = IsingDynamics(er, T=0., ic='uniform', runlang=\"C3\", NoClust=1)\n",
    "isi.init_ising_dynamics()\n",
    "isi.export_s_init()\n",
    "isi.export_ising_clust()\n",
    "isi.run(eqSTEP=50)"
   ]
  },
  {
   "cell_type": "code",
   "execution_count": null,
   "metadata": {},
   "outputs": [],
   "source": []
  },
  {
   "cell_type": "code",
   "execution_count": null,
   "metadata": {},
   "outputs": [],
   "source": [
    "ene = np.fromfile(os.path.join(er.isingpath, 'ene_p=0.35_T=0_.bin'), dtype=np.float64)"
   ]
  },
  {
   "cell_type": "code",
   "execution_count": null,
   "metadata": {},
   "outputs": [],
   "source": [
    "plt.plot(-np.abs(ene))\n",
    "plt.yscale('symlog')\n",
    "plt.xscale('symlog')"
   ]
  },
  {
   "cell_type": "code",
   "execution_count": null,
   "metadata": {},
   "outputs": [],
   "source": [
    "isi.s"
   ]
  },
  {
   "cell_type": "code",
   "execution_count": null,
   "metadata": {},
   "outputs": [],
   "source": [
    "er.G"
   ]
  },
  {
   "cell_type": "code",
   "execution_count": null,
   "metadata": {},
   "outputs": [],
   "source": [
    "fig, ax = plt.subplots(1, 1, figsize=(6, 4))\n",
    "nx.draw(er.G, ax=ax)"
   ]
  },
  {
   "cell_type": "code",
   "execution_count": null,
   "metadata": {},
   "outputs": [],
   "source": [
    "cmap = restr_twilight#\n",
    "colors = cmap(np.linspace(0, 1, len(eneT)))\n",
    "plt.rcParams[\"axes.prop_cycle\"] = plt.cycler(color=colors)\n",
    "plt.plot(eneT[0], c='r')\n",
    "for e in eneT[1:]:\n",
    "    plt.plot(e)\n",
    "plt.xscale('symlog')"
   ]
  },
  {
   "cell_type": "code",
   "execution_count": null,
   "metadata": {},
   "outputs": [],
   "source": [
    "nx.draw(er.G, cmap=restr_twilight,\n",
    "        edge_color=er.get_edge_color(), \n",
    "        node_color=np.sign(er.eigV[0]), with_labels = True)"
   ]
  },
  {
   "cell_type": "code",
   "execution_count": null,
   "metadata": {},
   "outputs": [],
   "source": [
    "l = Lattice2D(10, pflip=0.1, init_nw_dict=True)\n",
    "l.compute_k_eigvV()\n",
    "l.export_edgel_bin()\n",
    "#\n",
    "isi = IsingDynamics(l, T=0.5, ic='ground_state_0', runlang=\"C3\", NoClust=1)"
   ]
  },
  {
   "cell_type": "code",
   "execution_count": null,
   "metadata": {},
   "outputs": [],
   "source": [
    "isi.sg.datPath"
   ]
  },
  {
   "cell_type": "code",
   "execution_count": null,
   "metadata": {},
   "outputs": [],
   "source": [
    "cell = 'rand'\n",
    "pflip = 0.2\n",
    "side = 64\n",
    "T = 0.5"
   ]
  },
  {
   "cell_type": "code",
   "execution_count": null,
   "metadata": {},
   "outputs": [],
   "source": [
    "l = Lattice2D(side, pflip=pflip, init_nw_dict=True)\n",
    "l.flip_sel_edges(l.nwDict[cell]['G'])\n",
    "l.compute_k_eigvV()\n",
    "l.export_edgel_bin()\n",
    "#\n",
    "isi = IsingDynamics(l, T=T, ic='ground_state_0', runlang=\"C3\", NoClust=1)\n",
    "isi.init_ising_dynamics()\n",
    "isi.export_s_init()\n",
    "isi.run(eqSTEP=50)"
   ]
  },
  {
   "cell_type": "code",
   "execution_count": null,
   "metadata": {},
   "outputs": [],
   "source": [
    "fig, (ax0, ax1) = plt.subplots(1, 2, figsize=(10, 5))\n",
    "ax0.imshow(np.sign(l.eigV[0].reshape(l.syshape)), cmap='gray', origin='lower')\n",
    "ax1.imshow(isi.s.reshape(l.syshape), cmap='gray', origin='lower')"
   ]
  },
  {
   "cell_type": "code",
   "execution_count": null,
   "metadata": {},
   "outputs": [],
   "source": [
    "plt.imshow(isi.s.reshape(side, side), cmap='hot')\n",
    "plt.axis('off')\n",
    "plt.savefig(os.path.join(plotpath, 'ising_rand_128_0.25_0.1.pdf'), bbox_inches='tight')"
   ]
  },
  {
   "cell_type": "code",
   "execution_count": null,
   "metadata": {},
   "outputs": [],
   "source": [
    "cell = 'randXERR'\n",
    "pflip = 0.45\n",
    "side = 64\n",
    "T = 0.1"
   ]
  },
  {
   "cell_type": "code",
   "execution_count": null,
   "metadata": {},
   "outputs": [],
   "source": [
    "l = Lattice2D(side, pflip=pflip, init_nw_dict=True)\n",
    "l.flip_sel_edges(l.nwDict[cell]['G'])\n",
    "l.compute_k_eigvV()\n",
    "l.export_edgel_bin()\n",
    "#\n",
    "isi = IsingDynamics(l, T=T, ic='ground_state_0', runlang=\"C3\", NoClust=1)\n",
    "isi.init_ising_dynamics()\n",
    "isi.export_s_init()\n",
    "isi.run()\n"
   ]
  },
  {
   "cell_type": "code",
   "execution_count": null,
   "metadata": {},
   "outputs": [],
   "source": [
    "plt.imshow(isi.s.reshape(*l.syshape))"
   ]
  },
  {
   "cell_type": "code",
   "execution_count": null,
   "metadata": {},
   "outputs": [],
   "source": [
    "x, pdf = powerlaw.pdf(np.abs(l.eigV[0]))\n",
    "plt.loglog(x[1:], pdf)\n"
   ]
  },
  {
   "cell_type": "code",
   "execution_count": null,
   "metadata": {},
   "outputs": [],
   "source": [
    "isi.export_ising_clust()"
   ]
  },
  {
   "cell_type": "code",
   "execution_count": null,
   "metadata": {},
   "outputs": [],
   "source": [
    "a = l.eigV[0]"
   ]
  },
  {
   "cell_type": "code",
   "execution_count": null,
   "metadata": {},
   "outputs": [],
   "source": [
    "l.biggestClSet[0]"
   ]
  },
  {
   "cell_type": "code",
   "execution_count": null,
   "metadata": {},
   "outputs": [],
   "source": [
    "a[np.array(list(l.biggestClSet[3]))] = 0"
   ]
  },
  {
   "cell_type": "code",
   "execution_count": null,
   "metadata": {},
   "outputs": [],
   "source": [
    "plt.imshow(np.sign(a.reshape(*l.syshape)))"
   ]
  },
  {
   "cell_type": "code",
   "execution_count": null,
   "metadata": {},
   "outputs": [],
   "source": [
    "91/48"
   ]
  },
  {
   "cell_type": "code",
   "execution_count": null,
   "metadata": {},
   "outputs": [],
   "source": [
    "list(l.biggestClSet[0])"
   ]
  },
  {
   "cell_type": "markdown",
   "metadata": {},
   "source": [
    "## minfinito"
   ]
  },
  {
   "cell_type": "code",
   "execution_count": null,
   "metadata": {},
   "outputs": [],
   "source": [
    "sizes = [16, 32, 64]\n",
    "sffx = 'gs0_X'\n",
    "l = Lattice2D(side1=sizes[-2], sgpath=clusterdatapath)"
   ]
  },
  {
   "cell_type": "code",
   "execution_count": null,
   "metadata": {},
   "outputs": [],
   "source": [
    "def interpolate_data(P, T, variances, num_points=1000):\n",
    "    \"\"\"\n",
    "    Interpolates the data over a grid of specified density.\n",
    "    P, T are meshgrids of p and T values.\n",
    "    variances is the matrix of computed variances.\n",
    "    num_points is how dense the new grid should be.\n",
    "    \"\"\"\n",
    "    # Create the points where we have data\n",
    "    points = np.array([P.flatten(), T.flatten()]).T\n",
    "    values = variances.flatten()\n",
    "\n",
    "    # Create a grid where we want to interpolate\n",
    "    p_new = np.linspace(P.min(), P.max(), num_points)\n",
    "    t_new = np.linspace(T.min(), T.max(), num_points)\n",
    "    P_new, T_new = np.meshgrid(p_new, t_new)\n",
    "\n",
    "    # Interpolate using linear or cubic interpolation\n",
    "    variances_new = griddata(points, values, (P_new, T_new), method='cubic', fill_value=np.nan)\n",
    "\n",
    "    return P_new, T_new, variances_new\n",
    "def gen_valid_lines(filename):\n",
    "    \"\"\" Generator that yields only valid lines with exactly two numeric entries. \"\"\"\n",
    "    with open(filename, 'r') as file:\n",
    "        for line in file:\n",
    "            parts = line.strip().split()\n",
    "            if len(parts) == 2:  # Only yield lines with exactly two numeric entries\n",
    "                try:\n",
    "                    # Convert to float to ensure they are numeric\n",
    "                    float(parts[0]), float(parts[1])\n",
    "                    yield line\n",
    "                except ValueError:\n",
    "                    continue  # Skip lines that cannot be converted to float\n",
    "def read_and_compute_variance(filepath):\n",
    "    \"\"\" Reads a two-column file and computes the variance of the first column. \"\"\"\n",
    "    data = np.loadtxt(gen_valid_lines(filepath))\n",
    "    mask = np.abs(data) <= 1\n",
    "    filtered_array = data[mask]\n",
    "    return np.mean(np.abs(filtered_array))\n",
    "def prepare_data_for_plotting(search_dir):\n",
    "    filenames = os.listdir(search_dir)\n",
    "    p_values = set(extract_values_from_filenames(filenames, r\"p=([\\d.]+)\"))\n",
    "    T_values = set(extract_values_from_filenames(filenames, r\"T=([\\d.]+)\"))\n",
    "    \n",
    "    # Create a meshgrid for p and T\n",
    "    P, T = np.meshgrid(sorted(p_values), sorted(T_values))\n",
    "    variance_matrix = np.zeros(P.shape)\n",
    "    \n",
    "    # Map filenames to their p and T values\n",
    "    file_map = {}\n",
    "    for filename in filenames:\n",
    "        p = float(re.search(r\"p=([\\d.]+)\", filename).group(1))\n",
    "        t = float(re.search(r\"T=([\\d.]+)\", filename).group(1))\n",
    "        file_map[(p, t)] = filename\n",
    "\n",
    "    # Compute variance for each p, T combination\n",
    "    for (i, j), p in np.ndenumerate(P):\n",
    "        t = T[i, j]\n",
    "        filepath = os.path.join(search_dir, file_map.get((p, t)))\n",
    "        if filepath:\n",
    "            variance_matrix[i, j] = read_and_compute_variance(filepath)\n",
    "    \n",
    "    return P, T, variance_matrix\n",
    "\n",
    "def plot_surface(P, T, variances, elev=10, azim=40, T_value=2.2):\n",
    "    fig = plt.figure()\n",
    "    ax = fig.add_subplot(111, projection='3d')\n",
    "\n",
    "    surf = ax.plot_surface(P, T, variances, cmap=restr_twilight, edgecolor='k', lw=0.2)\n",
    "    clb = fig.colorbar(surf, ax=ax, pad=0, shrink=0.8)\n",
    "    # fig.colorbar(surf, ax=ax, label=r'$\\avg*{m_{\\infty}^{\\mathrm{GC}}}$')\n",
    "    ax.set_xlabel('$p$', labelpad=30)\n",
    "    ax.set_ylabel('$T$', labelpad=30)\n",
    "    ax.set_zlim(0, 1)\n",
    "    ax.zaxis.set_tick_params(pad=15)  # Increase pad to move labels away from the axis\n",
    "    intersection_z = variances[T == T_value]\n",
    "    ax.scatter(P[T == T_value], np.full_like(intersection_z, T_value), intersection_z, color='black')\n",
    "\n",
    "\n",
    "    ax.set_title(r'$\\avg*{m_{\\infty}^{\\mathrm{GC}}}$')\n",
    "    ax.view_init(elev=elev, azim=azim)\n",
    "    fig.tight_layout()\n",
    "    return fig, ax\n",
    "\n"
   ]
  },
  {
   "cell_type": "code",
   "execution_count": null,
   "metadata": {},
   "outputs": [],
   "source": [
    "# Assuming the directory path is stored in `isingpath`\n",
    "P, T, variances = prepare_data_for_plotting(l.isingpath)\n",
    "P_new, T_new, variances_new = interpolate_data(P, T, variances)\n",
    "\n",
    "fig, ax = plot_surface(P_new, T_new, variances_new)\n",
    "fig.savefig(os.path.join(plotpath, 'variance_surface.png'), dpi=300)"
   ]
  },
  {
   "cell_type": "code",
   "execution_count": null,
   "metadata": {},
   "outputs": [],
   "source": [
    "side =32\n",
    "geo = 'squared'\n",
    "cell = 'randXERR'\n",
    "p = 0.2\n",
    "howmany=2\n",
    "number=0\n",
    "T=0.1"
   ]
  },
  {
   "cell_type": "code",
   "execution_count": null,
   "metadata": {},
   "outputs": [],
   "source": [
    "for i in range(100):\n",
    "    while True:\n",
    "        l = Lattice2D(side, geo, sgpath='devTools', pflip=p, init_nw_dict=True, seed=random.randint(0, 1000000))\n",
    "        l.flip_sel_edges(l.nwDict[cell]['G'])\n",
    "        l.compute_k_eigvV(howmany=number + 1)\n",
    "        l.load_eigV_on_graph(which=number, binarize=True)\n",
    "        l.make_clustersYN(f'eigV{number}', +1)\n",
    "        print(l.N, len(l.gc))\n",
    "        if  abs(l.gcBinLen/l.N - meanN) < stdN:\n",
    "            break\n",
    "        isdy = IsingDynamics(l, T, ic=\"ground_state_0\", runlang=\"C1\", NoClust=1, \n",
    "                            rndStr=True, out_suffix='test', \n",
    "                            id_string='test')\n",
    "        isdy.init_ising_dynamics()\n",
    "        l.export_edgel_bin(exName=isdy.id_string_isingdyn)\n",
    "        isdy.export_ising_clust()\n",
    "        isdy.run(verbose=False)"
   ]
  },
  {
   "cell_type": "markdown",
   "metadata": {},
   "source": [
    "### Ising overlap giant cluster $\\langle m_\\infty\\rangle$"
   ]
  },
  {
   "cell_type": "code",
   "execution_count": null,
   "metadata": {},
   "outputs": [],
   "source": [
    "side = 32\n",
    "geo = 'squared'\n",
    "pflip = 0.25\n",
    "gsN = 0\n",
    "NoClust = 1\n",
    "cell = 'randXERR'\n",
    "ic = 'ground_state_0'\n",
    "in_suffix = f\"{cell}\"\n",
    "out_suffix = f\"{cell}_testC1\"\n",
    "runlang = 'C1'\n",
    "navg_def = 10\n",
    "T_0 = 0.1\n",
    "T_F = 3\n",
    "numT = 20\n",
    "Tlist = np.linspace(T_0, T_F, numT)"
   ]
  },
  {
   "cell_type": "code",
   "execution_count": null,
   "metadata": {},
   "outputs": [],
   "source": [
    "for T in Tlist:\n",
    "    for navg in range(navg_def):\n",
    "        l = Lattice2D(side1=side, sgpath=Isingdatapath, geo=geo, pflip=pflip,\n",
    "                    init_nw_dict=True)\n",
    "        l.flip_sel_edges(l.nwDict[cell]['G'])\n",
    "        l.compute_k_eigvV(howmany=gsN+1)\n",
    "        # baseName = f\"outcl{gsN}_p={pflip:.3g}_T={T:.3g}_{out_suffix}.txt\"\n",
    "        # if os.path.exists(os.path.join(l.isingpath, baseName)):\n",
    "        #     continue\n",
    "        isdy = IsingDynamics(l, T, ic=ic, runlang=runlang, NoClust=NoClust, \n",
    "                             rndStr=True, out_suffix=out_suffix,\n",
    "                             id_string=in_suffix)\n",
    "        isdy.init_ising_dynamics()\n",
    "        isdy.export_ising_clust()\n",
    "        l.export_edgel_bin(exName=isdy.id_string_isingdyn)\n",
    "        isdy.run(verbose=True)\n",
    "        isdy.remove_run_c_files()\n",
    "        l.remove_edgl_file()"
   ]
  },
  {
   "cell_type": "code",
   "execution_count": null,
   "metadata": {},
   "outputs": [],
   "source": [
    "path = l.isingpath\n",
    "baseName = lambda t: f\"outcl{gsN}_p={pflip:.3g}_T={t:.3g}_{out_suffix}.txt\"\n",
    "dat = {T: np.loadtxt(fname)\n",
    "       for T in Tlist if os.path.exists(\n",
    "           fname := os.path.join(path, baseName(T)))}"
   ]
  },
  {
   "cell_type": "code",
   "execution_count": null,
   "metadata": {},
   "outputs": [],
   "source": [
    "fig, ax = plt.subplots(ncols=2, figsize=(12, 6))\n",
    "#\n",
    "average_points = []\n",
    "variance_points = []\n",
    "m2 = []\n",
    "#\n",
    "for T in Tlist:\n",
    "    try:\n",
    "        points = np.abs(dat[T][:, 0])\n",
    "        points2 = np.abs(dat[T][:, 1])\n",
    "        ax[0].scatter([T] * len(points), points, label=f'T={T:.3g}')\n",
    "        average_points.append([T, np.mean(points)])\n",
    "        variance_points.append([T, np.std(points)])\n",
    "        # m2.extend([np.mean(points2)])\n",
    "    except Exception as e:\n",
    "        print(f\"An error occurred for T={T}: {e}\")\n",
    "        pass\n",
    "#\n",
    "m2 = np.array(m2)\n",
    "average_points = np.array(average_points)\n",
    "variance_points = np.array(variance_points)\n",
    "smoothed_avg = gaussian_filter1d(np.abs(average_points[:, 1]), sigma=2)\n",
    "smoothed_var = gaussian_filter1d(np.abs(variance_points[:, 1]), sigma=2)\n",
    "\n",
    "ax[1].plot(average_points[:, 0], smoothed_var*np.sqrt(l.N), '-', label='Average')\n",
    "# ax[1].plot(Tlist, m2, 'o-', label='M2')\n",
    "ax[0].plot(average_points[:, 0], smoothed_avg, '-', label='Average')\n",
    "ax[0].fill_between(average_points[:, 0], smoothed_avg - smoothed_var, smoothed_avg + smoothed_var, alpha=0.3, label='Variance')\n",
    "#\n",
    "ax[0].set_ylim(0, 1)\n",
    "ax[0].axvline(2.2, color='r', linestyle='--')\n",
    "# ax[0].set_ylabel(r'$\\mean{m_\\infty}$')\n",
    "#\n",
    "plt.show()"
   ]
  },
  {
   "cell_type": "markdown",
   "metadata": {},
   "source": [
    "- we can make the plot of the 2d surface in the phase space p-T-m"
   ]
  },
  {
   "cell_type": "markdown",
   "metadata": {},
   "source": [
    "### Simulated Annealing Reverse (local minima stability test)"
   ]
  },
  {
   "cell_type": "code",
   "execution_count": null,
   "metadata": {},
   "outputs": [],
   "source": [
    "side = 32\n",
    "geo = 'squared'\n",
    "cell = 'rand'\n",
    "pflip = 0.2\n",
    "gsN = 0\n",
    "ic = \"ground_state_2\"\n",
    "IMPORT = False\n",
    "args = {'import_on': True} if IMPORT else {}\n",
    "T_0 = 0.1\n",
    "T_F = 2.2"
   ]
  },
  {
   "cell_type": "code",
   "execution_count": null,
   "metadata": {},
   "outputs": [],
   "source": [
    "l.seed"
   ]
  },
  {
   "cell_type": "code",
   "execution_count": null,
   "metadata": {},
   "outputs": [],
   "source": [
    "l = Lattice2D(side1=side, sgpath=Isingdatapath, geo=geo, pflip=pflip,\n",
    "            init_nw_dict=True, seed=0, **args) #(0, 1718975638183)\n",
    "l.flip_sel_edges(l.nwDict[cell]['G'])\n",
    "l.compute_k_eigvV(howmany=10)\n",
    "#\n",
    "ising_dyn = IsingDynamics(sg=l, ic=ic, runlang=\"C2\", rndStr=True, \n",
    "                          out_suffix=\"test_sa\")\n",
    "#\n",
    "kwargsImshow = dict(cmap='gray', origin='lower')\n",
    "for T in np.linspace(T_0, T_F, num=8):\n",
    "    fig, ax = plt.subplots(1, 3, figsize=(12, 4))\n",
    "    ising_dyn.init_ising_dynamics(custom=l.get_eigV_bin_check())\n",
    "    l.export_edgel_bin(exName=ising_dyn.id_string_isingdyn)\n",
    "    ax[0].imshow(ising_dyn.s.reshape(*l.syshape), **kwargsImshow)\n",
    "    ising_dyn.run(T_ising=T, thrmSTEP=4, eqSTEP=10)\n",
    "    ax[1].imshow(ising_dyn.s.reshape(*l.syshape), **kwargsImshow)\n",
    "    ising_dyn.export_s_init()\n",
    "    ising_dyn.run(T_ising=T_0, thrmSTEP=4, eqSTEP=0)\n",
    "    ax[2].imshow(ising_dyn.s.reshape(*l.syshape), **kwargsImshow)\n",
    "    for axx in ax:\n",
    "        axx.axis('off')\n",
    "    ax[0].set_title(fr\"$T = {T_0:.3g}$\")\n",
    "    ax[1].set_title(fr\"$T = {T:.3g}$\")\n",
    "    ax[2].set_title(fr\"$T = {T_0:.3g}$\")\n",
    "    fig.savefig(os.path.join(plotpath, f\"IsingDyn_T={T:.3g}.png\"),\n",
    "                bbox_inches='tight')\n",
    "    # plt.close('all')"
   ]
  },
  {
   "cell_type": "code",
   "execution_count": null,
   "metadata": {},
   "outputs": [],
   "source": []
  },
  {
   "cell_type": "markdown",
   "metadata": {},
   "source": [
    "### C implementation (IsingDynamics `class`)"
   ]
  },
  {
   "cell_type": "markdown",
   "metadata": {},
   "source": [
    "- Note that the higher eigenstates of laplacian in ising (plane waves of higher orders) are persistent states of the dynamics!"
   ]
  },
  {
   "cell_type": "code",
   "execution_count": null,
   "metadata": {},
   "outputs": [],
   "source": [
    "side = 64\n",
    "geo = 'squared'\n",
    "pflip = 0.5\n",
    "T_ising = 1\n",
    "navg = 2\n",
    "eqSTEP = 10\n",
    "gsN = 0\n",
    "#\n",
    "IMPORT = False"
   ]
  },
  {
   "cell_type": "code",
   "execution_count": null,
   "metadata": {},
   "outputs": [],
   "source": [
    "args = {'import_on': True} if IMPORT else {}\n",
    "l = Lattice2D(side1=side, geo=geo, pflip=pflip, init_nw_dict=True, **args)\n",
    "# l.flip_random_fract_edges()\n",
    "l.flip_sel_edges(l.nwDict['randXERR']['G'])\n",
    "l.compute_k_eigvV(howmany=20)\n",
    "ising_dyn = IsingDynamics(sg=l, T=T_ising, \n",
    "                          nstepsIsing=1000, \n",
    "                          ic=f\"ground_state_{gsN}\",\n",
    "                          runlang=\"C2\")\n",
    "ising_dyn.init_ising_dynamics()\n",
    "if not l.import_on:\n",
    "    # l.export_graph()\n",
    "    l.export_edgel_bin()"
   ]
  },
  {
   "cell_type": "code",
   "execution_count": null,
   "metadata": {},
   "outputs": [],
   "source": [
    "ising_dyn.run()"
   ]
  },
  {
   "cell_type": "code",
   "execution_count": null,
   "metadata": {},
   "outputs": [],
   "source": [
    "fig, ax = plt.subplots(ncols=3, figsize=(12, 6))\n",
    "s_imshow = flip_to_positive_majority_adapted(ising_dyn.s.reshape(l.syshape))\n",
    "eigv_show = flip_to_positive_majority_adapted(np.sign(l.eigV[gsN].reshape(l.syshape)))\n",
    "ax[0].imshow(s_imshow, interpolation='none')\n",
    "ax[1].imshow(eigv_show, interpolation='none')\n",
    "ax[2].imshow(np.fromfile(f'data/l2d_squared/ising/N={side**2}/s_sqr_p={pflip:.3g}.bin', dtype=\"int8\").reshape(l.syshape), interpolation='none')"
   ]
  },
  {
   "cell_type": "code",
   "execution_count": null,
   "metadata": {},
   "outputs": [],
   "source": [
    "fig, (ax, ax1) = plt.subplots(ncols=2)\n",
    "path = f\"data/l2d_squared/ising/N={l.N}/s_sqr_p={pflip:.3g}.bin\"\n",
    "a = np.fromfile(path, dtype=\"int8\").reshape(*l.syshape)\n",
    "path = f\"data/l2d_squared/ising/N={l.N}/sOut_sqr_p={pflip:.3g}_T={T_ising:.3g}_{ising_dyn.id_string_isingdyn}.bin\"\n",
    "b = np.fromfile(path, dtype=\"int8\").reshape(-1, *l.syshape)\n",
    "a = flip_to_positive_majority_adapted(a)\n",
    "b = flip_to_positive_majority_adapted(b)\n",
    "overlap = np.sum(a == b[-1]) / l.N\n",
    "print(overlap)\n",
    "ax.imshow(a-b[-1])\n",
    "c = flip_to_positive_majority_adapted(np.sign(l.eigV[4].reshape(l.syshape)))\n",
    "overlap = np.sum(c == b[-1]) / l.N\n",
    "print(overlap)\n",
    "ax1.imshow(c-b[-1])"
   ]
  },
  {
   "cell_type": "code",
   "execution_count": null,
   "metadata": {},
   "outputs": [],
   "source": [
    "# here we need to set g_ferro nodes the attribute \"ferro\" and viceversa\n",
    "l.load_vec_on_nodes(b[-1].flatten(), attr='s')\n",
    "ferroGroup, antiGroup = l.classify_ferroAntiferro_regions()"
   ]
  },
  {
   "cell_type": "code",
   "execution_count": null,
   "metadata": {},
   "outputs": [],
   "source": [
    "def substitute_values(matrix, values, val = -1):\n",
    "    values_set = values\n",
    "    flat_matrix = matrix.flatten()\n",
    "    substituted_flat_matrix = np.where(np.isin(flat_matrix, values_set), val, flat_matrix)\n",
    "    substituted_matrix = substituted_flat_matrix.reshape(matrix.shape)\n",
    "    return substituted_matrix"
   ]
  },
  {
   "cell_type": "code",
   "execution_count": null,
   "metadata": {},
   "outputs": [],
   "source": [
    "cc = np.array(list(l.G.nodes())).reshape(l.syshape)\n",
    "dd = substitute_values(cc, antiGroup)\n",
    "dd = substitute_values(dd, ferroGroup, val=1)"
   ]
  },
  {
   "cell_type": "code",
   "execution_count": null,
   "metadata": {},
   "outputs": [],
   "source": [
    "len(ferroGroup), len(antiGroup), len(ferroGroup) + len(antiGroup), "
   ]
  },
  {
   "cell_type": "code",
   "execution_count": null,
   "metadata": {},
   "outputs": [],
   "source": [
    "fig, ax = plt.subplots()\n",
    "im = ax.imshow(a, cmap='gray')\n",
    "# ax.imshow(dd, alpha=.7)\n",
    "fig.colorbar(im)"
   ]
  },
  {
   "cell_type": "code",
   "execution_count": null,
   "metadata": {},
   "outputs": [],
   "source": [
    "fig, ax = plt.subplots(ncols=2, figsize=(12, 4))\n",
    "im1 = ax[0].imshow(c)\n",
    "im2 = ax[1].imshow(b[-1])\n",
    "fig.colorbar(im1, ax=ax[0])\n",
    "fig.colorbar(im2, ax=ax[1])"
   ]
  },
  {
   "cell_type": "code",
   "execution_count": null,
   "metadata": {},
   "outputs": [],
   "source": [
    "fig, ax = plt.subplots(ncols=5, nrows=len(b)//5, figsize=(12, 4))\n",
    "for i in range(len(b)//5):\n",
    "    for j in range(5):\n",
    "        ax[i][j].imshow(b[i*5+j], interpolation='none', cmap='hot')\n",
    "        ax[i][j].axis('off')"
   ]
  },
  {
   "cell_type": "code",
   "execution_count": null,
   "metadata": {},
   "outputs": [],
   "source": [
    "path = f\"data/l2d_squared/ising/N={l.N}/ene_sqr_p={pflip:.3g}_T={T_ising:.3g}_{ising_dyn.id_string_isingdyn}.bin\"\n",
    "ene = np.fromfile(path, dtype=\"float\")\n",
    "path = f\"data/l2d_squared/ising/N={l.N}/magn_sqr_p={pflip:.3g}_T={T_ising:.3g}_{ising_dyn.id_string_isingdyn}.bin\"\n",
    "magn = np.fromfile(path, dtype=\"float\")\n",
    "pflip, T_ising"
   ]
  },
  {
   "cell_type": "code",
   "execution_count": null,
   "metadata": {},
   "outputs": [],
   "source": [
    "x = np.linspace(1, len(ene), len(ene))\n",
    "plt.plot(x, ene/4)\n",
    "plt.plot(x, magn)\n",
    "plt.xscale(\"log\")\n",
    "plt.ylim(-1.05, 1.05)"
   ]
  },
  {
   "cell_type": "markdown",
   "metadata": {},
   "source": [
    "### Energy levels"
   ]
  },
  {
   "cell_type": "code",
   "execution_count": null,
   "metadata": {},
   "outputs": [],
   "source": [
    "side = 48\n",
    "geo = 'squared'\n",
    "pbc = True\n",
    "pflip = 0.1\n",
    "howmany = 100\n",
    "cmap = restr_twilight"
   ]
  },
  {
   "cell_type": "code",
   "execution_count": null,
   "metadata": {},
   "outputs": [],
   "source": [
    "l = Lattice2D(side, geo, pbc=pbc, pflip=pflip)\n",
    "# np.random.seed(1)\n",
    "# random.seed(1)\n",
    "# l.flip_sel_edges()\n",
    "l.flip_random_fract_edges()\n",
    "l.compute_k_eigvV(howmany=howmany, MODE_dynspec=\"scipy\")\n",
    "energies = np.array([-l.compute_rbim_energy_eigV(_)/(2*l.N) for _ in range(howmany)])\n",
    "en0 = np.max(np.abs(energies))"
   ]
  },
  {
   "cell_type": "code",
   "execution_count": null,
   "metadata": {},
   "outputs": [],
   "source": [
    "fig, (ax, ax1) = plt.subplots(figsize=(10, 7), ncols=2, width_ratios=[1, 1])\n",
    "\n",
    "ylabelPos = []\n",
    "xlabelPos = []\n",
    "\n",
    "y_min, y_max = min(energies), max(energies)\n",
    "y_range = y_max - y_min\n",
    "thresh = 0.05\n",
    "threshold = y_range * thresh  # Adjust the fraction as needed\n",
    "\n",
    "for i, en in enumerate(energies):\n",
    "    color = cmap(i / len(energies)) if i != 0 else 'red'\n",
    "    text_x = 1\n",
    "    text_y = en\n",
    "    if ylabelPos and any(abs(text_y - pos) < threshold for pos in ylabelPos):\n",
    "        indices = [i for i, pos in enumerate(ylabelPos) \n",
    "                   if abs(text_y - pos) < threshold]\n",
    "        index = max(indices, key=lambda i: xlabelPos[i])\n",
    "        text_x = xlabelPos[index] +.3\n",
    "    ax.axhline(en, 0.05, 1-0.05, lw=4, color=color, zorder=len(energies)-i+1)\n",
    "    ax1.axhline(np.abs(l.eigv[i]), 0.05, 1-0.05, lw=4, color=color, zorder=len(energies)-i+1)\n",
    "    # ax.text(text_x+.05, text_y, fr'$E(|\\lambda_{{{i}}}\\rangle)$', \n",
    "    #          va='center', ha='left', fontsize=16, color=color)\n",
    "    ylabelPos.append(text_y)\n",
    "    xlabelPos.append(text_x)\n",
    "\n",
    "\n",
    "# Customize the axes to remove the top and right box\n",
    "for axx in [ax, ax1]:\n",
    "    axx.spines['top'].set_visible(False)\n",
    "    axx.spines['right'].set_visible(False)\n",
    "    axx.yaxis.set_ticks_position('left')\n",
    "    axx.xaxis.set_ticks_position('bottom')\n",
    "    axx.spines['left'].set_position(('outward', 10))\n",
    "    axx.spines['bottom'].set_position(('outward', 10))\n",
    "    axx.grid(True)\n",
    "\n",
    "\n",
    "fig.colorbar(plt.cm.ScalarMappable(cmap=cmap, norm=plt.Normalize(0, len(energies))), ax=ax)\n",
    "fig.colorbar(plt.cm.ScalarMappable(cmap=cmap, norm=plt.Normalize(0, len(l.eigv))), ax=ax1)\n",
    "\n",
    "# x, pdf = powerlaw.pdf(np.abs(l.eigV[0]))\n",
    "# ax1.loglog(x[1:], pdf, 'k-', lw=2)\n",
    "# ax1.axvline(np.finfo(float).eps, color='red', lw=2)"
   ]
  },
  {
   "cell_type": "code",
   "execution_count": null,
   "metadata": {},
   "outputs": [],
   "source": [
    "replicas = 100"
   ]
  },
  {
   "cell_type": "code",
   "execution_count": null,
   "metadata": {},
   "outputs": [],
   "source": [
    "def compute_overlap(matrix1, matrix2):\n",
    "    return np.dot(matrix1.flatten(), matrix2.flatten()) / matrix1.size\n",
    "eigV = []\n",
    "l = Lattice2D(side, geo, pbc=pbc, pflip=pflip)\n",
    "for i in range(replicas):\n",
    "    l.flip_random_fract_edges()\n",
    "    l.compute_k_eigvV(howmany=1, MODE_dynspec=\"numpy\")\n",
    "    eigV.append(l.eigV[0].reshape(l.syshape))\n",
    "# Compute all pairs of overlaps\n",
    "overlaps = []\n",
    "for i in range(replicas):\n",
    "    for j in range(i + 1, replicas):\n",
    "        q = compute_overlap(eigV[i], eigV[j])\n",
    "        overlaps.append(q)"
   ]
  },
  {
   "cell_type": "code",
   "execution_count": null,
   "metadata": {},
   "outputs": [],
   "source": []
  },
  {
   "cell_type": "code",
   "execution_count": null,
   "metadata": {},
   "outputs": [],
   "source": [
    "LRGSG_LIB_CBIN"
   ]
  },
  {
   "cell_type": "markdown",
   "metadata": {},
   "source": [
    "### C++ attempt (slow)"
   ]
  },
  {
   "cell_type": "code",
   "execution_count": null,
   "metadata": {},
   "outputs": [],
   "source": [
    "temperature = 1\n",
    "pflip = 0\n",
    "side = 50\n",
    "pbc=True\n",
    "geo = 'squared'\n",
    "navg = 5\n",
    "steps = side**2\n",
    "frameRate = 1\n",
    "single_mode = True"
   ]
  },
  {
   "cell_type": "code",
   "execution_count": null,
   "metadata": {},
   "outputs": [],
   "source": [
    "l = Lattice2D(side, geo=geo, pflip=pflip, pbc=pbc)\n",
    "#\n",
    "l.flip_random_fract_edges()\n",
    "edgeList = list(l.GraphReprDict['H'].edges())\n",
    "nodeList = l.nodeList\n",
    "signs = list(l.GraphReprDict['H'].edges(data='weight'))"
   ]
  },
  {
   "cell_type": "code",
   "execution_count": null,
   "metadata": {},
   "outputs": [],
   "source": [
    "if single_mode:\n",
    "#\n",
    "    model = ising_model_store.IsingModel(edgeList, signs, side, side, \n",
    "                                            temperature, \"asynchronous\")\n",
    "    model.simulate(steps, frameRate)\n",
    "    ene = np.array(model.getFrameEnergies())\n",
    "else: \n",
    "    magn = []\n",
    "    ene = []\n",
    "    for _ in range(navg):\n",
    "        model = ising_model_store.IsingModel(edgeList, signs, side, side, \n",
    "                                            temperature, \"asynchronous\")\n",
    "        model.simulate(steps, frameRate)\n",
    "        magn.append([model.getFrameMagnetizations()])\n",
    "        ene.append([model.getFrameEnergies()])"
   ]
  },
  {
   "cell_type": "code",
   "execution_count": null,
   "metadata": {},
   "outputs": [],
   "source": [
    "for en in ene:\n",
    "    tt = en[0]\n",
    "    eneNorm = tt\n",
    "    plt.plot(np.linspace(1, len(eneNorm), num=len(eneNorm)), eneNorm, '-')\n",
    "# plt.plot(magn, 'h')\n",
    "plt.xscale('log')\n"
   ]
  }
 ],
 "metadata": {
  "kernelspec": {
   "display_name": "lrgsgenv",
   "language": "python",
   "name": "python3"
  },
  "language_info": {
   "codemirror_mode": {
    "name": "ipython",
    "version": 3
   },
   "file_extension": ".py",
   "mimetype": "text/x-python",
   "name": "python",
   "nbconvert_exporter": "python",
   "pygments_lexer": "ipython3",
   "version": "3.12.3"
  }
 },
 "nbformat": 4,
 "nbformat_minor": 2
}
