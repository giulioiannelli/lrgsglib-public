{
 "cells": [
  {
   "cell_type": "markdown",
   "metadata": {},
   "source": [
    "# Developer Tools / Laplacian Spectra"
   ]
  },
  {
   "cell_type": "code",
   "execution_count": 1,
   "metadata": {},
   "outputs": [],
   "source": [
    "%matplotlib inline\n",
    "from lrgsglib.core import *"
   ]
  },
  {
   "cell_type": "code",
   "execution_count": 2,
   "metadata": {},
   "outputs": [
    {
     "name": "stdout",
     "output_type": "stream",
     "text": [
      "Current working directory: /home/opisthofulax/PhD/projects/complex-networks/lrgsglib\n"
     ]
    }
   ],
   "source": [
    "move_to_rootf()\n",
    "#\n",
    "plt.style.use('ipynb/nb_plotsheet.mplstyle')"
   ]
  },
  {
   "cell_type": "markdown",
   "metadata": {},
   "source": [
    "## Miscellanea"
   ]
  },
  {
   "cell_type": "markdown",
   "metadata": {},
   "source": [
    "### Single errors eigenvector"
   ]
  },
  {
   "cell_type": "code",
   "execution_count": 4,
   "metadata": {},
   "outputs": [],
   "source": [
    "sizes = 2**np.arange(3, 5)\n",
    "verbose = False\n",
    "#\n",
    "gcIterProd = product(['squared', 'tri', 'hex'], \n",
    "                     ['single', 'singleZERR', 'singleXERR'])\n",
    "for geometry, cell in gcIterProd:\n",
    "        conditional_print(f\"{geometry}, {cell}...\\n\\t\", verbose, end=' ')\n",
    "        lattices = {}\n",
    "        #\n",
    "        for side in sizes:\n",
    "            lattices[side] = Lattice2D(#\n",
    "                side1 = side,\n",
    "                geo = geometry,\n",
    "                initNwDict = True,\n",
    "                sgpath='test_data', \n",
    "            )\n",
    "            lattices[side].flip_sel_edges(\n",
    "                lattices[side].nwDict[cell]['G']\n",
    "            )\n",
    "        #\n",
    "        eigvpath = f\"{lattices[side].lrgsgpath}eigV0_{cell}.npy\"\n",
    "        #\n",
    "        if os.path.exists(eigvpath):\n",
    "            conditional_print(\"File already exists.\", verbose)\n",
    "            continue\n",
    "        else:\n",
    "            conditional_print(\"computing... \", verbose)\n",
    "            lattices[side].compute_k_eigvV()\n",
    "            with open(eigvpath, 'wb') as f:\n",
    "                np.save(f, np.abs(lattices[side].eigV))\n",
    "            conditional_print(\"done.\", verbose)"
   ]
  },
  {
   "cell_type": "markdown",
   "metadata": {},
   "source": [
    "### No flip Signed Laplacian eigenvectors of a Squared Lattice"
   ]
  },
  {
   "cell_type": "code",
   "execution_count": null,
   "metadata": {},
   "outputs": [],
   "source": [
    "side = 50\n",
    "geo = 'squared'\n",
    "pbc = True\n",
    "Neigv = 10\n",
    "selEigv = 0"
   ]
  },
  {
   "cell_type": "code",
   "execution_count": null,
   "metadata": {},
   "outputs": [],
   "source": [
    "l = Lattice2D(side, geo=geo, pbc=pbc)\n",
    "l.compute_k_eigvV(howmany=Neigv)\n",
    "eigV = np.sign(l.eigV).reshape(Neigv, side, side)"
   ]
  },
  {
   "cell_type": "code",
   "execution_count": null,
   "metadata": {},
   "outputs": [],
   "source": [
    "fig, ax = plt.subplots(ncols=Neigv, figsize=(Neigv*5, 5))\n",
    "for i,axi in enumerate(ax):\n",
    "    axi.imshow(eigV[i], cmap='hot', interpolation=None)"
   ]
  }
 ],
 "metadata": {
  "kernelspec": {
   "display_name": "LRG-Signed",
   "language": "python",
   "name": "python3"
  },
  "language_info": {
   "codemirror_mode": {
    "name": "ipython",
    "version": 3
   },
   "file_extension": ".py",
   "mimetype": "text/x-python",
   "name": "python",
   "nbconvert_exporter": "python",
   "pygments_lexer": "ipython3",
   "version": "3.12.3"
  }
 },
 "nbformat": 4,
 "nbformat_minor": 2
}
