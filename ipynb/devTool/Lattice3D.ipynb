{
 "cells": [
  {
   "cell_type": "markdown",
   "metadata": {},
   "source": [
    "# Lattice3D: developer's guide and tools"
   ]
  },
  {
   "cell_type": "code",
   "execution_count": 1,
   "metadata": {},
   "outputs": [
    {
     "name": "stdout",
     "output_type": "stream",
     "text": [
      "Current working directory: /home/opisthofulax/PhD/projects/complex-networks/lrgsglib\n"
     ]
    }
   ],
   "source": [
    "%matplotlib inline\n",
    "from lrgsglib.core import *\n",
    "move_to_rootf(True)"
   ]
  },
  {
   "cell_type": "code",
   "execution_count": 25,
   "metadata": {},
   "outputs": [],
   "source": [
    "side = 50\n",
    "pdil = 0.78"
   ]
  },
  {
   "cell_type": "code",
   "execution_count": 26,
   "metadata": {},
   "outputs": [],
   "source": [
    "l_sw = Lattice3D(side, pdil=pdil)"
   ]
  },
  {
   "cell_type": "markdown",
   "metadata": {},
   "source": [
    "## Developing"
   ]
  },
  {
   "cell_type": "markdown",
   "metadata": {},
   "source": [
    "### ND BCC"
   ]
  },
  {
   "cell_type": "code",
   "execution_count": null,
   "metadata": {},
   "outputs": [],
   "source": [
    "import networkx as nx\n",
    "from itertools import product\n",
    "from typing import Union, Tuple, List\n",
    "\n",
    "# Cartesian Product Iterator for generating all nodes in the n-dimensional grid\n",
    "def cProd_Iter(dim: Union[int, Tuple]) -> iter:\n",
    "    return product(*[range(d) for d in dim])\n",
    "\n",
    "# Cartesian Product Iterator for selected dimensions in the n-dimensional grid\n",
    "def cProdSel_Iter(dim: Union[int, Tuple], selected_indices: Union[List, Tuple]) -> iter:\n",
    "    ranges = [range(dim[i]) for i in selected_indices]\n",
    "    return product(*ranges)\n",
    "\n",
    "# Function to generate an N-dimensional BCC lattice with periodic boundaries\n",
    "def LatticeND_graph_FastPatch(dim: Tuple[int, ...], periodic: bool = False):\n",
    "    \"\"\"\n",
    "    Generates an N-dimensional Body-Centered Cubic (BCC) lattice graph with optional periodic boundary conditions.\n",
    "\n",
    "    Parameters\n",
    "    ----------\n",
    "    dim : tuple of int\n",
    "        A tuple where each element specifies the size of the grid along a particular dimension.\n",
    "        For example, (2, 3, 4) represents a 3D grid with dimensions 2x3x4.\n",
    "\n",
    "    periodic : bool\n",
    "        If True, apply periodic boundary conditions along all dimensions.\n",
    "\n",
    "    Returns\n",
    "    -------\n",
    "    NetworkX Graph\n",
    "        An N-dimensional BCC lattice graph.\n",
    "    \"\"\"\n",
    "    # Raise an error if there's a dimension of size 2 in a 2D grid\n",
    "    if len(dim) == 2 and 2 in dim:\n",
    "        raise ValueError(\"A dimension of size 2 in a 2D grid can cause incorrect periodic edge handling.\")\n",
    "\n",
    "    G = nx.Graph()  # Create an empty undirected graph\n",
    "    num_dimensions = len(dim)\n",
    "\n",
    "    # Generate all nodes in the grid\n",
    "    nodes = list(cProd_Iter(dim))\n",
    "    G.add_nodes_from(nodes)\n",
    "\n",
    "    # Add nodes in the center of each hyperface (BCC nodes)\n",
    "    for pt in nodes:\n",
    "        # Create new BCC nodes by adding 0.5 to some of the coordinates, keeping at least one coordinate the same\n",
    "        for mask in product([0, 0.5], repeat=num_dimensions):\n",
    "            if sum(mask) == 0.5 * (num_dimensions - 1):\n",
    "                bcc_node = tuple(d + offset for d, offset in zip(pt, mask))\n",
    "                # Ensure the BCC node is within the valid dimension range\n",
    "                if all(0 <= n < dim[i] for i, n in enumerate(bcc_node)):\n",
    "                    G.add_node(bcc_node)\n",
    "                    # Connect the BCC node to the original point\n",
    "                    G.add_edge(pt, bcc_node)\n",
    "\n",
    "    # Direction vectors for creating edges to neighboring nodes (standard cubic lattice)\n",
    "    e_i = [tuple(1 if i == j else 0 for j in range(num_dimensions)) for i in range(num_dimensions)]\n",
    "\n",
    "    # Add edges between each node and its neighbors, including periodic boundaries if required\n",
    "    for pt in nodes:\n",
    "        # Standard edges to neighboring nodes\n",
    "        for drt in e_i:\n",
    "            # Calculate the neighbor's coordinates by adding the direction vector\n",
    "            neighbor = tuple((d + p) for d, p in zip(pt, drt))\n",
    "            # Handle non-periodic boundaries\n",
    "            if all(0 <= n < dim[i] for i, n in enumerate(neighbor)):\n",
    "                G.add_edge(pt, neighbor)\n",
    "            # Handle periodic boundaries if enabled\n",
    "            elif periodic:\n",
    "                neighbor = tuple((n % dim[i]) for i, n in enumerate(neighbor))\n",
    "                G.add_edge(pt, neighbor)\n",
    "\n",
    "    return G\n",
    "\n",
    "# Example usage\n",
    "dim = (3, 3, 3)  # Dimensions for a 3x3 grid\n",
    "periodic = True  # Set to True for periodic boundary conditions\n",
    "G = LatticeND_graph_FastPatch(dim, periodic)\n",
    "\n",
    "# Output some properties of the graph\n",
    "print(f\"Number of nodes: {G.number_of_nodes()}\")\n",
    "print(f\"Number of edges: {G.number_of_edges()}\")\n",
    "from lrgsglib.config.utils import project_3d_to_2d\n",
    "pos = {node: project_3d_to_2d(*node, theta=np.pi/3, phi=np.pi/4) for node in G.nodes()}"
   ]
  },
  {
   "cell_type": "markdown",
   "metadata": {},
   "source": [
    "### Degree sequence check"
   ]
  },
  {
   "cell_type": "code",
   "execution_count": null,
   "metadata": {},
   "outputs": [],
   "source": [
    "expectedDegrees = 6\n",
    "degree_count = {node: 0 for node in l.G.nodes()}\n",
    "# Iterate over all edges in the graph\n",
    "for u, v, data in l.G.edges(data=True):\n",
    "    # Check if the edge is of the desired type\n",
    "    degree_count[u] += 1\n",
    "    degree_count[v] += 1\n",
    "# degree_count now contains the degree of each node based on type 1 links only\n",
    "print(np.where(np.array(list(degree_count.values())) != expectedDegrees)[0])"
   ]
  },
  {
   "cell_type": "code",
   "execution_count": null,
   "metadata": {},
   "outputs": [],
   "source": [
    "class LatticeGenerator:\n",
    "    def __init__(self, dim, pbc=True):\n",
    "        self.dim = dim\n",
    "        self.pbc = pbc\n",
    "\n",
    "    def _wrap_coordinate(self, coord):\n",
    "        \"\"\"Wrap coordinates according to PBC and lattice dimensions.\"\"\"\n",
    "        return tuple(c % d for c, d in zip(coord, self.dim))\n",
    "\n",
    "    def _generate_fcc_lattice(self):\n",
    "        G = nx.Graph()\n",
    "        \n",
    "        # Offsets for FCC lattice to include face-centered points\n",
    "        fcc_offsets = [(0, 0, 0), (0.5, 0.5, 0), (0.5, 0, 0.5), (0, 0.5, 0.5)]\n",
    "\n",
    "        # Generate all nodes, considering PBC for wrapping\n",
    "        nodes = set(self._wrap_coordinate((x + ox, y + oy, z + oz))\n",
    "                    for x, y, z in product(range(self.dim[0]), range(self.dim[1]), range(self.dim[2]))\n",
    "                    for ox, oy, oz in fcc_offsets)\n",
    "\n",
    "        G.add_nodes_from(nodes)\n",
    "\n",
    "        # Pre-calculate wrapped neighbors for each node considering PBC\n",
    "        node_list = list(G.nodes())\n",
    "        for nd in node_list:\n",
    "            for ox, oy, oz in fcc_offsets:\n",
    "                for dx, dy, dz in [(-0.5, -0.5, 0), (-0.5, 0.5, 0), (0.5, -0.5, 0), (0.5, 0.5, 0),\n",
    "                                   (-0.5, 0, -0.5), (-0.5, 0, 0.5), (0.5, 0, -0.5), (0.5, 0, 0.5),\n",
    "                                   (0, -0.5, -0.5), (0, -0.5, 0.5), (0, 0.5, -0.5), (0, 0.5, 0.5)]:\n",
    "                    # Wrap neighbor coordinates considering PBC\n",
    "                    neighbor = self._wrap_coordinate((nd[0] + ox + dx, nd[1] + oy + dy, nd[2] + oz + dz))\n",
    "                    if neighbor in nodes and neighbor != nd:\n",
    "                        G.add_edge(nd, neighbor)\n",
    "\n",
    "        return G\n",
    "\n",
    "# Example usage\n",
    "dim = (4, 4, 4)  # Specify dimensions of the FCC lattice\n",
    "lattice_gen = LatticeGenerator(dim)\n",
    "G = lattice_gen._generate_fcc_lattice()\n",
    "\n",
    "print(f\"Number of nodes: {G.number_of_nodes()}\")\n",
    "print(f\"Number of edges: {G.number_of_edges()}\")"
   ]
  },
  {
   "cell_type": "markdown",
   "metadata": {},
   "source": [
    "## Tools"
   ]
  },
  {
   "cell_type": "markdown",
   "metadata": {},
   "source": [
    "### Cluster distribution"
   ]
  },
  {
   "cell_type": "code",
   "execution_count": null,
   "metadata": {},
   "outputs": [],
   "source": [
    "# init\n",
    "side = 10\n",
    "pflip = 0.19\n",
    "nAvg = 100\n",
    "distDict = Counter()\n",
    "#\n",
    "np.random.seed(0)\n",
    "random.seed(0)"
   ]
  },
  {
   "cell_type": "code",
   "execution_count": null,
   "metadata": {},
   "outputs": [],
   "source": [
    "# run\n",
    "for _ in range(nAvg):\n",
    "    l = Lattice3D(side, pflip=pflip, sgpath=\"test_data/\")\n",
    "    l.flip_random_fract_edges()\n",
    "    distDict += l.cluster_distribution()\n",
    "#\n",
    "basename = f\"clusterDistribution_p={pflip:.3g}_na={nAvg}.pkl\"\n",
    "fname = os.path.join(l.lrgsgpath, basename)\n",
    "with open(fname, 'wb') as f:\n",
    "    pk.dump(distDict, f)"
   ]
  },
  {
   "cell_type": "code",
   "execution_count": null,
   "metadata": {},
   "outputs": [],
   "source": [
    "# load and prepare\n",
    "test = pk.load(open(fname, 'rb'))\n",
    "k,v  = unzip_dict_items(test)\n",
    "arr = np.repeat(k, v)\n",
    "x, pdf = powerlaw.pdf(arr)"
   ]
  },
  {
   "cell_type": "code",
   "execution_count": null,
   "metadata": {},
   "outputs": [],
   "source": [
    "# plot\n",
    "fig, ax = plt.subplots(figsize=(7, 3.5))\n",
    "#\n",
    "ax.loglog(x[1:], pdf)\n",
    "ax.loglog(x[1:], x[1:]**(-2.18))\n",
    "#\n",
    "ax.set_xlabel(r\"$S$\")\n",
    "ax.set_ylabel(r\"$P(S)$\")\n",
    "#\n",
    "fig.tight_layout()"
   ]
  },
  {
   "cell_type": "markdown",
   "metadata": {},
   "source": [
    "### Network representation"
   ]
  },
  {
   "cell_type": "code",
   "execution_count": 36,
   "metadata": {},
   "outputs": [],
   "source": [
    "# init\n",
    "side = 4\n",
    "geo = 'sc'\n",
    "#\n",
    "pflip = 0.4\n",
    "theta = np.pi/3\n",
    "phi = np.pi/6\n",
    "kwargs = dict(pflip=pflip, theta=theta, phi=phi, with_positions=True, sgpath=\"test_data/\")"
   ]
  },
  {
   "cell_type": "code",
   "execution_count": 37,
   "metadata": {},
   "outputs": [],
   "source": [
    "# computations\n",
    "l = Lattice3D(side, geo, **kwargs)\n",
    "l.flip_random_fract_edges()\n",
    "l.load_eigV_on_graph(binarize=True)"
   ]
  },
  {
   "cell_type": "code",
   "execution_count": null,
   "metadata": {},
   "outputs": [],
   "source": [
    "fig, ax = plt.subplots(figsize=(5, 5))\n",
    "ax.set_aspect('equal')\n",
    "edgeColrs = ['blue' if l.G[u][v]['weight'] > 0 else 'r' \n",
    "             for u, v in l.G.edges()]\n",
    "nx.draw(l.G, ax=ax, pos=l.get_node_pos(), edge_color=edgeColrs, cmap='red_blue', \n",
    "        width=2, node_size=100, node_color=l.get_node_attr('eigV0'), \n",
    "        linewidths=0.5, edgecolors='k')"
   ]
  }
 ],
 "metadata": {
  "kernelspec": {
   "display_name": "LRG-Signed",
   "language": "python",
   "name": "python3"
  },
  "language_info": {
   "codemirror_mode": {
    "name": "ipython",
    "version": 3
   },
   "file_extension": ".py",
   "mimetype": "text/x-python",
   "name": "python",
   "nbconvert_exporter": "python",
   "pygments_lexer": "ipython3",
   "version": "3.12.3"
  }
 },
 "nbformat": 4,
 "nbformat_minor": 2
}
