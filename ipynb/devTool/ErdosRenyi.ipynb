{
 "cells": [
  {
   "cell_type": "markdown",
   "metadata": {},
   "source": [
    "### Spectral embedding tests ER graph"
   ]
  },
  {
   "cell_type": "code",
   "execution_count": 1,
   "metadata": {},
   "outputs": [
    {
     "name": "stdout",
     "output_type": "stream",
     "text": [
      "cwd: /home/opisthofulax/PhD/projects/complex-networks/LRG-Signed\n"
     ]
    }
   ],
   "source": [
    "%matplotlib inline\n",
    "#\n",
    "from lrgsglib.shared import *\n",
    "from lrgsglib.config.const import *\n",
    "from lrgsglib.nx_patches.funcs import signed_spectral_layout\n",
    "from lrgsglib.core import move_to_rootf,ErdosRenyi\n",
    "#\n",
    "move_to_rootf(print_tf=True)\n",
    "plt.style.use('ipynb/nb_plotsheet.mplstyle')"
   ]
  },
  {
   "cell_type": "code",
   "execution_count": null,
   "metadata": {},
   "outputs": [],
   "source": [
    "fig = plt.figure(figsize=(6.5, 4))\n",
    "l = ErdosRenyi(100, 0.1, pflip=0.1, init_nw_dict=True)\n",
    "l.flip_sel_edges(l.nwDict['randXERR']['G'])\n",
    "nx.draw(l.G, edge_color=l.get_edge_color(), node_size=10,width=0.5)"
   ]
  },
  {
   "cell_type": "code",
   "execution_count": 3,
   "metadata": {},
   "outputs": [],
   "source": [
    "from graph_tool.draw import graph_draw\n"
   ]
  },
  {
   "cell_type": "code",
   "execution_count": 11,
   "metadata": {},
   "outputs": [],
   "source": [
    "import graph_tool.all as gt\n",
    "from graph_tool.draw import graph_draw\n",
    "import numpy as np\n",
    "\n",
    "def generate_erdos_renyi(n, p):\n",
    "    # n is the number of vertices\n",
    "    # p is the probability of an edge between any two vertices\n",
    "    g = gt.random_graph(n, lambda: np.random.poisson(p * (n - 1)),\n",
    "                        directed=False,\n",
    "                        model=\"erdos\",\n",
    "                        n_iter=1)\n",
    "    return g\n",
    "n = 10000  # number of vertices\n",
    "p = 0.1  # probability of an edge\n",
    "g = generate_erdos_renyi(n, p)\n",
    "\n",
    "# Optionally, draw the graph\n",
    "# graph_draw(g, output_size=(500, 500))"
   ]
  },
  {
   "cell_type": "code",
   "execution_count": 4,
   "metadata": {},
   "outputs": [],
   "source": [
    "ergraph = ErdosRenyi(pflip=0.3, n=10**4, p=0.1, init_nw_dict=False)\n",
    "ergraph.flip_random_fract_edges()"
   ]
  }
 ],
 "metadata": {
  "kernelspec": {
   "display_name": "LRG-Signed",
   "language": "python",
   "name": "python3"
  },
  "language_info": {
   "codemirror_mode": {
    "name": "ipython",
    "version": 3
   },
   "file_extension": ".py",
   "mimetype": "text/x-python",
   "name": "python",
   "nbconvert_exporter": "python",
   "pygments_lexer": "ipython3",
   "version": "3.9.18"
  }
 },
 "nbformat": 4,
 "nbformat_minor": 2
}
