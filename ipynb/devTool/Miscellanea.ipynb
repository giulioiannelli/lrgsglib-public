{
 "cells": [
  {
   "cell_type": "code",
   "execution_count": 1,
   "metadata": {},
   "outputs": [],
   "source": [
    "def remove_empty_dirs(path):\n",
    "    import os\n",
    "    # Walk through the directory tree, from bottom to top, to ensure we remove empty subdirectories at all levels\n",
    "    for root, dirs, files in os.walk(path, topdown=False):\n",
    "        for dir in dirs:\n",
    "            dir_path = os.path.join(root, dir)\n",
    "            # Try to remove the subdirectories if empty\n",
    "            try:\n",
    "                os.rmdir(dir_path)\n",
    "                print(f\"Removed empty directory: {dir_path}\")\n",
    "            except OSError as e:\n",
    "                # Directory not empty or other error\n",
    "                print(e)\n"
   ]
  }
 ],
 "metadata": {
  "kernelspec": {
   "display_name": "LRG-Signed",
   "language": "python",
   "name": "python3"
  },
  "language_info": {
   "codemirror_mode": {
    "name": "ipython",
    "version": 3
   },
   "file_extension": ".py",
   "mimetype": "text/x-python",
   "name": "python",
   "nbconvert_exporter": "python",
   "pygments_lexer": "ipython3",
   "version": "3.9.18"
  }
 },
 "nbformat": 4,
 "nbformat_minor": 2
}
