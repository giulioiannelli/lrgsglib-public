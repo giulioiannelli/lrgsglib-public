{
 "cells": [
  {
   "cell_type": "code",
   "execution_count": 1,
   "metadata": {},
   "outputs": [
    {
     "name": "stdout",
     "output_type": "stream",
     "text": [
      "Current working directory: /home/opisthofulax/PhD/projects/complex-networks/lrgsglib\n"
     ]
    }
   ],
   "source": [
    "%load_ext autoreload\n",
    "%autoreload 2\n",
    "%matplotlib inline\n",
    "#\n",
    "from lrgsglib.core import *\n",
    "#\n",
    "move_to_rootf(print_tf=True)\n",
    "plt.style.use('ipynb/nb_plotsheet.mplstyle')\n",
    "#\n",
    "path_plot = PATHPLOT / Path('PhD')\n",
    "path_ene_plot_1 = path_plot / Path('ene_plot_1')\n",
    "path_suppinf = PATHPLOT / Path(PATHNPAPR, 'suppinf')\n",
    "path_extras = path_suppinf / Path('extras')\n",
    "path_tsb = path_extras / Path('tsb')"
   ]
  },
  {
   "cell_type": "markdown",
   "metadata": {},
   "source": [
    "### Energy plot"
   ]
  },
  {
   "cell_type": "code",
   "execution_count": 2,
   "metadata": {},
   "outputs": [],
   "source": [
    "side = 64\n",
    "pflip = 0.01\n",
    "T = 0.1\n",
    "pflip_list = [0.05, 0.08, 0.1, 0.2, 0.25, 0.35, 0.5]#[0.01, 0.05, 0.08, 0.1, 0.125, 0.2, 0.5]\n",
    "T_list = np.linspace(1/side**1.5, 2.5, num=6)\n",
    "seed = 0\n",
    "cell = 'rand'\n",
    "ic = \"ground_state_0\"\n",
    "ic_list = [\"uniform\", \"ground_state_0\", \"ground_state_1\", \"ground_state_2\", \"ground_state_10\", \"ground_state_50\"]"
   ]
  },
  {
   "cell_type": "code",
   "execution_count": 4,
   "metadata": {},
   "outputs": [],
   "source": [
    "ene = {}\n",
    "s_out = {}\n",
    "for pflip in pflip_list:\n",
    "    lattice = Lattice2D(side, pflip=pflip, init_nw_dict=True, path_data=path_plot, seed=seed)\n",
    "    lattice.flip_sel_edges(lattice.nwDict[cell]['G'])\n",
    "    lattice.compute_k_eigvV(100)\n",
    "    ene[pflip] = {}\n",
    "    s_out[pflip] = {}\n",
    "    for T in T_list:\n",
    "        ene[pflip][T] = {}\n",
    "        s_out[pflip][T] = {}\n",
    "        for ic in ic_list:\n",
    "            ic_shrt = ic.replace(\"ground_state_\", \"gs\")\n",
    "            outs = '_'.join([ic_shrt, cell, str(seed)])\n",
    "            outs_plus = '_'.join([f\"p={pflip:.3g}\", f\"T={T:.3g}\", outs])\n",
    "            sout_fname = lattice.path_ising / Path(f\"sout_{outs_plus}.bin\")\n",
    "            ene_fname = lattice.path_ising / Path(f\"ene_{outs_plus}.bin\")\n",
    "            if not (os.path.exists(sout_fname) and os.path.exists(ene_fname)):\n",
    "                isdy = IsingDynamics(lattice, T=T, ic=ic, runlang=\"C3\", out_suffix=f\"{outs}\")\n",
    "                isdy.init_ising_dynamics()\n",
    "                lattice.export_edgel_bin()\n",
    "                isdy.export_ising_clust(which=1, val=-1)\n",
    "                isdy.run(verbose=False, thrmSTEP=20)\n",
    "            s_out[pflip][T][ic] = np.fromfile(sout_fname, dtype=np.int8).reshape(-1, *lattice.syshape)\n",
    "            ene[pflip][T][ic] = np.fromfile(ene_fname, dtype=np.float64)*lattice.N/2"
   ]
  },
  {
   "cell_type": "code",
   "execution_count": 18,
   "metadata": {},
   "outputs": [
    {
     "data": {
      "text/plain": [
       "([0.01, 0.05, 0.08, 0.1, 0.125, 0.2, 0.5],\n",
       " array([1.95312500e-03, 5.01562500e-01, 1.00117188e+00, 1.50078125e+00,\n",
       "        2.00039063e+00, 2.50000000e+00]))"
      ]
     },
     "execution_count": 18,
     "metadata": {},
     "output_type": "execute_result"
    }
   ],
   "source": [
    "pflip_list, T_list"
   ]
  },
  {
   "cell_type": "code",
   "execution_count": 54,
   "metadata": {},
   "outputs": [],
   "source": [
    "figsize_ene = (8, 6*1.61)\n",
    "figsize_sout = (8, 6)\n",
    "eigV_col = credcblu\n",
    "inset_color = '#ffe1db'\n",
    "pflip = pflip_list[4]\n",
    "T = T_list[0]\n",
    "s_out_s = s_out[pflip][T]\n",
    "ene_s = ene[pflip][T]"
   ]
  },
  {
   "cell_type": "code",
   "execution_count": 55,
   "metadata": {},
   "outputs": [],
   "source": [
    "minene = 0\n",
    "maxene = min(ene_s[\"ground_state_50\"]/(2*lattice.N))\n",
    "fig_ene, ax_ene = plt.subplots(figsize=figsize_ene)\n",
    "\n",
    "yleft = False\n",
    "\n",
    "ax_right = ax_ene.twinx()\n",
    "if yleft:\n",
    "    ax_ene.set_ylabel(r\"$E/N$\")\n",
    "else:\n",
    "    ax_right.set_ylabel(r\"$E/N$\")\n",
    "    ax_ene.yaxis.set_ticks([])  # Remove ticks\n",
    "    ax_ene.yaxis.set_ticklabels([])  # Remove labels\n",
    "axplot = ax_ene if yleft else ax_right\n",
    "ax_ene.set_xlabel(r\"MC steps\")\n",
    "\n",
    "for ic in ic_list:\n",
    "    if ic == 'uniform':\n",
    "        ic_shrt = ic\n",
    "        ic_label = 'random'\n",
    "    else:\n",
    "        ic_shrt = ic.replace(\"ground_state_\", \"gs\")\n",
    "        ic_numer = ic.replace(\"ground_state_\", \"\")\n",
    "        ic_label = fr\"$\\vec{{\\sigma}}_0: \\ket{{\\lambda_{{{ic_numer}}}}}$\"\n",
    "    outs = '_'.join([ic_shrt, cell, str(seed)])\n",
    "    outs_plus = '_'.join([f\"p={pflip:.3g}\", f\"T={T:.3g}\", outs])\n",
    "    for i in [0, len(s_out_s[ic])//2, len(s_out_s[ic])-1]:\n",
    "        fig, ax = plt.subplots(figsize=figsize_sout)\n",
    "        ax.imshow(s_out_s[ic][i], cmap=eigV_col)\n",
    "        ax.axis('off')\n",
    "        fig.tight_layout()\n",
    "        fig.savefig(path_ene_plot_1 / Path(f'IsingDynState{side}_{outs_plus}_t={i}.pdf'), \n",
    "                    bbox_inches='tight', transparent=True)\n",
    "        plt.close(fig)\n",
    "    x = np.arange(len(ene_s[ic]))\n",
    "    indices = np.unique(np.logspace(0, np.log10(len(ene_s[ic]/(2*lattice.N))-1), num=1000, dtype=int))\n",
    "    axplot.plot(x[indices], (ene_s[ic]/(2*lattice.N))[indices], 'k-' if ic == 'uniform' else '-', label=ic_label, zorder=100 if ic == 'uniform' else None)\n",
    "    minene = min(minene, min(ene_s[ic]/(2*lattice.N)))\n",
    "axplot.set_xscale('symlog')\n",
    "\n",
    "zoomXrange = (80, len(ene_s[\"uniform\"]))\n",
    "zoomYrange = (1.005*minene, 0.95*maxene)  # Range of points to display in the inset\n",
    "inset_ax = axplot.inset_axes([0.225, 0.25, 0.75, 0.3], \n",
    "                         xlim=zoomXrange, ylim=zoomYrange, fc=inset_color,\n",
    "                         xticklabels=[], yticklabels=[], zorder=1000)  # Position and size of the inset\n",
    "\n",
    "for ic in ic_list:\n",
    "    x = np.arange(len(ene_s[ic]))\n",
    "    indices = np.unique(np.logspace(0, np.log10(len(ene_s[ic]/(2*lattice.N))-1), num=1000, dtype=int))\n",
    "    if ic == 'uniform':\n",
    "        inset_ax.plot(x[indices], (ene_s[ic]/(2*lattice.N))[indices], 'k-', label=ic, zorder=100)\n",
    "    else:\n",
    "        inset_ax.plot(x[indices], (ene_s[ic]/(2*lattice.N))[indices], '-', label=ic)\n",
    "\n",
    "mark_inset(axplot, inset_ax, loc1=4, loc2=3, fc=set_alpha_torgb(to_rgb(inset_color), 0.5), ec=\"k\")\n",
    "inset_ax.set_xscale('symlog')\n",
    "inset_ax.set_xticklabels([])\n",
    "# Enable minor ticks automatically\n",
    "inset_ax.tick_params(axis='x', which='both', bottom=False, top=False, length=4)\n",
    "inset_ax.tick_params(axis='y', which='both', left=False, right=False, length=4)\n",
    "\n",
    "inset_ax.patch.set_alpha(1)\n",
    "inset_ax.patch.set_facecolor(inset_color)\n",
    "#\n",
    "axplot.legend(ncol=2, fontsize=24)\n",
    "fig_ene.savefig(path_ene_plot_1 / Path(f'IsingDynEne{side}_{pflip:.3g}_{T:.3g}_{ic}_{cell}.pdf'), \n",
    "            bbox_inches='tight', transparent=True)\n",
    "plt.close('all')"
   ]
  },
  {
   "cell_type": "code",
   "execution_count": 51,
   "metadata": {},
   "outputs": [
    {
     "data": {
      "text/plain": [
       "(0.125, 1.001171875)"
      ]
     },
     "execution_count": 51,
     "metadata": {},
     "output_type": "execute_result"
    }
   ],
   "source": [
    "pflip, T"
   ]
  },
  {
   "cell_type": "markdown",
   "metadata": {},
   "source": [
    "### Phase Diagram Sketch"
   ]
  },
  {
   "cell_type": "code",
   "execution_count": 19,
   "metadata": {},
   "outputs": [],
   "source": [
    "lgeo = \"3D\"\n",
    "J = 1\n",
    "k_B = 1\n",
    "match lgeo:\n",
    "    case \"2D\":\n",
    "        p_c = 0.103\n",
    "        T_c = 2.27\n",
    "        T_max = 2.5\n",
    "    case \"3D\":\n",
    "        p_c = 0.22\n",
    "        T_c = 4.51\n",
    "        T_max = 5\n",
    "nishi_p = lambda T: 0.5 * (1 + np.exp(J / (k_B * T)))**(-1)\n",
    "nishi_T = lambda p: J * (k_B*np.log(1/(2*p)-1))**(-1)\n",
    "#\n",
    "p_max = 0.5\n",
    "TlinSpace = np.linspace(1e-2, T_max, 100)\n",
    "pSglinSpace = np.linspace(p_c, p_max)\n",
    "TSglinSpace = 0*np.ones(len(pSglinSpace))\n",
    "#\n",
    "critPoints = np.array([[0, p_c], [T_c, 0]])"
   ]
  },
  {
   "cell_type": "code",
   "execution_count": 20,
   "metadata": {},
   "outputs": [],
   "source": [
    "kwNishiLine = dict(ls='-.', lw=1, marker='', c='k', clip_on=True)\n",
    "kwCritPoints = dict(marker='o', c='r', clip_on=False, zorder=1e3)\n",
    "kwSgLine = dict(lw=2, ls='-', c='#8030ff', marker='', clip_on=False, zorder=9e1)\n",
    "#\n",
    "fig, ax = plt.subplots(figsize=(8, 5))\n",
    "#\n",
    "# ax.plot(nishi_p(TlinSpace), TlinSpace, **kwNishiLine)\n",
    "ax.scatter(*critPoints, **kwCritPoints)\n",
    "ax.plot(pSglinSpace, TSglinSpace, **kwSgLine)\n",
    "ax.set_ylim(0, T_max)\n",
    "ax.set_xlim(0, p_max)\n",
    "# |#\n",
    "ax.set_xticks([0, p_c, 0.5])\n",
    "ax.set_yticks([0, T_c])\n",
    "ax.set_xticklabels([r\"0\", r\"\\(p_{\\mathrm{c}}\\)\", r\"0.5\"])\n",
    "ax.set_yticklabels([r\"0\", r\"\\(T_{\\mathrm{c}}^{\\text{\\Large Ising}}\\)\"])\n",
    "#\n",
    "ax.tick_params(axis='both', which='both', labelsize=30)\n",
    "#\n",
    "# ax.text(p_max/2.25, T_max/2, r'\\emph{Nishimori Line}', fontsize=16)\n",
    "ax.text(p_c, 0.1, r'\\emph{Spin Glass}', c='#8030ff', fontsize=20)\n",
    "#\n",
    "fig.savefig(path_plot / Path(f'phase_diagram_{lgeo}.pdf'), \n",
    "            bbox_inches='tight', transparent=True)\n",
    "plt.close('all')"
   ]
  },
  {
   "cell_type": "markdown",
   "metadata": {},
   "source": [
    "#### states"
   ]
  },
  {
   "cell_type": "code",
   "execution_count": null,
   "metadata": {},
   "outputs": [],
   "source": [
    "match lgeo:\n",
    "    case \"2D\":\n",
    "        p_c = 0.103\n",
    "        T_c = 2.27\n",
    "        T_max = 2.5\n",
    "    case \"3D\":\n",
    "        p_c = 0.22\n",
    "        T_c = 4.51\n",
    "        T_max = 5"
   ]
  },
  {
   "cell_type": "code",
   "execution_count": 65,
   "metadata": {},
   "outputs": [],
   "source": [
    "side = 48\n",
    "pflip_list = [0.01, 0.05, 0.08, 0.12, 0.4]\n",
    "T_list = np.linspace(side**(-.5), T_c, 5)\n",
    "cell = 'rand'\n",
    "ic = \"uniform\""
   ]
  },
  {
   "cell_type": "code",
   "execution_count": null,
   "metadata": {},
   "outputs": [],
   "source": [
    "for pflip in pflip_list:\n",
    "    lattice = Lattice2D(side, pflip=pflip, init_nw_dict=True, path_data=path_plot, seed=0)\n",
    "    lattice.flip_sel_edges(lattice.nwDict[cell]['G'])\n",
    "    fig, ax = plt.subplots(ncols=len(T_list), figsize=(8, 8//len(T_list)))\n",
    "    for i,T in enumerate(T_list):\n",
    "        isdy = IsingDynamics(lattice, T=T, ic=ic, runlang=\"C3\", out_suffix=f\"{ic}_{cell}\")\n",
    "        isdy.init_ising_dynamics()\n",
    "        lattice.export_edgel_bin()\n",
    "        isdy.export_ising_clust(which=1, val=-1)\n",
    "        isdy.run(verbose=False, thrmSTEP=20)\n",
    "        # s_out = np.fromfile(lattice.path_ising / Path(f\"sout_p={pflip:.3g}_T={T:.3g}_{ic}_{cell}.bin\"), dtype=np.int8).reshape(-1, *lattice.syshape)\n",
    "        ax[i].imshow(isdy.s.reshape(*lattice.syshape), cmap='gray', origin='lower')\n",
    "        ax[i].axis('off')"
   ]
  },
  {
   "cell_type": "code",
   "execution_count": 82,
   "metadata": {},
   "outputs": [],
   "source": [
    "side = 64\n",
    "pflip = 0.1\n",
    "cell = 'rand'\n",
    "ic = \"uniform\"\n",
    "T_list = np.linspace(side**(-.5), 2.5, 5)"
   ]
  },
  {
   "cell_type": "code",
   "execution_count": 85,
   "metadata": {},
   "outputs": [],
   "source": [
    "lattice = Lattice2D(side, pflip=pflip, init_nw_dict=True, path_data=path_plot)\n",
    "lattice.flip_sel_edges(lattice.nwDict[cell]['G'])\n",
    "lattice.compute_k_eigvV(1)\n",
    "fig, ax = plt.subplots(figsize=(8, 8))\n",
    "ax.imshow(lattice.get_eigV_bin_check(0).reshape(*lattice.syshape), cmap='gray', origin='lower')\n",
    "ax.axis('off')\n",
    "fig.savefig(path_plot / Path(f'ising{side}eigV_{lgeo}_p={pflip:.3g}_T={T:.3g}_{ic}_{cell}.pdf'), \n",
    "            bbox_inches='tight', transparent=True)\n",
    "for i,T in enumerate(T_list):\n",
    "    isdy = IsingDynamics(lattice, T=T, ic=ic, runlang=\"C3\", out_suffix=f\"{ic}_{cell}\")\n",
    "    isdy.init_ising_dynamics()\n",
    "    lattice.export_edgel_bin()\n",
    "    isdy.run(verbose=False, thrmSTEP=20)\n",
    "# s_out = np.fromfile(lattice.path_ising / Path(f\"sout_p={pflip:.3g}_T={T:.3g}_{ic}_{cell}.bin\"), dtype=np.int8).reshape(-1, *lattice.syshape)\n",
    "    fig, ax = plt.subplots(figsize=(8, 8))\n",
    "    ax.imshow(isdy.s.reshape(*lattice.syshape), cmap='gray', origin='lower')\n",
    "    ax.axis('off')\n",
    "    fig.savefig(path_plot / Path(f'ising{side}_{lgeo}_p={pflip:.3g}_T={T:.3g}_{ic}_{cell}.pdf'), \n",
    "                bbox_inches='tight', transparent=True)\n",
    "plt.close('all')"
   ]
  },
  {
   "cell_type": "markdown",
   "metadata": {},
   "source": [
    "#### other states"
   ]
  },
  {
   "cell_type": "code",
   "execution_count": 5,
   "metadata": {},
   "outputs": [],
   "source": [
    "side = 16\n",
    "pflip = 0.01\n",
    "T = 0.1\n",
    "cell = 'rand'\n",
    "ic = \"ground_state_0\"\n",
    "ic_list = [\"uniform\", \"ground_state_0\", \"ground_state_1\", \"ground_state_2\", \"ground_state_10\", \"ground_state_50\"]"
   ]
  },
  {
   "cell_type": "code",
   "execution_count": null,
   "metadata": {},
   "outputs": [],
   "source": [
    "lattice = Lattice2D(side, pflip=pflip, init_nw_dict=True, path_data=path_plot, seed=0)\n",
    "lattice.flip_sel_edges(lattice.nwDict[cell]['G'])\n",
    "lattice.compute_k_eigvV(100)"
   ]
  },
  {
   "cell_type": "code",
   "execution_count": null,
   "metadata": {},
   "outputs": [],
   "source": [
    "ene = {}\n",
    "for ic in ic_list:\n",
    "    isdy = IsingDynamics(lattice, T=T, ic=ic, runlang=\"C3\", out_suffix=f\"{ic}_{cell}\")\n",
    "    isdy.init_ising_dynamics()\n",
    "    lattice.export_edgel_bin()\n",
    "    isdy.export_ising_clust(which=1, val=-1)\n",
    "    isdy.run(verbose=False, thrmSTEP=20)\n",
    "    s_out = np.fromfile(lattice.path_ising / Path(f\"sout_p={pflip:.3g}_T={T:.3g}_{ic}_{cell}.bin\"), dtype=np.int8).reshape(-1, *lattice.syshape)\n",
    "    # ene = [compute_energy_sum(s.flatten(), lattice.gr['G'].edges(data='weight')) for s in s_out]\n",
    "    ene[ic] = np.fromfile(lattice.path_ising / Path(f\"ene_p={pflip:.3g}_T={T:.3g}_{ic}_{cell}.bin\"), dtype=np.float64)*lattice.N/2\n",
    "    fig, ax = plt.subplots(ncols=4, figsize=(12, 3))\n",
    "    ax[0].imshow(s_out[0], cmap='binary')\n",
    "    ax[0].axis('off')\n",
    "    ax[1].imshow(s_out[len(s_out)//2], cmap='binary')\n",
    "    ax[1].axis('off')\n",
    "    ax[2].imshow(s_out[-1], cmap='binary')\n",
    "    ax[2].axis('off')\n",
    "    ax[3].plot(np.arange(1, len(ene[ic])+1), ene[ic])\n",
    "    ax[3].set_xscale('log')\n",
    "    fig.tight_layout()\n",
    "    # fig.savefig(path_plot / Path(f'IsingDyn_{side}_{pflip:.3g}_{T:.3g}_{ic}_{cell}.pdf'), \n",
    "    #             bbox_inches='tight', transparent=True)"
   ]
  }
 ],
 "metadata": {
  "kernelspec": {
   "display_name": "lrgsgenv",
   "language": "python",
   "name": "python3"
  },
  "language_info": {
   "codemirror_mode": {
    "name": "ipython",
    "version": 3
   },
   "file_extension": ".py",
   "mimetype": "text/x-python",
   "name": "python",
   "nbconvert_exporter": "python",
   "pygments_lexer": "ipython3",
   "version": "3.12.3"
  }
 },
 "nbformat": 4,
 "nbformat_minor": 2
}
