{
 "cells": [
  {
   "cell_type": "code",
   "execution_count": 1,
   "metadata": {},
   "outputs": [
    {
     "name": "stdout",
     "output_type": "stream",
     "text": [
      "cwd: /home/opisthofulax/PhD/projects/complex-networks/lrgsglib\n"
     ]
    }
   ],
   "source": [
    "%matplotlib inline\n",
    "#\n",
    "from LRGSG_package.LRGSG import *\n",
    "#\n",
    "move_to_rootf(print_tf=True)"
   ]
  },
  {
   "cell_type": "code",
   "execution_count": null,
   "metadata": {},
   "outputs": [],
   "source": [
    "l = Lattice3D(dim=(3, 3, 3), geo='bcc', pbc=True, pflip=0.2,\n",
    "              theta=np.pi/7, phi=np.pi/8,\n",
    "              with_positions=True)\n",
    "# l.flip_sel_edges(l.nwDict['rand']['G'])"
   ]
  },
  {
   "cell_type": "code",
   "execution_count": null,
   "metadata": {},
   "outputs": [],
   "source": [
    "fig, ax = plt.subplots(figsize=(10, 10))\n",
    "ax.set_aspect('equal')\n",
    "# l._set_positions(np.pi/3, np.pi/6)\n",
    "colors = ['blue' if l.G[u][v]['type'] == 'link' else 'k' for u, v in l.G.edges()]\n",
    "\n",
    "nx.draw(l.G, pos=l.get_node_pos(), edge_color=colors, cmap='red_blue', width=2, node_size=40, with_labels=True)"
   ]
  },
  {
   "cell_type": "code",
   "execution_count": null,
   "metadata": {},
   "outputs": [],
   "source": [
    "degree_count = {node: 0 for node in l.G.nodes()}\n",
    "\n",
    "# Iterate over all edges in the graph\n",
    "for u, v, data in l.G.edges(data=True):\n",
    "    # Check if the edge is of the desired type\n",
    "    if data.get('type') == 'link':\n",
    "        # If so, increment the degree count for both nodes connected by this edge\n",
    "        degree_count[u] += 1\n",
    "        degree_count[v] += 1\n",
    "\n",
    "# degree_count now contains the degree of each node based on type 1 links only\n",
    "print(np.where(np.array(list(degree_count.values())) <8)[0])"
   ]
  },
  {
   "cell_type": "code",
   "execution_count": null,
   "metadata": {},
   "outputs": [],
   "source": [
    "list(degree_count.values())"
   ]
  },
  {
   "cell_type": "code",
   "execution_count": null,
   "metadata": {},
   "outputs": [],
   "source": [
    "list(l.G.nodes())"
   ]
  },
  {
   "cell_type": "code",
   "execution_count": null,
   "metadata": {},
   "outputs": [],
   "source": [
    "np.array(list(l.G.nodes))[np.where(np.array(list(degree_count.values())) != 8)[0]]"
   ]
  },
  {
   "cell_type": "code",
   "execution_count": null,
   "metadata": {},
   "outputs": [],
   "source": [
    "dict(l.G.degree()).values()"
   ]
  },
  {
   "cell_type": "code",
   "execution_count": null,
   "metadata": {},
   "outputs": [],
   "source": [
    "import numpy as np\n",
    "import networkx as nx\n",
    "from itertools import product\n",
    "\n",
    "class LatticeGenerator:\n",
    "    def __init__(self, dim, pbc=True):\n",
    "        self.dim = dim\n",
    "        self.pbc = pbc\n",
    "\n",
    "    def _wrap_coordinate(self, coord):\n",
    "        \"\"\"Wrap coordinates according to PBC and lattice dimensions.\"\"\"\n",
    "        return tuple(c % d for c, d in zip(coord, self.dim))\n",
    "\n",
    "    def _generate_fcc_lattice(self):\n",
    "        G = nx.Graph()\n",
    "        \n",
    "        # Offsets for FCC lattice to include face-centered points\n",
    "        fcc_offsets = [(0, 0, 0), (0.5, 0.5, 0), (0.5, 0, 0.5), (0, 0.5, 0.5)]\n",
    "\n",
    "        # Generate all nodes, considering PBC for wrapping\n",
    "        nodes = set(self._wrap_coordinate((x + ox, y + oy, z + oz))\n",
    "                    for x, y, z in product(range(self.dim[0]), range(self.dim[1]), range(self.dim[2]))\n",
    "                    for ox, oy, oz in fcc_offsets)\n",
    "\n",
    "        G.add_nodes_from(nodes)\n",
    "\n",
    "        # Pre-calculate wrapped neighbors for each node considering PBC\n",
    "        node_list = list(G.nodes())\n",
    "        for nd in node_list:\n",
    "            for ox, oy, oz in fcc_offsets:\n",
    "                for dx, dy, dz in [(-0.5, -0.5, 0), (-0.5, 0.5, 0), (0.5, -0.5, 0), (0.5, 0.5, 0),\n",
    "                                   (-0.5, 0, -0.5), (-0.5, 0, 0.5), (0.5, 0, -0.5), (0.5, 0, 0.5),\n",
    "                                   (0, -0.5, -0.5), (0, -0.5, 0.5), (0, 0.5, -0.5), (0, 0.5, 0.5)]:\n",
    "                    # Wrap neighbor coordinates considering PBC\n",
    "                    neighbor = self._wrap_coordinate((nd[0] + ox + dx, nd[1] + oy + dy, nd[2] + oz + dz))\n",
    "                    if neighbor in nodes and neighbor != nd:\n",
    "                        G.add_edge(nd, neighbor)\n",
    "\n",
    "        return G\n",
    "\n",
    "# Example usage\n",
    "dim = (4, 4, 4)  # Specify dimensions of the FCC lattice\n",
    "lattice_gen = LatticeGenerator(dim)\n",
    "G = lattice_gen._generate_fcc_lattice()\n",
    "\n",
    "print(f\"Number of nodes: {G.number_of_nodes()}\")\n",
    "print(f\"Number of edges: {G.number_of_edges()}\")\n"
   ]
  },
  {
   "cell_type": "code",
   "execution_count": null,
   "metadata": {},
   "outputs": [],
   "source": [
    "dict(G.degree()).values()"
   ]
  },
  {
   "cell_type": "code",
   "execution_count": null,
   "metadata": {},
   "outputs": [],
   "source": []
  }
 ],
 "metadata": {
  "kernelspec": {
   "display_name": "LRG-Signed",
   "language": "python",
   "name": "python3"
  },
  "language_info": {
   "codemirror_mode": {
    "name": "ipython",
    "version": 3
   },
   "file_extension": ".py",
   "mimetype": "text/x-python",
   "name": "python",
   "nbconvert_exporter": "python",
   "pygments_lexer": "ipython3",
   "version": "3.12.3"
  }
 },
 "nbformat": 4,
 "nbformat_minor": 2
}
