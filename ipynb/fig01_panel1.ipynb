{
 "cells": [
  {
   "cell_type": "markdown",
   "metadata": {},
   "source": [
    "# Panel 1"
   ]
  },
  {
   "cell_type": "markdown",
   "metadata": {},
   "source": [
    "### Packages"
   ]
  },
  {
   "cell_type": "code",
   "execution_count": 1,
   "metadata": {},
   "outputs": [
    {
     "name": "stdout",
     "output_type": "stream",
     "text": [
      "cwd: /home/opisthofulax/PhD/projects/complex-networks/LRG-Signed\n"
     ]
    }
   ],
   "source": [
    "%matplotlib inline\n",
    "#\n",
    "from lrgsglib.config.plotlib import scheme_Lattice2DSquared\n",
    "from lrgsglib.config.utils import extract_and_sort_values\n",
    "from lrgsglib.core import *\n",
    "#\n",
    "move_to_rootf(print_tf=True)\n",
    "plt.style.use('ipynb/nb_plotsheet.mplstyle')\n",
    "#\n",
    "subdatapath = os.path.join('plot', 'paper', 'panel_1/')\n",
    "fullpath = os.path.join(\"data\", subdatapath)"
   ]
  },
  {
   "cell_type": "markdown",
   "metadata": {},
   "source": [
    "### Fig. a (lattice)"
   ]
  },
  {
   "cell_type": "code",
   "execution_count": 2,
   "metadata": {},
   "outputs": [],
   "source": [
    "side = 7\n",
    "fig, ax = plt.subplots(figsize=(8, 8))\n",
    "#\n",
    "ax.axis(\"off\")\n",
    "ax.set_aspect('equal')\n",
    "#\n",
    "scheme_Lattice2DSquared(ax, side1=side, pec=cred, cpec=cblu, mode='rand')\n",
    "#\n",
    "fig.savefig(f\"{fullpath}disordered_grid{side}.pdf\",\n",
    "    bbox_inches=\"tight\", pad_inches=-0.5,\n",
    ")\n",
    "plt.close('all')"
   ]
  },
  {
   "cell_type": "markdown",
   "metadata": {},
   "source": [
    "### Fig. b ($C$ specific heat)"
   ]
  },
  {
   "cell_type": "code",
   "execution_count": 3,
   "metadata": {},
   "outputs": [],
   "source": [
    "side = 64\n",
    "number_of_averages = 256\n",
    "out_suffix = \"\"\n",
    "fname = \"avgC_\"\n",
    "plist = [0, 0.0204, 0.102, 0.204]#0.408\n",
    "#\n",
    "# Choose a colormap\n",
    "cmap = plt.cm.twilight\n",
    "colors = cmap(np.linspace(0.2, 0.7, len(plist)))\n",
    "# Set these colors as the default color cycle\n",
    "plt.rcParams[\"axes.prop_cycle\"] = plt.cycler(color=colors)\n",
    "#\n",
    "fig, ax = plt.subplots(figsize=(8, 8))\n",
    "#\n",
    "for p in plist:\n",
    "    sqlatt = Lattice2D(side1=side, pflip=p, sgpath=subdatapath)\n",
    "    sla = SignedLaplacianAnalysis(sqlatt, initspect=False)\n",
    "    #\n",
    "    fsfx = f\"{number_of_averages}_p={sqlatt.pflip:.3g}_{out_suffix}\"\n",
    "    file_path = f\"{sqlatt.lrgsgpath}{fname}{fsfx}.npz\"\n",
    "    meanfname = f\"{sqlatt.lrgsgpath}meancurve_{fname}{fsfx}.npy\"\n",
    "    stdfname = f\"{sqlatt.lrgsgpath}stddev_{fname}{fsfx}.npy\"\n",
    "    #\n",
    "    if os.path.exists(meanfname) and os.path.exists(stdfname):\n",
    "        mean_curve = np.load(meanfname)\n",
    "        std_dev = np.load(stdfname)\n",
    "    else:\n",
    "        #\n",
    "        ld_f = np.load(file_path)\n",
    "        ld_arr = [\n",
    "            ld_f[f\"arr_{i}\"] for i in range(number_of_averages)\n",
    "        ]\n",
    "        ld_f.close()\n",
    "        mean_curve = np.mean(ld_arr, axis=0)\n",
    "        std_dev = np.std(ld_arr, axis=0)\n",
    "        with open(meanfname, 'wb') as f:\n",
    "            np.save(f, mean_curve)\n",
    "        with open(stdfname, 'wb') as f:\n",
    "            np.save(f, std_dev)\n",
    "    mean_curve = gaussian_filter1d(mean_curve[50:-100], sigma=3)  # sigma can be adjusted based on data characteristics\n",
    "    std_dev = std_dev[50:-100]\n",
    "    tau = sla.tTsC[50:-100]\n",
    "    (line,) = ax.plot(tau, mean_curve)\n",
    "    # for imax in argrelextrema(mean_curve, np.greater)[0]:\n",
    "    imax = argrelextrema(mean_curve, np.greater)[0][0]\n",
    "    ax.axvline(tau[imax], ls=':', color=line.get_color())\n",
    "    ax.fill_between(\n",
    "        tau,\n",
    "        np.maximum((mean_curve - std_dev), 0),\n",
    "        (mean_curve + std_dev),\n",
    "        color=line.get_color(),\n",
    "        alpha=0.35,\n",
    "        zorder=line.get_zorder() - 1,\n",
    "        label=rf\"$p={p:.3f}$\",\n",
    "    )\n",
    "\n",
    "ax.set_xscale(\"log\")\n",
    "ax.set_ylabel(r\"$\\avg{C}\\log N$\")\n",
    "ax.set_xlabel(r\"$\\tau$\")\n",
    "ax.legend(fontsize=24, loc=\"upper left\")\n",
    "ax.xaxis.get_major_locator().set_params(numticks=8)\n",
    "ax.xaxis.get_minor_locator().set_params(\n",
    "    numticks=10, subs=[0.2, 0.3, 0.4, 0.5, 0.6, 0.7, 0.8, 0.9]\n",
    ")\n",
    "ax.set_xlim([1.5e-2, 3e4])\n",
    "fig.savefig(\n",
    "    f\"{fullpath}avgC{side}_{number_of_averages}.pdf\",\n",
    "    bbox_inches=\"tight\"\n",
    ")\n",
    "plt.close('all')"
   ]
  },
  {
   "cell_type": "markdown",
   "metadata": {},
   "source": [
    "### Fig. c ($\\tau_{\\max}^{(0)}$ distribution)"
   ]
  },
  {
   "cell_type": "code",
   "execution_count": 4,
   "metadata": {},
   "outputs": [],
   "source": [
    "side = 45\n",
    "navg = 20000\n",
    "sqlatt = Lattice2D(side1=side, sgpath=\"plot/paper/panel_1/\")\n",
    "#\n",
    "plist = extract_and_sort_values(sqlatt.lrgsgpath, search_pattern=r\"p=([\\d.]+)\", sort=True)\n",
    "tll = 0.098\n",
    "tul = 0.105\n",
    "#\n",
    "to_slice_1 = [1, 28]\n",
    "slice_1 = first_index_changing_condition(plist < tll)\n",
    "slice_2 = first_index_changing_condition(plist < tul)\n",
    "slice_2_to_end = len(plist)-slice_2\n",
    "slice_full = np.r_[0,\n",
    "                   slice_1:slice_2, \n",
    "                   slice_2:len(plist):slice_2_to_end//4]\n",
    "plist = plist[slice_full]\n",
    "#\n",
    "plistmid = plist[(tll < plist) & (plist < tul)]\n",
    "plistmid_len = len(plistmid)\n",
    "plisteff_len = len(plist)-plistmid_len"
   ]
  },
  {
   "cell_type": "code",
   "execution_count": 5,
   "metadata": {},
   "outputs": [
    {
     "name": "stderr",
     "output_type": "stream",
     "text": [
      "/tmp/ipykernel_95917/1284101921.py:22: RuntimeWarning: divide by zero encountered in log\n",
      "  energy = -np.log(y_normalized)\n"
     ]
    }
   ],
   "source": [
    "fig, ax = plt.subplots(figsize=(7.5, 7.5))\n",
    "\n",
    "#\n",
    "cmap = plt.cm.twilight\n",
    "cmap_val = cmap(np.linspace(0.2, 0.8, len(plist)))\n",
    "custom_cmap = LinearSegmentedColormap.from_list(\"custom_twilight\", cmap_val)\n",
    "cmap_tra = create_custom_colormap(c1=\"#02a618\", c2=\"#00eeff\")\n",
    "cmap_nrm = Normalize(vmin=min(plist), vmax=max(plist))\n",
    "#\n",
    "ax.set_ylabel(r\"$-\\log[P(\\tau_{\\max}^{(0)})]$\")\n",
    "ax.set_xlabel(r\"$\\tau_{\\max}^{(0)}$\")\n",
    "#\n",
    "cntr = 1\n",
    "for i, p in enumerate(plist):\n",
    "    taumax = np.fromfile(f\"{sqlatt.lrgsgpath}tau_max0_avg{navg}_p={p:.3g}.bin\")\n",
    "    bin_centers, hist, bw = log_binning(taumax, 25)\n",
    "    #\n",
    "    pch = pchip(bin_centers, hist)\n",
    "    xx = np.linspace(bin_centers[0], bin_centers[-1], 1000)\n",
    "    total_area = np.trapz(pch(xx), x=xx)\n",
    "    y_normalized = pch(xx) / total_area\n",
    "    energy = -np.log(y_normalized)\n",
    "    energy[energy == np.inf] = 100\n",
    "    #\n",
    "    if tll < p < tul:\n",
    "        kwargs = {'color': cmap_tra(cntr/plistmid_len), 'zorder': 100, \n",
    "                  'label': fr'${p:.3g}$', 'lw': 2}\n",
    "        cntr += 1\n",
    "        ax.axvline(xx[np.argmin(energy[~np.isnan(energy)])], ls=':', lw=2, color=cmap_tra(cntr/plistmid_len), zorder=200)\n",
    "    else:\n",
    "        kwargs = {'color': cmap_val[i], 'zorder': i, \n",
    "                  'label': '', 'lw': 2}\n",
    "        ax.axvline(xx[np.argmin(energy[~np.isnan(energy)])], ls=':', lw=2, color=cmap_val[i], zorder=100)\n",
    "    #\n",
    "    ax.plot(xx, energy, '-', **kwargs)\n",
    "ax.set_ybound(lower=-4, upper=20)\n",
    "ax.set_xscale('log')\n",
    "#\n",
    "cbar_ax = fig.add_axes([0.2, 0.89, 0.7, 0.04])\n",
    "clb = fig.colorbar(ScalarMappable(norm=cmap_nrm, cmap=custom_cmap), cax=cbar_ax, orientation='horizontal')\n",
    "# clb.ax.set_title(r'$p$', pad=10)\n",
    "for i, p in enumerate(plist[(tll < plist) & (tul > plist)]):\n",
    "    cbar_ax.plot(p, 0.5, 'H', mec='k', ms=15, \n",
    "                mfc = set_alpha_torgb(cmap_tra(i/plistmid_len), 0.8))\n",
    "cbar_ax.xaxis.set_ticks_position('top')\n",
    "cbar_ax.set_ylabel(r'$p$', rotation=360, labelpad=25)\n",
    "ylabel = cbar_ax.yaxis.get_label()\n",
    "x, y = ylabel.get_position()\n",
    "ylabel.set_position((x, y - .6))  # This moves the label up\n",
    "\n",
    "cbar_ax.tick_params(axis='x', which='both', length=5, labelsize=22) \n",
    "\n",
    "#\n",
    "fig.savefig(f'{fullpath}squared_lattice_taumaxdistri.pdf', \n",
    "            bbox_inches='tight')\n",
    "plt.close('all')"
   ]
  }
 ],
 "metadata": {
  "kernelspec": {
   "display_name": "LRG-Signed",
   "language": "python",
   "name": "python3"
  },
  "language_info": {
   "codemirror_mode": {
    "name": "ipython",
    "version": 3
   },
   "file_extension": ".py",
   "mimetype": "text/x-python",
   "name": "python",
   "nbconvert_exporter": "python",
   "pygments_lexer": "ipython3",
   "version": "3.9.18"
  }
 },
 "nbformat": 4,
 "nbformat_minor": 2
}
