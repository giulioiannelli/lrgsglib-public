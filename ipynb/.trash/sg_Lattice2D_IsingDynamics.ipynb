{
 "cells": [
  {
   "cell_type": "code",
   "execution_count": 1,
   "metadata": {},
   "outputs": [
    {
     "name": "stdout",
     "output_type": "stream",
     "text": [
      "Current working directory: /home/opisthofulax/PhD/projects/complex-networks/lrgsglib\n"
     ]
    }
   ],
   "source": [
    "%matplotlib inline\n",
    "#\n",
    "from lrgsglib.core import *\n",
    "from lrgsglib.config.plotlib import imshow_colorbar_caxdivider, generate_maxpercdiff_colormap\n",
    "from lrgsglib.config.utils import move_to_rootf, width_interval, dv, boolean_overlap_fraction\n",
    "from lrgsglib.nx_patches.funcs import signed_spectral_layout, get_kth_order_neighbours\n",
    "#\n",
    "move_to_rootf()"
   ]
  },
  {
   "cell_type": "code",
   "execution_count": 5,
   "metadata": {},
   "outputs": [],
   "source": [
    "side = 50\n",
    "pflip = 0.\n",
    "T_ising = 0.\n",
    "IMPORT = False\n",
    "if IMPORT:\n",
    "    args = {'import_on': True}\n",
    "else:\n",
    "    args = {}\n",
    "\n",
    "# os.makedirs(f\"data/l2d_sq_ising/graphs/N={side**2}/\", exist_ok=True)\n",
    "# os.makedirs(f\"data/l2d_sq_ising/N={side**2}/\", exist_ok=True)\n",
    "sqlatt = Lattice2D(\n",
    "    side1=side,\n",
    "    geo=\"squared\",\n",
    "    pflip=pflip,\n",
    "    **args\n",
    ")\n",
    "# lrgsg = SignedLaplacianAnalysis(  #\n",
    "#     system=sqlatt, \n",
    "#     initCond=\"all_1\", \n",
    "#     t_steps=10, \n",
    "#     no_obs=200\n",
    "# )\n",
    "# # middlenode = theLattice.N//2+theLattice.side1//2\n",
    "# # neg_weightsH = {(middlenode, middlenode+1): -1}\n",
    "# # theLattice.flip_sel_edges(neg_weightsH, 'H')\n",
    "# #\n",
    "ising_dyn = IsingDynamics(\n",
    "    sg=sqlatt, \n",
    "    T=T_ising, \n",
    "    nstepsIsing=1000, \n",
    "    ic=\"uniform\",\n",
    "    runlang=\"C0\", \n",
    "    # NoClust = 5\n",
    ")\n",
    "if not sqlatt.import_on:\n",
    "    sqlatt.flip_random_fract_edges()\n",
    "    sqlatt.export_graph(MODE=\"pickle\")\n",
    "    sqlatt.export_adj_bin()\n"
   ]
  },
  {
   "cell_type": "code",
   "execution_count": 6,
   "metadata": {},
   "outputs": [],
   "source": [
    "ising_dyn.init_ising_dynamics()\n",
    "# ising_dyn.find_ising_clusters(\n",
    "#     import_cl = IMPORT\n",
    "# )\n",
    "# ising_dyn.mapping_nodes_to_clusters()"
   ]
  },
  {
   "cell_type": "code",
   "execution_count": 8,
   "metadata": {},
   "outputs": [],
   "source": [
    "ising_dyn.id_string_isingdyn = ''\n",
    "for i in range(10):\n",
    "    ising_dyn.run()"
   ]
  },
  {
   "cell_type": "code",
   "execution_count": null,
   "metadata": {},
   "outputs": [],
   "source": [
    "for i in range(5):\n",
    "    outclstr = f\"data/l2d_squared/ising/N={sqlatt.N}/outcl{i}_sqr_p={pflip}_T={ising_dyn.T}_\\\"{ising_dyn.id_string_isingdyn}\\\".txt\"\n",
    "    a = np.loadtxt(outclstr)\n",
    "    plt.plot(np.abs(a[:, 0]), lw=1, label=f\"eigv{i}\")\n",
    "plt.legend()\n",
    "plt.ylim(0, 1)\n",
    "tit = f\"N={sqlatt.N}_T={ising_dyn.T:.3g}_p={sqlatt.pflip:.3g}\"\n",
    "plt.title(tit)\n",
    "plt.savefig(f\"data/plot/eigenv_{tit}.png\", dpi=150)"
   ]
  },
  {
   "cell_type": "code",
   "execution_count": null,
   "metadata": {},
   "outputs": [],
   "source": [
    "enepath = f\"{sqlatt.isingpath}s_{sqlatt.stdFname}_T={ising_dyn.T}_{ising_dyn.id_string_isingdyn}.bin\"\n",
    "ene = np.fromfile(enepath, dtype=float)\n",
    "plt.plot(ene[:100], 'red')"
   ]
  },
  {
   "cell_type": "markdown",
   "metadata": {},
   "source": [
    "---------------"
   ]
  },
  {
   "cell_type": "markdown",
   "metadata": {},
   "source": [
    "### Energy comparison"
   ]
  },
  {
   "cell_type": "code",
   "execution_count": null,
   "metadata": {},
   "outputs": [],
   "source": [
    "%matplotlib inline\n",
    "#\n",
    "from lrgsglib.core import *\n",
    "from lrgsglib.core_plots import imshow_colorbar_caxdivider, generate_maxpercdiff_colormap\n",
    "from lrgsglib.core_utils import move_to_rootf, width_interval, dv, boolean_overlap_fraction\n",
    "from LRGSG_package.nx_patches import signed_spectral_layout, get_kth_order_neighbours\n",
    "#\n",
    "move_to_rootf(print_tf=True)"
   ]
  },
  {
   "cell_type": "code",
   "execution_count": null,
   "metadata": {},
   "outputs": [],
   "source": [
    "side = 64\n",
    "pflip = 0.15\n",
    "T_ising = 0.1\n",
    "replica = 1\n",
    "NoEigen = 5\n",
    "#\n",
    "sqlatt = Lattice2D(\n",
    "        side1=side,\n",
    "        geometry=\"squared\",\n",
    "        pflip=pflip,\n",
    "    )\n",
    "sqlatt.flip_random_fract_edges()"
   ]
  },
  {
   "cell_type": "code",
   "execution_count": null,
   "metadata": {},
   "outputs": [],
   "source": [
    "energies = []\n",
    "for rep in range(replica):\n",
    "    np.random.seed(rep)\n",
    "    random.seed(rep)\n",
    "    INIT_COND = f\"ground_state_{rep}\" if rep < NoEigen else \"uniform\"\n",
    "    print(rep, INIT_COND)\n",
    "    ising_dyn = IsingDynamics(\n",
    "        sg=sqlatt, \n",
    "        T=T_ising, \n",
    "        nstepsIsing=10000, \n",
    "        ic=INIT_COND,\n",
    "        runlang=\"py\", \n",
    "    )\n",
    "    ising_dyn.init_ising_dynamics()\n",
    "    ising_dyn.run()\n",
    "    # print(ising_dyn.s.reshape(5, 5))\n",
    "    energies.append(np.array(ising_dyn.ene))"
   ]
  },
  {
   "cell_type": "code",
   "execution_count": null,
   "metadata": {},
   "outputs": [],
   "source": [
    "plt.imshow(ising_dyn.s.reshape(sqlatt.syshape))"
   ]
  },
  {
   "cell_type": "code",
   "execution_count": null,
   "metadata": {},
   "outputs": [],
   "source": [
    "plt.imshow(ising_dyn.s.reshape(sqlatt.syshape) - sqlatt.bin_eigV().reshape(sqlatt.syshape))"
   ]
  },
  {
   "cell_type": "code",
   "execution_count": null,
   "metadata": {},
   "outputs": [],
   "source": [
    "plt.imshow(sqlatt.bin_eigV().reshape(sqlatt.syshape))"
   ]
  },
  {
   "cell_type": "code",
   "execution_count": null,
   "metadata": {},
   "outputs": [],
   "source": [
    "mine = np.array(energies).flatten().min()\n",
    "plt.plot(energies[0]-mine, 'k--')\n",
    "for i,e in enumerate(energies[1:]):\n",
    "    plt.plot(e-mine, 'red' if i < NoEigen-1 else 'blue')\n",
    "plt.yscale('log')\n",
    "plt.xscale('log')"
   ]
  },
  {
   "cell_type": "code",
   "execution_count": null,
   "metadata": {},
   "outputs": [],
   "source": [
    "sqlatt.export_graph(MODE=\"pickle\")\n",
    "sqlatt.export_adj_bin()\n",
    "\n",
    "energies = []\n",
    "for rep in range(replica):\n",
    "    np.random.seed(rep)\n",
    "    random.seed(rep)\n",
    "    INIT_COND = f\"ground_state_{rep}\" if rep < NoEigen else \"uniform\"\n",
    "    print(rep, INIT_COND)\n",
    "    ising_dyn = IsingDynamics(\n",
    "        system=sqlatt, \n",
    "        T=T_ising, \n",
    "        nstepsIsing=100, \n",
    "        IsingIC=INIT_COND,\n",
    "        MODE_RUN=\"C0\", \n",
    "    )\n",
    "    ising_dyn.init_ising_dynamics()\n",
    "    ising_dyn.run()\n",
    "    enepath = f\"{sqlatt.isingpath}ene_{sqlatt.stdFname}_T={ising_dyn.T}_{ising_dyn.id_string_isingdyn}.bin\"\n",
    "    ene = np.fromfile(enepath, dtype=float)\n",
    "    energies.append(ene)"
   ]
  },
  {
   "cell_type": "code",
   "execution_count": null,
   "metadata": {},
   "outputs": [],
   "source": [
    "mine = np.array(energies).flatten().min()\n",
    "\n",
    "plt.plot(energies[0]-mine, 'k--')\n",
    "for i,e in enumerate(energies[1:]):\n",
    "    plt.plot(e-mine, 'red' if i < NoEigen-1 else 'blue')\n",
    "plt.yscale('log')\n",
    "plt.xscale('log')\n",
    "# plt.xlim(1, 100)"
   ]
  },
  {
   "cell_type": "code",
   "execution_count": null,
   "metadata": {},
   "outputs": [],
   "source": [
    "\n",
    "\n",
    "\n",
    "nmax = 100\n",
    "extra_randinit = 5\n",
    "initIS = 'spectrum_5'\n",
    "\n",
    "def neigh_weight_magn(m, node_dict) -> list:\n",
    "    return [w[\"weight\"] * m[nn] for nn, w in node_dict.items()]\n",
    "\n",
    "def calcEnergy(m, H=sqlatt.H):\n",
    "    energy = 0\n",
    "    for i in range(sqlatt.N):\n",
    "        neigh=neigh_weight_magn(m, dict(H[i]))\n",
    "        energy += m[i]*np.sum(neigh)\n",
    "    return -energy/4.\n",
    "def __uniform_init():\n",
    "    return np.random.choice([-1,1], sqlatt.N)\n",
    "def __eigv_init(i=0):\n",
    "    return np.sign(sqlatt.eigV[i])\n",
    "\n",
    "if initIS.startswith('spectrum'):\n",
    "    states = int(initIS.split('_')[-1])\n",
    "    tot_init = extra_randinit+states\n",
    "    sqlatt.compute_k_eigvV(howmany=states)\n",
    "\n",
    "bigene = []\n",
    "bigmagn = []\n",
    "# labels = np.where((eigV[0] < 0))[0]\n",
    "for replica in range(states+extra_randinit):\n",
    "    magn = []\n",
    "    ene = []\n",
    "    if initIS == 'ground_state': \n",
    "        m = __eigv_init()\n",
    "    if initIS.startswith('spectrum'):\n",
    "        if replica < states: m = __eigv_init(replica)\n",
    "        else: m = __uniform_init()\n",
    "    elif initIS == 'uniform': \n",
    "        m = __uniform_init()\n",
    "    elif initIS == 'ground_state+uniform':\n",
    "        if replica: m = __uniform_init()\n",
    "        else: m = __eigv_init()\n",
    "    elif initIS == 'all_states':\n",
    "        if replica < sqlatt.N: m = __eigv_init(replica)\n",
    "        else: m = __uniform_init()\n",
    "    # sample = rd.sample(H.nodes, N)\n",
    "    sample = random.sample(list(sqlatt.H.nodes()), sqlatt.N)\n",
    "    for nsteps in tqdm(range(nmax)):\n",
    "        magn.append(np.sum(m))\n",
    "        ene.append(calcEnergy(m))\n",
    "        for i in range(sqlatt.N):\n",
    "            node=i\n",
    "            m_new = -m[node]\n",
    "\n",
    "            #Metropolis thing\n",
    "            neigh=neigh_weight_magn(m, dict(sqlatt.H[i]))\n",
    "            sumneigh = np.sum(np.sum(neigh))\n",
    "            E_old=-m[node]*sumneigh\n",
    "            E_new=-m_new*sumneigh\n",
    "\n",
    "            if E_new<E_old:\n",
    "                m[node]=m_new\n",
    "            else:\n",
    "                r=np.random.uniform(0, 1)\n",
    "                if (r<np.exp(-(E_new-E_old)/T_ising)):\n",
    "                    m[node]=m_new\n",
    "    bigmagn.append(m)\n",
    "    bigene.append(ene)\n"
   ]
  },
  {
   "cell_type": "code",
   "execution_count": null,
   "metadata": {},
   "outputs": [],
   "source": [
    "mine = np.array(bigene).flatten().min()\n",
    "plt.plot(np.array(bigene[0])-mine, c='k', ls='--')\n",
    "for i in range(1, tot_init):\n",
    "    plt.plot(np.array(bigene[i])-mine, color='red' if i < states else 'blue')\n",
    "plt.xscale('log')\n",
    "plt.ylabel('Energy')\n",
    "plt.xlabel('time')\n",
    "# plt.ylim([1,1e3])\n",
    "# plt.\n",
    "plt.yscale('log')"
   ]
  },
  {
   "cell_type": "markdown",
   "metadata": {},
   "source": [
    "------------"
   ]
  },
  {
   "cell_type": "code",
   "execution_count": null,
   "metadata": {},
   "outputs": [],
   "source": []
  },
  {
   "cell_type": "code",
   "execution_count": null,
   "metadata": {},
   "outputs": [],
   "source": []
  },
  {
   "cell_type": "code",
   "execution_count": null,
   "metadata": {},
   "outputs": [],
   "source": []
  },
  {
   "cell_type": "code",
   "execution_count": null,
   "metadata": {},
   "outputs": [],
   "source": []
  },
  {
   "cell_type": "code",
   "execution_count": null,
   "metadata": {},
   "outputs": [],
   "source": []
  },
  {
   "cell_type": "code",
   "execution_count": null,
   "metadata": {},
   "outputs": [],
   "source": [
    "def map_tuple_to_numeric(tuple_value):\n",
    "    # You can use a weighted sum of the tuple elements as an example\n",
    "    # Adjust the weights as needed based on your data\n",
    "    weight = [0.1, 0.2, 0.5]\n",
    "    numeric_value = np.sum(tuple_value * weight)\n",
    "    return numeric_value\n",
    "\n",
    "vfunc = np.vectorize(map_tuple_to_numeric)\n",
    "max_diff_cmap = generate_maxpercdiff_colormap(ising_dyn.numIsing_cl, 2)\n",
    "# Apply the mapping function to the entire 'result_array'\n",
    "numeric_array = vfunc(ising_dyn.mapping)\n",
    "plt.imshow(\n",
    "    ising_dyn.mapping.astype(float),\n",
    "    cmap=max_diff_cmap,\n",
    ")\n",
    "plt.colorbar()"
   ]
  },
  {
   "cell_type": "code",
   "execution_count": null,
   "metadata": {},
   "outputs": [],
   "source": [
    "plt.plot(np.array(ising_dyn.magnc1)/len(ising_dyn.Ising_clusters[0]))\n",
    "plt.plot(np.array(ising_dyn.magn)/ising_dyn.system.N)\n",
    "# plt.xscale('log')\n",
    "# plt.yscale('log')"
   ]
  },
  {
   "cell_type": "code",
   "execution_count": null,
   "metadata": {},
   "outputs": [],
   "source": [
    "plt.plot(np.array(ising_dyn.ene)/ising_dyn.system.N)"
   ]
  },
  {
   "cell_type": "code",
   "execution_count": null,
   "metadata": {},
   "outputs": [],
   "source": [
    "np.mean(ising_dyn.magn)/ising_dyn.system.N, np.mean(ising_dyn.magnc1)/len(ising_dyn.Ising_clusters[0])"
   ]
  },
  {
   "cell_type": "code",
   "execution_count": null,
   "metadata": {},
   "outputs": [],
   "source": [
    "bineigv = sqlatt.bin_eigV()\n",
    "binmagn = ising_dyn.s\n",
    "fig, ax = plt.subplots(ncols=2, figsize=(14, 8))\n",
    "im1 = ax[0].imshow(binmagn.reshape(sqlatt.side1, sqlatt.side2))\n",
    "imshow_colorbar_caxdivider(im1, ax[0])\n",
    "im2 = ax[1].imshow(bineigv.reshape(sqlatt.side1, sqlatt.side2))\n",
    "imshow_colorbar_caxdivider(im2, ax[1])\n",
    "fig.tight_layout()"
   ]
  },
  {
   "cell_type": "code",
   "execution_count": null,
   "metadata": {},
   "outputs": [],
   "source": [
    "plt.imshow(binmagn.reshape(sqlatt.side1, sqlatt.side2) + bineigv.reshape(sqlatt.side1, sqlatt.side2))"
   ]
  },
  {
   "cell_type": "code",
   "execution_count": null,
   "metadata": {},
   "outputs": [],
   "source": [
    "boolean_overlap_fraction((bineigv > 0), (binmagn < 0))"
   ]
  },
  {
   "cell_type": "code",
   "execution_count": null,
   "metadata": {},
   "outputs": [],
   "source": [
    "fig, ax = plt.subplots(ncols=2)\n",
    "ax[0].plot(np.abs(dv(np.array(ising_dyn.ene))))\n",
    "ax[0].set_yscale('log')\n",
    "ax[0].set_xscale('log')\n",
    "#\n",
    "ax[1].plot(-np.array(ising_dyn.ene)/sqlatt.N)\n",
    "ax[1].set_xscale('log')\n",
    "fig.tight_layout()\n"
   ]
  },
  {
   "cell_type": "code",
   "execution_count": null,
   "metadata": {},
   "outputs": [],
   "source": [
    "# fare averages e controllare 2.05\n",
    "# percolation clusters\n",
    "# vedere per diverse p\n",
    "# \n",
    "distr = np.unique(ising_dyn.mapping, return_counts=True)\n",
    "zipf  = sorted(distr[1], reverse=True)\n",
    "plt.plot(np.linspace(1, len(zipf)+1, num=len(zipf)), zipf, 'o')\n",
    "plt.plot(np.logspace(0, 3), max(zipf)*(np.logspace(0, 2))**-2.05)\n",
    "# plt.hist(distr[1])\n",
    "plt.yscale('log')\n",
    "plt.xscale('log')"
   ]
  },
  {
   "cell_type": "code",
   "execution_count": null,
   "metadata": {},
   "outputs": [],
   "source": [
    "# bin_counts, bin_edges = np.histogram(lrgsg.mapping)\n",
    "# bin_centres = (bin_edges[:-1] + bin_edges[1:]) / 2"
   ]
  },
  {
   "cell_type": "code",
   "execution_count": null,
   "metadata": {},
   "outputs": [],
   "source": [
    "def map_tuple_to_numeric(tuple_value):\n",
    "    # You can use a weighted sum of the tuple elements as an example\n",
    "    # Adjust the weights as needed based on your data\n",
    "    weight = [0.1, 0.2, 0.5]\n",
    "    numeric_value = np.sum(tuple_value * weight)\n",
    "    return numeric_value\n",
    "\n",
    "\n",
    "vfunc = np.vectorize(map_tuple_to_numeric)\n",
    "max_diff_cmap = generate_maxpercdiff_colormap(lrgsg.numIsing_cl, 2)\n",
    "# Apply the mapping function to the entire 'result_array'\n",
    "numeric_array = vfunc(lrgsg.mapping)\n",
    "plt.imshow(\n",
    "    lrgsg.mapping.astype(float),\n",
    "    cmap=max_diff_cmap,\n",
    ")\n",
    "plt.colorbar()"
   ]
  },
  {
   "cell_type": "code",
   "execution_count": null,
   "metadata": {},
   "outputs": [],
   "source": [
    "#edge list\n",
    "#indici di cluster\n",
    "#inizializzazione stato\n",
    "#"
   ]
  },
  {
   "cell_type": "code",
   "execution_count": null,
   "metadata": {},
   "outputs": [],
   "source": [
    "idx0 = set(np.arange(0, lrgsg.system.N)) - set(sorted(lrgsg.biggestIsing_cl))\n",
    "idx2Dcl = np.array([[i//lrgsg.system.side1, divmod(i, lrgsg.system.side2)[1]] for i in lrgsg.biggestIsing_cl])\n",
    "idx2D = np.array([[i//lrgsg.system.side1, divmod(i, lrgsg.system.side2)[1]] for i in idx0])"
   ]
  },
  {
   "cell_type": "code",
   "execution_count": null,
   "metadata": {},
   "outputs": [],
   "source": [
    "idx2D = idx2D[:, 0], idx2D[:, 1]\n",
    "idx2Dcl = idx2Dcl[:, 0], idx2Dcl[:, 1]"
   ]
  },
  {
   "cell_type": "code",
   "execution_count": null,
   "metadata": {},
   "outputs": [],
   "source": [
    "\n",
    "sum(lrgsg.magn_array.reshape(lrgsg.system.side1, lrgsg.system.side2)[idx2Dcl])/len(lrgsg.magn_array[lrgsg.biggestIsing_cl])"
   ]
  },
  {
   "cell_type": "code",
   "execution_count": null,
   "metadata": {},
   "outputs": [],
   "source": [
    "lrgsg.magn_array[lrgsg.biggestIsing_cl]"
   ]
  },
  {
   "cell_type": "code",
   "execution_count": null,
   "metadata": {},
   "outputs": [],
   "source": [
    "a = lrgsg.magn_array.reshape(lrgsg.system.side1, lrgsg.system.side2)[idx2Dcl]"
   ]
  },
  {
   "cell_type": "code",
   "execution_count": null,
   "metadata": {},
   "outputs": [],
   "source": [
    "\n",
    "\n",
    "lrgsg.magn_array.reshape(lrgsg.system.side1, lrgsg.system.side2)[idx2D] = 0"
   ]
  },
  {
   "cell_type": "code",
   "execution_count": null,
   "metadata": {},
   "outputs": [],
   "source": [
    "plt.imshow(lrgsg.magn_array.reshape(lrgsg.system.side1, lrgsg.system.side2))\n",
    "plt.colorbar()"
   ]
  },
  {
   "cell_type": "code",
   "execution_count": null,
   "metadata": {},
   "outputs": [],
   "source": []
  },
  {
   "cell_type": "code",
   "execution_count": null,
   "metadata": {},
   "outputs": [],
   "source": []
  },
  {
   "cell_type": "code",
   "execution_count": null,
   "metadata": {},
   "outputs": [],
   "source": [
    "import numpy as np\n",
    "import matplotlib.pyplot as plt\n",
    "from matplotlib.colors import Normalize\n",
    "import matplotlib\n",
    "\n",
    "# random colors\n",
    "theta_dim, phi_dim = 100, 100\n",
    "a = lrgsg.mapping.astype(float)\n",
    "\n",
    "# Generating Torus Mesh\n",
    "angle = np.linspace(0, 2 * np.pi, 100)\n",
    "theta, phi = np.meshgrid(angle, angle)\n",
    "r, R = .5, 1\n",
    "X = (R + r * np.cos(phi)) * np.cos(theta)\n",
    "Y = (R + r * np.cos(phi)) * np.sin(theta)\n",
    "Z = r * np.sin(phi)\n",
    "\n",
    "# compute the indexes\n",
    "t = np.floor(theta / (2 * np.pi) * (theta_dim - 1)).astype(int)\n",
    "p = np.floor(phi / (2 * np.pi) * (phi_dim - 1)).astype(int)\n",
    "# extract the color value from the matrix\n",
    "colors = a[t, p]\n",
    "# apply a colormap to the normalized color values\n",
    "norm = Normalize(vmin=colors.min(), vmax=colors.max())\n",
    "cmap = max_diff_cmap#matplotlib.colormaps.get_cmap(\"viridis\")\n",
    "normalized_colors = cmap(norm(colors))\n",
    "\n",
    "fig = plt.figure()\n",
    "ax = fig.add_subplot(projection = '3d')\n",
    "ax.plot_surface(X, Y, Z, rstride = 1, cstride = 1, facecolors=normalized_colors)\n",
    "ax.set_aspect(\"equal\")\n",
    "ax.view_init(elev=25., azim=-45)\n",
    "plt.show()"
   ]
  },
  {
   "cell_type": "code",
   "execution_count": null,
   "metadata": {},
   "outputs": [],
   "source": []
  }
 ],
 "metadata": {
  "kernelspec": {
   "display_name": "LRG-Signed",
   "language": "python",
   "name": "python3"
  },
  "language_info": {
   "codemirror_mode": {
    "name": "ipython",
    "version": 3
   },
   "file_extension": ".py",
   "mimetype": "text/x-python",
   "name": "python",
   "nbconvert_exporter": "python",
   "pygments_lexer": "ipython3",
   "version": "3.12.3"
  },
  "orig_nbformat": 4
 },
 "nbformat": 4,
 "nbformat_minor": 2
}
