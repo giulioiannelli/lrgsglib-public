{
 "cells": [
  {
   "cell_type": "code",
   "execution_count": 1,
   "metadata": {},
   "outputs": [
    {
     "name": "stdout",
     "output_type": "stream",
     "text": [
      "cwd: /home/giulio/PhD/projects/complex-networks/LRG-Signed\n"
     ]
    }
   ],
   "source": [
    "%matplotlib inline\n",
    "#\n",
    "from os import chdir, getcwd\n",
    "ROOTF = 'LRG-Signed'\n",
    "if getcwd()[-len(ROOTF):] != ROOTF:\n",
    "    chdir('../')\n",
    "print('cwd:', getcwd())\n",
    "#\n",
    "from src.LRGSG_package.LRGSG import *"
   ]
  },
  {
   "cell_type": "code",
   "execution_count": null,
   "metadata": {},
   "outputs": [],
   "source": [
    "z = 4\n",
    "#\n",
    "pow2_m, pow2_M = 6, 14\n",
    "ssize_range = range(pow2_m, pow2_M, 2)\n",
    "asize_range = range(pow2_m, pow2_M, 1)[:len(ssize_range)]\n",
    "#\n",
    "lsN = np.array([2**i for i in ssize_range])\n",
    "lsL = np.sqrt(lsN).astype('int')\n",
    "lsA = np.array([2**(15-i) for i in asize_range])\n",
    "lsp = np.round([0.001, 0.01, 0.025, 0.05, 0.075, 0.085, 0.095, \n",
    "       0.098, 0.100, 0.102, 0.104, 0.106, 0.11, \n",
    "       0.2, 0.3, 0.4, 0.5], 3)\n",
    "dctNp = {N: np.array([z * N**2 * p // 2 for p in lsp]).astype('int')\n",
    "       for N in lsN}"
   ]
  },
  {
   "cell_type": "code",
   "execution_count": null,
   "metadata": {},
   "outputs": [],
   "source": [
    "dctNp"
   ]
  },
  {
   "cell_type": "code",
   "execution_count": null,
   "metadata": {},
   "outputs": [],
   "source": [
    "sqLattice = Lattice2D(#\n",
    "    side1 = 64,\n",
    "    geometry = 'squared'\n",
    ")\n"
   ]
  },
  {
   "cell_type": "code",
   "execution_count": null,
   "metadata": {},
   "outputs": [],
   "source": [
    "plt.figure(figsize=(12, 8))\n",
    "for replica in range(10):\n",
    "    SLRG_obj = SignedLaplacianAnalysis(#\n",
    "        system = sqLattice,\n",
    "        pflip = 0.01,\n",
    "        t2 = 3.5\n",
    "    )\n",
    "    SLRG_obj.flip_random_fract_edges()\n",
    "    SLRG_obj.compute_entropy()\n",
    "    t = SLRG_obj.timescale_for_C()\n",
    "    plt.plot(t, SLRG_obj.Cspe)\n",
    "    # plt.axvline(t[np.argmax(SLRG_obj.Cspe)])\n",
    "plt.xscale('log')"
   ]
  },
  {
   "cell_type": "code",
   "execution_count": null,
   "metadata": {},
   "outputs": [],
   "source": [
    "G = SLRG_obj.system.G\n",
    "colors = ['r' if G[u][v]['weight'] == -1 else 'k' for u, v in G.edges()]\n",
    "plt.figure(figsize=(8, 8))\n",
    "pos = {(x,y):(y,-x) for x,y in G.nodes()}\n",
    "nx.draw(G, edge_color=colors, pos=pos, node_size=100, width=2.5)"
   ]
  },
  {
   "attachments": {},
   "cell_type": "markdown",
   "metadata": {},
   "source": [
    "plottati anche la distribuzione dei massimi"
   ]
  },
  {
   "cell_type": "code",
   "execution_count": null,
   "metadata": {},
   "outputs": [],
   "source": [
    "from scipy.ndimage import median_filter\n",
    "random.seed(453498)\n",
    "replicas = 200\n",
    "\n",
    "a = np.zeros(steps-1)\n",
    "plt.figure(figsize=(12, 8))\n",
    "for replica in range(replicas):\n",
    "    t = SLRG_obj.timescale_for_C()\n",
    "    while True:\n",
    "        SLRG_obj = SignedLaplacianAnalysis(#\n",
    "            system = sqLattice,\n",
    "            pflip = 0.98,\n",
    "            t2 = 4,\n",
    "            steps=steps\n",
    "        )\n",
    "        SLRG_obj.flip_random_fract_edges()\n",
    "        SLRG_obj.compute_entropy()\n",
    "        # plt.plot(t, median_filter(SLRG_obj.Cspe, size=2))\n",
    "        index = np.where(np.diff(SLRG_obj.Cspe) > SPIKE_THRESHOLD)\n",
    "        if not index[0].size:\n",
    "            break\n",
    "    plt.plot(t, SLRG_obj.Cspe)\n",
    "    a += SLRG_obj.Cspe \n",
    "    # plt.axvline(t[np.argmax(SLRG_obj.Cspe)])\n",
    "plt.plot(t, a/(replicas), 'k', lw=2)\n",
    "plt.xscale('log')"
   ]
  },
  {
   "cell_type": "code",
   "execution_count": null,
   "metadata": {},
   "outputs": [],
   "source": [
    "1000*100"
   ]
  },
  {
   "cell_type": "code",
   "execution_count": null,
   "metadata": {},
   "outputs": [],
   "source": [
    "G = SLRG_obj.system.G\n",
    "colors = ['r' if G[u][v]['weight'] == -1 else 'k' for u, v in G.edges()]\n",
    "plt.figure(figsize=(8, 8))\n",
    "pos = {(x,y):(y,-x) for x,y in G.nodes()}\n",
    "nx.draw(G, edge_color=colors, pos=pos, node_size=100, width=2.5)"
   ]
  },
  {
   "cell_type": "code",
   "execution_count": null,
   "metadata": {},
   "outputs": [],
   "source": [
    "z = 4\n",
    "pow2_m, pow2_M = 6, 14\n",
    "ssize_range = range(pow2_m, pow2_M, 2)\n",
    "asize_range = range(pow2_m, pow2_M, 1)[:len(ssize_range)]\n",
    "\n",
    "lsN = np.array([2**i for i in ssize_range])\n",
    "lsL = np.sqrt(lsN).astype('int')\n",
    "lsA = np.array([2**(16-i) for i in asize_range])\n",
    "lsp = [0.001, 0.01, 0.025, 0.05, 0.075, 0.085, 0.095, \n",
    "       0.098, 0.100, 0.102, 0.104, 0.106, 0.11, \n",
    "       0.2, 0.3, 0.4, 0.5]\n",
    "dctNp = {N: np.array([z * N**2 * p // 2 for p in lsp]).astype('int')\n",
    "       for N in lsN}\n"
   ]
  },
  {
   "cell_type": "code",
   "execution_count": null,
   "metadata": {},
   "outputs": [],
   "source": [
    "G = nx.grid_2d_graph(10, 10, periodic=True)"
   ]
  },
  {
   "cell_type": "code",
   "execution_count": null,
   "metadata": {},
   "outputs": [],
   "source": [
    "G"
   ]
  },
  {
   "cell_type": "code",
   "execution_count": null,
   "metadata": {},
   "outputs": [],
   "source": [
    "G = nx.MultiDiGraph()\n",
    "G.add_edge(0, 1, weight=2)\n",
    "\n",
    "G.add_edge(1, 0)\n",
    "\n",
    "G.add_edge(2, 2, weight=3)\n",
    "\n",
    "G.add_edge(2, 2)\n",
    "S = nx.to_scipy_sparse_array(G, nodelist=[0, 1, 2])\n"
   ]
  },
  {
   "cell_type": "code",
   "execution_count": null,
   "metadata": {},
   "outputs": [],
   "source": [
    "G = nx.grid_2d_graph(10, 15, periodic=True)\n",
    "A = nx.to_scipy_sparse_array(G, format=\"csr\")\n",
    "D = scsp.csr_array(scsp.spdiags(np.abs(A).sum(axis=1), 0, *A.shape, format=\"csr\"))"
   ]
  },
  {
   "cell_type": "code",
   "execution_count": null,
   "metadata": {},
   "outputs": [],
   "source": [
    "def bar():\n",
    "    foo()\n",
    "bar()\n",
    "def foo():\n",
    "    print(\"Hi!\")\n"
   ]
  },
  {
   "cell_type": "code",
   "execution_count": null,
   "metadata": {},
   "outputs": [],
   "source": [
    "eigvals(D.toarray())"
   ]
  },
  {
   "cell_type": "code",
   "execution_count": null,
   "metadata": {},
   "outputs": [],
   "source": [
    "class prova:\n",
    "    def __init__(self, a) -> None:\n",
    "        self.a = self.define_quantity(a)\n",
    "        pass\n",
    "    def define_quantity(self, x):\n",
    "        return x+ 200"
   ]
  },
  {
   "cell_type": "code",
   "execution_count": null,
   "metadata": {},
   "outputs": [],
   "source": [
    "b = prova(a=10)"
   ]
  },
  {
   "cell_type": "code",
   "execution_count": null,
   "metadata": {},
   "outputs": [],
   "source": [
    "b.a"
   ]
  },
  {
   "cell_type": "code",
   "execution_count": null,
   "metadata": {},
   "outputs": [],
   "source": [
    "G = nx.hexagonal_lattice_graph(10, 10, periodic=True)\n"
   ]
  },
  {
   "cell_type": "code",
   "execution_count": null,
   "metadata": {},
   "outputs": [],
   "source": [
    "G.number_of_edges()"
   ]
  },
  {
   "cell_type": "code",
   "execution_count": null,
   "metadata": {},
   "outputs": [],
   "source": [
    "120/17"
   ]
  },
  {
   "cell_type": "code",
   "execution_count": null,
   "metadata": {},
   "outputs": [],
   "source": [
    "numdig = '.3g'\n",
    "print(f\"{100.1928763:{numdig}}\")"
   ]
  },
  {
   "cell_type": "code",
   "execution_count": 21,
   "metadata": {},
   "outputs": [
    {
     "name": "stdout",
     "output_type": "stream",
     "text": [
      "data/l2d_sq/N=64_navg=512/p=0.001_Sm1.bin\n",
      "data/l2d_sq/N=64_navg=512/p=0.01_Sm1.bin\n",
      "data/l2d_sq/N=64_navg=512/p=0.025_Sm1.bin\n",
      "data/l2d_sq/N=64_navg=512/p=0.05_Sm1.bin\n",
      "data/l2d_sq/N=64_navg=512/p=0.075_Sm1.bin\n",
      "data/l2d_sq/N=64_navg=512/p=0.085_Sm1.bin\n",
      "data/l2d_sq/N=64_navg=512/p=0.095_Sm1.bin\n",
      "data/l2d_sq/N=64_navg=512/p=0.098_Sm1.bin\n",
      "data/l2d_sq/N=64_navg=512/p=0.1_Sm1.bin\n",
      "data/l2d_sq/N=64_navg=512/p=0.102_Sm1.bin\n",
      "data/l2d_sq/N=64_navg=512/p=0.104_Sm1.bin\n",
      "data/l2d_sq/N=64_navg=512/p=0.106_Sm1.bin\n",
      "data/l2d_sq/N=64_navg=512/p=0.11_Sm1.bin\n",
      "data/l2d_sq/N=64_navg=512/p=0.2_Sm1.bin\n",
      "data/l2d_sq/N=64_navg=512/p=0.3_Sm1.bin\n",
      "data/l2d_sq/N=64_navg=512/p=0.4_Sm1.bin\n"
     ]
    },
    {
     "name": "stderr",
     "output_type": "stream",
     "text": [
      "replicas for L=8, p=0.5: 100%|██████████| 512/512 [00:26<00:00, 19.35it/s]\n"
     ]
    }
   ],
   "source": [
    "#\n",
    "STEPS = 1500\n",
    "SPIKE_THRESHOLD = 0.1\n",
    "#\n",
    "pow2_m, pow2_M, pow2_A = 6, 8, 15\n",
    "ssize_range = range(pow2_m, pow2_M, 2)\n",
    "asize_range = range(pow2_m, pow2_M, 1)[:len(ssize_range)]\n",
    "#\n",
    "lsN = np.array([2**i for i in ssize_range])\n",
    "lsL = np.sqrt(lsN).astype('int')\n",
    "lsA = np.array([2**(pow2_A-i) for i in asize_range])\n",
    "lsp = np.round([0.001, 0.01, 0.025, 0.05, 0.075, 0.085, 0.095, \n",
    "       0.098, 0.100, 0.102, 0.104, 0.106, 0.11, \n",
    "       0.2, 0.3, 0.4, 0.5], 3)\n",
    "#\n",
    "for iL, iN, iA in zip(lsL, lsN, lsA):\n",
    "    #\n",
    "    path = f\"{datPath_l2d_sq}N={iN}_navg={iA}/\"\n",
    "    if not os.path.isdir(path):\n",
    "        os.makedirs(path)\n",
    "    #\n",
    "    sqLattice = Lattice2D(#\n",
    "        side1 = iL,\n",
    "        geometry = 'squared'\n",
    "    )\n",
    "    for pflip in lsp:\n",
    "        savename = lambda idstr : f\"{path}p={pflip:{pflip_fmt}}_{idstr}{eBIN}\"\n",
    "        if os.path.exists(savename('Sm1')):\n",
    "            print(savename('Sm1'))\n",
    "            continue\n",
    "        Sm1File = open(savename('Sm1'), \"wb\")\n",
    "        CspeFile = open(savename('Cspe'), \"wb\")\n",
    "        slspecFile = open(savename('slspec'), \"wb\")\n",
    "        #\n",
    "        for nr in tqdm(range(iA), desc=f\"replicas for L={iL}, p={pflip}\"):\n",
    "            while True:\n",
    "                SLRG_obj = SignedLaplacianAnalysis(#\n",
    "                    system = sqLattice,\n",
    "                    pflip = pflip,\n",
    "                    t2 = 4,\n",
    "                    steps = STEPS\n",
    "                )\n",
    "                SLRG_obj.flip_random_fract_edges()\n",
    "                SLRG_obj.compute_entropy()\n",
    "                index = np.where(np.diff(SLRG_obj.Cspe) > SPIKE_THRESHOLD)\n",
    "                if not index[0].size:\n",
    "                    break\n",
    "            #\n",
    "            Sm1BytesArray = bytes(SLRG_obj.Sm1)\n",
    "            CspeBytesArray = bytes(SLRG_obj.Cspe)\n",
    "            slspecBytesArray = bytes(SLRG_obj.slspectrum)\n",
    "            #\n",
    "            Sm1File.write(Sm1BytesArray)\n",
    "            CspeFile.write(CspeBytesArray)\n",
    "            slspecFile.write(slspecBytesArray)\n",
    "        Sm1File.close()\n",
    "        CspeFile.close()\n",
    "        slspecFile.close()"
   ]
  },
  {
   "cell_type": "code",
   "execution_count": 24,
   "metadata": {},
   "outputs": [
    {
     "data": {
      "image/png": "[encoded data removed]",
      "text/plain": [
       "<Figure size 432x288 with 1 Axes>"
      ]
     },
     "metadata": {
      "needs_background": "light"
     },
     "output_type": "display_data"
    }
   ],
   "source": [
    "bb = np.fromfile(\"data/l2d_sq/N=64_navg=512/p=0.5_Cspe.bin\").reshape(512, 1499)\n",
    "for i in bb:\n",
    "    plt.plot(np.logspace(-2, 4, 1499),i)\n",
    "plt.plot(np.logspace(-2, 4, 1499),np.mean(bb, axis=0), 'k', lw=2)\n",
    "plt.xscale('log')"
   ]
  },
  {
   "cell_type": "code",
   "execution_count": null,
   "metadata": {},
   "outputs": [],
   "source": []
  }
 ],
 "metadata": {
  "kernelspec": {
   "display_name": "LRG-Signed",
   "language": "python",
   "name": "python3"
  },
  "language_info": {
   "codemirror_mode": {
    "name": "ipython",
    "version": 3
   },
   "file_extension": ".py",
   "mimetype": "text/x-python",
   "name": "python",
   "nbconvert_exporter": "python",
   "pygments_lexer": "ipython3",
   "version": "3.9.16"
  },
  "orig_nbformat": 4
 },
 "nbformat": 4,
 "nbformat_minor": 2
}
