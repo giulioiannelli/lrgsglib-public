{
 "cells": [
  {
   "cell_type": "markdown",
   "metadata": {},
   "source": [
    "### $2D$ lattice: graph matrices spectra"
   ]
  },
  {
   "cell_type": "code",
   "execution_count": 1,
   "metadata": {},
   "outputs": [
    {
     "name": "stdout",
     "output_type": "stream",
     "text": [
      "cwd: /home/opisthofulax/PhD/projects/complex-networks/LRG-Signed\n"
     ]
    }
   ],
   "source": [
    "%matplotlib inline\n",
    "#\n",
    "from os import chdir, getcwd\n",
    "ROOTF = 'LRG-Signed'\n",
    "if getcwd()[-len(ROOTF):] != ROOTF:\n",
    "    chdir('../')\n",
    "print('cwd:', getcwd())\n",
    "#\n",
    "from src.lrgsglib.core import *"
   ]
  },
  {
   "cell_type": "code",
   "execution_count": null,
   "metadata": {},
   "outputs": [],
   "source": [
    "side = 30\n",
    "#\n",
    "theLattice = Lattice2D(#\n",
    "    side1 = side,\n",
    "    side2 = int(side * np.sqrt(3)),\n",
    "    geometry = 'triangular',\n",
    ")\n",
    "SLRG_obj = SignedLaplacianAnalysis(#\n",
    "    system = theLattice,\n",
    ")\n",
    "theLattice.lsp_selection(theLattice.default_dict_lsp)"
   ]
  },
  {
   "cell_type": "code",
   "execution_count": null,
   "metadata": {},
   "outputs": [],
   "source": []
  },
  {
   "cell_type": "code",
   "execution_count": null,
   "metadata": {},
   "outputs": [],
   "source": [
    "plist = np.concatenate([[0.001, 0.01, 0.05, 0.075, 0.080, 0.085, 0.090, 0.091], \n",
    "                np.linspace(0.090, 0.106, num=17),\n",
    "                np.linspace(0.12, 1, num=9)])\n",
    "lattice2d = nx.grid_2d_graph(48, 48, periodic=True)\n",
    "os.makedirs(\"data/mat_spectra/\", exist_ok=True)\n",
    "for p in plist:\n",
    "    saveFile = open(f\"{pltPath_l2d(theLattice.geometry)}/mat_spectra/p={p:.3g}.bin\", \"wb\")\n",
    "    for na in tqdm(range(1000)):\n",
    "        adj = nx.adjacency_matrix(lattice2d).toarray()\n",
    "        indx1 = np.where(adj == 1)\n",
    "        #\n",
    "        total_indices = len(indx1[0])\n",
    "        num_indices_to_select = int(p * total_indices)\n",
    "        random_indices = np.random.choice(total_indices, num_indices_to_select, replace=False)\n",
    "        # Get the randomly selected indices from the original indices array\n",
    "        selected_indices = (indx1[0][random_indices], indx1[1][random_indices])\n",
    "        adj[selected_indices] = 0\n",
    "        graph = nx.from_numpy_array(adj)\n",
    "        # Compute the Laplacian matrix\n",
    "        laplacian_matrix = nx.laplacian_matrix(graph).toarray()\n",
    "        saveFile.write(bytes(eigvalsh(laplacian_matrix)))\n",
    "    saveFile.close()"
   ]
  }
 ],
 "metadata": {
  "kernelspec": {
   "display_name": "LRG-Signed",
   "language": "python",
   "name": "python3"
  },
  "language_info": {
   "codemirror_mode": {
    "name": "ipython",
    "version": 3
   },
   "file_extension": ".py",
   "mimetype": "text/x-python",
   "name": "python",
   "nbconvert_exporter": "python",
   "pygments_lexer": "ipython3",
   "version": "3.11.2"
  },
  "orig_nbformat": 4
 },
 "nbformat": 4,
 "nbformat_minor": 2
}
