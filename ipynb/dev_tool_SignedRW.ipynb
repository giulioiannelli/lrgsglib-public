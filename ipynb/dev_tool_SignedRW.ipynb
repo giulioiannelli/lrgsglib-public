{
 "cells": [
  {
   "cell_type": "code",
   "execution_count": null,
   "metadata": {},
   "outputs": [],
   "source": [
    "%matplotlib inline\n",
    "#\n",
    "from LRGSG_package.shared import *\n",
    "from LRGSG_package.config.utils import log_binning\n",
    "from LRGSG_package.LRGSG import Lattice2D, Lattice3D, SignedRW, move_to_rootf\n",
    "#\n",
    "move_to_rootf()\n",
    "plt.style.use(\"ipynb/nb_plotsheet.mplstyle\")"
   ]
  },
  {
   "cell_type": "code",
   "execution_count": null,
   "metadata": {},
   "outputs": [],
   "source": [
    "def process_signed_random_walk(data):\n",
    "    \"\"\"\n",
    "    Processes a list of node-sign pairs to determine the distribution of unique nodes\n",
    "    within clusters of consecutive identical signs.\n",
    "\n",
    "    Args:\n",
    "    data (list of tuples): List where each tuple contains a node (as a tuple) and a sign (+1 or -1).\n",
    "\n",
    "    Returns:\n",
    "    dict: A dictionary where keys are signs and values are lists of counts of unique nodes per cluster.\n",
    "    \"\"\"\n",
    "    cluster_sizes = defaultdict(list)\n",
    "    if not data:\n",
    "        return dict(cluster_sizes)  # Return an empty dictionary if data is empty\n",
    "\n",
    "    current_cluster = set()\n",
    "    current_sign = data[0][1]\n",
    "\n",
    "    for node, sign in data:\n",
    "        if sign != current_sign:\n",
    "            # Store size of the current cluster and reset\n",
    "            cluster_sizes[current_sign].append(len(current_cluster))\n",
    "            current_cluster = set()\n",
    "            current_sign = sign\n",
    "        current_cluster.add(node)\n",
    "\n",
    "    # Add the last cluster\n",
    "    cluster_sizes[current_sign].append(len(current_cluster))\n",
    "\n",
    "    return dict(cluster_sizes)"
   ]
  },
  {
   "cell_type": "code",
   "execution_count": null,
   "metadata": {},
   "outputs": [],
   "source": [
    "for pflip in [0.01, 0.06, 0.08, 0.103, 0.25, 0.5]:\n",
    "    data = []\n",
    "    for na in range(10):\n",
    "        l = Lattice2D(10, pflip=pflip)\n",
    "        l.flip_random_fract_edges()\n",
    "        srw = SignedRW(l, simTime=2000, \n",
    "                initMode=\"random\", \n",
    "                runMode=\"py\",\n",
    "                storeMode=\"sequential\",\n",
    "                storeFreq=1)\n",
    "        srw.run()\n",
    "        data.extend(srw.s_tList)\n",
    "    cluster_sizes = process_signed_random_walk(data)\n",
    "    edges, hist = powerlaw.pdf(cluster_sizes[-1], xmin=1)\n",
    "    bin_centers = (edges[1:]+edges[:-1])/2.0\n",
    "    plt.loglog(bin_centers, hist)\n",
    "    edges, hist = powerlaw.pdf(cluster_sizes[1], xmin=1)\n",
    "    bin_centers = (edges[1:]+edges[:-1])/2.0\n",
    "    plt.loglog(bin_centers, hist)\n",
    "    plt.show()"
   ]
  },
  {
   "cell_type": "markdown",
   "metadata": {},
   "source": []
  },
  {
   "cell_type": "code",
   "execution_count": null,
   "metadata": {},
   "outputs": [],
   "source": []
  },
  {
   "cell_type": "code",
   "execution_count": null,
   "metadata": {},
   "outputs": [],
   "source": [
    "fig, ax = plt.subplots()\n",
    "l_ini = Lattice2D(32)\n",
    "mmax = l_ini.Ne//10\n",
    "for i in range(1, mmax, mmax//8):\n",
    "    print(\"Current value of p:\", i/l_ini.Ne)  # Debugging statement to check p\n",
    "    l = Lattice2D(32, pflip=i/l_ini.Ne)\n",
    "    l.flip_random_fract_edges()\n",
    "    srw = SignedRW(l, simTime=2000, \n",
    "               initMode=\"random\", \n",
    "               runMode=\"py\",\n",
    "               storeMode=\"sequential\",\n",
    "               storeFreq=1)\n",
    "    srw.run()\n",
    "    a = np.array(srw.s_tList, dtype=object)[:, 1].astype(int)\n",
    "    changes = np.where(np.diff(a) != 0)[0] + 1\n",
    "    sequence_lengths = np.diff(np.hstack(([0], changes, [len(a)])))\n",
    "    # print(sequence_lengths)\n",
    "    # b, h, w = log_binning(sequence_lengths, binnum=15)\n",
    "    # ax.plot(b, h/w)\n",
    "    edges, hist = powerlaw.pdf(sequence_lengths, xmin=1)\n",
    "    bin_centers = (edges[1:]+edges[:-1])/2.0\n",
    "    ax.loglog(bin_centers, hist)\n",
    "plt.show()"
   ]
  },
  {
   "cell_type": "code",
   "execution_count": null,
   "metadata": {},
   "outputs": [],
   "source": [
    "fig, ax = plt.subplots()\n",
    "for p in [0.01, 0.05, 0.08, 0.1, 0.2, 0.5]:\n",
    "    print(\"Current value of p:\", p)  # Debugging statement to check p\n",
    "    l = Lattice2D(128, pflip=p)\n",
    "    l.flip_random_fract_edges()\n",
    "    srw = SignedRW(l, simTime=2000, \n",
    "               initMode=\"random\", \n",
    "               runMode=\"py\",\n",
    "               storeMode=\"sequential\",\n",
    "               storeFreq=1)\n",
    "    srw.run()\n",
    "    a = np.array(srw.s_tList, dtype=object)[:, 1].astype(int)\n",
    "    changes = np.where(np.diff(a) != 0)[0] + 1\n",
    "    sequence_lengths = np.diff(np.hstack(([0], changes, [len(a)])))\n",
    "    print(sequence_lengths)\n",
    "    # b, h, w = log_binning(sequence_lengths, binnum=15)\n",
    "    # ax.plot(b, h/w)\n",
    "    edges, hist = powerlaw.pdf(sequence_lengths)\n",
    "    bin_centers = (edges[1:]+edges[:-1])/2.0\n",
    "    ax.loglog(bin_centers, hist)\n",
    "plt.show()"
   ]
  },
  {
   "cell_type": "code",
   "execution_count": null,
   "metadata": {},
   "outputs": [],
   "source": [
    "b, h, w = log_binning(sequence_lengths, binnum=15)\n",
    "plt.plot(b, h/w)\n",
    "plt.yscale(\"log\")\n",
    "plt.xscale(\"log\")"
   ]
  },
  {
   "cell_type": "code",
   "execution_count": null,
   "metadata": {},
   "outputs": [],
   "source": [
    "a.alpha"
   ]
  },
  {
   "cell_type": "code",
   "execution_count": null,
   "metadata": {},
   "outputs": [],
   "source": []
  }
 ],
 "metadata": {
  "kernelspec": {
   "display_name": "LRG-Signed",
   "language": "python",
   "name": "python3"
  },
  "language_info": {
   "codemirror_mode": {
    "name": "ipython",
    "version": 3
   },
   "file_extension": ".py",
   "mimetype": "text/x-python",
   "name": "python",
   "nbconvert_exporter": "python",
   "pygments_lexer": "ipython3",
   "version": "3.12.3"
  }
 },
 "nbformat": 4,
 "nbformat_minor": 2
}
