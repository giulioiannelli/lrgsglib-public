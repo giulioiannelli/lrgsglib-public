{
 "cells": [
  {
   "cell_type": "code",
   "execution_count": 1,
   "metadata": {},
   "outputs": [
    {
     "name": "stdout",
     "output_type": "stream",
     "text": [
      "cwd: /home/opisthofulax/PhD/projects/complex-networks/LRG-Signed\n"
     ]
    }
   ],
   "source": [
    "%matplotlib inline\n",
    "#\n",
    "from LRGSG_package.shared import *\n",
    "from LRGSG_package.LRGSG import Lattice2D, SignedRW, move_to_rootf\n",
    "#\n",
    "move_to_rootf(print_tf=True)\n",
    "plt.style.use(\"ipynb/nb_plotsheet.mplstyle\")"
   ]
  },
  {
   "cell_type": "code",
   "execution_count": 7,
   "metadata": {},
   "outputs": [],
   "source": [
    "l = Lattice2D(64, pflip=0.1)\n",
    "l.flip_random_fract_edges()"
   ]
  },
  {
   "cell_type": "code",
   "execution_count": 8,
   "metadata": {},
   "outputs": [],
   "source": [
    "srw = SignedRW(l, simTime=5000, \n",
    "               initMode=\"random\", \n",
    "               runMode=\"py\",\n",
    "               storeMode=\"persistent\",\n",
    "               storeFreq=1)\n",
    "srw.run()"
   ]
  }
 ],
 "metadata": {
  "kernelspec": {
   "display_name": "LRG-Signed",
   "language": "python",
   "name": "python3"
  },
  "language_info": {
   "codemirror_mode": {
    "name": "ipython",
    "version": 3
   },
   "file_extension": ".py",
   "mimetype": "text/x-python",
   "name": "python",
   "nbconvert_exporter": "python",
   "pygments_lexer": "ipython3",
   "version": "3.9.18"
  }
 },
 "nbformat": 4,
 "nbformat_minor": 2
}
