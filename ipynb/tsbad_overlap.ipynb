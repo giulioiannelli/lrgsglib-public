{
 "cells": [
  {
   "cell_type": "code",
   "execution_count": 3,
   "id": "b3e3a9de",
   "metadata": {},
   "outputs": [],
   "source": [
    "from lrgsglib.core import *"
   ]
  },
  {
   "cell_type": "code",
   "execution_count": 41,
   "id": "80944c80",
   "metadata": {},
   "outputs": [],
   "source": [
    "vals= {}"
   ]
  },
  {
   "cell_type": "code",
   "execution_count": 46,
   "id": "acbb3af3",
   "metadata": {},
   "outputs": [
    {
     "name": "stderr",
     "output_type": "stream",
     "text": [
      "/tmp/ipykernel_97380/302121816.py:23: RuntimeWarning: invalid value encountered in divide\n",
      "  (1 - w**(2*T)) / den,\n"
     ]
    }
   ],
   "source": [
    "for pflip in [0.001, 0.01, 0.1, 0.3]:\n",
    "    l = Lattice2D(64, pflip=pflip, init_nw_dict=True)\n",
    "    # l.flip_sel_edges(l.nwDict['single']['G'])\n",
    "    l.flip_random_fract_edges()\n",
    "    l.compute_laplacian_spectrum_weigV()\n",
    "    l.make_rescaled_signed_laplacian()\n",
    "    # --- parameters as before ---\n",
    "    n      = l.N           # e.g. 1024\n",
    "    T      = 1000000              # total steps\n",
    "    dt = 1e-3\n",
    "    sigma  = 1e-8                 # noise std\n",
    "    N      = 100                # number of random initial conditions\n",
    "\n",
    "    # 1) precompute transition and noise covariance\n",
    "    # build & diagonalize M\n",
    "    M = np.eye(n) - dt * l.resLp\n",
    "    w, Q = np.linalg.eigh(M)     # w: eigenvalues, Q: orthonormal\n",
    "\n",
    "    # compute series sum s_i = ∑_{k=0}^{T-1} w_i^{2k}\n",
    "    # if |w_i|!=1: (1 - w_i**(2T))/(1 - w_i**2), else: T\n",
    "    den = 1 - w**2\n",
    "    s = np.where(np.abs(den)>1e-12,\n",
    "                (1 - w**(2*T)) / den,\n",
    "                T)\n",
    "\n",
    "    # sample all final states in one shot\n",
    "    # 1) deterministic drift\n",
    "    M_T = Q @ np.diag(w**T) @ Q.T\n",
    "    X0  = np.random.uniform(-1, 1, size=(n, N))\n",
    "    det = M_T @ X0\n",
    "\n",
    "    # 2) noise: Q @ diag(sqrt(σ² s_i)) @ Z\n",
    "    Z     = np.random.randn(n, N)\n",
    "    noise = Q @ (np.sqrt(sigma**2 * s)[:,None] * Z)\n",
    "\n",
    "    X_T = det + noise\n",
    "    X_T = np.sign(X_T)\n",
    "    # overlaps\n",
    "    norms    = np.linalg.norm(X_T, axis=0)\n",
    "    Gram     = X_T.T @ X_T\n",
    "    overlaps = Gram / np.outer(norms, norms)\n",
    "    i,j      = np.triu_indices(N, k=1)\n",
    "    vals[pflip]     = overlaps[i,j]"
   ]
  },
  {
   "cell_type": "code",
   "execution_count": 50,
   "id": "d2fca3ff",
   "metadata": {},
   "outputs": [
    {
     "data": {
      "image/png": "[encoded data removed]",
      "text/plain": [
       "<Figure size 640x480 with 1 Axes>"
      ]
     },
     "metadata": {},
     "output_type": "display_data"
    }
   ],
   "source": [
    "for pflip in [0.001, 0.01, 0.1, 0.3]:\n",
    "    plt.hist(np.array(vals[pflip]).flatten(), label='pflip={}'.format(pflip), bins=50, density=True, alpha=0.75)\n",
    "\n",
    "plt.xlabel('overlap')\n",
    "plt.ylabel('P(overlap)')\n",
    "plt.title(r'final‐state overlaps ($\\sigma=10^{-8}, n_{\\rm avg} = 100$)')\n",
    "plt.xlim(-1, 1)\n",
    "plt.legend()\n",
    "plt.show()"
   ]
  },
  {
   "cell_type": "code",
   "execution_count": null,
   "id": "8232f46d",
   "metadata": {},
   "outputs": [],
   "source": [
    "xarr = []"
   ]
  },
  {
   "cell_type": "code",
   "execution_count": null,
   "id": "fa0a871d",
   "metadata": {},
   "outputs": [],
   "source": [
    "x0 = np.sign(np.random.uniform(-1, 1, l.N))\n",
    "# x0 = l.eigV[2]\n",
    "plt.imshow(x0.reshape(*l.syshape), cmap='hot')\n",
    "plt.colorbar()"
   ]
  },
  {
   "cell_type": "code",
   "execution_count": null,
   "id": "805b8d36",
   "metadata": {},
   "outputs": [],
   "source": [
    "dt = 1e-3\n",
    "tsteps = 100000\n",
    "sigma = 0               # standard deviation of the Gaussian noise\n",
    "M = np.eye(x0.shape[0]) - dt * l.resLp\n",
    "\n",
    "# initialize\n",
    "x = x0.ravel().copy()\n",
    "\n",
    "# time evolution with additive Gaussian noise\n",
    "for _ in range(tsteps):\n",
    "    η = np.random.normal(loc=0.0, scale=sigma, size=x.shape)\n",
    "    # η = 0\n",
    "    x = np.array(M @ x + η).flatten()\n",
    "xarr.append(x)"
   ]
  },
  {
   "cell_type": "code",
   "execution_count": null,
   "id": "27935d82",
   "metadata": {},
   "outputs": [],
   "source": [
    "fig, ax = plt.subplots(ncols=len(xarr), figsize=(10, 5))\n",
    "for i in range(len(xarr)):\n",
    "    ax[i].imshow(np.sign(xarr[i]).reshape(*l.syshape), cmap='hot')"
   ]
  }
 ],
 "metadata": {
  "kernelspec": {
   "display_name": "lrgsgenv",
   "language": "python",
   "name": "python3"
  },
  "language_info": {
   "codemirror_mode": {
    "name": "ipython",
    "version": 3
   },
   "file_extension": ".py",
   "mimetype": "text/x-python",
   "name": "python",
   "nbconvert_exporter": "python",
   "pygments_lexer": "ipython3",
   "version": "3.12.3"
  }
 },
 "nbformat": 4,
 "nbformat_minor": 5
}
