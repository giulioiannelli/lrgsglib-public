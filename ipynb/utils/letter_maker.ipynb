{
 "cells": [
  {
   "cell_type": "code",
   "execution_count": 8,
   "metadata": {},
   "outputs": [],
   "source": [
    "%matplotlib inline\n",
    "import matplotlib.pyplot as plt\n",
    "from pathlib import Path\n",
    "plt.style.use(Path('..', 'nb_plotsheet.mplstyle'))"
   ]
  },
  {
   "cell_type": "code",
   "execution_count": 9,
   "metadata": {},
   "outputs": [],
   "source": [
    "text = r'\\textbf{(c)}'"
   ]
  },
  {
   "cell_type": "code",
   "execution_count": null,
   "metadata": {},
   "outputs": [
    {
     "data": {
      "image/png": "[encoded data removed]",
      "text/plain": [
       "<Figure size 79.9087x58.1154 with 1 Axes>"
      ]
     },
     "metadata": {},
     "output_type": "display_data"
    }
   ],
   "source": [
    "fig, ax = plt.subplots()\n",
    "text_artist = ax.text(0.5, 0.5, text, \n",
    "                      fontsize=42, fontweight='bold', color='black', \n",
    "                      horizontalalignment='center', verticalalignment='center', \n",
    "                      transform=ax.transAxes)\n",
    "ax.axis('off')\n",
    "# Draw the canvas to calculate the position of the text\n",
    "fig.canvas.draw()\n",
    "# Get the bounding box of the text\n",
    "renderer = fig.canvas.get_renderer()\n",
    "bbox = text_artist.get_window_extent(renderer=renderer)\n",
    "# Convert the bounding box to figure size in inches\n",
    "inches_bbox = bbox.transformed(fig.dpi_scale_trans.inverted())\n",
    "# Set figure size to the text's bounding box dimensions\n",
    "fig.set_size_inches(inches_bbox.width, inches_bbox.height)\n",
    "# Remove additional margins\n",
    "plt.subplots_adjust(left=0, right=1, top=1, bottom=0)\n",
    "fig.savefig(Path('..', 'data', 'plot', 'fig_label.pdf'), \n",
    "            transparent=True, bbox_inches='tight')\n"
   ]
  }
 ],
 "metadata": {
  "kernelspec": {
   "display_name": "lrgsgenv",
   "language": "python",
   "name": "python3"
  },
  "language_info": {
   "codemirror_mode": {
    "name": "ipython",
    "version": 3
   },
   "file_extension": ".py",
   "mimetype": "text/x-python",
   "name": "python",
   "nbconvert_exporter": "python",
   "pygments_lexer": "ipython3",
   "version": "3.12.3"
  }
 },
 "nbformat": 4,
 "nbformat_minor": 2
}
