{
 "cells": [
  {
   "cell_type": "code",
   "execution_count": 1,
   "metadata": {},
   "outputs": [
    {
     "name": "stdout",
     "output_type": "stream",
     "text": [
      "Current working directory: /home/opisthofulax/PhD/projects/complex-networks/lrgsglib\n"
     ]
    }
   ],
   "source": [
    "%matplotlib inline\n",
    "#\n",
    "from lrgsglib.core import *\n",
    "from lrgsglib.funcs import create_Lattice2D_WeigvV\n",
    "#\n",
    "move_to_rootf()\n",
    "plt.style.use(\"ipynb/nb_plotsheet.mplstyle\")\n",
    "#\n",
    "subDatPth = os.path.join('plot', 'paper', 'suppinf', '')\n",
    "datPth = os.path.join('data', subDatPth)\n",
    "subPthStr = ['defects_plots']\n",
    "datPthDict = {s: os.path.join(datPth, s, '') for s in subPthStr}\n",
    "for path in datPthDict.values(): os.makedirs(path, exist_ok=True)"
   ]
  },
  {
   "cell_type": "markdown",
   "metadata": {},
   "source": [
    "## Eigenstate: squared, Single, Z err, X err"
   ]
  },
  {
   "cell_type": "code",
   "execution_count": 2,
   "metadata": {},
   "outputs": [],
   "source": [
    "side = 96\n",
    "geo = 'squared'\n",
    "#\n",
    "randZpList = [0.05, 0.10, 0.25]\n",
    "randXpList = [0.10, 0.25, 0.50]\n",
    "#\n",
    "cmap = ListedColormap([cred, cblu])\n",
    "#\n",
    "start_letter = 'a'  # Change this to start from a different letter\n",
    "total_subplots = 3\n",
    "alphabet = string.ascii_lowercase\n",
    "start_index = alphabet.index(start_letter.lower())\n",
    "labels = [fr\"\\textbf{{({alphabet[(start_index + i) % 26]})}}\" for i in range(total_subplots)]"
   ]
  },
  {
   "cell_type": "code",
   "execution_count": 3,
   "metadata": {},
   "outputs": [
    {
     "ename": "KeyboardInterrupt",
     "evalue": "",
     "output_type": "error",
     "traceback": [
      "\u001b[0;31m---------------------------------------------------------------------------\u001b[0m",
      "\u001b[0;31mKeyboardInterrupt\u001b[0m                         Traceback (most recent call last)",
      "Cell \u001b[0;32mIn[3], line 8\u001b[0m\n\u001b[1;32m      6\u001b[0m         thezip \u001b[38;5;241m=\u001b[39m \u001b[38;5;28mzip\u001b[39m(randXpList, labels)\n\u001b[1;32m      7\u001b[0m \u001b[38;5;28;01mfor\u001b[39;00m pflip, ll \u001b[38;5;129;01min\u001b[39;00m thezip:\n\u001b[0;32m----> 8\u001b[0m     l \u001b[38;5;241m=\u001b[39m \u001b[43mcreate_Lattice2D_WeigvV\u001b[49m\u001b[43m(\u001b[49m\u001b[43mcell\u001b[49m\u001b[38;5;241;43m=\u001b[39;49m\u001b[43mcell\u001b[49m\u001b[43m,\u001b[49m\u001b[43m \u001b[49m\u001b[43mside1\u001b[49m\u001b[38;5;241;43m=\u001b[39;49m\u001b[43mside\u001b[49m\u001b[43m,\u001b[49m\u001b[43m \u001b[49m\u001b[43mgeo\u001b[49m\u001b[38;5;241;43m=\u001b[39;49m\u001b[38;5;124;43m'\u001b[39;49m\u001b[38;5;124;43msquared\u001b[39;49m\u001b[38;5;124;43m'\u001b[39;49m\u001b[43m,\u001b[49m\u001b[43m \u001b[49m\n\u001b[1;32m      9\u001b[0m \u001b[43m                                \u001b[49m\u001b[43mpflip\u001b[49m\u001b[38;5;241;43m=\u001b[39;49m\u001b[43mpflip\u001b[49m\u001b[43m,\u001b[49m\u001b[43m \u001b[49m\u001b[43mpbc\u001b[49m\u001b[38;5;241;43m=\u001b[39;49m\u001b[38;5;28;43;01mFalse\u001b[39;49;00m\u001b[43m,\u001b[49m\u001b[43m \u001b[49m\n\u001b[1;32m     10\u001b[0m \u001b[43m                                \u001b[49m\u001b[43minit_nw_dict\u001b[49m\u001b[38;5;241;43m=\u001b[39;49m\u001b[38;5;28;43;01mTrue\u001b[39;49;00m\u001b[43m,\u001b[49m\u001b[43m \u001b[49m\u001b[43mwith_positions\u001b[49m\u001b[38;5;241;43m=\u001b[39;49m\u001b[38;5;28;43;01mTrue\u001b[39;49;00m\u001b[43m)\u001b[49m\n\u001b[1;32m     11\u001b[0m     \u001b[38;5;66;03m#\u001b[39;00m\n\u001b[1;32m     12\u001b[0m     fig, ax \u001b[38;5;241m=\u001b[39m plt\u001b[38;5;241m.\u001b[39msubplots(ncols\u001b[38;5;241m=\u001b[39m\u001b[38;5;241m2\u001b[39m)\n",
      "File \u001b[0;32m~/PhD/projects/complex-networks/lrgsglib/src/lrgsglib/funcs.py:58\u001b[0m, in \u001b[0;36mcreate_Lattice2D_WeigvV\u001b[0;34m(cell, **kwargs)\u001b[0m\n\u001b[1;32m     56\u001b[0m \u001b[38;5;66;03m# Process the Lattice2D object with additional compute_k_eigvV kwargs\u001b[39;00m\n\u001b[1;32m     57\u001b[0m l\u001b[38;5;241m.\u001b[39mflip_sel_edges(l\u001b[38;5;241m.\u001b[39mnwDict[cell][\u001b[38;5;124m'\u001b[39m\u001b[38;5;124mG\u001b[39m\u001b[38;5;124m'\u001b[39m])\n\u001b[0;32m---> 58\u001b[0m \u001b[43ml\u001b[49m\u001b[38;5;241;43m.\u001b[39;49m\u001b[43mcompute_k_eigvV\u001b[49m\u001b[43m(\u001b[49m\u001b[38;5;241;43m*\u001b[39;49m\u001b[38;5;241;43m*\u001b[39;49m\u001b[43mkwargs_c\u001b[49m\u001b[43m)\u001b[49m\n\u001b[1;32m     60\u001b[0m \u001b[38;5;28;01mreturn\u001b[39;00m l\n",
      "File \u001b[0;32m~/PhD/projects/complex-networks/lrgsglib/src/lrgsglib/nx_patches/SignedGraph.py:309\u001b[0m, in \u001b[0;36mSignedGraph.compute_k_eigvV\u001b[0;34m(self, howmany, MODE_dynspec, which, typf)\u001b[0m\n\u001b[1;32m    297\u001b[0m     \u001b[38;5;28mself\u001b[39m\u001b[38;5;241m.\u001b[39meigV \u001b[38;5;241m=\u001b[39m \u001b[38;5;28mself\u001b[39m\u001b[38;5;241m.\u001b[39meigV\u001b[38;5;241m.\u001b[39mT\n\u001b[1;32m    298\u001b[0m \u001b[38;5;28;01mif\u001b[39;00m MODE_dynspec\u001b[38;5;241m.\u001b[39mstartswith(\u001b[38;5;124m\"\u001b[39m\u001b[38;5;124mscipy\u001b[39m\u001b[38;5;124m\"\u001b[39m):\n\u001b[1;32m    299\u001b[0m     \u001b[38;5;66;03m# scsp_eigshMode = MODE_dynspec.split('_')\u001b[39;00m\n\u001b[1;32m    300\u001b[0m     \u001b[38;5;66;03m# if len(scsp_eigshMode) == 1:\u001b[39;00m\n\u001b[0;32m   (...)\u001b[0m\n\u001b[1;32m    307\u001b[0m     \u001b[38;5;66;03m#     self.sLp.astype(typf), k=howmany, which=which, sigma=sigma, mode=scsp_eigshMode\u001b[39;00m\n\u001b[1;32m    308\u001b[0m     \u001b[38;5;66;03m# )\u001b[39;00m\n\u001b[0;32m--> 309\u001b[0m     \u001b[38;5;28mself\u001b[39m\u001b[38;5;241m.\u001b[39meigv, \u001b[38;5;28mself\u001b[39m\u001b[38;5;241m.\u001b[39meigV \u001b[38;5;241m=\u001b[39m \u001b[43mscsp_eigsh\u001b[49m\u001b[43m(\u001b[49m\n\u001b[1;32m    310\u001b[0m \u001b[43m        \u001b[49m\u001b[38;5;28;43mself\u001b[39;49m\u001b[38;5;241;43m.\u001b[39;49m\u001b[43msLp\u001b[49m\u001b[38;5;241;43m.\u001b[39;49m\u001b[43mastype\u001b[49m\u001b[43m(\u001b[49m\u001b[43mtypf\u001b[49m\u001b[43m)\u001b[49m\u001b[43m,\u001b[49m\u001b[43m \u001b[49m\u001b[43mk\u001b[49m\u001b[38;5;241;43m=\u001b[39;49m\u001b[43mhowmany\u001b[49m\u001b[43m,\u001b[49m\u001b[43m \u001b[49m\u001b[43mwhich\u001b[49m\u001b[38;5;241;43m=\u001b[39;49m\u001b[43mwhich\u001b[49m\u001b[43m,\u001b[49m\u001b[43m \u001b[49m\u001b[43mmode\u001b[49m\u001b[38;5;241;43m=\u001b[39;49m\u001b[38;5;124;43m\"\u001b[39;49m\u001b[38;5;124;43mcaley\u001b[39;49m\u001b[38;5;124;43m\"\u001b[39;49m\n\u001b[1;32m    311\u001b[0m \u001b[43m    \u001b[49m\u001b[43m)\u001b[49m\n\u001b[1;32m    312\u001b[0m     \u001b[38;5;28mself\u001b[39m\u001b[38;5;241m.\u001b[39meigV \u001b[38;5;241m=\u001b[39m \u001b[38;5;28mself\u001b[39m\u001b[38;5;241m.\u001b[39meigV\u001b[38;5;241m.\u001b[39mT\n",
      "File \u001b[0;32m~/anaconda3/envs/lrgsgenv/lib/python3.12/site-packages/scipy/sparse/linalg/_eigen/arpack/arpack.py:1700\u001b[0m, in \u001b[0;36meigsh\u001b[0;34m(A, k, M, sigma, which, v0, ncv, maxiter, tol, return_eigenvectors, Minv, OPinv, mode)\u001b[0m\n\u001b[1;32m   1698\u001b[0m \u001b[38;5;28;01mwith\u001b[39;00m _ARPACK_LOCK:\n\u001b[1;32m   1699\u001b[0m     \u001b[38;5;28;01mwhile\u001b[39;00m \u001b[38;5;129;01mnot\u001b[39;00m params\u001b[38;5;241m.\u001b[39mconverged:\n\u001b[0;32m-> 1700\u001b[0m         \u001b[43mparams\u001b[49m\u001b[38;5;241;43m.\u001b[39;49m\u001b[43miterate\u001b[49m\u001b[43m(\u001b[49m\u001b[43m)\u001b[49m\n\u001b[1;32m   1702\u001b[0m     \u001b[38;5;28;01mreturn\u001b[39;00m params\u001b[38;5;241m.\u001b[39mextract(return_eigenvectors)\n",
      "File \u001b[0;32m~/anaconda3/envs/lrgsgenv/lib/python3.12/site-packages/scipy/sparse/linalg/_eigen/arpack/arpack.py:549\u001b[0m, in \u001b[0;36m_SymmetricArpackParams.iterate\u001b[0;34m(self)\u001b[0m\n\u001b[1;32m    546\u001b[0m \u001b[38;5;28;01melif\u001b[39;00m \u001b[38;5;28mself\u001b[39m\u001b[38;5;241m.\u001b[39mido \u001b[38;5;241m==\u001b[39m \u001b[38;5;241m1\u001b[39m:\n\u001b[1;32m    547\u001b[0m     \u001b[38;5;66;03m# compute y = Op*x\u001b[39;00m\n\u001b[1;32m    548\u001b[0m     \u001b[38;5;28;01mif\u001b[39;00m \u001b[38;5;28mself\u001b[39m\u001b[38;5;241m.\u001b[39mmode \u001b[38;5;241m==\u001b[39m \u001b[38;5;241m1\u001b[39m:\n\u001b[0;32m--> 549\u001b[0m         \u001b[38;5;28mself\u001b[39m\u001b[38;5;241m.\u001b[39mworkd[yslice] \u001b[38;5;241m=\u001b[39m \u001b[38;5;28;43mself\u001b[39;49m\u001b[38;5;241;43m.\u001b[39;49m\u001b[43mOP\u001b[49m\u001b[43m(\u001b[49m\u001b[38;5;28;43mself\u001b[39;49m\u001b[38;5;241;43m.\u001b[39;49m\u001b[43mworkd\u001b[49m\u001b[43m[\u001b[49m\u001b[43mxslice\u001b[49m\u001b[43m]\u001b[49m\u001b[43m)\u001b[49m\n\u001b[1;32m    550\u001b[0m     \u001b[38;5;28;01melif\u001b[39;00m \u001b[38;5;28mself\u001b[39m\u001b[38;5;241m.\u001b[39mmode \u001b[38;5;241m==\u001b[39m \u001b[38;5;241m2\u001b[39m:\n\u001b[1;32m    551\u001b[0m         \u001b[38;5;28mself\u001b[39m\u001b[38;5;241m.\u001b[39mworkd[xslice] \u001b[38;5;241m=\u001b[39m \u001b[38;5;28mself\u001b[39m\u001b[38;5;241m.\u001b[39mOPb(\u001b[38;5;28mself\u001b[39m\u001b[38;5;241m.\u001b[39mworkd[xslice])\n",
      "File \u001b[0;32m~/anaconda3/envs/lrgsgenv/lib/python3.12/site-packages/scipy/sparse/linalg/_interface.py:236\u001b[0m, in \u001b[0;36mLinearOperator.matvec\u001b[0;34m(self, x)\u001b[0m\n\u001b[1;32m    233\u001b[0m \u001b[38;5;28;01mif\u001b[39;00m x\u001b[38;5;241m.\u001b[39mshape \u001b[38;5;241m!=\u001b[39m (N,) \u001b[38;5;129;01mand\u001b[39;00m x\u001b[38;5;241m.\u001b[39mshape \u001b[38;5;241m!=\u001b[39m (N,\u001b[38;5;241m1\u001b[39m):\n\u001b[1;32m    234\u001b[0m     \u001b[38;5;28;01mraise\u001b[39;00m \u001b[38;5;167;01mValueError\u001b[39;00m(\u001b[38;5;124m'\u001b[39m\u001b[38;5;124mdimension mismatch\u001b[39m\u001b[38;5;124m'\u001b[39m)\n\u001b[0;32m--> 236\u001b[0m y \u001b[38;5;241m=\u001b[39m \u001b[38;5;28;43mself\u001b[39;49m\u001b[38;5;241;43m.\u001b[39;49m\u001b[43m_matvec\u001b[49m\u001b[43m(\u001b[49m\u001b[43mx\u001b[49m\u001b[43m)\u001b[49m\n\u001b[1;32m    238\u001b[0m \u001b[38;5;28;01mif\u001b[39;00m \u001b[38;5;28misinstance\u001b[39m(x, np\u001b[38;5;241m.\u001b[39mmatrix):\n\u001b[1;32m    239\u001b[0m     y \u001b[38;5;241m=\u001b[39m asmatrix(y)\n",
      "File \u001b[0;32m~/anaconda3/envs/lrgsgenv/lib/python3.12/site-packages/scipy/sparse/linalg/_interface.py:203\u001b[0m, in \u001b[0;36mLinearOperator._matvec\u001b[0;34m(self, x)\u001b[0m\n\u001b[1;32m    193\u001b[0m \u001b[38;5;28;01mdef\u001b[39;00m \u001b[38;5;21m_matvec\u001b[39m(\u001b[38;5;28mself\u001b[39m, x):\n\u001b[1;32m    194\u001b[0m \u001b[38;5;250m    \u001b[39m\u001b[38;5;124;03m\"\"\"Default matrix-vector multiplication handler.\u001b[39;00m\n\u001b[1;32m    195\u001b[0m \n\u001b[1;32m    196\u001b[0m \u001b[38;5;124;03m    If self is a linear operator of shape (M, N), then this method will\u001b[39;00m\n\u001b[0;32m   (...)\u001b[0m\n\u001b[1;32m    201\u001b[0m \u001b[38;5;124;03m    will define matrix-vector multiplication as well.\u001b[39;00m\n\u001b[1;32m    202\u001b[0m \u001b[38;5;124;03m    \"\"\"\u001b[39;00m\n\u001b[0;32m--> 203\u001b[0m     \u001b[38;5;28;01mreturn\u001b[39;00m \u001b[38;5;28;43mself\u001b[39;49m\u001b[38;5;241;43m.\u001b[39;49m\u001b[43mmatmat\u001b[49m\u001b[43m(\u001b[49m\u001b[43mx\u001b[49m\u001b[38;5;241;43m.\u001b[39;49m\u001b[43mreshape\u001b[49m\u001b[43m(\u001b[49m\u001b[38;5;241;43m-\u001b[39;49m\u001b[38;5;241;43m1\u001b[39;49m\u001b[43m,\u001b[49m\u001b[43m \u001b[49m\u001b[38;5;241;43m1\u001b[39;49m\u001b[43m)\u001b[49m\u001b[43m)\u001b[49m\n",
      "File \u001b[0;32m~/anaconda3/envs/lrgsgenv/lib/python3.12/site-packages/scipy/sparse/linalg/_interface.py:340\u001b[0m, in \u001b[0;36mLinearOperator.matmat\u001b[0;34m(self, X)\u001b[0m\n\u001b[1;32m    337\u001b[0m     \u001b[38;5;28;01mraise\u001b[39;00m \u001b[38;5;167;01mValueError\u001b[39;00m(\u001b[38;5;124mf\u001b[39m\u001b[38;5;124m'\u001b[39m\u001b[38;5;124mdimension mismatch: \u001b[39m\u001b[38;5;132;01m{\u001b[39;00m\u001b[38;5;28mself\u001b[39m\u001b[38;5;241m.\u001b[39mshape\u001b[38;5;132;01m}\u001b[39;00m\u001b[38;5;124m, \u001b[39m\u001b[38;5;132;01m{\u001b[39;00mX\u001b[38;5;241m.\u001b[39mshape\u001b[38;5;132;01m}\u001b[39;00m\u001b[38;5;124m'\u001b[39m)\n\u001b[1;32m    339\u001b[0m \u001b[38;5;28;01mtry\u001b[39;00m:\n\u001b[0;32m--> 340\u001b[0m     Y \u001b[38;5;241m=\u001b[39m \u001b[38;5;28;43mself\u001b[39;49m\u001b[38;5;241;43m.\u001b[39;49m\u001b[43m_matmat\u001b[49m\u001b[43m(\u001b[49m\u001b[43mX\u001b[49m\u001b[43m)\u001b[49m\n\u001b[1;32m    341\u001b[0m \u001b[38;5;28;01mexcept\u001b[39;00m \u001b[38;5;167;01mException\u001b[39;00m \u001b[38;5;28;01mas\u001b[39;00m e:\n\u001b[1;32m    342\u001b[0m     \u001b[38;5;28;01mif\u001b[39;00m issparse(X) \u001b[38;5;129;01mor\u001b[39;00m is_pydata_spmatrix(X):\n",
      "File \u001b[0;32m~/anaconda3/envs/lrgsgenv/lib/python3.12/site-packages/scipy/sparse/linalg/_interface.py:800\u001b[0m, in \u001b[0;36mMatrixLinearOperator._matmat\u001b[0;34m(self, X)\u001b[0m\n\u001b[1;32m    799\u001b[0m \u001b[38;5;28;01mdef\u001b[39;00m \u001b[38;5;21m_matmat\u001b[39m(\u001b[38;5;28mself\u001b[39m, X):\n\u001b[0;32m--> 800\u001b[0m     \u001b[38;5;28;01mreturn\u001b[39;00m \u001b[38;5;28;43mself\u001b[39;49m\u001b[38;5;241;43m.\u001b[39;49m\u001b[43mA\u001b[49m\u001b[38;5;241;43m.\u001b[39;49m\u001b[43mdot\u001b[49m\u001b[43m(\u001b[49m\u001b[43mX\u001b[49m\u001b[43m)\u001b[49m\n",
      "File \u001b[0;32m~/anaconda3/envs/lrgsgenv/lib/python3.12/site-packages/scipy/sparse/_base.py:474\u001b[0m, in \u001b[0;36m_spbase.dot\u001b[0;34m(self, other)\u001b[0m\n\u001b[1;32m    472\u001b[0m     \u001b[38;5;28;01mreturn\u001b[39;00m \u001b[38;5;28mself\u001b[39m \u001b[38;5;241m*\u001b[39m other\n\u001b[1;32m    473\u001b[0m \u001b[38;5;28;01melse\u001b[39;00m:\n\u001b[0;32m--> 474\u001b[0m     \u001b[38;5;28;01mreturn\u001b[39;00m \u001b[38;5;28;43mself\u001b[39;49m\u001b[43m \u001b[49m\u001b[38;5;241;43m@\u001b[39;49m\u001b[43m \u001b[49m\u001b[43mother\u001b[49m\n",
      "File \u001b[0;32m~/anaconda3/envs/lrgsgenv/lib/python3.12/site-packages/scipy/sparse/_base.py:695\u001b[0m, in \u001b[0;36m_spbase.__matmul__\u001b[0;34m(self, other)\u001b[0m\n\u001b[1;32m    692\u001b[0m \u001b[38;5;28;01mif\u001b[39;00m isscalarlike(other):\n\u001b[1;32m    693\u001b[0m     \u001b[38;5;28;01mraise\u001b[39;00m \u001b[38;5;167;01mValueError\u001b[39;00m(\u001b[38;5;124m\"\u001b[39m\u001b[38;5;124mScalar operands are not allowed, \u001b[39m\u001b[38;5;124m\"\u001b[39m\n\u001b[1;32m    694\u001b[0m                      \u001b[38;5;124m\"\u001b[39m\u001b[38;5;124muse \u001b[39m\u001b[38;5;124m'\u001b[39m\u001b[38;5;124m*\u001b[39m\u001b[38;5;124m'\u001b[39m\u001b[38;5;124m instead\u001b[39m\u001b[38;5;124m\"\u001b[39m)\n\u001b[0;32m--> 695\u001b[0m \u001b[38;5;28;01mreturn\u001b[39;00m \u001b[38;5;28;43mself\u001b[39;49m\u001b[38;5;241;43m.\u001b[39;49m\u001b[43m_matmul_dispatch\u001b[49m\u001b[43m(\u001b[49m\u001b[43mother\u001b[49m\u001b[43m)\u001b[49m\n",
      "File \u001b[0;32m~/anaconda3/envs/lrgsgenv/lib/python3.12/site-packages/scipy/sparse/_base.py:590\u001b[0m, in \u001b[0;36m_spbase._matmul_dispatch\u001b[0;34m(self, other)\u001b[0m\n\u001b[1;32m    588\u001b[0m     \u001b[38;5;28;01mreturn\u001b[39;00m \u001b[38;5;28mself\u001b[39m\u001b[38;5;241m.\u001b[39m_matmul_vector(other)\n\u001b[1;32m    589\u001b[0m \u001b[38;5;28;01melif\u001b[39;00m other\u001b[38;5;241m.\u001b[39mshape \u001b[38;5;241m==\u001b[39m (N, \u001b[38;5;241m1\u001b[39m):\n\u001b[0;32m--> 590\u001b[0m     result \u001b[38;5;241m=\u001b[39m \u001b[38;5;28;43mself\u001b[39;49m\u001b[38;5;241;43m.\u001b[39;49m\u001b[43m_matmul_vector\u001b[49m\u001b[43m(\u001b[49m\u001b[43mother\u001b[49m\u001b[38;5;241;43m.\u001b[39;49m\u001b[43mravel\u001b[49m\u001b[43m(\u001b[49m\u001b[43m)\u001b[49m\u001b[43m)\u001b[49m\n\u001b[1;32m    591\u001b[0m     \u001b[38;5;28;01mif\u001b[39;00m \u001b[38;5;28mself\u001b[39m\u001b[38;5;241m.\u001b[39mndim \u001b[38;5;241m==\u001b[39m \u001b[38;5;241m1\u001b[39m:\n\u001b[1;32m    592\u001b[0m         \u001b[38;5;28;01mreturn\u001b[39;00m result\n",
      "File \u001b[0;32m~/anaconda3/envs/lrgsgenv/lib/python3.12/site-packages/scipy/sparse/_compressed.py:481\u001b[0m, in \u001b[0;36m_cs_matrix._matmul_vector\u001b[0;34m(self, other)\u001b[0m\n\u001b[1;32m    478\u001b[0m M, N \u001b[38;5;241m=\u001b[39m \u001b[38;5;28mself\u001b[39m\u001b[38;5;241m.\u001b[39mshape\n\u001b[1;32m    480\u001b[0m \u001b[38;5;66;03m# output array\u001b[39;00m\n\u001b[0;32m--> 481\u001b[0m result \u001b[38;5;241m=\u001b[39m \u001b[43mnp\u001b[49m\u001b[38;5;241;43m.\u001b[39;49m\u001b[43mzeros\u001b[49m\u001b[43m(\u001b[49m\u001b[43mM\u001b[49m\u001b[43m,\u001b[49m\u001b[43m \u001b[49m\u001b[43mdtype\u001b[49m\u001b[38;5;241;43m=\u001b[39;49m\u001b[43mupcast_char\u001b[49m\u001b[43m(\u001b[49m\u001b[38;5;28;43mself\u001b[39;49m\u001b[38;5;241;43m.\u001b[39;49m\u001b[43mdtype\u001b[49m\u001b[38;5;241;43m.\u001b[39;49m\u001b[43mchar\u001b[49m\u001b[43m,\u001b[49m\n\u001b[1;32m    482\u001b[0m \u001b[43m                                       \u001b[49m\u001b[43mother\u001b[49m\u001b[38;5;241;43m.\u001b[39;49m\u001b[43mdtype\u001b[49m\u001b[38;5;241;43m.\u001b[39;49m\u001b[43mchar\u001b[49m\u001b[43m)\u001b[49m\u001b[43m)\u001b[49m\n\u001b[1;32m    484\u001b[0m \u001b[38;5;66;03m# csr_matvec or csc_matvec\u001b[39;00m\n\u001b[1;32m    485\u001b[0m fn \u001b[38;5;241m=\u001b[39m \u001b[38;5;28mgetattr\u001b[39m(_sparsetools, \u001b[38;5;28mself\u001b[39m\u001b[38;5;241m.\u001b[39mformat \u001b[38;5;241m+\u001b[39m \u001b[38;5;124m'\u001b[39m\u001b[38;5;124m_matvec\u001b[39m\u001b[38;5;124m'\u001b[39m)\n",
      "\u001b[0;31mKeyboardInterrupt\u001b[0m: "
     ]
    }
   ],
   "source": [
    "for cell in ['rand', 'randZERR', 'randXERR']:\n",
    "    match cell:\n",
    "        case 'rand' | 'randZERR':\n",
    "            thezip = zip(randZpList, labels)\n",
    "        case 'randXERR':\n",
    "            thezip = zip(randXpList, labels)\n",
    "    for pflip, ll in thezip:\n",
    "        l = create_Lattice2D_WeigvV(cell=cell, side1=side, geo='squared', \n",
    "                                    pflip=pflip, pbc=False, \n",
    "                                    init_nw_dict=True, with_positions=True)\n",
    "        #\n",
    "        fig, ax = plt.subplots(ncols=2)\n",
    "        #\n",
    "        ticks = [0, side-1]\n",
    "        ticksl = [r'$1$', fr'${side}$']\n",
    "        #\n",
    "        arr = flip_to_positive_majority_adapted(l.bin_eigV().reshape(l.syshape))\n",
    "        im = ax[0].imshow(np.rot90(arr), cmap=cmap, \n",
    "                          origin='upper', interpolation='none')\n",
    "        #\n",
    "        ax[0].set_xticks(ticks)\n",
    "        ax[0].set_yticks(ticks)\n",
    "        ax[0].set_xticklabels(ticksl)\n",
    "        ax[0].set_yticklabels(ticksl)\n",
    "        #\n",
    "        divdr, caxm, cbar = imshow_colorbar_caxdivider(im, ax[0])\n",
    "        cbar.set_ticks([])\n",
    "        #\n",
    "        (x_txt, y_txt) = -0.15, 1.05\n",
    "        ax[0].text(x_txt, y_txt, ll,\n",
    "                   transform=ax[0].transAxes, fontsize=50, \n",
    "                   ha='center', va='center'\n",
    "        )\n",
    "        #\n",
    "        ax[1].set_aspect('equal')\n",
    "        #\n",
    "        match cell:\n",
    "            case 'rand' | 'randZERR':\n",
    "                kwargsNxDraw = dict(width=1, node_color='black', node_size=1)\n",
    "                nx.draw(l.G, l.get_node_pos(), ax[1], \n",
    "                    edge_color=l.get_edge_color(pec='none'), **kwargsNxDraw)\n",
    "                if cell == 'rand':\n",
    "                    radius = 1.32\n",
    "                elif cell == 'randZERR':\n",
    "                    radius = l.r_c\n",
    "                match cell:\n",
    "                    case 'rand':\n",
    "                        circles = [tuple([i[0][0], i[0][1]+.5]) \n",
    "                                if (i[0][1] == i[1][1] - 1) \n",
    "                                else tuple([i[0][0]+.5, i[0][1]]) \n",
    "                                for i in l.fleset['H']]\n",
    "                        nodeAll = set(circles)\n",
    "                    case 'randZERR':\n",
    "                        circles = np.array(l.nwDict.rNodeFlip['H'])\n",
    "                        nodeAll = set(l.nwDict.rNodeFlip['H'])\n",
    "                        ndOther = nodeAll - set(lCl)\n",
    "                lCl = find_largest_cluster_circle2D(circles, radius)\n",
    "                ndOther = nodeAll - set(lCl)\n",
    "                match cell:\n",
    "                    case 'rand':\n",
    "                        for cc in nodeAll:\n",
    "                            circC = (cc[0], cc[1])\n",
    "                            col = 'k' if circC in ndOther else 'r'\n",
    "                            circle = plt.Circle(circC, radius, \n",
    "                                                color=col, alpha=.25)\n",
    "                            ax[1].add_patch(circle)\n",
    "                    case 'randZERR':\n",
    "                        for cc in nodeAll:\n",
    "                            circC = (cc[0]-.5, cc[1]-.5)\n",
    "                            col = 'k' if cc in ndOther else 'r'\n",
    "                            circle = plt.Circle(circC, radius, \n",
    "                                                color=col, alpha=.25)\n",
    "                            ax[1].add_patch(circle)\n",
    "            case 'randXERR':\n",
    "                l.load_eigV_on_g()\n",
    "                kwargsNxDraw = dict(width=2, edgecolors='black', node_size=0)\n",
    "                nx.draw(l.G, l.get_node_pos(), ax[1],\n",
    "                    edge_color=l.get_edge_color(pec='none'), **kwargsNxDraw)\n",
    "        fname = f'suppli_DEF_{geo}_{side}_{pflip}_{cell}.png'\n",
    "        fig.tight_layout()\n",
    "        fig.savefig(os.path.join(datPthDict['defects_plots'], fname), \n",
    "            bbox_inches='tight', transparent=True, dpi=300)\n",
    "        plt.close('all')"
   ]
  },
  {
   "cell_type": "markdown",
   "metadata": {},
   "source": [
    "## Other"
   ]
  },
  {
   "cell_type": "code",
   "execution_count": null,
   "metadata": {},
   "outputs": [],
   "source": [
    "side = 96\n",
    "pflip = 0.103\n",
    "geometry = 'squared'\n",
    "cell = 'rand'"
   ]
  },
  {
   "cell_type": "code",
   "execution_count": null,
   "metadata": {},
   "outputs": [],
   "source": [
    "configurations = [\n",
    "    (side, True),\n",
    "    (32, False)\n",
    "]\n",
    "#\n",
    "for i, (side1, pbc) in enumerate(configurations):\n",
    "    l_tmp = Lattice2D(\n",
    "        side1=side1,\n",
    "        geo=geometry,\n",
    "        pflip=pflip,\n",
    "        pbc=pbc,\n",
    "        sgpath=subDatPth,\n",
    "        with_positions=True,\n",
    "        init_nw_dict=True\n",
    "    )\n",
    "    #\n",
    "    fliplist = l_tmp.nwDict[cell]['G']\n",
    "    l_tmp.flip_sel_edges(fliplist)\n",
    "    l_tmp.compute_k_eigvV()\n",
    "    #\n",
    "    if i == 0:\n",
    "        l = l_tmp\n",
    "    elif i == 1:\n",
    "        l_draw = l_tmp"
   ]
  },
  {
   "cell_type": "code",
   "execution_count": null,
   "metadata": {},
   "outputs": [],
   "source": [
    "fig, ax = plt.subplots(ncols=2)\n",
    "ax[0].imshow(np.sign(l.eigV[0].reshape(l.syshape)))\n",
    "nx.draw(l_draw.G, pos = l_draw.get_node_pos(), \n",
    "    width=0, ax=ax[1], node_size=10)\n",
    "ax[1].set_aspect('equal')\n",
    "if cell == 'rand':\n",
    "    for i in l_draw.rEdgeFlip['G']:\n",
    "        if i[0][1] == i[1][1] - 1:\n",
    "            circle_center = (i[0][0], i[0][1]+.5)\n",
    "        elif i[0][0] == i[1][0] - 1:\n",
    "            circle_center = (i[0][0]+.5, i[0][1])\n",
    "        circle = plt.Circle(circle_center, l_draw.r_c, color='red', alpha=0.25)\n",
    "        ax[1].add_patch(circle)\n",
    "elif cell == 'randXERR':\n",
    "    for circle_center in l_draw.nwDict.rNodeFlip['G']:\n",
    "        circle = plt.Circle(circle_center, l_draw.r_c, color='red', alpha=0.25)\n",
    "        ax[1].add_patch(circle)\n",
    "elif cell == 'randZERR':\n",
    "    for i in l_draw.nwDict.rNodeFlip['G']:\n",
    "        circle_center = (i[0]-.5, i[1]-.5)\n",
    "        circle = plt.Circle(circle_center, l_draw.r_c, color='red', alpha=0.25)\n",
    "        ax[1].add_patch(circle)\n",
    "fig.tight_layout()\n",
    "fig.savefig(f\"{datPthDict['defects_plots']}{geometry}_{side}_{pflip}_{cell}.pdf\", \n",
    "    bbox_inches='tight', transparent=True)\n",
    "# plt.close('all')"
   ]
  },
  {
   "cell_type": "code",
   "execution_count": null,
   "metadata": {},
   "outputs": [],
   "source": [
    "rows, cols= 64, 64\n",
    "p = 0.1\n",
    "random_matrix = np.random.rand(rows*cols)\n",
    "binary_matrix = np.where(random_matrix < p, 1, -1)\n"
   ]
  },
  {
   "cell_type": "code",
   "execution_count": null,
   "metadata": {},
   "outputs": [],
   "source": [
    "rows, cols= 128, 128\n",
    "pinf = []\n",
    "for p in np.linspace(0.1, 0.9, 50):\n",
    "    random_matrix = np.random.rand(rows, cols)\n",
    "    binary_matrix = np.where(random_matrix < p, 1, -1)\n",
    "    pinf.append(np.abs(np.where(binary_matrix.flatten() == 1)[0].shape[0] / (rows*cols) - np.where(binary_matrix.flatten() == -1)[0].shape[0] / (rows*cols)))"
   ]
  },
  {
   "cell_type": "code",
   "execution_count": null,
   "metadata": {},
   "outputs": [],
   "source": [
    "plt.plot(np.linspace(0.1, 0.9, 50), pinf)"
   ]
  },
  {
   "cell_type": "code",
   "execution_count": null,
   "metadata": {},
   "outputs": [],
   "source": [
    "plt.imshow(binary_matrix)"
   ]
  },
  {
   "cell_type": "code",
   "execution_count": null,
   "metadata": {},
   "outputs": [],
   "source": [
    "l = Lattice2D(64)\n",
    "nx.set_node_attributes(l.G, values=random.choices([-1, 1], k=l.G.number_of_nodes()))"
   ]
  },
  {
   "cell_type": "code",
   "execution_count": null,
   "metadata": {},
   "outputs": [],
   "source": [
    "l = Lattice2D(2048, pflip=0.001, with_positions=False)\n",
    "l.flip_sel_edges(l.nwDict['rand']['G'])"
   ]
  },
  {
   "cell_type": "code",
   "execution_count": null,
   "metadata": {},
   "outputs": [],
   "source": [
    "l.compute_k_eigvV()"
   ]
  },
  {
   "cell_type": "code",
   "execution_count": null,
   "metadata": {},
   "outputs": [],
   "source": []
  }
 ],
 "metadata": {
  "kernelspec": {
   "display_name": "LRG-Signed",
   "language": "python",
   "name": "python3"
  },
  "language_info": {
   "codemirror_mode": {
    "name": "ipython",
    "version": 3
   },
   "file_extension": ".py",
   "mimetype": "text/x-python",
   "name": "python",
   "nbconvert_exporter": "python",
   "pygments_lexer": "ipython3",
   "version": "3.12.3"
  }
 },
 "nbformat": 4,
 "nbformat_minor": 2
}
