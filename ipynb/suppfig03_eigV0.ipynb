{
 "cells": [
  {
   "cell_type": "code",
   "execution_count": 1,
   "metadata": {},
   "outputs": [
    {
     "name": "stdout",
     "output_type": "stream",
     "text": [
      "Current working directory: /home/opisthofulax/PhD/projects/complex-networks/lrgsglib\n"
     ]
    }
   ],
   "source": [
    "%matplotlib inline\n",
    "#\n",
    "from lrgsglib.shared import *\n",
    "from lrgsglib.config.plotlib import imshow_colorbar_caxdivider, restr_twilight\n",
    "from lrgsglib.config.utils import find_largest_cluster_circle2D\n",
    "from lrgsglib.core import move_to_rootf, Lattice2D, flip_to_positive_majority_adapted\n",
    "from matplotlib.colors import ListedColormap\n",
    "from lrgsglib.funcs import create_Lattice2D_WeigvV\n",
    "#\n",
    "move_to_rootf()\n",
    "plt.style.use(\"ipynb/nb_plotsheet.mplstyle\")\n",
    "#\n",
    "subDatPth = os.path.join('plot', 'paper', 'suppinf', '')\n",
    "datPth = os.path.join('data', subDatPth)\n",
    "subPthStr = ['defects_plots']\n",
    "datPthDict = {s: os.path.join(datPth, s, '') for s in subPthStr}\n",
    "for path in datPthDict.values(): os.makedirs(path, exist_ok=True)"
   ]
  },
  {
   "cell_type": "markdown",
   "metadata": {},
   "source": [
    "## Eigenstate: squared, Single, Z err, X err"
   ]
  },
  {
   "cell_type": "code",
   "execution_count": 2,
   "metadata": {},
   "outputs": [],
   "source": [
    "side = 96\n",
    "geo = 'squared'\n",
    "#\n",
    "randZpList = [0.05, 0.10, 0.25]\n",
    "randXpList = [0.10, 0.25, 0.50]\n",
    "#\n",
    "cmap = ListedColormap([restr_twilight(0), restr_twilight(0.99)])\n",
    "#\n",
    "start_letter = 'a'  # Change this to start from a different letter\n",
    "total_subplots = 3\n",
    "alphabet = string.ascii_lowercase\n",
    "start_index = alphabet.index(start_letter.lower())\n",
    "labels = [fr\"\\textbf{{({alphabet[(start_index + i) % 26]})}}\" for i in range(total_subplots)]"
   ]
  },
  {
   "cell_type": "code",
   "execution_count": 3,
   "metadata": {},
   "outputs": [],
   "source": [
    "for cell in ['rand', 'randZERR', 'randXERR']:\n",
    "    match cell:\n",
    "        case 'rand' | 'randZERR':\n",
    "            thezip = zip(randZpList, labels)\n",
    "        case 'randXERR':\n",
    "            thezip = zip(randXpList, labels)\n",
    "    for pflip, ll in thezip:\n",
    "        l = create_Lattice2D_WeigvV(cell=cell, side1=side, geo='squared', \n",
    "                                    pflip=pflip, pbc=False, \n",
    "                                    init_nw_dict=True, with_positions=True)\n",
    "        #\n",
    "        fig, ax = plt.subplots(ncols=2)\n",
    "        #\n",
    "        ticks = [0, side-1]\n",
    "        ticksl = [r'$1$', fr'${side}$']\n",
    "        #\n",
    "        arr = flip_to_positive_majority_adapted(l.bin_eigV().reshape(l.syshape))\n",
    "        im = ax[0].imshow(np.rot90(arr), cmap=cmap, \n",
    "                          origin='upper', interpolation='none')\n",
    "        #\n",
    "        ax[0].set_xticks(ticks)\n",
    "        ax[0].set_yticks(ticks)\n",
    "        ax[0].set_xticklabels(ticksl)\n",
    "        ax[0].set_yticklabels(ticksl)\n",
    "        #\n",
    "        divdr, caxm, cbar = imshow_colorbar_caxdivider(im, ax[0])\n",
    "        cbar.set_ticks([])\n",
    "        #\n",
    "        (x_txt, y_txt) = -0.15, 1.05\n",
    "        ax[0].text(x_txt, y_txt, ll,\n",
    "                   transform=ax[0].transAxes, fontsize=50, \n",
    "                   ha='center', va='center'\n",
    "        )\n",
    "        #\n",
    "        ax[1].set_aspect('equal')\n",
    "        #\n",
    "        match cell:\n",
    "            case 'rand' | 'randZERR':\n",
    "                kwargsNxDraw = dict(width=1, node_color='black', node_size=1)\n",
    "                nx.draw(l.G, l.get_node_pos(), ax[1], \n",
    "                    edge_color=l.get_edge_color(pec='none'), **kwargsNxDraw)\n",
    "                radius = l.r_c\n",
    "                match cell:\n",
    "                    case 'rand':\n",
    "                        circles = [tuple([i[0][0], i[0][1]+.5]) \n",
    "                                if (i[0][1] == i[1][1] - 1) \n",
    "                                else tuple([i[0][0]+.5, i[0][1]]) \n",
    "                                for i in l.rEdgeFlip['G']]\n",
    "                        nodeAll = set(circles)\n",
    "                    case 'randZERR':\n",
    "                        circles = np.array(l.nwDict.rNodeFlip['G'])\n",
    "                        nodeAll = set(l.nwDict.rNodeFlip['G'])\n",
    "                        ndOther = nodeAll - set(lCl)\n",
    "                lCl = find_largest_cluster_circle2D(circles, radius)\n",
    "                ndOther = nodeAll - set(lCl)\n",
    "                match cell:\n",
    "                    case 'rand':\n",
    "                        for cc in nodeAll:\n",
    "                            circC = (cc[0], cc[1])\n",
    "                            col = 'k' if circC in ndOther else 'r'\n",
    "                            circle = plt.Circle(circC, radius, \n",
    "                                                color=col, alpha=.25)\n",
    "                            ax[1].add_patch(circle)\n",
    "                    case 'randZERR':\n",
    "                        for cc in nodeAll:\n",
    "                            circC = (cc[0]-.5, cc[1]-.5)\n",
    "                            col = 'k' if cc in ndOther else 'r'\n",
    "                            circle = plt.Circle(circC, radius, \n",
    "                                                color=col, alpha=.25)\n",
    "                            ax[1].add_patch(circle)\n",
    "            case 'randXERR':\n",
    "                l.load_eigV_on_graph()\n",
    "                kwargsNxDraw = dict(width=2, edgecolors='black', node_size=0)\n",
    "                nx.draw(l.G, l.get_node_pos(), ax[1],\n",
    "                    edge_color=l.get_edge_color(pec='none'), **kwargsNxDraw)\n",
    "        fname = f'suppli_DEF_{geo}_{side}_{pflip}_{cell}.png'\n",
    "        fig.tight_layout()\n",
    "        fig.savefig(os.path.join(datPthDict['defects_plots'], fname), \n",
    "            bbox_inches='tight', transparent=True, dpi=300)\n",
    "        plt.close('all')"
   ]
  },
  {
   "cell_type": "markdown",
   "metadata": {},
   "source": [
    "## Other"
   ]
  },
  {
   "cell_type": "code",
   "execution_count": null,
   "metadata": {},
   "outputs": [],
   "source": [
    "side = 96\n",
    "pflip = 0.103\n",
    "geometry = 'squared'\n",
    "cell = 'rand'"
   ]
  },
  {
   "cell_type": "code",
   "execution_count": null,
   "metadata": {},
   "outputs": [],
   "source": [
    "configurations = [\n",
    "    (side, True),\n",
    "    (32, False)\n",
    "]\n",
    "#\n",
    "for i, (side1, pbc) in enumerate(configurations):\n",
    "    l_tmp = Lattice2D(\n",
    "        side1=side1,\n",
    "        geo=geometry,\n",
    "        pflip=pflip,\n",
    "        pbc=pbc,\n",
    "        sgpath=subDatPth,\n",
    "        with_positions=True,\n",
    "        init_nw_dict=True\n",
    "    )\n",
    "    #\n",
    "    fliplist = l_tmp.nwDict[cell]['G']\n",
    "    l_tmp.flip_sel_edges(fliplist)\n",
    "    l_tmp.compute_k_eigvV()\n",
    "    #\n",
    "    if i == 0:\n",
    "        l = l_tmp\n",
    "    elif i == 1:\n",
    "        l_draw = l_tmp"
   ]
  },
  {
   "cell_type": "code",
   "execution_count": null,
   "metadata": {},
   "outputs": [],
   "source": [
    "fig, ax = plt.subplots(ncols=2)\n",
    "ax[0].imshow(np.sign(l.eigV[0].reshape(l.syshape)))\n",
    "nx.draw(l_draw.G, pos = l_draw.get_node_pos(), \n",
    "    width=0, ax=ax[1], node_size=10)\n",
    "ax[1].set_aspect('equal')\n",
    "if cell == 'rand':\n",
    "    for i in l_draw.rEdgeFlip['G']:\n",
    "        if i[0][1] == i[1][1] - 1:\n",
    "            circle_center = (i[0][0], i[0][1]+.5)\n",
    "        elif i[0][0] == i[1][0] - 1:\n",
    "            circle_center = (i[0][0]+.5, i[0][1])\n",
    "        circle = plt.Circle(circle_center, l_draw.r_c, color='red', alpha=0.25)\n",
    "        ax[1].add_patch(circle)\n",
    "elif cell == 'randXERR':\n",
    "    for circle_center in l_draw.nwDict.rNodeFlip['G']:\n",
    "        circle = plt.Circle(circle_center, l_draw.r_c, color='red', alpha=0.25)\n",
    "        ax[1].add_patch(circle)\n",
    "elif cell == 'randZERR':\n",
    "    for i in l_draw.nwDict.rNodeFlip['G']:\n",
    "        circle_center = (i[0]-.5, i[1]-.5)\n",
    "        circle = plt.Circle(circle_center, l_draw.r_c, color='red', alpha=0.25)\n",
    "        ax[1].add_patch(circle)\n",
    "fig.tight_layout()\n",
    "fig.savefig(f\"{datPthDict['defects_plots']}{geometry}_{side}_{pflip}_{cell}.pdf\", \n",
    "    bbox_inches='tight', transparent=True)\n",
    "# plt.close('all')"
   ]
  },
  {
   "cell_type": "code",
   "execution_count": null,
   "metadata": {},
   "outputs": [],
   "source": [
    "rows, cols= 64, 64\n",
    "p = 0.1\n",
    "random_matrix = np.random.rand(rows*cols)\n",
    "binary_matrix = np.where(random_matrix < p, 1, -1)\n"
   ]
  },
  {
   "cell_type": "code",
   "execution_count": null,
   "metadata": {},
   "outputs": [],
   "source": [
    "rows, cols= 128, 128\n",
    "pinf = []\n",
    "for p in np.linspace(0.1, 0.9, 50):\n",
    "    random_matrix = np.random.rand(rows, cols)\n",
    "    binary_matrix = np.where(random_matrix < p, 1, -1)\n",
    "    pinf.append(np.abs(np.where(binary_matrix.flatten() == 1)[0].shape[0] / (rows*cols) - np.where(binary_matrix.flatten() == -1)[0].shape[0] / (rows*cols)))"
   ]
  },
  {
   "cell_type": "code",
   "execution_count": null,
   "metadata": {},
   "outputs": [],
   "source": [
    "plt.plot(np.linspace(0.1, 0.9, 50), pinf)"
   ]
  },
  {
   "cell_type": "code",
   "execution_count": null,
   "metadata": {},
   "outputs": [],
   "source": [
    "plt.imshow(binary_matrix)"
   ]
  },
  {
   "cell_type": "code",
   "execution_count": null,
   "metadata": {},
   "outputs": [],
   "source": [
    "l = Lattice2D(64)\n",
    "nx.set_node_attributes(l.G, values=random.choices([-1, 1], k=l.G.number_of_nodes()))"
   ]
  },
  {
   "cell_type": "code",
   "execution_count": null,
   "metadata": {},
   "outputs": [],
   "source": [
    "l = Lattice2D(2048, pflip=0.001, with_positions=False)\n",
    "l.flip_sel_edges(l.nwDict['rand']['G'])"
   ]
  },
  {
   "cell_type": "code",
   "execution_count": null,
   "metadata": {},
   "outputs": [],
   "source": [
    "l.compute_k_eigvV()"
   ]
  },
  {
   "cell_type": "code",
   "execution_count": null,
   "metadata": {},
   "outputs": [],
   "source": []
  }
 ],
 "metadata": {
  "kernelspec": {
   "display_name": "LRG-Signed",
   "language": "python",
   "name": "python3"
  },
  "language_info": {
   "codemirror_mode": {
    "name": "ipython",
    "version": 3
   },
   "file_extension": ".py",
   "mimetype": "text/x-python",
   "name": "python",
   "nbconvert_exporter": "python",
   "pygments_lexer": "ipython3",
   "version": "3.12.3"
  }
 },
 "nbformat": 4,
 "nbformat_minor": 2
}
