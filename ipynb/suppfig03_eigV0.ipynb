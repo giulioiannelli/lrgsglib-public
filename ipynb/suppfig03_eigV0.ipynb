{
 "cells": [
  {
   "cell_type": "code",
   "execution_count": 1,
   "metadata": {},
   "outputs": [
    {
     "name": "stdout",
     "output_type": "stream",
     "text": [
      "Current working directory: /home/opisthofulax/PhD/projects/complex-networks/lrgsglib\n"
     ]
    }
   ],
   "source": [
    "%matplotlib inline\n",
    "#\n",
    "from LRGSG_package.shared import *\n",
    "from LRGSG_package.config.plotlib import imshow_colorbar_caxdivider\n",
    "from LRGSG_package.config.utils import find_largest_cluster_circle2D\n",
    "from lrgsglib.core import move_to_rootf, Lattice2D, flip_to_positive_majority_adapted\n",
    "from matplotlib.colors import ListedColormap\n",
    "#\n",
    "move_to_rootf()\n",
    "plt.style.use(\"ipynb/nb_plotsheet.mplstyle\")\n",
    "#\n",
    "subDatPth = os.path.join('plot', 'paper', 'suppinf', '')\n",
    "datPth = os.path.join('data', subDatPth)\n",
    "subPthStr = ['defects_plots']\n",
    "datPthDict = {s: os.path.join(datPth, s, '') for s in subPthStr}\n",
    "for path in datPthDict.values(): os.makedirs(path, exist_ok=True)"
   ]
  },
  {
   "cell_type": "markdown",
   "metadata": {},
   "source": [
    "## Eigenstate: squared, Single, Z err, X err"
   ]
  },
  {
   "cell_type": "code",
   "execution_count": 2,
   "metadata": {},
   "outputs": [],
   "source": [
    "side = 96\n",
    "geo = 'squared'\n",
    "cmap = ListedColormap([plt.cm.viridis(0), plt.cm.viridis(0.99)])"
   ]
  },
  {
   "cell_type": "code",
   "execution_count": 3,
   "metadata": {},
   "outputs": [],
   "source": [
    "for cell in ['rand', 'randZERR', 'randXERR']:\n",
    "    thezip = zip([0.05, 0.103, 0.25], ['a', 'b', 'c'])\n",
    "    if cell == 'randXERR':\n",
    "        thezip = zip([0.103, 0.25, 0.5], ['a', 'b', 'c'])\n",
    "    for pflip, ll in thezip:\n",
    "        l = Lattice2D(side, geo,\n",
    "            pflip=pflip,\n",
    "            pbc=False,\n",
    "            sgpath=subDatPth,\n",
    "            initNwDict=True,\n",
    "            with_positions=True\n",
    "        )\n",
    "        #\n",
    "        l.flip_sel_edges(l.nwDict[cell]['G'])\n",
    "        l.compute_k_eigvV()\n",
    "        fig, ax = plt.subplots(ncols=2)\n",
    "        #\n",
    "        ax[1].set_aspect('equal')\n",
    "        #\n",
    "        ticks = [0, side-1]\n",
    "        ticksl = [r'$1$', fr'${side}$']\n",
    "        #\n",
    "        arr = flip_to_positive_majority_adapted(l.bin_eigV().reshape(l.syshape))\n",
    "        im = ax[0].imshow(np.rot90(arr), cmap=cmap, origin='upper', interpolation='none')\n",
    "        #\n",
    "        ax[0].set_xticks(ticks)\n",
    "        ax[0].set_yticks(ticks)\n",
    "        ax[0].set_xticklabels(ticksl)\n",
    "        ax[0].set_yticklabels(ticksl)\n",
    "        #\n",
    "        ax[0].text(0.05, 0.9, fr'\\textbf{{({ll})}}', transform=ax[0].transAxes, fontsize=50, \n",
    "                    fontweight='bold', color='black', ha='left', va='center', \n",
    "                    bbox=dict(facecolor='white', alpha=0.8, edgecolor='none', pad=5))\n",
    "        #\n",
    "        divdr, caxm, cbar = imshow_colorbar_caxdivider(im, ax[0])\n",
    "        cbar.set_ticks([])\n",
    "        #\n",
    "        if cell == 'rand' or cell == 'randZERR':\n",
    "            nx.draw(l.G, pos = l.get_node_pos(), width=1, node_color='black',\n",
    "                edge_color=l.get_edge_color(pec='none'), ax=ax[1], node_size=1)\n",
    "            if cell == 'rand':\n",
    "                circles = [tuple([i[0][0], i[0][1]+.5]) if (i[0][1] == i[1][1] - 1) else tuple([i[0][0]+.5, i[0][1]]) for i in l.rEdgeFlip['G']]\n",
    "                radius = l.r_c\n",
    "                largest_cluster = find_largest_cluster_circle2D(circles, radius)\n",
    "                node_1 = set(largest_cluster)\n",
    "                node_all = set(circles)\n",
    "                node_oher = node_all - node_1\n",
    "                for i in circles:\n",
    "                    test = (i[0], i[1])\n",
    "                    circle = plt.Circle(test, radius, color='k' if test in node_oher else 'r', alpha=.25)\n",
    "                    ax[1].add_patch(circle)\n",
    "            elif cell == 'randZERR':\n",
    "                circles = np.array(l.nwDict.rNodeFlip['G'])  # Ensure this is an array of tuples\n",
    "                radius = l.r_c\n",
    "                largest_cluster = find_largest_cluster_circle2D(circles, radius)\n",
    "                node_1 = set(largest_cluster)\n",
    "                node_all = set(l.nwDict.rNodeFlip['G'])\n",
    "                node_oher = node_all - node_1\n",
    "                #\n",
    "                for i in list(node_all):\n",
    "                    circle_center = (i[0]-.5, i[1]-.5)\n",
    "                    circle = plt.Circle(circle_center, radius, color='k' if i in node_oher else 'r', alpha=.25)\n",
    "                    ax[1].add_patch(circle)\n",
    "        elif cell == 'randXERR':\n",
    "            l.load_eigV_on_graph()\n",
    "            node_colors =l.get_node_attr('eigV0')\n",
    "            nx.draw(l.G, pos = l.get_node_pos(), width=2, edgecolors='black',\n",
    "                edge_color=l.get_edge_color(pec='none'), ax=ax[1], node_size=0, node_color=flip_to_positive_majority_adapted(np.sign(l.get_node_attr('eigV0'))), cmap=cmap)\n",
    "        fig.tight_layout()\n",
    "        fig.savefig(f\"{datPthDict['defects_plots']}{geo}_{side}_{pflip}_{cell}.png\", \n",
    "            bbox_inches='tight', transparent=True, dpi=300)\n",
    "        plt.close('all')"
   ]
  },
  {
   "cell_type": "markdown",
   "metadata": {},
   "source": [
    "## Other"
   ]
  },
  {
   "cell_type": "code",
   "execution_count": null,
   "metadata": {},
   "outputs": [],
   "source": [
    "side = 96\n",
    "pflip = 0.103\n",
    "geometry = 'squared'\n",
    "cell = 'rand'"
   ]
  },
  {
   "cell_type": "code",
   "execution_count": null,
   "metadata": {},
   "outputs": [],
   "source": [
    "configurations = [\n",
    "    (side, True),\n",
    "    (32, False)\n",
    "]\n",
    "#\n",
    "for i, (side1, pbc) in enumerate(configurations):\n",
    "    l_tmp = Lattice2D(\n",
    "        side1=side1,\n",
    "        geo=geometry,\n",
    "        pflip=pflip,\n",
    "        pbc=pbc,\n",
    "        sgpath=subDatPth,\n",
    "        with_positions=True,\n",
    "        initNwDict=True\n",
    "    )\n",
    "    #\n",
    "    fliplist = l_tmp.nwDict[cell]['G']\n",
    "    l_tmp.flip_sel_edges(fliplist)\n",
    "    l_tmp.compute_k_eigvV()\n",
    "    #\n",
    "    if i == 0:\n",
    "        l = l_tmp\n",
    "    elif i == 1:\n",
    "        l_draw = l_tmp"
   ]
  },
  {
   "cell_type": "code",
   "execution_count": null,
   "metadata": {},
   "outputs": [],
   "source": [
    "fig, ax = plt.subplots(ncols=2)\n",
    "ax[0].imshow(np.sign(l.eigV[0].reshape(l.syshape)))\n",
    "nx.draw(l_draw.G, pos = l_draw.get_node_pos(), \n",
    "    width=0, ax=ax[1], node_size=10)\n",
    "ax[1].set_aspect('equal')\n",
    "if cell == 'rand':\n",
    "    for i in l_draw.rEdgeFlip['G']:\n",
    "        if i[0][1] == i[1][1] - 1:\n",
    "            circle_center = (i[0][0], i[0][1]+.5)\n",
    "        elif i[0][0] == i[1][0] - 1:\n",
    "            circle_center = (i[0][0]+.5, i[0][1])\n",
    "        circle = plt.Circle(circle_center, l_draw.r_c, color='red', alpha=0.25)\n",
    "        ax[1].add_patch(circle)\n",
    "elif cell == 'randXERR':\n",
    "    for circle_center in l_draw.nwDict.rNodeFlip['G']:\n",
    "        circle = plt.Circle(circle_center, l_draw.r_c, color='red', alpha=0.25)\n",
    "        ax[1].add_patch(circle)\n",
    "elif cell == 'randZERR':\n",
    "    for i in l_draw.nwDict.rNodeFlip['G']:\n",
    "        circle_center = (i[0]-.5, i[1]-.5)\n",
    "        circle = plt.Circle(circle_center, l_draw.r_c, color='red', alpha=0.25)\n",
    "        ax[1].add_patch(circle)\n",
    "fig.tight_layout()\n",
    "fig.savefig(f\"{datPthDict['defects_plots']}{geometry}_{side}_{pflip}_{cell}.pdf\", \n",
    "    bbox_inches='tight', transparent=True)\n",
    "# plt.close('all')"
   ]
  },
  {
   "cell_type": "code",
   "execution_count": null,
   "metadata": {},
   "outputs": [],
   "source": [
    "rows, cols= 64, 64\n",
    "p = 0.1\n",
    "random_matrix = np.random.rand(rows*cols)\n",
    "binary_matrix = np.where(random_matrix < p, 1, -1)\n"
   ]
  },
  {
   "cell_type": "code",
   "execution_count": null,
   "metadata": {},
   "outputs": [],
   "source": [
    "rows, cols= 128, 128\n",
    "pinf = []\n",
    "for p in np.linspace(0.1, 0.9, 50):\n",
    "    random_matrix = np.random.rand(rows, cols)\n",
    "    binary_matrix = np.where(random_matrix < p, 1, -1)\n",
    "    pinf.append(np.abs(np.where(binary_matrix.flatten() == 1)[0].shape[0] / (rows*cols) - np.where(binary_matrix.flatten() == -1)[0].shape[0] / (rows*cols)))"
   ]
  },
  {
   "cell_type": "code",
   "execution_count": null,
   "metadata": {},
   "outputs": [],
   "source": [
    "plt.plot(np.linspace(0.1, 0.9, 50), pinf)"
   ]
  },
  {
   "cell_type": "code",
   "execution_count": null,
   "metadata": {},
   "outputs": [],
   "source": [
    "plt.imshow(binary_matrix)"
   ]
  },
  {
   "cell_type": "code",
   "execution_count": null,
   "metadata": {},
   "outputs": [],
   "source": [
    "l = Lattice2D(64)\n",
    "nx.set_node_attributes(l.G, values=random.choices([-1, 1], k=l.G.number_of_nodes()))"
   ]
  },
  {
   "cell_type": "code",
   "execution_count": null,
   "metadata": {},
   "outputs": [],
   "source": [
    "l = Lattice2D(2048, pflip=0.001, with_positions=False)\n",
    "l.flip_sel_edges(l.nwDict['rand']['G'])"
   ]
  },
  {
   "cell_type": "code",
   "execution_count": null,
   "metadata": {},
   "outputs": [],
   "source": [
    "l.compute_k_eigvV()"
   ]
  },
  {
   "cell_type": "code",
   "execution_count": null,
   "metadata": {},
   "outputs": [],
   "source": []
  }
 ],
 "metadata": {
  "kernelspec": {
   "display_name": "LRG-Signed",
   "language": "python",
   "name": "python3"
  },
  "language_info": {
   "codemirror_mode": {
    "name": "ipython",
    "version": 3
   },
   "file_extension": ".py",
   "mimetype": "text/x-python",
   "name": "python",
   "nbconvert_exporter": "python",
   "pygments_lexer": "ipython3",
   "version": "3.12.3"
  }
 },
 "nbformat": 4,
 "nbformat_minor": 2
}
