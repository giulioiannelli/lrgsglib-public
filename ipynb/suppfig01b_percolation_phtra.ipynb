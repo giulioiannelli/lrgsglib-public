{
 "cells": [
  {
   "cell_type": "code",
   "execution_count": 1,
   "metadata": {},
   "outputs": [
    {
     "name": "stdout",
     "output_type": "stream",
     "text": [
      "Current working directory: /home/opisthofulax/PhD/projects/complex-networks/lrgsglib\n"
     ]
    }
   ],
   "source": [
    "%matplotlib inline\n",
    "#\n",
    "from lrgsglib.shared import *\n",
    "from lrgsglib.config.const import *\n",
    "from lrgsglib.config.plotlib import inset_axes, restr_twilight, get_opposite_color, credcblu, plot_honeycomb_grid\n",
    "from lrgsglib.config.funcs import read_files_to_2d_array\n",
    "from lrgsglib.core import move_to_rootf, Lattice2D\n",
    "from matplotlib.ticker import ScalarFormatter\n",
    "from scipy.signal import find_peaks\n",
    "#\n",
    "move_to_rootf()\n",
    "plt.style.use(\"ipynb/nb_plotsheet.mplstyle\")\n",
    "#\n",
    "suppinfPath = \"data/plot/paper/suppinf/\"\n",
    "datasubPathStr = [\"data_pablo_tri-hex\", \"data_pablo_2-3-4-D\"]\n",
    "figsubpathstr = ['phtra']\n",
    "paths = {str: f\"{suppinfPath}{str}/\" for str in figsubpathstr}\n",
    "for path in paths.values(): os.makedirs(path, exist_ok=True)\n",
    "#\n",
    "axvline_kwarg = dict(ls=':', color='k')\n",
    "xlabelinset_kwargs = dict(labelpad=0, fontsize=18)\n",
    "ylabelinset_kwargs = dict(rotation=90, labelpad=10, va=\"center\",fontsize=18)\n",
    "axins_tickparams_kwargs = dict(axis='both', which='major', size=7, width=1.25, labelsize=16)\n",
    "axlegend_kwargs = dict(ncol=1, loc='lower left', fontsize=18)\n",
    "kwargs_lines = dict(lw=5, marker='')"
   ]
  },
  {
   "cell_type": "code",
   "execution_count": 5,
   "metadata": {},
   "outputs": [],
   "source": [
    "def process_plot(fig, ax, sides, geo, column, pathfname, legend_pos=None, \n",
    "                 ylabel='', text_content='', text_pos=None,\n",
    "                 transform=lambda x, L: x, transvline=False, compute_double_peaks=False):\n",
    "    colors = restr_twilight(np.linspace(0., 1., len(sides)))\n",
    "    plt.rcParams[\"axes.prop_cycle\"] = plt.cycler(color=colors)\n",
    "    for cc, side in enumerate(sides):\n",
    "        if geo in ['tri', 'hex', 'sqr']:\n",
    "            l = Lattice2D(side, geo)\n",
    "            N = l.N\n",
    "        elif geo == '4D':\n",
    "            N = side**4\n",
    "        fname = f\"{pathfname}{side}\"\n",
    "        data = np.loadtxt(fname, delimiter=',')\n",
    "        y_data = gaussian_filter(data[:, column], sigma=1)\n",
    "        p = data[:, 9]\n",
    "        if transform:\n",
    "            y_data = transform(y_data, side)\n",
    "        line, = ax.plot(p, y_data, label=fr'${N}$', zorder=1/(cc+1), \n",
    "                **kwargs_lines)\n",
    "        # Compute and plot double peaks if requested with denoising\n",
    "        if compute_double_peaks:\n",
    "            # Apply a denoising filter to reduce noise before finding peaks\n",
    "            smoothed_data = gaussian_filter(data[:, column], sigma=1.5)\n",
    "            peaks, _ = find_peaks(smoothed_data, prominence=0.0001)\n",
    "            if len(peaks) >= 2:\n",
    "                print(side, p[peaks[0]], p[peaks[1]])\n",
    "                # ax.axvline(p[peaks[0]], ls='--', c=line.get_color())\n",
    "                # ax.axvline(p[peaks[1]], ls='--', c=get_opposite_color(line.get_color()))\n",
    "    ax.set_xlabel(r'$p$')\n",
    "    ax.set_ylabel(ylabel)\n",
    "    if text_pos:\n",
    "        ax.text(*text_pos, text_content, transform=ax.transAxes, fontsize=40, \n",
    "                fontweight='bold', color='black')\n",
    "    if transvline:\n",
    "        peaks, _ = find_peaks(gaussian_filter(data[:, column], sigma=1.5))\n",
    "        ax.axvline(p[peaks[0]], ls='--', c='k')\n",
    "    ax.legend(fontsize=28, loc=legend_pos if legend_pos else 'upper right')\n",
    "    fig.tight_layout()"
   ]
  },
  {
   "cell_type": "markdown",
   "metadata": {},
   "source": [
    "## Phase Transitions"
   ]
  },
  {
   "cell_type": "markdown",
   "metadata": {},
   "source": [
    "### Hex: Size of the giant Cluster $P_{\\infty}$ and Fluctuations $\\chi$"
   ]
  },
  {
   "cell_type": "code",
   "execution_count": 10,
   "metadata": {},
   "outputs": [],
   "source": [
    "sides = [16, 32, 64, 128]\n",
    "geo = 'hex'\n",
    "pathfname = os.path.join(suppinfPath, datasubPathStr[0], \"OP_Hex_L\")"
   ]
  },
  {
   "cell_type": "code",
   "execution_count": 11,
   "metadata": {},
   "outputs": [],
   "source": [
    "fig_1, ax_1 = plt.subplots(figsize=(11, 7))\n",
    "fig_2, ax_2 = plt.subplots(figsize=(11, 7))\n",
    "\n",
    "process_plot(fig_1, ax_1, sides, geo, 0, pathfname, \n",
    "             ylabel=r'$P_{\\infty}$')#, text_pos=(0.03, 0.06), text_content=r'\\textbf{(a)}')\n",
    "process_plot(fig_2, ax_2, sides, geo, 1, pathfname, \n",
    "             transform=lambda x, L: x*L, ylabel=r'$\\chi$', \n",
    "             legend_pos=(0.6, 0.35), transvline=True)# text_pos=(0.88, 0.88), text_content=r'\\textbf{(b)}')\n",
    "\n",
    "# Save figures\n",
    "fig_1.savefig(f\"{paths['phtra']}suppli_S_{geo}.pdf\", \n",
    "              bbox_inches='tight', transparent=True)\n",
    "fig_2.savefig(f\"{paths['phtra']}suppli_fS_{geo}.pdf\", \n",
    "              bbox_inches='tight', transparent=True)\n",
    "\n",
    "plt.close('all')"
   ]
  },
  {
   "cell_type": "code",
   "execution_count": null,
   "metadata": {},
   "outputs": [],
   "source": [
    "data = np.array([\n",
    "    [32, 0.0913758389261745, 0.2608053691275168],\n",
    "    [64, 0.06812080536912751, 0.20432885906040268],\n",
    "    [128, 0.06479865771812081, 0.16446308724832215],\n",
    "    [256, 0.05483221476510067, 0.11463087248322149]\n",
    "])\n",
    "\n",
    "# Extract columns\n",
    "x = data[:, 0]\n",
    "y1 = data[:, 1]\n",
    "y2 = data[:, 2]\n",
    "\n",
    "# Plotting in log scale for x-axis\n",
    "plt.figure(figsize=(8, 6))\n",
    "plt.plot(x**2, y1, label='Column 1 vs Column 2', marker='o')\n",
    "plt.plot(x**2, y2, label='Column 1 vs Column 3', marker='o')\n",
    "plt.xscale('log')\n",
    "plt.yscale('log')\n",
    "\n",
    "plt.xlabel('Column 1 (log scale)')\n",
    "plt.ylabel('Values')\n",
    "plt.legend()\n",
    "plt.grid(True, which=\"both\", linestyle='--', linewidth=0.5)\n",
    "plt.tight_layout()\n",
    "plt.show()"
   ]
  },
  {
   "cell_type": "markdown",
   "metadata": {},
   "source": [
    "### Tri: Size of the giant Cluster $P_{\\infty}$ and Fluctuations $\\chi$"
   ]
  },
  {
   "cell_type": "code",
   "execution_count": null,
   "metadata": {},
   "outputs": [],
   "source": [
    "sides = [16, 32, 64, 96]\n",
    "geo = 'tri'\n",
    "pathfname = os.path.join(suppinfPath, datasubPathStr[0], \"OP_Tri_L\")"
   ]
  },
  {
   "cell_type": "code",
   "execution_count": null,
   "metadata": {},
   "outputs": [],
   "source": [
    "fig_1, ax_1 = plt.subplots(figsize=(11, 7))\n",
    "fig_2, ax_2 = plt.subplots(figsize=(11, 7))\n",
    "\n",
    "process_plot(fig_1, ax_1, sides, geo, 0, pathfname, \n",
    "             ylabel=r'$P_{\\infty}$')#, text_pos=(0.03, 0.06), text_content=r'\\textbf{(a)}')\n",
    "process_plot(fig_2, ax_2, sides, geo, 1, pathfname, \n",
    "             transform=lambda x, L: x*L, ylabel=r'$\\chi$', \n",
    "             legend_pos='upper right', transvline=True)# text_pos=(0.88, 0.88), text_content=r'\\textbf{(b)}')\n",
    "\n",
    "# Save figures\n",
    "fig_1.savefig(f\"{paths['phtra']}suppli_S_{geo}.pdf\", \n",
    "              bbox_inches='tight', transparent=True)\n",
    "fig_2.savefig(f\"{paths['phtra']}suppli_fS_{geo}.pdf\", \n",
    "              bbox_inches='tight', transparent=True)\n",
    "\n",
    "plt.close('all')"
   ]
  },
  {
   "cell_type": "markdown",
   "metadata": {},
   "source": [
    "### 4D: Size of the giant Cluster $P_{\\infty}$ and Fluctuations $\\chi$"
   ]
  },
  {
   "cell_type": "code",
   "execution_count": null,
   "metadata": {},
   "outputs": [],
   "source": [
    "sides = [7, 8, 9, 10]\n",
    "geo = '4D'\n",
    "pathfname = os.path.join(suppinfPath, datasubPathStr[1], \"OP_Squared4D_L\")"
   ]
  },
  {
   "cell_type": "code",
   "execution_count": null,
   "metadata": {},
   "outputs": [],
   "source": [
    "fig_1, ax_1 = plt.subplots(figsize=(11, 7))\n",
    "fig_2, ax_2 = plt.subplots(figsize=(11, 7))\n",
    "\n",
    "process_plot(fig_1, ax_1, sides, geo, 0, pathfname, legend_pos='lower left',\n",
    "             ylabel=r'$P_{\\infty}$')#, text_pos=(0.03, 0.06), text_content=r'\\textbf{(a)}')\n",
    "process_plot(fig_2, ax_2, sides, geo, 1, pathfname, legend_pos='upper left',\n",
    "             transform=lambda x, L: x*L*L, ylabel=r'$\\chi$', \n",
    "             transvline=True)# text_pos=(0.88, 0.88), text_content=r'\\textbf{(b)}')\n",
    "\n",
    "# Save figures\n",
    "fig_1.savefig(f\"{paths['phtra']}suppli_S_{geo}.pdf\", \n",
    "              bbox_inches='tight', transparent=True)\n",
    "fig_2.savefig(f\"{paths['phtra']}suppli_fS_{geo}.pdf\", \n",
    "              bbox_inches='tight', transparent=True)\n",
    "\n",
    "plt.close('all')"
   ]
  },
  {
   "cell_type": "markdown",
   "metadata": {},
   "source": [
    "### Tri ZERR: Size of the giant Cluster $P_{\\infty}$ and Fluctuations $\\chi$"
   ]
  },
  {
   "cell_type": "code",
   "execution_count": 7,
   "metadata": {},
   "outputs": [],
   "source": [
    "sides = [16, 32, 64, 96, 128]\n",
    "geo = 'tri'\n",
    "pathfname = os.path.join(suppinfPath, datasubPathStr[0], \"OP_Zerr_Tri_L\")"
   ]
  },
  {
   "cell_type": "code",
   "execution_count": 8,
   "metadata": {},
   "outputs": [],
   "source": [
    "fig_1, ax_1 = plt.subplots(figsize=(11, 7))\n",
    "fig_2, ax_2 = plt.subplots(figsize=(11, 7))\n",
    "\n",
    "process_plot(fig_1, ax_1, sides, geo, 0, pathfname, \n",
    "             ylabel=r'$P_{\\infty}$')#, text_pos=(0.03, 0.06), text_content=r'\\textbf{(a)}')\n",
    "process_plot(fig_2, ax_2, sides, geo, 1, pathfname, \n",
    "             transform=lambda x, L: x*L, ylabel=r'$\\chi$', \n",
    "             legend_pos='upper right', transvline=True)# text_pos=(0.88, 0.88), text_content=r'\\textbf{(b)}')\n",
    "\n",
    "# Save figures\n",
    "fig_1.savefig(f\"{paths['phtra']}suppli_S_{geo}Zerr.pdf\", \n",
    "              bbox_inches='tight', transparent=True)\n",
    "fig_2.savefig(f\"{paths['phtra']}suppli_fS_{geo}Zerr.pdf\", \n",
    "              bbox_inches='tight', transparent=True)\n",
    "\n",
    "plt.close('all')"
   ]
  },
  {
   "cell_type": "markdown",
   "metadata": {},
   "source": [
    "### Hex XERR: Size of the giant Cluster $P_{\\infty}$ and Fluctuations $\\chi$"
   ]
  },
  {
   "cell_type": "code",
   "execution_count": 239,
   "metadata": {},
   "outputs": [],
   "source": [
    "sides = [16, 32, 64, 128]\n",
    "geo = 'hex'\n",
    "pathfname = os.path.join(suppinfPath, datasubPathStr[0], \"OP_Xerr_Hex_L\")"
   ]
  },
  {
   "cell_type": "code",
   "execution_count": 240,
   "metadata": {},
   "outputs": [],
   "source": [
    "fig_1, ax_1 = plt.subplots(figsize=(11, 7))\n",
    "fig_2, ax_2 = plt.subplots(figsize=(11, 7))\n",
    "\n",
    "process_plot(fig_1, ax_1, sides, geo, 0, pathfname, \n",
    "             ylabel=r'$P_{\\infty}$')#, text_pos=(0.03, 0.06), text_content=r'\\textbf{(a)}')\n",
    "process_plot(fig_2, ax_2, sides, geo, 1, pathfname, \n",
    "             transform=lambda x, L: x*L, ylabel=r'$\\chi$', \n",
    "             legend_pos=(0.6, 0.35), transvline=False)# text_pos=(0.88, 0.88), text_content=r'\\textbf{(b)}')\n",
    "\n",
    "# Save figures\n",
    "fig_1.savefig(f\"{paths['phtra']}suppli_S_{geo}Xerr.pdf\", \n",
    "              bbox_inches='tight', transparent=True)\n",
    "fig_2.savefig(f\"{paths['phtra']}suppli_fS_{geo}Xerr.pdf\", \n",
    "              bbox_inches='tight', transparent=True)\n",
    "\n",
    "plt.close('all')"
   ]
  },
  {
   "cell_type": "markdown",
   "metadata": {},
   "source": [
    "### Sqr ZERR: Size of the giant Cluster $P_{\\infty}$ and Fluctuations $\\chi$"
   ]
  },
  {
   "cell_type": "code",
   "execution_count": 22,
   "metadata": {},
   "outputs": [],
   "source": [
    "sides = [16, 32, 64, 96, 128]\n",
    "geo = 'sqr'\n",
    "pathfname = os.path.join(suppinfPath, datasubPathStr[0], \"OP_Zerr_Squared_L\")"
   ]
  },
  {
   "cell_type": "code",
   "execution_count": 25,
   "metadata": {},
   "outputs": [],
   "source": [
    "fig_1, ax_1 = plt.subplots(figsize=(11, 7))\n",
    "fig_2, ax_2 = plt.subplots(figsize=(11, 7))\n",
    "\n",
    "process_plot(fig_1, ax_1, sides, geo, 0, pathfname, \n",
    "             ylabel=r'$P_{\\infty}$')#, text_pos=(0.03, 0.06), text_content=r'\\textbf{(a)}')\n",
    "process_plot(fig_2, ax_2, sides, geo, 1, pathfname, \n",
    "             transform=lambda x, L: x*L, ylabel=r'$\\chi$', \n",
    "             legend_pos=(0.6, 0.35), transvline=False)# text_pos=(0.88, 0.88), text_content=r'\\textbf{(b)}')\n",
    "\n",
    "# Save figures\n",
    "fig_1.savefig(f\"{paths['phtra']}suppli_S_{geo}Zerr.pdf\", \n",
    "              bbox_inches='tight', transparent=True)\n",
    "fig_2.savefig(f\"{paths['phtra']}suppli_fS_{geo}Zerr.pdf\", \n",
    "              bbox_inches='tight', transparent=True)\n",
    "\n",
    "plt.close('all')"
   ]
  },
  {
   "cell_type": "markdown",
   "metadata": {},
   "source": [
    "### Sqr XERR: Size of the giant Cluster $P_{\\infty}$ and Fluctuations $\\chi$"
   ]
  },
  {
   "cell_type": "code",
   "execution_count": 2,
   "metadata": {},
   "outputs": [],
   "source": [
    "sides = [16, 32, 64, 96]\n",
    "geo = 'sqr'\n",
    "pathfname = os.path.join(suppinfPath, datasubPathStr[0], \"OP_Xerr_Squared_L\")"
   ]
  },
  {
   "cell_type": "code",
   "execution_count": 3,
   "metadata": {},
   "outputs": [
    {
     "ename": "NameError",
     "evalue": "name 'process_plot' is not defined",
     "output_type": "error",
     "traceback": [
      "\u001b[0;31m---------------------------------------------------------------------------\u001b[0m",
      "\u001b[0;31mNameError\u001b[0m                                 Traceback (most recent call last)",
      "Cell \u001b[0;32mIn[3], line 4\u001b[0m\n\u001b[1;32m      1\u001b[0m fig_1, ax_1 \u001b[38;5;241m=\u001b[39m plt\u001b[38;5;241m.\u001b[39msubplots(figsize\u001b[38;5;241m=\u001b[39m(\u001b[38;5;241m11\u001b[39m, \u001b[38;5;241m7\u001b[39m))\n\u001b[1;32m      2\u001b[0m fig_2, ax_2 \u001b[38;5;241m=\u001b[39m plt\u001b[38;5;241m.\u001b[39msubplots(figsize\u001b[38;5;241m=\u001b[39m(\u001b[38;5;241m11\u001b[39m, \u001b[38;5;241m7\u001b[39m))\n\u001b[0;32m----> 4\u001b[0m \u001b[43mprocess_plot\u001b[49m(fig_1, ax_1, sides, geo, \u001b[38;5;241m0\u001b[39m, pathfname, \n\u001b[1;32m      5\u001b[0m              ylabel\u001b[38;5;241m=\u001b[39m\u001b[38;5;124mr\u001b[39m\u001b[38;5;124m'\u001b[39m\u001b[38;5;124m$P_\u001b[39m\u001b[38;5;124m{\u001b[39m\u001b[38;5;124m\\\u001b[39m\u001b[38;5;124minfty}$\u001b[39m\u001b[38;5;124m'\u001b[39m)\u001b[38;5;66;03m#, text_pos=(0.03, 0.06), text_content=r'\\textbf{(a)}')\u001b[39;00m\n\u001b[1;32m      6\u001b[0m process_plot(fig_2, ax_2, sides, geo, \u001b[38;5;241m1\u001b[39m, pathfname, \n\u001b[1;32m      7\u001b[0m              transform\u001b[38;5;241m=\u001b[39m\u001b[38;5;28;01mlambda\u001b[39;00m x, L: x\u001b[38;5;241m*\u001b[39mL, ylabel\u001b[38;5;241m=\u001b[39m\u001b[38;5;124mr\u001b[39m\u001b[38;5;124m'\u001b[39m\u001b[38;5;124m$\u001b[39m\u001b[38;5;124m\\\u001b[39m\u001b[38;5;124mchi$\u001b[39m\u001b[38;5;124m'\u001b[39m, \n\u001b[1;32m      8\u001b[0m              legend_pos\u001b[38;5;241m=\u001b[39m(\u001b[38;5;241m0.6\u001b[39m, \u001b[38;5;241m0.35\u001b[39m), transvline\u001b[38;5;241m=\u001b[39m\u001b[38;5;28;01mFalse\u001b[39;00m)\u001b[38;5;66;03m# text_pos=(0.88, 0.88), text_content=r'\\textbf{(b)}')\u001b[39;00m\n\u001b[1;32m     10\u001b[0m \u001b[38;5;66;03m# Save figures\u001b[39;00m\n",
      "\u001b[0;31mNameError\u001b[0m: name 'process_plot' is not defined"
     ]
    },
    {
     "data": {
      "image/png": "[encoded data removed]",
      "text/plain": [
       "<Figure size 1100x700 with 1 Axes>"
      ]
     },
     "metadata": {},
     "output_type": "display_data"
    },
    {
     "data": {
      "image/png": "[encoded data removed]",
      "text/plain": [
       "<Figure size 1100x700 with 1 Axes>"
      ]
     },
     "metadata": {},
     "output_type": "display_data"
    }
   ],
   "source": [
    "fig_1, ax_1 = plt.subplots(figsize=(11, 7))\n",
    "fig_2, ax_2 = plt.subplots(figsize=(11, 7))\n",
    "\n",
    "process_plot(fig_1, ax_1, sides, geo, 0, pathfname, \n",
    "             ylabel=r'$P_{\\infty}$')#, text_pos=(0.03, 0.06), text_content=r'\\textbf{(a)}')\n",
    "process_plot(fig_2, ax_2, sides, geo, 1, pathfname, \n",
    "             transform=lambda x, L: x*L, ylabel=r'$\\chi$', \n",
    "             legend_pos=(0.6, 0.35), transvline=False)# text_pos=(0.88, 0.88), text_content=r'\\textbf{(b)}')\n",
    "\n",
    "# Save figures\n",
    "fig_1.savefig(f\"{paths['phtra']}suppli_S_{geo}Xerr.pdf\", \n",
    "              bbox_inches='tight', transparent=True)\n",
    "fig_2.savefig(f\"{paths['phtra']}suppli_fS_{geo}Xerr.pdf\", \n",
    "              bbox_inches='tight', transparent=True)\n",
    "\n",
    "plt.close('all')"
   ]
  },
  {
   "cell_type": "markdown",
   "metadata": {},
   "source": [
    "### X error structure"
   ]
  },
  {
   "cell_type": "markdown",
   "metadata": {},
   "source": [
    "- the multiscale structure gets synchronized with $p$, so when the disorder induces paths of frustration of length comparable to the mode wavelength it fragments that order,\n",
    "- this process diverges as the transition (second peak) is approached\n",
    "- this is seen not in the 0 eigenstate but in the second ones which are the excitation modes which are metastable state\n",
    "- the first transition then marks the ending of the free diffusion regime for higher modes, where localization takes place, interference with the frustration paths, but the lowest eigestate is still the most stable up to surface effects (they go to zero in the volume) \n",
    "- the second one is marking the transition to the really disordered phase where competition evolve to antiferromagnetic domains and ferromagnetic ones, this is also why you should not see in the P_inf the first peak, then why it isso in the squared? hex and square should be the same\n",
    "- you need more $p$ to destroy the microscale! (sinchronization of disorder with scales) "
   ]
  },
  {
   "cell_type": "code",
   "execution_count": 8,
   "metadata": {},
   "outputs": [
    {
     "data": {
      "image/png": "[encoded data removed]",
      "text/plain": [
       "<Figure size 1500x900 with 15 Axes>"
      ]
     },
     "metadata": {},
     "output_type": "display_data"
    }
   ],
   "source": [
    "fig, ax = plt.subplots(figsize=(3*5, 3*3), ncols=5, nrows=3)\n",
    "for i,p in enumerate([0.005, 0.03, 0.1, 0.25, 0.5]):\n",
    "    l = Lattice2D(32, geo='sqr', pbc=False, pflip=p, init_nw_dict=True)\n",
    "    l.flip_sel_edges(l.nwDict['randXERR']['G'])\n",
    "    l.compute_k_eigvV()\n",
    "    eigV = l.eigV[0]\n",
    "    negative_count = np.sum(eigV < 0)\n",
    "    positive_count = np.sum(eigV > 0)\n",
    "    # Determine majority sign\n",
    "    minority_sign = -1 if negative_count > positive_count else 1\n",
    "    # Find positions of elements with majority sign\n",
    "    if minority_sign == -1:\n",
    "        min_pos = np.where(eigV < 0)[0]  # Get positions of negative values\n",
    "    else:\n",
    "        min_pos = np.where(eigV > 0)[0]  # Get positions of positive values\n",
    "    subG = l.G.subgraph(min_pos)\n",
    "    # Find the connected components of the subgraph\n",
    "    clust = np.array([component for component in nx.connected_components(subG)])\n",
    "    srtclust=sorted(clust, key=len)\n",
    "    l.load_eigV_on_graph(binarize=True)\n",
    "    # cd = l.get_cluster_distribution()\n",
    "    ax[0][i].imshow(l.get_eigV_bin_check(which=0).reshape(*l.syshape), interpolation='none', cmap=credcblu)\n",
    "\n",
    "    ax[1][i].imshow(l.get_eigV_bin_check(which=8).reshape(*l.syshape), interpolation='none', cmap=credcblu)\n",
    "    ax[2][i].imshow(l.get_eigV_bin_check(which=256).reshape(*l.syshape), interpolation='none', cmap=credcblu)\n",
    "for axx in ax.flatten():\n",
    "    axx.axis('off')"
   ]
  },
  {
   "cell_type": "code",
   "execution_count": null,
   "metadata": {},
   "outputs": [],
   "source": [
    "\n",
    "# Assuming l.eigV[0] is already assigned to a variable named 'data'\n",
    "data = l.eigV[0]\n",
    "\n",
    "# Remove zero values to avoid log problems\n",
    "data = data[data != 0]\n",
    "\n",
    "# Separate positive and negative values\n",
    "positive_values = data[data > 0]\n",
    "negative_values = data[data < 0]\n",
    "\n",
    "# Define the number of bins\n",
    "num_bins = 100\n",
    "\n",
    "# Set the range for positive and negative values based on the minimum value in the data\n",
    "log_min = np.log10(np.abs(data).min())\n",
    "log_max = 0\n",
    "\n",
    "bins_positive = np.logspace(log_min, log_max, num_bins)\n",
    "bins_negative = -np.logspace(log_min, log_max, num_bins)[::-1]\n",
    "\n",
    "# Create a histogram for both positive and negative values\n",
    "hist_positive, _ = np.histogram(positive_values, bins=bins_positive)\n",
    "hist_negative, _ = np.histogram(negative_values, bins=bins_negative)\n",
    "\n",
    "# Combine the histogram data\n",
    "bins_combined = np.concatenate((bins_negative, bins_positive))\n",
    "\n",
    "# Ensure hist_combined has the correct length\n",
    "hist_combined = np.concatenate((hist_negative, hist_positive))\n",
    "\n",
    "# Plot the distribution\n",
    "plt.figure(figsize=(10, 6))\n",
    "plt.plot(-bins_negative[1:], hist_negative)\n",
    "plt.yscale('log')\n",
    "plt.xscale('log')"
   ]
  },
  {
   "cell_type": "markdown",
   "metadata": {},
   "source": [
    "## Phase transition ZERR/XERR"
   ]
  },
  {
   "cell_type": "code",
   "execution_count": 17,
   "metadata": {},
   "outputs": [],
   "source": [
    "errtype = 'Zerr'"
   ]
  },
  {
   "cell_type": "markdown",
   "metadata": {},
   "source": [
    "### Squared"
   ]
  },
  {
   "cell_type": "code",
   "execution_count": 18,
   "metadata": {},
   "outputs": [],
   "source": [
    "sides = [16, 32, 64, 96]\n",
    "geo = 'squared'\n",
    "#\n",
    "colors = restr_twilight(np.linspace(0.0, 1, len(sides)))\n",
    "plt.rcParams[\"axes.prop_cycle\"] = plt.cycler(color=colors)"
   ]
  },
  {
   "cell_type": "code",
   "execution_count": null,
   "metadata": {},
   "outputs": [],
   "source": [
    "fig, ax = plt.subplots(figsize=(22, 8), ncols=2)\n",
    "\n",
    "for cc, side in enumerate(sides):\n",
    "    try:\n",
    "        l = Lattice2D(side, geo, init_nw_dict=False, with_positions=False)\n",
    "        fname = f\"data/plot/paper/suppinf/data_pablo_tri-hex/OP_{errtype}_Squared_L{side}\"\n",
    "        data = np.loadtxt(fname, delimiter=',')\n",
    "        p = data[:, 9]\n",
    "        p_c = data[np.argmax(data[:, 1]), 9]\n",
    "        S = gaussian_filter(data[:, 0], sigma=1)\n",
    "        L = side\n",
    "        # plt.plot(p, S, label=f'L={side}', lw=2)\n",
    "        ax[0].plot(p, S, label=fr'$N={l.N}$', zorder=1/(cc+1), **kwargs_lines)\n",
    "    except FileNotFoundError:\n",
    "        print(f\"File not found for L={side}\")\n",
    "#\n",
    "# ax[0].axhline(0.5, ls='--', c='k')\n",
    "#\n",
    "ax[0].set_xlabel(r'$p$')\n",
    "ax[0].set_ylabel(r'$P_{\\infty}$')\n",
    "#\n",
    "ax[0].text(0.03, 0.06, r'\\textbf{(a)}', transform=ax[0].transAxes, fontsize=40,\n",
    "                 fontweight='bold', color='black')\n",
    "ax[0].legend(fontsize=28)\n",
    "\n",
    "plt.rcParams[\"axes.prop_cycle\"] = plt.cycler(color=colors)\n",
    "\n",
    "for cc,side in enumerate(sides):\n",
    "    try:\n",
    "        l = Lattice2D(side, geo, init_nw_dict=False, with_positions=False)\n",
    "        fname = f\"data/plot/paper/suppinf/data_pablo_tri-hex/OP_{errtype}_Squared_L{side}\"\n",
    "        data = np.loadtxt(fname, delimiter=',')\n",
    "        p = data[:, 9]\n",
    "        p_c = data[np.argmax(data[:, 1]), 9]\n",
    "        fS = gaussian_filter(data[:, 1], sigma=1)\n",
    "        L = side\n",
    "        # plt.plot(p, S, label=f'L={side}', lw=2)\n",
    "        ax[1].plot(p, fS*L, label=fr'$N={l.N}$', zorder=1/(cc+1), **kwargs_lines)\n",
    "    except FileNotFoundError:\n",
    "        print(f\"File not found for L={side}\")\n",
    "#\n",
    "ax[1].axvline(0.10, ls='--', c='k')\n",
    "#\n",
    "# ax[1].set_yticks([])\n",
    "formatter = ScalarFormatter(useMathText=True)  # Enable the use of math text in scientific notation\n",
    "formatter.set_scientific(True)  # Enable scientific notation\n",
    "formatter.set_powerlimits((-1,1))  # Set limits for switching to scientific notation\n",
    "ax[1].yaxis.set_major_formatter(formatter)\n",
    "\n",
    "ax[1].set_xlabel(r'$p$')\n",
    "ax[1].set_ylabel(r'$\\chi$')\n",
    "#\n",
    "ax[1].text(0.88, 0.88, r'\\textbf{(b)}', transform=ax[1].transAxes, fontsize=40,\n",
    "                 fontweight='bold', color='black', zorder=100000)\n",
    "ax[1].legend(fontsize=26, bbox_to_anchor=(.6, .35))\n",
    "fig.tight_layout()\n",
    "fig.subplots_adjust(wspace=.5)  # 'wspace' controls the width of the space between subplots\n",
    "#\n",
    "# fig.savefig(f\"{paths['phtra']}suppli_both_{errtype}_{geo}.pdf\", bbox_inches='tight',\n",
    "#             transparent=True)\n",
    "# plt.close('all')"
   ]
  },
  {
   "cell_type": "markdown",
   "metadata": {},
   "source": [
    "### Triangular"
   ]
  },
  {
   "cell_type": "code",
   "execution_count": null,
   "metadata": {},
   "outputs": [],
   "source": [
    "sides = [16, 32, 64, 96]\n",
    "geo = 'tri'\n",
    "#\n",
    "colors = restr_twilight(np.linspace(0.0, 1, len(sides)))\n",
    "# Set these colors as the default color cycle\n",
    "plt.rcParams[\"axes.prop_cycle\"] = plt.cycler(color=colors)"
   ]
  },
  {
   "cell_type": "code",
   "execution_count": null,
   "metadata": {},
   "outputs": [],
   "source": [
    "fig, ax = plt.subplots(figsize=(22, 8), ncols=2)\n",
    "\n",
    "for cc, side in enumerate(sides):\n",
    "    try:\n",
    "        l = Lattice2D(side, geo, init_nw_dict=False, with_positions=False)\n",
    "        fname = f\"data/plot/paper/suppinf/data_pablo_tri-hex/OP_{errtype}_Tri_L{side}\"\n",
    "        data = np.loadtxt(fname, delimiter=',')\n",
    "        p = data[:, 9]\n",
    "        p_c = data[np.argmax(data[:, 1]), 9]\n",
    "        S = gaussian_filter(data[:, 0], sigma=1)\n",
    "        L = side\n",
    "        # plt.plot(p, S, label=f'L={side}', lw=2)\n",
    "        ax[0].plot(p, S, label=fr'$N={l.N}$', zorder=1/(cc+1), **kwargs_lines)\n",
    "    except FileNotFoundError:\n",
    "        print(f\"File not found for L={side}\")\n",
    "#\n",
    "# ax[0].axhline(0.5, ls='--', c='k')\n",
    "#\n",
    "ax[0].set_xlabel(r'$p$')\n",
    "ax[0].set_ylabel(r'$P_{\\infty}$')\n",
    "#\n",
    "ax[0].text(0.03, 0.06, r'\\textbf{(a)}', transform=ax[0].transAxes, fontsize=40,\n",
    "                 fontweight='bold', color='black')\n",
    "ax[0].legend(fontsize=28)\n",
    "\n",
    "plt.rcParams[\"axes.prop_cycle\"] = plt.cycler(color=colors)\n",
    "\n",
    "for cc,side in enumerate(sides):\n",
    "    try:\n",
    "        l = Lattice2D(side, geo, init_nw_dict=False, with_positions=False)\n",
    "        fname = f\"data/plot/paper/suppinf/data_pablo_tri-hex/OP_{errtype}_Tri_L{side}\"\n",
    "        data = np.loadtxt(fname, delimiter=',')\n",
    "        p = data[:, 9]\n",
    "        p_c = data[np.argmax(data[:, 1]), 9]\n",
    "        fS = gaussian_filter(data[:, 1], sigma=1)\n",
    "        L = side\n",
    "        # plt.plot(p, S, label=f'L={side}', lw=2)\n",
    "        ax[1].plot(p, fS*L, label=fr'$N={l.N}$', zorder=1/(cc+1), **kwargs_lines)\n",
    "    except FileNotFoundError:\n",
    "        print(f\"File not found for L={side}\")\n",
    "#\n",
    "ax[1].axvline(0.14, ls='--', c='k')\n",
    "#\n",
    "# ax[1].set_yticks([])\n",
    "formatter = ScalarFormatter(useMathText=True)  # Enable the use of math text in scientific notation\n",
    "formatter.set_scientific(True)  # Enable scientific notation\n",
    "formatter.set_powerlimits((-1,1))  # Set limits for switching to scientific notation\n",
    "ax[1].yaxis.set_major_formatter(formatter)\n",
    "\n",
    "ax[1].set_xlabel(r'$p$')\n",
    "ax[1].set_ylabel(r'$\\chi$')\n",
    "#\n",
    "ax[1].text(0.88, 0.88, r'\\textbf{(b)}', transform=ax[1].transAxes, fontsize=40,\n",
    "                 fontweight='bold', color='black', zorder=100000)\n",
    "ax[1].legend(fontsize=26, bbox_to_anchor=(.6, .45))\n",
    "fig.tight_layout()\n",
    "fig.subplots_adjust(wspace=.5)  # 'wspace' controls the width of the space between subplots\n",
    "#\n",
    "fig.savefig(f\"{paths['phtra']}suppli_both_{errtype}_{geo}.pdf\", bbox_inches='tight',\n",
    "            transparent=True)\n",
    "# plt.close('all')"
   ]
  }
 ],
 "metadata": {
  "kernelspec": {
   "display_name": "lrgsgenv",
   "language": "python",
   "name": "python3"
  },
  "language_info": {
   "codemirror_mode": {
    "name": "ipython",
    "version": 3
   },
   "file_extension": ".py",
   "mimetype": "text/x-python",
   "name": "python",
   "nbconvert_exporter": "python",
   "pygments_lexer": "ipython3",
   "version": "3.12.3"
  }
 },
 "nbformat": 4,
 "nbformat_minor": 2
}
