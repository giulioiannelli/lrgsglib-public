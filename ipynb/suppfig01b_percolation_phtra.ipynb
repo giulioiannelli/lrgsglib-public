{
 "cells": [
  {
   "cell_type": "code",
   "execution_count": null,
   "metadata": {},
   "outputs": [],
   "source": [
    "%matplotlib inline\n",
    "#\n",
    "from lrgsglib.shared import *\n",
    "from lrgsglib.config.const import *\n",
    "from lrgsglib.config.plotlib import inset_axes, restr_twilight\n",
    "from lrgsglib.config.utils import read_files_to_2d_array\n",
    "from lrgsglib.core import move_to_rootf, Lattice2D\n",
    "from matplotlib.ticker import ScalarFormatter\n",
    "from scipy.signal import find_peaks\n",
    "#\n",
    "move_to_rootf()\n",
    "plt.style.use(\"ipynb/nb_plotsheet.mplstyle\")\n",
    "#\n",
    "suppinfPath = \"data/plot/paper/suppinf/\"\n",
    "datasubPathStr = [\"data_pablo_tri-hex\", \"data_pablo_2-3-4-D\"]\n",
    "figsubpathstr = ['phtra']\n",
    "paths = {str: f\"{suppinfPath}{str}/\" for str in figsubpathstr}\n",
    "for path in paths.values(): os.makedirs(path, exist_ok=True)\n",
    "#\n",
    "axvline_kwarg = dict(ls=':', color='k')\n",
    "xlabelinset_kwargs = dict(labelpad=0, fontsize=18)\n",
    "ylabelinset_kwargs = dict(rotation=90, labelpad=10, va=\"center\",fontsize=18)\n",
    "axins_tickparams_kwargs = dict(axis='both', which='major', size=7, width=1.25, labelsize=16)\n",
    "axlegend_kwargs = dict(ncol=1, loc='lower left', fontsize=18)\n",
    "kwargs_lines = dict(lw=5, marker='')"
   ]
  },
  {
   "cell_type": "code",
   "execution_count": 2,
   "metadata": {},
   "outputs": [],
   "source": [
    "def process_plot(fig, ax, sides, geo, column, pathfname, legend_pos=None, \n",
    "                 ylabel='', text_content='', text_pos=None,\n",
    "                 transform=lambda x, L: x, transvline=False):\n",
    "    colors = restr_twilight(np.linspace(0., 1., len(sides)))\n",
    "    plt.rcParams[\"axes.prop_cycle\"] = plt.cycler(color=colors)\n",
    "    for cc, side in enumerate(sides):\n",
    "        if geo in ['tri', 'hex']:\n",
    "            l = Lattice2D(side, geo)\n",
    "            N = l.N\n",
    "        elif geo == '4D':\n",
    "            N = side**4\n",
    "        fname = f\"{pathfname}{side}\"\n",
    "        data = np.loadtxt(fname, delimiter=',')\n",
    "        y_data = gaussian_filter(data[:, column], sigma=1)\n",
    "        p = data[:, 9]\n",
    "        if transform:\n",
    "            y_data = transform(y_data, side)\n",
    "        ax.plot(p, y_data, label=fr'${N}$', zorder=1/(cc+1), \n",
    "                **kwargs_lines)\n",
    "    ax.set_xlabel(r'$p$')\n",
    "    ax.set_ylabel(ylabel)\n",
    "    if text_pos:\n",
    "        ax.text(*text_pos, text_content, transform=ax.transAxes, fontsize=40, \n",
    "                fontweight='bold', color='black')\n",
    "    if transvline:\n",
    "        peaks, _ = find_peaks(gaussian_filter(data[:, column], sigma=3))\n",
    "        ax.axvline(p[peaks[0]], ls='--', c='k')\n",
    "    ax.legend(fontsize=28, loc=legend_pos if legend_pos else 'upper right')\n",
    "    fig.tight_layout()"
   ]
  },
  {
   "cell_type": "markdown",
   "metadata": {},
   "source": [
    "## Phase Transitions"
   ]
  },
  {
   "cell_type": "markdown",
   "metadata": {},
   "source": [
    "### Hex: Size of the giant Cluster $P_{\\infty}$ and Fluctuations $\\chi$"
   ]
  },
  {
   "cell_type": "code",
   "execution_count": null,
   "metadata": {},
   "outputs": [],
   "source": [
    "sides = [16, 32, 64, 128, 256]\n",
    "geo = 'hex'\n",
    "pathfname = os.path.join(suppinfPath, datasubPathStr[0], \"OP_Hex_L\")"
   ]
  },
  {
   "cell_type": "code",
   "execution_count": null,
   "metadata": {},
   "outputs": [],
   "source": [
    "fig_1, ax_1 = plt.subplots(figsize=(11, 7))\n",
    "fig_2, ax_2 = plt.subplots(figsize=(11, 7))\n",
    "\n",
    "process_plot(fig_1, ax_1, sides, geo, 0, pathfname, \n",
    "             ylabel=r'$P_{\\infty}$')#, text_pos=(0.03, 0.06), text_content=r'\\textbf{(a)}')\n",
    "process_plot(fig_2, ax_2, sides, geo, 1, pathfname, \n",
    "             transform=lambda x, L: x*L, ylabel=r'$\\chi$', \n",
    "             legend_pos=(0.6, 0.35), transvline=True)# text_pos=(0.88, 0.88), text_content=r'\\textbf{(b)}')\n",
    "\n",
    "# Save figures\n",
    "fig_1.savefig(f\"{paths['phtra']}suppli_S_{geo}.pdf\", \n",
    "              bbox_inches='tight', transparent=True)\n",
    "fig_2.savefig(f\"{paths['phtra']}suppli_fS_{geo}.pdf\", \n",
    "              bbox_inches='tight', transparent=True)\n",
    "\n",
    "plt.close('all')"
   ]
  },
  {
   "cell_type": "markdown",
   "metadata": {},
   "source": [
    "### Tri: Size of the giant Cluster $P_{\\infty}$ and Fluctuations $\\chi$"
   ]
  },
  {
   "cell_type": "code",
   "execution_count": null,
   "metadata": {},
   "outputs": [],
   "source": [
    "sides = [16, 32, 64, 96]\n",
    "geo = 'tri'\n",
    "pathfname = os.path.join(suppinfPath, datasubPathStr[0], \"OP_Tri_L\")"
   ]
  },
  {
   "cell_type": "code",
   "execution_count": null,
   "metadata": {},
   "outputs": [],
   "source": [
    "fig_1, ax_1 = plt.subplots(figsize=(11, 7))\n",
    "fig_2, ax_2 = plt.subplots(figsize=(11, 7))\n",
    "\n",
    "process_plot(fig_1, ax_1, sides, geo, 0, pathfname, \n",
    "             ylabel=r'$P_{\\infty}$')#, text_pos=(0.03, 0.06), text_content=r'\\textbf{(a)}')\n",
    "process_plot(fig_2, ax_2, sides, geo, 1, pathfname, \n",
    "             transform=lambda x, L: x*L, ylabel=r'$\\chi$', \n",
    "             legend_pos='upper right', transvline=True)# text_pos=(0.88, 0.88), text_content=r'\\textbf{(b)}')\n",
    "\n",
    "# Save figures\n",
    "fig_1.savefig(f\"{paths['phtra']}suppli_S_{geo}.pdf\", \n",
    "              bbox_inches='tight', transparent=True)\n",
    "fig_2.savefig(f\"{paths['phtra']}suppli_fS_{geo}.pdf\", \n",
    "              bbox_inches='tight', transparent=True)\n",
    "\n",
    "plt.close('all')"
   ]
  },
  {
   "cell_type": "markdown",
   "metadata": {},
   "source": [
    "### 4D: Size of the giant Cluster $P_{\\infty}$ and Fluctuations $\\chi$"
   ]
  },
  {
   "cell_type": "code",
   "execution_count": null,
   "metadata": {},
   "outputs": [],
   "source": [
    "sides = [7, 8, 9, 10]\n",
    "geo = '4D'\n",
    "pathfname = os.path.join(suppinfPath, datasubPathStr[1], \"OP_Squared4D_L\")"
   ]
  },
  {
   "cell_type": "code",
   "execution_count": null,
   "metadata": {},
   "outputs": [],
   "source": [
    "fig_1, ax_1 = plt.subplots(figsize=(11, 7))\n",
    "fig_2, ax_2 = plt.subplots(figsize=(11, 7))\n",
    "\n",
    "process_plot(fig_1, ax_1, sides, geo, 0, pathfname, legend_pos='lower left',\n",
    "             ylabel=r'$P_{\\infty}$')#, text_pos=(0.03, 0.06), text_content=r'\\textbf{(a)}')\n",
    "process_plot(fig_2, ax_2, sides, geo, 1, pathfname, legend_pos='upper left',\n",
    "             transform=lambda x, L: x*L*L, ylabel=r'$\\chi$', \n",
    "             transvline=True)# text_pos=(0.88, 0.88), text_content=r'\\textbf{(b)}')\n",
    "\n",
    "# Save figures\n",
    "fig_1.savefig(f\"{paths['phtra']}suppli_S_{geo}.pdf\", \n",
    "              bbox_inches='tight', transparent=True)\n",
    "fig_2.savefig(f\"{paths['phtra']}suppli_fS_{geo}.pdf\", \n",
    "              bbox_inches='tight', transparent=True)\n",
    "\n",
    "plt.close('all')"
   ]
  },
  {
   "cell_type": "markdown",
   "metadata": {},
   "source": [
    "### Tri ZERR: Size of the giant Cluster $P_{\\infty}$ and Fluctuations $\\chi$"
   ]
  },
  {
   "cell_type": "code",
   "execution_count": 7,
   "metadata": {},
   "outputs": [],
   "source": [
    "sides = [16, 32, 64, 96, 128]\n",
    "geo = 'tri'\n",
    "pathfname = os.path.join(suppinfPath, datasubPathStr[0], \"OP_Zerr_Tri_L\")"
   ]
  },
  {
   "cell_type": "code",
   "execution_count": 8,
   "metadata": {},
   "outputs": [],
   "source": [
    "fig_1, ax_1 = plt.subplots(figsize=(11, 7))\n",
    "fig_2, ax_2 = plt.subplots(figsize=(11, 7))\n",
    "\n",
    "process_plot(fig_1, ax_1, sides, geo, 0, pathfname, \n",
    "             ylabel=r'$P_{\\infty}$')#, text_pos=(0.03, 0.06), text_content=r'\\textbf{(a)}')\n",
    "process_plot(fig_2, ax_2, sides, geo, 1, pathfname, \n",
    "             transform=lambda x, L: x*L, ylabel=r'$\\chi$', \n",
    "             legend_pos='upper right', transvline=True)# text_pos=(0.88, 0.88), text_content=r'\\textbf{(b)}')\n",
    "\n",
    "# Save figures\n",
    "fig_1.savefig(f\"{paths['phtra']}suppli_S_{geo}Zerr.pdf\", \n",
    "              bbox_inches='tight', transparent=True)\n",
    "fig_2.savefig(f\"{paths['phtra']}suppli_fS_{geo}Zerr.pdf\", \n",
    "              bbox_inches='tight', transparent=True)\n",
    "\n",
    "plt.close('all')"
   ]
  },
  {
   "cell_type": "markdown",
   "metadata": {},
   "source": [
    "### Hex XERR: Size of the giant Cluster $P_{\\infty}$ and Fluctuations $\\chi$"
   ]
  },
  {
   "cell_type": "code",
   "execution_count": 13,
   "metadata": {},
   "outputs": [],
   "source": [
    "sides = [16, 32, 64, 128]\n",
    "geo = 'hex'\n",
    "pathfname = os.path.join(suppinfPath, datasubPathStr[0], \"OP_Xerr_Hex_L\")"
   ]
  },
  {
   "cell_type": "code",
   "execution_count": 14,
   "metadata": {},
   "outputs": [],
   "source": [
    "fig_1, ax_1 = plt.subplots(figsize=(11, 7))\n",
    "fig_2, ax_2 = plt.subplots(figsize=(11, 7))\n",
    "\n",
    "process_plot(fig_1, ax_1, sides, geo, 0, pathfname, \n",
    "             ylabel=r'$P_{\\infty}$')#, text_pos=(0.03, 0.06), text_content=r'\\textbf{(a)}')\n",
    "process_plot(fig_2, ax_2, sides, geo, 1, pathfname, \n",
    "             transform=lambda x, L: x*L, ylabel=r'$\\chi$', \n",
    "             legend_pos=(0.6, 0.35), transvline=False)# text_pos=(0.88, 0.88), text_content=r'\\textbf{(b)}')\n",
    "\n",
    "# Save figures\n",
    "fig_1.savefig(f\"{paths['phtra']}suppli_S_{geo}Xerr.pdf\", \n",
    "              bbox_inches='tight', transparent=True)\n",
    "fig_2.savefig(f\"{paths['phtra']}suppli_fS_{geo}Xerr.pdf\", \n",
    "              bbox_inches='tight', transparent=True)\n",
    "\n",
    "plt.close('all')"
   ]
  },
  {
   "cell_type": "markdown",
   "metadata": {},
   "source": [
    "## Phase transition ZERR/XERR"
   ]
  },
  {
   "cell_type": "code",
   "execution_count": null,
   "metadata": {},
   "outputs": [],
   "source": [
    "errtype = 'Xerr'"
   ]
  },
  {
   "cell_type": "markdown",
   "metadata": {},
   "source": [
    "### Squared"
   ]
  },
  {
   "cell_type": "code",
   "execution_count": null,
   "metadata": {},
   "outputs": [],
   "source": [
    "sides = [16, 32, 64, 96]\n",
    "geo = 'squared'\n",
    "#\n",
    "colors = restr_twilight(np.linspace(0.0, 1, len(sides)))\n",
    "plt.rcParams[\"axes.prop_cycle\"] = plt.cycler(color=colors)"
   ]
  },
  {
   "cell_type": "code",
   "execution_count": null,
   "metadata": {},
   "outputs": [],
   "source": [
    "fig, ax = plt.subplots(figsize=(22, 8), ncols=2)\n",
    "\n",
    "for cc, side in enumerate(sides):\n",
    "    try:\n",
    "        l = Lattice2D(side, geo, init_nw_dict=False, with_positions=False)\n",
    "        fname = f\"data/plot/paper/suppinf/data_pablo_tri-hex/OP_{errtype}_Squared_L{side}\"\n",
    "        data = np.loadtxt(fname, delimiter=',')\n",
    "        p = data[:, 9]\n",
    "        p_c = data[np.argmax(data[:, 1]), 9]\n",
    "        S = gaussian_filter(data[:, 0], sigma=1)\n",
    "        L = side\n",
    "        # plt.plot(p, S, label=f'L={side}', lw=2)\n",
    "        ax[0].plot(p, S, label=fr'$N={l.N}$', zorder=1/(cc+1), **kwargs_lines)\n",
    "    except FileNotFoundError:\n",
    "        print(f\"File not found for L={side}\")\n",
    "#\n",
    "# ax[0].axhline(0.5, ls='--', c='k')\n",
    "#\n",
    "ax[0].set_xlabel(r'$p$')\n",
    "ax[0].set_ylabel(r'$P_{\\infty}$')\n",
    "#\n",
    "ax[0].text(0.03, 0.06, r'\\textbf{(a)}', transform=ax[0].transAxes, fontsize=40,\n",
    "                 fontweight='bold', color='black')\n",
    "ax[0].legend(fontsize=28)\n",
    "\n",
    "plt.rcParams[\"axes.prop_cycle\"] = plt.cycler(color=colors)\n",
    "\n",
    "for cc,side in enumerate(sides):\n",
    "    try:\n",
    "        l = Lattice2D(side, geo, init_nw_dict=False, with_positions=False)\n",
    "        fname = f\"data/plot/paper/suppinf/data_pablo_tri-hex/OP_{errtype}_Squared_L{side}\"\n",
    "        data = np.loadtxt(fname, delimiter=',')\n",
    "        p = data[:, 9]\n",
    "        p_c = data[np.argmax(data[:, 1]), 9]\n",
    "        fS = gaussian_filter(data[:, 1], sigma=1)\n",
    "        L = side\n",
    "        # plt.plot(p, S, label=f'L={side}', lw=2)\n",
    "        ax[1].plot(p, fS*L, label=fr'$N={l.N}$', zorder=1/(cc+1), **kwargs_lines)\n",
    "    except FileNotFoundError:\n",
    "        print(f\"File not found for L={side}\")\n",
    "#\n",
    "ax[1].axvline(0.10, ls='--', c='k')\n",
    "#\n",
    "# ax[1].set_yticks([])\n",
    "formatter = ScalarFormatter(useMathText=True)  # Enable the use of math text in scientific notation\n",
    "formatter.set_scientific(True)  # Enable scientific notation\n",
    "formatter.set_powerlimits((-1,1))  # Set limits for switching to scientific notation\n",
    "ax[1].yaxis.set_major_formatter(formatter)\n",
    "\n",
    "ax[1].set_xlabel(r'$p$')\n",
    "ax[1].set_ylabel(r'$\\chi$')\n",
    "#\n",
    "ax[1].text(0.88, 0.88, r'\\textbf{(b)}', transform=ax[1].transAxes, fontsize=40,\n",
    "                 fontweight='bold', color='black', zorder=100000)\n",
    "ax[1].legend(fontsize=26, bbox_to_anchor=(.6, .35))\n",
    "fig.tight_layout()\n",
    "fig.subplots_adjust(wspace=.5)  # 'wspace' controls the width of the space between subplots\n",
    "#\n",
    "# fig.savefig(f\"{paths['phtra']}suppli_both_{errtype}_{geo}.pdf\", bbox_inches='tight',\n",
    "#             transparent=True)\n",
    "# plt.close('all')"
   ]
  },
  {
   "cell_type": "markdown",
   "metadata": {},
   "source": [
    "### Triangular"
   ]
  },
  {
   "cell_type": "code",
   "execution_count": null,
   "metadata": {},
   "outputs": [],
   "source": [
    "sides = [16, 32, 64, 96]\n",
    "geo = 'tri'\n",
    "#\n",
    "colors = restr_twilight(np.linspace(0.0, 1, len(sides)))\n",
    "# Set these colors as the default color cycle\n",
    "plt.rcParams[\"axes.prop_cycle\"] = plt.cycler(color=colors)"
   ]
  },
  {
   "cell_type": "code",
   "execution_count": null,
   "metadata": {},
   "outputs": [],
   "source": [
    "fig, ax = plt.subplots(figsize=(22, 8), ncols=2)\n",
    "\n",
    "for cc, side in enumerate(sides):\n",
    "    try:\n",
    "        l = Lattice2D(side, geo, init_nw_dict=False, with_positions=False)\n",
    "        fname = f\"data/plot/paper/suppinf/data_pablo_tri-hex/OP_{errtype}_Tri_L{side}\"\n",
    "        data = np.loadtxt(fname, delimiter=',')\n",
    "        p = data[:, 9]\n",
    "        p_c = data[np.argmax(data[:, 1]), 9]\n",
    "        S = gaussian_filter(data[:, 0], sigma=1)\n",
    "        L = side\n",
    "        # plt.plot(p, S, label=f'L={side}', lw=2)\n",
    "        ax[0].plot(p, S, label=fr'$N={l.N}$', zorder=1/(cc+1), **kwargs_lines)\n",
    "    except FileNotFoundError:\n",
    "        print(f\"File not found for L={side}\")\n",
    "#\n",
    "# ax[0].axhline(0.5, ls='--', c='k')\n",
    "#\n",
    "ax[0].set_xlabel(r'$p$')\n",
    "ax[0].set_ylabel(r'$P_{\\infty}$')\n",
    "#\n",
    "ax[0].text(0.03, 0.06, r'\\textbf{(a)}', transform=ax[0].transAxes, fontsize=40,\n",
    "                 fontweight='bold', color='black')\n",
    "ax[0].legend(fontsize=28)\n",
    "\n",
    "plt.rcParams[\"axes.prop_cycle\"] = plt.cycler(color=colors)\n",
    "\n",
    "for cc,side in enumerate(sides):\n",
    "    try:\n",
    "        l = Lattice2D(side, geo, init_nw_dict=False, with_positions=False)\n",
    "        fname = f\"data/plot/paper/suppinf/data_pablo_tri-hex/OP_{errtype}_Tri_L{side}\"\n",
    "        data = np.loadtxt(fname, delimiter=',')\n",
    "        p = data[:, 9]\n",
    "        p_c = data[np.argmax(data[:, 1]), 9]\n",
    "        fS = gaussian_filter(data[:, 1], sigma=1)\n",
    "        L = side\n",
    "        # plt.plot(p, S, label=f'L={side}', lw=2)\n",
    "        ax[1].plot(p, fS*L, label=fr'$N={l.N}$', zorder=1/(cc+1), **kwargs_lines)\n",
    "    except FileNotFoundError:\n",
    "        print(f\"File not found for L={side}\")\n",
    "#\n",
    "ax[1].axvline(0.14, ls='--', c='k')\n",
    "#\n",
    "# ax[1].set_yticks([])\n",
    "formatter = ScalarFormatter(useMathText=True)  # Enable the use of math text in scientific notation\n",
    "formatter.set_scientific(True)  # Enable scientific notation\n",
    "formatter.set_powerlimits((-1,1))  # Set limits for switching to scientific notation\n",
    "ax[1].yaxis.set_major_formatter(formatter)\n",
    "\n",
    "ax[1].set_xlabel(r'$p$')\n",
    "ax[1].set_ylabel(r'$\\chi$')\n",
    "#\n",
    "ax[1].text(0.88, 0.88, r'\\textbf{(b)}', transform=ax[1].transAxes, fontsize=40,\n",
    "                 fontweight='bold', color='black', zorder=100000)\n",
    "ax[1].legend(fontsize=26, bbox_to_anchor=(.6, .45))\n",
    "fig.tight_layout()\n",
    "fig.subplots_adjust(wspace=.5)  # 'wspace' controls the width of the space between subplots\n",
    "#\n",
    "fig.savefig(f\"{paths['phtra']}suppli_both_{errtype}_{geo}.pdf\", bbox_inches='tight',\n",
    "            transparent=True)\n",
    "# plt.close('all')"
   ]
  }
 ],
 "metadata": {
  "kernelspec": {
   "display_name": "lrgsgenv",
   "language": "python",
   "name": "python3"
  },
  "language_info": {
   "codemirror_mode": {
    "name": "ipython",
    "version": 3
   },
   "file_extension": ".py",
   "mimetype": "text/x-python",
   "name": "python",
   "nbconvert_exporter": "python",
   "pygments_lexer": "ipython3",
   "version": "3.12.3"
  }
 },
 "nbformat": 4,
 "nbformat_minor": 2
}
