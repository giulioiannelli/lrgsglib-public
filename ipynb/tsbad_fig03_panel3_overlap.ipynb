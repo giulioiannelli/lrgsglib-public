{
 "cells": [
  {
   "cell_type": "markdown",
   "metadata": {},
   "source": [
    "# Panel 3"
   ]
  },
  {
   "cell_type": "markdown",
   "metadata": {},
   "source": [
    "### `import packages.needed`"
   ]
  },
  {
   "cell_type": "code",
   "execution_count": 1,
   "metadata": {},
   "outputs": [
    {
     "name": "stdout",
     "output_type": "stream",
     "text": [
      "Current working directory: /home/opisthofulax/Documents/PhD/projects/complex-networks/lrgsglib\n"
     ]
    }
   ],
   "source": [
    "%load_ext autoreload\n",
    "%autoreload 2\n",
    "%matplotlib inline\n",
    "#\n",
    "from lrgsglib.core import *\n",
    "#\n",
    "move_to_rootf(print_tf=True)\n",
    "plt.style.use('ipynb/nb_plotsheet.mplstyle')\n",
    "#\n",
    "path_paper = PATHPLOT / Path(PATHNPAPR)\n",
    "path_panel3 = path_paper / Path('panel_3')\n",
    "# path_eris_xerr = path_panel3 / Path('er_ising_xerr')\n",
    "path_C4X200 = path_panel3 / Path('C4X200')"
   ]
  },
  {
   "cell_type": "markdown",
   "metadata": {},
   "source": [
    "### Overlap transition"
   ]
  },
  {
   "cell_type": "code",
   "execution_count": 41,
   "metadata": {},
   "outputs": [],
   "source": [
    "side_l = [16, 32, 64, 96]\n",
    "ic_gs_n = 2\n",
    "cell = 'randXERR'\n",
    "ic = f\"gs_{ic_gs_n}\""
   ]
  },
  {
   "cell_type": "code",
   "execution_count": 42,
   "metadata": {},
   "outputs": [],
   "source": [
    "p_values = {}\n",
    "for i,side in enumerate(side_l):\n",
    "    _ = Lattice2D(side, path_data=path_C4X200)\n",
    "    fnames = os.listdir(_.isingpath)\n",
    "    match cell:\n",
    "        case 'randXERR':\n",
    "            match_str = r\"p=([\\d.]+)(?=.*randXERR)\"\n",
    "        case 'rand':\n",
    "            match_str = r\"p=([\\d.]+)(?=.*rand(?!XERR))\"\n",
    "    p_values[side] = extract_values_from_filenames(fnames, match_str, \n",
    "                                                   unique=True)"
   ]
  },
  {
   "cell_type": "code",
   "execution_count": 46,
   "metadata": {},
   "outputs": [
    {
     "data": {
      "text/plain": [
       "{16: array([], dtype=float64),\n",
       " 32: array([], dtype=float64),\n",
       " 64: array([0.15, 0.25, 0.35, 0.45]),\n",
       " 96: array([0.15, 0.25, 0.35, 0.45])}"
      ]
     },
     "execution_count": 46,
     "metadata": {},
     "output_type": "execute_result"
    }
   ],
   "source": [
    "p_values"
   ]
  },
  {
   "cell_type": "code",
   "execution_count": 44,
   "metadata": {},
   "outputs": [
    {
     "ename": "IndexError",
     "evalue": "index -1 is out of bounds for axis 0 with size 0",
     "output_type": "error",
     "traceback": [
      "\u001b[0;31m---------------------------------------------------------------------------\u001b[0m",
      "\u001b[0;31mIndexError\u001b[0m                                Traceback (most recent call last)",
      "Cell \u001b[0;32mIn[44], line 32\u001b[0m\n\u001b[1;32m     30\u001b[0m             \u001b[38;5;28mprint\u001b[39m(\u001b[38;5;124mf\u001b[39m\u001b[38;5;124m\"\u001b[39m\u001b[38;5;124mFile \u001b[39m\u001b[38;5;132;01m{\u001b[39;00mfilepath\u001b[38;5;132;01m}\u001b[39;00m\u001b[38;5;124m not found\u001b[39m\u001b[38;5;124m\"\u001b[39m)\n\u001b[1;32m     31\u001b[0m averages \u001b[38;5;241m=\u001b[39m {p: np\u001b[38;5;241m.\u001b[39marray(aa) \u001b[38;5;28;01mfor\u001b[39;00m p, aa \u001b[38;5;129;01min\u001b[39;00m averages\u001b[38;5;241m.\u001b[39mitems()}\n\u001b[0;32m---> 32\u001b[0m pflip \u001b[38;5;241m=\u001b[39m \u001b[43mp_val\u001b[49m\u001b[43m[\u001b[49m\u001b[38;5;241;43m-\u001b[39;49m\u001b[38;5;241;43m1\u001b[39;49m\u001b[43m]\u001b[49m\n\u001b[1;32m     33\u001b[0m linax, \u001b[38;5;241m=\u001b[39m ax\u001b[38;5;241m.\u001b[39mplot(averages[pflip][:,\u001b[38;5;241m0\u001b[39m], gaussian_filter(averages[pflip][:,\u001b[38;5;241m1\u001b[39m], sigma\u001b[38;5;241m=\u001b[39m\u001b[38;5;241m2\u001b[39m), \u001b[38;5;124m'\u001b[39m\u001b[38;5;124m-\u001b[39m\u001b[38;5;124m'\u001b[39m, lw\u001b[38;5;241m=\u001b[39m\u001b[38;5;241m3\u001b[39m, label\u001b[38;5;241m=\u001b[39m\u001b[38;5;124mf\u001b[39m\u001b[38;5;124m'\u001b[39m\u001b[38;5;132;01m{\u001b[39;00mside\u001b[38;5;132;01m}\u001b[39;00m\u001b[38;5;124m'\u001b[39m)\n\u001b[1;32m     34\u001b[0m \u001b[38;5;66;03m# linax2, = ax.plot(averages[pflip][:,0], gaussian_filter(averages[pflip][:,3], sigma=2), '-', color=col, lw=3, label=f'{side}')\u001b[39;00m\n",
      "\u001b[0;31mIndexError\u001b[0m: index -1 is out of bounds for axis 0 with size 0"
     ]
    },
    {
     "data": {
      "image/png": "[encoded data removed]",
      "text/plain": [
       "<Figure size 1200x800 with 1 Axes>"
      ]
     },
     "metadata": {},
     "output_type": "display_data"
    }
   ],
   "source": [
    "fig, ax = plt.subplots(figsize=(12, 8))\n",
    "#\n",
    "inset_ax = ax.inset_axes([0.5, 0.25, 0.4, 0.4])\n",
    "#\n",
    "for i,side in enumerate(side_l):\n",
    "    col = restr_twilight((i+1)/len(side_l))\n",
    "    lattice = Lattice2D(side, path_data=path_C4X200)\n",
    "    fnames = os.listdir(lattice.isingpath)\n",
    "    p_val = p_values[side]\n",
    "    p_T_dict = {p: extract_values_from_filenames(fnames, rf\"p={p:.3g}_T=([\\d.]+)\") \n",
    "                for p in p_val}\n",
    "    averages = {}\n",
    "    for p in p_val:\n",
    "        averages[p] = []\n",
    "        for T in p_T_dict[p]:\n",
    "            filename = f\"outcl0_p={p:.3g}_T={T:.3g}_{ic}_{cell}.txt\"\n",
    "            filepath = os.path.join(lattice.isingpath, filename)\n",
    "            if os.path.exists(filepath):\n",
    "                try:\n",
    "                    data = np.loadtxt(filepath)\n",
    "                    data = data[np.all(np.abs(data) <= 1, axis=1)]\n",
    "                    avg_abs_col1 = np.mean(np.abs(data[:, 0]))\n",
    "                    chi_abs_col1 = np.std(np.abs(data[:, 0]))\n",
    "                    avg_abs_col2 = np.mean(np.abs(data[:, 1]))\n",
    "                    chi_abs_col2 = np.std(np.abs(data[:, 1]))\n",
    "                    averages[p].append((float(T), avg_abs_col1, chi_abs_col1, avg_abs_col2, chi_abs_col2))\n",
    "                except:\n",
    "                    pass\n",
    "            else:\n",
    "                print(f\"File {filepath} not found\")\n",
    "    averages = {p: np.array(aa) for p, aa in averages.items()}\n",
    "    pflip = p_val[-1]\n",
    "    linax, = ax.plot(averages[pflip][:,0], gaussian_filter(averages[pflip][:,1], sigma=2), '-', lw=3, label=f'{side}')\n",
    "    # linax2, = ax.plot(averages[pflip][:,0], gaussian_filter(averages[pflip][:,3], sigma=2), '-', color=col, lw=3, label=f'{side}')\n",
    "\n",
    "    inset_ax.plot(averages[pflip][:,0], gaussian_filter(averages[pflip][:,2], sigma=2)*side, '-', lw=3, color=linax.get_color(), label=f'{side}')\n",
    "    # inset_ax.plot(averages[pflip][:,0], gaussian_filter(averages[pflip][:,4], sigma=2)*side, '-', lw=3, color=linax2.get_color(), label=f'{side}')\n",
    "    # if i == len(side_l)-1:\n",
    "    #     xmaxp= np.argmax(gaussian_filter(averages[pflip][:,4], sigma=2))\n",
    "    #     inset_ax.axvline(x=averages[pflip][xmaxp,0], ls='--', color='k', lw=2)\n",
    "# Customize the plot\n",
    "ax.set_xlabel(r'$T$')\n",
    "ax.set_ylabel(r'$\\left\\langle{\\lambda_2|\\sigma_\\infty}\\right\\rangle$')\n",
    "# inset_ax.set_yscale('log')\n",
    "ax.legend(fontsize=24)\n",
    "inset_ax.set_ylabel(r'$\\chi$')\n",
    "ax.set_xbound(0, 3.5)\n",
    "inset_ax.set_xlabel(r'$T$')\n",
    "\n",
    "# fig.savefig(path_l2dgs2_new / Path(f'l2d_gs2_xerr_new_{pflip}.pdf'), bbox_inches='tight', transparent=True)"
   ]
  },
  {
   "cell_type": "code",
   "execution_count": 40,
   "metadata": {},
   "outputs": [
    {
     "ename": "NameError",
     "evalue": "name 'path_l2dgs2_new' is not defined",
     "output_type": "error",
     "traceback": [
      "\u001b[0;31m---------------------------------------------------------------------------\u001b[0m",
      "\u001b[0;31mNameError\u001b[0m                                 Traceback (most recent call last)",
      "Cell \u001b[0;32mIn[40], line 7\u001b[0m\n\u001b[1;32m      5\u001b[0m \u001b[38;5;28;01mfor\u001b[39;00m i,side \u001b[38;5;129;01min\u001b[39;00m \u001b[38;5;28menumerate\u001b[39m(side_l):\n\u001b[1;32m      6\u001b[0m     col \u001b[38;5;241m=\u001b[39m restr_twilight((i\u001b[38;5;241m+\u001b[39m\u001b[38;5;241m1\u001b[39m)\u001b[38;5;241m/\u001b[39m\u001b[38;5;28mlen\u001b[39m(side_l))\n\u001b[0;32m----> 7\u001b[0m     lattice \u001b[38;5;241m=\u001b[39m Lattice2D(side, path_data\u001b[38;5;241m=\u001b[39m\u001b[43mpath_l2dgs2_new\u001b[49m)\n\u001b[1;32m      8\u001b[0m     fnames \u001b[38;5;241m=\u001b[39m os\u001b[38;5;241m.\u001b[39mlistdir(lattice\u001b[38;5;241m.\u001b[39misingpath)\n\u001b[1;32m      9\u001b[0m     p_values \u001b[38;5;241m=\u001b[39m extract_values_from_filenames(fnames, \u001b[38;5;124mr\u001b[39m\u001b[38;5;124m\"\u001b[39m\u001b[38;5;124mp=([\u001b[39m\u001b[38;5;124m\\\u001b[39m\u001b[38;5;124md.]+)\u001b[39m\u001b[38;5;124m\"\u001b[39m, unique\u001b[38;5;241m=\u001b[39m\u001b[38;5;28;01mTrue\u001b[39;00m)\n",
      "\u001b[0;31mNameError\u001b[0m: name 'path_l2dgs2_new' is not defined"
     ]
    },
    {
     "data": {
      "image/png": "[encoded data removed]",
      "text/plain": [
       "<Figure size 1400x800 with 1 Axes>"
      ]
     },
     "metadata": {},
     "output_type": "display_data"
    }
   ],
   "source": [
    "fig, ax = plt.subplots(figsize=(14, 8))  # Create a single figure with axes\n",
    "inset_ax = ax.inset_axes([0.4, 0.2, 0.4, 0.4])\n",
    "# ax.axvline(x=2.269, ls='--', color='k', lw=2)\n",
    "# inset_ax.axvline(x=2.269, ls='--', color='k', lw=2)\n",
    "for i,side in enumerate(side_l):\n",
    "    col = restr_twilight((i+1)/len(side_l))\n",
    "    lattice = Lattice2D(side, path_data=path_l2dgs2_new)\n",
    "    fnames = os.listdir(lattice.isingpath)\n",
    "    p_values = extract_values_from_filenames(fnames, r\"p=([\\d.]+)\", unique=True)\n",
    "    p_T_dict = {p: extract_values_from_filenames(fnames, rf\"p={p}_T=([\\d.]+)\") \n",
    "                for p in p_values}\n",
    "    averages = {}\n",
    "    for p in p_values:\n",
    "        averages[p] = []\n",
    "        for T in p_T_dict[p]:\n",
    "            filename = f\"outcl0_p={p}_T={T}_{tt}.txt\"\n",
    "            filepath = os.path.join(lattice.isingpath, filename)\n",
    "            if os.path.exists(filepath):\n",
    "                try:\n",
    "                    data = np.loadtxt(filepath)\n",
    "                    data = data[np.all(np.abs(data) <= 1, axis=1)]\n",
    "                    avg_abs_col1 = np.mean(np.abs(data[:, 0]))\n",
    "                    chi_abs_col1 = np.std(np.abs(data[:, 0]))\n",
    "                    avg_abs_col2 = np.mean(np.abs(data[:, 1]))\n",
    "                    chi_abs_col2 = np.std(np.abs(data[:, 1]))\n",
    "                    averages[p].append((float(T), avg_abs_col1, chi_abs_col1, avg_abs_col2, chi_abs_col2))\n",
    "                except:\n",
    "                    pass\n",
    "    averages = {p: np.array(aa) for p, aa in averages.items()}\n",
    "\n",
    "    linax, = ax.plot(averages[pflip][:,0], gaussian_filter(averages[pflip][:,1], sigma=3), '-', c=col, lw=3, label=f'{side}')\n",
    "    # linax2, = ax.plot(averages[pflip][:,0], gaussian_filter(averages[pflip][:,1], sigma=2), '-', color=col, lw=3, label=f'{side}')\n",
    "\n",
    "    inset_ax.plot(averages[pflip][:,0], gaussian_filter(averages[pflip][:,2], sigma=3)*side, '-', lw=3, color=linax.get_color(), label=f'{side}')\n",
    "    # inset_ax.plot(averages[pflip][:,0], gaussian_filter(averages[pflip][:,2], sigma=2)*side, '-', lw=3, color=linax2.get_color(), label=f'{side}')\n",
    "    # if i == len(side_l)-1:\n",
    "    #     xmaxp= np.argmax(gaussian_filter(averages[pflip][:,4], sigma=2))\n",
    "    #     inset_ax.axvline(x=averages[pflip][xmaxp,0], ls='--', color='k', lw=2)\n",
    "# Customize the plot\n",
    "ax.set_xlabel(r'$T$')\n",
    "ax.set_ylabel(r'$\\left\\langle{m_{\\infty}^{\\mathrm{GC}}}\\right\\rangle$')\n",
    "# inset_ax.set_yscale('log')\n",
    "ax.legend(fontsize=24)\n",
    "inset_ax.set_ylabel(r'$\\chi$')\n",
    "\n",
    "fig.savefig(path_l2dgs2_new / Path(f'mINF_l2d_gs2_xerr_new_{pflip}.pdf'), bbox_inches='tight', transparent=True)"
   ]
  },
  {
   "cell_type": "code",
   "execution_count": null,
   "metadata": {},
   "outputs": [],
   "source": [
    "# averages = {}\n",
    "# for p in p_values:\n",
    "#     averages[p] = []\n",
    "#     for T in p_T_dict[p]:\n",
    "#         filename = f\"outcl0_p={p}_T={T}_{tt}.txt\"\n",
    "#         filepath = os.path.join(lattice.isingpath, filename)\n",
    "#         if os.path.exists(filepath):\n",
    "#             try:\n",
    "#                 data = np.loadtxt(filepath)\n",
    "#                 data = data[np.all(np.abs(data) <= 1, axis=1)]\n",
    "#                 avg_abs_col1 = np.mean(np.abs(data[:, 0]))\n",
    "#                 chi_abs_col1 = np.std(np.abs(data[:, 0]))\n",
    "#                 avg_abs_col2 = np.mean(np.abs(data[:, 2]))\n",
    "#                 chi_abs_col2 = np.std(np.abs(data[:, 2]))\n",
    "#                 averages[p].append((float(T), avg_abs_col1, chi_abs_col1, avg_abs_col2, chi_abs_col2))\n",
    "#             except:\n",
    "#                 pass\n",
    "# averages = {p: np.array(aa) for p, aa in averages.items()}"
   ]
  },
  {
   "cell_type": "code",
   "execution_count": null,
   "metadata": {},
   "outputs": [],
   "source": [
    "# fig, ax = plt.subplots(figsize=(10, 8))  # Create a single figure with axes\n",
    "# inset_ax = ax.inset_axes([0.15, 0.1, 0.4, 0.4])\n",
    "# ax.axvline(x=2.269, ls='--', color='k', lw=2)\n",
    "# inset_ax.axvline(x=2.269, ls='--', color='k', lw=2)\n",
    "\n",
    "# linax, = ax.plot(averages[pflip][:,0], gaussian_filter(averages[pflip][:,1], sigma=1), '-', lw=3, label=f'{side}')\n",
    "# linax2, = ax.plot(averages[pflip][:,0], averages[pflip][:,3], '-', lw=3, label=f'{side}')\n",
    "\n",
    "# inset_ax.plot(averages[pflip][:,0], gaussian_filter(averages[pflip][:,2], sigma=1)*side, '-', lw=3, color=linax.get_color(), label=f'{side}')\n",
    "# inset_ax.plot(averages[pflip][:,0], gaussian_filter(averages[pflip][:,4], sigma=1)*side, '-', lw=3, color=linax2.get_color(), label=f'{side}')\n",
    "\n",
    "# # Customize the plot\n",
    "# ax.set_xlabel(r'$T$')\n",
    "# ax.set_ylabel(r'$\\left\\langle{m_{\\infty}^{\\mathrm{GC}}}\\right\\rangle$')\n",
    "# # inset_ax.set_yscale('log')\n",
    "# ax.legend(fontsize=24)\n",
    "# # inset_ax.set_ylabel(r'$\\chi$')"
   ]
  },
  {
   "cell_type": "markdown",
   "metadata": {},
   "source": [
    "### Fig. (e): Phase diagram numerical $\\lambda_2$ "
   ]
  },
  {
   "cell_type": "code",
   "execution_count": null,
   "metadata": {},
   "outputs": [],
   "source": [
    "side = 64\n",
    "neigen = 2\n",
    "cell = 'randXERR'\n",
    "tt = 'long'"
   ]
  },
  {
   "cell_type": "code",
   "execution_count": null,
   "metadata": {},
   "outputs": [],
   "source": [
    "lattice = Lattice2D(side, path_data=path_l2dgs2)\n",
    "fnames = os.listdir(lattice.isingpath)\n",
    "p_values = extract_values_from_filenames(fnames, r\"p=([\\d.]+)\", unique=True)\n",
    "p_T_dict = {p: extract_values_from_filenames(fnames, rf\"p={p}_T=([\\d.]+)\") \n",
    "            for p in p_values}"
   ]
  },
  {
   "cell_type": "code",
   "execution_count": null,
   "metadata": {},
   "outputs": [],
   "source": [
    "averages = []\n",
    "for p in p_values:\n",
    "    for T in p_T_dict[p]:\n",
    "        filename = f\"outcl0_p={p}_T={T}_gs{neigen}{cell}{tt}.txt\"\n",
    "        filepath = os.path.join(lattice.isingpath, filename)\n",
    "        if os.path.exists(filepath):\n",
    "            try:\n",
    "                data = np.loadtxt(filepath)\n",
    "                data = data[np.all(np.abs(data) <= 1, axis=1)]\n",
    "                avg_abs_col1 = np.mean(np.abs(data[:, 0]))\n",
    "                averages.append((float(p), float(T), avg_abs_col1))\n",
    "            except:\n",
    "                pass\n",
    "averages = np.array(averages)"
   ]
  },
  {
   "cell_type": "code",
   "execution_count": null,
   "metadata": {},
   "outputs": [],
   "source": [
    "p_values_plot = averages[:, 0]\n",
    "T_values_plot = averages[:, 1]\n",
    "avg_abs_col1_plot = averages[:, 2]\n",
    "x, y, z = interpolate_grid_data(p_values_plot, T_values_plot, avg_abs_col1_plot, \n",
    "                                method='nearest', num_points=100)\n",
    "z_smoothed = gaussian_filter(z, sigma=5)  # Adjust sigma for more/less smoothing"
   ]
  },
  {
   "cell_type": "code",
   "execution_count": null,
   "metadata": {},
   "outputs": [],
   "source": [
    "fig = plt.figure(figsize=(10, 8))\n",
    "ax = fig.add_subplot(111, projection='3d')\n",
    "im = ax.plot_surface(x, y, z_smoothed, cmap=restr_twilight, rasterized=True,\n",
    "                edgecolor='k', lw=0.1)\n",
    "\n",
    "cax = fig.add_subplot(1,30,30)\n",
    "   \n",
    "fig.colorbar(im, cax=cax)\n",
    "\n",
    "ax.set_xlabel(r'$p$', labelpad=20)\n",
    "ax.set_ylabel(r'$T$', labelpad=20)\n",
    "ax.set_title(r'$\\left\\langle{m_{\\infty}^{\\mathrm{GC}}}\\right\\rangle$')\n",
    "ax.set_zticks([0, 0.5, 1])\n",
    "ax.set_yticks(np.linspace(0, 4, num=5))\n",
    "ax.view_init(elev=35, azim=30)\n",
    "# ax.set_box_aspect([1,1,1])\n",
    "ax.zaxis.set_tick_params(pad=15)\n",
    "ax.set_zlim(0, 1)\n",
    "# ax.text(1, 0, 1.4, r'\\textbf{(d)}', fontsize=40, \n",
    "#                 fontweight='bold', color='black')\n",
    "# plt.close('all')\n",
    "ax.set_xlim(0.1, 0.5)\n",
    "fig.savefig(path_l2dgs2 / Path(f'PhDiaL2D_3d_{side}_{cell}.pdf'), \n",
    "                bbox_inches='tight', transparent=True, dpi=200)"
   ]
  },
  {
   "cell_type": "markdown",
   "metadata": {},
   "source": [
    "### Fig. (f): Phase diagram at $p=0$ numerical $\\lambda_2$ "
   ]
  },
  {
   "cell_type": "code",
   "execution_count": null,
   "metadata": {},
   "outputs": [],
   "source": [
    "sides = [32, 48, 64]\n",
    "neigen = 2\n",
    "cell = 'randXERR'\n",
    "tt = 'long'"
   ]
  },
  {
   "cell_type": "code",
   "execution_count": null,
   "metadata": {},
   "outputs": [],
   "source": [
    "T_values_plot = {}\n",
    "z_values_plot = {}\n",
    "chi_values_plot = {}\n",
    "for side in sides:\n",
    "    # Initialize lattice and get filenames\n",
    "    lattice = Lattice2D(side, path_data=path_l2dgs2)\n",
    "    fnames = os.listdir(lattice.isingpath)\n",
    "    \n",
    "    # Extract p values\n",
    "    p_values = extract_values_from_filenames(fnames, r\"p=([\\d.]+)\", unique=True)\n",
    "    \n",
    "    # Find the smallest p value\n",
    "    min_p =0.398\n",
    "    print(p_values)\n",
    "    \n",
    "    # Get the corresponding T values for this p\n",
    "    T_values = extract_values_from_filenames(fnames, rf\"p={min_p}_T=([\\d.]+)\")\n",
    "    \n",
    "    averages = []\n",
    "    variances = []\n",
    "    # Iterate through T values and compute averages\n",
    "    for T in T_values:\n",
    "        filename = f\"outcl0_p={min_p}_T={T}_gs{neigen}{cell}{tt}.txt\"\n",
    "        filepath = os.path.join(lattice.isingpath, filename)\n",
    "        if os.path.exists(filepath):\n",
    "            try:\n",
    "                data = np.loadtxt(filepath)\n",
    "                data = data[np.all(np.abs(data) <= 1, axis=1)]\n",
    "                avg_abs_col1 = np.mean(np.abs(data[:, 0]))\n",
    "                var_abs_col1 = np.std(np.abs(data[:, 0]))\n",
    "                averages.append((float(T), avg_abs_col1))\n",
    "                variances.append((float(T), var_abs_col1))\n",
    "            except:\n",
    "                pass\n",
    "\n",
    "    averages = np.array(averages)\n",
    "    variances = np.array(variances)\n",
    "    \n",
    "    # Extract T and z values\n",
    "    T_values_plot[side] = averages[:, 0]\n",
    "    z_values_plot[side] = averages[:, 1]\n",
    "    chi_values_plot[side] = variances[:, 1]\n",
    "\n",
    "    # Plot z vs T for this side valu"
   ]
  },
  {
   "cell_type": "code",
   "execution_count": null,
   "metadata": {},
   "outputs": [],
   "source": [
    "fig, ax = plt.subplots(figsize=(10, 8))  # Create a single figure with axes\n",
    "inset_ax = ax.inset_axes([0.15, 0.1, 0.4, 0.4])\n",
    "# ax.axvline(x=2.269, ls='--', color='k', lw=2)\n",
    "# inset_ax.axvline(x=2.269, ls='--', color='k', lw=2)\n",
    "\n",
    "for cont,side in enumerate(sides[::-1]):\n",
    "    col = restr_twilight((cont+1)/len(sides))\n",
    "    ax.plot(T_values_plot[side], z_values_plot[side], '-', lw=3, color=col, label=f'{side}')\n",
    "    inset_ax.plot(T_values_plot[side], gaussian_filter(chi_values_plot[side], sigma=0.5)*side, '-', lw=3, color=col, label=f'{side}')\n",
    "\n",
    "# Customize the plot\n",
    "ax.set_xlabel(r'$T$')\n",
    "ax.set_ylabel(r'$\\left\\langle{m_{\\infty}^{\\mathrm{GC}}}\\right\\rangle$')\n",
    "ax.legend(fontsize=24)\n",
    "inset_ax.set_ylabel(r'$\\chi$')\n",
    "\n",
    "# fig.savefig(path_l2dgs2 / Path(f'PhDiaL2D_2d_{cell}.pdf'), \n",
    "#             bbox_inches='tight', transparent=True)\n",
    "# plt.close('all')"
   ]
  },
  {
   "cell_type": "code",
   "execution_count": null,
   "metadata": {},
   "outputs": [],
   "source": [
    "fig, ax = plt.subplots(figsize=(8, 8))\n",
    "cnt = ax.contourf(x, y, z, levels=200, cmap=restr_twilight, antialiased=False)\n",
    "div = make_axes_locatable(ax)\n",
    "cax = div.append_axes('right', '5%', '5%')\n",
    "cb = fig.colorbar(cnt, cax=cax)\n",
    "\n",
    "ax.set_xlabel(r'$p$', labelpad=20)\n",
    "ax.set_ylabel(r'$T$', labelpad=20)\n",
    "cb.set_label(r'$\\expval{m_{\\infty, 2}^{\\mathrm{GC}}}$', rotation=270, labelpad=50)\n",
    "\n",
    "cnt.set_edgecolor(\"face\")\n",
    "\n",
    "fig.savefig(path_l2dgs2 / Path(f'PhDiaL2D_{side}_{cell}.pdf'), \n",
    "                bbox_inches='tight', transparent=True)\n",
    "plt.close('all')"
   ]
  },
  {
   "cell_type": "markdown",
   "metadata": {},
   "source": [
    "### Fig. (g): Phase Diagram numerical $\\lambda_0$"
   ]
  },
  {
   "cell_type": "code",
   "execution_count": null,
   "metadata": {},
   "outputs": [],
   "source": [
    "sides = [32, 48, 64]\n",
    "neigen = 0\n",
    "tt = 'r'"
   ]
  },
  {
   "cell_type": "code",
   "execution_count": null,
   "metadata": {},
   "outputs": [],
   "source": [
    "T_values_plot = {}\n",
    "z_values_plot = {}\n",
    "chi_values_plot = {}\n",
    "for side in sides:\n",
    "    # Initialize lattice and get filenames\n",
    "    lattice = Lattice2D(side, path_data=path_l2dgs0r)\n",
    "    fnames = os.listdir(lattice.isingpath)\n",
    "    \n",
    "    # Extract p values\n",
    "    p_values = extract_values_from_filenames(fnames, r\"p=([\\d.]+)\", unique=True)\n",
    "    \n",
    "    # Find the smallest p value\n",
    "    min_p = 0.233\n",
    "    # Get the corresponding T values for this p\n",
    "    T_values = extract_values_from_filenames(fnames, f\"p={min_p}\"+r\"_T=([\\d.]+)\")\n",
    "    \n",
    "    averages = []\n",
    "    variances = []\n",
    "    # Iterate through T values and compute averages\n",
    "    for T in T_values:\n",
    "        filename = f\"outcl0_p={min_p}_T={T}_gs{neigen}_{tt}.txt\"\n",
    "        filepath = os.path.join(lattice.isingpath, filename)\n",
    "        if os.path.exists(filepath):\n",
    "            try:\n",
    "                data = np.loadtxt(filepath)\n",
    "                data = data[np.all(np.abs(data) <= 1, axis=1)]\n",
    "                avg_abs_col1 = np.mean(np.abs(data[:, 0]))\n",
    "                var_abs_col1 = np.std(np.abs(data[:, 0]))\n",
    "                averages.append((float(T), avg_abs_col1))\n",
    "                variances.append((float(T), var_abs_col1))\n",
    "            except:\n",
    "                pass\n",
    "\n",
    "    averages = np.array(averages)\n",
    "    variances = np.array(variances)\n",
    "    \n",
    "    # Extract T and z values\n",
    "    T_values_plot[side] = averages[:, 0]\n",
    "    z_values_plot[side] = averages[:, 1]\n",
    "    chi_values_plot[side] = variances[:, 1]\n"
   ]
  },
  {
   "cell_type": "code",
   "execution_count": null,
   "metadata": {},
   "outputs": [],
   "source": [
    "fig, ax = plt.subplots(figsize=(14, 8))  # Create a single figure with axes\n",
    "inset_ax = ax.inset_axes([0.5, 0.2, 0.4, 0.4])\n",
    "\n",
    "for cont,side in enumerate(sides[::-1]):\n",
    "    if cont == 0:\n",
    "        x = np.argmax(gaussian_filter(chi_values_plot[side], sigma=1))\n",
    "        ax.axvline(x=T_values_plot[side][x], ls='--', color='k', lw=2)\n",
    "        inset_ax.axvline(x=T_values_plot[side][x], ls='--', color='k', lw=2)\n",
    "    col = restr_twilight((cont+1)/len(sides))\n",
    "    ax.plot(T_values_plot[side], z_values_plot[side], '-', lw=3, color=col, label=f'{side}')\n",
    "    inset_ax.plot(T_values_plot[side], gaussian_filter(chi_values_plot[side], sigma=1)*side, '-', lw=3, color=col, label=f'{side}')\n",
    "\n",
    "# Customize the plot\n",
    "ax.set_xlabel(r'$T$')\n",
    "ax.set_ylabel(r'$\\left\\langle{m_{\\infty}^{\\mathrm{GC}}}\\right\\rangle$')\n",
    "ax.legend(fontsize=24)\n",
    "inset_ax.set_ylabel(r'$\\chi$')\n",
    "\n",
    "fig.savefig(path_l2dgs2 / Path(f'PhDiaL2D_2d_{tt}.pdf'), \n",
    "            bbox_inches='tight', transparent=True)\n",
    "# plt.close('all')"
   ]
  },
  {
   "cell_type": "markdown",
   "metadata": {},
   "source": [
    "### Fig. (f): magnGC single slice "
   ]
  },
  {
   "cell_type": "code",
   "execution_count": null,
   "metadata": {},
   "outputs": [],
   "source": [
    "sizes = [16, 32, 64]\n",
    "sffx = 'gs0_r'"
   ]
  },
  {
   "cell_type": "code",
   "execution_count": null,
   "metadata": {},
   "outputs": [],
   "source": [
    "\n",
    "fig, ax = plt.subplots(figsize=(10, 8))\n",
    "inset_bounds = [0.65, 0.55, 0.3, 0.4]  # Position and size of the inset\n",
    "\n",
    "# Create an inset plot using inset_axes\n",
    "ax_inset = ax.inset_axes(inset_bounds)\n",
    "colr = 1/len(sizes)\n",
    "for i, side in enumerate(sizes):\n",
    "    l = Lattice2D(side1=side, sgpath=clusterdatapath)\n",
    "    P, T, mgcinf, vargcinf = get_meangc(l.isingpath, custromstr=sffx)\n",
    "    P = sorted(list(P))\n",
    "    P_sel = P[0]\n",
    "    color = restr_twilight(P_sel/max(P))\n",
    "    x = sorted(mgcinf[P_sel].keys())\n",
    "    sorted_values = np.array([mgcinf[P_sel][key] for key in x])\n",
    "    y = sorted_values\n",
    "    sorted_values = np.array([vargcinf[P_sel][key] for key in x])\n",
    "    y2 = sorted_values\n",
    "    # y1 = gaussian_filter(y, sigma=3)\n",
    "    # y2 = y1[::-1]\n",
    "    # y = y2#np.concatenate([y1[:len(y1)//2], y2[:len(y1)//2:-1]])\n",
    "    ax.plot(x, y, marker='o', ls='-', lw=3, color=restr_twilight((i+1)*colr), label=f'$L={side}$')\n",
    "    ax_inset.plot(x, y2*l.N, marker='o', ls='-', color=restr_twilight((i+1)*colr))\n",
    "# ax_inset.set_yticks([])\n",
    "ax_inset.set_xticks([0, 2.2, 4])\n",
    "ax_inset.set_ylabel(r'$\\chi$')\n",
    "ax.set_ylabel(r'$\\avg*{m_{\\infty}^{\\mathrm{GC}}}$')\n",
    "for axx in [ax, ax_inset]:\n",
    "    axx.set_xlabel(r'$T$')\n",
    "ax_inset.axvline(x=2.2, color='k', ls='--')\n",
    "ax_inset.tick_params(axis='both', which='major', labelsize=28)\n",
    "ax.legend(loc='lower left', fontsize=28)\n",
    "fig.savefig(os.path.join(plotpath, f'magnGC_{sffx}_{P_sel}.pdf'), bbox_inches='tight', transparent=True)"
   ]
  }
 ],
 "metadata": {
  "kernelspec": {
   "display_name": "lrgsgenv",
   "language": "python",
   "name": "python3"
  },
  "language_info": {
   "codemirror_mode": {
    "name": "ipython",
    "version": 3
   },
   "file_extension": ".py",
   "mimetype": "text/x-python",
   "name": "python",
   "nbconvert_exporter": "python",
   "pygments_lexer": "ipython3",
   "version": "3.12.3"
  }
 },
 "nbformat": 4,
 "nbformat_minor": 2
}
