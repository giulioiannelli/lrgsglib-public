{
 "cells": [
  {
   "cell_type": "code",
   "execution_count": null,
   "metadata": {},
   "outputs": [],
   "source": [
    "%matplotlib inline\n",
    "#\n",
    "from LRGSG_package.shared import *\n",
    "from LRGSG_package.config.utils import *\n",
    "from LRGSG_package.LRGSG import gaussian_filter, Lattice2D, \\\n",
    "    read_files_to_2d_array, move_to_rootf\n",
    "#\n",
    "move_to_rootf(True)"
   ]
  },
  {
   "cell_type": "markdown",
   "metadata": {},
   "source": [
    "### Smallest eigenvalue Signed Laplacian"
   ]
  },
  {
   "cell_type": "code",
   "execution_count": null,
   "metadata": {},
   "outputs": [],
   "source": [
    "def create_symmetric_log_bins(min_val, max_val, num_bins, incMagn=2):\n",
    "    \"\"\"Creates symmetric logarithmic bins and their centers.\"\"\"\n",
    "    bins_positive = np.logspace(np.log10(min_val)-incMagn, np.log10(max_val)+incMagn, num_bins//2 + 1)\n",
    "    bins_negative = -np.flip(bins_positive[:-1])\n",
    "    bins = np.concatenate((bins_negative, [0], bins_positive))\n",
    "    bin_centers = (bins[:-1] + bins[1:]) / 2\n",
    "    return bins, bin_centers\n",
    "def bin_eigenvalues(eig_values, bins, bin_centers):\n",
    "    \"\"\"Bins eigenvalues and counts occurrences in each bin, using bin centers as keys.\"\"\"\n",
    "    indices = np.digitize(eig_values, bins, right=True) - 1\n",
    "    indices = np.clip(indices, 0, len(bin_centers) - 1)  # Ensure indices are within the valid range\n",
    "    bin_keys = [bin_centers[index] for index in indices]\n",
    "    return Counter(bin_keys)\n",
    "\n",
    "def eigV_for_lattice(side, mode='scipy', **kwargs):\n",
    "    l = Lattice2D(side, **kwargs)\n",
    "    l.flip_random_fract_edges()\n",
    "    l.compute_k_eigvV(MODE_dynspec=mode)\n",
    "    return flip_to_positive_majority(l.eigV[0])"
   ]
  },
  {
   "cell_type": "code",
   "execution_count": null,
   "metadata": {},
   "outputs": [],
   "source": [
    "geo = 'squared'\n",
    "#\n",
    "nAvg = 500\n",
    "bins_count = 500\n",
    "period = 20\n",
    "workDir = \"data/plot/dev_tool_Lattice2D/\"\n",
    "os.makedirs(workDir, exist_ok=True)\n",
    "for mode in ['scipy', 'numpy']:\n",
    "    for side in [16, 32, 64, 96]:\n",
    "        for pflip in [0.01, 0.05, 0.103, 0.2]:\n",
    "            #\n",
    "            print(mode, side, pflip)\n",
    "            fnameBase = f\"dist_{side}_{pflip:.3g}_{mode}\"\n",
    "            fname = f\"{workDir}{fnameBase}_{nAvg}.pkl\"\n",
    "\n",
    "            # Setup and initial calculation\n",
    "            initial_eig = np.abs(eigV_for_lattice(side, pflip=pflip, geo=geo, mode=mode))\n",
    "            bins, bin_centers = create_symmetric_log_bins(np.min(initial_eig), np.max(initial_eig), bins_count)\n",
    "\n",
    "            bin_counter = Counter()\n",
    "            fnameOld = \"\"\n",
    "            if not os.path.exists(fname):\n",
    "                nAvgDone = 0\n",
    "                fnameExists = glob.glob(f\"{workDir}{fnameBase}*\")\n",
    "                if fnameExists:\n",
    "                    nAvgDone = int(os.path.splitext(fnameExists[0].split('_')[-1])[0])\n",
    "                    fnameOld = fnameExists[0]\n",
    "                nAvgNeed = nAvg - nAvgDone\n",
    "                for current_period in range((nAvgNeed // period) + bool(nAvgNeed % period)):\n",
    "                    batch_size = min(nAvgNeed - current_period * period, period)\n",
    "                    eig_values = np.concatenate([eigV_for_lattice(side, pflip=pflip, geo=geo, mode=mode) for _ in range(batch_size)])\n",
    "                    bin_counter.update(bin_eigenvalues(eig_values, bins, bin_centers))\n",
    "                    fnameNew = f\"{workDir}{fnameBase}_{nAvgDone + (current_period + 1) * period}.pkl\"\n",
    "                    try:\n",
    "                        os.rename(fnameOld, fnameNew)\n",
    "                    except FileNotFoundError:\n",
    "                        pass\n",
    "                    with open(fnameNew, \"wb\") as f:\n",
    "                        pk.dump(dict(bin_counter), f)\n",
    "                    fnameOld = fnameNew\n",
    "\n",
    "                # At the end, save the final state if needed\n",
    "                if nAvgNeed % period:\n",
    "                    fnameNew = f\"{workDir}{fnameBase}_{nAvg}.pkl\"\n",
    "                    os.rename(fnameOld, fnameNew)\n",
    "                    with open(fnameNew, \"wb\") as f:\n",
    "                        pk.dump(dict(bin_counter), f)\n"
   ]
  },
  {
   "cell_type": "code",
   "execution_count": null,
   "metadata": {},
   "outputs": [],
   "source": [
    "mode = 'scipy'\n",
    "fnameBase = f\"dist_{side}_{pflip:.3g}_{mode}\"\n",
    "fname = f\"{workDir}{fnameBase}_{nAvg}.pkl\"\n",
    "with open(fname, \"rb\") as f:\n",
    "    k, v = zip(*sorted(pk.load(f).items()))\n",
    "plt.axvline(np.finfo(np.float64).eps, color='k', linestyle='--', lw=1)\n",
    "plt.axvline(-np.finfo(np.float64).eps, color='k', linestyle='--', lw=1)\n",
    "plt.plot(k, v, 'o')\n",
    "#\n",
    "mode = 'numpy'\n",
    "fnameBase = f\"dist_{side}_{pflip:.3g}_{mode}\"\n",
    "fname = f\"{workDir}{fnameBase}_{nAvg}.pkl\"\n",
    "with open(fname, \"rb\") as f:\n",
    "    k, v = zip(*sorted(pk.load(f).items()))\n",
    "plt.plot(k, v, 'o')\n",
    "\n",
    "plt.title(fr\"$P(|\\lambda_0\\rangle)$, N={side**2}, {mode}, $p={pflip}$, #{nAvg}\")\n",
    "plt.xscale('symlog', linthresh=1e-17)\n",
    "plt.yscale('log')\n",
    "plt.savefig(f\"{workDir}dist_{side}_{pflip:.3g}_{nAvg}.png\")"
   ]
  },
  {
   "cell_type": "code",
   "execution_count": null,
   "metadata": {},
   "outputs": [],
   "source": [
    "\n",
    "# Setup and initial calculation\n",
    "initial_eig = np.abs(eigV_for_lattice(side, pflip=pflip, geo=geo, mode=mode))\n",
    "bins, bin_centers = create_symmetric_log_bins(np.min(initial_eig), np.max(initial_eig), bins_count)\n",
    "\n",
    "bin_counter = Counter()\n",
    "fnameOld = \"\"\n",
    "if not os.path.exists(fname):\n",
    "    nAvgDone = 0\n",
    "    fnameExists = glob.glob(f\"{workDir}{fnameBase}*\")\n",
    "    if fnameExists:\n",
    "        nAvgDone = int(os.path.splitext(fnameExists[0].split('_')[-1])[0])\n",
    "        fnameOld = fnameExists[0]\n",
    "    nAvgNeed = nAvg - nAvgDone\n",
    "    for current_period in range((nAvgNeed // period) + bool(nAvgNeed % period)):\n",
    "        batch_size = min(nAvgNeed - current_period * period, period)\n",
    "        eig_values = np.concatenate([eigV_for_lattice(side, pflip=pflip, geo=geo, mode=mode) for _ in range(batch_size)])\n",
    "        bin_counter.update(bin_eigenvalues(eig_values, bins, bin_centers))\n",
    "        fnameNew = f\"{workDir}{fnameBase}_{nAvgDone + (current_period + 1) * period}.pkl\"\n",
    "        try:\n",
    "            os.rename(fnameOld, fnameNew)\n",
    "        except FileNotFoundError:\n",
    "            pass\n",
    "        with open(fnameNew, \"wb\") as f:\n",
    "            pk.dump(dict(bin_counter), f)\n",
    "        fnameOld = fnameNew\n",
    "\n",
    "    # At the end, save the final state if needed\n",
    "    if nAvgNeed % period:\n",
    "        fnameNew = f\"{workDir}{fnameBase}_{nAvg}.pkl\"\n",
    "        os.rename(fnameOld, fnameNew)\n",
    "        with open(fnameNew, \"wb\") as f:\n",
    "            pk.dump(dict(bin_counter), f)\n"
   ]
  },
  {
   "cell_type": "code",
   "execution_count": null,
   "metadata": {},
   "outputs": [],
   "source": [
    "mode = 'scipy'\n",
    "fnameBase = f\"dist_{side}_{pflip:.3g}_{mode}\"\n",
    "fname = f\"{workDir}{fnameBase}_{nAvg}.pkl\"\n",
    "with open(fname, \"rb\") as f:\n",
    "    k, v = zip(*sorted(pk.load(f).items()))\n",
    "plt.axvline(np.finfo(np.float64).eps, color='k', linestyle='--', lw=1)\n",
    "plt.axvline(-np.finfo(np.float64).eps, color='k', linestyle='--', lw=1)\n",
    "plt.plot(k, v, 'o')\n",
    "#\n",
    "mode = 'numpy'\n",
    "fnameBase = f\"dist_{side}_{pflip:.3g}_{mode}\"\n",
    "fname = f\"{workDir}{fnameBase}_{nAvg}.pkl\"\n",
    "with open(fname, \"rb\") as f:\n",
    "    k, v = zip(*sorted(pk.load(f).items()))\n",
    "plt.plot(k, v, 'o')\n",
    "\n",
    "plt.title(fr\"$P(|\\lambda_0\\rangle)$, N={side**2}, {mode}, $p={pflip}$, #{nAvg}\")\n",
    "plt.xscale('symlog', linthresh=1e-17)\n",
    "plt.yscale('log')\n",
    "plt.savefig(f\"{workDir}dist_{side}_{pflip:.3g}_{nAvg}.png\")"
   ]
  },
  {
   "cell_type": "code",
   "execution_count": null,
   "metadata": {},
   "outputs": [],
   "source": []
  },
  {
   "cell_type": "code",
   "execution_count": null,
   "metadata": {},
   "outputs": [],
   "source": [
    "def eigV_for_lattice(side, mode='scipy', **kwargs):\n",
    "    l = Lattice2D(side, **kwargs)\n",
    "    l.flip_random_fract_edges()\n",
    "    l.compute_k_eigvV(MODE_dynspec=mode)\n",
    "    return flip_to_positive_majority(l.eigV[0])\n",
    "def create_symmetric_log_bins(min_val, max_val, num_bins, incMagn = 2):\n",
    "    \"\"\"Creates symmetric logarithmic bins.\"\"\"\n",
    "    bins_positive = np.logspace(np.log10(min_val)-incMagn, np.log10(max_val)+incMagn, num_bins//2)\n",
    "    bins_negative = -np.flip(bins_positive)\n",
    "    return np.concatenate((bins_negative, [0], bins_positive))\n",
    "def bin_eigenvalues(eig_values, bins):\n",
    "    \"\"\"Bins eigenvalues and counts occurrences in each bin.\"\"\"\n",
    "    indices = np.digitize(eig_values, bins, right=True)\n",
    "    return Counter(indices)"
   ]
  },
  {
   "cell_type": "code",
   "execution_count": null,
   "metadata": {},
   "outputs": [],
   "source": [
    "# Setup\n",
    "side = 64\n",
    "geo = 'squared'\n",
    "pflip = 0.103\n",
    "#\n",
    "nAvg = 200\n",
    "bins_count = 500\n",
    "period = 20\n",
    "#\n",
    "workDir = \"data/plot/dev_tool_Lattice2D/\"\n",
    "mode = 'numpy'\n",
    "fnameBase = f\"dist_{side}_{pflip:.3g}_{mode}\"\n",
    "fname = f\"{workDir}{fnameBase}_{nAvg}.pkl\""
   ]
  },
  {
   "cell_type": "code",
   "execution_count": null,
   "metadata": {},
   "outputs": [],
   "source": [
    "# Get initial eigenvalues to define bins\n",
    "initial_eig = np.abs(eigV_for_lattice(side, pflip=pflip, geo=geo, mode=mode))\n",
    "print(np.log10(np.max(initial_eig))+4)\n",
    "bins = create_symmetric_log_bins(np.min(initial_eig), np.max(initial_eig), \n",
    "                                 bins_count)\n",
    "#\n",
    "bin_counter = Counter()\n",
    "fnameOld = \"\"\n",
    "if not os.path.exists(fname):\n",
    "    nAvgDone = 0\n",
    "    fnameExists = glob.glob(f\"{workDir}{fnameBase}*\")\n",
    "    if fnameExists:\n",
    "        nAvgDone = int(os.path.splitext(fnameExists[0].split('_')[-1])[0])\n",
    "        fnameOld = fnameExists[0]\n",
    "    nAvgNeed = nAvg - nAvgDone\n",
    "    for current_period in range((nAvgNeed // period) + bool(nAvgNeed % period)):\n",
    "        batch_size = min(nAvgNeed - current_period * period, period)\n",
    "        eig_values = np.concatenate([eigV_for_lattice(side, pflip=pflip, geo=geo, mode=mode) for _ in range(batch_size)])\n",
    "        bin_counter.update(bin_eigenvalues(eig_values, bins))\n",
    "        fnameNew = f\"{workDir}{fnameBase}_{nAvgDone + (current_period + 1) * period}.pkl\"\n",
    "        try:\n",
    "            os.rename(fnameOld, fnameNew)\n",
    "        except FileNotFoundError:\n",
    "            pass\n",
    "        with open(fnameNew, \"wb\") as f:\n",
    "            pk.dump(dict(bin_counter), f)\n",
    "        fnameOld = fnameNew\n",
    "\n",
    "    # At the end, save the final state if needed\n",
    "    if nAvgNeed % period:\n",
    "        fnameNew = f\"{workDir}{fnameBase}_{nAvg}.pkl\"\n",
    "        os.rename(fnameOld, fnameNew)\n",
    "        with open(fnameNew, \"wb\") as f:\n",
    "            pk.dump(dict(bin_counter), f)"
   ]
  },
  {
   "cell_type": "code",
   "execution_count": null,
   "metadata": {},
   "outputs": [],
   "source": [
    "mode = 'scipy'\n",
    "fnameBase = f\"dist_{side}_{pflip:.3g}_{mode}\"\n",
    "fname = f\"{workDir}{fnameBase}_{nAvg}.pkl\"\n",
    "k,v = zip(*pk.load(open(fname, \"rb\")).items())\n",
    "binsv = bins[np.array(k)-1]\n",
    "plt.plot(binsv, v, 'o')\n",
    "#\n",
    "mode = 'numpy'\n",
    "fnameBase = f\"dist_{side}_{pflip:.3g}_{mode}\"\n",
    "fname = f\"{workDir}{fnameBase}_{nAvg}.pkl\"\n",
    "k,v = zip(*pk.load(open(fname, \"rb\")).items())\n",
    "binsv = bins[np.array(k)-1]\n",
    "plt.plot(binsv, v, 'o')\n",
    "#\n",
    "plt.title(fr\"$P(|\\lambda_0\\rangle)$, N={side**2}, {mode}, $p={pflip}$, #{nAvg}\")\n",
    "plt.axvline(np.finfo(np.float64).eps, color='k', linestyle='--', lw=1)\n",
    "plt.axvline(-np.finfo(np.float64).eps, color='k', linestyle='--', lw=1)\n",
    "plt.xscale('symlog', linthresh=1e-17)\n",
    "plt.yscale('log')\n",
    "plt.savefig(f\"{workDir}dist_{side}_{pflip:.3g}_{nAvg}_{mode}.png\")"
   ]
  },
  {
   "cell_type": "code",
   "execution_count": null,
   "metadata": {},
   "outputs": [],
   "source": [
    "l = Lattice2D(128, pflip=0.103, geo='squared')\n",
    "l.flip_random_fract_edges()\n",
    "l.compute_k_eigvV(MODE_dynspec='scipy')\n",
    "np.max(flip_to_positive_majority(l.eigV[0]))"
   ]
  },
  {
   "cell_type": "code",
   "execution_count": null,
   "metadata": {},
   "outputs": [],
   "source": [
    "l = Lattice2D(64, pflip=0.103, geo='squared')\n",
    "l.flip_random_fract_edges()\n",
    "l.compute_k_eigvV(MODE_dynspec='scipy')\n",
    "#\n",
    "outp, outm = symlog_binning(flip_to_positive_majority(l.eigV[0].flatten()))\n",
    "plt.plot(outp[0], outp[1], marker='o', lw=1)\n",
    "plt.plot(outm[0], outm[1], marker='o', lw=1)\n",
    "plt.xscale('symlog', linthresh=1e-20)\n",
    "plt.yscale('log')\n",
    "plt.axvline(np.finfo(np.float64).eps, color='k', linestyle='--', lw=1)\n",
    "plt.axvline(-np.finfo(np.float64).eps, color='k', linestyle='--', lw=1)"
   ]
  },
  {
   "cell_type": "markdown",
   "metadata": {},
   "source": [
    "### phtra plot"
   ]
  },
  {
   "cell_type": "code",
   "execution_count": null,
   "metadata": {},
   "outputs": [],
   "source": [
    "perc = pd.read_csv(\"/home/opisthofulax/PhD/projects/complex-networks/LRG-Signed/data/plot/tmp/OrderP_L64\",\n",
    "                       sep=',', header=None)\n",
    "l = Lattice2D(64, geo='squared', \n",
    "            initNwDict=True, \n",
    "            with_positions=False,\n",
    "            sgpath=\"plot/paper/suppinf/phase_transition_l2d/\"\n",
    ")\n",
    "data = read_files_to_2d_array(l.phtrapath, 'rand')\n",
    "data = data[np.argsort(data[:, 0])]\n",
    "#\n",
    "pinf2 = gaussian_filter(data[:, 5], sigma=2)\n",
    "#\n",
    "chi = gaussian_filter(data[:, 7]*l.N, sigma=1)\n",
    "#\n",
    "x_scaled = data[:, 0]\n",
    "#\n",
    "chi_scaled = gaussian_filter(perc[3]*64**2,sigma=0)\n",
    "\n",
    "chiplot, = plt.plot(perc[5], chi_scaled,\n",
    "                          lw=2, marker='')\n",
    "chiplot, = plt.plot(x_scaled, chi,\n",
    "                          lw=2, marker='')"
   ]
  },
  {
   "cell_type": "markdown",
   "metadata": {},
   "source": [
    "### precision problems"
   ]
  },
  {
   "cell_type": "code",
   "execution_count": null,
   "metadata": {},
   "outputs": [],
   "source": [
    "np.random.seed(0)\n",
    "random.seed(0)\n",
    "#\n",
    "fig, ax = plt.subplots(ncols=5, nrows=5, figsize=(35, 7))\n",
    "#\n",
    "l = Lattice2D(128, pflip=0.103)\n",
    "l.flip_random_fract_edges()\n",
    "l.compute_k_eigvV(howmany=5, MODE_dynspec=\"scipy\", typf=np.float32)\n",
    "from matplotlib.colors import ListedColormap\n",
    "cmap = ListedColormap(['black', 'red', 'white'])\n",
    "for i in range(5):\n",
    "    ei = flip_to_positive_majority(l.eigV[i].reshape(l.syshape))\n",
    "    result = sign_with_threshold(ei, threshold=1e-7)\n",
    "    ax[i].imshow(result, cmap=cmap, interpolation=None)\n",
    "\n",
    "np.random.seed(0)\n",
    "random.seed(0)\n",
    "l = Lattice2D(128, pflip=0.103)\n",
    "l.flip_random_fract_edges()\n",
    "l.compute_k_eigvV(howmany=5, MODE_dynspec=\"numpy\", typf=np.float64)\n",
    "for i in range(5,10):\n",
    "    ei = flip_to_positive_majority(l.eigV[i].reshape(l.syshape))\n",
    "    result = sign_with_threshold(ei, threshold=1e-15)\n",
    "    ax[i].imshow(result, cmap=cmap, interpolation=None)"
   ]
  },
  {
   "cell_type": "code",
   "execution_count": null,
   "metadata": {},
   "outputs": [],
   "source": [
    "np.random.seed(0)\n",
    "random.seed(0)\n",
    "fig, ax = plt.subplots(ncols=5, figsize=(35,7))\n"
   ]
  },
  {
   "cell_type": "code",
   "execution_count": null,
   "metadata": {},
   "outputs": [],
   "source": [
    "fig, ax = plt.subplots(ncols=5, nrows=5, figsize=(35,35))\n",
    "for i in range(10):\n",
    "    l = Lattice2D(128, pflip=0.12)\n",
    "    l.flip_random_fract_edges()\n",
    "    l.compute_k_eigvV(howmany=2)\n",
    "    ei = l.eigV[0].reshape(l.syshape)\n",
    "    result = sign_with_threshold(ei, threshold=1e-15)\n",
    "    ax[i//5][i%5].imshow(result, cmap=cmap, interpolation=None)"
   ]
  },
  {
   "cell_type": "code",
   "execution_count": null,
   "metadata": {},
   "outputs": [],
   "source": [
    "k, v = l.cluster_distribution_list().keys(), l.cluster_distribution_list().values()\n",
    "plt.plot(k, v, marker='o', lw=0)\n",
    "plt.yscale('log')\n",
    "plt.xscale('log')"
   ]
  },
  {
   "cell_type": "markdown",
   "metadata": {},
   "source": [
    "### Distribution of values first eigenstate"
   ]
  },
  {
   "cell_type": "code",
   "execution_count": null,
   "metadata": {},
   "outputs": [],
   "source": [
    "%matplotlib inline\n",
    "#\n",
    "from LRGSG_package.shared import *\n",
    "from LRGSG_package.config.utils import *\n",
    "from LRGSG_package.LRGSG import gaussian_filter, Lattice2D, \\\n",
    "    read_files_to_2d_array, move_to_rootf\n",
    "#\n",
    "move_to_rootf(True)"
   ]
  },
  {
   "cell_type": "code",
   "execution_count": null,
   "metadata": {},
   "outputs": [],
   "source": [
    "l = Lattice2D(64, pflip=0.1, geo='squared')\n",
    "l.flip_random_fract_edges()\n",
    "l.compute_k_eigvV(MODE_dynspec='numpy')"
   ]
  },
  {
   "cell_type": "code",
   "execution_count": null,
   "metadata": {},
   "outputs": [],
   "source": [
    "outp, outm = symlog_binning(flip_to_positive_majority(l.eigV[0].flatten()))\n",
    "plt.plot(outp[0], outp[1], marker='o', lw=1)\n",
    "plt.plot(outm[0], outm[1], marker='o', lw=1)\n",
    "plt.xscale('symlog', linthresh=1e-20)\n",
    "plt.yscale('log')\n",
    "plt.axvline(np.finfo(np.float64).eps, color='k', linestyle='--', lw=1)\n",
    "plt.axvline(-np.finfo(np.float64).eps, color='k', linestyle='--', lw=1)"
   ]
  },
  {
   "cell_type": "code",
   "execution_count": null,
   "metadata": {},
   "outputs": [],
   "source": [
    "def flip_edges_optimized(graph, fraction=0.5):\n",
    "    \"\"\"\n",
    "    Flips the sign of a fraction of the +1 edges in the graph to -1 using more concise NetworkX functions.\n",
    "\n",
    "    Parameters:\n",
    "    - graph: A networkx graph where edges have a 'weight' attribute.\n",
    "    - fraction: Fraction of +1 weighted edges to flip. Value between 0 and 1.\n",
    "\n",
    "    Returns:\n",
    "    - The modified graph with some edges flipped.\n",
    "    \"\"\"\n",
    "    # Ensure the fraction is between 0 and 1\n",
    "    if not (0 <= fraction <= 1):\n",
    "        raise ValueError(\"Fraction must be between 0 and 1.\")\n",
    "    \n",
    "    # Find all edges with weight +1\n",
    "    \n",
    "    # Calculate the number of edges to flip\n",
    "    num_to_flip = int(graph.number_of_edges() * fraction)\n",
    "    \n",
    "    # Randomly select a subset of positive edges to flip\n",
    "    edges_to_flip = random.sample(list(graph.edges()), k=num_to_flip)\n",
    "    \n",
    "    # Prepare a dictionary with the selected edges and their new weight\n",
    "    flipped_edges = {graph[i][j]: -1 for (i, j) in edges_to_flip}\n",
    "    \n",
    "    # Use set_edge_attributes to apply the new weights\n",
    "    nx.set_edge_attributes(graph, flipped_edges, 'weight')\n",
    "    \n",
    "    return graph"
   ]
  },
  {
   "cell_type": "code",
   "execution_count": null,
   "metadata": {},
   "outputs": [],
   "source": [
    "G = nx.grid_2d_graph(128, 128, periodic=True)\n",
    "nx.set_edge_attributes(G, +1, 'weight')\n",
    "flip_edges_optimized(G, 0.5)"
   ]
  },
  {
   "cell_type": "code",
   "execution_count": null,
   "metadata": {},
   "outputs": [],
   "source": [
    "G[(0, 0)][(0, 1)]"
   ]
  },
  {
   "cell_type": "code",
   "execution_count": null,
   "metadata": {},
   "outputs": [],
   "source": [
    "\n",
    "\n",
    "# plt.xlim(-1.5, 1)"
   ]
  },
  {
   "cell_type": "code",
   "execution_count": null,
   "metadata": {},
   "outputs": [],
   "source": [
    "np.where(np.isnan(l.eigV[0].flatten()))"
   ]
  },
  {
   "cell_type": "code",
   "execution_count": null,
   "metadata": {},
   "outputs": [],
   "source": [
    "np.isnan(np.logl.eigV[0].flatten()).any()"
   ]
  },
  {
   "cell_type": "code",
   "execution_count": null,
   "metadata": {},
   "outputs": [],
   "source": []
  }
 ],
 "metadata": {
  "kernelspec": {
   "display_name": "LRG-Signed",
   "language": "python",
   "name": "python3"
  },
  "language_info": {
   "codemirror_mode": {
    "name": "ipython",
    "version": 3
   },
   "file_extension": ".py",
   "mimetype": "text/x-python",
   "name": "python",
   "nbconvert_exporter": "python",
   "pygments_lexer": "ipython3",
   "version": "3.9.18"
  }
 },
 "nbformat": 4,
 "nbformat_minor": 2
}
