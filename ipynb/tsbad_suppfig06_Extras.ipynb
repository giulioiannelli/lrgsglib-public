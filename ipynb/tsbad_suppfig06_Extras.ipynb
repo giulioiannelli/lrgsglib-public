{
 "cells": [
  {
   "cell_type": "code",
   "execution_count": 1,
   "metadata": {},
   "outputs": [
    {
     "name": "stdout",
     "output_type": "stream",
     "text": [
      "Current working directory: /home/opisthofulax/PhD/projects/complex-networks/lrgsglib\n"
     ]
    }
   ],
   "source": [
    "%matplotlib inline\n",
    "#\n",
    "from lrgsglib.core import *\n",
    "#\n",
    "move_to_rootf()\n",
    "plt.style.use('ipynb/nb_plotsheet.mplstyle')\n",
    "#\n",
    "path_suppinf = PATHPLOT / Path(PATHNPAPR, 'suppinf')\n",
    "path_extras = path_suppinf / Path('extras')\n",
    "path_isingXERR = path_extras / Path('isingXERR')\n",
    "path_tsb = path_extras / Path('tsb')\n",
    "sub_path = Path(*path_tsb.parts[1:])"
   ]
  },
  {
   "cell_type": "markdown",
   "metadata": {},
   "source": [
    "## Topological Symmetry Breaking"
   ]
  },
  {
   "cell_type": "markdown",
   "metadata": {},
   "source": [
    "### Squared Lattice Spectrum Distribution\n",
    "Data from cluster"
   ]
  },
  {
   "cell_type": "code",
   "execution_count": 2,
   "metadata": {},
   "outputs": [],
   "source": [
    "size = 64\n",
    "navg = 5000\n",
    "geo = 'sqr'\n",
    "cell = 'rand'\n",
    "pflip_l = [0.01, 0.05, 0.15, 0.5]"
   ]
  },
  {
   "cell_type": "code",
   "execution_count": 3,
   "metadata": {},
   "outputs": [],
   "source": [
    "hist_data = {}\n",
    "for pflip in pflip_l:\n",
    "    hist_data[pflip] = []\n",
    "    l_test = Lattice2D(size, geo, pflip=pflip, path_data=path_tsb)\n",
    "    data_path = l_test.path_spect / Path(f\"dist_eigval_{pflip:.3g}_{cell}_{navg}.pkl\")\n",
    "    if not os.path.exists(data_path):\n",
    "        continue\n",
    "    hist_data[pflip] = pk.load(open(data_path, 'rb'))"
   ]
  },
  {
   "cell_type": "code",
   "execution_count": 1,
   "metadata": {},
   "outputs": [],
   "source": [
    "# fig, ax = plt.subplots(ncols=len(pflip_l), figsize=(6*len(pflip_l), 6))\n",
    "# coarsening_factor = 80  # Adjust this to control coarsening level\n",
    "\n",
    "# for i,pflip in enumerate(pflip_l):\n",
    "#     x, y = np.array(list(hist_data[pflip].keys())), np.array(list(hist_data[pflip].values()))\n",
    "#     x_idx = np.argsort(x)\n",
    "#     x, y = x[x_idx], y[x_idx]\n",
    "#     x, y = coarsen_bins_with_padding(x, y, coarsening_factor)\n",
    "#     filtered_signal = gaussian_filter1d(y, sigma=2)\n",
    "#     y[-1] = y[0]\n",
    "#     ax[i].plot(x, y, 'rH-', label=fr'$\\lambda_0 = {min(x):.2g}$, $\\lambda_{{N-1}} = {max(x):.2g}$')\n",
    "#     ax[i].set_xticks(np.arange(int(np.min(x)), int(np.max(x)+2), 2))\n",
    "#     formatter = ScalarFormatter(useMathText=True)\n",
    "#     formatter.set_scientific(True)\n",
    "#     formatter.set_powerlimits((-2, 2))  # Adjust limits for scientific notation\n",
    "#     ax[i].yaxis.set_major_formatter(formatter)\n",
    "#     ax[i].set_xlabel(r'$\\lambda$')\n",
    "#     ax[i].legend(title=fr'$p = {pflip}$')\n",
    "# ax[0].set_ylabel(r'$P(\\lambda)$')\n",
    "# fig.savefig(path_tsb / Path(f'Peigv_hist_{size}_{navg}_{cell}.pdf'), \n",
    "#             bbox_inches='tight', transparent=True)"
   ]
  },
  {
   "cell_type": "code",
   "execution_count": 17,
   "metadata": {},
   "outputs": [],
   "source": [
    "#################################\n",
    "# 1. DATA PREPARATION\n",
    "#################################\n",
    "\n",
    "# Configure axis number formatting.\n",
    "formatter = ScalarFormatter(useMathText=True)\n",
    "formatter.set_scientific(True)\n",
    "formatter.set_powerlimits((-2, 2))\n",
    "#\n",
    "seed = 234587\n",
    "cell_type = 'rand'\n",
    "# Container for prepared data for each pflip.\n",
    "data_list = []\n",
    "coarsening_factor = 80\n",
    "# Loop over each pflip value.\n",
    "for pflip in pflip_l:\n",
    "    # --- Prepare Histogram Data ---\n",
    "    x = np.array(list(hist_data[pflip].keys()))\n",
    "    y = np.array(list(hist_data[pflip].values()))\n",
    "    sort_idx = np.argsort(x)\n",
    "    x, y = x[sort_idx], y[sort_idx]\n",
    "    x, y = coarsen_bins_with_padding(x, y, coarsening_factor)\n",
    "    # Optionally smooth the signal.\n",
    "    y[-1] = y[0]  # Ensure cyclic continuity.\n",
    "    \n",
    "    # --- Load or Compute Lattice Eigen Data ---\n",
    "    lspeeV = Lattice2D(size, geo, pflip=pflip, seed=seed, path_data=path_tsb)\n",
    "    eigen_data_fname = '_'.join([\n",
    "        \"eigen_data\", f\"{lspeeV.pflip:.3g}\", cell_type, f\"[{lspeeV.seed}]\"\n",
    "    ]) + \".npz\"\n",
    "    pname = lspeeV.path_spect / Path(eigen_data_fname)\n",
    "    if not os.path.exists(pname):\n",
    "        lspeeV.flip_random_fract_edges()\n",
    "        lspeeV.compute_full_laplacian_spectrum()\n",
    "        np.savez(pname, eigv=lspeeV.eigv, eigV=lspeeV.eigV)\n",
    "    else:\n",
    "        lspeeV.eigv, lspeeV.eigV = np.load(pname).values()\n",
    "    \n",
    "    # --- Define Eigen Indices for Insets ---\n",
    "    eigVlist = [1, lspeeV.N//4, lspeeV.N//2, 3*lspeeV.N//4, lspeeV.N-2]\n",
    "    \n",
    "    # --- Store Prepared Data ---\n",
    "    data_list.append({\n",
    "        'pflip': pflip,\n",
    "        'x': x,\n",
    "        'y': y,\n",
    "        'xy': np.vstack([x, y]),\n",
    "        'lattice': lspeeV,\n",
    "        'eigVlist': eigVlist,\n",
    "        'eigVnames': [\"$1$\", r\"$\\sfrac{N}{4}$\", r\"$\\sfrac{N}{2}$\", r\"$\\sfrac{3N}{4}$\", \"$N$-1\"]\n",
    "    })"
   ]
  },
  {
   "cell_type": "code",
   "execution_count": null,
   "metadata": {},
   "outputs": [],
   "source": [
    "#################################\n",
    "# 2. FIGURE CREATION\n",
    "#################################\n",
    "\n",
    "# Create the main figure and axes.\n",
    "fig, ax = plt.subplots(ncols=len(pflip_l), figsize=(7*len(pflip_l), 6))\n",
    "for i, d in enumerate(data_list):\n",
    "    # Plot the main histogram line.\n",
    "    ax[i].plot(d['x'], d['y'], 'b-', \n",
    "               label=fr'$\\lambda_0 = {min(d[\"x\"]):.2g}$, $\\lambda_{{N-1}} = {max(d[\"x\"]):.2g}$')\n",
    "    ax[i].set_xticks(np.arange(int(np.min(d['x'])), int(np.max(d['x']) + 2), 2))\n",
    "    ax[i].yaxis.set_major_formatter(formatter)\n",
    "    ax[i].set_xlabel(r'$\\lambda$')\n",
    "    ax[i].legend(title=fr'$p = {d[\"pflip\"]}$', loc='lower center')\n",
    "    ax[i].patch.set_alpha(0.)\n",
    "\n",
    "ax[0].set_ylabel(r'$P(\\lambda)$')\n",
    "plt.subplots_adjust(top=0.85, bottom=0.15)\n",
    "\n",
    "# Define inset parameters.\n",
    "x_inset_positions = [1, 0, 3.5, 7, 7.]          # Relative to data coordinates (for bbox)\n",
    "vertical_placement  = ['below', 'above', 'above', 'above', 'below']\n",
    "\n",
    "inset_width, inset_height = 1.5, 1.5                # Inset size in data coordinates\n",
    "\n",
    "# Create insets on each main axis.\n",
    "for i, main_ax in enumerate(ax):\n",
    "    d = data_list[i]\n",
    "    dlen = len(d['xy'][1])\n",
    "    y_i_idxs            = [0,dlen//4, dlen//2, 3*dlen//4,-1]\n",
    "    lspeeV = d['lattice']\n",
    "    eigVlist = d['eigVlist']\n",
    "    y_min, y_max = main_ax.get_ylim()\n",
    "    \n",
    "    for j, (xp, pos) in enumerate(zip(x_inset_positions, vertical_placement)):\n",
    "        # Determine vertical offset in relative (axes) coordinates.\n",
    "        y0 = 0.0 if pos == 'above' else -1.65\n",
    "        \n",
    "        # Create an inset axis using a blended transform:\n",
    "        in_ax = inset_axes(main_ax, width=inset_width, height=inset_height,\n",
    "                           bbox_to_anchor=(xp, y0, inset_width, inset_height),\n",
    "                           bbox_transform=blended_transform_factory(main_ax.transData, main_ax.transAxes),\n",
    "                           borderpad=0)\n",
    "        in_ax.set_xticks([])\n",
    "        in_ax.set_yticks([])\n",
    "        in_ax.set_frame_on(False)\n",
    "        \n",
    "        # Add a circular border and clip for the inset image.\n",
    "        circle_clip = Circle((0.5, 0.5), 0.5, transform=in_ax.transAxes)\n",
    "        border_circle = Circle((0.5, 0.5), 0.5, transform=in_ax.transAxes,\n",
    "                                 fill=False, edgecolor='black', linewidth=3)\n",
    "        border_circle.set_clip_on(False)\n",
    "        in_ax.add_patch(border_circle)\n",
    "        \n",
    "        # Display the eigen image inside the inset.\n",
    "        image_data = lspeeV.get_eigV_bin_check(eigVlist[j])\n",
    "        im = in_ax.imshow(image_data.reshape(*lspeeV.syshape), cmap='gray', origin='lower')\n",
    "        im.set_clip_path(circle_clip)\n",
    "        \n",
    "        # --- Create a Circular Marker in Figure Coordinates ---\n",
    "        # Interpolate the y-value at a given x (from main data) to define the connection point.\n",
    "        x_i = d['xy'][0][y_i_idxs[j]]\n",
    "        y_i = d['xy'][1][y_i_idxs[j]]\n",
    "        pt_data = np.array([x_i, y_i])\n",
    "        pt_disp = main_ax.transData.transform(pt_data)                # Data → Display\n",
    "        pt_fig = fig.transFigure.inverted().transform(pt_disp)           # Display → Figure\n",
    "\n",
    "        # Define a fixed radius (in points) and convert to figure–fraction.\n",
    "        radius_pts = 10  \n",
    "        inch_per_point = 1/72.\n",
    "        radius_fig_x = (radius_pts * inch_per_point) / fig.get_figwidth()\n",
    "        radius_fig_y = (radius_pts * inch_per_point) / fig.get_figheight()\n",
    "\n",
    "        # Create an Ellipse (with width & height chosen to appear circular).\n",
    "        circle_fig = Ellipse(pt_fig, width=2*radius_fig_x, height=2*radius_fig_y,\n",
    "                             transform=fig.transFigure,\n",
    "                             fill=False, edgecolor='k', linewidth=2)\n",
    "        fig.add_artist(circle_fig)\n",
    "        fig.canvas.draw()\n",
    "        renderer = fig.canvas.get_renderer()\n",
    "\n",
    "        # Get the inset’s bounding box in display coordinates and convert to figure coordinates.\n",
    "        bbox_disp = in_ax.get_tightbbox(renderer)\n",
    "        bbox_fig = bbox_disp.transformed(fig.transFigure.inverted())\n",
    "\n",
    "        # Compute the horizontal endpoints (left and right) of the inset circle.\n",
    "        center_y = (bbox_fig.y0 + bbox_fig.y1) / 2\n",
    "        left_inset_endpoint  = (bbox_fig.x0, center_y)\n",
    "        right_inset_endpoint = (bbox_fig.x1, center_y)\n",
    "\n",
    "        # Compute the marker (small circle) endpoints in figure coordinates.\n",
    "        # (Assuming pt_fig is the center of the marker and radius_fig_x is its horizontal radius.)\n",
    "        left_marker_endpoint  = (pt_fig[0] - radius_fig_x, pt_fig[1])\n",
    "        right_marker_endpoint = (pt_fig[0] + radius_fig_x, pt_fig[1])\n",
    "\n",
    "        # Draw connection lines from the inset endpoints to the marker endpoints.\n",
    "        from matplotlib.lines import Line2D\n",
    "\n",
    "        line_left = Line2D([left_inset_endpoint[0], left_marker_endpoint[0]],\n",
    "                        [left_inset_endpoint[1], left_marker_endpoint[1]],\n",
    "                        transform=fig.transFigure, color='k', linewidth=1, zorder=0, ls=':')\n",
    "        line_right = Line2D([right_inset_endpoint[0], right_marker_endpoint[0]],\n",
    "                            [right_inset_endpoint[1], right_marker_endpoint[1]],\n",
    "                            transform=fig.transFigure, color='k', linewidth=1, zorder=0, ls=':')\n",
    "\n",
    "        fig.add_artist(line_left)\n",
    "        fig.add_artist(line_right)\n",
    "        # Choose an angle (in degrees) at which to place the label along the border.\n",
    "        angle_deg = 135   # for example, 45° from horizontal\n",
    "        angle_rad = np.radians(angle_deg)\n",
    "\n",
    "        # In in_ax (axes) coordinates, the border_circle is centered at (0.5, 0.5) with radius 0.5.\n",
    "        x_label = 0.5 + 0.5 * np.cos(angle_rad)\n",
    "        y_label = 0.5 + 0.5 * np.sin(angle_rad)\n",
    "\n",
    "        # Define the label circle's radius (in axes fraction coordinates).\n",
    "        label_radius = 0.15  # adjust for desired size\n",
    "\n",
    "        # Create a filled black circle patch for the label (using in_ax.transAxes).\n",
    "        label_patch = Circle((x_label, y_label), label_radius,\n",
    "                            transform=in_ax.transAxes,\n",
    "                            facecolor='white', edgecolor='k', zorder=border_circle.get_zorder()+1, clip_on=False)\n",
    "        in_ax.add_patch(label_patch)\n",
    "\n",
    "        # Add a text label (e.g., \"1\") centered in the label circle.\n",
    "        in_ax.text(x_label, y_label, fr\"{d['eigVnames'][j]}\", color=\"black\", fontsize=18, fontweight=\"bold\",\n",
    "                ha=\"center\", va=\"center\", transform=in_ax.transAxes, zorder=label_patch.get_zorder()+1)\n",
    "fig.savefig(path_tsb / f'FULLPLOT_{size}_{navg}_{cell}.pdf', bbox_inches='tight', transparent=True)"
   ]
  },
  {
   "cell_type": "markdown",
   "metadata": {},
   "source": [
    "### Squared Eigenmodes"
   ]
  },
  {
   "cell_type": "code",
   "execution_count": 32,
   "metadata": {},
   "outputs": [],
   "source": [
    "seed = 234587\n",
    "cell_type = 'rand'"
   ]
  },
  {
   "cell_type": "code",
   "execution_count": null,
   "metadata": {},
   "outputs": [],
   "source": [
    "for p in pflip_l:\n",
    "    lspeeV = Lattice2D(size, geo, pflip=p, seed=seed, path_data=path_tsb)\n",
    "    eigen_data_fname = '_'.join([\"eigen_data\", f\"{lspeeV.pflip:.3g}\", \n",
    "                                 cell_type, f\"[{lspeeV.seed}]\"]) + \".npz\"\n",
    "    pname = lspeeV.path_spect / eigen_data_fname\n",
    "    if not os.path.exists(pname):\n",
    "        lspeeV.flip_random_fract_edges()\n",
    "        lspeeV.compute_full_laplacian_spectrum()\n",
    "        np.savez(pname, eigv=lspeeV.eigv, eigV=lspeeV.eigV)\n",
    "    else:\n",
    "        lspeeV.eigv, lspeeV.eigV = np.load(pname).values()\n",
    "    eigVlist = [1, lspeeV.N//4, lspeeV.N//2, 3*lspeeV.N//4, lspeeV.N-2]\n",
    "    fig, ax = plt.subplots(1, len(eigVlist), figsize=(6*len(eigVlist), 6))\n",
    "    for i, eign in enumerate(eigVlist):\n",
    "        ax[i].imshow(lspeeV.get_eigV_bin_check(eign).reshape(*lspeeV.syshape), \n",
    "                     cmap=credcblu)\n",
    "        ax[i].axis('off')\n",
    "    fig.savefig(path_tsb / Path(f'Peigv_bin_{size}_{p:.3g}.pdf'), \n",
    "                bbox_inches='tight')"
   ]
  },
  {
   "cell_type": "markdown",
   "metadata": {},
   "source": [
    "## Ising XERR dynamics"
   ]
  },
  {
   "cell_type": "markdown",
   "metadata": {},
   "source": [
    "### Lowest IC configs"
   ]
  },
  {
   "cell_type": "code",
   "execution_count": 55,
   "metadata": {},
   "outputs": [],
   "source": [
    "seed = 0xFADE01\n",
    "#\n",
    "side = 96\n",
    "pflip = 0.25\n",
    "T = 0.5\n",
    "cell = 'randXERR'\n",
    "#\n",
    "ic_list = [\"uniform\"] + [\"_\".join([\"gs\", str(_)]) for _ in [0, 1, 2, 3, 10, 50]]"
   ]
  },
  {
   "cell_type": "code",
   "execution_count": 56,
   "metadata": {},
   "outputs": [],
   "source": [
    "l2d = Lattice2D(side, pflip=pflip, init_nw_dict=True, \n",
    "                    path_data=path_isingXERR, seed=seed)\n",
    "l2d.flip_sel_edges(l2d.nwDict[cell]['G'])\n",
    "l2d.compute_k_eigvV(50)"
   ]
  },
  {
   "cell_type": "code",
   "execution_count": 57,
   "metadata": {},
   "outputs": [],
   "source": [
    "ene = {}\n",
    "s_out = {}\n",
    "for ic in ic_list:\n",
    "    fname = lambda who: Path(f\"{who}_p={pflip:.3g}_T={T:.3g}_{ic}_{cell}.bin\")\n",
    "    pname_ene = l2d.path_ising / fname(\"ene\")\n",
    "    pname_sout = l2d.path_ising / fname(\"sout\")\n",
    "    if not os.path.exists(pname_ene) or not os.path.exists(pname_sout):\n",
    "        isdy = IsingDynamics(l2d, T=T, ic=ic, runlang=\"C3\", thrmSTEP=80, out_suffix=f\"{ic}_{cell}\")\n",
    "        isdy.init_ising_dynamics()\n",
    "        isdy.run()\n",
    "    s_out[ic] = np.fromfile(pname_sout, dtype=np.int8).reshape(-1, *l2d.syshape)\n",
    "    ene[ic] = np.fromfile(pname_ene, dtype=np.float64)"
   ]
  },
  {
   "cell_type": "code",
   "execution_count": null,
   "metadata": {},
   "outputs": [],
   "source": [
    "for ic,sout in s_out.items():\n",
    "    fig, ax = plt.subplots(1, len(sout), figsize=(6*len(sout), 6))\n",
    "    for i, s in enumerate(sout):\n",
    "        ax[i].imshow(s, cmap=credcblu)\n",
    "        ax[i].axis('off')\n",
    "    print([spin_overlap(sout[0], s) for s in sout])\n",
    "    fig.savefig(path_isingXERR / Path(f'Pspin_bin_{side}_{pflip:.3g}_{T:.3g}_{ic}_{cell}.pdf'), \n",
    "                bbox_inches='tight', transparent=True)\n",
    "    plt.close('all')"
   ]
  },
  {
   "cell_type": "markdown",
   "metadata": {},
   "source": [
    "### Lowest eig IC energy"
   ]
  },
  {
   "cell_type": "code",
   "execution_count": null,
   "metadata": {},
   "outputs": [],
   "source": [
    "fig, ax = plt.subplots(figsize=(16, 10))\n",
    "minene = 0\n",
    "maxene = min(ene[\"gs_50\"]/4)\n",
    "inset_color = '#ffe1db'\n",
    "\n",
    "for ic in ic_list:\n",
    "    if ic == 'uniform':\n",
    "        ic_shrt = ic\n",
    "        ic_label = 'random'\n",
    "    else:\n",
    "        ic_numer = ic.replace(\"gs_\", \"\")\n",
    "        ic_label = fr\"$\\vec{{\\sigma}}_0: \\ket{{\\lambda_{{{ic_numer}}}}}$\"\n",
    "    x = np.arange(len(ene[ic]))\n",
    "    ax.plot(x, (ene[ic]/4), 'k-' if ic == 'uniform' else '-', label=ic_label, zorder=100 if ic == 'uniform' else None, lw=2)\n",
    "    minene = min(minene, min(ene[ic]/4))\n",
    "ax.set_xscale('symlog')\n",
    "\n",
    "zoomXrange = (80, len(ene[\"uniform\"]))\n",
    "zoomYrange = (1.005*minene, 0.95*maxene)  # Range of points to display in the inset\n",
    "inset_ax = ax.inset_axes([0.225, 0.25, 0.75, 0.3], \n",
    "                         xlim=zoomXrange, ylim=zoomYrange, fc=inset_color,\n",
    "                         xticklabels=[], yticklabels=[], zorder=1000)  # Position and size of the inset\n",
    "\n",
    "for ic in ic_list:\n",
    "    x = np.arange(len(ene[ic]))\n",
    "    if ic == 'uniform':\n",
    "        inset_ax.plot(x, (ene[ic])/4, 'k-', label=ic, zorder=100)\n",
    "    else:\n",
    "        inset_ax.plot(x, (ene[ic])/4, '-', label=ic)\n",
    "\n",
    "mark_inset(ax, inset_ax, loc1=4, loc2=3, fc=set_alpha_torgb(to_rgb(inset_color), 0.5), ec=\"k\")\n",
    "inset_ax.set_xscale('symlog')\n",
    "inset_ax.set_xticklabels([])\n",
    "# Enable minor ticks automatically\n",
    "inset_ax.tick_params(axis='x', which='both', bottom=False, top=False, length=4)\n",
    "inset_ax.tick_params(axis='y', which='both', left=False, right=False, length=4)\n",
    "\n",
    "inset_ax.patch.set_alpha(1)\n",
    "inset_ax.patch.set_facecolor(inset_color)\n",
    "#\n",
    "ax.legend(ncol=2, fontsize=24)\n",
    "ax.set_ylabel(r'$E/N$')\n",
    "ax.set_xlabel(r'$t$ (MC Steps)')\n",
    "fig.savefig(path_isingXERR / Path(f'IsingDynEne{side}_{pflip:.3g}_{T:.3g}_{ic}.pdf'), \n",
    "            bbox_inches='tight')\n"
   ]
  },
  {
   "cell_type": "markdown",
   "metadata": {},
   "source": [
    "### Custom linear composition"
   ]
  },
  {
   "cell_type": "code",
   "execution_count": 2,
   "metadata": {},
   "outputs": [],
   "source": [
    "seed = 0xFADE01\n",
    "#\n",
    "side = 48\n",
    "pflip = 0.0\n",
    "T = 0.\n",
    "cell = 'randXERR'\n",
    "ic = 'custom'"
   ]
  },
  {
   "cell_type": "code",
   "execution_count": 9,
   "metadata": {},
   "outputs": [],
   "source": [
    "l2d = Lattice2D(side, pflip=pflip, init_nw_dict=True, seed=seed)\n",
    "# l2d.flip_sel_edges(l2d.nwDict[cell]['G'])\n",
    "l2d.compute_k_eigvV(with_routine='numpy')"
   ]
  },
  {
   "cell_type": "code",
   "execution_count": 31,
   "metadata": {},
   "outputs": [],
   "source": [
    "rand_comp, coeff = random_combination(l2d.get_eigV_bin_check_list(slice(20, 20+5)))\n",
    "coeff2 = obtain_coeffs(l2d.get_eigV_bin_check_list(), rand_comp)"
   ]
  },
  {
   "cell_type": "code",
   "execution_count": null,
   "metadata": {},
   "outputs": [],
   "source": [
    "coeff2"
   ]
  },
  {
   "cell_type": "code",
   "execution_count": 32,
   "metadata": {},
   "outputs": [
    {
     "data": {
      "text/plain": [
       "(-0.5, 47.5, -0.5, 47.5)"
      ]
     },
     "execution_count": 32,
     "metadata": {},
     "output_type": "execute_result"
    },
    {
     "data": {
      "image/png": "[encoded data removed]",
      "text/plain": [
       "<Figure size 1800x600 with 6 Axes>"
      ]
     },
     "metadata": {},
     "output_type": "display_data"
    }
   ],
   "source": [
    "fig, ax = plt.subplots(1, 5+1, figsize=(18, 6))\n",
    "\n",
    "for i in range(len(ax)-1):\n",
    "    ax[i].imshow(l2d.get_eigV_bin_check(i+20).reshape(*l2d.syshape), cmap=credcblu)\n",
    "    ax[i].axis('off')\n",
    "ax[len(ax)-1].imshow(rand_comp.reshape(*l2d.syshape), cmap=credcblu)\n",
    "ax[len(ax)-1].axis('off')"
   ]
  },
  {
   "cell_type": "code",
   "execution_count": 33,
   "metadata": {},
   "outputs": [
    {
     "data": {
      "image/png": "[encoded data removed]",
      "text/plain": [
       "<Figure size 800x500 with 1 Axes>"
      ]
     },
     "metadata": {},
     "output_type": "display_data"
    },
    {
     "data": {
      "image/png": "[encoded data removed]",
      "text/plain": [
       "<Figure size 2700x300 with 9 Axes>"
      ]
     },
     "metadata": {},
     "output_type": "display_data"
    },
    {
     "data": {
      "image/png": "[encoded data removed]",
      "text/plain": [
       "<Figure size 2700x300 with 9 Axes>"
      ]
     },
     "metadata": {},
     "output_type": "display_data"
    },
    {
     "data": {
      "image/png": "[encoded data removed]",
      "text/plain": [
       "<Figure size 2700x300 with 9 Axes>"
      ]
     },
     "metadata": {},
     "output_type": "display_data"
    },
    {
     "data": {
      "image/png": "[encoded data removed]",
      "text/plain": [
       "<Figure size 2700x300 with 9 Axes>"
      ]
     },
     "metadata": {},
     "output_type": "display_data"
    }
   ],
   "source": [
    "fig_ene, ax_ene = plt.subplots(figsize=(8, 5))\n",
    "for _ in range(4):\n",
    "    fname = lambda who: Path(f\"{who}_p={pflip:.3g}_T={T:.3g}__{ic}_{cell}.bin\")\n",
    "    pname_ene = l2d.path_ising / fname(\"ene\")\n",
    "    pname_sout = l2d.path_ising / fname(\"sout\")\n",
    "    #\n",
    "    isdy = IsingDynamics(l2d, T=T, ic=ic, runlang='C5', thrmSTEP=80, out_suffix=f\"{ic}_{cell}\")\n",
    "    isdy.init_ising_dynamics(custom=rand_comp)\n",
    "    isdy.run()\n",
    "    #\n",
    "    s_out = np.fromfile(pname_sout, dtype=np.int8).reshape(-1, *l2d.syshape)\n",
    "    ene = np.fromfile(pname_ene, dtype=np.float64)\n",
    "\n",
    "    fig, ax = plt.subplots(1, len(s_out), figsize=(3*len(s_out), 3))\n",
    "    for i, s in enumerate(s_out):\n",
    "        ax[i].imshow(s, cmap=credcblu)\n",
    "        ax[i].axis('off')\n",
    "        ax_ene.plot(np.arange(len(ene)), ene/4, 'k-')\n",
    "ax_ene.set_xscale('symlog')"
   ]
  },
  {
   "cell_type": "code",
   "execution_count": 8,
   "metadata": {},
   "outputs": [
    {
     "data": {
      "text/plain": [
       "(PosixPath('data/plot/paper/suppinf/extras/isingXERR/l2d_squared/ising/N=2304/ene_p=0_T=0_custom_randXERR.bin'),\n",
       " (48, 48))"
      ]
     },
     "execution_count": 8,
     "metadata": {},
     "output_type": "execute_result"
    }
   ],
   "source": [
    "pname_ene, l2d.syshape"
   ]
  },
  {
   "cell_type": "code",
   "execution_count": null,
   "metadata": {},
   "outputs": [],
   "source": [
    "fig, ax = plt.subplots(1, len(s_out)//2, figsize=(3*len(s_out)//2, 3))\n",
    "for i, s in enumerate(s_out[::2]):\n",
    "    ax[i].imshow(s, cmap=credcblu)\n",
    "    ax[i].axis('off')"
   ]
  },
  {
   "cell_type": "code",
   "execution_count": null,
   "metadata": {},
   "outputs": [],
   "source": [
    "ax.plot(np.arange(len(ene)), ene/4, 'k-')\n",
    "ax.set_xscale('symlog')"
   ]
  },
  {
   "cell_type": "code",
   "execution_count": null,
   "metadata": {},
   "outputs": [],
   "source": []
  }
 ],
 "metadata": {
  "kernelspec": {
   "display_name": "lrgsgenv",
   "language": "python",
   "name": "python3"
  },
  "language_info": {
   "codemirror_mode": {
    "name": "ipython",
    "version": 3
   },
   "file_extension": ".py",
   "mimetype": "text/x-python",
   "name": "python",
   "nbconvert_exporter": "python",
   "pygments_lexer": "ipython3",
   "version": "3.12.3"
  }
 },
 "nbformat": 4,
 "nbformat_minor": 2
}
