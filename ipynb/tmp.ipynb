{
 "cells": [
  {
   "cell_type": "code",
   "execution_count": 17,
   "metadata": {},
   "outputs": [
    {
     "name": "stdout",
     "output_type": "stream",
     "text": [
      "Current working directory: /home/opisthofulax/PhD/projects/complex-networks/lrgsglib\n"
     ]
    }
   ],
   "source": [
    "from lrgsglib.core import *\n",
    "move_to_rootf()"
   ]
  },
  {
   "cell_type": "code",
   "execution_count": 18,
   "metadata": {},
   "outputs": [],
   "source": [
    "side = 64\n",
    "p = 0.3\n",
    "geo='hex'"
   ]
  },
  {
   "cell_type": "code",
   "execution_count": 20,
   "metadata": {},
   "outputs": [
    {
     "name": "stdout",
     "output_type": "stream",
     "text": [
      "smax: 0.5360243055555556, Time for computing smax: 0.0437 seconds\n",
      "smax2: 0.5360243055555556, Time for computing smax2: 0.0167 seconds\n"
     ]
    }
   ],
   "source": [
    "l = Lattice2D(side, \n",
    "                pflip=p, \n",
    "                geo=geo, \n",
    "                init_nw_dict=True)\n",
    "l.flip_sel_edges(l.nwDict['randXERR']['G'])\n",
    "#\n",
    "l.compute_k_eigvV()\n",
    "#\n",
    "import time\n",
    "\n",
    "# Timing smax computation\n",
    "start_time_smax = time.time()\n",
    "\n",
    "eigV = l.eigV[0]\n",
    "negative_count = np.sum(eigV < 0)\n",
    "positive_count = np.sum(eigV > 0)\n",
    "# Determine majority sign\n",
    "minority_sign = -1 if negative_count > positive_count else 1\n",
    "# Find positions of elements with majority sign\n",
    "if minority_sign == -1:\n",
    "    min_pos = np.where(eigV < 0)[0]  # Get positions of negative values\n",
    "else:\n",
    "    min_pos = np.where(eigV > 0)[0]  # Get positions of positive values\n",
    "\n",
    "# Extract subgraph with nodes at min_pos\n",
    "subG = l.G.subgraph(min_pos)\n",
    "# Find the connected components of the subgraph\n",
    "clust = np.array([len(component) for component in nx.connected_components(subG)])\n",
    "srtclust=sorted(clust)\n",
    "if len(clust) > 1:\n",
    "    smax = np.max(clust) / (1.0 * l.N)\n",
    "    var = ((np.sum(np.multiply(clust,clust))- np.max(clust)*np.max(clust))/(np.sum(clust) - np.max(clust)))\n",
    "else:\n",
    "    smax = 1.0*len(clust)\n",
    "    var = 0.0\n",
    "\n",
    "# End timer and print elapsed time for smax\n",
    "end_time_smax = time.time()\n",
    "elapsed_time_smax = end_time_smax - start_time_smax\n",
    "print(f\"smax: {smax}, Time for computing smax: {elapsed_time_smax:.4f} seconds\")\n",
    "\n",
    "# Timing smax2 computation\n",
    "start_time_smax2 = time.time()\n",
    "\n",
    "# Computation for smax2\n",
    "l.load_eigV_on_graph(binarize=True)\n",
    "l.make_clustersYN(\"eigV0\", +1)\n",
    "smax2 = len(l.clustersY[0]) / l.N\n",
    "\n",
    "# End timer and print elapsed time for smax2\n",
    "end_time_smax2 = time.time()\n",
    "elapsed_time_smax2 = end_time_smax2 - start_time_smax2\n",
    "print(f\"smax2: {smax2}, Time for computing smax2: {elapsed_time_smax2:.4f} seconds\")\n"
   ]
  },
  {
   "cell_type": "code",
   "execution_count": null,
   "metadata": {},
   "outputs": [],
   "source": [
    "sizes = [32]\n",
    "for side in sizes:\n",
    "    fread = pth_join(\"data/test_hexerr\", f\"full.txt\")\n",
    "    data = np.loadtxt(fread, delimiter=',') \n",
    "    data = data[np.argsort(data[:, 0])]\n",
    "    plt.plot(data[:, 9], gaussian_filter1d(data[:, 1], sigma=1), label=fr'${side}$', lw=3)\n",
    "plt.axvline(0.25)"
   ]
  },
  {
   "cell_type": "code",
   "execution_count": 32,
   "metadata": {},
   "outputs": [
    {
     "data": {
      "image/png": "[encoded data removed]",
      "text/plain": [
       "<Figure size 640x480 with 1 Axes>"
      ]
     },
     "metadata": {},
     "output_type": "display_data"
    }
   ],
   "source": [
    "sizes = [32]\n",
    "for side in sizes:\n",
    "    l = Lattice2D(side, geo='hex', dataOut=\"data/test_hexerr\")\n",
    "    fread = pth_join(l.phtrapath, f\"full.txt\")\n",
    "    data = np.loadtxt(fread)\n",
    "    data = data[np.argsort(data[:, 1])]\n",
    "    plt.plot(data[:, 1], data[:, 4], label=fr'${side}$', lw=3)\n",
    "    plt.plot(data[:, 1], data[:, 5], label=fr'${side}$', lw=3)\n",
    "# plt.xlim(0, .3)\n",
    "# plt.yscale('log')\n",
    "# plt.axvline(0.25)"
   ]
  },
  {
   "cell_type": "code",
   "execution_count": 24,
   "metadata": {},
   "outputs": [],
   "source": [
    "l.load_eigV_on_graph(binarize=True)"
   ]
  },
  {
   "cell_type": "code",
   "execution_count": null,
   "metadata": {},
   "outputs": [],
   "source": [
    "l.phtrapath"
   ]
  },
  {
   "cell_type": "code",
   "execution_count": 5,
   "metadata": {},
   "outputs": [],
   "source": [
    "a = np.loadtxt(\"/home/opisthofulax/PhD/projects/complex-networks/lrgsglib/data/test_hexerr/full_xerr.txt\", delimiter=\",\")"
   ]
  },
  {
   "cell_type": "code",
   "execution_count": null,
   "metadata": {},
   "outputs": [],
   "source": [
    "plt.plot(a[:,9], a[:,1], 'o')   "
   ]
  },
  {
   "cell_type": "code",
   "execution_count": 17,
   "metadata": {},
   "outputs": [],
   "source": [
    "a = np.loadtxt(\"/home/opisthofulax/PhD/projects/complex-networks/lrgsglib/data/test_hexerr/l2d_hexagonal/phtra/L1=32_L2=18/full.txt\")"
   ]
  },
  {
   "cell_type": "code",
   "execution_count": null,
   "metadata": {},
   "outputs": [],
   "source": [
    "plt.plot(a[:,1], a[:,5], 'o')   "
   ]
  },
  {
   "cell_type": "code",
   "execution_count": 20,
   "metadata": {},
   "outputs": [],
   "source": [
    "a = np.loadtxt(\"/home/opisthofulax/PhD/projects/complex-networks/lrgsglib/data/test_hexerr/l2d_squared/phtra/N=1024/full.txt\")"
   ]
  },
  {
   "cell_type": "code",
   "execution_count": null,
   "metadata": {},
   "outputs": [],
   "source": [
    "plt.plot(a[:,1], a[:,5], 'o')   "
   ]
  },
  {
   "cell_type": "code",
   "execution_count": null,
   "metadata": {},
   "outputs": [],
   "source": []
  }
 ],
 "metadata": {
  "kernelspec": {
   "display_name": "lrgsgenv",
   "language": "python",
   "name": "python3"
  },
  "language_info": {
   "codemirror_mode": {
    "name": "ipython",
    "version": 3
   },
   "file_extension": ".py",
   "mimetype": "text/x-python",
   "name": "python",
   "nbconvert_exporter": "python",
   "pygments_lexer": "ipython3",
   "version": "3.12.3"
  }
 },
 "nbformat": 4,
 "nbformat_minor": 2
}
