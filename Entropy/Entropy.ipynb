{
 "cells": [
  {
   "cell_type": "code",
   "execution_count": null,
   "id": "e7cc3742",
   "metadata": {},
   "outputs": [],
   "source": []
  },
  {
   "cell_type": "code",
   "execution_count": null,
   "id": "e93950ea",
   "metadata": {},
   "outputs": [],
   "source": []
  },
  {
   "cell_type": "code",
   "execution_count": 18,
   "id": "371339d5",
   "metadata": {},
   "outputs": [],
   "source": [
    "import networkx as nx\n",
    "import numpy as np\n",
    "from scipy.linalg import expm, sinm, cosm\n",
    "from scipy.cluster.hierarchy import dendrogram, linkage\n",
    "from scipy.spatial.distance import squareform\n",
    "from tqdm import tqdm\n",
    "from numpy import linalg as LA\n",
    "\n",
    "\n",
    "\n",
    "def entropy(G,steps):\n",
    "    w=nx.laplacian_spectrum(G)\n",
    "    t1=np.log10(1/np.max(w[w>1e-10]))\n",
    "    t2=np.log10(10/np.min(w[w>1e-10]))\n",
    "    t = np.logspace(t1,t2, int(steps))\n",
    "    cont=0\n",
    "    S=np.zeros(len(t))\n",
    "    VarL=np.zeros(len(t))\n",
    "    #N=len(HG.nodes())\n",
    "    \n",
    "    #L=nx.laplacian_matrix(G)\n",
    "    #L1=L.todense()      \n",
    "    Len=np.zeros(len(t))\n",
    "\n",
    "    \n",
    "    for tau in tqdm(t):      \n",
    "        Tr=np.nansum(np.exp(-tau*w))\n",
    "        T1=np.divide(np.exp(-w*tau),Tr)\n",
    "        S[cont]=-np.nansum(T1*np.log(T1))/np.log(N)\n",
    "        Med=np.nansum(np.multiply(w,np.exp(-tau*w)))/Tr\n",
    "        Sqr=np.nansum(np.multiply(np.multiply(w,w),np.exp(-tau*w)))/Tr\n",
    "        VarL[cont]=(Sqr-Med*Med)\n",
    "        cont=cont+1\n",
    "        \n",
    "    dS=np.log(N)*np.diff(1-S)/np.diff(np.log(t))\n",
    "    return 1-S,dS,VarL, t"
   ]
  },
  {
   "cell_type": "code",
   "execution_count": 22,
   "id": "88dd88e2",
   "metadata": {},
   "outputs": [
    {
     "name": "stderr",
     "output_type": "stream",
     "text": [
      "100%|████████████████████████████████████| 1000/1000 [00:00<00:00, 17782.57it/s]\n"
     ]
    },
    {
     "data": {
      "image/png": "[encoded data removed]",
      "text/plain": [
       "<Figure size 432x288 with 1 Axes>"
      ]
     },
     "metadata": {
      "needs_background": "light"
     },
     "output_type": "display_data"
    }
   ],
   "source": [
    "import numpy as np\n",
    "from scipy.linalg import expm, sinm, cosm\n",
    "import matplotlib.pyplot as plt\n",
    "from numpy import linalg as LA\n",
    "import networkx as nx\n",
    "import random\n",
    "\n",
    "#Code to generate the weighted Laplacian\n",
    "#A=np.copy(arr1)\n",
    "#D=np.abs(A).sum(axis=1)\n",
    "#L=np.diag(D)-A\n",
    "\n",
    "\n",
    "N=512\n",
    "#Make graph\n",
    "seed = random.randint(1,int(1e5))  # seed random number generator\n",
    "nb=int(N/4)\n",
    "sizes = [nb,nb,nb,nb]\n",
    "kint=128/N\n",
    "kext=1/N\n",
    "probs = [[kint, kext, kext, kext], [kext, kint, kext, kext], [kext, kext, kint, kext], [kext, kext, kext, kint]]\n",
    "#Generate the graph\n",
    "G = nx.stochastic_block_model(sizes, probs, seed=seed)\n",
    "\n",
    "N=len(G.nodes())\n",
    "\n",
    "[S1,dS1,VarL1,t1]=entropy(G,1000)\n",
    "\n",
    "plt.plot(t1,S1,label='ER-05',color='C1')\n",
    "t11 = (t1[1:]+t1[:-1])/2.0\n",
    "plt.plot(t11,dS1/np.max(dS1),ls='--',color='C1')\n",
    "\n",
    "\n",
    "plt.ylabel('1-S')\n",
    "plt.xlabel('$\\tau$')\n",
    "\n",
    "plt.xscale('log')\n",
    "\n",
    "    "
   ]
  },
  {
   "cell_type": "code",
   "execution_count": null,
   "id": "94780567",
   "metadata": {},
   "outputs": [],
   "source": []
  }
 ],
 "metadata": {
  "kernelspec": {
   "display_name": "Python 3 (ipykernel)",
   "language": "python",
   "name": "python3"
  },
  "language_info": {
   "codemirror_mode": {
    "name": "ipython",
    "version": 3
   },
   "file_extension": ".py",
   "mimetype": "text/x-python",
   "name": "python",
   "nbconvert_exporter": "python",
   "pygments_lexer": "ipython3",
   "version": "3.9.7"
  }
 },
 "nbformat": 4,
 "nbformat_minor": 5
}
