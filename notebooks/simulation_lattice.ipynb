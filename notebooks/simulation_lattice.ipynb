{
 "cells": [
  {
   "cell_type": "code",
   "execution_count": 1,
   "metadata": {},
   "outputs": [
    {
     "name": "stdout",
     "output_type": "stream",
     "text": [
      "cwd: /home/opisthofulax/PhD/projects/complex-networks/LRG-Signed\n"
     ]
    }
   ],
   "source": [
    "%matplotlib inline\n",
    "#\n",
    "from os import chdir, getcwd\n",
    "ROOTF = 'LRG-Signed'\n",
    "if getcwd()[-len(ROOTF):] != ROOTF:\n",
    "    chdir('../')\n",
    "print('cwd:', getcwd())\n",
    "#\n",
    "from src.LRGSG_package.LRGSG import *"
   ]
  },
  {
   "cell_type": "code",
   "execution_count": 2,
   "metadata": {},
   "outputs": [],
   "source": [
    "# def radial_correlation(field, neighbor_dict, central_index):\n",
    "#     # Flatten the field array\n",
    "#     flattened_field = field.flatten()\n",
    "#     # Compute the mean of the field values\n",
    "#     mean_field = np.mean(flattened_field)\n",
    "#     # Compute the correlation function\n",
    "#     correlation = []\n",
    "#     for node, neighbors in neighbor_dict.items():\n",
    "#         correlations_node = []\n",
    "#         for neighbor_index in neighbors:\n",
    "#             correlation_node = np.mean((flattened_field[central_index] - mean_field) * flattened_field[neighbor_index]) / np.std(flattened_field) ** 2\n",
    "#             correlations_node.append(correlation_node)\n",
    "#         correlation.append(np.mean(correlations_node))\n",
    "\n",
    "#     return correlation\n"
   ]
  },
  {
   "cell_type": "code",
   "execution_count": 3,
   "metadata": {},
   "outputs": [],
   "source": [
    "# def radial_correlation(G, field, central_node):\n",
    "#     neighbor_dict = nx.single_source_shortest_path_length(G, central_node)\n",
    "#     mean_field = np.mean(field)\n",
    "#     flattened_field = field.flatten()\n",
    "    \n",
    "#     # Compute the correlation function\n",
    "#     correlation = []\n",
    "#     for r in range(int(np.sqrt(G.number_of_nodes()))):\n",
    "#         kth_order_neighbors = [np.array(n) for n, d in neighbor_dict.items() if d == r]\n",
    "#         mask = (distances == r)\n",
    "#         if np.any(mask):\n",
    "#             correlation.append([r, np.mean((flattened_field - mean_field) * np.roll(flattened_field, r)) / np.std(flattened_field)**2])\n",
    "    \n",
    "#     return correlation"
   ]
  },
  {
   "cell_type": "code",
   "execution_count": 4,
   "metadata": {},
   "outputs": [],
   "source": [
    "\n",
    "# neighbor_dict = nx.single_source_shortest_path_length(G, central_node)\n",
    "# mean_field = np.mean(field)\n",
    "# flattened_field = field.flatten()\n",
    "# correlation = []\n",
    "# for r in range(int(np.sqrt(G.number_of_nodes()))):\n",
    "#     kth_order_neighbors = [np.array(n) for n, d in neighbor_dict.items() if d == r]\n",
    "#     for \n",
    "#     mask = (distances == r)\n",
    "#     if np.any(mask):\n",
    "#         correlation.append([r, np.mean((flattened_field - mean_field) * np.roll(flattened_field, r)) / np.std(flattened_field)**2])"
   ]
  },
  {
   "cell_type": "code",
   "execution_count": 9,
   "metadata": {},
   "outputs": [],
   "source": [
    "L = 16\n",
    "no_obs = 5\n",
    "T_STEPS = 200\n",
    "Deltat = 1/T_STEPS\n",
    "simulationTime = 1000*T_STEPS\n",
    "sampling = 1*T_STEPS\n",
    "frames = simulationTime // sampling\n",
    "initial_cond = 'gauss_1'\n",
    "BC_choice = 'FBC'"
   ]
  },
  {
   "cell_type": "code",
   "execution_count": 10,
   "metadata": {},
   "outputs": [],
   "source": [
    "G = nx.grid_2d_graph(L, L, periodic=True if BC_choice == 'PBC' else False)\n",
    "pos = dict(zip(G,G)) # dictionary of node names->positions\n",
    "nx.set_node_attributes(G, pos, 'pos')\n",
    "nx.set_edge_attributes(G, values=1, name='weight')\n",
    "# flip_random_fract_edges(G, 1/G.number_of_edges())\n",
    "flip_one_2dgraph(G, (L//2, L//2), (L//2, L//2+1))\n",
    "# flip_one_2dgraph(G, (L//3, L//3), (L//3, L//3+1))\n",
    "negative_edges = [(u, v, w) for u, v, w in G.edges(data='weight') if w < 0]\n",
    "adj = nx.adjacency_matrix(G).toarray()\n",
    "dia = np.diag(adj.sum(axis=1))\n",
    "lapl = dia - adj\n",
    "diabs = np.diag(np.abs(adj).sum(axis=1))\n",
    "slapl = diabs - adj\n",
    "eigv, eigV = np.linalg.eigh(slapl)"
   ]
  },
  {
   "cell_type": "code",
   "execution_count": 11,
   "metadata": {},
   "outputs": [],
   "source": [
    "if initial_cond == 'uniform_1':\n",
    "    status_array = np.random.uniform(0, 1, L**2)#np.ones(L**2)\n",
    "elif initial_cond == 'delta_1':\n",
    "    status_array = np.zeros(L**2)\n",
    "    status_array[0] = L**2\n",
    "elif initial_cond == 'gauss_1':\n",
    "    status_array = np.random.normal(0, 1, L**2)\n",
    "elif initial_cond.startswith('ground_state'):\n",
    "    eigenMode = int(initial_cond.split('_')[-1])\n",
    "#\n",
    "if BC_choice == 'FBC':\n",
    "    # fixed_indices = np.array(list(set(\n",
    "    #                   np.concatenate([[i for i in range(L)], \n",
    "    #                         [i for i in range(L**2) if i % L ==0], \n",
    "    #                         [i for i in range(L**2) if (i+1) % (L) ==0],\n",
    "    #                         [i for i in range(L**2-L, L**2)]]))))\n",
    "    fixed_border_idxs = np.array(sorted([i for i in range(L)] + \\\n",
    "                [(L-1) * L + i for i in range(L)] + \\\n",
    "                [i * L for i in range(1, L-1)] + \n",
    "                [(i+1) * L - 1 for i in range(1, L-1)]))\n",
    "    status_array[fixed_border_idxs] = 0.5\n"
   ]
  },
  {
   "cell_type": "code",
   "execution_count": 12,
   "metadata": {},
   "outputs": [
    {
     "name": "stdout",
     "output_type": "stream",
     "text": [
      "0 0.17489966554577827 0.7752932296194947\n",
      "200 0.23228451414107648 0.05637237403785512\n",
      "400 0.26521916925295563 0.03562372693658224\n",
      "600 0.2902265453429229 0.028077035115096155\n",
      "800 0.31078938786252264 0.023547114031012867\n",
      "1000 0.32820639601493556 0.020182990985425833\n",
      "1200 0.34318070198853395 0.017471353062886136\n",
      "1400 0.3561749206792322 0.015221656448770361\n",
      "1600 0.3675243454260237 0.013337953525033122\n",
      "1800 0.37748467618882314 0.011756883958869027\n",
      "2000 0.38625722980598615 0.010429192214516544\n",
      "2200 0.39400435122763555 0.009313929041459001\n",
      "2400 0.4008595822980824 0.0083764338429889\n",
      "2600 0.40693462834110783 0.0075873870981457885\n",
      "2800 0.4123242384470186 0.006922130886424307\n",
      "3000 0.4171096892951142 0.006360053212059919\n",
      "3200 0.4213613226155193 0.005884006764915449\n",
      "3400 0.4251404353111321 0.005479773006621577\n",
      "3600 0.42850072176478426 0.0051355837388929034\n",
      "3800 0.431489401664246 0.0048417054230221294\n",
      "4000 0.4341481227174431 0.004590085301238677\n",
      "4200 0.4365136985516933 0.004374054514932781\n",
      "4400 0.4386187229055602 0.004188081593167149\n",
      "4600 0.4404920885615379 0.004027569210420955\n",
      "4800 0.44215943108384725 0.003888687406642566\n",
      "5000 0.44364351183422107 0.003768237132553461\n",
      "5200 0.44496455096888077 0.0036635387900456695\n",
      "5400 0.44614051854076675 0.0035723412486891137\n",
      "5600 0.4471873900335687 0.003492747568330997\n",
      "5800 0.44811937137366686 0.0034231543169017794\n",
      "6000 0.44894909753146317 0.0033622019356585424\n",
      "6200 0.44968780812351605 0.0033087340759624722\n",
      "6400 0.45034550288876973 0.003261764221969736\n",
      "6600 0.4509310794882281 0.0032204482335456584\n",
      "6800 0.45145245573586545 0.003184061704355028\n",
      "7000 0.4519166780880044 0.003151981241519033\n",
      "7200 0.4523300179841263 0.0031236689442533773\n",
      "7400 0.45269805743386443 0.0030986594969740107\n",
      "7600 0.45302576507542214 0.0030765494036963004\n",
      "7800 0.45331756378449134 0.003056987980283176\n",
      "8000 0.4535773907858843 0.0030396697934020286\n",
      "8200 0.4538087511094293 0.0030243282933258434\n",
      "8400 0.45401476513478056 0.003010730434708094\n",
      "8600 0.4541982108846766 0.0029986721173873108\n",
      "8800 0.4543615616512525 0.002987974309917229\n",
      "9000 0.45450701947391575 0.0029784797433027605\n",
      "9200 0.45463654492891936 0.0029700500824986443\n",
      "9400 0.4547518836391332 0.002962563499517884\n",
      "9600 0.4548545898668145 0.0029559125852386646\n",
      "9800 0.4549460475116886 0.0029500025477840986\n",
      "10000 0.45502748880076066 0.002944749654153227\n",
      "10200 0.4551000109244401 0.0029400798789852027\n",
      "10400 0.45516459084531125 0.002935927730247436\n",
      "10600 0.45522209848080236 0.0029322352264981788\n",
      "10800 0.45527330843873315 0.0029289510043820116\n",
      "11000 0.4553189104649343 0.0029260295383321065\n",
      "11200 0.45535951874455416 0.0029234304572037517\n",
      "11400 0.4553956801830391 0.0029211179448530595\n",
      "11600 0.45542788177888677 0.0029190602135862474\n",
      "11800 0.45545655718792044 0.0029172290410061537\n",
      "12000 0.4554820925678484 0.002915599362128424\n",
      "12200 0.455504831782108 0.002914148909774498\n",
      "12400 0.45552508103330197 0.0029128578972085714\n",
      "12600 0.45554311298880745 0.0029117087378005037\n",
      "12800 0.45555917045426064 0.0029106857971901946\n",
      "13000 0.45557346964450063 0.0029097751740217283\n",
      "13200 0.45558620309611236 0.002908964505822908\n",
      "13400 0.45559754226086047 0.002908242797042054\n",
      "13600 0.45560763981499697 0.002907600266629536\n",
      "13800 0.45561663171558314 0.0029070282128761957\n",
      "14000 0.45562463903155437 0.002906518893501726\n",
      "Convergence reached\n"
     ]
    }
   ],
   "source": [
    "status_distributionp = {}\n",
    "status_distributionx = {}\n",
    "frames_dynsys = []\n",
    "for t in range(simulationTime):\n",
    "    status_array_old = status_array\n",
    "    if ((t) % sampling == 0):\n",
    "        print(t, np.mean(status_array), np.var(status_array))\n",
    "        frames_dynsys.append(status_array_old.reshape(L, L))\n",
    "    status_array = status_array - Deltat*(slapl@status_array) #+ np.sqrt(Deltat)*np.random.uniform(-1e-3, 1e-3, L**2)\n",
    "    status_array[fixed_border_idxs] = 0.5\n",
    "    if (np.abs(status_array_old - status_array) < 1e-7*np.ones(L**2)).all():\n",
    "        print('Convergence reached')\n",
    "        break\n",
    "        # plt.hist(status_array, bins=30, range=[-3, 3])\n",
    "    #     hist, bins = np.histogram(status_array, bins=20)\n",
    "    #     center = (bins[:-1] + bins[1:]) / 2\n",
    "    #     # plt.plot(center, hist, 'o-', label=fr\"$t={t:g}$\")\n",
    "# plt.hist(status_array, bins=20)\n",
    "# bhbwp, bhbwn = symlog_binning(status_array, binnum=50)\n",
    "# if bhbwp:\n",
    "#     plt.plot(bhbwp[0], bhbwp[1], label=fr\"$t={t+1}$\")\n",
    "# if bhbwn:\n",
    "#     plt.plot(bhbwn[0], bhbwn[1], color=plt.gca().lines[-1].get_color())"
   ]
  },
  {
   "cell_type": "code",
   "execution_count": 14,
   "metadata": {},
   "outputs": [],
   "source": [
    "def radial_correlation(field, neighbor_dict, central_index):\n",
    "    # Flatten the field array\n",
    "    flattened_field = field.flatten()\n",
    "    # Compute the mean of the field values\n",
    "    mean_field = np.mean(flattened_field)\n",
    "    # Compute the correlation function\n",
    "    correlation = []\n",
    "    for ord in range(1, int(np.sqrt(len(flattened_field)))):\n",
    "        kth_order_neighbors = [n for n, d in neighbor_dict.items() if d == ord]\n",
    "        for neighbor_index in kth_order_neighbors:\n",
    "            correlations_node = []\n",
    "            correlation_node = np.mean((flattened_field[central_index] - mean_field) * flattened_field[neighbor_index]) / np.std(flattened_field) ** 2\n",
    "            correlations_node.append(correlation_node)\n",
    "        correlation.append([ord, np.mean(correlations_node)])\n",
    "\n",
    "    return correlation"
   ]
  },
  {
   "cell_type": "code",
   "execution_count": null,
   "metadata": {},
   "outputs": [],
   "source": [
    "radial_correlation(status_array, neigh)"
   ]
  },
  {
   "cell_type": "code",
   "execution_count": 13,
   "metadata": {},
   "outputs": [
    {
     "data": {
      "text/plain": [
       "<matplotlib.image.AxesImage at 0x7f02b4a96a60>"
      ]
     },
     "execution_count": 13,
     "metadata": {},
     "output_type": "execute_result"
    },
    {
     "data": {
      "image/png": "[encoded data removed]",
      "text/plain": [
       "<Figure size 640x480 with 1 Axes>"
      ]
     },
     "metadata": {},
     "output_type": "display_data"
    }
   ],
   "source": [
    "plt.imshow(status_array.reshape(L, L))"
   ]
  },
  {
   "cell_type": "code",
   "execution_count": 45,
   "metadata": {},
   "outputs": [],
   "source": [
    "node = (L//2, L//2)\n",
    "# Set the desired order\n",
    "order = L\n",
    "# Get the kth-order neighbors\n",
    "neighbor_dict = nx.single_source_shortest_path_length(G, node)\n",
    "# Extract the nodes at the kth order\n",
    "kth_order_neighbors = [np.array(n) for n, d in neighbor_dict.items() if d == order]"
   ]
  },
  {
   "cell_type": "code",
   "execution_count": null,
   "metadata": {},
   "outputs": [],
   "source": [
    "def radial_correlation(field, neighbor_dict):\n",
    "    # Flatten the field array\n",
    "    flattened_field = field.flatten()\n",
    "\n",
    "    # Compute the mean of the field values\n",
    "    mean_field = np.mean(flattened_field)\n",
    "\n",
    "    # Compute the correlation function\n",
    "    correlation = []\n",
    "    for node, neighbors in neighbor_dict.items():\n",
    "        if neighbors:  # Skip isolated nodes without neighbors\n",
    "            correlations_node = []\n",
    "            for neighbor in neighbors:\n",
    "                correlation_node = np.mean((flattened_field[node] - mean_field) * flattened_field[neighbor]) / np.std(flattened_field) ** 2\n",
    "                correlations_node.append(correlation_node)\n",
    "            correlation.append(np.mean(correlations_node))\n",
    "\n",
    "    return correlation"
   ]
  },
  {
   "cell_type": "code",
   "execution_count": null,
   "metadata": {},
   "outputs": [],
   "source": [
    "import numpy as np\n",
    "from scipy.spatial import distance\n",
    "\n",
    "field_array = status_array.reshape(L,L)\n",
    "\n",
    "correlation_values = radial_correlation(field_array)"
   ]
  },
  {
   "cell_type": "code",
   "execution_count": null,
   "metadata": {},
   "outputs": [],
   "source": []
  },
  {
   "cell_type": "code",
   "execution_count": null,
   "metadata": {},
   "outputs": [],
   "source": [
    "# def radial_correlation(data, distance):\n",
    "#     center = np.array(data.shape) // 2  # Center of the array\n",
    "#     correlations = []\n",
    "\n",
    "#     for angle in range(360):\n",
    "#         # Convert angle to radians\n",
    "#         radian = np.deg2rad(angle)\n",
    "        \n",
    "#         # Calculate the neighbor's coordinates\n",
    "#         x = int(center[0] + distance * np.cos(radian))\n",
    "#         y = int(center[1] + distance * np.sin(radian))\n",
    "        \n",
    "#         # Calculate the correlation between the central point and the neighbor\n",
    "#         correlation = np.corrcoef(data[center[0], center[1]], data[x, y])[0, 1]\n",
    "#         correlations.append(correlation)\n",
    "\n",
    "#     return correlations\n",
    "\n",
    "# # Example usage\n",
    "# array = status_array.reshape(L,L)  # Example 2D array\n",
    "# distance = 2  # Distance for correlation measurement\n",
    "\n",
    "# correlations = radial_correlation(array, distance)\n",
    "\n",
    "# # Plotting\n",
    "# angles = np.arange(0, 360)\n",
    "# plt.plot(angles, correlations)\n",
    "# plt.xlabel('Angle (degrees)')\n",
    "# plt.ylabel('Correlation')\n",
    "# plt.title(f'Radial Correlation at Distance {distance}')\n",
    "# plt.grid(True)\n",
    "# plt.show()"
   ]
  },
  {
   "cell_type": "code",
   "execution_count": null,
   "metadata": {},
   "outputs": [],
   "source": [
    "fig = plt.figure()\n",
    "ax = fig.add_subplot(111)\n",
    "#\n",
    "# div = make_axes_locatable(ax)\n",
    "# cax = div.append_axes('right', '5%', '5%')\n",
    "#\n",
    "cv0 = frames_dynsys[0]\n",
    "im = ax.imshow(cv0, origin='lower') # Here make an AxesImage rather than contour\n",
    "cb = fig.colorbar(im)\n",
    "tx = ax.set_title('Frame 0')\n",
    "\n",
    "def animate(i):\n",
    "    arr = frames_dynsys[i]\n",
    "    vmax     = np.max(arr)\n",
    "    vmin     = np.min(arr)\n",
    "    im.set_data(arr)\n",
    "    im.set_clim(vmin, vmax)\n",
    "    tx.set_text('Frame {0}'.format(i))\n",
    "    # In this version you don't have to do anything to the colorbar,\n",
    "    # it updates itself when the mappable it watches (im) changes\n",
    " \n",
    "ani = animation.FuncAnimation(fig, animate, frames=len(frames_dynsys))\n",
    "writervideo = animation.FFMpegWriter(fps=5) \n",
    "ani.save(\"output2.mp4\", writer=writervideo)"
   ]
  },
  {
   "cell_type": "code",
   "execution_count": null,
   "metadata": {},
   "outputs": [],
   "source": []
  },
  {
   "cell_type": "code",
   "execution_count": null,
   "metadata": {},
   "outputs": [],
   "source": [
    "colors = plt.cm.jet(np.linspace(0,1,100))\n",
    "\n",
    "for i, (k, v) in enumerate(list(status_distributionp.items())[::5]):\n",
    "    plt.plot(v[:, 0], v[:, 1], 'o-', label=fr\"$t={t:g}$\", color=colors[i])\n",
    "plt.xlabel(r\"$x_i$\")\n",
    "plt.ylabel(r\"$P(x_i)$\")\n",
    "# plt.yscale('symlog')\n",
    "# plt.xscale('log')"
   ]
  },
  {
   "cell_type": "code",
   "execution_count": null,
   "metadata": {},
   "outputs": [],
   "source": [
    "# to be plotted as a function of idistance\n",
    "for k, v in status_distributionx.items():\n",
    "    plt.plot(v[:, 0], v[:, 1], 'o-', label=fr\"$t={t:g}$\")\n",
    "# plt.yscale('symlog')\n",
    "plt.xlabel(r\"$i$\")\n",
    "plt.ylabel(r\"$x_i$\")\n",
    "# plt.axvline(1)\n",
    "# plt.axvline(2)\n",
    "# plt.axvline(21)\n",
    "# plt.axvline(381)"
   ]
  },
  {
   "cell_type": "code",
   "execution_count": null,
   "metadata": {},
   "outputs": [],
   "source": [
    "plt.legend()\n",
    "plt.yscale('log')\n",
    "plt.xlabel(r\"$\\vec{x}$\")\n",
    "plt.ylabel(r\"$P(\\vec{x})$\")"
   ]
  },
  {
   "cell_type": "code",
   "execution_count": null,
   "metadata": {},
   "outputs": [],
   "source": [
    "def calculate_distance(node1, node2):\n",
    "    return abs(node1[0] - node2[0]) + abs(node1[1] - node2[1])\n",
    "\n",
    "# Assuming you have created the grid using nx.grid_2d_graph\n",
    "nodes = list(grid.nodes())\n",
    "\n",
    "# Find the coordinates (x1, y1) and (x2, y2) for nodes i and j\n",
    "x1, y1 = nodes[i - 1]\n",
    "x2, y2 = nodes[j - 1]\n",
    "\n",
    "sorted_X = sorted(X, key=lambda node: calculate_distance(nodes[node - 1], (x1, y1)))"
   ]
  },
  {
   "cell_type": "code",
   "execution_count": null,
   "metadata": {},
   "outputs": [],
   "source": [
    "status_array.shape"
   ]
  },
  {
   "cell_type": "code",
   "execution_count": null,
   "metadata": {},
   "outputs": [],
   "source": [
    "sl.shape"
   ]
  },
  {
   "cell_type": "code",
   "execution_count": null,
   "metadata": {},
   "outputs": [],
   "source": []
  }
 ],
 "metadata": {
  "kernelspec": {
   "display_name": "LRG-Signed",
   "language": "python",
   "name": "python3"
  },
  "language_info": {
   "codemirror_mode": {
    "name": "ipython",
    "version": 3
   },
   "file_extension": ".py",
   "mimetype": "text/x-python",
   "name": "python",
   "nbconvert_exporter": "python",
   "pygments_lexer": "ipython3",
   "version": "3.9.16"
  },
  "orig_nbformat": 4
 },
 "nbformat": 4,
 "nbformat_minor": 2
}
