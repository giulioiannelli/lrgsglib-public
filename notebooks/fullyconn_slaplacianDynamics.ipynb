{
 "cells": [
  {
   "cell_type": "code",
   "execution_count": 1,
   "metadata": {},
   "outputs": [
    {
     "name": "stdout",
     "output_type": "stream",
     "text": [
      "cwd: /home/opisthofulax/PhD/projects/complex-networks/LRG-Signed\n"
     ]
    }
   ],
   "source": [
    "%matplotlib inline\n",
    "#\n",
    "from LRGSG_package.LRGSG import *\n",
    "from LRGSG_package.LRGSG_plots import imshow_colorbar_caxdivider\n",
    "from LRGSG_package.LRGSG_utils import move_to_rootf, width_interval\n",
    "from LRGSG_package.nx_patches import signed_spectral_layout, signedlaplacian_spectrum\n",
    "#\n",
    "move_to_rootf(print_tf=True)"
   ]
  },
  {
   "cell_type": "markdown",
   "metadata": {},
   "source": [
    "## Fully Connected"
   ]
  },
  {
   "cell_type": "code",
   "execution_count": 48,
   "metadata": {},
   "outputs": [],
   "source": [
    "side = 4\n",
    "eigenmode_no = 0\n",
    "#\n",
    "themeanField = FullyConnected(side1 = side)\n",
    "SLRG_obj = SignedLaplacianAnalysis(#\n",
    "    system = themeanField,\n",
    "    initCond = 'delta_1', #f'ground_state_{eigenmode_no}'\n",
    "    pflip= 0.1,\n",
    "    t_steps = 10000,\n",
    "    no_obs = 200\n",
    ")\n",
    "SLRG_obj.init_weights()\n",
    "#\n",
    "# neg_weightsG = {((i, j), (i, j+1)): -1 for i in range(SLRG_obj.system.side1) \n",
    "#                 for j in [SLRG_obj.system.side2//3, SLRG_obj.system.side2//2]}\n",
    "# neg_weightsH = {(SLRG_obj.system.N//2, SLRG_obj.system.N//2+1): -1}\n",
    "# SLRG_obj.flip_sel_edges(neg_weightsH, 'H')\n",
    "#\n",
    "SLRG_obj.flip_sel_edges({(0, 1): -1, (1, 2): -1, (1, 3): -1})\n",
    "#\n",
    "# SLRG_obj.flip_random_fract_edges()"
   ]
  },
  {
   "cell_type": "code",
   "execution_count": 49,
   "metadata": {},
   "outputs": [],
   "source": [
    "SLRG_obj.laplacian_dynamics_init()"
   ]
  },
  {
   "cell_type": "code",
   "execution_count": 62,
   "metadata": {},
   "outputs": [
    {
     "data": {
      "image/png": "[encoded data removed]",
      "text/plain": [
       "<Figure size 640x480 with 2 Axes>"
      ]
     },
     "metadata": {},
     "output_type": "display_data"
    }
   ],
   "source": [
    "fig, ax = plt.subplots()\n",
    "#\n",
    "G = SLRG_obj.system.G\n",
    "pos = nx.circular_layout(G)\n",
    "#\n",
    "G_nodecol = SLRG_obj.status_array #SLRG_obj.eigV.T[0]\n",
    "G_edgecol = ['b' if e[2]>0 else 'r' for e in G.edges(data='weight')]\n",
    "#\n",
    "\n",
    "# pos = signed_spectral_layout(G)\n",
    "# nx.draw(G, ax=ax, pos=pos, edge_color=G_edgecol, node_color=G_nodecol, \n",
    "#         cmap='viridis')\n",
    "pos = signed_spectral_layout(G)\n",
    "nodes = nx.draw_networkx_nodes(G, pos, node_color=G_nodecol, cmap='viridis')\n",
    "edges = nx.draw_networkx_edges(G, pos=pos, edge_color=G_edgecol)\n",
    "\n",
    "\n",
    "div, cax, clb = imshow_colorbar_caxdivider(nodes, ax)\n",
    "plt.show()"
   ]
  },
  {
   "cell_type": "code",
   "execution_count": 64,
   "metadata": {},
   "outputs": [
    {
     "data": {
      "text/plain": [
       "{0: array([0.45299857, 1.        ]),\n",
       " 1: array([-0.584156,  0.2     ]),\n",
       " 2: array([ 0.06557871, -0.6       ]),\n",
       " 3: array([ 0.06557871, -0.6       ])}"
      ]
     },
     "execution_count": 64,
     "metadata": {},
     "output_type": "execute_result"
    }
   ],
   "source": [
    "pos"
   ]
  },
  {
   "cell_type": "code",
   "execution_count": 67,
   "metadata": {},
   "outputs": [
    {
     "data": {
      "text/plain": [
       "(array([4.4408921e-16, 4.0000000e+00, 4.0000000e+00, 4.0000000e+00]),\n",
       " array([[-0.5       ,  0.02527916,  0.58000376,  0.642617  ],\n",
       "        [ 0.5       ,  0.82423697,  0.15992816,  0.21226492],\n",
       "        [-0.5       ,  0.4198208 ,  0.31426501, -0.68919373],\n",
       "        [-0.5       ,  0.37913701, -0.73434061,  0.25884166]]))"
      ]
     },
     "execution_count": 67,
     "metadata": {},
     "output_type": "execute_result"
    }
   ],
   "source": [
    "np.linalg.eigh(SLRG_obj.sLp.todense())"
   ]
  },
  {
   "cell_type": "code",
   "execution_count": null,
   "metadata": {},
   "outputs": [],
   "source": [
    "nodes"
   ]
  },
  {
   "cell_type": "code",
   "execution_count": 58,
   "metadata": {},
   "outputs": [
    {
     "name": "stdout",
     "output_type": "stream",
     "text": [
      "Beginning Laplacian dynamics.\n"
     ]
    },
    {
     "name": "stderr",
     "output_type": "stream",
     "text": [
      " 89%|████████▉ | 35707/39999 [00:00<00:00, 39978.00it/s]"
     ]
    },
    {
     "name": "stdout",
     "output_type": "stream",
     "text": [
      "Convergence reached.\n"
     ]
    },
    {
     "name": "stderr",
     "output_type": "stream",
     "text": [
      "\n"
     ]
    }
   ],
   "source": [
    "SLRG_obj.run_laplacian_dynamics(\n",
    "    rescaled=False,\n",
    "    saveFrames=True)"
   ]
  },
  {
   "cell_type": "code",
   "execution_count": 59,
   "metadata": {},
   "outputs": [
    {
     "data": {
      "text/plain": [
       "(array([ 1., -1.,  1.,  1.]),\n",
       " array([ 0.9999975, -0.9999975,  1.       ,  0.9999975]))"
      ]
     },
     "execution_count": 59,
     "metadata": {},
     "output_type": "execute_result"
    }
   ],
   "source": [
    "SLRG_obj.eigV.T[0]/SLRG_obj.eigV.T[0].max(), SLRG_obj.status_array/SLRG_obj.status_array.max()"
   ]
  },
  {
   "cell_type": "code",
   "execution_count": 60,
   "metadata": {},
   "outputs": [
    {
     "data": {
      "text/plain": [
       "(array([4.4408921e-16, 4.0000000e+00, 4.0000000e+00, 4.0000000e+00]),\n",
       " array([[-0.5       ,  0.02527916,  0.58000376,  0.642617  ],\n",
       "        [ 0.5       ,  0.82423697,  0.15992816,  0.21226492],\n",
       "        [-0.5       ,  0.4198208 ,  0.31426501, -0.68919373],\n",
       "        [-0.5       ,  0.37913701, -0.73434061,  0.25884166]]))"
      ]
     },
     "execution_count": 60,
     "metadata": {},
     "output_type": "execute_result"
    }
   ],
   "source": [
    "np.linalg.eigh(SLRG_obj.sLp.todense())"
   ]
  },
  {
   "cell_type": "code",
   "execution_count": 61,
   "metadata": {},
   "outputs": [
    {
     "name": "stdout",
     "output_type": "stream",
     "text": [
      "# of frames:  159\n"
     ]
    }
   ],
   "source": [
    "SLRG_obj.make_animation_fromFrames(fps=20)"
   ]
  },
  {
   "cell_type": "code",
   "execution_count": null,
   "metadata": {},
   "outputs": [],
   "source": []
  }
 ],
 "metadata": {
  "kernelspec": {
   "display_name": "LRG-Signed",
   "language": "python",
   "name": "python3"
  },
  "language_info": {
   "codemirror_mode": {
    "name": "ipython",
    "version": 3
   },
   "file_extension": ".py",
   "mimetype": "text/x-python",
   "name": "python",
   "nbconvert_exporter": "python",
   "pygments_lexer": "ipython3",
   "version": "3.9.16"
  },
  "orig_nbformat": 4
 },
 "nbformat": 4,
 "nbformat_minor": 2
}
