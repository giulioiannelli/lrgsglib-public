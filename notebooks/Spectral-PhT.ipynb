{
 "cells": [
  {
   "cell_type": "code",
   "execution_count": 1,
   "id": "11d0e69b",
   "metadata": {},
   "outputs": [
    {
     "name": "stdout",
     "output_type": "stream",
     "text": [
      "cwd: /home/opisthofulax/PhD/projects/complex-networks/LRG-Signed\n"
     ]
    }
   ],
   "source": [
    "%matplotlib inline\n",
    "#\n",
    "from os import chdir, getcwd\n",
    "ROOTF = 'LRG-Signed'\n",
    "if getcwd()[-len(ROOTF):] != ROOTF:\n",
    "    chdir('../')\n",
    "print('cwd:', getcwd())\n",
    "#\n",
    "from src.LRGSG_package.LRGSG import *"
   ]
  },
  {
   "cell_type": "code",
   "execution_count": 2,
   "id": "0227dc7b",
   "metadata": {},
   "outputs": [
    {
     "name": "stderr",
     "output_type": "stream",
     "text": [
      "  0%|          | 0/50 [00:00<?, ?it/s]"
     ]
    },
    {
     "name": "stderr",
     "output_type": "stream",
     "text": [
      "100%|██████████| 50/50 [05:05<00:00,  6.11s/it]\n"
     ]
    }
   ],
   "source": [
    "L = 30\n",
    "p1=np.linspace(0.005,0.3,50)\n",
    "Pinf=np.zeros(len(p1))\n",
    "Pinf2=np.zeros(len(p1))\n",
    "Fluct=np.zeros(len(p1))\n",
    "Fluct2=np.zeros(len(p1))\n",
    "\n",
    "navrg=50\n",
    "for avrg in tqdm(range(navrg)):\n",
    "    cont=0\n",
    "    for p in p1:\n",
    "        G = nx.grid_2d_graph(L, L, periodic=True)\n",
    "        flip_random_fract_edges(G, p)\n",
    "        adj = nx.adjacency_matrix(G).toarray()\n",
    "        diabs = np.diag(np.abs(adj).sum(axis=1))\n",
    "        slapl = diabs - adj\n",
    "        eigv, eigV = np.linalg.eigh(slapl)\n",
    "        eigV=np.transpose(eigV)\n",
    "        Fluct[cont]=Fluct[cont]+np.abs(len(eigV[eigV[0]>0])-len(eigV[eigV[0]<0]))\n",
    "        Fluct2[cont]=Fluct2[cont]+np.abs(len(eigV[eigV[0]>0])-len(eigV[eigV[0]<0]))*np.abs(len(eigV[eigV[0]>0])-len(eigV[eigV[0]<0]))\n",
    "        Pinf[cont]=Pinf[cont]+np.min([len(eigV[eigV[0]>0]),len(eigV[eigV[0]<0])])/(L*L)\n",
    "        Pinf2[cont]=Pinf2[cont]+(np.min([len(eigV[eigV[0]>0]),len(eigV[eigV[0]<0])])/(L*L))*(np.min([len(eigV[eigV[0]>0]),len(eigV[eigV[0]<0])])/(L*L))\n",
    "        cont=cont+1\n",
    "Pinf=Pinf/navrg\n",
    "Fluct=Fluct/navrg\n",
    "Fluct2=Fluct2/navrg\n",
    "Pinf2=Pinf2/navrg"
   ]
  },
  {
   "cell_type": "code",
   "execution_count": null,
   "id": "d169dd53",
   "metadata": {},
   "outputs": [
    {
     "data": {
      "text/plain": [
       "<matplotlib.lines.Line2D at 0x7fc0798baaa0>"
      ]
     },
     "execution_count": 151,
     "metadata": {},
     "output_type": "execute_result"
    },
    {
     "data": {
      "image/png": "[encoded data removed]",
      "text/plain": [
       "<Figure size 432x288 with 1 Axes>"
      ]
     },
     "metadata": {
      "needs_background": "light"
     },
     "output_type": "display_data"
    }
   ],
   "source": [
    "#plt.plot(p1,Pinf)\n",
    "N=L*L\n",
    "plt.plot(p1,Fluct/(L*L))\n",
    "#plt.plot(p1,L*(Pinf2-Pinf*Pinf))\n",
    "plt.plot(p1,L*((Fluct2/(N*N))-(Fluct/N)*(Fluct/N)))\n",
    "plt.axvline(x=0.103)"
   ]
  },
  {
   "cell_type": "code",
   "execution_count": null,
   "id": "95c09ff5",
   "metadata": {},
   "outputs": [
    {
     "name": "stdout",
     "output_type": "stream",
     "text": [
      "450\n"
     ]
    }
   ],
   "source": [
    "from scipy.sparse.linalg import eigsh\n",
    "import scipy as sp\n",
    "import scipy.sparse  # call as sp.sparse\n",
    "\n",
    "nodelist = list(G)\n",
    "A = nx.to_scipy_sparse_array(G, nodelist=nodelist, format=\"csr\")\n",
    "n, m = A.shape\n",
    "# TODO: rm csr_array wrapper when spdiags can produce arrays\n",
    "D = sp.sparse.csr_array(sp.sparse.spdiags(A.sum(axis=1), 0, m, n, format=\"csr\"))\n",
    "slapl= D - A\n",
    "slapl=slapl.asfptype()\n",
    "w, eigV = eigsh(slapl, k=1)\n",
    "print(len(eigV[eigV<0]))"
   ]
  },
  {
   "cell_type": "code",
   "execution_count": null,
   "id": "9a5b84b6",
   "metadata": {},
   "outputs": [
    {
     "name": "stderr",
     "output_type": "stream",
     "text": [
      "100%|███████████████████████████████████████████| 50/50 [00:29<00:00,  1.71it/s]\n"
     ]
    }
   ],
   "source": [
    "L = 30\n",
    "p1=np.linspace(0.005,0.3,50)\n",
    "Pinf=np.zeros(len(p1))\n",
    "Pinf2=np.zeros(len(p1))\n",
    "sigma =  config[a, b]\n",
    "            neighbors = config[(a+1)%L, b] + config[a, (b+1)%L] + config[(a-1)%L, b] + config[a, (b-1)%L]\n",
    "            del_E = 2*sigma*neighbors\n",
    "            if del_E < 0:\n",
    "                sigma *= -1\n",
    "            elif rand() < np.exp(-del_E*beta):\n",
    "                sigma *= -1\n",
    "navrg=50\n",
    "for avrg in tqdm(range(navrg)):\n",
    "    cont=0\n",
    "    for p in p1:\n",
    "        G = nx.grid_2d_graph(L, L, periodic=True)\n",
    "        flip_random_fract_edges(G, p)\n",
    "        A = nx.to_scipy_sparse_array(G, nodelist=nodelist, format=\"csr\")\n",
    "        n, m = A.shape\n",
    "        # TODO: rm csr_array wrapper when spdiags can produce arrays\n",
    "        D = sp.sparse.cssigma =  config[a, b]\n",
    "            neighbors = config[(a+1)%L, b] + config[a, (b+1)%L] + config[(a-1)%L, b] + config[a, (b-1)%L]\n",
    "            del_E = 2*sigma*neighbors\n",
    "            if del_E < 0:\n",
    "                sigma *= -1\n",
    "            elif rand() < np.exp(-del_E*beta):\n",
    "                sigma *= -1r_array(sp.sparse.spdiags(A.sum(axis=1), 0, m, n, format=\"csr\"))\n",
    "        slapl= D - A\n",
    "        slapl=slapl.asfptype()\n",
    "        w, eigV = eigsh(slapl, k=1)\n",
    "        Pinf[cont]=Pinf[cont]+np.min([len(eigV[eigV>0]),len(eigV[eigV<0])])/(L*L)\n",
    "        Pinf2[cont]=Pinf2[cont]+(np.min([len(eigV[eigV>0]),len(eigV[eigV<0])])/(L*L))*(np.min([len(eigV[eigV>0]),len(eigV[eigV<0])])/(L*L))\n",
    "        cont=cont+1\n",
    "Pinf=Pinf/navrg\n",
    "Pinf2=Pinf2/navrg"
   ]
  },
  {
   "cell_type": "code",
   "execution_count": null,
   "id": "e9b9857c",
   "metadata": {},
   "outputs": [
    {
     "data": {
      "text/plain": [
       "<matplotlib.lines.Line2D at 0x7fc078d1b2e0>"
      ]
     },
     "execution_count": 124,
     "metadata": {},
     "output_type": "execute_result"
    },
    {
     "data": {
      "image/png": "[encoded data removed]",
      "text/plain": [
       "<Figure size 432x288 with 1 Axes>"
      ]
     },
     "metadata": {
      "needs_background": "light"
     },
     "output_type": "display_data"
    }
   ],
   "source": [
    "plt.plot(p1,Pinf)\n",
    "#plt.plot(p1,L*(Pinf2-Pinf*Pinf))\n",
    "plt.axvline(x=0.103)"
   ]
  },
  {
   "cell_type": "code",
   "execution_count": null,
   "id": "06369ec9",
   "metadata": {},
   "outputs": [
    {
     "name": "stdout",
     "output_type": "stream",
     "text": [
      "2\n",
      "6\n",
      "4\n",
      "8\n",
      "10\n"
     ]
    }
   ],
   "source": [
    "import concurrent.futuresflip_random_fract_edges(G, p)\n",
    "\n",
    "\n",
    "def process_item(item):\n",
    "    # Perform operations on the item\n",
    "    result = item * 2\n",
    "    return result\n",
    "\n",
    "my_list = [1, 2, 3, 4, 5]\n",
    "\n",
    "with concurrent.futures.ThreadPoolExecutor() as executor:\n",
    "    # Submit tasks to the executor\n",
    "    futures = [executor.submit(process_item, item) for item in my_list]\n",
    "\n",
    "    # Retrieve results as they become available\n",
    "    for future in concurrent.futures.as_completed(futures):\n",
    "        result = future.result()\n",
    "        print(result)\n"
   ]
  },
  {
   "cell_type": "code",
   "execution_count": null,
   "id": "55c65380",
   "metadata": {},
   "outputs": [],
   "source": [
    "L = 16\n",
    "p=0.15\n",
    "G = nx.grid_2d_graph(L, L, periodic=True)\n",
    "mapping = {old_label:new_label for new_label, old_label in enumerate(G.nodes())}\n",
    "H = nx.relabel_nodes(G, mapping)\n",
    "Hold = nx.relabel_nodes(G, mapping)\n",
    "\n",
    "flip_random_fract_edges(H, p)\n",
    "flip_random_fract_edges(Hold, p)\n",
    "flip_random_fract_edges(G, p)\n",
    "\n",
    "\n",
    "adj = nx.adjacency_matrix(H).toarray()\n",
    "diabs = np.diag(np.abs(adj).sum(axis=1))\n",
    "slapl = diabs - adj\n",
    "eigv, eigV = np.linalg.eigh(slapl)\n",
    "eigV=np.transpose(eigV)"
   ]
  },
  {
   "cell_type": "code",
   "execution_count": null,
   "id": "ab5df5fc",
   "metadata": {},
   "outputs": [
    {
     "name": "stdout",
     "output_type": "stream",
     "text": [
      "[ 1.18522810e-02  1.62468392e-02  1.23261736e-02  6.99921645e-03\n",
      "  3.93208243e-03  1.99781176e-03 -3.67569029e-03  2.41596946e-02\n",
      "  4.00886402e-02  4.54378077e-02  3.99238772e-02  2.80041347e-02\n",
      "  8.35218380e-03  1.29033287e-02  2.60018745e-02  2.13828924e-02\n",
      "  6.86213122e-03  4.71466840e-03  3.77500489e-03  3.09667037e-03\n",
      "  5.47049489e-03  7.67596060e-03  1.35773017e-02  2.80612093e-02\n",
      "  3.76839681e-02  3.90994754e-02  3.36808006e-02  2.15141023e-02\n",
      "  2.85664268e-03  2.21432218e-04  1.11311747e-02  1.22290230e-02\n",
      "  5.47242067e-03  3.90610967e-03  2.79676393e-04  2.51440153e-03\n",
      "  5.09699636e-03 -6.73928988e-03  1.70846752e-02  2.61530125e-02\n",
      "  2.91564325e-02  2.47269343e-02  2.13779205e-02  1.33336451e-02\n",
      "  3.04307801e-03  2.82964084e-04 -1.83950768e-03  4.88955267e-03\n",
      "  4.15088699e-03  3.67229355e-03  1.63315352e-03  6.28109361e-04\n",
      "  3.72555997e-03  5.46322816e-03  1.53722924e-02  2.03645045e-02\n",
      "  1.69744735e-02  1.29023938e-04  5.64090170e-03 -2.32908305e-03\n",
      "  2.55151599e-04  4.21152309e-05 -6.99861607e-04  1.83692027e-03\n",
      "  4.04345212e-03  3.60255778e-03  1.89084686e-03  1.85159068e-03\n",
      "  3.55340282e-03  7.41684366e-03  1.27311271e-02  1.52142118e-02\n",
      "  1.17930354e-02  2.57859079e-03 -1.24067490e-03 -9.93057955e-04\n",
      " -1.67469492e-04  3.14191651e-04 -2.57283727e-03 -1.69142423e-03\n",
      "  8.57418091e-03  3.43369086e-03 -2.42948511e-04  6.29897707e-04\n",
      "  1.31638583e-04  5.09920708e-03  8.07988368e-03  1.01826591e-02\n",
      "  7.92031771e-03 -1.34758418e-03 -4.35538235e-04  1.42626630e-04\n",
      "  3.27823705e-04  3.83548020e-03 -7.23587984e-03  9.43003270e-03\n",
      "  1.41290368e-02  9.34367048e-06 -3.35384957e-05  5.39778332e-04\n",
      "  1.69920596e-03  2.82938255e-03 -1.23399717e-03  5.64405455e-03\n",
      "  5.34612617e-03 -2.82989472e-05 -1.82606635e-03 -1.61704225e-03\n",
      "  5.04695608e-03 -6.66115168e-03  2.92136403e-02  3.11044389e-02\n",
      "  1.14740102e-02  1.07627060e-02 -9.13470783e-04  3.05669810e-03\n",
      "  3.99269968e-03  4.67718260e-03  4.86028896e-03  6.13516065e-03\n",
      "  5.81545538e-03  4.97007853e-03 -4.52898614e-03 -8.93151807e-03\n",
      "  2.62189842e-02  5.45366810e-02  7.40662982e-02  5.98169339e-02\n",
      "  4.31758676e-02  2.65612559e-02  1.05464258e-02  5.61847040e-03\n",
      "  5.01940472e-03  5.24776296e-03  5.54658914e-03  5.88782091e-03\n",
      "  4.59900795e-03  1.66755699e-02 -1.06061972e-02  5.24026321e-02\n",
      "  4.42535022e-02  9.04615795e-02  1.24532683e-01  9.98763513e-02\n",
      "  4.13213491e-02  3.16595526e-02  6.90894925e-03  1.71481240e-03\n",
      "  3.30995251e-03  3.75230406e-03  4.08127750e-03  5.03155917e-03\n",
      "  1.17316831e-02  6.13981570e-02  1.02940777e-01  1.47104511e-01\n",
      "  1.72025655e-01  1.92630554e-01  1.86370351e-01  1.33999855e-01\n",
      "  5.92631839e-02  3.98074509e-02 -1.54826411e-02 -4.18768274e-03\n",
      " -1.49461036e-03  9.43331382e-04  4.42666726e-04 -3.48790014e-03\n",
      " -1.93651931e-02  9.08966682e-02  1.53508865e-01  2.05109422e-01\n",
      "  2.38697708e-01  2.48412843e-01  2.23447100e-01  1.57475129e-01\n",
      "  5.85554432e-02  3.76868124e-02 -1.89567828e-02  3.53378660e-03\n",
      "  1.14421920e-03  7.14243664e-04  6.56249058e-05  1.26571342e-03\n",
      "  1.25561315e-02  9.47491038e-02  1.56713643e-01  2.03129470e-01\n",
      "  2.38473127e-01  2.44411847e-01  2.16559656e-01  1.53307173e-01\n",
      "  3.83023258e-02  1.90963763e-02 -1.19151788e-02 -3.12196889e-03\n",
      "  1.38834368e-03  4.32193117e-04  3.46347414e-04 -4.42106667e-03\n",
      " -3.11998292e-02  8.27996494e-02  1.15873502e-01  1.34977469e-01\n",
      "  1.76969103e-01  1.81259058e-01  1.62721175e-01  1.22340216e-01\n",
      "  5.57628960e-02  1.87806074e-02 -1.95459209e-03  1.53094586e-03\n",
      "  1.19143309e-03  1.89217462e-03  5.17693247e-03  1.35847045e-02\n",
      "  3.82703462e-02  5.78898688e-02  4.49399301e-02  7.39019755e-03\n",
      "  8.58705655e-02  7.20065698e-02  6.88476505e-02  8.85077692e-02\n",
      "  5.62558773e-02  3.32687841e-02  1.54714683e-02 -3.18279946e-03\n",
      " -4.98799079e-04 -4.86009308e-05  2.91586680e-03 -1.01467386e-02\n",
      "  3.58538851e-02  4.35357191e-02  1.84831936e-02  3.09174868e-02\n",
      "  5.44623175e-02  6.23623059e-02  6.99874722e-02  7.34233891e-02\n",
      "  4.11759690e-02  2.99160344e-02  1.75963491e-02  5.98034135e-03\n",
      "  2.34449733e-04 -7.00815309e-04 -4.72042215e-03  1.56260108e-02\n",
      "  3.78285486e-02  4.53605637e-02  3.73908788e-02  3.15772191e-02\n",
      "  1.79884797e-02  2.92782962e-02  4.87023472e-02  5.10216623e-02]\n"
     ]
    }
   ],
   "source": [
    "print(eigV[0])"
   ]
  },
  {
   "cell_type": "code",
   "execution_count": null,
   "id": "d986b9bb",
   "metadata": {},
   "outputs": [
    {
     "ename": "KeyError",
     "evalue": "'weight'",
     "output_type": "error",
     "traceback": [
      "\u001b[0;31m---------------------------------------------------------------------------\u001b[0m",
      "\u001b[0;31mKeyError\u001b[0m                                  Traceback (most recent call last)",
      "Cell \u001b[0;32mIn[15], line 26\u001b[0m\n\u001b[1;32m     24\u001b[0m nx\u001b[39m.\u001b[39mset_edge_attributes(Gneg, values\u001b[39m=\u001b[39m\u001b[39m1\u001b[39m,name\u001b[39m=\u001b[39m\u001b[39m'\u001b[39m\u001b[39mweight\u001b[39m\u001b[39m'\u001b[39m)\n\u001b[1;32m     25\u001b[0m lista\u001b[39m=\u001b[39m[\u001b[39m'\u001b[39m\u001b[39mred\u001b[39m\u001b[39m'\u001b[39m \u001b[39mif\u001b[39;00m i \u001b[39min\u001b[39;00m labels \u001b[39melse\u001b[39;00m \u001b[39m'\u001b[39m\u001b[39mblue\u001b[39m\u001b[39m'\u001b[39m \u001b[39mfor\u001b[39;00m i \u001b[39min\u001b[39;00m \u001b[39mrange\u001b[39m(G\u001b[39m.\u001b[39mnumber_of_nodes())]\n\u001b[0;32m---> 26\u001b[0m listaE\u001b[39m=\u001b[39m[\u001b[39m'\u001b[39m\u001b[39mred\u001b[39m\u001b[39m'\u001b[39m \u001b[39mif\u001b[39;00m e[\u001b[39m2\u001b[39m][\u001b[39m'\u001b[39m\u001b[39mweight\u001b[39m\u001b[39m'\u001b[39m]\u001b[39m==\u001b[39m\u001b[39m-\u001b[39m\u001b[39m1\u001b[39m \u001b[39melse\u001b[39;00m \u001b[39m'\u001b[39m\u001b[39mblack\u001b[39m\u001b[39m'\u001b[39m \u001b[39mfor\u001b[39;00m e \u001b[39min\u001b[39;00m \u001b[39mlist\u001b[39m(G\u001b[39m.\u001b[39medges(data\u001b[39m=\u001b[39m\u001b[39mTrue\u001b[39;00m))]\n\u001b[1;32m     28\u001b[0m nx\u001b[39m.\u001b[39mdraw(Gneg,node_size\u001b[39m=\u001b[39m\u001b[39m10\u001b[39m)\n\u001b[1;32m     29\u001b[0m Gcc \u001b[39m=\u001b[39m \u001b[39msorted\u001b[39m(nx\u001b[39m.\u001b[39mconnected_components(Gneg), key\u001b[39m=\u001b[39m\u001b[39mlen\u001b[39m, reverse\u001b[39m=\u001b[39m\u001b[39mTrue\u001b[39;00m)\n",
      "Cell \u001b[0;32mIn[15], line 26\u001b[0m, in \u001b[0;36m<listcomp>\u001b[0;34m(.0)\u001b[0m\n\u001b[1;32m     24\u001b[0m nx\u001b[39m.\u001b[39mset_edge_attributes(Gneg, values\u001b[39m=\u001b[39m\u001b[39m1\u001b[39m,name\u001b[39m=\u001b[39m\u001b[39m'\u001b[39m\u001b[39mweight\u001b[39m\u001b[39m'\u001b[39m)\n\u001b[1;32m     25\u001b[0m lista\u001b[39m=\u001b[39m[\u001b[39m'\u001b[39m\u001b[39mred\u001b[39m\u001b[39m'\u001b[39m \u001b[39mif\u001b[39;00m i \u001b[39min\u001b[39;00m labels \u001b[39melse\u001b[39;00m \u001b[39m'\u001b[39m\u001b[39mblue\u001b[39m\u001b[39m'\u001b[39m \u001b[39mfor\u001b[39;00m i \u001b[39min\u001b[39;00m \u001b[39mrange\u001b[39m(G\u001b[39m.\u001b[39mnumber_of_nodes())]\n\u001b[0;32m---> 26\u001b[0m listaE\u001b[39m=\u001b[39m[\u001b[39m'\u001b[39m\u001b[39mred\u001b[39m\u001b[39m'\u001b[39m \u001b[39mif\u001b[39;00m e[\u001b[39m2\u001b[39;49m][\u001b[39m'\u001b[39;49m\u001b[39mweight\u001b[39;49m\u001b[39m'\u001b[39;49m]\u001b[39m==\u001b[39m\u001b[39m-\u001b[39m\u001b[39m1\u001b[39m \u001b[39melse\u001b[39;00m \u001b[39m'\u001b[39m\u001b[39mblack\u001b[39m\u001b[39m'\u001b[39m \u001b[39mfor\u001b[39;00m e \u001b[39min\u001b[39;00m \u001b[39mlist\u001b[39m(G\u001b[39m.\u001b[39medges(data\u001b[39m=\u001b[39m\u001b[39mTrue\u001b[39;00m))]\n\u001b[1;32m     28\u001b[0m nx\u001b[39m.\u001b[39mdraw(Gneg,node_size\u001b[39m=\u001b[39m\u001b[39m10\u001b[39m)\n\u001b[1;32m     29\u001b[0m Gcc \u001b[39m=\u001b[39m \u001b[39msorted\u001b[39m(nx\u001b[39m.\u001b[39mconnected_components(Gneg), key\u001b[39m=\u001b[39m\u001b[39mlen\u001b[39m, reverse\u001b[39m=\u001b[39m\u001b[39mTrue\u001b[39;00m)\n",
      "\u001b[0;31mKeyError\u001b[0m: 'weight'"
     ]
    }
   ],
   "source": [
    "L = 32\n",
    "p=0.25\n",
    "G = nx.grid_2d_graph(L, L, periodic=True)\n",
    "#mapping = {old_label:new_label for new_label, old_label in enumerate(G.nodes())}\n",
    "#H = nx.relabel_nodes(G, mapping)\n",
    "#Hold = nx.relabel_nodes(G, mapping)\n",
    "\n",
    "\n",
    "# flip_random_fract_edges(G, p)\n",
    "#flip_random_fract_edges(H, p)\n",
    "#flip_random_fract_edges(Hold, p)\n",
    "\n",
    "adj = nx.adjacency_matrix(G).toarray()\n",
    "diabs = np.diag(np.abs(adj).sum(axis=1))\n",
    "slapl = diabs - adj\n",
    "eigv, eigV = np.linalg.eigh(slapl)\n",
    "eigV=np.transpose(eigV)\n",
    "\n",
    "#G = nx.grid_2d_graph(L, L, perioneg_weightsG =neg_weightsG = {((i, L//2), (i+1, L//2)): -1 for i in range(L-1)}\n",
    "nx.set_edge_attributes(G, values=1, name='weight')\n",
    "nx.set_edge_attributes(G, values=neg_weightsG, name='weight') {((L//2,L//2), (L//2,L//2+1)): -1}\n",
    "# neg_weightsH = {(0, 10): -1}\n",
    "fraction_to_flip = 0.07\n",
    "#\n",
    "G = nx.grid_2d_graph(L, L, periodic=True)\n",
    "nx.set_edge_attributes(G, values=1, name='weight')\n",
    "nx.set_edge_attributes(G, values=neg_weightsG, name='weight')dic=False)\n",
    "mapping = {old_label:new_label for new_label, old_label in enumerate(G.nodes())}\n",
    "H = nx.relabel_nodes(G, mapping)\n",
    "labels=np.where(eigV[0]<0)[0]\n",
    "Gneg = H.subgraph(labels)\n",
    "nx.set_edge_attributes(Gneg, values=1,name='weight')\n",
    "lista=['red' if i in labels else 'blue' for i in range(G.number_of_nodes())]\n",
    "listaE=['red' if e[2]['weight']==-1 else 'black' for e in list(G.edges(data=True))]\n",
    "\n",
    "nx.draw(Gneg,node_size=10)\n",
    "Gcc = sorted(nx.connected_components(Gneg), key=len, reverse=True)\n",
    "print(Gcc[0])\n",
    "#nx.draw_spectral(H,node_size=20, node_color=lista, edge_color=listaE)"
   ]
  },
  {
   "cell_type": "code",
   "execution_count": null,
   "id": "a891d75d",
   "metadata": {},
   "outputs": [
    {
     "name": "stdout",
     "output_type": "stream",
     "text": [
      "[1 1 2 2 1 2 1 1 1 2 1 2 2 2 1 1 1 2 1 1 2 1 1 1 1 1 1 1 1 2 1 1 2 1 1 2 2\n",
      " 1 2 1 1 1 2 2 1 1 2 1 1 1 1 1 1 2 2 1 1 2 1 2 1 2 2 2 2 2 2 2 2 1 1 1 2 1\n",
      " 2 2 2 1 1 2 2 2 1 1 2 2 2 2 1 1 1 1 2 2 2 2 1 1 1 1 2 1 1 1 1 1 1 2 1 1 2\n",
      " 2 1 2 1 2 2 1 1 1 1 2 1 1 1 1 1 2 1 2 2 2 2 2 1 2 2 1 2 2 1 1 1 1 1 1 2 2\n",
      " 1 1 1 2 2 2 2 1 2 1 2 2 2 2 1 1 2 2 1 2 1 2 2 1 2 1 2 1 1 2 2 2 1 2 1 1 1\n",
      " 1 1 1 1 1 1 1 1 2 1 1 2 1 2 1 2 2 2 2 1 2 1 2 1 2 1 2 2 2 2 2 1 1 1 1 2 2\n",
      " 2 1 1 2 2 1 2 1 2 1 2 2 2 1 1 2 2 1 2 1 1 1 1 2 1 1 1 1 2 1 1 1 1 1]\n"
     ]
    },
    {
     "data": {
      "image/png": "[encoded data removed]",
      "text/plain": [
       "<Figure size 432x288 with 1 Axes>"
      ]
     },
     "metadata": {
      "needs_background": "light"
     },
     "output_type": "display_data"
    }
   ],
   "source": [
    "tau=20\n",
    "num=expm((-tau*slapl))\n",
    "den=np.trace(num)\n",
    "rho=num/den\n",
    "#rho[rho<0]=1\n",
    "Trho=np.copy(1.0/rho)#1/adj2\n",
    "Trho = np.maximum(Trho, Trho.transpose() )\n",
    "np.fill_diagonal(Trho, 0)\n",
    "\n",
    "\n",
    "old_d = squareform(Trho)\n",
    "dists = np.sqrt(1 - old_d/np.max(np.abs(old_d)))\n",
    "\n",
    "linkage_matrix = linkage(dists, \"complete\")\n",
    "labelList = [i+1 for i in range(0, len(G.nodes()))]\n",
    "tmax=linkage_matrix[::, 2][-1]#+0.01*linkage_maneg_weightsG = {((i, L//2), (i+1, L//2)): -1 for i in range(L-1)}\n",
    "nx.set_edge_attributes(G, values=1, name='weight')\n",
    "nx.set_edge_attributes(G, values=neg_weightsG, name='weight')trix[::, 2][-1]\n",
    "linkage_matrix = linkage(dists/tmax, \"complete\")\n",
    "CM=fcluster(linkage_matrix, t=2, criterion='maxclust')\n",
    "print(CM)\n",
    "Th=8e-1\n",
    "dendrogram(linkage_matrix,labels=None,no_labels=True,leaf_rotation=0,orientation='top',color_threshold=Th,above_threshold_color='k',leaf_font_size=10)\n",
    "plt.yscale('log')\n",
    "plt.ylim(7e-1,1)\n",
    "plt.show()"
   ]
  },
  {
   "cell_type": "code",
   "execution_count": null,
   "id": "5d88f838",
   "metadata": {},
   "outputs": [
    {
     "ename": "NameError",
     "evalue": "name 'listaE' is not defined",
     "output_type": "error",
     "traceback": [
      "\u001b[0;31m---------------------------------------------------------------------------\u001b[0m",
      "\u001b[0;31mNameError\u001b[0m                                 Traceback (most recent call last)",
      "Cell \u001b[0;32mIn[16], line 3\u001b[0m\n\u001b[1;32m      1\u001b[0m \u001b[39mfrom\u001b[39;00m \u001b[39mitertools\u001b[39;00m \u001b[39mimport\u001b[39;00m product\n\u001b[1;32m      2\u001b[0m posG \u001b[39m=\u001b[39m {(x, y):(x, y) \u001b[39mfor\u001b[39;00m i,(x,y) \u001b[39min\u001b[39;00m \u001b[39menumerate\u001b[39m(product(\u001b[39mrange\u001b[39m(L), \u001b[39mrange\u001b[39m(L)))}\n\u001b[0;32m----> 3\u001b[0m nx\u001b[39m.\u001b[39mdraw(G,pos\u001b[39m=\u001b[39mposG,node_size\u001b[39m=\u001b[39m\u001b[39m20\u001b[39m, node_color\u001b[39m=\u001b[39mlista, edge_color\u001b[39m=\u001b[39mlistaE)\n",
      "\u001b[0;31mNameError\u001b[0m: name 'listaE' is not defined"
     ]
    }
   ],
   "source": [
    "from itertools import product\n",
    "posG = {(x, y):(x, y) for i,(x,y) in enumerate(product(range(L), range(L)))}\n",
    "nx.draw(G,pos=posG,node_size=20, node_color=lista, edge_color=listaE)"
   ]
  },
  {
   "cell_type": "code",
   "execution_count": 32,
   "id": "cc27e71e",
   "metadata": {},
   "outputs": [],
   "source": [
    "theLattice = Lattice2D(#\n",
    "    side1 = 10,\n",
    "    geometry = 'hexagonal',\n",
    ")"
   ]
  },
  {
   "cell_type": "code",
   "execution_count": 82,
   "id": "f86419cc",
   "metadata": {},
   "outputs": [],
   "source": [
    "#Generate network\n",
    "L = 30\n",
    "p = 0.2\n",
    "G = nx.grid_2d_graph(L, L, periodic=True)\n",
    "flip_random_fract_edges(G, p)\n",
    "neg_weightsG = {((i, j), (i, j+1)): -1 for i in range(L) for j in [L//3, L//2]}#strip\n",
    "# neg_weightsG = {(i[0], i[1]): -1 for i in list(G.edges())[::2]}\n",
    "# neg_weightsG = {((i, j), (i+1, j)): -1 for i in range(L) for j in range(L//2, L//2+4)}\n",
    "nx.set_edge_attributes(G, values=1, name='weight')\n",
    "nx.set_edge_attributes(G, values=neg_weightsG, name='weight')\n",
    "#\n",
    "N=G.number_of_nodes()\n",
    "\n",
    "#\n",
    "H = nx.convert_node_labels_to_integers(G)\n"
   ]
  },
  {
   "cell_type": "code",
   "execution_count": 83,
   "id": "6221baab",
   "metadata": {},
   "outputs": [],
   "source": [
    "adj = nx.adjacency_matrix(G).toarray()\n",
    "diabs = np.diag(np.abs(adj).sum(axis=1))\n",
    "slapl = diabs - adj\n",
    "eigv, eigV = np.linalg.eigh(slapl)\n",
    "eigV=np.transpose(eigV)"
   ]
  },
  {
   "cell_type": "code",
   "execution_count": 84,
   "id": "9349ebb6",
   "metadata": {},
   "outputs": [],
   "source": [
    "labels=np.where((eigV[0] < 0))[0]\n",
    "lista=['red' if i in labels else 'blue' for i in range(H.number_of_nodes())]\n",
    "listaE=['red' if e[2]['weight']==-1 else 'blue' for e in list(H.edges(data=True))]\n",
    "pos = dict((i, n) for i,n in enumerate(G.nodes()))"
   ]
  },
  {
   "cell_type": "code",
   "execution_count": null,
   "id": "24bc583c",
   "metadata": {},
   "outputs": [],
   "source": []
  },
  {
   "cell_type": "code",
   "execution_count": 98,
   "id": "9b05d1bc",
   "metadata": {},
   "outputs": [
    {
     "name": "stderr",
     "output_type": "stream",
     "text": [
      "/tmp/ipykernel_5976/1803531012.py:35: DeprecationWarning: Sampling from a set deprecated\n",
      "since Python 3.9 and will be removed in a subsequent version.\n",
      "  sample = rd.sample(H.nodes, N)\n",
      "100%|██████████| 1800/1800 [00:29<00:00, 61.41it/s]\n"
     ]
    }
   ],
   "source": [
    "import matplotlib.pyplot as plt\n",
    "import networkx as nx\n",
    "import sys\n",
    "import random as rd\n",
    "import numpy as np\n",
    "from tqdm import tqdm\n",
    "\n",
    "#\n",
    "nmax=2*N\n",
    "T=0.2\n",
    "\n",
    "def calcEnergy(m, H):\n",
    "    '''Energy of a given configuration'''\n",
    "    energy = 0\n",
    "    for i in range(N):\n",
    "        neigh=[w['weight']*m[nn] for nn, w in dict(H[i]).items()]\n",
    "        energy += -m[i]*np.sum(neigh)\n",
    "    return energy/4.\n",
    "\n",
    "#Initialize magnetization\n",
    "labels=np.where((eigV[0] < 0))[0]\n",
    "lista=['red' if i in labels else 'blue' for i in range(H.number_of_nodes())]\n",
    "bigene = []\n",
    "for replica in range(1):\n",
    "    if replica != 0:\n",
    "        m=[1 if i in labels else -1 for i in range(H.number_of_nodes())]\n",
    "    else:\n",
    "        m=np.zeros(N)\n",
    "        for i in range(N):\n",
    "            m[i]=rd.choice([-1,1])\n",
    "\n",
    "    #Metropolis\n",
    "    magn = []\n",
    "    ene = []\n",
    "    sample = rd.sample(H.nodes, N)\n",
    "    for nsteps in tqdm(range(nmax)):\n",
    "        magn.append(np.sum(m))\n",
    "        ene.append(calcEnergy(m, H))\n",
    "        for i in range(N):\n",
    "            node=sample[i]\n",
    "            m_new = -m[node]\n",
    "\n",
    "            #Metropolis thing\n",
    "            neigh=[w['weight']*m[nn] for nn, w in dict(H[node]).items()]\n",
    "            E_old=-m[node]*np.sum(neigh)\n",
    "            E_new=-m_new*np.sum(neigh)\n",
    "\n",
    "            if E_new<E_old:\n",
    "                m[node]=m_new\n",
    "            else:\n",
    "                r=rd.uniform(0, 1)\n",
    "                if (r<np.exp(-(E_new-E_old)/T)):\n",
    "                    m[node]=m_new\n",
    "    bigene.append(ene)"
   ]
  },
  {
   "cell_type": "code",
   "execution_count": 99,
   "id": "7df98a9c",
   "metadata": {},
   "outputs": [
    {
     "data": {
      "image/png": "[encoded data removed]",
      "text/plain": [
       "<Figure size 640x480 with 1 Axes>"
      ]
     },
     "metadata": {},
     "output_type": "display_data"
    }
   ],
   "source": [
    "# for i in range(19):\n",
    "#     plt.plot(np.linspace(1, len(bigene[i]), num=len(bigene[i])), bigene[i]+ np.max(np.abs(bigene[-1])))\n",
    "plt.plot(np.linspace(1, len(bigene[-1]), num=len(bigene[-1])), bigene[-1] + np.max(np.abs(bigene[-1])), c='k', ls='--')\n",
    "plt.xscale('log')\n",
    "plt.ylabel('Energy')\n",
    "plt.xlabel('time')\n",
    "# plt.ylim([1,1e3])\n",
    "# \n",
    "plt.yscale('log')"
   ]
  },
  {
   "cell_type": "code",
   "execution_count": null,
   "id": "fb83b85a",
   "metadata": {},
   "outputs": [],
   "source": []
  },
  {
   "cell_type": "code",
   "execution_count": 101,
   "id": "084f2f44",
   "metadata": {},
   "outputs": [
    {
     "data": {
      "image/png": "[encoded data removed]",
      "text/plain": [
       "<Figure size 1400x700 with 2 Axes>"
      ]
     },
     "metadata": {},
     "output_type": "display_data"
    }
   ],
   "source": [
    "mapping = {old_label:new_label \n",
    "           for new_label, old_label in enumerate(G.nodes())}\n",
    "Im=np.zeros((L,L))\n",
    "for i1 in range(N):\n",
    "    Node=list(mapping)[i1]\n",
    "    if ((m[i1])==1): \n",
    "        Im[Node[1], Node[0]]=-1\n",
    "    if ((m[i1])==-1): \n",
    "        Im[Node[1],Node[0]]=1\n",
    "\n",
    "\n",
    "listam=['red' if i >0 else 'blue' for i in m]\n",
    "\n",
    "from matplotlib import colors\n",
    "# cmap = colors.ListedColormap(['darkblue', 'red'])\n",
    "fig, (ax, ax1) = plt.subplots(ncols=2, figsize=(14, 7))\n",
    "plt.subplots_adjust(wspace=None)\n",
    "nx.draw(H, pos=pos, node_size=190, width=3, ax=ax, node_color=lista, node_shape=\"s\", edge_color=listaE)\n",
    "nx.draw(H, pos=pos, node_size=190, width=3, ax=ax1, node_color=listam, node_shape=\"s\", edge_color=listaE)\n",
    "# im = ax1.imshow(Im,interpolation=None,cmap=cmap, origin='lower')\n",
    "# fig.colorbar(im, ax=ax1)\n",
    "fig.tight_layout()"
   ]
  },
  {
   "cell_type": "code",
   "execution_count": 74,
   "id": "9ab84ffd",
   "metadata": {},
   "outputs": [],
   "source": [
    "autolap = np.array(lista) == 'red'\n",
    "autonag = np.array(listam) == 'red'"
   ]
  },
  {
   "cell_type": "code",
   "execution_count": 75,
   "id": "318da1b0",
   "metadata": {},
   "outputs": [
    {
     "data": {
      "text/plain": [
       "0.8322222222222222"
      ]
     },
     "execution_count": 75,
     "metadata": {},
     "output_type": "execute_result"
    }
   ],
   "source": [
    "sum(~(autolap ^ autonag))/len(autolap)"
   ]
  },
  {
   "cell_type": "code",
   "execution_count": null,
   "id": "772bd5cc",
   "metadata": {},
   "outputs": [],
   "source": []
  }
 ],
 "metadata": {
  "kernelspec": {
   "display_name": "Python 3 (ipykernel)",
   "language": "python",
   "name": "python3"
  },
  "language_info": {
   "codemirror_mode": {
    "name": "ipython",
    "version": 3
   },
   "file_extension": ".py",
   "mimetype": "text/x-python",
   "name": "python",
   "nbconvert_exporter": "python",
   "pygments_lexer": "ipython3",
   "version": "3.9.16"
  }
 },
 "nbformat": 4,
 "nbformat_minor": 5
}
