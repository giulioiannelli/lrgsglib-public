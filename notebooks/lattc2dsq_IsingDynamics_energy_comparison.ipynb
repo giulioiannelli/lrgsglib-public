{
 "cells": [
  {
   "cell_type": "code",
   "execution_count": 2,
   "metadata": {},
   "outputs": [
    {
     "name": "stdout",
     "output_type": "stream",
     "text": [
      "cwd: /home/opisthofulax/PhD/projects/complex-networks/LRG-Signed\n"
     ]
    }
   ],
   "source": [
    "%matplotlib inline\n",
    "#\n",
    "from LRGSG_package.LRGSG import *\n",
    "from LRGSG_package.LRGSG_plots import imshow_colorbar_caxdivider, generate_maxpercdiff_colormap\n",
    "from LRGSG_package.LRGSG_utils import move_to_rootf, width_interval, dv, boolean_overlap_fraction\n",
    "from LRGSG_package.nx_patches import signed_spectral_layout, get_kth_order_neighbours\n",
    "#\n",
    "move_to_rootf(print_tf=True)"
   ]
  },
  {
   "cell_type": "code",
   "execution_count": 3,
   "metadata": {},
   "outputs": [],
   "source": [
    "side = 64\n",
    "pflip = 0.15\n",
    "T_ising = 0.1\n",
    "replica = 20\n",
    "NoEigen = 5"
   ]
  },
  {
   "cell_type": "code",
   "execution_count": 4,
   "metadata": {},
   "outputs": [
    {
     "name": "stderr",
     "output_type": "stream",
     "text": [
      "  4%|▍         | 165/4096 [00:12<04:50, 13.54it/s]\n"
     ]
    },
    {
     "ename": "KeyboardInterrupt",
     "evalue": "",
     "output_type": "error",
     "traceback": [
      "\u001b[0;31m---------------------------------------------------------------------------\u001b[0m",
      "\u001b[0;31mKeyboardInterrupt\u001b[0m                         Traceback (most recent call last)",
      "\u001b[1;32m/home/opisthofulax/PhD/projects/complex-networks/LRG-Signed/notebooks/lattc2dsq_IsingDynamics_energy_comparison.ipynb Cell 3\u001b[0m line \u001b[0;36m3\n\u001b[1;32m     <a href='vscode-notebook-cell:/home/opisthofulax/PhD/projects/complex-networks/LRG-Signed/notebooks/lattc2dsq_IsingDynamics_energy_comparison.ipynb#X45sZmlsZQ%3D%3D?line=26'>27</a>\u001b[0m ising_dyn\u001b[39m.\u001b[39minit_ising_dynamics()\n\u001b[1;32m     <a href='vscode-notebook-cell:/home/opisthofulax/PhD/projects/complex-networks/LRG-Signed/notebooks/lattc2dsq_IsingDynamics_energy_comparison.ipynb#X45sZmlsZQ%3D%3D?line=27'>28</a>\u001b[0m ising_dyn\u001b[39m.\u001b[39mfind_ising_clusters(\n\u001b[1;32m     <a href='vscode-notebook-cell:/home/opisthofulax/PhD/projects/complex-networks/LRG-Signed/notebooks/lattc2dsq_IsingDynamics_energy_comparison.ipynb#X45sZmlsZQ%3D%3D?line=28'>29</a>\u001b[0m     import_cl \u001b[39m=\u001b[39m IMPORT\n\u001b[1;32m     <a href='vscode-notebook-cell:/home/opisthofulax/PhD/projects/complex-networks/LRG-Signed/notebooks/lattc2dsq_IsingDynamics_energy_comparison.ipynb#X45sZmlsZQ%3D%3D?line=29'>30</a>\u001b[0m )\n\u001b[0;32m---> <a href='vscode-notebook-cell:/home/opisthofulax/PhD/projects/complex-networks/LRG-Signed/notebooks/lattc2dsq_IsingDynamics_energy_comparison.ipynb#X45sZmlsZQ%3D%3D?line=30'>31</a>\u001b[0m ising_dyn\u001b[39m.\u001b[39;49mrun()\n\u001b[1;32m     <a href='vscode-notebook-cell:/home/opisthofulax/PhD/projects/complex-networks/LRG-Signed/notebooks/lattc2dsq_IsingDynamics_energy_comparison.ipynb#X45sZmlsZQ%3D%3D?line=31'>32</a>\u001b[0m energies\u001b[39m.\u001b[39mappend(np\u001b[39m.\u001b[39marray(ising_dyn\u001b[39m.\u001b[39mene))\n",
      "File \u001b[0;32m~/PhD/projects/complex-networks/LRG-Signed/src/LRGSG_package/LRGSG.py:538\u001b[0m, in \u001b[0;36mIsingDynamics.run\u001b[0;34m(self, adjfname, out_suffix, tqdm_on, thrmSTEP, eqSTEP)\u001b[0m\n\u001b[1;32m    535\u001b[0m \u001b[39mself\u001b[39m\u001b[39m.\u001b[39mene\u001b[39m.\u001b[39mappend(\u001b[39mself\u001b[39m\u001b[39m.\u001b[39mcalc_full_energy())\n\u001b[1;32m    536\u001b[0m \u001b[39m# for i in range(self.system.N):\u001b[39;00m\n\u001b[1;32m    537\u001b[0m \u001b[39m#     self.metropolis(sample[i])\u001b[39;00m\n\u001b[0;32m--> 538\u001b[0m metropolis_1step(sample)\n\u001b[1;32m    539\u001b[0m save_magn_array()\n",
      "File \u001b[0;32m~/anaconda3/envs/LRG-Signed/lib/python3.9/site-packages/numpy/lib/function_base.py:2329\u001b[0m, in \u001b[0;36mvectorize.__call__\u001b[0;34m(self, *args, **kwargs)\u001b[0m\n\u001b[1;32m   2326\u001b[0m     vargs \u001b[39m=\u001b[39m [args[_i] \u001b[39mfor\u001b[39;00m _i \u001b[39min\u001b[39;00m inds]\n\u001b[1;32m   2327\u001b[0m     vargs\u001b[39m.\u001b[39mextend([kwargs[_n] \u001b[39mfor\u001b[39;00m _n \u001b[39min\u001b[39;00m names])\n\u001b[0;32m-> 2329\u001b[0m \u001b[39mreturn\u001b[39;00m \u001b[39mself\u001b[39;49m\u001b[39m.\u001b[39;49m_vectorize_call(func\u001b[39m=\u001b[39;49mfunc, args\u001b[39m=\u001b[39;49mvargs)\n",
      "File \u001b[0;32m~/anaconda3/envs/LRG-Signed/lib/python3.9/site-packages/numpy/lib/function_base.py:2412\u001b[0m, in \u001b[0;36mvectorize._vectorize_call\u001b[0;34m(self, func, args)\u001b[0m\n\u001b[1;32m   2409\u001b[0m \u001b[39m# Convert args to object arrays first\u001b[39;00m\n\u001b[1;32m   2410\u001b[0m inputs \u001b[39m=\u001b[39m [asanyarray(a, dtype\u001b[39m=\u001b[39m\u001b[39mobject\u001b[39m) \u001b[39mfor\u001b[39;00m a \u001b[39min\u001b[39;00m args]\n\u001b[0;32m-> 2412\u001b[0m outputs \u001b[39m=\u001b[39m ufunc(\u001b[39m*\u001b[39;49minputs)\n\u001b[1;32m   2414\u001b[0m \u001b[39mif\u001b[39;00m ufunc\u001b[39m.\u001b[39mnout \u001b[39m==\u001b[39m \u001b[39m1\u001b[39m:\n\u001b[1;32m   2415\u001b[0m     res \u001b[39m=\u001b[39m asanyarray(outputs, dtype\u001b[39m=\u001b[39motypes[\u001b[39m0\u001b[39m])\n",
      "File \u001b[0;32m~/anaconda3/envs/LRG-Signed/lib/python3.9/site-packages/numpy/lib/function_base.py:2321\u001b[0m, in \u001b[0;36mvectorize.__call__.<locals>.func\u001b[0;34m(*vargs)\u001b[0m\n\u001b[1;32m   2320\u001b[0m \u001b[39mdef\u001b[39;00m \u001b[39mfunc\u001b[39m(\u001b[39m*\u001b[39mvargs):\n\u001b[0;32m-> 2321\u001b[0m     \u001b[39mfor\u001b[39;00m _n, _i \u001b[39min\u001b[39;00m \u001b[39menumerate\u001b[39;49m(inds):\n\u001b[1;32m   2322\u001b[0m         the_args[_i] \u001b[39m=\u001b[39m vargs[_n]\n\u001b[1;32m   2323\u001b[0m     kwargs\u001b[39m.\u001b[39mupdate(\u001b[39mzip\u001b[39m(names, vargs[\u001b[39mlen\u001b[39m(inds):]))\n",
      "\u001b[0;31mKeyboardInterrupt\u001b[0m: "
     ]
    }
   ],
   "source": [
    "energies = []\n",
    "for rep in range(replica):\n",
    "    IMPORT = False if not rep else True\n",
    "    if IMPORT:\n",
    "        args = {'import_on': True,\n",
    "                'stdFnameSFFX': f'_p={pflip:.3g}'}\n",
    "    else:\n",
    "        args = {}\n",
    "    INIT_COND = f\"ground_state_{rep}\" if rep < NoEigen else \"uniform\"\n",
    "    sqlatt = Lattice2D(\n",
    "        side1=side,\n",
    "        geometry=\"squared\",\n",
    "        pflip=pflip,\n",
    "        **args\n",
    "    )\n",
    "    ising_dyn = IsingDynamics(\n",
    "        system=sqlatt, \n",
    "        T=T_ising, \n",
    "        nstepsIsing=side**2, \n",
    "        IsingIC=INIT_COND,\n",
    "        MODE_RUN=\"py\", \n",
    "    )\n",
    "    if not sqlatt.import_on:\n",
    "        sqlatt.flip_random_fract_edges()\n",
    "        sqlatt.export_graph(MODE=\"pickle\")\n",
    "        sqlatt.export_adj_bin()\n",
    "    ising_dyn.init_ising_dynamics()\n",
    "    ising_dyn.find_ising_clusters(\n",
    "        import_cl = IMPORT\n",
    "    )\n",
    "    ising_dyn.run()\n",
    "    energies.append(np.array(ising_dyn.ene))"
   ]
  }
 ],
 "metadata": {
  "kernelspec": {
   "display_name": "LRG-Signed",
   "language": "python",
   "name": "python3"
  },
  "language_info": {
   "codemirror_mode": {
    "name": "ipython",
    "version": 3
   },
   "file_extension": ".py",
   "mimetype": "text/x-python",
   "name": "python",
   "nbconvert_exporter": "python",
   "pygments_lexer": "ipython3",
   "version": "3.9.16"
  },
  "orig_nbformat": 4
 },
 "nbformat": 4,
 "nbformat_minor": 2
}
