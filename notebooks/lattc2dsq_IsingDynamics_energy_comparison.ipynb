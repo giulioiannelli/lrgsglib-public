{
 "cells": [
  {
   "cell_type": "code",
   "execution_count": 1,
   "metadata": {},
   "outputs": [
    {
     "name": "stdout",
     "output_type": "stream",
     "text": [
      "cwd: /home/opisthofulax/PhD/projects/complex-networks/LRG-Signed\n"
     ]
    }
   ],
   "source": [
    "%matplotlib inline\n",
    "#\n",
    "from LRGSG_package.LRGSG import *\n",
    "from LRGSG_package.LRGSG_plots import imshow_colorbar_caxdivider, generate_maxpercdiff_colormap\n",
    "from LRGSG_package.LRGSG_utils import move_to_rootf, width_interval, dv, boolean_overlap_fraction\n",
    "from LRGSG_package.nx_patches import signed_spectral_layout, get_kth_order_neighbours\n",
    "#\n",
    "move_to_rootf(print_tf=True)"
   ]
  },
  {
   "cell_type": "code",
   "execution_count": 8,
   "metadata": {},
   "outputs": [],
   "source": [
    "side = 64\n",
    "pflip = 0.12\n",
    "T_ising = 0.1\n",
    "replica = 10\n",
    "NoEigen = 3\n",
    "#\n",
    "sqlatt = Lattice2D(\n",
    "        side1=side,\n",
    "        geometry=\"squared\",\n",
    "        pflip=pflip,\n",
    "    )\n",
    "sqlatt.flip_random_fract_edges()"
   ]
  },
  {
   "cell_type": "code",
   "execution_count": 9,
   "metadata": {},
   "outputs": [
    {
     "name": "stdout",
     "output_type": "stream",
     "text": [
      "0 ground_state_0\n"
     ]
    },
    {
     "name": "stderr",
     "output_type": "stream",
     "text": [
      "  0%|          | 0/100 [00:00<?, ?it/s]"
     ]
    },
    {
     "name": "stderr",
     "output_type": "stream",
     "text": [
      "100%|██████████| 100/100 [00:07<00:00, 13.48it/s]\n"
     ]
    },
    {
     "name": "stdout",
     "output_type": "stream",
     "text": [
      "1 ground_state_1\n"
     ]
    },
    {
     "name": "stderr",
     "output_type": "stream",
     "text": [
      "100%|██████████| 100/100 [00:07<00:00, 13.52it/s]\n"
     ]
    },
    {
     "name": "stdout",
     "output_type": "stream",
     "text": [
      "2 ground_state_2\n"
     ]
    },
    {
     "name": "stderr",
     "output_type": "stream",
     "text": [
      "100%|██████████| 100/100 [00:07<00:00, 13.40it/s]\n"
     ]
    },
    {
     "name": "stdout",
     "output_type": "stream",
     "text": [
      "3 uniform\n"
     ]
    },
    {
     "name": "stderr",
     "output_type": "stream",
     "text": [
      "100%|██████████| 100/100 [00:07<00:00, 13.17it/s]\n"
     ]
    },
    {
     "name": "stdout",
     "output_type": "stream",
     "text": [
      "4 uniform\n"
     ]
    },
    {
     "name": "stderr",
     "output_type": "stream",
     "text": [
      "100%|██████████| 100/100 [00:07<00:00, 13.31it/s]\n"
     ]
    },
    {
     "name": "stdout",
     "output_type": "stream",
     "text": [
      "5 uniform\n"
     ]
    },
    {
     "name": "stderr",
     "output_type": "stream",
     "text": [
      "100%|██████████| 100/100 [00:07<00:00, 13.50it/s]\n"
     ]
    },
    {
     "name": "stdout",
     "output_type": "stream",
     "text": [
      "6 uniform\n"
     ]
    },
    {
     "name": "stderr",
     "output_type": "stream",
     "text": [
      "100%|██████████| 100/100 [00:07<00:00, 13.35it/s]\n"
     ]
    },
    {
     "name": "stdout",
     "output_type": "stream",
     "text": [
      "7 uniform\n"
     ]
    },
    {
     "name": "stderr",
     "output_type": "stream",
     "text": [
      "100%|██████████| 100/100 [00:07<00:00, 13.32it/s]\n"
     ]
    },
    {
     "name": "stdout",
     "output_type": "stream",
     "text": [
      "8 uniform\n"
     ]
    },
    {
     "name": "stderr",
     "output_type": "stream",
     "text": [
      "100%|██████████| 100/100 [00:07<00:00, 13.37it/s]\n"
     ]
    },
    {
     "name": "stdout",
     "output_type": "stream",
     "text": [
      "9 uniform\n"
     ]
    },
    {
     "name": "stderr",
     "output_type": "stream",
     "text": [
      "100%|██████████| 100/100 [00:07<00:00, 13.11it/s]\n"
     ]
    }
   ],
   "source": [
    "energies = []\n",
    "for rep in range(replica):\n",
    "    np.random.seed(rep)\n",
    "    random.seed(rep)\n",
    "    INIT_COND = f\"ground_state_{rep}\" if rep < NoEigen else \"uniform\"\n",
    "    print(rep, INIT_COND)\n",
    "    ising_dyn = IsingDynamics(\n",
    "        system=sqlatt, \n",
    "        T=T_ising, \n",
    "        nstepsIsing=100, \n",
    "        IsingIC=INIT_COND,\n",
    "        MODE_RUN=\"py\", \n",
    "    )\n",
    "    ising_dyn.init_ising_dynamics()\n",
    "    ising_dyn.run()\n",
    "    # print(ising_dyn.s.reshape(5, 5))\n",
    "    energies.append(np.array(ising_dyn.ene))"
   ]
  },
  {
   "cell_type": "code",
   "execution_count": 10,
   "metadata": {},
   "outputs": [
    {
     "data": {
      "image/png": "[encoded data removed]",
      "text/plain": [
       "<Figure size 640x480 with 1 Axes>"
      ]
     },
     "metadata": {},
     "output_type": "display_data"
    }
   ],
   "source": [
    "mine = np.array(energies).flatten().min()\n",
    "\n",
    "plt.plot(energies[0]-mine, 'k--')\n",
    "for i,e in enumerate(energies[1:]):\n",
    "    plt.plot(e-mine, 'red' if i < NoEigen-1 else 'blue')\n",
    "plt.yscale('log')\n",
    "plt.xscale('log')"
   ]
  },
  {
   "cell_type": "code",
   "execution_count": 15,
   "metadata": {},
   "outputs": [
    {
     "name": "stdout",
     "output_type": "stream",
     "text": [
      "0 ground_state_0\n"
     ]
    },
    {
     "name": "stderr",
     "output_type": "stream",
     "text": [
      "data/l2d_squared/ising/N=4096/cl0_sqLattice_p=0.1.bin: No such file or directory\n"
     ]
    },
    {
     "ename": "FileNotFoundError",
     "evalue": "[Errno 2] No such file or directory: 'data/l2d_squared/ising/N=4096/ene_sqLattice_p=0.1_T=0.1_SV1ad7dNjt.bin'",
     "output_type": "error",
     "traceback": [
      "\u001b[0;31m---------------------------------------------------------------------------\u001b[0m",
      "\u001b[0;31mFileNotFoundError\u001b[0m                         Traceback (most recent call last)",
      "\u001b[1;32m/home/opisthofulax/PhD/projects/complex-networks/LRG-Signed/notebooks/lattc2dsq_IsingDynamics_energy_comparison.ipynb Cell 5\u001b[0m line \u001b[0;36m2\n\u001b[1;32m     <a href='vscode-notebook-cell:/home/opisthofulax/PhD/projects/complex-networks/LRG-Signed/notebooks/lattc2dsq_IsingDynamics_energy_comparison.ipynb#X65sZmlsZQ%3D%3D?line=18'>19</a>\u001b[0m \u001b[39m# print(ising_dyn.s.reshape(5, 5))\u001b[39;00m\n\u001b[1;32m     <a href='vscode-notebook-cell:/home/opisthofulax/PhD/projects/complex-networks/LRG-Signed/notebooks/lattc2dsq_IsingDynamics_energy_comparison.ipynb#X65sZmlsZQ%3D%3D?line=19'>20</a>\u001b[0m enepath \u001b[39m=\u001b[39m \u001b[39mf\u001b[39m\u001b[39m\"\u001b[39m\u001b[39m{\u001b[39;00msqlatt\u001b[39m.\u001b[39misingpath\u001b[39m}\u001b[39;00m\u001b[39mene_\u001b[39m\u001b[39m{\u001b[39;00msqlatt\u001b[39m.\u001b[39mstdFname\u001b[39m}\u001b[39;00m\u001b[39m_T=\u001b[39m\u001b[39m{\u001b[39;00mising_dyn\u001b[39m.\u001b[39mT\u001b[39m}\u001b[39;00m\u001b[39m_\u001b[39m\u001b[39m{\u001b[39;00mising_dyn\u001b[39m.\u001b[39mid_string_isingdyn\u001b[39m}\u001b[39;00m\u001b[39m.bin\u001b[39m\u001b[39m\"\u001b[39m\n\u001b[0;32m---> <a href='vscode-notebook-cell:/home/opisthofulax/PhD/projects/complex-networks/LRG-Signed/notebooks/lattc2dsq_IsingDynamics_energy_comparison.ipynb#X65sZmlsZQ%3D%3D?line=20'>21</a>\u001b[0m ene \u001b[39m=\u001b[39m np\u001b[39m.\u001b[39;49mfromfile(enepath, dtype\u001b[39m=\u001b[39;49m\u001b[39mfloat\u001b[39;49m)\n\u001b[1;32m     <a href='vscode-notebook-cell:/home/opisthofulax/PhD/projects/complex-networks/LRG-Signed/notebooks/lattc2dsq_IsingDynamics_energy_comparison.ipynb#X65sZmlsZQ%3D%3D?line=21'>22</a>\u001b[0m energies\u001b[39m.\u001b[39mappend(ene)\n",
      "\u001b[0;31mFileNotFoundError\u001b[0m: [Errno 2] No such file or directory: 'data/l2d_squared/ising/N=4096/ene_sqLattice_p=0.1_T=0.1_SV1ad7dNjt.bin'"
     ]
    }
   ],
   "source": [
    "sqlatt.export_graph(MODE=\"pickle\")\n",
    "sqlatt.export_adj_bin()\n",
    "\n",
    "energies = []\n",
    "for rep in range(replica):\n",
    "    np.random.seed(rep)\n",
    "    random.seed(rep)\n",
    "    INIT_COND = f\"ground_state_{rep}\" if rep < NoEigen else \"uniform\"\n",
    "    print(rep, INIT_COND)\n",
    "    ising_dyn = IsingDynamics(\n",
    "        system=sqlatt, \n",
    "        T=T_ising, \n",
    "        nstepsIsing=100, \n",
    "        IsingIC=INIT_COND,\n",
    "        MODE_RUN=\"C0\", \n",
    "    )\n",
    "    ising_dyn.init_ising_dynamics()\n",
    "    ising_dyn.run()\n",
    "    # print(ising_dyn.s.reshape(5, 5))\n",
    "    enepath = f\"{sqlatt.isingpath}ene_{sqlatt.stdFname}_T={ising_dyn.T}_{ising_dyn.id_string_isingdyn}.bin\"\n",
    "    ene = np.fromfile(enepath, dtype=float)\n",
    "    energies.append(ene)"
   ]
  },
  {
   "cell_type": "code",
   "execution_count": 11,
   "metadata": {},
   "outputs": [
    {
     "name": "stderr",
     "output_type": "stream",
     "text": [
      "100%|██████████| 100/100 [00:08<00:00, 12.16it/s]\n",
      "100%|██████████| 100/100 [00:08<00:00, 12.27it/s]\n",
      "100%|██████████| 100/100 [00:08<00:00, 12.23it/s]\n",
      "100%|██████████| 100/100 [00:08<00:00, 12.17it/s]\n",
      "100%|██████████| 100/100 [00:08<00:00, 11.61it/s]\n",
      "100%|██████████| 100/100 [00:08<00:00, 11.56it/s]\n",
      "100%|██████████| 100/100 [00:08<00:00, 11.60it/s]\n",
      "100%|██████████| 100/100 [00:08<00:00, 11.42it/s]\n",
      "100%|██████████| 100/100 [00:08<00:00, 11.49it/s]\n",
      "100%|██████████| 100/100 [00:08<00:00, 11.25it/s]\n"
     ]
    }
   ],
   "source": [
    "\n",
    "\n",
    "\n",
    "nmax = 100\n",
    "extra_randinit = 5\n",
    "initIS = 'spectrum_5'\n",
    "\n",
    "def neigh_weight_magn(m, node_dict) -> list:\n",
    "    return [w[\"weight\"] * m[nn] for nn, w in node_dict.items()]\n",
    "\n",
    "def calcEnergy(m, H=sqlatt.H):\n",
    "    energy = 0\n",
    "    for i in range(sqlatt.N):\n",
    "        neigh=neigh_weight_magn(m, dict(H[i]))\n",
    "        energy += m[i]*np.sum(neigh)\n",
    "    return -energy/4.\n",
    "def __uniform_init():\n",
    "    return np.random.choice([-1,1], sqlatt.N)\n",
    "def __eigv_init(i=0):\n",
    "    return np.sign(sqlatt.eigV[i])\n",
    "\n",
    "if initIS.startswith('spectrum'):\n",
    "    states = int(initIS.split('_')[-1])\n",
    "    tot_init = extra_randinit+states\n",
    "    sqlatt.compute_k_eigvV(howmany=states)\n",
    "\n",
    "bigene = []\n",
    "bigmagn = []\n",
    "# labels = np.where((eigV[0] < 0))[0]\n",
    "for replica in range(states+extra_randinit):\n",
    "    magn = []\n",
    "    ene = []\n",
    "    if initIS == 'ground_state': \n",
    "        m = __eigv_init()\n",
    "    if initIS.startswith('spectrum'):\n",
    "        if replica < states: m = __eigv_init(replica)\n",
    "        else: m = __uniform_init()\n",
    "    elif initIS == 'uniform': \n",
    "        m = __uniform_init()\n",
    "    elif initIS == 'ground_state+uniform':\n",
    "        if replica: m = __uniform_init()\n",
    "        else: m = __eigv_init()\n",
    "    elif initIS == 'all_states':\n",
    "        if replica < sqlatt.N: m = __eigv_init(replica)\n",
    "        else: m = __uniform_init()\n",
    "    # sample = rd.sample(H.nodes, N)\n",
    "    sample = random.sample(list(sqlatt.H.nodes()), sqlatt.N)\n",
    "    for nsteps in tqdm(range(nmax)):\n",
    "        magn.append(np.sum(m))\n",
    "        ene.append(calcEnergy(m))\n",
    "        for i in range(sqlatt.N):\n",
    "            node=i\n",
    "            m_new = -m[node]\n",
    "\n",
    "            #Metropolis thing\n",
    "            neigh=neigh_weight_magn(m, dict(sqlatt.H[i]))\n",
    "            sumneigh = np.sum(np.sum(neigh))\n",
    "            E_old=-m[node]*sumneigh\n",
    "            E_new=-m_new*sumneigh\n",
    "\n",
    "            if E_new<E_old:\n",
    "                m[node]=m_new\n",
    "            else:\n",
    "                r=np.random.uniform(0, 1)\n",
    "                if (r<np.exp(-(E_new-E_old)/T_ising)):\n",
    "                    m[node]=m_new\n",
    "    bigmagn.append(m)\n",
    "    bigene.append(ene)\n"
   ]
  },
  {
   "cell_type": "code",
   "execution_count": 13,
   "metadata": {},
   "outputs": [
    {
     "data": {
      "image/png": "[encoded data removed]",
      "text/plain": [
       "<Figure size 640x480 with 1 Axes>"
      ]
     },
     "metadata": {},
     "output_type": "display_data"
    }
   ],
   "source": [
    "mine = np.array(bigene).flatten().min()\n",
    "plt.plot(np.array(bigene[0])-mine, c='k', ls='--')\n",
    "for i in range(1, tot_init):\n",
    "    plt.plot(np.array(bigene[i])-mine, color='red' if i < states else 'blue')\n",
    "plt.xscale('log')\n",
    "plt.ylabel('Energy')\n",
    "plt.xlabel('time')\n",
    "# plt.ylim([1,1e3])\n",
    "# plt.\n",
    "plt.yscale('log')"
   ]
  }
 ],
 "metadata": {
  "kernelspec": {
   "display_name": "LRG-Signed",
   "language": "python",
   "name": "python3"
  },
  "language_info": {
   "codemirror_mode": {
    "name": "ipython",
    "version": 3
   },
   "file_extension": ".py",
   "mimetype": "text/x-python",
   "name": "python",
   "nbconvert_exporter": "python",
   "pygments_lexer": "ipython3",
   "version": "3.9.16"
  },
  "orig_nbformat": 4
 },
 "nbformat": 4,
 "nbformat_minor": 2
}
