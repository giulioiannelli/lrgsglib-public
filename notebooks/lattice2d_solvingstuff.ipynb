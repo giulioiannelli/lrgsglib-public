{
 "cells": [
  {
   "cell_type": "code",
   "execution_count": 1,
   "metadata": {},
   "outputs": [
    {
     "name": "stdout",
     "output_type": "stream",
     "text": [
      "cwd: /home/opisthofulax/PhD/projects/complex-networks/LRG-Signed\n"
     ]
    }
   ],
   "source": [
    "%matplotlib inline\n",
    "#\n",
    "from os import chdir, getcwd\n",
    "ROOTF = 'LRG-Signed'\n",
    "if getcwd()[-len(ROOTF):] != ROOTF:\n",
    "    chdir('../')\n",
    "print('cwd:', getcwd())\n",
    "#\n",
    "from src.LRGSG_package.LRGSG import *"
   ]
  },
  {
   "cell_type": "code",
   "execution_count": 12,
   "metadata": {},
   "outputs": [
    {
     "name": "stdout",
     "output_type": "stream",
     "text": [
      "dict_items([((1, 1), 0), ((0, 1), 1), ((1, 0), 1), ((1, 2), 1), ((2, 1), 1), ((0, 0), 2), ((2, 0), 2), ((0, 2), 2), ((2, 2), 2)])\n",
      "0 4\n",
      "1 1\n",
      "1 3\n",
      "1 5\n",
      "1 7\n",
      "2 0\n",
      "2 6\n",
      "2 2\n",
      "2 8\n",
      "[0.0, 0.0, 0.0, 0.0, 0.0, 0.0, 0.0, 0.0, 0.0]\n"
     ]
    }
   ],
   "source": [
    "def tuple_to_index(position, shape):\n",
    "    \"\"\"Converts a tuple index to a linear index.\"\"\"\n",
    "    return position[0] * shape[1] + position[1]\n",
    "\n",
    "\n",
    "def radial_correlation(field, neighbor_dict, central_index):\n",
    "    # Flatten the field array\n",
    "    flattened_field = field.flatten()\n",
    "    # Compute the mean of the field values\n",
    "    mean_field = np.mean(flattened_field)\n",
    "    # Compute the correlation function\n",
    "    correlation = []\n",
    "    for ord in range(1, int(np.sqrt(len(flattened_field)))):\n",
    "        kth_order_neighbors = [n for n, d in neighbor_dict.items() if d == ord]\n",
    "        for neighbor_index in kth_order_neighbors:\n",
    "            correlations_node = []\n",
    "            correlation_node = np.mean((flattened_field[central_index] - mean_field) * flattened_field[neighbor_index]) / np.std(flattened_field) ** 2\n",
    "            correlations_node.append(correlation_node)\n",
    "        correlation.append([ord, np.mean(correlations_node)])\n",
    "\n",
    "    return correlation\n",
    "\n",
    "\n",
    "# Create the underlying graph\n",
    "G = nx.grid_2d_graph(3, 3, periodic=True)\n",
    "\n",
    "# Choose a central point to compute correlation with respect to\n",
    "central_point = (1, 1)\n",
    "\n",
    "# Compute the neighbor dictionary\n",
    "neighbor_dict = nx.single_source_shortest_path_length(G, central_point)\n",
    "\n",
    "# Create a field array for testing\n",
    "field_array = np.array([[1, 2, 3], [4, 5, 6], [7, 8, 9]])  # Replace with your field array\n",
    "\n",
    "correlation_values = radial_correlation(field_array, neighbor_dict, central_point)\n",
    "print(correlation_values)\n"
   ]
  }
 ],
 "metadata": {
  "kernelspec": {
   "display_name": "MARTEC-disc",
   "language": "python",
   "name": "python3"
  },
  "language_info": {
   "codemirror_mode": {
    "name": "ipython",
    "version": 3
   },
   "file_extension": ".py",
   "mimetype": "text/x-python",
   "name": "python",
   "nbconvert_exporter": "python",
   "pygments_lexer": "ipython3",
   "version": "3.9.16"
  },
  "orig_nbformat": 4
 },
 "nbformat": 4,
 "nbformat_minor": 2
}
