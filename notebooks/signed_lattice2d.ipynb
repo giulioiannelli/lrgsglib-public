{
 "cells": [
  {
   "attachments": {},
   "cell_type": "markdown",
   "metadata": {},
   "source": [
    "# $2D\\pm J$ Lattice SLRG Analysis Jupyter Notebook"
   ]
  },
  {
   "cell_type": "code",
   "execution_count": 1,
   "metadata": {},
   "outputs": [
    {
     "name": "stdout",
     "output_type": "stream",
     "text": [
      "cwd: /home/opisthofulax/PhD/projects/complex-networks/LRG-Signed\n"
     ]
    }
   ],
   "source": [
    "%matplotlib inline\n",
    "#\n",
    "from os import chdir, getcwd\n",
    "ROOTF = 'LRG-Signed'\n",
    "if getcwd()[-len(ROOTF):] != ROOTF:\n",
    "    chdir('../')\n",
    "print('cwd:', getcwd())\n",
    "#\n",
    "from src.LRGSG_package.LRGSG import *\n",
    "# plt.style.use(\"notebooks/nb_plotsheet.mplstyle\")"
   ]
  },
  {
   "attachments": {},
   "cell_type": "markdown",
   "metadata": {},
   "source": [
    "## Squared 2D Lattice"
   ]
  },
  {
   "cell_type": "code",
   "execution_count": 3,
   "metadata": {},
   "outputs": [],
   "source": [
    "#\n",
    "STEPS = 1500\n",
    "SPIKE_THRESHOLD = 0.1\n",
    "TAUSTOPEXT = 5\n",
    "GEOMETRY = 'squared'\n",
    "#\n",
    "pow2_m, pow2_M, pow2_A = 10, 11, 16\n",
    "ssize_range = range(pow2_m, pow2_M, 2)\n",
    "asize_range = range(pow2_m, pow2_M, 1)[:len(ssize_range)]\n",
    "#\n",
    "lsN = np.array([2**i for i in ssize_range])\n",
    "lsL = np.sqrt(lsN).astype('int')\n",
    "lsA = np.array([1000 for i in range(len(ssize_range))])\n",
    "#lsA = np.array([2**(pow2_A-i) for i in asize_range])"
   ]
  },
  {
   "attachments": {},
   "cell_type": "markdown",
   "metadata": {},
   "source": [
    "### Plot per system size $L$ and flip probability $p_{\\rm flip}$"
   ]
  },
  {
   "cell_type": "code",
   "execution_count": 9,
   "metadata": {},
   "outputs": [],
   "source": [
    "datpath = f\"{datPath_l2d(GEOMETRY)}\"\n",
    "plotpath = f\"{pltPath_l2d(GEOMETRY)}\"\n",
    "peakPosition = {iN: [] for iN in lsN}\n",
    "tauDistribut = {iN: {} for iN in lsN}\n",
    "#\n",
    "fig_ext, ax_ext = plt.subplots(figsize=(16,10))\n",
    "for iL, iN, iA in zip(lsL, lsN, lsA):\n",
    "    #\n",
    "    path = f\"{datpath}N={iN}_navg={iA}/\"\n",
    "    lsp = lsp_read_values(path)\n",
    "    lattice = Lattice2D(#\n",
    "        side1 = iL,\n",
    "        geometry = GEOMETRY,\n",
    "        t2 = TAUSTOPEXT\n",
    "    )\n",
    "    fig_2, ax_2 = plt.subplots(figsize=(16,10))\n",
    "    Cspe_plot_ax(ax_2)\n",
    "    #\n",
    "    taudist_mean = []\n",
    "    for pflip in lsp:\n",
    "        savename = lambda idstr : f\"{path}p={pflip:{pflip_fmt}}_{idstr}{eBIN}\"\n",
    "        if not os.path.exists(savename('Sm1')):\n",
    "            continue\n",
    "        if not os.path.isdir((plpath := f\"{pltPath_l2d(GEOMETRY)}N={iN}_navg={iA}/\")):\n",
    "            os.makedirs(plpath)\n",
    "        #\n",
    "        t = np.logspace(-2, TAUSTOPEXT, STEPS)\n",
    "        Sm1FromFile = np.fromfile(savename('Sm1')).reshape(iA, STEPS)\n",
    "        CspecFromFile = np.log(iN) * np.diff(Sm1FromFile, axis=1)/np.diff(np.log(t))\n",
    "        CspecAvg = CspecFromFile.mean(axis=0)\n",
    "        #\n",
    "        fig, ax = plt.subplots(figsize=(16,10))\n",
    "        #\n",
    "        Cspe_plot_ax(ax)\n",
    "        #\n",
    "        ax.plot(t[:-1], CspecFromFile.T)\n",
    "        ax.plot(t[:-1], CspecAvg, 'k--', lw=2)\n",
    "        ccp = ax_2.plot(t[:-1], CspecAvg, c='k' if pflip < lattice.p_c else 'r')\n",
    "        #\n",
    "        full_arr_max = np.array([argrelextrema(i, np.greater)[0][0] \n",
    "                                 for i in CspecFromFile])\n",
    "        # print(full_arr_max, full_arr_max.shape, CspecFromFile.shape)\n",
    "        taudist = t[full_arr_max]\n",
    "        taudist_mean.append(np.mean(taudist))\n",
    "        # tauDistribut[iN][pflip] = taudist\n",
    "        fig_3, ax_3 = plt.subplots(figsize=(16,10))\n",
    "        #qui c'e da fare il lettore di tutti i picchi per ciascuna curva e poi\n",
    "        # vederne la distribuzione!\n",
    "        # Log binning parameters\n",
    "        bin_centers, hist, bw = log_binning(taudist, 30)\n",
    "        # Perform log binning\n",
    "        ax_3.plot(bin_centers, hist, 'o-')\n",
    "        # ax_3.hist(taudist, bins=20)\n",
    "        ax_3.set_yscale('log')\n",
    "        ax_3.set_xscale('log')\n",
    "        fig_3.savefig(f\"{plpath}p={pflip:{pflip_fmt}}_P(tau).pdf\", bbox_inches='tight')\n",
    "        fig_3.clear()\n",
    "        plt.close(fig_3)\n",
    "        arr_max = argrelextrema(CspecAvg, np.greater)[0]\n",
    "        for idx in arr_max[CspecAvg[arr_max] > 0.2]:\n",
    "            ax.axvline(t[idx], c='r', lw=1)\n",
    "        ax_2.axvline(t[arr_max[0]], c=ccp[0].get_color(), lw=1)\n",
    "        peakPosition[iN].append([pflip, t[np.min(arr_max)]])\n",
    "        #\n",
    "        fig.savefig(f\"{plpath}p={pflip:{pflip_fmt}}_<C>.pdf\", bbox_inches='tight')\n",
    "        fig.clear()\n",
    "        plt.close(fig)\n",
    "\n",
    "    ax_ext.plot(lsp, taudist_mean, label=fr\"$N = {iN}$\")\n",
    "    peakPosition[iN] = np.array(peakPosition[iN])\n",
    "    fig_2.savefig(f\"{plpath}<C>.pdf\", bbox_inches='tight')\n",
    "    fig_2.clear()\n",
    "    plt.close(fig_2)\n",
    "ax_ext.set_xscale('log')\n",
    "fig_ext.savefig(f\"{plotpath}fss_tau.pdf\", bbox_inches='tight')\n",
    "fig_ext.clear()\n",
    "plt.close(fig_ext)\n",
    "plt.close('all')"
   ]
  },
  {
   "cell_type": "code",
   "execution_count": 8,
   "metadata": {},
   "outputs": [
    {
     "data": {
      "text/plain": [
       "array([  2.95334064, 331.3957221 ])"
      ]
     },
     "execution_count": 8,
     "metadata": {},
     "output_type": "execute_result"
    }
   ],
   "source": [
    "t[arr_max[CspecAvg[arr_max] > 0.2]]"
   ]
  },
  {
   "cell_type": "code",
   "execution_count": 10,
   "metadata": {},
   "outputs": [
    {
     "ename": "NameError",
     "evalue": "name 'Pinf1' is not defined",
     "output_type": "error",
     "traceback": [
      "\u001b[0;31m---------------------------------------------------------------------------\u001b[0m",
      "\u001b[0;31mNameError\u001b[0m                                 Traceback (most recent call last)",
      "\u001b[1;32m/home/opisthofulax/PhD/projects/complex-networks/LRG-Signed/notebooks/signed_lattice2d.ipynb Cell 10\u001b[0m in \u001b[0;36m<cell line: 1>\u001b[0;34m()\u001b[0m\n\u001b[0;32m----> <a href='vscode-notebook-cell:/home/opisthofulax/PhD/projects/complex-networks/LRG-Signed/notebooks/signed_lattice2d.ipynb#Y100sZmlsZQ%3D%3D?line=0'>1</a>\u001b[0m n1, bins1\u001b[39m=\u001b[39m np\u001b[39m.\u001b[39mhistogram(Pinf1,density\u001b[39m=\u001b[39m\u001b[39mTrue\u001b[39;00m,bins\u001b[39m=\u001b[39mnp\u001b[39m.\u001b[39mlogspace(\u001b[39m-\u001b[39m\u001b[39m2\u001b[39m,\u001b[39m0\u001b[39m,\u001b[39m50\u001b[39m))\n\u001b[1;32m      <a href='vscode-notebook-cell:/home/opisthofulax/PhD/projects/complex-networks/LRG-Signed/notebooks/signed_lattice2d.ipynb#Y100sZmlsZQ%3D%3D?line=1'>2</a>\u001b[0m ns1 \u001b[39m=\u001b[39m gaussian_filter1d(n1, sigma\u001b[39m=\u001b[39m\u001b[39m0.01\u001b[39m)\n\u001b[1;32m      <a href='vscode-notebook-cell:/home/opisthofulax/PhD/projects/complex-networks/LRG-Signed/notebooks/signed_lattice2d.ipynb#Y100sZmlsZQ%3D%3D?line=2'>3</a>\u001b[0m ns21\u001b[39m=\u001b[39m\u001b[39m-\u001b[39mnp\u001b[39m.\u001b[39mlog(ns1)\n",
      "\u001b[0;31mNameError\u001b[0m: name 'Pinf1' is not defined"
     ]
    }
   ],
   "source": [
    "# n1, bins1= np.histogram(Pinf1,density=True,bins=np.logspace(-2,0,50))\n",
    "# ns1 = gaussian_filter1d(n1, sigma=0.01)\n",
    "ns21=-np.log(ns1)\n",
    "plt.plot(bins1[:-1],ns21,lw=3,color=pal.pop(0),label='K=1',zorder=4)"
   ]
  },
  {
   "cell_type": "code",
   "execution_count": 18,
   "metadata": {},
   "outputs": [
    {
     "data": {
      "text/plain": [
       "(array([ 11.37137493,  14.49025862,  18.4645741 ,  23.5289449 ,\n",
       "         29.98234593,  38.20575343,  48.6846359 ,  62.03761371,\n",
       "         79.05297933, 100.7352341 , 128.364389  , 163.57152996,\n",
       "        208.435109  , 265.60364554, 338.45208162, 431.28102147,\n",
       "        549.57061746, 700.30409071, 892.37998518]),\n",
       " array([ 0,  0,  0,  0,  0,  0,  6, 23, 34, 36, 17,  7,  4,  1,  0,  0,  0,\n",
       "         0,  0]),\n",
       " array([  22.74274986,   28.98051725,   36.9291482 ,   47.0578898 ,\n",
       "          59.96469185,   76.41150685,   97.3692718 ,  124.07522743,\n",
       "         158.10595866,  201.47046821,  256.728778  ,  327.14305991,\n",
       "         416.87021799,  531.20729107,  676.90416324,  862.56204293,\n",
       "        1099.14123492, 1400.60818142, 1784.75997035]))"
      ]
     },
     "execution_count": 18,
     "metadata": {},
     "output_type": "execute_result"
    }
   ],
   "source": [
    "log_binning(taudist, 20)"
   ]
  },
  {
   "cell_type": "code",
   "execution_count": 26,
   "metadata": {},
   "outputs": [
    {
     "data": {
      "image/png": "[encoded data removed]",
      "text/plain": [
       "<Figure size 432x288 with 1 Axes>"
      ]
     },
     "metadata": {
      "needs_background": "light"
     },
     "output_type": "display_data"
    }
   ],
   "source": [
    "bin_centers, hist, width = log_binning(taudist, 20)\n",
    "plt.plot(bin_centers, hist)\n",
    "plt.yscale('log')"
   ]
  },
  {
   "cell_type": "code",
   "execution_count": 11,
   "metadata": {},
   "outputs": [
    {
     "data": {
      "text/plain": [
       "[1.1637836725438908,\n",
       " 1.1476874708954252,\n",
       " 1.1210569894922016,\n",
       " 1.078850163010645,\n",
       " 1.0404033810986335,\n",
       " 1.151934630672347,\n",
       " 1.5970175533059296,\n",
       " 1.691611218317159,\n",
       " 1.7493720356706866,\n",
       " 1.734677689941837,\n",
       " 1.830887654585333,\n",
       " 1.7629192805531793,\n",
       " 1.7946921562553784,\n",
       " 2.1133268875585847,\n",
       " 2.2206570915140444,\n",
       " 2.248403829464836,\n",
       " 2.2637982156306466]"
      ]
     },
     "execution_count": 11,
     "metadata": {},
     "output_type": "execute_result"
    }
   ],
   "source": [
    "taudist_mean"
   ]
  },
  {
   "cell_type": "code",
   "execution_count": 3,
   "metadata": {},
   "outputs": [
    {
     "data": {
      "text/plain": [
       "array([8.25, 8.25])"
      ]
     },
     "execution_count": 3,
     "metadata": {},
     "output_type": "execute_result"
    }
   ],
   "source": [
    "import numpy as np\n",
    "np.mean([[1, 23, 4, 5], [1, 23, 4, 5]], axis=1)"
   ]
  },
  {
   "attachments": {},
   "cell_type": "markdown",
   "metadata": {},
   "source": [
    "____"
   ]
  },
  {
   "cell_type": "code",
   "execution_count": 10,
   "metadata": {},
   "outputs": [
    {
     "data": {
      "text/plain": [
       "<matplotlib.lines.Line2D at 0x7f3c0be8cee0>"
      ]
     },
     "execution_count": 10,
     "metadata": {},
     "output_type": "execute_result"
    },
    {
     "data": {
      "image/png": "[encoded data removed]",
      "text/plain": [
       "<Figure size 1152x720 with 1 Axes>"
      ]
     },
     "metadata": {
      "needs_background": "light"
     },
     "output_type": "display_data"
    }
   ],
   "source": [
    "fig, ax = plt.subplots(figsize=(16,10))\n",
    "for key in peakPosition:\n",
    "    plt.plot(peakPosition[key][:,0], peakPosition[key][:,1], 'o-')\n",
    "ax.axvline(lattice.p_c, c='k')\n",
    "# ax.set_yscale('log')"
   ]
  },
  {
   "attachments": {},
   "cell_type": "markdown",
   "metadata": {},
   "source": [
    "## Triangular 2D Lattice"
   ]
  },
  {
   "cell_type": "code",
   "execution_count": 10,
   "metadata": {},
   "outputs": [],
   "source": [
    "#\n",
    "STEPS = 1500\n",
    "SPIKE_THRESHOLD = 0.1\n",
    "TAUSTOPEXT = 4\n",
    "GEOMETRY = 'triangular'\n",
    "#\n",
    "pow2_m, pow2_M, pow2_A = 6, 14, 16\n",
    "ssize_range = range(pow2_m, pow2_M, 2)\n",
    "asize_range = range(pow2_m, pow2_M, 1)[:len(ssize_range)]\n",
    "#\n",
    "lsN = np.array([2**i for i in ssize_range])\n",
    "lsL = np.sqrt(lsN).astype('int')\n",
    "lsA = np.array([2**(pow2_A-i) for i in asize_range])\n",
    "lsp = np.round([0.001, 0.01, 0.025, 0.05, 0.075, 0.085, 0.095, 0.098, 0.100, \n",
    "                0.102, 0.104, 0.106, 0.11, 0.2, 0.3, 0.4, 0.5], 3)"
   ]
  },
  {
   "attachments": {},
   "cell_type": "markdown",
   "metadata": {},
   "source": [
    "### Plot per system size $L$ and flip probability $p_{\\rm flip}$"
   ]
  },
  {
   "cell_type": "code",
   "execution_count": 11,
   "metadata": {},
   "outputs": [],
   "source": [
    "peakPosition = {iN: [] for iN in lsN}\n",
    "for iL, iN, iA in zip(lsL, lsN, lsA):\n",
    "    #\n",
    "    path = f\"{datPath_l2d(GEOMETRY)}N={iN}_navg={iA}/\"\n",
    "    lattice = Lattice2D(#\n",
    "        side1 = iL,\n",
    "        geometry = GEOMETRY\n",
    "    )\n",
    "    fig_2, ax_2 = plt.subplots(figsize=(16,10))\n",
    "    Cspe_plot_ax(ax_2)\n",
    "    #\n",
    "    for pflip in lsp:\n",
    "        savename = lambda idstr : f\"{path}p={pflip:{pflip_fmt}}_{idstr}{eBIN}\"\n",
    "        if not os.path.exists(savename('Sm1')):\n",
    "            continue\n",
    "        plpath = f\"{pltPath_l2d(GEOMETRY)}N={iN}_navg={iA}/\"\n",
    "        if not os.path.isdir(plpath):\n",
    "            os.makedirs(plpath)\n",
    "        #\n",
    "        t = np.logspace(-2, TAUSTOPEXT, STEPS)\n",
    "        Sm1FromFile = np.fromfile(savename('Sm1')).reshape(iA, STEPS)\n",
    "        CspecFromFile = np.log(iN) * np.diff(Sm1FromFile, axis=1)/np.diff(np.log(t))\n",
    "        CspecAvg = CspecFromFile.mean(axis=0)\n",
    "        #\n",
    "        fig, ax = plt.subplots(figsize=(16,10))\n",
    "        Cspe_plot_ax(ax)\n",
    "        #\n",
    "        ax.plot(t[:-1], CspecFromFile.T)\n",
    "        ax.plot(t[:-1], CspecAvg, 'k--', lw=2)\n",
    "        ccp = ax_2.plot(t[:-1], CspecAvg, c='k' if pflip < lattice.p_c else 'r')\n",
    "        #\n",
    "        arr_max = argrelextrema(CspecAvg, np.greater)[0]\n",
    "        for idx in arr_max[CspecAvg[arr_max] > 0.5]:\n",
    "            ax.axvline(t[idx], c='r', lw=1)\n",
    "            ax_2.axvline(t[idx], c='k' if pflip < lattice.p_c else 'r', lw=1)\n",
    "        peakPosition[iN].append([pflip, t[np.min(arr_max)]])\n",
    "        #\n",
    "        fig.savefig(f\"{plpath}p={pflip:{pflip_fmt}}_<C>.pdf\", bbox_inches='tight')\n",
    "        fig.clear()\n",
    "        plt.close(fig)\n",
    "    fig_2.savefig(f\"{plpath}<C>.pdf\", bbox_inches='tight')\n",
    "    fig_2.clear()\n",
    "    plt.close(fig_2)"
   ]
  },
  {
   "cell_type": "code",
   "execution_count": 8,
   "metadata": {},
   "outputs": [
    {
     "data": {
      "image/png": "[encoded data removed]",
      "text/plain": [
       "<Figure size 432x288 with 1 Axes>"
      ]
     },
     "metadata": {
      "needs_background": "light"
     },
     "output_type": "display_data"
    }
   ],
   "source": [
    "for key in peakPosition:\n",
    "    peakPosition[key] = np.array(peakPosition[key])\n",
    "for key in peakPosition:\n",
    "    plt.plot(peakPosition[key][:,0], peakPosition[key][:,1], 'o-')\n",
    "plt.axvline(0.146)\n",
    "plt.yscale('log')"
   ]
  },
  {
   "attachments": {},
   "cell_type": "markdown",
   "metadata": {},
   "source": [
    "___"
   ]
  },
  {
   "cell_type": "code",
   "execution_count": null,
   "metadata": {},
   "outputs": [],
   "source": []
  },
  {
   "cell_type": "code",
   "execution_count": 27,
   "metadata": {},
   "outputs": [
    {
     "name": "stdout",
     "output_type": "stream",
     "text": [
      "Value: 0.001\n",
      "Data:\n",
      "[[2.40431047e-05 2.44903660e-05 2.49459468e-05 ... 1.00000000e+00\n",
      "  1.00000000e+00 1.00000000e+00]\n",
      " [2.40431047e-05 2.44903660e-05 2.49459468e-05 ... 1.00000000e+00\n",
      "  1.00000000e+00 1.00000000e+00]\n",
      " [2.40431047e-05 2.44903660e-05 2.49459468e-05 ... 1.00000000e+00\n",
      "  1.00000000e+00 1.00000000e+00]\n",
      " ...\n",
      " [2.40431047e-05 2.44903660e-05 2.49459468e-05 ... 1.00000000e+00\n",
      "  1.00000000e+00 1.00000000e+00]\n",
      " [2.40431047e-05 2.44903660e-05 2.49459468e-05 ... 1.00000000e+00\n",
      "  1.00000000e+00 1.00000000e+00]\n",
      " [2.40431047e-05 2.44903660e-05 2.49459468e-05 ... 1.00000000e+00\n",
      "  1.00000000e+00 1.00000000e+00]]\n",
      "---\n",
      "Value: 0.01\n",
      "Data:\n",
      "[[2.40424744e-05 2.44897120e-05 2.49452683e-05 ... 1.00000000e+00\n",
      "  1.00000000e+00 1.00000000e+00]\n",
      " [2.40424920e-05 2.44897303e-05 2.49452872e-05 ... 1.00000000e+00\n",
      "  1.00000000e+00 1.00000000e+00]\n",
      " [2.40424767e-05 2.44897144e-05 2.49452708e-05 ... 1.00000000e+00\n",
      "  1.00000000e+00 1.00000000e+00]\n",
      " ...\n",
      " [2.40424732e-05 2.44897108e-05 2.49452670e-05 ... 1.00000000e+00\n",
      "  1.00000000e+00 1.00000000e+00]\n",
      " [2.40424885e-05 2.44897266e-05 2.49452834e-05 ... 1.00000000e+00\n",
      "  1.00000000e+00 1.00000000e+00]\n",
      " [2.40424720e-05 2.44897096e-05 2.49452657e-05 ... 1.00000000e+00\n",
      "  1.00000000e+00 1.00000000e+00]]\n",
      "---\n",
      "Value: 0.025\n",
      "Data:\n",
      "[[2.40419321e-05 2.44891493e-05 2.49446845e-05 ... 1.00000000e+00\n",
      "  1.00000000e+00 1.00000000e+00]\n",
      " [2.40419227e-05 2.44891396e-05 2.49446744e-05 ... 1.00000000e+00\n",
      "  1.00000000e+00 1.00000000e+00]\n",
      " [2.40419473e-05 2.44891652e-05 2.49447009e-05 ... 1.00000000e+00\n",
      "  1.00000000e+00 1.00000000e+00]\n",
      " ...\n",
      " [2.40419227e-05 2.44891396e-05 2.49446744e-05 ... 1.00000000e+00\n",
      "  1.00000000e+00 1.00000000e+00]\n",
      " [2.40419027e-05 2.44891189e-05 2.49446529e-05 ... 1.00000000e+00\n",
      "  1.00000000e+00 1.00000000e+00]\n",
      " [2.40419027e-05 2.44891189e-05 2.49446529e-05 ... 1.00000000e+00\n",
      "  1.00000000e+00 1.00000000e+00]]\n",
      "---\n",
      "Value: 0.05\n",
      "Data:\n",
      "[[2.40424040e-05 2.44896389e-05 2.49451924e-05 ... 1.00000000e+00\n",
      "  1.00000000e+00 1.00000000e+00]\n",
      " [2.40423875e-05 2.44896219e-05 2.49451748e-05 ... 1.00000000e+00\n",
      "  1.00000000e+00 1.00000000e+00]\n",
      " [2.40423687e-05 2.44896024e-05 2.49451545e-05 ... 1.00000000e+00\n",
      "  1.00000000e+00 1.00000000e+00]\n",
      " ...\n",
      " [2.40423711e-05 2.44896048e-05 2.49451571e-05 ... 1.00000000e+00\n",
      "  1.00000000e+00 1.00000000e+00]\n",
      " [2.40423840e-05 2.44896182e-05 2.49451710e-05 ... 1.00000000e+00\n",
      "  1.00000000e+00 1.00000000e+00]\n",
      " [2.40424075e-05 2.44896426e-05 2.49451962e-05 ... 1.00000000e+00\n",
      "  1.00000000e+00 1.00000000e+00]]\n",
      "---\n",
      "Value: 0.075\n",
      "Data:\n",
      "[[2.40425284e-05 2.44897680e-05 2.49453264e-05 ... 1.00000000e+00\n",
      "  1.00000000e+00 1.00000000e+00]\n",
      " [2.40425389e-05 2.44897790e-05 2.49453378e-05 ... 1.00000000e+00\n",
      "  1.00000000e+00 1.00000000e+00]\n",
      " [2.40425495e-05 2.44897900e-05 2.49453491e-05 ... 1.00000000e+00\n",
      "  1.00000000e+00 1.00000000e+00]\n",
      " ...\n",
      " [2.40425272e-05 2.44897668e-05 2.49453251e-05 ... 1.00000000e+00\n",
      "  1.00000000e+00 1.00000000e+00]\n",
      " [2.40425413e-05 2.44897814e-05 2.49453403e-05 ... 1.00000000e+00\n",
      "  1.00000000e+00 1.00000000e+00]\n",
      " [2.40425260e-05 2.44897656e-05 2.49453239e-05 ... 1.00000000e+00\n",
      "  1.00000000e+00 1.00000000e+00]]\n",
      "---\n",
      "Value: 0.085\n",
      "Data:\n",
      "[[2.40428934e-05 2.44901468e-05 2.49457194e-05 ... 1.00000000e+00\n",
      "  1.00000000e+00 1.00000000e+00]\n",
      " [2.40428911e-05 2.44901444e-05 2.49457168e-05 ... 1.00000000e+00\n",
      "  1.00000000e+00 1.00000000e+00]\n",
      " [2.40428911e-05 2.44901444e-05 2.49457168e-05 ... 1.00000000e+00\n",
      "  1.00000000e+00 1.00000000e+00]\n",
      " ...\n",
      " [2.40428899e-05 2.44901431e-05 2.49457156e-05 ... 1.00000000e+00\n",
      "  1.00000000e+00 1.00000000e+00]\n",
      " [2.40428923e-05 2.44901456e-05 2.49457181e-05 ... 1.00000000e+00\n",
      "  1.00000000e+00 1.00000000e+00]\n",
      " [2.40428876e-05 2.44901407e-05 2.49457131e-05 ... 1.00000000e+00\n",
      "  1.00000000e+00 1.00000000e+00]]\n",
      "---\n",
      "Value: 0.095\n",
      "Data:\n",
      "[[2.40430226e-05 2.44902808e-05 2.49458584e-05 ... 1.00000000e+00\n",
      "  1.00000000e+00 1.00000000e+00]\n",
      " [2.40430190e-05 2.44902771e-05 2.49458546e-05 ... 1.00000000e+00\n",
      "  1.00000000e+00 1.00000000e+00]\n",
      " [2.40430226e-05 2.44902808e-05 2.49458584e-05 ... 1.00000000e+00\n",
      "  1.00000000e+00 1.00000000e+00]\n",
      " ...\n",
      " [2.40430202e-05 2.44902783e-05 2.49458558e-05 ... 1.00000000e+00\n",
      "  1.00000000e+00 1.00000000e+00]\n",
      " [2.40430202e-05 2.44902783e-05 2.49458558e-05 ... 1.00000000e+00\n",
      "  1.00000000e+00 1.00000000e+00]\n",
      " [2.40430226e-05 2.44902808e-05 2.49458584e-05 ... 1.00000000e+00\n",
      "  1.00000000e+00 1.00000000e+00]]\n",
      "---\n",
      "Value: 0.098\n",
      "Data:\n",
      "[[2.40418922e-05 2.44891079e-05 2.49446415e-05 ... 1.00000000e+00\n",
      "  1.00000000e+00 1.00000000e+00]\n",
      " [2.40419074e-05 2.44891238e-05 2.49446579e-05 ... 1.00000000e+00\n",
      "  1.00000000e+00 1.00000000e+00]\n",
      " [2.40419215e-05 2.44891384e-05 2.49446731e-05 ... 1.00000000e+00\n",
      "  1.00000000e+00 1.00000000e+00]\n",
      " ...\n",
      " [2.40419027e-05 2.44891189e-05 2.49446529e-05 ... 1.00000000e+00\n",
      "  1.00000000e+00 1.00000000e+00]\n",
      " [2.40419110e-05 2.44891274e-05 2.49446617e-05 ... 1.00000000e+00\n",
      "  1.00000000e+00 1.00000000e+00]\n",
      " [2.40418969e-05 2.44891128e-05 2.49446466e-05 ... 1.00000000e+00\n",
      "  1.00000000e+00 1.00000000e+00]]\n",
      "---\n",
      "Value: 0.1\n",
      "Data:\n",
      "[[2.40424086e-05 2.44896438e-05 2.49451975e-05 ... 1.00000000e+00\n",
      "  1.00000000e+00 1.00000000e+00]\n",
      " [2.40424110e-05 2.44896462e-05 2.49452000e-05 ... 1.00000000e+00\n",
      "  1.00000000e+00 1.00000000e+00]\n",
      " [2.40424169e-05 2.44896523e-05 2.49452063e-05 ... 1.00000000e+00\n",
      "  1.00000000e+00 1.00000000e+00]\n",
      " ...\n",
      " [2.40424133e-05 2.44896487e-05 2.49452026e-05 ... 1.00000000e+00\n",
      "  1.00000000e+00 1.00000000e+00]\n",
      " [2.40424204e-05 2.44896560e-05 2.49452101e-05 ... 1.00000000e+00\n",
      "  1.00000000e+00 1.00000000e+00]\n",
      " [2.40424263e-05 2.44896621e-05 2.49452165e-05 ... 1.00000000e+00\n",
      "  1.00000000e+00 1.00000000e+00]]\n",
      "---\n",
      "Value: 0.102\n",
      "Data:\n",
      "[[2.40419532e-05 2.44891713e-05 2.49447072e-05 ... 1.00000000e+00\n",
      "  1.00000000e+00 1.00000000e+00]\n",
      " [2.40419462e-05 2.44891640e-05 2.49446996e-05 ... 1.00000000e+00\n",
      "  1.00000000e+00 1.00000000e+00]\n",
      " [2.40419391e-05 2.44891567e-05 2.49446921e-05 ... 1.00000000e+00\n",
      "  1.00000000e+00 1.00000000e+00]\n",
      " ...\n",
      " [2.40419614e-05 2.44891798e-05 2.49447161e-05 ... 1.00000000e+00\n",
      "  1.00000000e+00 1.00000000e+00]\n",
      " [2.40419567e-05 2.44891749e-05 2.49447110e-05 ... 1.00000000e+00\n",
      "  1.00000000e+00 1.00000000e+00]\n",
      " [2.40418922e-05 2.44891079e-05 2.49446415e-05 ... 1.00000000e+00\n",
      "  1.00000000e+00 1.00000000e+00]]\n",
      "---\n",
      "Value: 0.104\n",
      "Data:\n",
      "[[2.40420518e-05 2.44892736e-05 2.49448134e-05 ... 1.00000000e+00\n",
      "  1.00000000e+00 1.00000000e+00]\n",
      " [2.40420589e-05 2.44892809e-05 2.49448209e-05 ... 1.00000000e+00\n",
      "  1.00000000e+00 1.00000000e+00]\n",
      " [2.40421093e-05 2.44893332e-05 2.49448753e-05 ... 1.00000000e+00\n",
      "  1.00000000e+00 1.00000000e+00]\n",
      " ...\n",
      " [2.40420459e-05 2.44892675e-05 2.49448070e-05 ... 1.00000000e+00\n",
      "  1.00000000e+00 1.00000000e+00]\n",
      " [2.40420859e-05 2.44893089e-05 2.49448500e-05 ... 1.00000000e+00\n",
      "  1.00000000e+00 1.00000000e+00]\n",
      " [2.40420823e-05 2.44893052e-05 2.49448462e-05 ... 1.00000000e+00\n",
      "  1.00000000e+00 1.00000000e+00]]\n",
      "---\n",
      "Value: 0.106\n",
      "Data:\n",
      "[[2.40424016e-05 2.44896365e-05 2.49451899e-05 ... 1.00000000e+00\n",
      "  1.00000000e+00 1.00000000e+00]\n",
      " [2.40423840e-05 2.44896182e-05 2.49451710e-05 ... 1.00000000e+00\n",
      "  1.00000000e+00 1.00000000e+00]\n",
      " [2.40423746e-05 2.44896085e-05 2.49451609e-05 ... 1.00000000e+00\n",
      "  1.00000000e+00 1.00000000e+00]\n",
      " ...\n",
      " [2.40424180e-05 2.44896535e-05 2.49452076e-05 ... 1.00000000e+00\n",
      "  1.00000000e+00 1.00000000e+00]\n",
      " [2.40423593e-05 2.44895927e-05 2.49451444e-05 ... 1.00000000e+00\n",
      "  1.00000000e+00 1.00000000e+00]\n",
      " [2.40423875e-05 2.44896219e-05 2.49451748e-05 ... 1.00000000e+00\n",
      "  1.00000000e+00 1.00000000e+00]]\n",
      "---\n",
      "Value: 0.11\n",
      "Data:\n",
      "[[2.40423629e-05 2.44895963e-05 2.49451482e-05 ... 1.00000000e+00\n",
      "  1.00000000e+00 1.00000000e+00]\n",
      " [2.40423324e-05 2.44895646e-05 2.49451154e-05 ... 1.00000000e+00\n",
      "  1.00000000e+00 1.00000000e+00]\n",
      " [2.40423535e-05 2.44895866e-05 2.49451381e-05 ... 1.00000000e+00\n",
      "  1.00000000e+00 1.00000000e+00]\n",
      " ...\n",
      " [2.40423406e-05 2.44895732e-05 2.49451242e-05 ... 1.00000000e+00\n",
      "  1.00000000e+00 1.00000000e+00]\n",
      " [2.40423535e-05 2.44895866e-05 2.49451381e-05 ... 1.00000000e+00\n",
      "  1.00000000e+00 1.00000000e+00]\n",
      " [2.40423687e-05 2.44896024e-05 2.49451545e-05 ... 1.00000000e+00\n",
      "  1.00000000e+00 1.00000000e+00]]\n",
      "---\n",
      "Value: 0.2\n",
      "Data:\n",
      "[[2.40424040e-05 2.44896389e-05 2.49451924e-05 ... 1.00000000e+00\n",
      "  1.00000000e+00 1.00000000e+00]\n",
      " [2.40424251e-05 2.44896609e-05 2.49452152e-05 ... 1.00000000e+00\n",
      "  1.00000000e+00 1.00000000e+00]\n",
      " [2.40423969e-05 2.44896316e-05 2.49451849e-05 ... 1.00000000e+00\n",
      "  1.00000000e+00 1.00000000e+00]\n",
      " ...\n",
      " [2.40424063e-05 2.44896414e-05 2.49451950e-05 ... 1.00000000e+00\n",
      "  1.00000000e+00 1.00000000e+00]\n",
      " [2.40423910e-05 2.44896255e-05 2.49451785e-05 ... 1.00000000e+00\n",
      "  1.00000000e+00 1.00000000e+00]\n",
      " [2.40424274e-05 2.44896633e-05 2.49452177e-05 ... 1.00000000e+00\n",
      "  1.00000000e+00 1.00000000e+00]]\n",
      "---\n",
      "Value: 0.3\n",
      "Data:\n",
      "[[2.40423957e-05 2.44896304e-05 2.49451836e-05 ... 1.00000000e+00\n",
      "  1.00000000e+00 1.00000000e+00]\n",
      " [2.40423734e-05 2.44896073e-05 2.49451596e-05 ... 1.00000000e+00\n",
      "  1.00000000e+00 1.00000000e+00]\n",
      " [2.40424004e-05 2.44896353e-05 2.49451887e-05 ... 1.00000000e+00\n",
      "  1.00000000e+00 1.00000000e+00]\n",
      " ...\n",
      " [2.40423676e-05 2.44896012e-05 2.49451533e-05 ... 1.00000000e+00\n",
      "  1.00000000e+00 1.00000000e+00]\n",
      " [2.40423476e-05 2.44895805e-05 2.49451318e-05 ... 1.00000000e+00\n",
      "  1.00000000e+00 1.00000000e+00]\n",
      " [2.40423629e-05 2.44895963e-05 2.49451482e-05 ... 1.00000000e+00\n",
      "  1.00000000e+00 1.00000000e+00]]\n",
      "---\n",
      "Value: 0.4\n",
      "Data:\n",
      "[[2.40424169e-05 2.44896523e-05 2.49452063e-05 ... 1.00000000e+00\n",
      "  1.00000000e+00 1.00000000e+00]\n",
      " [2.40424321e-05 2.44896682e-05 2.49452228e-05 ... 1.00000000e+00\n",
      "  1.00000000e+00 1.00000000e+00]\n",
      " [2.40424051e-05 2.44896402e-05 2.49451937e-05 ... 1.00000000e+00\n",
      "  1.00000000e+00 1.00000000e+00]\n",
      " ...\n",
      " [2.40424380e-05 2.44896743e-05 2.49452291e-05 ... 1.00000000e+00\n",
      "  1.00000000e+00 1.00000000e+00]\n",
      " [2.40424098e-05 2.44896450e-05 2.49451988e-05 ... 1.00000000e+00\n",
      "  1.00000000e+00 1.00000000e+00]\n",
      " [2.40424227e-05 2.44896584e-05 2.49452127e-05 ... 1.00000000e+00\n",
      "  1.00000000e+00 1.00000000e+00]]\n",
      "---\n",
      "Value: 0.5\n",
      "Data:\n",
      "[[2.40427138e-05 2.44899605e-05 2.49455260e-05 ... 1.00000000e+00\n",
      "  1.00000000e+00 1.00000000e+00]\n",
      " [2.40427197e-05 2.44899665e-05 2.49455324e-05 ... 1.00000000e+00\n",
      "  1.00000000e+00 1.00000000e+00]\n",
      " [2.40426962e-05 2.44899422e-05 2.49455071e-05 ... 1.00000000e+00\n",
      "  1.00000000e+00 1.00000000e+00]\n",
      " ...\n",
      " [2.40427068e-05 2.44899532e-05 2.49455185e-05 ... 1.00000000e+00\n",
      "  1.00000000e+00 1.00000000e+00]\n",
      " [2.40426998e-05 2.44899458e-05 2.49455109e-05 ... 1.00000000e+00\n",
      "  1.00000000e+00 1.00000000e+00]\n",
      " [2.40426974e-05 2.44899434e-05 2.49455084e-05 ... 1.00000000e+00\n",
      "  1.00000000e+00 1.00000000e+00]]\n",
      "---\n"
     ]
    }
   ],
   "source": [
    "import os\n",
    "import re\n",
    "import numpy as np\n",
    "\n",
    "folder_path = \"/home/opisthofulax/PhD/projects/complex-networks/LRG-Signed/data/l2d_squared/N=4096_navg=128\"\n",
    "\n",
    "file_pattern = r\"p=(\\d+\\.\\d+)_Sm1.bin\"\n",
    "value_pattern = r\"p=(\\d+\\.\\d+)\"\n",
    "\n",
    "# Get all files in the folder\n",
    "files = os.listdir(folder_path)\n",
    "\n",
    "# Filter files based on the pattern\n",
    "file_names = [file_name for file_name in files if re.match(file_pattern, file_name)]\n",
    "\n",
    "# Extract values from file names\n",
    "values = []\n",
    "for file_name in file_names:\n",
    "    match = re.search(value_pattern, file_name)\n",
    "    if match:\n",
    "        value = float(match.group(1))\n",
    "        values.append(value)\n",
    "\n",
    "# Sort the values if needed\n",
    "values.sort()\n",
    "\n",
    "# Load data from files using numpy's fromfile\n",
    "data = []\n",
    "for file_name in file_names:\n",
    "    file_path = os.path.join(folder_path, file_name)\n",
    "    arr = np.fromfile(file_path)\n",
    "    data.append(arr)\n",
    "\n",
    "# Access the extracted values and loaded data\n",
    "for value, arr in zip(values, data):\n",
    "    print(\"Value:\", value)\n",
    "    print(\"Data:\")\n",
    "    print(arr.reshape(128, 1500))\n",
    "    print(\"---\")\n"
   ]
  },
  {
   "cell_type": "code",
   "execution_count": 25,
   "metadata": {},
   "outputs": [
    {
     "data": {
      "text/plain": [
       "384000"
      ]
     },
     "execution_count": 25,
     "metadata": {},
     "output_type": "execute_result"
    }
   ],
   "source": [
    "128*1500*2"
   ]
  },
  {
   "cell_type": "code",
   "execution_count": 26,
   "metadata": {},
   "outputs": [
    {
     "data": {
      "text/plain": [
       "array([[2.40431047e-05, 2.44903660e-05, 2.49459468e-05, ...,\n",
       "        1.00000000e+00, 1.00000000e+00, 1.00000000e+00],\n",
       "       [2.40431047e-05, 2.44903660e-05, 2.49459468e-05, ...,\n",
       "        1.00000000e+00, 1.00000000e+00, 1.00000000e+00],\n",
       "       [2.40431047e-05, 2.44903660e-05, 2.49459468e-05, ...,\n",
       "        1.00000000e+00, 1.00000000e+00, 1.00000000e+00],\n",
       "       ...,\n",
       "       [2.40431047e-05, 2.44903660e-05, 2.49459468e-05, ...,\n",
       "        1.00000000e+00, 1.00000000e+00, 1.00000000e+00],\n",
       "       [2.40431047e-05, 2.44903660e-05, 2.49459468e-05, ...,\n",
       "        1.00000000e+00, 1.00000000e+00, 1.00000000e+00],\n",
       "       [2.40431047e-05, 2.44903660e-05, 2.49459468e-05, ...,\n",
       "        1.00000000e+00, 1.00000000e+00, 1.00000000e+00]])"
      ]
     },
     "execution_count": 26,
     "metadata": {},
     "output_type": "execute_result"
    }
   ],
   "source": [
    "np.fromfile(\"/home/opisthofulax/PhD/projects/complex-networks/LRG-Signed/data/l2d_squared/N=4096_navg=128/p=0.001_Sm1.bin\").reshape(128, 1500)"
   ]
  },
  {
   "cell_type": "code",
   "execution_count": null,
   "metadata": {},
   "outputs": [],
   "source": []
  },
  {
   "cell_type": "code",
   "execution_count": null,
   "metadata": {},
   "outputs": [],
   "source": []
  },
  {
   "cell_type": "code",
   "execution_count": null,
   "metadata": {},
   "outputs": [],
   "source": []
  },
  {
   "cell_type": "code",
   "execution_count": 9,
   "metadata": {},
   "outputs": [
    {
     "ename": "FileNotFoundError",
     "evalue": "[Errno 2] No such file or directory: 'data/l2d_sq/N=64_navg=1024/p=0.001_Sm1.bin'",
     "output_type": "error",
     "traceback": [
      "\u001b[0;31m---------------------------------------------------------------------------\u001b[0m",
      "\u001b[0;31mFileNotFoundError\u001b[0m                         Traceback (most recent call last)",
      "\u001b[1;32m/home/opisthofulax/PhD/projects/complex-networks/LRG-Signed/notebooks/signed_lattice2d.ipynb Cell 22\u001b[0m in \u001b[0;36m<cell line: 1>\u001b[0;34m()\u001b[0m\n\u001b[0;32m----> <a href='vscode-notebook-cell:/home/opisthofulax/PhD/projects/complex-networks/LRG-Signed/notebooks/signed_lattice2d.ipynb#X32sZmlsZQ%3D%3D?line=0'>1</a>\u001b[0m bb \u001b[39m=\u001b[39m np\u001b[39m.\u001b[39;49mfromfile(\u001b[39m\"\u001b[39;49m\u001b[39mdata/l2d_sq/N=64_navg=1024/p=0.001_Sm1.bin\u001b[39;49m\u001b[39m\"\u001b[39;49m)\u001b[39m.\u001b[39mreshape(\u001b[39m1024\u001b[39m, \u001b[39m1500\u001b[39m)\n\u001b[1;32m      <a href='vscode-notebook-cell:/home/opisthofulax/PhD/projects/complex-networks/LRG-Signed/notebooks/signed_lattice2d.ipynb#X32sZmlsZQ%3D%3D?line=1'>2</a>\u001b[0m \u001b[39mfor\u001b[39;00m i \u001b[39min\u001b[39;00m bb:\n\u001b[1;32m      <a href='vscode-notebook-cell:/home/opisthofulax/PhD/projects/complex-networks/LRG-Signed/notebooks/signed_lattice2d.ipynb#X32sZmlsZQ%3D%3D?line=2'>3</a>\u001b[0m     plt\u001b[39m.\u001b[39mplot(np\u001b[39m.\u001b[39mlogspace(\u001b[39m-\u001b[39m\u001b[39m2\u001b[39m, \u001b[39m4\u001b[39m, \u001b[39m1500\u001b[39m),bb)\n",
      "\u001b[0;31mFileNotFoundError\u001b[0m: [Errno 2] No such file or directory: 'data/l2d_sq/N=64_navg=1024/p=0.001_Sm1.bin'"
     ]
    }
   ],
   "source": [
    "bb = np.fromfile(\"data/l2d_sq/N=64_navg=1024/p=0.001_Sm1.bin\").reshape(1024, 1500)\n",
    "for i in bb:\n",
    "    plt.plot(np.logspace(-2, 4, 1500),bb)\n",
    "    plt.plot(np.logspace(-2, 4, 1499),np.log(64) * np.diff(i)/np.diff(np.log(np.logspace(-2, 4, 1500))))\n",
    "plt.plot(np.logspace(-2, 4, 1500),np.mean(bb, axis=0), 'k', lw=2)\n",
    "plt.xscale('log')"
   ]
  },
  {
   "cell_type": "code",
   "execution_count": null,
   "metadata": {},
   "outputs": [],
   "source": [
    "bb = np.fromfile(\"../data/l2d_squared/N=64_navg=1024/p=0.5_Sm1.bin\").reshape(1024, 1500)\n",
    "x = np.logspace(-2, 4, 1500)\n",
    "x2 = np.logspace(-2, 4, 1500-1)\n",
    "plt.plot(x2,(np.log(64) * np.diff(bb, axis=1)/np.diff(np.log(x))).T)\n",
    "plt.xscale('log')"
   ]
  },
  {
   "cell_type": "code",
   "execution_count": null,
   "metadata": {},
   "outputs": [],
   "source": [
    "L = 20\n",
    "#\n",
    "L2 = L * L\n",
    "plen = 5\n",
    "p_list = np.array([2 * L2 * p // (plen + 1) for p in range(1, plen + 1)])"
   ]
  },
  {
   "cell_type": "code",
   "execution_count": null,
   "metadata": {},
   "outputs": [],
   "source": [
    "no_p = 10\n",
    "no_rw = 5\n",
    "pow2_m = 6\n",
    "pow2_M = 14\n",
    "\n",
    "lsN = np.array([2**i for i in range(pow2_m, pow2_M, 2)])\n",
    "lsNavg = 2**np.array([(pow2_M-i+1) for i in range(pow2_m, pow2_M, 2)])"
   ]
  },
  {
   "cell_type": "code",
   "execution_count": null,
   "metadata": {},
   "outputs": [],
   "source": [
    "plt.figure(figsize=(12, 6))\n",
    "t1Sm1Avg = []\n",
    "t1CsAvg = []\n",
    "p_list = [10, 20, 40, 80, 160, 240, 320]\n",
    "for p in p_list:\n",
    "    G = nx.grid_2d_graph(L, L, periodic=True)\n",
    "\n",
    "    ransample = random.sample(range(len(G.edges())), p)\n",
    "    for i,e in enumerate(G.edges()):\n",
    "        G.add_edge(e[0], e[1], weight=1)\n",
    "        if i in ransample:\n",
    "            G[e[0]][e[1]]['weight'] = -1\n",
    "    [Sm1, dS1, VarL1, t1] = entropy(G, is_signed=False)\n",
    "    t1Sm1Avg.append([t1, Sm1])\n",
    "    plt.plot(t1, Sm1, label=fr'$p={p/(2 *L2)}$')\n",
    "    t11 = (t1[1:]+t1[:-1])/2.0\n",
    "    plt.plot(t11, dS1/np.max(dS1), ls='--',\n",
    "                color=plt.gca().lines[-1].get_color())\n",
    "    t1CsAvg.append([t11, dS1])\n",
    "\n",
    "plt.ylabel('1-S')\n",
    "plt.xlabel(r'$\\tau$')\n",
    "# plt.ylim(0, 5)\n",
    "plt.xscale('log')\n",
    "plt.legend()\n"
   ]
  },
  {
   "cell_type": "code",
   "execution_count": null,
   "metadata": {},
   "outputs": [],
   "source": [
    "plt.figure(figsize=(12, 6))\n",
    "t1Sm1Avg = []\n",
    "t1CsAvg = []\n",
    "p_list = [50, 100, 200, 400, 500, 600]\n",
    "for p in p_list:\n",
    "    G = nx.grid_2d_graph(L, L, periodic=True)\n",
    "\n",
    "    ransample = random.sample(range(len(G.edges())), p)\n",
    "    for i,e in enumerate(G.edges()):\n",
    "        G.add_edge(e[0], e[1], weight=1)\n",
    "        if i in ransample:\n",
    "            G[e[0]][e[1]]['weight'] = -1\n",
    "    [Sm1, dS1, VarL1, t1] = entropy(G, is_signed=True)\n",
    "    t1Sm1Avg.append([t1, Sm1])\n",
    "    plt.plot(t1, Sm1, label=fr'$p={p/(2 *L2)}$')\n",
    "    t11 = (t1[1:]+t1[:-1])/2.0\n",
    "    plt.plot(t11, dS1/np.max(dS1), ls='--',\n",
    "                color=plt.gca().lines[-1].get_color())\n",
    "    t1CsAvg.append([t11, dS1])\n",
    "\n",
    "plt.ylabel('1-S')\n",
    "plt.xlabel(r'$\\tau$')\n",
    "# plt.ylim(0, 5)\n",
    "plt.xscale('log')\n",
    "plt.legend()"
   ]
  },
  {
   "cell_type": "code",
   "execution_count": null,
   "metadata": {},
   "outputs": [],
   "source": [
    "L = 32\n",
    "L2= L*L\n",
    "plt.figure(figsize=(12, 6))\n",
    "t1Sm1Avg = []\n",
    "t1CsAvg = []\n",
    "for p in [5, 10, 20, 50]:\n",
    "    G = nx.grid_2d_graph(L, L, periodic=True)\n",
    "\n",
    "    ransample = random.sample(range(len(G.edges())), p)\n",
    "    for i,e in enumerate(G.edges()):\n",
    "        G.add_edge(e[0], e[1], weight=1)\n",
    "        if i in ransample:\n",
    "            G[e[0]][e[1]]['weight'] = -1\n",
    "    [Sm1, dS1, VarL1, t1] = entropy(G, is_signed=True, t2=5)\n",
    "    t1Sm1Avg.append([t1, Sm1])\n",
    "    plt.plot(t1, Sm1, label=fr'$p={p/(2 *L2)}$')\n",
    "    t11 = (t1[1:]+t1[:-1])/2.0\n",
    "    plt.plot(t11, dS1/np.max(dS1), ls='--',\n",
    "                color=plt.gca().lines[-1].get_color())\n",
    "    # t1CsAvg.append([t11, dS1])\n",
    "\n",
    "plt.ylabel('1-S')\n",
    "plt.xlabel(r'$\\tau$')\n",
    "# plt.ylim(0, 5)\n",
    "plt.xscale('log')\n",
    "# plt.yscale('log')\n",
    "plt.legend()"
   ]
  },
  {
   "cell_type": "code",
   "execution_count": null,
   "metadata": {},
   "outputs": [],
   "source": [
    "L = 32\n",
    "L2= L*L\n",
    "plt.figure(figsize=(12, 6))\n",
    "t1Sm1Avg = []\n",
    "t1CsAvg = []\n",
    "for p in [5, 10, 20, 50]:\n",
    "    G = nx.grid_2d_graph(L, L, periodic=True)\n",
    "\n",
    "    ransample = random.sample(range(len(G.edges())), p)\n",
    "    for i,e in enumerate(G.edges()):\n",
    "        G.add_edge(e[0], e[1], weight=1)\n",
    "        if i in ransample:\n",
    "            G[e[0]][e[1]]['weight'] = -1\n",
    "    [Sm1, dS1, VarL1, t1] = entropy(G, is_signed=True, t2=5)\n",
    "    t1Sm1Avg.append([t1, Sm1])\n",
    "    plt.plot(t1, Sm1, label=fr'$p={p/(2 *L2)}$')\n",
    "    t11 = (t1[1:]+t1[:-1])/2.0\n",
    "    plt.plot(t11, dS1/np.max(dS1), ls='--',\n",
    "                color=plt.gca().lines[-1].get_color())\n",
    "    t1CsAvg.append([t11, dS1])\n",
    "\n",
    "plt.ylabel('1-S')\n",
    "plt.xlabel(r'$\\tau$')\n",
    "# plt.ylim(0, 5)\n",
    "plt.xscale('log')\n",
    "plt.legend()"
   ]
  },
  {
   "cell_type": "code",
   "execution_count": null,
   "metadata": {},
   "outputs": [],
   "source": [
    "L = 32\n",
    "L2= L*L\n",
    "plt.figure(figsize=(12, 6))\n",
    "t1Sm1Avg = []\n",
    "t1CsAvg = []\n",
    "for p in [512, 1024, 1200]:\n",
    "    G = nx.grid_2d_graph(L, L, periodic=True)\n",
    "\n",
    "    ransample = random.sample(range(len(G.edges())), p)\n",
    "    for i,e in enumerate(G.edges()):\n",
    "        G.add_edge(e[0], e[1], weight=1)\n",
    "        if i in ransample:\n",
    "            G[e[0]][e[1]]['weight'] = -1\n",
    "    [Sm1, dS1, VarL1, t1] = entropy(G, is_signed=True, t2=5)\n",
    "    t1Sm1Avg.append([t1, Sm1])\n",
    "    plt.plot(t1, Sm1, label=fr'$p={p/(2 *L2)}$')\n",
    "    t11 = (t1[1:]+t1[:-1])/2.0\n",
    "    plt.plot(t11, dS1/np.max(dS1), ls='--',\n",
    "                color=plt.gca().lines[-1].get_color())\n",
    "    t1CsAvg.append([t11, dS1])\n",
    "\n",
    "plt.ylabel('1-S')\n",
    "plt.xlabel(r'$\\tau$')\n",
    "# plt.ylim(0, 5)\n",
    "plt.xscale('log')\n",
    "plt.legend()"
   ]
  },
  {
   "cell_type": "code",
   "execution_count": null,
   "metadata": {},
   "outputs": [],
   "source": [
    "colors = ['r' if G[u][v]['weight'] == -1 else 'k' for u, v in G.edges()]\n",
    "plt.figure(figsize=(10, 10))\n",
    "pos = {(x,y):(y,-x) for x,y in G.nodes()}\n",
    "nx.draw(G, edge_color=colors, pos=pos, node_size=100, width=4)"
   ]
  },
  {
   "cell_type": "code",
   "execution_count": null,
   "metadata": {},
   "outputs": [],
   "source": [
    "\n",
    "\n",
    "plt.figure(figsize=(12, 6))\n",
    "t1Sm1Avg = []\n",
    "t1CsAvg = []\n",
    "for L in [16, 32, 64]:\n",
    "    G = nx.grid_2d_graph(L, L, periodic=True)\n",
    "    L2= L*L\n",
    "    p = int(0.01 * len(G.edges()))\n",
    "    ransample = random.sample(range(len(G.edges())), p)\n",
    "    for i,e in enumerate(G.edges()):\n",
    "        G.add_edge(e[0], e[1], weight=1)\n",
    "        if i in ransample:\n",
    "            G[e[0]][e[1]]['weight'] = -1\n",
    "    [Sm1, dS1, VarL1, t1] = entropy(G, is_signed=True, t2=5)\n",
    "    t1Sm1Avg.append([t1, Sm1])\n",
    "    plt.plot(t1, Sm1, label=fr'$L={L}$')\n",
    "    t11 = (t1[1:]+t1[:-1])/2.0\n",
    "    plt.plot(t11, dS1, ls='--',\n",
    "                color=plt.gca().lines[-1].get_color())\n",
    "    # t1CsAvg.append([t11, dS1])\n",
    "\n",
    "plt.ylabel('1-S')\n",
    "plt.xlabel(r'$\\tau$')\n",
    "# plt.ylim(0, 5)\n",
    "plt.xscale('log')\n",
    "# plt.yscale('log')\n",
    "plt.legend()"
   ]
  },
  {
   "cell_type": "code",
   "execution_count": null,
   "metadata": {},
   "outputs": [],
   "source": [
    "import numpy as np \n",
    "L = np.array([16, 32, 64])**2\n",
    "L*0.103"
   ]
  },
  {
   "cell_type": "code",
   "execution_count": null,
   "metadata": {},
   "outputs": [],
   "source": [
    "plt.figure(figsize=(12, 6))\n",
    "t1Sm1Avg = []\n",
    "t1CsAvg = []\n",
    "for L in [16, 32, 64]:\n",
    "    G = nx.grid_2d_graph(L, L, periodic=True)\n",
    "    L2= L*L\n",
    "    p = int(0.1 * len(G.edges()))\n",
    "    ransample = random.sample(range(len(G.edges())), p)\n",
    "    for i,e in enumerate(G.edges()):\n",
    "        G.add_edge(e[0], e[1], weight=1)\n",
    "        if i in ransample:\n",
    "            G[e[0]][e[1]]['weight'] = -1\n",
    "    [Sm1, dS1, VarL1, t1] = entropy(G, is_signed=True, t2=5)\n",
    "    t1Sm1Avg.append([t1, Sm1])\n",
    "    plt.plot(t1, Sm1, label=fr'$L={L}$')\n",
    "    t11 = (t1[1:]+t1[:-1])/2.0\n",
    "    plt.plot(t11, dS1, ls='--',\n",
    "                color=plt.gca().lines[-1].get_color())\n",
    "    # t1CsAvg.append([t11, dS1])\n",
    "\n",
    "plt.ylabel('1-S')\n",
    "plt.xlabel(r'$\\tau$')\n",
    "# plt.ylim(0, 5)\n",
    "plt.xscale('log')\n",
    "# plt.yscale('log')\n",
    "plt.legend()"
   ]
  },
  {
   "cell_type": "code",
   "execution_count": null,
   "metadata": {},
   "outputs": [],
   "source": [
    "plt.figure(figsize=(12, 6))\n",
    "t1Sm1Avg = []\n",
    "t1CsAvg = []\n",
    "for L in [16, 32, 64]:\n",
    "    G = nx.grid_2d_graph(L, L, periodic=True)\n",
    "    L2= L*L\n",
    "    p = int(0.2 * len(G.edges()))\n",
    "    ransample = random.sample(range(len(G.edges())), p)\n",
    "    for i,e in enumerate(G.edges()):\n",
    "        G.add_edge(e[0], e[1], weight=1)\n",
    "        if i in ransample:\n",
    "            G[e[0]][e[1]]['weight'] = -1\n",
    "    [Sm1, dS1, VarL1, t1] = entropy(G, is_signed=True, t2=5)\n",
    "    t1Sm1Avg.append([t1, Sm1])\n",
    "    plt.plot(t1, Sm1, label=fr'$L={L}$')\n",
    "    t11 = (t1[1:]+t1[:-1])/2.0\n",
    "    plt.plot(t11, dS1, ls='--',\n",
    "                color=plt.gca().lines[-1].get_color())\n",
    "    # t1CsAvg.append([t11, dS1])\n",
    "\n",
    "plt.ylabel('1-S')\n",
    "plt.xlabel(r'$\\tau$')\n",
    "# plt.ylim(0, 5)\n",
    "plt.xscale('log')\n",
    "# plt.yscale('log')\n",
    "plt.legend()"
   ]
  },
  {
   "cell_type": "code",
   "execution_count": null,
   "metadata": {},
   "outputs": [],
   "source": [
    "colors = ['r' if G[u][v]['weight'] == -1 else 'k' for u, v in G.edges()]\n",
    "plt.figure(figsize=(10, 10))\n",
    "pos = {(x,y):(y,-x) for x,y in G.nodes()}\n",
    "nx.draw(G, edge_color=colors, pos=pos, node_size=10, width=5)"
   ]
  },
  {
   "cell_type": "code",
   "execution_count": null,
   "metadata": {},
   "outputs": [],
   "source": [
    "G = nx.grid_2d_graph(L, L, periodic=True)\n",
    "L2= L*L\n",
    "p = int(0.2 * len(G.edges()))\n",
    "ransample = random.sample(range(len(G.edges())), p)\n",
    "for i,e in enumerate(G.edges()):\n",
    "    G.add_edge(e[0], e[1], weight=1)\n",
    "    if i in ransample:\n",
    "        G[e[0]][e[1]]['weight'] = -1\n",
    "lapl, w = get_graph_lspectrum_rw(G, is_signed=True)"
   ]
  },
  {
   "cell_type": "code",
   "execution_count": null,
   "metadata": {},
   "outputs": [],
   "source": [
    "from scipy.sparse.linalg import eigs\n",
    "L = 256\n",
    "G = nx.grid_2d_graph(L, L, periodic=True)\n",
    "lapl = nx.laplacian_matrix(G).asfptype()\n",
    "a = eigs(lapl, k=1, which='SM', return_eigenvectors=False)"
   ]
  }
 ],
 "metadata": {
  "kernelspec": {
   "display_name": "LRG-Signed",
   "language": "python",
   "name": "python3"
  },
  "language_info": {
   "codemirror_mode": {
    "name": "ipython",
    "version": 3
   },
   "file_extension": ".py",
   "mimetype": "text/x-python",
   "name": "python",
   "nbconvert_exporter": "python",
   "pygments_lexer": "ipython3",
   "version": "3.10.9"
  },
  "orig_nbformat": 4
 },
 "nbformat": 4,
 "nbformat_minor": 2
}
