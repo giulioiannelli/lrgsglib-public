{
 "cells": [
  {
   "attachments": {},
   "cell_type": "markdown",
   "metadata": {},
   "source": [
    "# $2D\\pm J$ Lattice SLRG Analysis Jupyter Notebook"
   ]
  },
  {
   "cell_type": "code",
   "execution_count": 1,
   "metadata": {},
   "outputs": [
    {
     "name": "stdout",
     "output_type": "stream",
     "text": [
      "cwd: /home/opisthofulax/PhD/projects/complex-networks/LRG-Signed\n"
     ]
    }
   ],
   "source": [
    "%matplotlib inline\n",
    "#\n",
    "from os import chdir, getcwd\n",
    "ROOTF = 'LRG-Signed'\n",
    "if getcwd()[-len(ROOTF):] != ROOTF:\n",
    "    chdir('../')\n",
    "print('cwd:', getcwd())\n",
    "#\n",
    "from src.LRGSG_package.LRGSG import *\n",
    "# plt.style.use(\"notebooks/nb_plotsheet.mplstyle\")"
   ]
  },
  {
   "cell_type": "code",
   "execution_count": 16,
   "metadata": {},
   "outputs": [],
   "source": [
    "def optional_f(*args):\n",
    "    for i in args:\n",
    "        print(i)\n"
   ]
  },
  {
   "cell_type": "code",
   "execution_count": 17,
   "metadata": {},
   "outputs": [
    {
     "name": "stdout",
     "output_type": "stream",
     "text": [
      "{'kind': 'log', 'start': 0.001, 'stop': 0.094, 'num': 3}\n",
      "{'kind': 'log', 'start': 0.001, 'stop': 0.094, 'num': 3}\n"
     ]
    }
   ],
   "source": [
    "optional_f({'kind': 'log', 'start': 0.001, 'stop': 0.094, 'num': 3}, \n",
    "           {'kind': 'log', 'start': 0.001, 'stop': 0.094, 'num': 3})"
   ]
  },
  {
   "cell_type": "code",
   "execution_count": 3,
   "metadata": {},
   "outputs": [
    {
     "data": {
      "text/plain": [
       "array([0.   , 0.   , 0.   , 0.1  , 0.1  , 0.094, 0.096, 0.097, 0.099,\n",
       "       0.101, 0.103, 0.104, 0.106, 0.1  , 0.3  , 0.4  , 0.6  ])"
      ]
     },
     "execution_count": 3,
     "metadata": {},
     "output_type": "execute_result"
    }
   ],
   "source": [
    "lattice = Lattice2D(#\n",
    "    side1 = 10,\n",
    "    geometry = 'triangular'\n",
    ")\n",
    "lattice.lsp"
   ]
  },
  {
   "cell_type": "code",
   "execution_count": 11,
   "metadata": {},
   "outputs": [
    {
     "ename": "TypeError",
     "evalue": "only size-1 arrays can be converted to Python scalars",
     "output_type": "error",
     "traceback": [
      "\u001b[0;31m---------------------------------------------------------------------------\u001b[0m",
      "\u001b[0;31mTypeError\u001b[0m                                 Traceback (most recent call last)",
      "\u001b[1;32m/home/opisthofulax/PhD/projects/complex-networks/LRG-Signed/notebooks/signed_lattice2d.ipynb Cell 4\u001b[0m in \u001b[0;36m<cell line: 1>\u001b[0;34m()\u001b[0m\n\u001b[0;32m----> <a href='vscode-notebook-cell:/home/opisthofulax/PhD/projects/complex-networks/LRG-Signed/notebooks/signed_lattice2d.ipynb#X55sZmlsZQ%3D%3D?line=0'>1</a>\u001b[0m \u001b[39mint\u001b[39;49m(np\u001b[39m.\u001b[39;49mrandom\u001b[39m.\u001b[39;49mrand(\u001b[39m10\u001b[39;49m))\n",
      "\u001b[0;31mTypeError\u001b[0m: only size-1 arrays can be converted to Python scalars"
     ]
    }
   ],
   "source": [
    "int(np.random.rand(10))"
   ]
  },
  {
   "cell_type": "code",
   "execution_count": 6,
   "metadata": {},
   "outputs": [
    {
     "data": {
      "text/plain": [
       "-3"
      ]
     },
     "execution_count": 6,
     "metadata": {},
     "output_type": "execute_result"
    }
   ],
   "source": [
    "int(np.floor(np.log10(np.abs(num))))"
   ]
  },
  {
   "cell_type": "code",
   "execution_count": null,
   "metadata": {},
   "outputs": [],
   "source": [
    "def Cspe_plot_ax(ax):\n",
    "    ax.set_xlabel(r\"$\\tau$\")\n",
    "    ax.set_ylabel(r\"$\\log(N)\\langle{C}\\rangle$\")\n",
    "    ax.set_xscale('log')"
   ]
  },
  {
   "attachments": {},
   "cell_type": "markdown",
   "metadata": {},
   "source": [
    "## Squared 2D Lattice"
   ]
  },
  {
   "cell_type": "code",
   "execution_count": null,
   "metadata": {},
   "outputs": [],
   "source": [
    "#\n",
    "STEPS = 1500\n",
    "SPIKE_THRESHOLD = 0.1\n",
    "TAUSTOPEXT = 4\n",
    "GEOMETRY = 'squared'\n",
    "#\n",
    "pow2_m, pow2_M, pow2_A = 6, 14, 16\n",
    "ssize_range = range(pow2_m, pow2_M, 2)\n",
    "asize_range = range(pow2_m, pow2_M, 1)[:len(ssize_range)]\n",
    "#\n",
    "lsN = np.array([2**i for i in ssize_range])\n",
    "lsL = np.sqrt(lsN).astype('int')\n",
    "lsA = np.array([2**(pow2_A-i) for i in asize_range])\n",
    "lsp = np.round([0.001, 0.01, 0.025, 0.05, 0.075, 0.085, 0.095, 0.098, 0.100, \n",
    "                0.102, 0.104, 0.106, 0.11, 0.2, 0.3, 0.4, 0.5], 3)"
   ]
  },
  {
   "attachments": {},
   "cell_type": "markdown",
   "metadata": {},
   "source": [
    "### Plot per system size $L$ and flip probability $p_{\\rm flip}$"
   ]
  },
  {
   "cell_type": "code",
   "execution_count": null,
   "metadata": {},
   "outputs": [],
   "source": [
    "peakPosition = {iN: [] for iN in lsN}\n",
    "for iL, iN, iA in zip(lsL, lsN, lsA):\n",
    "    #\n",
    "    path = f\"{datPath_l2d(GEOMETRY)}N={iN}_navg={iA}/\"\n",
    "    lattice = Lattice2D(#\n",
    "        side1 = iL,\n",
    "        geometry = GEOMETRY\n",
    "    )\n",
    "    fig_2, ax_2 = plt.subplots(figsize=(16,10))\n",
    "    #\n",
    "    Cspe_plot_ax(ax_2)\n",
    "    #\n",
    "    for pflip in lsp:\n",
    "        savename = lambda idstr : f\"{path}p={pflip:{pflip_fmt}}_{idstr}{eBIN}\"\n",
    "        if not os.path.exists(savename('Sm1')):\n",
    "            continue\n",
    "        plpath = f\"{pltPath_l2d(GEOMETRY)}N={iN}_navg={iA}/\"\n",
    "        if not os.path.isdir(plpath):\n",
    "            os.makedirs(plpath)\n",
    "        #\n",
    "        t = np.logspace(-2, TAUSTOPEXT, STEPS)\n",
    "        Sm1FromFile = np.fromfile(savename('Sm1')).reshape(iA, STEPS)\n",
    "        CspecFromFile = np.log(iN) * np.diff(Sm1FromFile, axis=1)/np.diff(np.log(t))\n",
    "        CspecAvg = CspecFromFile.mean(axis=0)\n",
    "        #\n",
    "        fig, ax = plt.subplots(figsize=(16,10))\n",
    "        #\n",
    "        Cspe_plot_ax(ax)\n",
    "        #\n",
    "        ax.plot(t[:-1], CspecFromFile.T)\n",
    "        ax.plot(t[:-1], CspecAvg, 'k--', lw=2)\n",
    "        ccp = ax_2.plot(t[:-1], CspecAvg, c='k' if pflip < 0.103 else 'r')\n",
    "        #\n",
    "        arr_max = argrelextrema(CspecAvg, np.greater)[0]\n",
    "        for idx in arr_max[CspecAvg[arr_max] > 0.5]:\n",
    "            ax.axvline(t[idx], c='r', lw=1)\n",
    "            ax_2.axvline(t[idx], c=ccp[0].get_color(), lw=1)\n",
    "        peakPosition[iN].append([pflip, t[np.min(arr_max)]])\n",
    "        #\n",
    "        fig.savefig(f\"{plpath}p={pflip:{pflip_fmt}}_<C>.pdf\", bbox_inches='tight')\n",
    "        fig.clear()\n",
    "        plt.close(fig)\n",
    "    fig_2.savefig(f\"{plpath}<C>.pdf\", bbox_inches='tight')\n",
    "    fig_2.clear()\n",
    "    plt.close(fig_2)"
   ]
  },
  {
   "attachments": {},
   "cell_type": "markdown",
   "metadata": {},
   "source": [
    "____"
   ]
  },
  {
   "cell_type": "code",
   "execution_count": null,
   "metadata": {},
   "outputs": [],
   "source": [
    "for key in peakPosition:\n",
    "    peakPosition[key] = np.array(peakPosition[key])\n",
    "for key in peakPosition:\n",
    "    plt.plot(peakPosition[key][:,0], peakPosition[key][:,1], 'o-')\n",
    "plt.axvline(0.103)\n",
    "plt.yscale('log')"
   ]
  },
  {
   "attachments": {},
   "cell_type": "markdown",
   "metadata": {},
   "source": [
    "## Triangular 2D Lattice"
   ]
  },
  {
   "cell_type": "code",
   "execution_count": null,
   "metadata": {},
   "outputs": [],
   "source": [
    "#\n",
    "STEPS = 1500\n",
    "SPIKE_THRESHOLD = 0.1\n",
    "TAUSTOPEXT = 4\n",
    "GEOMETRY = 'triangular'\n",
    "#\n",
    "pow2_m, pow2_M, pow2_A = 6, 14, 16\n",
    "ssize_range = range(pow2_m, pow2_M, 2)\n",
    "asize_range = range(pow2_m, pow2_M, 1)[:len(ssize_range)]\n",
    "#\n",
    "lsN = np.array([2**i for i in ssize_range])\n",
    "lsL = np.sqrt(lsN).astype('int')\n",
    "lsA = np.array([2**(pow2_A-i) for i in asize_range])\n",
    "lsp = np.round([0.001, 0.01, 0.025, 0.05, 0.075, 0.085, 0.095, 0.098, 0.100, \n",
    "                0.102, 0.104, 0.106, 0.11, 0.2, 0.3, 0.4, 0.5], 3)"
   ]
  },
  {
   "attachments": {},
   "cell_type": "markdown",
   "metadata": {},
   "source": [
    "### Plot per system size $L$ and flip probability $p_{\\rm flip}$"
   ]
  },
  {
   "cell_type": "code",
   "execution_count": null,
   "metadata": {},
   "outputs": [],
   "source": [
    "peakPosition = {iN: [] for iN in lsN}\n",
    "for iL, iN, iA in zip(lsL, lsN, lsA):\n",
    "    #\n",
    "    path = f\"{datPath_l2d(GEOMETRY)}N={iN}_navg={iA}/\"\n",
    "    lattice = Lattice2D(#\n",
    "        side1 = iL,\n",
    "        geometry = GEOMETRY\n",
    "    )\n",
    "    fig_2, ax_2 = plt.subplots(figsize=(16,10))\n",
    "    #\n",
    "    Cspe_plot_ax(ax_2)\n",
    "    #\n",
    "    for pflip in lsp:\n",
    "        savename = lambda idstr : f\"{path}p={pflip:{pflip_fmt}}_{idstr}{eBIN}\"\n",
    "        if not os.path.exists(savename('Sm1')):\n",
    "            continue\n",
    "        plpath = f\"{pltPath_l2d(GEOMETRY)}N={iN}_navg={iA}/\"\n",
    "        if not os.path.isdir(plpath):\n",
    "            os.makedirs(plpath)\n",
    "        #\n",
    "        t = np.logspace(-2, TAUSTOPEXT, STEPS)\n",
    "        Sm1FromFile = np.fromfile(savename('Sm1')).reshape(iA, STEPS)\n",
    "        CspecFromFile = np.log(iN) * np.diff(Sm1FromFile, axis=1)/np.diff(np.log(t))\n",
    "        CspecAvg = CspecFromFile.mean(axis=0)\n",
    "        #\n",
    "        fig, ax = plt.subplots(figsize=(16,10))\n",
    "        #\n",
    "        Cspe_plot_ax(ax)\n",
    "        #\n",
    "        ax.plot(t[:-1], CspecFromFile.T)\n",
    "        ax.plot(t[:-1], CspecAvg, 'k--', lw=2)\n",
    "        ccp = ax_2.plot(t[:-1], CspecAvg, c='k' if pflip < 0.146 else 'r')\n",
    "        #\n",
    "        arr_max = argrelextrema(CspecAvg, np.greater)[0]\n",
    "        for idx in arr_max[CspecAvg[arr_max] > 0.5]:\n",
    "            ax.axvline(t[idx], c='r', lw=1)\n",
    "            ax_2.axvline(t[idx], c=ccp[0].get_color(), lw=1)\n",
    "        peakPosition[iN].append([pflip, t[np.min(arr_max)]])\n",
    "        #\n",
    "        fig.savefig(f\"{plpath}p={pflip:{pflip_fmt}}_<C>.pdf\", bbox_inches='tight')\n",
    "        fig.clear()\n",
    "        plt.close(fig)\n",
    "    fig_2.savefig(f\"{plpath}<C>.pdf\", bbox_inches='tight')\n",
    "    fig_2.clear()\n",
    "    plt.close(fig_2)"
   ]
  },
  {
   "cell_type": "code",
   "execution_count": null,
   "metadata": {},
   "outputs": [],
   "source": [
    "for key in peakPosition:\n",
    "    peakPosition[key] = np.array(peakPosition[key])\n",
    "for key in peakPosition:\n",
    "    plt.plot(peakPosition[key][:,0], peakPosition[key][:,1], 'o-')\n",
    "plt.axvline(0.146)\n",
    "plt.yscale('log')"
   ]
  },
  {
   "attachments": {},
   "cell_type": "markdown",
   "metadata": {},
   "source": [
    "___"
   ]
  },
  {
   "cell_type": "code",
   "execution_count": null,
   "metadata": {},
   "outputs": [],
   "source": []
  },
  {
   "cell_type": "code",
   "execution_count": null,
   "metadata": {},
   "outputs": [],
   "source": []
  },
  {
   "cell_type": "code",
   "execution_count": null,
   "metadata": {},
   "outputs": [],
   "source": []
  },
  {
   "cell_type": "code",
   "execution_count": null,
   "metadata": {},
   "outputs": [],
   "source": []
  },
  {
   "cell_type": "code",
   "execution_count": null,
   "metadata": {},
   "outputs": [],
   "source": []
  },
  {
   "cell_type": "code",
   "execution_count": null,
   "metadata": {},
   "outputs": [],
   "source": [
    "bb = np.fromfile(\"data/l2d_sq/N=64_navg=1024/p=0.001_Sm1.bin\").reshape(1024, 1500)\n",
    "for i in bb:\n",
    "    plt.plot(np.logspace(-2, 4, 1500),bb)\n",
    "    plt.plot(np.logspace(-2, 4, 1499),np.log(64) * np.diff(i)/np.diff(np.log(np.logspace(-2, 4, 1500))))\n",
    "plt.plot(np.logspace(-2, 4, 1500),np.mean(bb, axis=0), 'k', lw=2)\n",
    "plt.xscale('log')"
   ]
  },
  {
   "cell_type": "code",
   "execution_count": null,
   "metadata": {},
   "outputs": [],
   "source": [
    "bb = np.fromfile(\"../data/l2d_squared/N=64_navg=1024/p=0.5_Sm1.bin\").reshape(1024, 1500)\n",
    "x = np.logspace(-2, 4, 1500)\n",
    "x2 = np.logspace(-2, 4, 1500-1)\n",
    "plt.plot(x2,(np.log(64) * np.diff(bb, axis=1)/np.diff(np.log(x))).T)\n",
    "plt.xscale('log')"
   ]
  },
  {
   "cell_type": "code",
   "execution_count": null,
   "metadata": {},
   "outputs": [],
   "source": [
    "L = 20\n",
    "#\n",
    "L2 = L * L\n",
    "plen = 5\n",
    "p_list = np.array([2 * L2 * p // (plen + 1) for p in range(1, plen + 1)])"
   ]
  },
  {
   "cell_type": "code",
   "execution_count": null,
   "metadata": {},
   "outputs": [],
   "source": [
    "no_p = 10\n",
    "no_rw = 5\n",
    "pow2_m = 6\n",
    "pow2_M = 14\n",
    "\n",
    "lsN = np.array([2**i for i in range(pow2_m, pow2_M, 2)])\n",
    "lsNavg = 2**np.array([(pow2_M-i+1) for i in range(pow2_m, pow2_M, 2)])"
   ]
  },
  {
   "cell_type": "code",
   "execution_count": null,
   "metadata": {},
   "outputs": [],
   "source": [
    "plt.figure(figsize=(12, 6))\n",
    "t1Sm1Avg = []\n",
    "t1CsAvg = []\n",
    "p_list = [10, 20, 40, 80, 160, 240, 320]\n",
    "for p in p_list:\n",
    "    G = nx.grid_2d_graph(L, L, periodic=True)\n",
    "\n",
    "    ransample = random.sample(range(len(G.edges())), p)\n",
    "    for i,e in enumerate(G.edges()):\n",
    "        G.add_edge(e[0], e[1], weight=1)\n",
    "        if i in ransample:\n",
    "            G[e[0]][e[1]]['weight'] = -1\n",
    "    [Sm1, dS1, VarL1, t1] = entropy(G, is_signed=False)\n",
    "    t1Sm1Avg.append([t1, Sm1])\n",
    "    plt.plot(t1, Sm1, label=fr'$p={p/(2 *L2)}$')\n",
    "    t11 = (t1[1:]+t1[:-1])/2.0\n",
    "    plt.plot(t11, dS1/np.max(dS1), ls='--',\n",
    "                color=plt.gca().lines[-1].get_color())\n",
    "    t1CsAvg.append([t11, dS1])\n",
    "\n",
    "plt.ylabel('1-S')\n",
    "plt.xlabel(r'$\\tau$')\n",
    "# plt.ylim(0, 5)\n",
    "plt.xscale('log')\n",
    "plt.legend()\n"
   ]
  },
  {
   "cell_type": "code",
   "execution_count": null,
   "metadata": {},
   "outputs": [],
   "source": [
    "plt.figure(figsize=(12, 6))\n",
    "t1Sm1Avg = []\n",
    "t1CsAvg = []\n",
    "p_list = [50, 100, 200, 400, 500, 600]\n",
    "for p in p_list:\n",
    "    G = nx.grid_2d_graph(L, L, periodic=True)\n",
    "\n",
    "    ransample = random.sample(range(len(G.edges())), p)\n",
    "    for i,e in enumerate(G.edges()):\n",
    "        G.add_edge(e[0], e[1], weight=1)\n",
    "        if i in ransample:\n",
    "            G[e[0]][e[1]]['weight'] = -1\n",
    "    [Sm1, dS1, VarL1, t1] = entropy(G, is_signed=True)\n",
    "    t1Sm1Avg.append([t1, Sm1])\n",
    "    plt.plot(t1, Sm1, label=fr'$p={p/(2 *L2)}$')\n",
    "    t11 = (t1[1:]+t1[:-1])/2.0\n",
    "    plt.plot(t11, dS1/np.max(dS1), ls='--',\n",
    "                color=plt.gca().lines[-1].get_color())\n",
    "    t1CsAvg.append([t11, dS1])\n",
    "\n",
    "plt.ylabel('1-S')\n",
    "plt.xlabel(r'$\\tau$')\n",
    "# plt.ylim(0, 5)\n",
    "plt.xscale('log')\n",
    "plt.legend()"
   ]
  },
  {
   "cell_type": "code",
   "execution_count": null,
   "metadata": {},
   "outputs": [],
   "source": [
    "L = 32\n",
    "L2= L*L\n",
    "plt.figure(figsize=(12, 6))\n",
    "t1Sm1Avg = []\n",
    "t1CsAvg = []\n",
    "for p in [5, 10, 20, 50]:\n",
    "    G = nx.grid_2d_graph(L, L, periodic=True)\n",
    "\n",
    "    ransample = random.sample(range(len(G.edges())), p)\n",
    "    for i,e in enumerate(G.edges()):\n",
    "        G.add_edge(e[0], e[1], weight=1)\n",
    "        if i in ransample:\n",
    "            G[e[0]][e[1]]['weight'] = -1\n",
    "    [Sm1, dS1, VarL1, t1] = entropy(G, is_signed=True, t2=5)\n",
    "    t1Sm1Avg.append([t1, Sm1])\n",
    "    plt.plot(t1, Sm1, label=fr'$p={p/(2 *L2)}$')\n",
    "    t11 = (t1[1:]+t1[:-1])/2.0\n",
    "    plt.plot(t11, dS1/np.max(dS1), ls='--',\n",
    "                color=plt.gca().lines[-1].get_color())\n",
    "    # t1CsAvg.append([t11, dS1])\n",
    "\n",
    "plt.ylabel('1-S')\n",
    "plt.xlabel(r'$\\tau$')\n",
    "# plt.ylim(0, 5)\n",
    "plt.xscale('log')\n",
    "# plt.yscale('log')\n",
    "plt.legend()"
   ]
  },
  {
   "cell_type": "code",
   "execution_count": null,
   "metadata": {},
   "outputs": [],
   "source": [
    "L = 32\n",
    "L2= L*L\n",
    "plt.figure(figsize=(12, 6))\n",
    "t1Sm1Avg = []\n",
    "t1CsAvg = []\n",
    "for p in [5, 10, 20, 50]:\n",
    "    G = nx.grid_2d_graph(L, L, periodic=True)\n",
    "\n",
    "    ransample = random.sample(range(len(G.edges())), p)\n",
    "    for i,e in enumerate(G.edges()):\n",
    "        G.add_edge(e[0], e[1], weight=1)\n",
    "        if i in ransample:\n",
    "            G[e[0]][e[1]]['weight'] = -1\n",
    "    [Sm1, dS1, VarL1, t1] = entropy(G, is_signed=True, t2=5)\n",
    "    t1Sm1Avg.append([t1, Sm1])\n",
    "    plt.plot(t1, Sm1, label=fr'$p={p/(2 *L2)}$')\n",
    "    t11 = (t1[1:]+t1[:-1])/2.0\n",
    "    plt.plot(t11, dS1/np.max(dS1), ls='--',\n",
    "                color=plt.gca().lines[-1].get_color())\n",
    "    t1CsAvg.append([t11, dS1])\n",
    "\n",
    "plt.ylabel('1-S')\n",
    "plt.xlabel(r'$\\tau$')\n",
    "# plt.ylim(0, 5)\n",
    "plt.xscale('log')\n",
    "plt.legend()"
   ]
  },
  {
   "cell_type": "code",
   "execution_count": null,
   "metadata": {},
   "outputs": [],
   "source": [
    "L = 32\n",
    "L2= L*L\n",
    "plt.figure(figsize=(12, 6))\n",
    "t1Sm1Avg = []\n",
    "t1CsAvg = []\n",
    "for p in [512, 1024, 1200]:\n",
    "    G = nx.grid_2d_graph(L, L, periodic=True)\n",
    "\n",
    "    ransample = random.sample(range(len(G.edges())), p)\n",
    "    for i,e in enumerate(G.edges()):\n",
    "        G.add_edge(e[0], e[1], weight=1)\n",
    "        if i in ransample:\n",
    "            G[e[0]][e[1]]['weight'] = -1\n",
    "    [Sm1, dS1, VarL1, t1] = entropy(G, is_signed=True, t2=5)\n",
    "    t1Sm1Avg.append([t1, Sm1])\n",
    "    plt.plot(t1, Sm1, label=fr'$p={p/(2 *L2)}$')\n",
    "    t11 = (t1[1:]+t1[:-1])/2.0\n",
    "    plt.plot(t11, dS1/np.max(dS1), ls='--',\n",
    "                color=plt.gca().lines[-1].get_color())\n",
    "    t1CsAvg.append([t11, dS1])\n",
    "\n",
    "plt.ylabel('1-S')\n",
    "plt.xlabel(r'$\\tau$')\n",
    "# plt.ylim(0, 5)\n",
    "plt.xscale('log')\n",
    "plt.legend()"
   ]
  },
  {
   "cell_type": "code",
   "execution_count": null,
   "metadata": {},
   "outputs": [],
   "source": [
    "colors = ['r' if G[u][v]['weight'] == -1 else 'k' for u, v in G.edges()]\n",
    "plt.figure(figsize=(10, 10))\n",
    "pos = {(x,y):(y,-x) for x,y in G.nodes()}\n",
    "nx.draw(G, edge_color=colors, pos=pos, node_size=100, width=4)"
   ]
  },
  {
   "cell_type": "code",
   "execution_count": null,
   "metadata": {},
   "outputs": [],
   "source": [
    "\n",
    "\n",
    "plt.figure(figsize=(12, 6))\n",
    "t1Sm1Avg = []\n",
    "t1CsAvg = []\n",
    "for L in [16, 32, 64]:\n",
    "    G = nx.grid_2d_graph(L, L, periodic=True)\n",
    "    L2= L*L\n",
    "    p = int(0.01 * len(G.edges()))\n",
    "    ransample = random.sample(range(len(G.edges())), p)\n",
    "    for i,e in enumerate(G.edges()):\n",
    "        G.add_edge(e[0], e[1], weight=1)\n",
    "        if i in ransample:\n",
    "            G[e[0]][e[1]]['weight'] = -1\n",
    "    [Sm1, dS1, VarL1, t1] = entropy(G, is_signed=True, t2=5)\n",
    "    t1Sm1Avg.append([t1, Sm1])\n",
    "    plt.plot(t1, Sm1, label=fr'$L={L}$')\n",
    "    t11 = (t1[1:]+t1[:-1])/2.0\n",
    "    plt.plot(t11, dS1, ls='--',\n",
    "                color=plt.gca().lines[-1].get_color())\n",
    "    # t1CsAvg.append([t11, dS1])\n",
    "\n",
    "plt.ylabel('1-S')\n",
    "plt.xlabel(r'$\\tau$')\n",
    "# plt.ylim(0, 5)\n",
    "plt.xscale('log')\n",
    "# plt.yscale('log')\n",
    "plt.legend()"
   ]
  },
  {
   "cell_type": "code",
   "execution_count": null,
   "metadata": {},
   "outputs": [],
   "source": [
    "import numpy as np \n",
    "L = np.array([16, 32, 64])**2\n",
    "L*0.103"
   ]
  },
  {
   "cell_type": "code",
   "execution_count": null,
   "metadata": {},
   "outputs": [],
   "source": [
    "plt.figure(figsize=(12, 6))\n",
    "t1Sm1Avg = []\n",
    "t1CsAvg = []\n",
    "for L in [16, 32, 64]:\n",
    "    G = nx.grid_2d_graph(L, L, periodic=True)\n",
    "    L2= L*L\n",
    "    p = int(0.1 * len(G.edges()))\n",
    "    ransample = random.sample(range(len(G.edges())), p)\n",
    "    for i,e in enumerate(G.edges()):\n",
    "        G.add_edge(e[0], e[1], weight=1)\n",
    "        if i in ransample:\n",
    "            G[e[0]][e[1]]['weight'] = -1\n",
    "    [Sm1, dS1, VarL1, t1] = entropy(G, is_signed=True, t2=5)\n",
    "    t1Sm1Avg.append([t1, Sm1])\n",
    "    plt.plot(t1, Sm1, label=fr'$L={L}$')\n",
    "    t11 = (t1[1:]+t1[:-1])/2.0\n",
    "    plt.plot(t11, dS1, ls='--',\n",
    "                color=plt.gca().lines[-1].get_color())\n",
    "    # t1CsAvg.append([t11, dS1])\n",
    "\n",
    "plt.ylabel('1-S')\n",
    "plt.xlabel(r'$\\tau$')\n",
    "# plt.ylim(0, 5)\n",
    "plt.xscale('log')\n",
    "# plt.yscale('log')\n",
    "plt.legend()"
   ]
  },
  {
   "cell_type": "code",
   "execution_count": null,
   "metadata": {},
   "outputs": [],
   "source": [
    "plt.figure(figsize=(12, 6))\n",
    "t1Sm1Avg = []\n",
    "t1CsAvg = []\n",
    "for L in [16, 32, 64]:\n",
    "    G = nx.grid_2d_graph(L, L, periodic=True)\n",
    "    L2= L*L\n",
    "    p = int(0.2 * len(G.edges()))\n",
    "    ransample = random.sample(range(len(G.edges())), p)\n",
    "    for i,e in enumerate(G.edges()):\n",
    "        G.add_edge(e[0], e[1], weight=1)\n",
    "        if i in ransample:\n",
    "            G[e[0]][e[1]]['weight'] = -1\n",
    "    [Sm1, dS1, VarL1, t1] = entropy(G, is_signed=True, t2=5)\n",
    "    t1Sm1Avg.append([t1, Sm1])\n",
    "    plt.plot(t1, Sm1, label=fr'$L={L}$')\n",
    "    t11 = (t1[1:]+t1[:-1])/2.0\n",
    "    plt.plot(t11, dS1, ls='--',\n",
    "                color=plt.gca().lines[-1].get_color())\n",
    "    # t1CsAvg.append([t11, dS1])\n",
    "\n",
    "plt.ylabel('1-S')\n",
    "plt.xlabel(r'$\\tau$')\n",
    "# plt.ylim(0, 5)\n",
    "plt.xscale('log')\n",
    "# plt.yscale('log')\n",
    "plt.legend()"
   ]
  },
  {
   "cell_type": "code",
   "execution_count": null,
   "metadata": {},
   "outputs": [],
   "source": [
    "colors = ['r' if G[u][v]['weight'] == -1 else 'k' for u, v in G.edges()]\n",
    "plt.figure(figsize=(10, 10))\n",
    "pos = {(x,y):(y,-x) for x,y in G.nodes()}\n",
    "nx.draw(G, edge_color=colors, pos=pos, node_size=10, width=5)"
   ]
  },
  {
   "cell_type": "code",
   "execution_count": null,
   "metadata": {},
   "outputs": [],
   "source": [
    "G = nx.grid_2d_graph(L, L, periodic=True)\n",
    "L2= L*L\n",
    "p = int(0.2 * len(G.edges()))\n",
    "ransample = random.sample(range(len(G.edges())), p)\n",
    "for i,e in enumerate(G.edges()):\n",
    "    G.add_edge(e[0], e[1], weight=1)\n",
    "    if i in ransample:\n",
    "        G[e[0]][e[1]]['weight'] = -1\n",
    "lapl, w = get_graph_lspectrum_rw(G, is_signed=True)"
   ]
  },
  {
   "cell_type": "code",
   "execution_count": null,
   "metadata": {},
   "outputs": [],
   "source": [
    "from scipy.sparse.linalg import eigs\n",
    "L = 256\n",
    "G = nx.grid_2d_graph(L, L, periodic=True)\n",
    "lapl = nx.laplacian_matrix(G).asfptype()\n",
    "a = eigs(lapl, k=1, which='SM', return_eigenvectors=False)"
   ]
  }
 ],
 "metadata": {
  "kernelspec": {
   "display_name": "LRG-Signed",
   "language": "python",
   "name": "python3"
  },
  "language_info": {
   "codemirror_mode": {
    "name": "ipython",
    "version": 3
   },
   "file_extension": ".py",
   "mimetype": "text/x-python",
   "name": "python",
   "nbconvert_exporter": "python",
   "pygments_lexer": "ipython3",
   "version": "3.10.9"
  },
  "orig_nbformat": 4
 },
 "nbformat": 4,
 "nbformat_minor": 2
}
