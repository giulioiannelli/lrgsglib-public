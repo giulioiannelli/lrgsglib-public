{
 "cells": [
  {
   "cell_type": "code",
   "execution_count": 7,
   "metadata": {},
   "outputs": [],
   "source": [
    "def generate_cycles(grid_size):\n",
    "    cycles = []\n",
    "\n",
    "    def dfs(x, y, path):\n",
    "        if len(path) > 2 and (x, y) == path[0]:\n",
    "            cycles.append(path)\n",
    "            return\n",
    "\n",
    "        path.append((x, y))\n",
    "\n",
    "        # Explore adjacent cells\n",
    "        neighbors = [(x+1, y), (x-1, y), (x, y+1), (x, y-1)]\n",
    "        for nx, ny in neighbors:\n",
    "            if 0 <= nx < grid_size and 0 <= ny < grid_size and (nx, ny) not in path:\n",
    "                dfs(nx, ny, path[:])\n",
    "\n",
    "    # Iterate over all cells in the grid\n",
    "    for i in range(grid_size):\n",
    "        for j in range(grid_size):\n",
    "            dfs(i, j, [])\n",
    "\n",
    "    return cycles"
   ]
  },
  {
   "cell_type": "code",
   "execution_count": 8,
   "metadata": {},
   "outputs": [
    {
     "data": {
      "text/plain": [
       "[]"
      ]
     },
     "execution_count": 8,
     "metadata": {},
     "output_type": "execute_result"
    }
   ],
   "source": [
    "generate_cycles(5)"
   ]
  },
  {
   "cell_type": "code",
   "execution_count": 13,
   "metadata": {},
   "outputs": [],
   "source": [
    "import itertools\n",
    "\n",
    "def generate_cycles(grid_size):\n",
    "    cycles = []\n",
    "\n",
    "    for i in range(grid_size):\n",
    "        for j in range(grid_size):\n",
    "            stack = [(i, j, [])]\n",
    "\n",
    "            while stack:\n",
    "                x, y, path = stack.pop()\n",
    "\n",
    "                if len(path) > 2 and (x, y) == path[0]:\n",
    "                    cycles.append(path)\n",
    "                    continue\n",
    "\n",
    "                path.append((x, y))\n",
    "\n",
    "                neighbors = [(x+1, y), (x-1, y), (x, y+1), (x, y-1)]\n",
    "                for nx, ny in neighbors:\n",
    "                    if 0 <= nx < grid_size and 0 <= ny < grid_size and (nx, ny) not in path:\n",
    "                        stack.append((nx, ny, path[:]))\n",
    "\n",
    "    return cycles\n"
   ]
  },
  {
   "cell_type": "code",
   "execution_count": 14,
   "metadata": {},
   "outputs": [
    {
     "data": {
      "text/plain": [
       "[]"
      ]
     },
     "execution_count": 14,
     "metadata": {},
     "output_type": "execute_result"
    }
   ],
   "source": [
    "generate_cycles(5)"
   ]
  },
  {
   "cell_type": "code",
   "execution_count": null,
   "metadata": {},
   "outputs": [],
   "source": []
  }
 ],
 "metadata": {
  "kernelspec": {
   "display_name": "LRG-Signed",
   "language": "python",
   "name": "python3"
  },
  "language_info": {
   "codemirror_mode": {
    "name": "ipython",
    "version": 3
   },
   "file_extension": ".py",
   "mimetype": "text/x-python",
   "name": "python",
   "nbconvert_exporter": "python",
   "pygments_lexer": "ipython3",
   "version": "3.9.16"
  },
  "orig_nbformat": 4
 },
 "nbformat": 4,
 "nbformat_minor": 2
}
