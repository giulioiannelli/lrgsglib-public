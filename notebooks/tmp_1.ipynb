{
 "cells": [
  {
   "cell_type": "code",
   "execution_count": 6,
   "metadata": {},
   "outputs": [
    {
     "name": "stdout",
     "output_type": "stream",
     "text": [
      "cwd: /home/opisthofulax/PhD/projects/complex-networks/LRG-Signed\n"
     ]
    }
   ],
   "source": [
    "%matplotlib inline\n",
    "#\n",
    "from os import chdir, getcwd\n",
    "ROOTF = 'LRG-Signed'\n",
    "if getcwd()[-len(ROOTF):] != ROOTF:\n",
    "    chdir('../')\n",
    "print('cwd:', getcwd())\n",
    "#\n",
    "from src.LRGSG_package.LRGSG import *"
   ]
  },
  {
   "cell_type": "code",
   "execution_count": 20,
   "metadata": {},
   "outputs": [],
   "source": [
    "#Generate network\n",
    "L = 20\n",
    "p = 0.12\n",
    "G = nx.grid_2d_graph(L, L, periodic=True)\n",
    "flip_random_fract_edges(G, p)\n",
    "neg_weightsG = {((i, j), (i, j+1)): -1 for i in range(L) for j in [L//3, L//2]}#strip\n",
    "# neg_weightsG = {(i[0], i[1]): -1 for i in list(G.edges())[::2]}\n",
    "# neg_weightsG = {((i, j), (i+1, j)): -1 for i in range(L) for j in range(L//2, L//2+4)}\n",
    "# nx.set_edge_attributes(G, values=1, name='weight')\n",
    "# nx.set_edge_attributes(G, values=neg_weightsG, name='weight')\n",
    "#\n",
    "N=G.number_of_nodes()\n",
    "\n",
    "#\n",
    "H = nx.convert_node_labels_to_integers(G)\n"
   ]
  },
  {
   "cell_type": "code",
   "execution_count": 21,
   "metadata": {},
   "outputs": [],
   "source": [
    "adj = nx.adjacency_matrix(G).toarray()\n",
    "diabs = np.diag(np.abs(adj).sum(axis=1))\n",
    "slapl = diabs - adj\n",
    "eigv, eigV = np.linalg.eigh(slapl)\n",
    "eigV=np.transpose(eigV)"
   ]
  },
  {
   "cell_type": "code",
   "execution_count": 22,
   "metadata": {},
   "outputs": [],
   "source": [
    "labels=np.where((eigV[0] < 0))[0]\n",
    "lista=['red' if i in labels else 'blue' for i in range(H.number_of_nodes())]\n",
    "listaE=['red' if e[2]['weight']==-1 else 'blue' for e in list(H.edges(data=True))]\n",
    "pos = dict((i, n) for i,n in enumerate(G.nodes()))"
   ]
  },
  {
   "cell_type": "code",
   "execution_count": 29,
   "metadata": {},
   "outputs": [
    {
     "name": "stderr",
     "output_type": "stream",
     "text": [
      "/tmp/ipykernel_39121/3190446764.py:29: DeprecationWarning: Sampling from a set deprecated\n",
      "since Python 3.9 and will be removed in a subsequent version.\n",
      "  sample = rd.sample(H.nodes, N)\n",
      "100%|██████████| 800/800 [00:05<00:00, 139.58it/s]\n"
     ]
    }
   ],
   "source": [
    "import matplotlib.pyplot as plt\n",
    "import networkx as nx\n",
    "import sys\n",
    "import random as rd\n",
    "import numpy as np\n",
    "from tqdm import tqdm\n",
    "\n",
    "#\n",
    "nmax=2*N\n",
    "T=0.1\n",
    "\n",
    "def calcEnergy(m, H):\n",
    "    '''Energy of a given configuration'''\n",
    "    energy = 0\n",
    "    for i in range(N):\n",
    "        neigh=[w['weight']*m[nn] for nn, w in dict(H[i]).items()]\n",
    "        energy += -m[i]*np.sum(neigh)\n",
    "    return energy/4.\n",
    "\n",
    "#Initialize magnetization\n",
    "labels=np.where((eigV[0] < 0))[0]\n",
    "lista=['red' if i in labels else 'blue' for i in range(H.number_of_nodes())]\n",
    "\n",
    "m=[1 if i in labels else -1 for i in range(H.number_of_nodes())]\n",
    "\n",
    "#Metropolis\n",
    "magn = []\n",
    "ene = []\n",
    "sample = rd.sample(H.nodes, N)\n",
    "for nsteps in tqdm(range(nmax)):\n",
    "    magn.append(np.sum(m))\n",
    "    ene.append(calcEnergy(m, H))\n",
    "    for i in range(N):\n",
    "        node=sample[i]\n",
    "        m_new = -m[node]\n",
    "\n",
    "        #Metropolis thing\n",
    "        neigh=[w['weight']*m[nn] for nn, w in dict(H[node]).items()]\n",
    "        E_old=-m[node]*np.sum(neigh)\n",
    "        E_new=-m_new*np.sum(neigh)\n",
    "\n",
    "        if E_new<E_old:\n",
    "            m[node]=m_new\n",
    "        else:\n",
    "            r=rd.uniform(0, 1)\n",
    "            if (r<np.exp(-(E_new-E_old)/T)):\n",
    "                m[node]=m_new\n"
   ]
  },
  {
   "cell_type": "code",
   "execution_count": 33,
   "metadata": {},
   "outputs": [
    {
     "data": {
      "image/png": "[encoded data removed]",
      "text/plain": [
       "<Figure size 1400x700 with 2 Axes>"
      ]
     },
     "metadata": {},
     "output_type": "display_data"
    }
   ],
   "source": [
    "mapping = {old_label:new_label for new_label, old_label in enumerate(G.nodes())}\n",
    "Im=np.zeros((L,L))\n",
    "for i1 in range(N):\n",
    "    Node=list(mapping)[i1]\n",
    "    if ((m[i1])==1): \n",
    "        Im[Node[1], Node[0]]=-1\n",
    "    if ((m[i1])==-1): \n",
    "        Im[Node[1],Node[0]]=1\n",
    "\n",
    "\n",
    "listam=['red' if i >0 else 'blue' for i in m]\n",
    "from matplotlib import colors\n",
    "# cmap = colors.ListedColormap(['darkblue', 'red'])\n",
    "fig, (ax, ax1) = plt.subplots(ncols=2, figsize=(14, 7))\n",
    "plt.subplots_adjust(wspace=None)\n",
    "nx.draw(H, pos=pos, node_size=300, width=3, ax=ax, node_color=lista, node_shape=\"s\", edge_color=listaE)\n",
    "nx.draw(H, pos=pos, node_size=300, width=3, ax=ax1, node_color=listam, node_shape=\"s\", edge_color=listaE)\n",
    "# im = ax1.imshow(Im,interpolation=None,cmap=cmap, origin='lower')\n",
    "# fig.colorbar(im, ax=ax1)\n",
    "fig.tight_layout()"
   ]
  },
  {
   "cell_type": "code",
   "execution_count": null,
   "metadata": {},
   "outputs": [],
   "source": []
  }
 ],
 "metadata": {
  "kernelspec": {
   "display_name": "LRG-Signed",
   "language": "python",
   "name": "python3"
  },
  "language_info": {
   "codemirror_mode": {
    "name": "ipython",
    "version": 3
   },
   "file_extension": ".py",
   "mimetype": "text/x-python",
   "name": "python",
   "nbconvert_exporter": "python",
   "pygments_lexer": "ipython3",
   "version": "3.9.16"
  },
  "orig_nbformat": 4
 },
 "nbformat": 4,
 "nbformat_minor": 2
}
