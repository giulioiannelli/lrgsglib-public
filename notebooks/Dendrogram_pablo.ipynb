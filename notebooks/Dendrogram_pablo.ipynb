{
 "cells": [
  {
   "cell_type": "code",
   "execution_count": 1,
   "id": "cccfc913",
   "metadata": {},
   "outputs": [],
   "source": [
    "import numpy as np\n",
    "import seaborn as sns\n",
    "import matplotlib.pyplot as plt\n",
    "%matplotlib inline\n",
    "import random\n",
    "import pandas as pd"
   ]
  },
  {
   "cell_type": "code",
   "execution_count": 5,
   "id": "285f30b3",
   "metadata": {},
   "outputs": [
    {
     "data": {
      "image/png": "[encoded data removed]",
      "text/plain": [
       "<Figure size 216x432 with 1 Axes>"
      ]
     },
     "metadata": {
      "needs_background": "light"
     },
     "output_type": "display_data"
    }
   ],
   "source": [
    "from farrow_and_ball import *\n",
    "import matplotlib.pyplot as plt\n",
    "from scipy.cluster import hierarchy\n",
    "import numpy as np\n",
    "import seaborn as sns\n",
    "from matplotlib.pyplot import cm\n",
    "from scipy.cluster import hierarchy\n",
    "import matplotlib as mpl\n",
    "import matplotlib.colors\n",
    "from scipy.spatial.distance import squareform\n",
    "from scipy.cluster.hierarchy import fcluster\n",
    "from matplotlib.ticker import FormatStrFormatter\n",
    "import matplotlib.pyplot\n",
    "import matplotlib.ticker\n",
    "import networkx as nx\n",
    "#from mpl_toolkits.axes_grid.inset_locator import (inset_axes, InsetPosition,mark_inset)\n",
    "from mpl_toolkits.axes_grid1 import make_axes_locatable\n",
    "import pandas as pd\n",
    "from scipy.linalg import expm, sinm, cosm\n",
    "from scipy.cluster.hierarchy import dendrogram, linkage\n",
    "from scipy.spatial.distance import squareform\n",
    "from tqdm import tqdm\n",
    "\n",
    "ax_dict = plt.figure(constrained_layout=True,figsize=(3,6)).subplot_mosaic(\n",
    "    \"\"\"\n",
    "     A\n",
    "    \"\"\"\n",
    ")\n",
    "\n",
    "#fig, ax = plt.subplots(1, 1, figsize=(4, 6))\n",
    "\n",
    "Th= 0.1\n",
    "G = nx.karate_club_graph()\n",
    "w=1/nx.laplacian_spectrum(G)\n",
    "tau=w[33]\n",
    "L=nx.laplacian_matrix(G)\n",
    "L1=L.todense()\n",
    "num=expm((-tau*L1))\n",
    "den=np.trace(num)\n",
    "rho=num/den\n",
    "Trho=np.copy(1.0/rho)#1/adj2\n",
    "Trho = np.maximum(Trho, Trho.transpose() )\n",
    "np.fill_diagonal(Trho, 0)\n",
    "\n",
    "\n",
    "\n",
    "dists = squareform(Trho)\n",
    "linkage_matrix = linkage(dists, \"average\")\n",
    "labelList = [i+1 for i in range(0, len(G.nodes()))]\n",
    "tmax=linkage_matrix[::, 2][-1]#+0.01*linkage_matrix[::, 2][-1]\n",
    "linkage_matrix = linkage(dists/tmax, \"average\")\n",
    "dendrogram(linkage_matrix,labels=labelList,ax=ax_dict['A'],leaf_rotation=0,orientation='right',color_threshold=Th,above_threshold_color='k',leaf_font_size=10)\n",
    "CM=fcluster(linkage_matrix, t=Th, criterion='distance')\n",
    "cmap = build_colormap(MiscPalette.TONKA, True)\n",
    "cmap1 = cmap(np.linspace(0, 1, np.max(CM)))\n",
    "#cmap1[0]=[46/255., 159/255., 223/255., 1.]\n",
    "cmap1[0]=[0., 175/255., 187/255., 1.]\n",
    "#cmap1[1]=[231/255.,184/255.,0.,1.]\n",
    "cmap1[1]=[252/255., 78/255., 7/255., 1.]\n",
    "hierarchy.set_link_color_palette([mpl.colors.rgb2hex(rgb[:3]) for rgb in cmap1])\n",
    "cont=0\n",
    "ax_dict['A'].axvline(x = Th, color = '#ED2939', linestyle = '--')\n",
    "ax_dict['A'].set_xscale('linear')\n",
    "tmin=linkage_matrix[::, 2][0]-0.2*linkage_matrix[::, 2][0]\n",
    "tmax=linkage_matrix[::, 2][-1]+0.1*linkage_matrix[::, 2][-1]\n",
    "ax_dict['A'].set_xlim(tmin,tmax)\n",
    "ax_dict['A'].set_xlabel(r'$\\mathcal{D}/\\mathcal{D}_{max}$')\n",
    "ax_dict['A'].set_ylabel('Node index')\n",
    "ax_dict['A'].set_xscale('log')\n",
    "ax_dict['A'].set_xticks([1e-4,1e-2,1e0])\n",
    "\n",
    "\n",
    "plt.show()"
   ]
  },
  {
   "cell_type": "code",
   "execution_count": null,
   "id": "8ec66067",
   "metadata": {},
   "outputs": [],
   "source": []
  }
 ],
 "metadata": {
  "kernelspec": {
   "display_name": "Python 3 (ipykernel)",
   "language": "python",
   "name": "python3"
  },
  "language_info": {
   "codemirror_mode": {
    "name": "ipython",
    "version": 3
   },
   "file_extension": ".py",
   "mimetype": "text/x-python",
   "name": "python",
   "nbconvert_exporter": "python",
   "pygments_lexer": "ipython3",
   "version": "3.9.7"
  }
 },
 "nbformat": 4,
 "nbformat_minor": 5
}
