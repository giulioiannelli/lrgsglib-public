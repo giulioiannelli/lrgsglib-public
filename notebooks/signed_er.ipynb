{
 "cells": [
  {
   "cell_type": "code",
   "execution_count": 1,
   "metadata": {},
   "outputs": [],
   "source": [
    "%matplotlib inline\n",
    "import sys\n",
    "sys.path.append('../')\n",
    "from src.LRGSG_package.LRGSG import *"
   ]
  },
  {
   "cell_type": "code",
   "execution_count": null,
   "metadata": {},
   "outputs": [],
   "source": [
    "N = 100\n",
    "Navg = 2\n",
    "p = 0.1\n",
    "G = nx.erdos_renyi_graph(N, p, seed=None, directed=False)"
   ]
  },
  {
   "cell_type": "code",
   "execution_count": null,
   "metadata": {},
   "outputs": [],
   "source": [
    "rmax = 10\n",
    "t1Sm1Avg = []\n",
    "t1CsAvg = []\n",
    "for r in [i/rmax for i in range(rmax)]:\n",
    "    G = nx.erdos_renyi_graph(N, p, seed=None, directed=False)\n",
    "    labelList = [i for i in range(G.number_of_nodes())]\n",
    "    for e in G.edges():\n",
    "        G.add_edge(e[0], e[1], weight=1)\n",
    "        if np.random.random(1) < 0.01:\n",
    "            G[e[0]][e[1]]['weight'] = -1\n",
    "    [Sm1, dS1, VarL1, t1] = entropy(G, is_signed=True)\n",
    "    t1Sm1Avg.append([t1, Sm1])\n",
    "    plt.plot(t1, Sm1, label='ER-05')\n",
    "    t11 = (t1[1:]+t1[:-1])/2.0\n",
    "    plt.plot(t11, dS1/np.max(dS1), ls='--',\n",
    "             color=plt.gca().lines[-1].get_color())\n",
    "    t1CsAvg.append([t11, dS1/np.max(dS1)])\n",
    "\n",
    "plt.ylabel('1-S')\n",
    "plt.xlabel(r'$\\tau$')\n",
    "\n",
    "plt.xscale('log')\n"
   ]
  },
  {
   "cell_type": "code",
   "execution_count": null,
   "metadata": {},
   "outputs": [],
   "source": [
    "averaged_Sm1(t1CsAvg)"
   ]
  },
  {
   "cell_type": "code",
   "execution_count": null,
   "metadata": {},
   "outputs": [],
   "source": [
    "lenLs = 1000\n",
    "avgSm1 = np.zeros(lenLs)\n",
    "all_t1 = np.concatenate([i[0] for i in t1Sm1Avg])\n",
    "commonLs = np.logspace(np.log10(min(all_t1)), np.log10(max(all_t1)), lenLs)\n",
    "digitizedLs = []\n",
    "for tS in t1Sm1Avg:\n",
    "    digiTmp = np.digitize(tS[0], bins=commonLs)-1\n",
    "    np.add.at(avgSm1, digiTmp, tS[1])\n",
    "    digitizedLs.extend(digiTmp)\n",
    "unique, counts = np.unique(digitizedLs, return_counts=True)\n",
    "avgSm1 /= counts \n",
    "\n",
    "plt.plot(commonLs, avgSm1, label='ER-05')\n",
    "plt.ylabel('1-S')\n",
    "plt.xlabel(r'$\\tau$')\n",
    "\n",
    "plt.xscale('log')"
   ]
  },
  {
   "cell_type": "code",
   "execution_count": null,
   "metadata": {},
   "outputs": [],
   "source": [
    "\n"
   ]
  },
  {
   "cell_type": "code",
   "execution_count": null,
   "metadata": {},
   "outputs": [],
   "source": [
    "colors = ['r' if G[u][v]['weight'] == -1 else 'k' for u, v in G.edges()]\n",
    "plt.figure(figsize=(16, 8))\n",
    "nx.draw(G, edge_color=colors, node_size=300, with_labels=True)\n"
   ]
  },
  {
   "cell_type": "code",
   "execution_count": null,
   "metadata": {},
   "outputs": [],
   "source": [
    "# laplacian, spectrum and densities\n",
    "linkage_matrix, w = MakeLinkageMatrix(\n",
    "    G, tau=1e2, is_signed=True, method=\"ward\")\n",
    "#\n",
    "tmin = linkage_matrix[::, 2][0]-0.2*linkage_matrix[::, 2][0]\n",
    "tmax = linkage_matrix[::, 2][-1]+0.1*linkage_matrix[::, 2][-1]"
   ]
  },
  {
   "cell_type": "code",
   "execution_count": null,
   "metadata": {},
   "outputs": [],
   "source": [
    "G.get_edge_data(0, 3), G.get_edge_data(8, 9)"
   ]
  },
  {
   "cell_type": "code",
   "execution_count": null,
   "metadata": {},
   "outputs": [],
   "source": [
    "# utils\n",
    "tresh = 0.1\n",
    "dentroOpts = {'leaf_rotation': 0,\n",
    "              'orientation': 'right',\n",
    "              'color_threshold': tresh,\n",
    "              'above_threshold_color': 'k',\n",
    "              'leaf_font_size': 10,\n",
    "              'labels': labelList}\n"
   ]
  },
  {
   "cell_type": "code",
   "execution_count": null,
   "metadata": {},
   "outputs": [],
   "source": [
    "ax_dict = plt.figure(constrained_layout=True,\n",
    "                     figsize=(24, 12)).subplot_mosaic(\"A\")\n",
    "\n",
    "dendrogram(linkage_matrix, labels=labelList, ax=ax_dict['A'], leaf_font_size=20)\n",
    "# CM = fcluster(linkage_matrix, t=0.6, criterion='distance')\n",
    "# cmap = build_colormap(MiscPalette.TONKA, True)\n",
    "# cmap1 = cmap(np.linspace(0, 1, np.max(CM)))\n",
    "# cmap1[0]=[0., 175/255., 187/255., 1.]\n",
    "# cmap1[1]=[252/255., 78/255., 7/255., 1.]\n",
    "# hierarchy.set_link_color_palette([mplc.rgb2hex(rgb[:3]) for rgb in cmap1])\n",
    "# ax_dict['A'].axvline(x=tresh, color='#ED2939', linestyle='--')\n",
    "# ax_dict['A'].set_xlim(tmin, tmax)\n",
    "\n",
    "# ax_dict['A'].set_xlabel(r'$\\mathcal{D}/\\mathcal{D}_{max}$')\n",
    "# ax_dict['A'].set_ylabel('Node index')\n",
    "# ax_dict['A'].set_yscale('log')\n",
    "# ax_dict['A'].set_xticks([1e0])\n",
    "\n",
    "\n",
    "plt.show()\n"
   ]
  },
  {
   "cell_type": "code",
   "execution_count": null,
   "metadata": {},
   "outputs": [],
   "source": [
    "2**13"
   ]
  },
  {
   "cell_type": "code",
   "execution_count": null,
   "metadata": {},
   "outputs": [],
   "source": [
    "lsN = np.array([2**i for i in range(8, 13)])\n",
    "Navg = 4*np.array([2**(13-i) for i in range(8, 13)])\n",
    "lsp = np.array([[((1+i)*N)/(10*N) for i in range(9)] for N in lsN])"
   ]
  },
  {
   "cell_type": "code",
   "execution_count": null,
   "metadata": {},
   "outputs": [],
   "source": [
    "2**8"
   ]
  },
  {
   "cell_type": "code",
   "execution_count": null,
   "metadata": {},
   "outputs": [],
   "source": [
    "no_rw = 7\n",
    "\n",
    "lsrw = np.array([[((1+i)*N)/(no_rw*N) for i in range(no_rw-1)] for N in lsN])"
   ]
  },
  {
   "cell_type": "code",
   "execution_count": null,
   "metadata": {},
   "outputs": [],
   "source": [
    "lsrw"
   ]
  },
  {
   "cell_type": "code",
   "execution_count": null,
   "metadata": {},
   "outputs": [],
   "source": [
    "lsrw = np.array([((1+i))/(no_rw) for i in range(no_rw-1)])\n"
   ]
  },
  {
   "cell_type": "code",
   "execution_count": null,
   "metadata": {},
   "outputs": [],
   "source": [
    "lsrw"
   ]
  },
  {
   "cell_type": "code",
   "execution_count": null,
   "metadata": {},
   "outputs": [],
   "source": [
    "np.random.random()"
   ]
  },
  {
   "cell_type": "code",
   "execution_count": null,
   "metadata": {},
   "outputs": [],
   "source": [
    "import numpy as np\n",
    "from scipy.interpolate import interp1d\n",
    "import matplotlib.pyplot as plt\n",
    "\n",
    "# make up three datasets for testing\n",
    "x1 = np.linspace(0, 10, num=11, endpoint=True)\n",
    "x2 = np.linspace(0, 10, num=13, endpoint=True)\n",
    "x3 = np.linspace(0, 10, num=23, endpoint=True)\n",
    "\n",
    "y1 = np.cos(-x1**2/9.0) + 0.2*np.random.rand((len(x1)))\n",
    "y2 = np.cos(-x2**2/9.0) + 0.2*np.random.rand((len(x2)))\n",
    "y3 = np.cos(-x3**2/9.0) + 0.2*np.random.rand((len(x3)))\n",
    "\n",
    "# interpolate data\n",
    "f1 = interp1d(x1, y1,'cubic')\n",
    "f2 = interp1d(x2, y2,'cubic')\n",
    "f3 = interp1d(x3, y3,'cubic')\n",
    "\n",
    "# define common carrier for calculation of average curve\n",
    "x_all = np.linspace(0, 10, num=101, endpoint=True)\n",
    "\n",
    "# evaluation of fits on common carrier\n",
    "f1_int = f1(x_all)\n",
    "f2_int = f2(x_all)\n",
    "f3_int = f3(x_all)\n",
    "\n",
    "# put all fits to one matrix for fast mean calculation\n",
    "data_collection = np.vstack((f1_int,f2_int,f3_int))\n",
    "\n",
    "# calculating mean value\n",
    "f_avg = np.average(data_collection, axis=0)\n",
    "\n",
    "# plot this example\n",
    "plt.figure()\n",
    "plt.plot(x1,y1,'ro',label='row1')\n",
    "plt.plot(x2,y2,'bo',label='row2')\n",
    "plt.plot(x3,y3,'go',label='row3')\n",
    "\n",
    "plt.plot(x_all,f1_int,'r-',label='fit1')\n",
    "plt.plot(x_all,f2_int,'b-',label='fit2')\n",
    "plt.plot(x_all,f3_int,'g-',label='fit3')\n",
    "\n",
    "plt.plot(x_all, f_avg,'k--',label='fit average')\n",
    "plt.legend(loc=3)\n",
    "\n",
    "plt.show()"
   ]
  },
  {
   "cell_type": "code",
   "execution_count": null,
   "metadata": {},
   "outputs": [],
   "source": [
    "t = [[np.random.uniform(low=low, high=low+1, size=int(np.random.uniform(1, 4, 1))) for low in range(0, 10, 2)] for i in range(10)]"
   ]
  },
  {
   "cell_type": "code",
   "execution_count": null,
   "metadata": {},
   "outputs": [],
   "source": [
    "t"
   ]
  },
  {
   "cell_type": "code",
   "execution_count": null,
   "metadata": {},
   "outputs": [],
   "source": [
    "\n",
    "a = np.array([1, 2, 3, 4, 5])"
   ]
  },
  {
   "cell_type": "code",
   "execution_count": null,
   "metadata": {},
   "outputs": [],
   "source": [
    "np.delete(a, 0)"
   ]
  },
  {
   "cell_type": "code",
   "execution_count": null,
   "metadata": {},
   "outputs": [],
   "source": [
    "no_p = 10\n",
    "no_rw = 5\n",
    "pow2_m = 7\n",
    "pow2_M = 13\n",
    "\n",
    "\n",
    "lsN = np.array([2**i for i in range(pow2_m, pow2_M)])\n",
    "lsNavg = 2 * np.array([2**(pow2_M-i) for i in range(pow2_m, pow2_M)])\n",
    "dctp = {N: [2*(1+i/no_p*N)/((i/no_p+1)*N) for i in range(no_p-1)] for N in lsN}"
   ]
  },
  {
   "cell_type": "code",
   "execution_count": null,
   "metadata": {},
   "outputs": [],
   "source": [
    "dctp"
   ]
  },
  {
   "cell_type": "code",
   "execution_count": null,
   "metadata": {},
   "outputs": [],
   "source": []
  },
  {
   "cell_type": "code",
   "execution_count": null,
   "metadata": {},
   "outputs": [],
   "source": [
    "N = 10\n",
    "p = 0.1\n",
    "G = nx.erdos_renyi_graph(N, p, seed=None, directed=False)\n",
    "nx.draw(G, node_size=300, with_labels = True)"
   ]
  },
  {
   "cell_type": "code",
   "execution_count": null,
   "metadata": {},
   "outputs": [],
   "source": []
  },
  {
   "cell_type": "code",
   "execution_count": null,
   "metadata": {},
   "outputs": [],
   "source": []
  }
 ],
 "metadata": {
  "kernelspec": {
   "display_name": "LRG-Signed",
   "language": "python",
   "name": "python3"
  },
  "language_info": {
   "codemirror_mode": {
    "name": "ipython",
    "version": 3
   },
   "file_extension": ".py",
   "mimetype": "text/x-python",
   "name": "python",
   "nbconvert_exporter": "python",
   "pygments_lexer": "ipython3",
   "version": "3.10.9"
  },
  "orig_nbformat": 4
 },
 "nbformat": 4,
 "nbformat_minor": 2
}
