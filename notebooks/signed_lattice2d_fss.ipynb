{
 "cells": [
  {
   "cell_type": "code",
   "execution_count": 1,
   "metadata": {},
   "outputs": [
    {
     "name": "stdout",
     "output_type": "stream",
     "text": [
      "/home/opisthofulax/PhD/projects/complex-networks/LRG-Signed\n"
     ]
    }
   ],
   "source": [
    "%matplotlib inline\n",
    "%cd ..\n",
    "from src.LRGSG_package.LRGSG import *"
   ]
  },
  {
   "cell_type": "code",
   "execution_count": 3,
   "metadata": {},
   "outputs": [
    {
     "name": "stdout",
     "output_type": "stream",
     "text": [
      "list of sizes [16, 32, 64] \n",
      "list of flip probs [0.01, 0.05, 0.09, 0.098, 0.099, 0.1, 0.101, 0.102, 0.104, 0.15, 0.2, 0.3] \n",
      "list of replicas [64, 64, 64]\n"
     ]
    }
   ],
   "source": [
    "ssize_list = [2**k for k in range(4, 7)]\n",
    "nrep = [64, 64, 64]#[2**(15-k) for k in range(4, 8)]\n",
    "nrep_range = [range(nr) for nr in nrep]\n",
    "pval_list = [0.01, 0.05, 0.09, 0.098, 0.099, 0.100, 0.101, 0.102, 0.104, 0.15, 0.2, 0.3]\n",
    "print('list of sizes', ssize_list, '\\nlist of flip probs', pval_list, '\\nlist of replicas', nrep)"
   ]
  },
  {
   "cell_type": "code",
   "execution_count": 68,
   "metadata": {},
   "outputs": [
    {
     "name": "stderr",
     "output_type": "stream",
     "text": [
      "replicas for L=16, p=0.01: 100%|██████████| 64/64 [00:01<00:00, 32.32it/s]\n",
      "replicas for L=16, p=0.05: 100%|██████████| 64/64 [00:02<00:00, 27.18it/s]\n",
      "replicas for L=16, p=0.09: 100%|██████████| 64/64 [00:02<00:00, 28.56it/s]\n",
      "replicas for L=16, p=0.098: 100%|██████████| 64/64 [00:02<00:00, 30.46it/s]\n",
      "replicas for L=16, p=0.099: 100%|██████████| 64/64 [00:01<00:00, 32.02it/s]\n",
      "replicas for L=16, p=0.1: 100%|██████████| 64/64 [00:02<00:00, 31.21it/s]\n",
      "replicas for L=16, p=0.101: 100%|██████████| 64/64 [00:02<00:00, 30.45it/s]\n",
      "replicas for L=16, p=0.102: 100%|██████████| 64/64 [00:02<00:00, 29.03it/s]\n",
      "replicas for L=16, p=0.104: 100%|██████████| 64/64 [00:02<00:00, 27.34it/s]\n",
      "replicas for L=16, p=0.15: 100%|██████████| 64/64 [00:02<00:00, 28.97it/s]\n",
      "replicas for L=16, p=0.2: 100%|██████████| 64/64 [00:02<00:00, 26.86it/s]\n",
      "replicas for L=16, p=0.3: 100%|██████████| 64/64 [00:02<00:00, 26.41it/s]\n",
      "replicas for L=32, p=0.01: 100%|██████████| 64/64 [00:40<00:00,  1.57it/s]\n",
      "replicas for L=32, p=0.05:  11%|█         | 7/64 [00:05<00:46,  1.23it/s]\n"
     ]
    },
    {
     "ename": "KeyboardInterrupt",
     "evalue": "",
     "output_type": "error",
     "traceback": [
      "\u001b[0;31m---------------------------------------------------------------------------\u001b[0m",
      "\u001b[0;31mKeyboardInterrupt\u001b[0m                         Traceback (most recent call last)",
      "\u001b[1;32m/home/opisthofulax/PhD/projects/complex-networks/LRG-Signed/notebooks/signed_lattice2d_fss.ipynb Cell 3\u001b[0m in \u001b[0;36m<cell line: 3>\u001b[0;34m()\u001b[0m\n\u001b[1;32m     <a href='vscode-notebook-cell:/home/opisthofulax/PhD/projects/complex-networks/LRG-Signed/notebooks/signed_lattice2d_fss.ipynb#W2sZmlsZQ%3D%3D?line=22'>23</a>\u001b[0m nx\u001b[39m.\u001b[39mset_edge_attributes(G, values\u001b[39m=\u001b[39mall_weights, name\u001b[39m=\u001b[39m\u001b[39m'\u001b[39m\u001b[39mweight\u001b[39m\u001b[39m'\u001b[39m)\n\u001b[1;32m     <a href='vscode-notebook-cell:/home/opisthofulax/PhD/projects/complex-networks/LRG-Signed/notebooks/signed_lattice2d_fss.ipynb#W2sZmlsZQ%3D%3D?line=23'>24</a>\u001b[0m nx\u001b[39m.\u001b[39mset_edge_attributes(G, values\u001b[39m=\u001b[39mneg_weights, name\u001b[39m=\u001b[39m\u001b[39m'\u001b[39m\u001b[39mweight\u001b[39m\u001b[39m'\u001b[39m)\n\u001b[0;32m---> <a href='vscode-notebook-cell:/home/opisthofulax/PhD/projects/complex-networks/LRG-Signed/notebooks/signed_lattice2d_fss.ipynb#W2sZmlsZQ%3D%3D?line=24'>25</a>\u001b[0m slapl, w \u001b[39m=\u001b[39m get_graph_lspectrum(G, is_signed\u001b[39m=\u001b[39;49m\u001b[39mTrue\u001b[39;49;00m)\n\u001b[1;32m     <a href='vscode-notebook-cell:/home/opisthofulax/PhD/projects/complex-networks/LRG-Signed/notebooks/signed_lattice2d_fss.ipynb#W2sZmlsZQ%3D%3D?line=25'>26</a>\u001b[0m sorted_indexes \u001b[39m=\u001b[39m np\u001b[39m.\u001b[39margsort(w)\n\u001b[1;32m     <a href='vscode-notebook-cell:/home/opisthofulax/PhD/projects/complex-networks/LRG-Signed/notebooks/signed_lattice2d_fss.ipynb#W2sZmlsZQ%3D%3D?line=26'>27</a>\u001b[0m w \u001b[39m=\u001b[39m w[sorted_indexes]\n",
      "File \u001b[0;32m~/PhD/projects/complex-networks/LRG-Signed/src/LRGSG_package/LRGSG.py:59\u001b[0m, in \u001b[0;36mget_graph_lspectrum\u001b[0;34m(G, is_signed)\u001b[0m\n\u001b[1;32m     57\u001b[0m     D \u001b[39m=\u001b[39m np\u001b[39m.\u001b[39mdiag(np\u001b[39m.\u001b[39mabs(A)\u001b[39m.\u001b[39msum(axis\u001b[39m=\u001b[39m\u001b[39m1\u001b[39m))\n\u001b[1;32m     58\u001b[0m     L \u001b[39m=\u001b[39m D\u001b[39m-\u001b[39mA\n\u001b[0;32m---> 59\u001b[0m     w \u001b[39m=\u001b[39m eigvals(L)\n\u001b[1;32m     60\u001b[0m \u001b[39melse\u001b[39;00m:\n\u001b[1;32m     61\u001b[0m     L \u001b[39m=\u001b[39m nx\u001b[39m.\u001b[39mlaplacian_matrix(G)\u001b[39m.\u001b[39mtodense()\n",
      "File \u001b[0;32m<__array_function__ internals>:200\u001b[0m, in \u001b[0;36meigvals\u001b[0;34m(*args, **kwargs)\u001b[0m\n",
      "File \u001b[0;32m~/anaconda3/envs/LRG-Signed/lib/python3.10/site-packages/numpy/linalg/linalg.py:1049\u001b[0m, in \u001b[0;36meigvals\u001b[0;34m(a)\u001b[0m\n\u001b[1;32m   1046\u001b[0m extobj \u001b[39m=\u001b[39m get_linalg_error_extobj(\n\u001b[1;32m   1047\u001b[0m     _raise_linalgerror_eigenvalues_nonconvergence)\n\u001b[1;32m   1048\u001b[0m signature \u001b[39m=\u001b[39m \u001b[39m'\u001b[39m\u001b[39mD->D\u001b[39m\u001b[39m'\u001b[39m \u001b[39mif\u001b[39;00m isComplexType(t) \u001b[39melse\u001b[39;00m \u001b[39m'\u001b[39m\u001b[39md->D\u001b[39m\u001b[39m'\u001b[39m\n\u001b[0;32m-> 1049\u001b[0m w \u001b[39m=\u001b[39m _umath_linalg\u001b[39m.\u001b[39;49meigvals(a, signature\u001b[39m=\u001b[39;49msignature, extobj\u001b[39m=\u001b[39;49mextobj)\n\u001b[1;32m   1051\u001b[0m \u001b[39mif\u001b[39;00m \u001b[39mnot\u001b[39;00m isComplexType(t):\n\u001b[1;32m   1052\u001b[0m     \u001b[39mif\u001b[39;00m \u001b[39mall\u001b[39m(w\u001b[39m.\u001b[39mimag \u001b[39m==\u001b[39m \u001b[39m0\u001b[39m):\n",
      "\u001b[0;31mKeyboardInterrupt\u001b[0m: "
     ]
    }
   ],
   "source": [
    "d_lmin = []\n",
    "\n",
    "for i,L in enumerate(ssize_list):\n",
    "    nedges = 2*L**2\n",
    "    path = f\"data/tmp/N={L*L}_navg={nrep[i]}/\"\n",
    "    if not os.path.isdir(path):\n",
    "        os.makedirs(path)\n",
    "    \n",
    "    for p in pval_list:\n",
    "        lmin = []\n",
    "        wlist = []\n",
    "        savename = f\"{path}p={p:.3g}.txt\"\n",
    "        savename2 = f\"{path}w_p={p:.3g}.txt\"\n",
    "        if os.path.exists(savename) and os.path.exists(savename2):\n",
    "            continue\n",
    "        for nr in tqdm(nrep_range[i], desc=f\"replicas for L={L}, p={p}\"):\n",
    "            G = nx.grid_2d_graph(L, L, periodic=True)\n",
    "            ransample = random.sample(range(nedges), int(p*nedges))\n",
    "            #\n",
    "            all_weights = {e: 1 for e in G.edges()}\n",
    "            neg_weights = {e: -1 for i,e in enumerate(G.edges()) if i in ransample}\n",
    "            #\n",
    "            nx.set_edge_attributes(G, values=all_weights, name='weight')\n",
    "            nx.set_edge_attributes(G, values=neg_weights, name='weight')\n",
    "            slapl, w = get_graph_lspectrum(G, is_signed=True)\n",
    "            sorted_indexes = np.argsort(w)\n",
    "            w = w[sorted_indexes]\n",
    "            lmin_tmp = [np.real(w[0]), np.real(w[1])]\n",
    "            lmin.append(lmin_tmp)\n",
    "        lminarr = np.array(lmin)\n",
    "        d_lmin.append({'L': L, 'p':p, 'lmin': lminarr})\n",
    "        np.savetxt(savename, np.array(lminarr))"
   ]
  },
  {
   "cell_type": "code",
   "execution_count": 3,
   "metadata": {},
   "outputs": [
    {
     "ename": "NameError",
     "evalue": "name 'd_lmin' is not defined",
     "output_type": "error",
     "traceback": [
      "\u001b[0;31m---------------------------------------------------------------------------\u001b[0m",
      "\u001b[0;31mNameError\u001b[0m                                 Traceback (most recent call last)",
      "\u001b[1;32m/home/opisthofulax/PhD/projects/complex-networks/LRG-Signed/notebooks/signed_lattice2d_fss.ipynb Cell 4\u001b[0m in \u001b[0;36m<cell line: 1>\u001b[0;34m()\u001b[0m\n\u001b[0;32m----> <a href='vscode-notebook-cell:/home/opisthofulax/PhD/projects/complex-networks/LRG-Signed/notebooks/signed_lattice2d_fss.ipynb#X23sZmlsZQ%3D%3D?line=0'>1</a>\u001b[0m \u001b[39mfor\u001b[39;00m dd \u001b[39min\u001b[39;00m d_lmin:\n\u001b[1;32m      <a href='vscode-notebook-cell:/home/opisthofulax/PhD/projects/complex-networks/LRG-Signed/notebooks/signed_lattice2d_fss.ipynb#X23sZmlsZQ%3D%3D?line=1'>2</a>\u001b[0m     path \u001b[39m=\u001b[39m \u001b[39mf\u001b[39m\u001b[39m\"\u001b[39m\u001b[39mdata/tmp/N=\u001b[39m\u001b[39m{\u001b[39;00mdd[\u001b[39m'\u001b[39m\u001b[39mL\u001b[39m\u001b[39m'\u001b[39m]\u001b[39m*\u001b[39mdd[\u001b[39m'\u001b[39m\u001b[39mL\u001b[39m\u001b[39m'\u001b[39m]\u001b[39m}\u001b[39;00m\u001b[39m_navg=\u001b[39m\u001b[39m{\u001b[39;00m\u001b[39mlen\u001b[39m(dd[\u001b[39m'\u001b[39m\u001b[39mlmin\u001b[39m\u001b[39m'\u001b[39m])\u001b[39m}\u001b[39;00m\u001b[39m/\u001b[39m\u001b[39m\"\u001b[39m\n\u001b[1;32m      <a href='vscode-notebook-cell:/home/opisthofulax/PhD/projects/complex-networks/LRG-Signed/notebooks/signed_lattice2d_fss.ipynb#X23sZmlsZQ%3D%3D?line=2'>3</a>\u001b[0m     savename \u001b[39m=\u001b[39m \u001b[39mf\u001b[39m\u001b[39m\"\u001b[39m\u001b[39m{\u001b[39;00mpath\u001b[39m}\u001b[39;00m\u001b[39mp=\u001b[39m\u001b[39m{\u001b[39;00mdd[\u001b[39m'\u001b[39m\u001b[39mp\u001b[39m\u001b[39m'\u001b[39m]\u001b[39m:\u001b[39;00m\u001b[39m.3g\u001b[39m\u001b[39m}\u001b[39;00m\u001b[39m.txt\u001b[39m\u001b[39m\"\u001b[39m\n",
      "\u001b[0;31mNameError\u001b[0m: name 'd_lmin' is not defined"
     ]
    }
   ],
   "source": [
    "for dd in d_lmin:\n",
    "    path = f\"data/tmp/N={dd['L']*dd['L']}_navg={len(dd['lmin'])}/\"\n",
    "    savename = f\"{path}p={dd['p']:.3g}.txt\"\n",
    "    print(savename)\n",
    "    if not os.path.isdir(path):\n",
    "        os.makedirs(path)\n",
    "    print(os.getcwd())\n",
    "    np.savetxt(savename,np.real(dd['lmin']))"
   ]
  },
  {
   "cell_type": "code",
   "execution_count": 66,
   "metadata": {},
   "outputs": [
    {
     "data": {
      "text/plain": [
       "4.000000000000005"
      ]
     },
     "execution_count": 66,
     "metadata": {},
     "output_type": "execute_result"
    },
    {
     "data": {
      "image/png": "[encoded data removed]",
      "text/plain": [
       "<Figure size 432x288 with 1 Axes>"
      ]
     },
     "metadata": {
      "needs_background": "light"
     },
     "output_type": "display_data"
    }
   ],
   "source": [
    "L = 32\n",
    "nedges= 2*L*L \n",
    "p = 0.33\n",
    "G = nx.grid_2d_graph(L, L, periodic=True)\n",
    "ransample = random.sample(range(nedges), int(p*nedges))\n",
    "#\n",
    "all_weights = {e: 1 for e in G.edges()}\n",
    "neg_weights = {e: -1 for i,e in enumerate(G.edges()) if i in ransample}\n",
    "#\n",
    "nx.set_edge_attributes(G, values=all_weights, name='weight')\n",
    "nx.set_edge_attributes(G, values=neg_weights, name='weight')\n",
    "slapl, w = get_graph_lspectrum(G, is_signed=True)\n",
    "plt.hist(w, bins=60)\n",
    "np.mean(w)\n",
    "# plt.xscale('log')\n",
    "# plt.yscale('log')"
   ]
  },
  {
   "cell_type": "code",
   "execution_count": null,
   "metadata": {},
   "outputs": [],
   "source": [
    "L = 16\n",
    "nedges = 2*L**2\n",
    "navg = 2048\n",
    "#1 - <x4>/3<x^2>^2"
   ]
  },
  {
   "cell_type": "code",
   "execution_count": null,
   "metadata": {},
   "outputs": [],
   "source": [
    "plt.figure(figsize=(10, 7))\n",
    "for p in pval_list[1::2]:\n",
    "    path = f\"data/tmp/N={L*L}_navg={navg}/\"\n",
    "    lminarr = np.loadtxt(f\"{path}p={p:.3g}.txt\")\n",
    "    plt.hist(lminarr, alpha=0.4, bins=30, label=fr\"$p={p}, \\langle\\lambda_\\min\\rangle = {np.mean(lminarr):.3g}, \\sigma^2_{{\\lambda_\\min}} = {np.std(lminarr):.3g}$\", histtype= \"stepfilled\")\n",
    "    plt.hist(lminarr, bins=30, facecolor=\"None\", edgecolor='black', histtype= \"stepfilled\")\n",
    "    \n",
    "plt.ylabel(r'$P(\\langle\\lambda_\\min\\rangle$)')\n",
    "plt.xlabel(r'$\\langle\\lambda_\\min\\rangle$')\n",
    "plt.legend()\n",
    "# plt.yscale('log')"
   ]
  },
  {
   "attachments": {},
   "cell_type": "markdown",
   "metadata": {},
   "source": [
    "vedi articolo frustration\n",
    "and ground-state\n",
    "degeneracy in spin glasses\n",
    "Scott Kirkpatrick"
   ]
  },
  {
   "cell_type": "code",
   "execution_count": null,
   "metadata": {},
   "outputs": [],
   "source": [
    "ssize_list = [2**k for k in range(4, 7)]\n",
    "nrep = [64, 64, 64]#[2**(15-k) for k in range(4, 8)]\n",
    "nrep_range = [range(nr) for nr in nrep]\n",
    "pval_list = [0.0001, 0.001, 0.01, 0.1, 0.2, 0.5, 0.6, 0.7]\n",
    "print('list of sizes', ssize_list, '\\nlist of flip probs', pval_list, '\\nlist of replicas', nrep)"
   ]
  },
  {
   "cell_type": "code",
   "execution_count": 5,
   "metadata": {},
   "outputs": [
    {
     "name": "stderr",
     "output_type": "stream",
     "text": [
      "replicas for L=16, p=0.0001: 100%|██████████| 64/64 [00:01<00:00, 32.30it/s]\n",
      "replicas for L=16, p=0.001: 100%|██████████| 64/64 [00:01<00:00, 34.03it/s]\n",
      "replicas for L=16, p=0.01: 100%|██████████| 64/64 [00:02<00:00, 30.02it/s]\n",
      "replicas for L=16, p=0.1: 100%|██████████| 64/64 [00:02<00:00, 26.29it/s]\n",
      "replicas for L=16, p=0.2: 100%|██████████| 64/64 [00:02<00:00, 23.23it/s]\n",
      "replicas for L=16, p=0.5: 100%|██████████| 64/64 [00:02<00:00, 21.96it/s]\n",
      "replicas for L=16, p=0.6: 100%|██████████| 64/64 [00:03<00:00, 20.94it/s]\n",
      "replicas for L=16, p=0.7: 100%|██████████| 64/64 [00:02<00:00, 23.73it/s]\n",
      "replicas for L=32, p=0.0001: 100%|██████████| 64/64 [00:49<00:00,  1.30it/s]\n",
      "replicas for L=32, p=0.001: 100%|██████████| 64/64 [00:48<00:00,  1.32it/s]\n",
      "replicas for L=32, p=0.01: 100%|██████████| 64/64 [00:49<00:00,  1.29it/s]\n",
      "replicas for L=32, p=0.1: 100%|██████████| 64/64 [00:49<00:00,  1.29it/s]\n",
      "replicas for L=32, p=0.2: 100%|██████████| 64/64 [00:58<00:00,  1.10it/s]\n",
      "replicas for L=32, p=0.5: 100%|██████████| 64/64 [01:02<00:00,  1.02it/s]\n",
      "replicas for L=32, p=0.6: 100%|██████████| 64/64 [01:04<00:00,  1.01s/it]\n",
      "replicas for L=32, p=0.7: 100%|██████████| 64/64 [00:57<00:00,  1.11it/s]\n",
      "replicas for L=64, p=0.0001: 100%|██████████| 64/64 [27:05<00:00, 25.39s/it]\n",
      "replicas for L=64, p=0.001: 100%|██████████| 64/64 [28:36<00:00, 26.83s/it]\n",
      "replicas for L=64, p=0.01:   8%|▊         | 5/64 [02:13<26:13, 26.67s/it]"
     ]
    }
   ],
   "source": [
    "d_lmin = []\n",
    "\n",
    "for i,L in enumerate(ssize_list):\n",
    "    nedges = 2*L**2\n",
    "    path = f\"data/tmp/N={L*L}_navg={nrep[i]}/\"\n",
    "    if not os.path.isdir(path):\n",
    "        os.makedirs(path)\n",
    "    \n",
    "    for p in pval_list:\n",
    "        lmin = []\n",
    "        wlist = []\n",
    "        savename = f\"{path}p={p:.3g}.txt\"\n",
    "        savename2 = f\"{path}w_p={p:.3g}.txt\"\n",
    "        if os.path.exists(savename) and os.path.exists(savename2):\n",
    "            continue\n",
    "        for nr in tqdm(nrep_range[i], desc=f\"replicas for L={L}, p={p}\"):\n",
    "            G = nx.grid_2d_graph(L, L, periodic=True)\n",
    "            ransample = random.sample(range(nedges), int(p*nedges))\n",
    "            #\n",
    "            all_weights = {e: 1 for e in G.edges()}\n",
    "            neg_weights = {e: -1 for i,e in enumerate(G.edges()) if i in ransample}\n",
    "            #\n",
    "            nx.set_edge_attributes(G, values=all_weights, name='weight')\n",
    "            nx.set_edge_attributes(G, values=neg_weights, name='weight')\n",
    "            slapl, w = get_graph_lspectrum(G, is_signed=True)\n",
    "            sorted_indexes = np.argsort(w)\n",
    "            w = w[sorted_indexes]\n",
    "            lmin_tmp = [np.real(w[0]), np.real(w[1])]\n",
    "            lmin.append(lmin_tmp)\n",
    "        lminarr = np.array(lmin)\n",
    "        d_lmin.append({'L': L, 'p':p, 'lmin': lminarr})\n",
    "        np.savetxt(savename, np.array(lminarr))"
   ]
  },
  {
   "cell_type": "code",
   "execution_count": 3,
   "metadata": {},
   "outputs": [],
   "source": [
    "pval_list = [0.0001, 0.001, 0.01, 0.1, 0.2, 0.5, 0.6, 0.7]"
   ]
  },
  {
   "cell_type": "code",
   "execution_count": 4,
   "metadata": {},
   "outputs": [
    {
     "data": {
      "text/plain": [
       "Text(0, 0.5, '$\\\\langle\\\\lambda_\\\\min\\\\rangle$')"
      ]
     },
     "execution_count": 4,
     "metadata": {},
     "output_type": "execute_result"
    },
    {
     "data": {
      "image/png": "[encoded data removed]",
      "text/plain": [
       "<Figure size 720x504 with 1 Axes>"
      ]
     },
     "metadata": {
      "needs_background": "light"
     },
     "output_type": "display_data"
    }
   ],
   "source": [
    "plt.figure(figsize=(10, 7))\n",
    "\n",
    "for L in [16, 32]:\n",
    "    lmin_avg = []\n",
    "    for p in pval_list:\n",
    "        path = f\"data/tmp/N={L*L}_navg={64}/\"\n",
    "        lminarr = np.loadtxt(f\"{path}p={p:.3g}.txt\")\n",
    "        lmin_avg.append([p, \n",
    "                         np.mean(lminarr), \n",
    "                         np.std(lminarr)])#BINDER CUMULANT: 1 - np.sum(lminarr**4)/(3*np.sum(lminarr**2)**2)\n",
    "    lmin_avg = np.array(lmin_avg)\n",
    "    plt.plot(lmin_avg[:,0],lmin_avg[:, 1], 'o-')\n",
    "    plt.plot(lmin_avg[:,0],lmin_avg[:, 2], 'o-')\n",
    "plt.xlabel(r'$p$')\n",
    "plt.ylabel(r'$\\langle\\lambda_\\min\\rangle$')"
   ]
  },
  {
   "cell_type": "code",
   "execution_count": null,
   "metadata": {},
   "outputs": [],
   "source": [
    "L = 16\n",
    "nrep = [range(2**(17-2*k)) for k in range(4, 8)]\n",
    "p = 0.1\n",
    "nedges = 2*L**2\n",
    "lmin = []\n",
    "for nr in tqdm(nrep[0]):\n",
    "    G = nx.grid_2d_graph(L, L, periodic=True)\n",
    "    ransample = random.sample(range(nedges), int(p*nedges))\n",
    "    #\n",
    "    all_weights = {e: 1 for e in G.edges()}\n",
    "    neg_weights = {e: -1 for i,e in enumerate(G.edges()) if i in ransample}\n",
    "    #\n",
    "    nx.set_edge_attributes(G, values=all_weights, name='weight')\n",
    "    nx.set_edge_attributes(G, values=neg_weights, name='weight')\n",
    "    slapl = slaplacian_matrix(G).asfptype()\n",
    "    try:\n",
    "        lmin_tmp, _ = eigsh(slapl, k=1, which='SM', tol=1e-10)\n",
    "    except ArpackNoConvergence:\n",
    "        pass\n",
    "    lmin.append(lmin_tmp)"
   ]
  },
  {
   "cell_type": "code",
   "execution_count": null,
   "metadata": {},
   "outputs": [],
   "source": [
    "plt.hist(np.array(lmin).flatten(), bins=20)\n",
    "plt.yscale('log')"
   ]
  },
  {
   "cell_type": "code",
   "execution_count": null,
   "metadata": {},
   "outputs": [],
   "source": [
    "colors = ['r' if G[u][v]['weight'] == -1 else 'k' for u, v in G.edges()]\n",
    "plt.figure(figsize=(10, 10))\n",
    "pos = {(x,y):(y,-x) for x,y in G.nodes()}\n",
    "nx.draw(G, edge_color=colors, pos=pos, node_size=10, width=5)"
   ]
  },
  {
   "attachments": {},
   "cell_type": "markdown",
   "metadata": {},
   "source": [
    "# JUNK"
   ]
  },
  {
   "cell_type": "code",
   "execution_count": null,
   "metadata": {},
   "outputs": [],
   "source": [
    "# L = 16\n",
    "# nedges = 2*L**2\n",
    "# navg = 128\n",
    "# p=0.09\n",
    "# G = nx.grid_2d_graph(L, L, periodic=True)\n",
    "# ransample = random.sample(range(nedges), int(p*nedges))\n",
    "# #\n",
    "# all_weights = {e: 1 for e in G.edges()}\n",
    "# neg_weights = {e: -1 for i,e in enumerate(G.edges()) if i in ransample}\n",
    "# #\n",
    "# nx.set_edge_attributes(G, values=all_weights, name='weight')\n",
    "# nx.set_edge_attributes(G, values=neg_weights, name='weight')\n",
    "# slapl, w = get_graph_lspectrum(G, is_signed=True)"
   ]
  },
  {
   "cell_type": "code",
   "execution_count": null,
   "metadata": {},
   "outputs": [],
   "source": [
    "L = 4\n",
    "G = nx.grid_2d_graph(L, L, periodic=True)\n",
    "L1 = slaplacian_matrix(G)\n",
    "L2 = nx.laplacian_matrix(G)\n",
    "L1.asfptype() - L2.asfptype()"
   ]
  },
  {
   "cell_type": "code",
   "execution_count": null,
   "metadata": {},
   "outputs": [],
   "source": [
    "ransample = random.sample(range(2*L*L), 2*L*L)\n",
    "neg_weights = {e: -1 for i,e in enumerate(G.edges()) if i in ransample}\n",
    "nx.set_edge_attributes(G, values=neg_weights, name='weight')\n",
    "L1 = slaplacian_matrix(G)\n",
    "L2 = nx.laplacian_matrix(G)\n",
    "L1.asfptype() - L2.asfptype()"
   ]
  }
 ],
 "metadata": {
  "kernelspec": {
   "display_name": "LRG-Signed",
   "language": "python",
   "name": "python3"
  },
  "language_info": {
   "codemirror_mode": {
    "name": "ipython",
    "version": 3
   },
   "file_extension": ".py",
   "mimetype": "text/x-python",
   "name": "python",
   "nbconvert_exporter": "python",
   "pygments_lexer": "ipython3",
   "version": "3.10.9"
  },
  "orig_nbformat": 4
 },
 "nbformat": 4,
 "nbformat_minor": 2
}
