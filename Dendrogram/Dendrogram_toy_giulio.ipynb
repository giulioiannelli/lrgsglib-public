{
 "cells": [
  {
   "cell_type": "code",
   "execution_count": 27,
   "id": "285f30b3",
   "metadata": {},
   "outputs": [],
   "source": [
    "import numpy as np\n",
    "import seaborn as sns\n",
    "import matplotlib.pyplot as plt\n",
    "import pandas as pd\n",
    "from farrow_and_ball import *\n",
    "import matplotlib.pyplot as plt\n",
    "from scipy.cluster import hierarchy\n",
    "import numpy as np\n",
    "import seaborn as sns\n",
    "from scipy.cluster import hierarchy\n",
    "import matplotlib as mpl\n",
    "from scipy.spatial.distance import squareform\n",
    "from scipy.cluster.hierarchy import fcluster\n",
    "import networkx as nx\n",
    "#from mpl_toolkits.axes_grid.inset_locator import (inset_axes, InsetPosition,mark_inset)\n",
    "from mpl_toolkits.axes_grid1 import make_axes_locatable\n",
    "import pandas as pd\n",
    "from scipy.linalg import expm, sinm, cosm\n",
    "from scipy.cluster.hierarchy import dendrogram, linkage\n",
    "from scipy.spatial.distance import squareform\n",
    "from numpy.linalg import eigvals\n"
   ]
  },
  {
   "cell_type": "code",
   "execution_count": 57,
   "id": "b2228932",
   "metadata": {},
   "outputs": [],
   "source": [
    "sizes = [50, 50]\n",
    "probs = [[0.75, 0.01], [0.01, 0.75]]\n",
    "Th = 0.1\n",
    "G = nx.stochastic_block_model(sizes, probs, seed=0)\n",
    "labelList = [i+1 for i in range(G.number_of_nodes())]"
   ]
  },
  {
   "cell_type": "code",
   "execution_count": 58,
   "id": "8ec1f7ec",
   "metadata": {},
   "outputs": [
    {
     "name": "stderr",
     "output_type": "stream",
     "text": [
      "<class 'networkx.utils.decorators.argmap'> compilation 8:4: FutureWarning: laplacian_matrix will return a scipy.sparse array instead of a matrix in Networkx 3.0.\n"
     ]
    }
   ],
   "source": [
    "L = nx.laplacian_matrix(G).todense()\n",
    "w = 1. / nx.laplacian_spectrum(G)\n",
    "tau = w[33]\n",
    "num = expm((-tau*L))\n",
    "den = np.trace(num)\n",
    "rho = num/den\n",
    "Trho = np.copy(1. / rho)\n",
    "Trho = np.maximum(Trho, Trho.T)\n",
    "np.fill_diagonal(Trho, 0)\n",
    "dists = squareform(Trho)\n",
    "linkage_matrix1 = linkage(dists, \"average\")\n",
    "tmax = linkage_matrix1[::, 2][-1]\n",
    "linkage_matrix = linkage(dists/tmax, \"average\")"
   ]
  },
  {
   "cell_type": "code",
   "execution_count": 59,
   "id": "80891fea",
   "metadata": {},
   "outputs": [
    {
     "data": {
      "text/plain": [
       "[<matplotlib.axis.XTick at 0x7f87b93729e0>,\n",
       " <matplotlib.axis.XTick at 0x7f87b9371c00>,\n",
       " <matplotlib.axis.XTick at 0x7f87b7868e20>]"
      ]
     },
     "execution_count": 59,
     "metadata": {},
     "output_type": "execute_result"
    },
    {
     "data": {
      "image/png": "[encoded data removed]",
      "text/plain": [
       "<Figure size 216x432 with 1 Axes>"
      ]
     },
     "metadata": {
      "needs_background": "light"
     },
     "output_type": "display_data"
    }
   ],
   "source": [
    "ax_dict = plt.figure(constrained_layout=True,\n",
    "                     figsize=(3, 6)).subplot_mosaic(\"A\")\n",
    "\n",
    "dendrogram(linkage_matrix, labels=labelList, ax=ax_dict['A'], leaf_rotation=0,\n",
    "           orientation='right', color_threshold=Th, above_threshold_color='k', leaf_font_size=10)\n",
    "CM = fcluster(linkage_matrix, t=Th, criterion='distance')\n",
    "cmap = build_colormap(MiscPalette.TONKA, True)\n",
    "cmap1 = cmap(np.linspace(0, 1, np.max(CM)))\n",
    "#cmap1[0]=[46/255., 159/255., 223/255., 1.]\n",
    "cmap1[0] = [0., 175/255., 187/255., 1.]\n",
    "# cmap1[1]=[231/255.,184/255.,0.,1.]\n",
    "cmap1[1] = [252/255., 78/255., 7/255., 1.]\n",
    "hierarchy.set_link_color_palette(\n",
    "    [mpl.colors.rgb2hex(rgb[:3]) for rgb in cmap1])\n",
    "cont = 0\n",
    "ax_dict['A'].axvline(x=Th, color='#ED2939', linestyle='--')\n",
    "ax_dict['A'].set_xscale('linear')\n",
    "tmin = linkage_matrix[::, 2][0]-0.2*linkage_matrix[::, 2][0]\n",
    "tmax = linkage_matrix[::, 2][-1]+0.1*linkage_matrix[::, 2][-1]\n",
    "ax_dict['A'].set_xlim(tmin, tmax)\n",
    "ax_dict['A'].set_xlabel(r'$\\mathcal{D}/\\mathcal{D}_{max}$')\n",
    "ax_dict['A'].set_ylabel('Node index')\n",
    "ax_dict['A'].set_xscale('log')\n",
    "ax_dict['A'].set_xticks([1e-4, 1e-2, 1e0])\n",
    "# plt.show()"
   ]
  },
  {
   "cell_type": "code",
   "execution_count": 60,
   "id": "5a53621d",
   "metadata": {},
   "outputs": [
    {
     "data": {
      "text/plain": [
       "array([[7.10000000e+01, 8.10000000e+01, 2.19678200e+03, 2.00000000e+00],\n",
       "       [2.90000000e+01, 3.20000000e+01, 2.20325194e+03, 2.00000000e+00],\n",
       "       [5.40000000e+01, 1.00000000e+02, 2.22046336e+03, 3.00000000e+00],\n",
       "       [6.30000000e+01, 6.70000000e+01, 2.22575718e+03, 2.00000000e+00],\n",
       "       [0.00000000e+00, 4.90000000e+01, 2.22637306e+03, 2.00000000e+00],\n",
       "       [6.20000000e+01, 6.80000000e+01, 2.22763816e+03, 2.00000000e+00],\n",
       "       [6.40000000e+01, 1.02000000e+02, 2.23552417e+03, 4.00000000e+00],\n",
       "       [1.10000000e+01, 4.50000000e+01, 2.24591609e+03, 2.00000000e+00],\n",
       "       [6.50000000e+01, 9.80000000e+01, 2.24607454e+03, 2.00000000e+00],\n",
       "       [1.70000000e+01, 3.00000000e+01, 2.24849799e+03, 2.00000000e+00],\n",
       "       [1.00000000e+00, 7.00000000e+00, 2.25122064e+03, 2.00000000e+00],\n",
       "       [7.40000000e+01, 8.70000000e+01, 2.25653136e+03, 2.00000000e+00],\n",
       "       [5.20000000e+01, 5.30000000e+01, 2.26466469e+03, 2.00000000e+00],\n",
       "       [7.50000000e+01, 7.60000000e+01, 2.26470170e+03, 2.00000000e+00],\n",
       "       [1.00000000e+01, 1.04000000e+02, 2.26583400e+03, 3.00000000e+00],\n",
       "       [2.10000000e+01, 2.80000000e+01, 2.26682994e+03, 2.00000000e+00],\n",
       "       [7.30000000e+01, 8.00000000e+01, 2.26756869e+03, 2.00000000e+00],\n",
       "       [2.00000000e+00, 1.09000000e+02, 2.26967304e+03, 3.00000000e+00],\n",
       "       [9.10000000e+01, 9.50000000e+01, 2.27011184e+03, 2.00000000e+00],\n",
       "       [4.00000000e+01, 4.60000000e+01, 2.27059047e+03, 2.00000000e+00],\n",
       "       [1.40000000e+01, 1.01000000e+02, 2.27668408e+03, 3.00000000e+00],\n",
       "       [5.50000000e+01, 1.13000000e+02, 2.27771769e+03, 3.00000000e+00],\n",
       "       [8.80000000e+01, 1.08000000e+02, 2.27838863e+03, 3.00000000e+00],\n",
       "       [5.80000000e+01, 7.90000000e+01, 2.27955943e+03, 2.00000000e+00],\n",
       "       [6.00000000e+01, 1.12000000e+02, 2.28686816e+03, 3.00000000e+00],\n",
       "       [5.60000000e+01, 1.06000000e+02, 2.28687054e+03, 5.00000000e+00],\n",
       "       [2.00000000e+01, 1.07000000e+02, 2.28733171e+03, 3.00000000e+00],\n",
       "       [3.50000000e+01, 3.60000000e+01, 2.28835703e+03, 2.00000000e+00],\n",
       "       [1.90000000e+01, 4.20000000e+01, 2.29085298e+03, 2.00000000e+00],\n",
       "       [9.40000000e+01, 1.05000000e+02, 2.29101909e+03, 3.00000000e+00],\n",
       "       [7.20000000e+01, 9.90000000e+01, 2.29342411e+03, 2.00000000e+00],\n",
       "       [1.18000000e+02, 1.24000000e+02, 2.29538484e+03, 5.00000000e+00],\n",
       "       [2.40000000e+01, 1.26000000e+02, 2.29707880e+03, 4.00000000e+00],\n",
       "       [9.20000000e+01, 1.03000000e+02, 2.29766851e+03, 3.00000000e+00],\n",
       "       [5.00000000e+00, 4.70000000e+01, 2.29888483e+03, 2.00000000e+00],\n",
       "       [4.40000000e+01, 4.80000000e+01, 2.29920423e+03, 2.00000000e+00],\n",
       "       [3.30000000e+01, 1.27000000e+02, 2.30034152e+03, 3.00000000e+00],\n",
       "       [7.70000000e+01, 1.22000000e+02, 2.30134980e+03, 4.00000000e+00],\n",
       "       [6.10000000e+01, 1.21000000e+02, 2.30330936e+03, 4.00000000e+00],\n",
       "       [7.00000000e+01, 1.25000000e+02, 2.30367759e+03, 6.00000000e+00],\n",
       "       [4.00000000e+00, 1.36000000e+02, 2.30535481e+03, 4.00000000e+00],\n",
       "       [1.11000000e+02, 1.29000000e+02, 2.30623633e+03, 5.00000000e+00],\n",
       "       [1.80000000e+01, 1.17000000e+02, 2.30971193e+03, 4.00000000e+00],\n",
       "       [9.30000000e+01, 1.37000000e+02, 2.31044053e+03, 5.00000000e+00],\n",
       "       [3.10000000e+01, 4.10000000e+01, 2.31510429e+03, 2.00000000e+00],\n",
       "       [2.70000000e+01, 1.15000000e+02, 2.31646565e+03, 3.00000000e+00],\n",
       "       [1.28000000e+02, 1.42000000e+02, 2.31803790e+03, 6.00000000e+00],\n",
       "       [6.90000000e+01, 1.31000000e+02, 2.31810025e+03, 6.00000000e+00],\n",
       "       [3.00000000e+00, 3.40000000e+01, 2.31844334e+03, 2.00000000e+00],\n",
       "       [5.10000000e+01, 9.70000000e+01, 2.31905971e+03, 2.00000000e+00],\n",
       "       [1.60000000e+01, 1.20000000e+02, 2.32197336e+03, 4.00000000e+00],\n",
       "       [6.00000000e+00, 1.10000000e+02, 2.32319102e+03, 3.00000000e+00],\n",
       "       [8.90000000e+01, 1.16000000e+02, 2.32573837e+03, 3.00000000e+00],\n",
       "       [8.60000000e+01, 1.33000000e+02, 2.32963442e+03, 4.00000000e+00],\n",
       "       [1.14000000e+02, 1.34000000e+02, 2.33078975e+03, 5.00000000e+00],\n",
       "       [8.40000000e+01, 9.00000000e+01, 2.33207553e+03, 2.00000000e+00],\n",
       "       [2.60000000e+01, 1.46000000e+02, 2.33428731e+03, 7.00000000e+00],\n",
       "       [1.20000000e+01, 1.19000000e+02, 2.33500349e+03, 3.00000000e+00],\n",
       "       [1.44000000e+02, 1.45000000e+02, 2.33563307e+03, 5.00000000e+00],\n",
       "       [2.30000000e+01, 1.50000000e+02, 2.33741963e+03, 5.00000000e+00],\n",
       "       [2.50000000e+01, 1.51000000e+02, 2.33919062e+03, 4.00000000e+00],\n",
       "       [1.49000000e+02, 1.53000000e+02, 2.34151144e+03, 6.00000000e+00],\n",
       "       [3.80000000e+01, 1.35000000e+02, 2.34253638e+03, 3.00000000e+00],\n",
       "       [4.30000000e+01, 1.56000000e+02, 2.34521815e+03, 8.00000000e+00],\n",
       "       [5.70000000e+01, 1.52000000e+02, 2.34675591e+03, 4.00000000e+00],\n",
       "       [7.80000000e+01, 8.30000000e+01, 2.34735330e+03, 2.00000000e+00],\n",
       "       [9.60000000e+01, 1.38000000e+02, 2.34886486e+03, 5.00000000e+00],\n",
       "       [1.30000000e+02, 1.43000000e+02, 2.34986653e+03, 7.00000000e+00],\n",
       "       [1.54000000e+02, 1.62000000e+02, 2.35168994e+03, 8.00000000e+00],\n",
       "       [9.00000000e+00, 1.32000000e+02, 2.35209679e+03, 5.00000000e+00],\n",
       "       [8.00000000e+00, 1.63000000e+02, 2.35780174e+03, 9.00000000e+00],\n",
       "       [8.50000000e+01, 1.67000000e+02, 2.36059746e+03, 8.00000000e+00],\n",
       "       [8.20000000e+01, 1.47000000e+02, 2.36186877e+03, 7.00000000e+00],\n",
       "       [2.20000000e+01, 1.59000000e+02, 2.36640188e+03, 6.00000000e+00],\n",
       "       [1.23000000e+02, 1.65000000e+02, 2.36680144e+03, 4.00000000e+00],\n",
       "       [3.70000000e+01, 1.60000000e+02, 2.37290857e+03, 5.00000000e+00],\n",
       "       [6.60000000e+01, 1.41000000e+02, 2.37552371e+03, 6.00000000e+00],\n",
       "       [5.00000000e+01, 1.74000000e+02, 2.37703518e+03, 5.00000000e+00],\n",
       "       [1.55000000e+02, 1.64000000e+02, 2.37732579e+03, 6.00000000e+00],\n",
       "       [1.30000000e+01, 1.48000000e+02, 2.37844004e+03, 3.00000000e+00],\n",
       "       [1.50000000e+01, 1.40000000e+02, 2.39037570e+03, 5.00000000e+00],\n",
       "       [3.90000000e+01, 1.57000000e+02, 2.39118313e+03, 4.00000000e+00],\n",
       "       [5.90000000e+01, 1.77000000e+02, 2.44591161e+03, 6.00000000e+00],\n",
       "       [1.68000000e+02, 1.79000000e+02, 2.70161824e+03, 1.10000000e+01],\n",
       "       [1.69000000e+02, 1.80000000e+02, 2.80248940e+03, 1.00000000e+01],\n",
       "       [1.61000000e+02, 1.78000000e+02, 2.83905398e+03, 1.20000000e+01],\n",
       "       [1.66000000e+02, 1.71000000e+02, 2.93786605e+03, 1.30000000e+01],\n",
       "       [1.75000000e+02, 1.81000000e+02, 3.03734427e+03, 9.00000000e+00],\n",
       "       [1.73000000e+02, 1.83000000e+02, 3.04746462e+03, 1.70000000e+01],\n",
       "       [1.84000000e+02, 1.87000000e+02, 3.21436546e+03, 1.90000000e+01],\n",
       "       [1.85000000e+02, 1.86000000e+02, 3.34126442e+03, 2.50000000e+01],\n",
       "       [1.72000000e+02, 1.82000000e+02, 3.36336531e+03, 1.30000000e+01],\n",
       "       [1.70000000e+02, 1.89000000e+02, 3.51331623e+03, 2.80000000e+01],\n",
       "       [1.76000000e+02, 1.90000000e+02, 3.51590347e+03, 3.10000000e+01],\n",
       "       [1.91000000e+02, 1.93000000e+02, 3.60644954e+03, 4.40000000e+01],\n",
       "       [1.88000000e+02, 1.92000000e+02, 3.68939792e+03, 4.50000000e+01],\n",
       "       [1.58000000e+02, 1.95000000e+02, 3.76210863e+03, 5.00000000e+01],\n",
       "       [1.39000000e+02, 1.94000000e+02, 4.17528325e+03, 5.00000000e+01],\n",
       "       [1.96000000e+02, 1.97000000e+02, 6.78622897e+05, 1.00000000e+02]])"
      ]
     },
     "execution_count": 60,
     "metadata": {},
     "output_type": "execute_result"
    }
   ],
   "source": [
    "linkage_matrix1"
   ]
  },
  {
   "cell_type": "code",
   "execution_count": 61,
   "id": "a8473f40",
   "metadata": {},
   "outputs": [],
   "source": [
    "G = nx.stochastic_block_model(sizes, probs, seed=0)\n",
    "\n",
    "for edge in G.edges():\n",
    "    G.add_edge(edge[0], edge[1], weight=1)\n",
    "    sign = G.get_edge_data(edge[0], edge[1])\n",
    "\n",
    "H = nx.quotient_graph(G, G.graph[\"partition\"], relabel=False)\n",
    "\n",
    "community1 = list(list(H.nodes())[0])\n",
    "sub_community1 = community1[:len(community1)//2]\n",
    "for vertex in sub_community1:\n",
    "    for edge in G.edges(vertex):\n",
    "        if edge[1] not in sub_community1:\n",
    "            G.add_edge(edge[0], edge[1], weight=-1)\n"
   ]
  },
  {
   "cell_type": "code",
   "execution_count": 62,
   "id": "8ec66067",
   "metadata": {},
   "outputs": [
    {
     "name": "stderr",
     "output_type": "stream",
     "text": [
      "/tmp/ipykernel_14478/3863972785.py:1: FutureWarning: adjacency_matrix will return a scipy.sparse array instead of a matrix in Networkx 3.0.\n",
      "  A = nx.adjacency_matrix(G).toarray()\n"
     ]
    }
   ],
   "source": [
    "A = nx.adjacency_matrix(G).toarray()\n",
    "D = np.diag(np.abs(A).sum(axis=1)) \n",
    "L = D-A\n",
    "w = 1. / eigvals(L)\n",
    "w[0] = -w[0]\n",
    "tau = w[33]\n",
    "num = expm((-tau*L))\n",
    "den = np.trace(num)\n",
    "rho = num/den\n",
    "Trho = np.copy(1. / rho)\n",
    "Trho = np.maximum(Trho, Trho.T)\n",
    "np.fill_diagonal(Trho, 0)\n",
    "old_d = squareform(Trho)\n",
    "dists = np.max(old_d) - old_d\n",
    "linkage_matrix1 = linkage(dists, \"average\")\n",
    "tmax=linkage_matrix1[::, 2][-1]\n",
    "linkage_matrix = linkage(dists/tmax, \"average\")\n",
    "\n"
   ]
  },
  {
   "cell_type": "code",
   "execution_count": 63,
   "id": "2811aa8f",
   "metadata": {},
   "outputs": [
    {
     "data": {
      "text/plain": [
       "array([[3.20000000e+01, 6.80000000e+01, 0.00000000e+00, 2.00000000e+00],\n",
       "       [4.50000000e+01, 8.10000000e+01, 7.97146301e+04, 2.00000000e+00],\n",
       "       [4.60000000e+01, 8.00000000e+01, 5.71211570e+05, 2.00000000e+00],\n",
       "       [4.10000000e+01, 5.40000000e+01, 6.46212406e+05, 2.00000000e+00],\n",
       "       [2.90000000e+01, 6.30000000e+01, 8.02339403e+05, 2.00000000e+00],\n",
       "       [3.50000000e+01, 7.60000000e+01, 1.03412400e+06, 2.00000000e+00],\n",
       "       [4.70000000e+01, 7.70000000e+01, 1.12439283e+06, 2.00000000e+00],\n",
       "       [2.80000000e+01, 6.40000000e+01, 1.18060348e+06, 2.00000000e+00],\n",
       "       [3.60000000e+01, 9.20000000e+01, 1.22318901e+06, 2.00000000e+00],\n",
       "       [4.90000000e+01, 6.70000000e+01, 1.55386850e+06, 2.00000000e+00],\n",
       "       [3.00000000e+01, 9.80000000e+01, 1.59137829e+06, 2.00000000e+00],\n",
       "       [4.00000000e+01, 9.40000000e+01, 1.59184226e+06, 2.00000000e+00],\n",
       "       [3.30000000e+01, 8.70000000e+01, 1.75710187e+06, 2.00000000e+00],\n",
       "       [2.60000000e+01, 5.20000000e+01, 1.76998047e+06, 2.00000000e+00],\n",
       "       [4.80000000e+01, 6.50000000e+01, 1.89708268e+06, 2.00000000e+00],\n",
       "       [4.20000000e+01, 9.60000000e+01, 1.92698490e+06, 2.00000000e+00],\n",
       "       [1.00000000e+02, 1.05000000e+02, 2.37268013e+06, 4.00000000e+00],\n",
       "       [1.01000000e+02, 1.16000000e+02, 2.52567856e+06, 6.00000000e+00],\n",
       "       [1.02000000e+02, 1.17000000e+02, 2.61136104e+06, 8.00000000e+00],\n",
       "       [1.04000000e+02, 1.18000000e+02, 2.62535713e+06, 1.00000000e+01],\n",
       "       [8.40000000e+01, 1.03000000e+02, 2.66163800e+06, 3.00000000e+00],\n",
       "       [1.06000000e+02, 1.19000000e+02, 2.68746525e+06, 1.20000000e+01],\n",
       "       [1.07000000e+02, 1.08000000e+02, 2.77606709e+06, 4.00000000e+00],\n",
       "       [1.21000000e+02, 1.22000000e+02, 2.81160498e+06, 1.60000000e+01],\n",
       "       [1.09000000e+02, 1.23000000e+02, 2.84827825e+06, 1.80000000e+01],\n",
       "       [1.20000000e+02, 1.24000000e+02, 2.87809978e+06, 2.10000000e+01],\n",
       "       [1.11000000e+02, 1.25000000e+02, 2.94604460e+06, 2.30000000e+01],\n",
       "       [1.12000000e+02, 1.26000000e+02, 2.96302772e+06, 2.50000000e+01],\n",
       "       [1.10000000e+02, 1.27000000e+02, 2.98231905e+06, 2.70000000e+01],\n",
       "       [1.13000000e+02, 1.28000000e+02, 2.99312757e+06, 2.90000000e+01],\n",
       "       [1.14000000e+02, 1.29000000e+02, 3.02344459e+06, 3.10000000e+01],\n",
       "       [1.15000000e+02, 1.30000000e+02, 3.03906451e+06, 3.30000000e+01],\n",
       "       [9.00000000e+01, 1.31000000e+02, 3.06598727e+06, 3.40000000e+01],\n",
       "       [8.60000000e+01, 1.32000000e+02, 3.10872319e+06, 3.50000000e+01],\n",
       "       [7.30000000e+01, 1.33000000e+02, 3.16398136e+06, 3.60000000e+01],\n",
       "       [9.90000000e+01, 1.34000000e+02, 3.20301695e+06, 3.70000000e+01],\n",
       "       [5.60000000e+01, 1.35000000e+02, 3.23719033e+06, 3.80000000e+01],\n",
       "       [2.50000000e+01, 7.50000000e+01, 3.27560748e+06, 2.00000000e+00],\n",
       "       [5.30000000e+01, 1.36000000e+02, 3.32738889e+06, 3.90000000e+01],\n",
       "       [8.80000000e+01, 1.38000000e+02, 3.35720943e+06, 4.00000000e+01],\n",
       "       [9.10000000e+01, 1.39000000e+02, 3.39477182e+06, 4.10000000e+01],\n",
       "       [5.50000000e+01, 1.40000000e+02, 3.43217018e+06, 4.20000000e+01],\n",
       "       [7.20000000e+01, 1.41000000e+02, 3.45770750e+06, 4.30000000e+01],\n",
       "       [3.80000000e+01, 7.10000000e+01, 3.46911282e+06, 2.00000000e+00],\n",
       "       [9.50000000e+01, 1.42000000e+02, 3.48345665e+06, 4.40000000e+01],\n",
       "       [9.30000000e+01, 1.44000000e+02, 3.50909256e+06, 4.50000000e+01],\n",
       "       [5.10000000e+01, 1.45000000e+02, 3.58017877e+06, 4.60000000e+01],\n",
       "       [6.00000000e+01, 1.46000000e+02, 3.63081806e+06, 4.70000000e+01],\n",
       "       [1.37000000e+02, 1.47000000e+02, 3.73409919e+06, 4.90000000e+01],\n",
       "       [3.90000000e+01, 7.40000000e+01, 3.76989613e+06, 2.00000000e+00],\n",
       "       [2.70000000e+01, 6.90000000e+01, 3.80192624e+06, 2.00000000e+00],\n",
       "       [1.43000000e+02, 1.48000000e+02, 3.82383019e+06, 5.10000000e+01],\n",
       "       [4.40000000e+01, 7.80000000e+01, 3.86254518e+06, 2.00000000e+00],\n",
       "       [4.30000000e+01, 1.51000000e+02, 4.02064747e+06, 5.20000000e+01],\n",
       "       [3.40000000e+01, 1.53000000e+02, 4.04021907e+06, 5.30000000e+01],\n",
       "       [3.10000000e+01, 1.54000000e+02, 4.10531498e+06, 5.40000000e+01],\n",
       "       [1.49000000e+02, 1.55000000e+02, 4.12368988e+06, 5.60000000e+01],\n",
       "       [3.70000000e+01, 7.90000000e+01, 4.14720424e+06, 2.00000000e+00],\n",
       "       [8.90000000e+01, 1.56000000e+02, 4.16203162e+06, 5.70000000e+01],\n",
       "       [1.50000000e+02, 1.58000000e+02, 4.16736898e+06, 5.90000000e+01],\n",
       "       [1.52000000e+02, 1.59000000e+02, 4.17793922e+06, 6.10000000e+01],\n",
       "       [5.70000000e+01, 1.60000000e+02, 4.19086916e+06, 6.20000000e+01],\n",
       "       [8.30000000e+01, 1.61000000e+02, 4.20047575e+06, 6.30000000e+01],\n",
       "       [8.20000000e+01, 1.62000000e+02, 4.22275909e+06, 6.40000000e+01],\n",
       "       [6.10000000e+01, 1.63000000e+02, 4.22588519e+06, 6.50000000e+01],\n",
       "       [1.57000000e+02, 1.64000000e+02, 4.23528066e+06, 6.70000000e+01],\n",
       "       [8.50000000e+01, 1.65000000e+02, 4.23897784e+06, 6.80000000e+01],\n",
       "       [9.70000000e+01, 1.66000000e+02, 4.24072877e+06, 6.90000000e+01],\n",
       "       [5.00000000e+01, 1.67000000e+02, 4.24740541e+06, 7.00000000e+01],\n",
       "       [6.20000000e+01, 1.68000000e+02, 4.24972926e+06, 7.10000000e+01],\n",
       "       [5.80000000e+01, 1.69000000e+02, 4.25218829e+06, 7.20000000e+01],\n",
       "       [6.60000000e+01, 1.70000000e+02, 4.28166014e+06, 7.30000000e+01],\n",
       "       [7.00000000e+01, 1.71000000e+02, 4.30990891e+06, 7.40000000e+01],\n",
       "       [5.90000000e+01, 1.72000000e+02, 4.31824027e+06, 7.50000000e+01],\n",
       "       [0.00000000e+00, 1.00000000e+00, 4.33836138e+06, 2.00000000e+00],\n",
       "       [8.00000000e+00, 2.00000000e+01, 4.33878788e+06, 2.00000000e+00],\n",
       "       [1.20000000e+01, 2.10000000e+01, 4.33914021e+06, 2.00000000e+00],\n",
       "       [1.00000000e+01, 1.90000000e+01, 4.33967883e+06, 2.00000000e+00],\n",
       "       [1.10000000e+01, 1.60000000e+01, 4.33996899e+06, 2.00000000e+00],\n",
       "       [2.00000000e+00, 1.74000000e+02, 4.34022491e+06, 3.00000000e+00],\n",
       "       [4.00000000e+00, 7.00000000e+00, 4.34061368e+06, 2.00000000e+00],\n",
       "       [1.30000000e+01, 1.76000000e+02, 4.34067280e+06, 3.00000000e+00],\n",
       "       [5.00000000e+00, 1.70000000e+01, 4.34081355e+06, 2.00000000e+00],\n",
       "       [9.00000000e+00, 1.81000000e+02, 4.34152954e+06, 4.00000000e+00],\n",
       "       [1.40000000e+01, 1.50000000e+01, 4.34168285e+06, 2.00000000e+00],\n",
       "       [1.80000000e+01, 2.40000000e+01, 4.34182812e+06, 2.00000000e+00],\n",
       "       [1.75000000e+02, 1.79000000e+02, 4.34392462e+06, 5.00000000e+00],\n",
       "       [1.77000000e+02, 1.85000000e+02, 4.34415069e+06, 4.00000000e+00],\n",
       "       [2.20000000e+01, 1.78000000e+02, 4.34416554e+06, 3.00000000e+00],\n",
       "       [3.00000000e+00, 1.80000000e+02, 4.34433354e+06, 3.00000000e+00],\n",
       "       [1.82000000e+02, 1.84000000e+02, 4.34452247e+06, 4.00000000e+00],\n",
       "       [2.30000000e+01, 1.86000000e+02, 4.34520966e+06, 6.00000000e+00],\n",
       "       [1.83000000e+02, 1.88000000e+02, 4.34530047e+06, 7.00000000e+00],\n",
       "       [1.89000000e+02, 1.91000000e+02, 4.34574556e+06, 9.00000000e+00],\n",
       "       [1.87000000e+02, 1.90000000e+02, 4.34607006e+06, 8.00000000e+00],\n",
       "       [1.92000000e+02, 1.93000000e+02, 4.34626054e+06, 1.60000000e+01],\n",
       "       [6.00000000e+00, 1.94000000e+02, 4.34629233e+06, 9.00000000e+00],\n",
       "       [1.95000000e+02, 1.96000000e+02, 4.34667625e+06, 2.50000000e+01],\n",
       "       [1.73000000e+02, 1.97000000e+02, 5.20545907e+06, 1.00000000e+02]])"
      ]
     },
     "execution_count": 63,
     "metadata": {},
     "output_type": "execute_result"
    }
   ],
   "source": [
    "linkage_matrix1"
   ]
  },
  {
   "cell_type": "code",
   "execution_count": 37,
   "id": "397d19f6",
   "metadata": {},
   "outputs": [
    {
     "data": {
      "image/png": "[encoded data removed]",
      "text/plain": [
       "<Figure size 216x432 with 1 Axes>"
      ]
     },
     "metadata": {
      "needs_background": "light"
     },
     "output_type": "display_data"
    }
   ],
   "source": [
    "ax_dict = plt.figure(constrained_layout=True,\n",
    "                     figsize=(3, 6)).subplot_mosaic(\"A\")\n",
    "\n",
    "dendrogram(linkage_matrix,labels=labelList,ax=ax_dict['A'],leaf_rotation=0,orientation='right',color_threshold=Th,above_threshold_color='k',leaf_font_size=10)\n",
    "CM=fcluster(linkage_matrix, t=Th, criterion='distance')\n",
    "cmap = build_colormap(MiscPalette.TONKA, True)\n",
    "cmap1 = cmap(np.linspace(0, 1, np.max(CM)))\n",
    "#cmap1[0]=[46/255., 159/255., 223/255., 1.]\n",
    "cmap1[0]=[0., 175/255., 187/255., 1.]\n",
    "#cmap1[1]=[231/255.,184/255.,0.,1.]\n",
    "cmap1[1]=[252/255., 78/255., 7/255., 1.]\n",
    "hierarchy.set_link_color_palette([mpl.colors.rgb2hex(rgb[:3]) for rgb in cmap1])\n",
    "cont=0\n",
    "ax_dict['A'].axvline(x = Th, color = '#ED2939', linestyle = '--')\n",
    "ax_dict['A'].set_xscale('linear')\n",
    "tmin=linkage_matrix[::, 2][0]-0.2*linkage_matrix[::, 2][0]\n",
    "tmax=linkage_matrix[::, 2][-1]+0.1*linkage_matrix[::, 2][-1]\n",
    "ax_dict['A'].set_xlim(tmin,tmax)\n",
    "ax_dict['A'].set_xlabel(r'$\\mathcal{D}/\\mathcal{D}_{max}$')\n",
    "ax_dict['A'].set_ylabel('Node index')\n",
    "ax_dict['A'].set_xscale('log')\n",
    "ax_dict['A'].set_xticks([1e-4,1e-2,1e0])\n",
    "\n",
    "\n",
    "plt.show()"
   ]
  },
  {
   "cell_type": "code",
   "execution_count": null,
   "id": "a02744ac",
   "metadata": {},
   "outputs": [],
   "source": []
  }
 ],
 "metadata": {
  "kernelspec": {
   "display_name": "Python 3 (ipykernel)",
   "language": "python",
   "name": "python3"
  },
  "language_info": {
   "codemirror_mode": {
    "name": "ipython",
    "version": 3
   },
   "file_extension": ".py",
   "mimetype": "text/x-python",
   "name": "python",
   "nbconvert_exporter": "python",
   "pygments_lexer": "ipython3",
   "version": "3.10.9"
  }
 },
 "nbformat": 4,
 "nbformat_minor": 5
}
